{
 "cells": [
  {
   "cell_type": "code",
   "execution_count": null,
   "metadata": {},
   "outputs": [],
   "source": [
    "# pip install langchain qdrant_client openai streamlit"
   ]
  },
  {
   "cell_type": "code",
   "execution_count": null,
   "metadata": {},
   "outputs": [],
   "source": [
    "### DO NOT RUN ALL ###"
   ]
  },
  {
   "cell_type": "code",
   "execution_count": null,
   "metadata": {},
   "outputs": [],
   "source": [
    "### these are functions to run individually as needed to modify the Qdrant collections!! the py. files are to run the script ###"
   ]
  },
  {
   "cell_type": "code",
   "execution_count": 1,
   "metadata": {},
   "outputs": [],
   "source": [
    "from dotenv import load_dotenv\n",
    "import streamlit as st"
   ]
  },
  {
   "cell_type": "code",
   "execution_count": 2,
   "metadata": {},
   "outputs": [],
   "source": [
    "# Imports\n",
    "from langchain.vectorstores import Qdrant\n",
    "from langchain.embeddings.openai import OpenAIEmbeddings\n",
    "from langchain.chains import RetrievalQA\n",
    "from langchain.llms import OpenAI\n",
    "from qdrant_client import QdrantClient, models\n",
    "import os\n",
    "import qdrant_client\n"
   ]
  },
  {
   "cell_type": "code",
   "execution_count": 3,
   "metadata": {},
   "outputs": [],
   "source": [
    "# create qdrant client\n",
    "client = qdrant_client.QdrantClient(\n",
    "        st.secrets[\"QDRANT_HOST\"], \n",
    "        api_key=st.secrets[\"QDRANT_API_KEY\"]\n",
    "    )"
   ]
  },
  {
   "cell_type": "code",
   "execution_count": 5,
   "metadata": {},
   "outputs": [
    {
     "data": {
      "text/plain": [
       "True"
      ]
     },
     "execution_count": 5,
     "metadata": {},
     "output_type": "execute_result"
    }
   ],
   "source": [
    "# delete collection\n",
    "\n",
    "client.delete_collection(collection_name=st.secrets[\"QDRANT_COLLECTION_NAME\"])"
   ]
  },
  {
   "cell_type": "code",
   "execution_count": 6,
   "metadata": {},
   "outputs": [
    {
     "data": {
      "text/plain": [
       "True"
      ]
     },
     "execution_count": 6,
     "metadata": {},
     "output_type": "execute_result"
    }
   ],
   "source": [
    "# create collection\n",
    "\n",
    "# define parameters for vectors\n",
    "vectors_config = models.VectorParams(\n",
    "    size=1536, # vector size for OpenAI\n",
    "    distance=models.Distance.COSINE\n",
    ")\n",
    "\n",
    "# create collection\n",
    "client.recreate_collection(\n",
    "    collection_name=st.secrets[\"QDRANT_COLLECTION_NAME\"],\n",
    "    vectors_config=vectors_config,\n",
    ")"
   ]
  },
  {
   "cell_type": "code",
   "execution_count": 7,
   "metadata": {},
   "outputs": [
    {
     "name": "stderr",
     "output_type": "stream",
     "text": [
      "c:\\Users\\derek\\anaconda3\\Lib\\site-packages\\langchain_core\\_api\\deprecation.py:117: LangChainDeprecationWarning: The class `langchain_community.embeddings.openai.OpenAIEmbeddings` was deprecated in langchain-community 0.0.9 and will be removed in 0.2.0. An updated version of the class exists in the langchain-openai package and should be used instead. To use it run `pip install -U langchain-openai` and import as `from langchain_openai import OpenAIEmbeddings`.\n",
      "  warn_deprecated(\n"
     ]
    }
   ],
   "source": [
    "# create vector store\n",
    "\n",
    "embeddings = OpenAIEmbeddings()\n",
    "\n",
    "# get collection name\n",
    "vector_store = Qdrant(\n",
    "    client=client, \n",
    "    collection_name=st.secrets(\"QDRANT_COLLECTION_NAME\"), \n",
    "    embeddings=embeddings,\n",
    ")"
   ]
  },
  {
   "cell_type": "code",
   "execution_count": null,
   "metadata": {},
   "outputs": [],
   "source": [
    "# # add 'extracted text' to vector store\n",
    "\n",
    "# from langchain_text_splitters import RecursiveCharacterTextSplitter\n",
    "\n",
    "# def get_text_chunks(text):\n",
    "    \n",
    "#     text_splitter = RecursiveCharacterTextSplitter(\n",
    "#         chunk_size=1000,\n",
    "#         chunk_overlap=200,\n",
    "#         length_function=len,\n",
    "#         is_separator_regex=False,\n",
    "#     )\n",
    "     \n",
    "#     chunks = text_splitter.split_text(text)\n",
    "#     return chunks\n",
    "\n",
    "# with open('combined_markdown_and_code.txt') as f:\n",
    "#     raw_text = f.read()\n",
    "    \n",
    "# texts = get_text_chunks(raw_text)\n",
    "\n",
    "# metadatas = [{\"name\": raw_text} for _ in texts]\n",
    "# vector_store.add_texts(texts, metadatas=metadatas)"
   ]
  },
  {
   "cell_type": "code",
   "execution_count": 8,
   "metadata": {},
   "outputs": [],
   "source": [
    "from langchain_community.document_loaders import PyPDFLoader\n",
    "# add 'extracted pdf' to vector store\n",
    "\n",
    "from langchain_text_splitters import RecursiveCharacterTextSplitter\n",
    "\n",
    "def get_pdf_chunks(pdf_filepath):\n",
    "    loader = PyPDFLoader(pdf_filepath)\n",
    "    text_splitter = RecursiveCharacterTextSplitter(\n",
    "        chunk_size=1000,\n",
    "        chunk_overlap=200,\n",
    "    )\n",
    "     \n",
    "    chunks = text_splitter.split_text(pdf_filepath)\n",
    "    return chunks\n",
    "\n",
    "\n",
    "slides_filepath = 'Slides'\n",
    "for slide in os.listdir(slides_filepath):\n",
    "    slide_path = os.path.join(slides_filepath, slide)\n",
    "    texts = get_pdf_chunks(slide_path)\n",
    "    metadatas = [{\"name\": slide} for _ in texts]\n",
    "    vector_store.add_texts(texts, metadatas=metadatas)\n",
    "    \n"
   ]
  },
  {
   "cell_type": "code",
   "execution_count": 9,
   "metadata": {},
   "outputs": [],
   "source": [
    "# add transcipts to vector store\n",
    "\n",
    "from langchain_text_splitters import RecursiveCharacterTextSplitter\n",
    "\n",
    "def get_text_chunks(text_filepath):\n",
    "    \n",
    "    text_splitter = RecursiveCharacterTextSplitter(\n",
    "        chunk_size=1000,\n",
    "        chunk_overlap=200,\n",
    "        length_function=len,\n",
    "        is_separator_regex=False,\n",
    "    )\n",
    "    chunks = text_splitter.split_text(text_filepath)\n",
    "    return chunks\n",
    "\n",
    "\n",
    "transcripts_filepath = 'Transcripts'\n",
    "for transcript in os.listdir(transcripts_filepath):\n",
    "    texts = get_text_chunks(transcript)\n",
    "    metadatas = [{\"name\": transcript} for _ in texts]\n",
    "    vector_store.add_texts(texts, metadatas=metadatas)\n",
    "    \n"
   ]
  },
  {
   "cell_type": "code",
   "execution_count": 10,
   "metadata": {},
   "outputs": [],
   "source": [
    "# add output folder containing Activities to vector store\n",
    "\n",
    "from langchain_text_splitters import RecursiveCharacterTextSplitter\n",
    "\n",
    "def get_text_chunks(text_filepath):\n",
    "    \n",
    "    text_splitter = RecursiveCharacterTextSplitter(\n",
    "        chunk_size=1000,\n",
    "        chunk_overlap=200,\n",
    "        length_function=len,\n",
    "        is_separator_regex=False,\n",
    "    )\n",
    "    chunks = text_splitter.split_text(text_filepath)\n",
    "    return chunks\n",
    "\n",
    "\n",
    "transcripts_filepath = 'Output'\n",
    "for transcript in os.listdir(transcripts_filepath):\n",
    "    texts = get_text_chunks(transcript)\n",
    "    metadatas = [{\"name\": transcript} for _ in texts]\n",
    "    vector_store.add_texts(texts, metadatas=metadatas)"
   ]
  }
 ],
 "metadata": {
  "kernelspec": {
   "display_name": "base",
   "language": "python",
   "name": "python3"
  },
  "language_info": {
   "codemirror_mode": {
    "name": "ipython",
    "version": 3
   },
   "file_extension": ".py",
   "mimetype": "text/x-python",
   "name": "python",
   "nbconvert_exporter": "python",
   "pygments_lexer": "ipython3",
   "version": "3.11.4"
  }
 },
 "nbformat": 4,
 "nbformat_minor": 2
}
