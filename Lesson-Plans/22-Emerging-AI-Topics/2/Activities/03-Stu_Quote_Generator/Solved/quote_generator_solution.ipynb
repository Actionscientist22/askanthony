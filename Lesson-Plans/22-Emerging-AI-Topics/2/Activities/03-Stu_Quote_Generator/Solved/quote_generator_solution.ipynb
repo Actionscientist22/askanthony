{
 "cells": [
  {
   "cell_type": "code",
   "execution_count": 1,
   "metadata": {},
   "outputs": [],
   "source": [
    "# Imports for loading environment variables.\n",
    "from dotenv import load_dotenv\n",
    "import os"
   ]
  },
  {
   "cell_type": "code",
   "execution_count": 2,
   "metadata": {},
   "outputs": [],
   "source": [
    "# Load environment variables.\n",
    "load_dotenv()\n",
    "\n",
    "# Set the model name for our LLMs.\n",
    "OPENAI_MODEL = \"gpt-3.5-turbo\"\n",
    "# Store the API key in a variable.\n",
    "OPENAI_API_KEY = os.getenv(\"OPENAI_API_KEY\")"
   ]
  },
  {
   "cell_type": "code",
   "execution_count": 3,
   "metadata": {},
   "outputs": [],
   "source": [
    "# Additional imports for the chain and templates.\n",
    "from langchain_openai import ChatOpenAI\n",
    "from langchain import PromptTemplate, FewShotPromptTemplate\n",
    "from langchain.chains import LLMChain"
   ]
  },
  {
   "cell_type": "code",
   "execution_count": 4,
   "metadata": {},
   "outputs": [],
   "source": [
    "# Initialize the model.\n",
    "llm=ChatOpenAI(openai_api_key=OPENAI_API_KEY, model_name=OPENAI_MODEL, temperature=0.7)"
   ]
  },
  {
   "cell_type": "code",
   "execution_count": 5,
   "metadata": {},
   "outputs": [],
   "source": [
    "# Create examples.\n",
    "examples = [\n",
    "    {\n",
    "        \"topic\": \"imagination\",\n",
    "        \"quote\": \"As great scientists have said and as all children know, it is above all by the imagination that we achieve perception, and compassion, and hope.\"\n",
    "    }, {\n",
    "        \"topic\": \"love\",\n",
    "        \"quote\": \"Love doesn't just sit there, like a stone; it has to be made, like bread, remade all the time, made new.\"\n",
    "    }, {\n",
    "        \"topic\": \"uncertainty\",\n",
    "        \"quote\": \"The only thing that makes life possible is permanent, intolerable uncertainty; not knowing what comes next.\"\n",
    "    }, {\n",
    "        \"topic\": \"books\",\n",
    "        \"quote\": \"We read books to find out who we are. What other people, real or imaginary, do and think and feel... is an essential guide to our understanding of what we ourselves are and may become.\"\n",
    "    }, {\n",
    "        \"topic\": \"revolution\",\n",
    "        \"quote\": \"You cannot buy the revolution. You cannot make the revolution. You can only be the revolution. It is in your spirit, or it is nowhere.\"\n",
    "    }, {\n",
    "        \"topic\": \"questions\",\n",
    "        \"quote\": \"To learn which questions are unanswerable, and not to answer them: this skill is most needful in times of stress and darkness.\"\n",
    "    }\n",
    "]"
   ]
  },
  {
   "cell_type": "code",
   "execution_count": 6,
   "metadata": {},
   "outputs": [],
   "source": [
    "# Define a format for the examples.\n",
    "example_format = \"\"\"\n",
    "Human: {topic}\n",
    "AI: {quote}\n",
    "\"\"\""
   ]
  },
  {
   "cell_type": "code",
   "execution_count": 7,
   "metadata": {},
   "outputs": [],
   "source": [
    "# Create a prompt template for the examples.\n",
    "example_template = PromptTemplate(\n",
    "    input_variables=[\"topic\", \"quote\"],\n",
    "    template=example_format\n",
    ")"
   ]
  },
  {
   "cell_type": "code",
   "execution_count": 8,
   "metadata": {},
   "outputs": [],
   "source": [
    "# Define a prefix that explains the prompt.\n",
    "prefix = \"\"\"\n",
    "Generate quotes on the topic mentioned by the human,\n",
    "trying to match the style of the examples given below:\n",
    "\"\"\""
   ]
  },
  {
   "cell_type": "code",
   "execution_count": 9,
   "metadata": {},
   "outputs": [],
   "source": [
    "# Provide a suffix that includes the query.\n",
    "suffix = \"\"\"\n",
    "Human: {query}\n",
    "AI: \n",
    "\"\"\""
   ]
  },
  {
   "cell_type": "code",
   "execution_count": 10,
   "metadata": {},
   "outputs": [],
   "source": [
    "# Construct the few shot prompt template.\n",
    "prompt_template = FewShotPromptTemplate(\n",
    "    examples=examples,\n",
    "    example_prompt=example_template,\n",
    "    input_variables=[\"query\"],\n",
    "    prefix=prefix,\n",
    "    suffix=suffix,\n",
    "    example_separator=\"\\n\\n\"\n",
    ")"
   ]
  },
  {
   "cell_type": "code",
   "execution_count": 11,
   "metadata": {},
   "outputs": [],
   "source": [
    "# Construct a chain using this template.\n",
    "chain = LLMChain(llm=llm, prompt=prompt_template, verbose=True)"
   ]
  },
  {
   "cell_type": "code",
   "execution_count": 12,
   "metadata": {},
   "outputs": [
    {
     "name": "stdout",
     "output_type": "stream",
     "text": [
      "\n"
     ]
    }
   ],
   "source": [
    "# Prompt the user for a topic.\n",
    "topic = input(\"What topic would you like to create a fictional quote for?\")\n",
    "\n",
    "print()"
   ]
  },
  {
   "cell_type": "code",
   "execution_count": 13,
   "metadata": {},
   "outputs": [],
   "source": [
    "# Define the query as a dictionary.\n",
    "query = {\"query\": topic}"
   ]
  },
  {
   "cell_type": "code",
   "execution_count": 14,
   "metadata": {},
   "outputs": [
    {
     "name": "stdout",
     "output_type": "stream",
     "text": [
      "\n",
      "\n",
      "\u001b[1m> Entering new LLMChain chain...\u001b[0m\n",
      "Prompt after formatting:\n",
      "\u001b[32;1m\u001b[1;3m\n",
      "Generate quotes on the topic mentioned by the human,\n",
      "trying to match the style of the examples given below:\n",
      "\n",
      "\n",
      "\n",
      "Human: imagination\n",
      "AI: As great scientists have said and as all children know, it is above all by the imagination that we achieve perception, and compassion, and hope.\n",
      "\n",
      "\n",
      "\n",
      "Human: love\n",
      "AI: Love doesn't just sit there, like a stone; it has to be made, like bread, remade all the time, made new.\n",
      "\n",
      "\n",
      "\n",
      "Human: uncertainty\n",
      "AI: The only thing that makes life possible is permanent, intolerable uncertainty; not knowing what comes next.\n",
      "\n",
      "\n",
      "\n",
      "Human: books\n",
      "AI: We read books to find out who we are. What other people, real or imaginary, do and think and feel... is an essential guide to our understanding of what we ourselves are and may become.\n",
      "\n",
      "\n",
      "\n",
      "Human: revolution\n",
      "AI: You cannot buy the revolution. You cannot make the revolution. You can only be the revolution. It is in your spirit, or it is nowhere.\n",
      "\n",
      "\n",
      "\n",
      "Human: questions\n",
      "AI: To learn which questions are unanswerable, and not to answer them: this skill is most needful in times of stress and darkness.\n",
      "\n",
      "\n",
      "\n",
      "Human: absolute certainty\n",
      "AI: \n",
      "\u001b[0m\n",
      "\n",
      "\u001b[1m> Finished chain.\u001b[0m\n",
      "Absolute certainty is the enemy of growth and progress. It is in the realm of uncertainty that we discover new horizons and unlock the mysteries of life.\n"
     ]
    }
   ],
   "source": [
    "# Run the chain using the query as input and print the result.\n",
    "result = chain.invoke(query)\n",
    "print(result[\"text\"])"
   ]
  }
 ],
 "metadata": {
  "kernelspec": {
   "display_name": "Python 3",
   "language": "python",
   "name": "python3"
  },
  "language_info": {
   "codemirror_mode": {
    "name": "ipython",
    "version": 3
   },
   "file_extension": ".py",
   "mimetype": "text/x-python",
   "name": "python",
   "nbconvert_exporter": "python",
   "pygments_lexer": "ipython3",
   "version": "3.10.12"
  }
 },
 "nbformat": 4,
 "nbformat_minor": 2
}
