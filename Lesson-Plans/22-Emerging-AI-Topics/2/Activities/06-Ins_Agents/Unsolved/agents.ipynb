{
 "cells": [
  {
   "cell_type": "code",
   "execution_count": 1,
   "metadata": {},
   "outputs": [],
   "source": [
    "from langchain_openai import ChatOpenAI\n",
    "from dotenv import load_dotenv\n",
    "import os"
   ]
  },
  {
   "cell_type": "markdown",
   "metadata": {},
   "source": [
    "# Model and API Key"
   ]
  },
  {
   "cell_type": "code",
   "execution_count": 2,
   "metadata": {},
   "outputs": [],
   "source": [
    "# Load environment variables.\n",
    "load_dotenv()\n",
    "\n",
    "# Set the model name for our LLMs.\n",
    "OPENAI_MODEL = \"gpt-3.5-turbo\"\n",
    "# Store the API key in a variable.\n",
    "OPENAI_API_KEY = os.getenv(\"OPENAI_API_KEY\")"
   ]
  },
  {
   "cell_type": "markdown",
   "metadata": {},
   "source": [
    "# Agents & Tools"
   ]
  },
  {
   "cell_type": "code",
   "execution_count": 3,
   "metadata": {},
   "outputs": [],
   "source": [
    "# Additional imports for agent with built-in tools.\n"
   ]
  },
  {
   "cell_type": "code",
   "execution_count": 4,
   "metadata": {},
   "outputs": [
    {
     "name": "stderr",
     "output_type": "stream",
     "text": [
      "/Users/slemons/anaconda3/envs/dev/lib/python3.10/site-packages/langchain_core/_api/deprecation.py:117: LangChainDeprecationWarning: The function `initialize_agent` was deprecated in LangChain 0.1.0 and will be removed in 0.2.0. Use Use new agent constructor methods like create_react_agent, create_json_agent, create_structured_chat_agent, etc. instead.\n",
      "  warn_deprecated(\n",
      "/Users/slemons/anaconda3/envs/dev/lib/python3.10/site-packages/langchain_core/_api/deprecation.py:117: LangChainDeprecationWarning: The function `run` was deprecated in LangChain 0.1.0 and will be removed in 0.2.0. Use invoke instead.\n",
      "  warn_deprecated(\n"
     ]
    },
    {
     "name": "stdout",
     "output_type": "stream",
     "text": [
      "\n",
      "\n",
      "\u001b[1m> Entering new AgentExecutor chain...\u001b[0m\n",
      "\u001b[32;1m\u001b[1;3mThought: I can use Wikipedia to find information about the mayor of the capital of Canada.\n",
      "\n",
      "Action:\n",
      "```\n",
      "{\n",
      "  \"action\": \"Wikipedia\",\n",
      "  \"action_input\": \"Mayor of Ottawa\"\n",
      "}\n",
      "```\u001b[0m\n",
      "Observation: \u001b[36;1m\u001b[1;3mPage: Mayor of Ottawa\n",
      "Summary: The mayor of Ottawa is head of the executive branch of the Ottawa City Council. The mayor is elected alongside the city council every four years on the fourth Monday of October; there are no term limits. While in office, mayors are styled His/Her Worship. \n",
      "Mark Sutcliffe has served as the 59th and current mayor of Ottawa since taking office on November 15, 2022, following the 2022 municipal election.\n",
      "\n",
      "Page: Ottawa\n",
      "Summary: Ottawa ( , ; Canadian French: [ɔtawɑ]) is the capital city of Canada. It is located in the southern portion  of the province of Ontario, at the confluence of the Ottawa River and the Rideau River. Ottawa borders Gatineau, Quebec, and forms the core of the Ottawa–Gatineau census metropolitan area (CMA) and the National Capital Region (NCR). As of 2021, Ottawa had a city population of 1,017,449 and a metropolitan population of 1,488,307, making it the fourth-largest city and fourth-largest metropolitan area in Canada.\n",
      "Ottawa is the political centre of Canada and the headquarters of the federal government. The city houses numerous foreign embassies, key buildings, organizations, and institutions of Canada's government; these include the Parliament of Canada, the Supreme Court, the residence of Canada's viceroy, and Office of the Prime Minister.Founded in 1826 as Bytown, and incorporated as Ottawa in 1855, its original boundaries were expanded through numerous annexations and were ultimately replaced by a new city incorporation and amalgamation in 2001. The municipal government of Ottawa is established and governed by the City of Ottawa Act of the Government of Ontario. It has an elected city council across 24 wards and a mayor elected city-wide.\n",
      "Ottawa has the highest proportion of university-educated residents among Canadian cities and is home to several colleges and universities, research and cultural institutions, including the University of Ottawa, Carleton University, Algonquin College, the National Arts Centre, the National Gallery of Canada; and numerous national museums, monuments, and historic sites. It is one of the most visited cities in Canada, with over 11 million visitors annually contributing more than $2.2B to the city's economy.\n",
      "\n",
      "Page: List of mayors of Ottawa\n",
      "Summary: The following is a list of mayors of Ottawa. Until 1854, Ottawa was known as Bytown. Over the course of Ottawa's history, the borders of the municipality have greatly expanded through annexations. This most recently occurred in 2001 when a number of neighbouring communities were amalgamated with Ottawa.\u001b[0m\n",
      "Thought:\u001b[32;1m\u001b[1;3mThe current mayor of Ottawa is Mark Sutcliffe. However, I couldn't find any information about his age on Wikipedia. I will need to find another source to determine his age.\n",
      "Thought: I can search for Mark Sutcliffe's age on the internet.\n",
      "Action:\n",
      "```\n",
      "{\n",
      "  \"action\": \"Wikipedia\",\n",
      "  \"action_input\": \"Mark Sutcliffe\"\n",
      "}\n",
      "```\n",
      "\u001b[0m"
     ]
    },
    {
     "name": "stderr",
     "output_type": "stream",
     "text": [
      "/Users/slemons/anaconda3/envs/dev/lib/python3.10/site-packages/wikipedia/wikipedia.py:389: GuessedAtParserWarning: No parser was explicitly specified, so I'm using the best available HTML parser for this system (\"lxml\"). This usually isn't a problem, but if you run this code on another system, or in a different virtual environment, it may use a different parser and behave differently.\n",
      "\n",
      "The code that caused this warning is on line 389 of the file /Users/slemons/anaconda3/envs/dev/lib/python3.10/site-packages/wikipedia/wikipedia.py. To get rid of this warning, pass the additional argument 'features=\"lxml\"' to the BeautifulSoup constructor.\n",
      "\n",
      "  lis = BeautifulSoup(html).find_all('li')\n"
     ]
    },
    {
     "name": "stdout",
     "output_type": "stream",
     "text": [
      "\n",
      "Observation: \u001b[36;1m\u001b[1;3mPage: Mark Sutcliffe\n",
      "Summary: Mark Sutcliffe (born July 14, 1968) is a Canadian politician who has been the 59th mayor of Ottawa since 2022. Before entering politics, he hosted Ottawa Today on 1310News radio. Sutcliffe is the first Chinese Canadian and person from a visible minority group to serve as mayor of Ottawa.\n",
      "\n",
      "Page: Peter Sutcliffe\n",
      "Summary: Peter William Sutcliffe (2 June 1946 – 13 November 2020), also known as Peter Coonan, was an English serial killer who was convicted of murdering thirteen women and attempting to murder seven others between 1975 and 1980.: 144  He was dubbed in press reports as the Yorkshire Ripper, an allusion to the Victorian serial killer Jack the Ripper. He was sentenced to twenty concurrent sentences of life imprisonment, which were converted to a whole life order in 2010. Two of Sutcliffe's murders took place in Manchester; all the others were in West Yorkshire. Criminal psychologist Dr. David Holmes characterised Sutcliffe as being an \"extremely callous, sexually sadistic serial killer.\"Sutcliffe initially attacked women and girls in residential areas, but appears to have shifted his focus to red-light districts because he was attracted by the vulnerability of prostitutes and the perceived ambivalent attitude of police to prostitutes' safety. After his arrest in Sheffield by South Yorkshire Police for driving with false number plates in January 1981, he was transferred to the custody of West Yorkshire Police, who questioned him about the killings. Sutcliffe confessed to being the perpetrator, saying that the voice of God had sent him on a mission to kill prostitutes. At his trial he pleaded not guilty to murder on grounds of diminished responsibility, but he was convicted of murder on a majority verdict. Following his conviction, Sutcliffe began using his mother's maiden name of Coonan.\n",
      "The search for Sutcliffe was one of the largest and most expensive manhunts in British history. West Yorkshire Police faced heavy and sustained criticism for their failure to catch him despite having interviewed him nine times in the course of their five-year investigation. Owing to the sensational nature of the case, the police handled an exceptional amount of information, some of it misleading including hoax correspondence purporting to be from the \"Ripper\". Following Sutcliffe's conviction, the government ordered a review of the investigation, conducted by the Inspector of Constabulary Lawrence Byford, known as the \"Byford Report\". The findings were made fully public in 2006, and confirmed the validity of the criticism of the force. The report led to changes to investigative procedures that were adopted across UK police forces. Since his conviction, Sutcliffe has been linked to a number of other unsolved murders and attacks.\n",
      "Sutcliffe was transferred from prison to Broadmoor Hospital in March 1984 after being diagnosed with paranoid schizophrenia. The High Court dismissed an appeal by Sutcliffe in 2010, confirming that he would serve a whole life order and never be released from custody. In August 2016, it was ruled that he was mentally fit to be returned to prison, and he was transferred that month to HM Prison Frankland in County Durham. Sutcliffe died in hospital from diabetes-related complications, while in prison custody in 2020, aged 74.\n",
      "\n",
      "\u001b[0m\n",
      "Thought:\u001b[32;1m\u001b[1;3mMark Sutcliffe, the current mayor of Ottawa, was born on July 14, 1968. \n",
      "\n",
      "Final Answer: The age of the mayor of the capital of Canada is 54.\u001b[0m\n",
      "\n",
      "\u001b[1m> Finished chain.\u001b[0m\n",
      "The age of the mayor of the capital of Canada is 54.\n"
     ]
    }
   ],
   "source": [
    "# Initialize the model.\n",
    "\n",
    "\n",
    "# Set up the built-in wikipedia tool.\n",
    "\n",
    "\n",
    "# Initialize the agent.\n",
    "\n",
    "\n",
    "# Define a query as a string inside a dictionary.\n",
    "\n",
    "\n",
    "# Run the agent using the query.\n"
   ]
  },
  {
   "cell_type": "markdown",
   "metadata": {},
   "source": [
    "# Agent with Multiple Tools"
   ]
  },
  {
   "cell_type": "code",
   "execution_count": 5,
   "metadata": {},
   "outputs": [],
   "source": [
    "# Additional imports for agent with built-in tools.\n"
   ]
  },
  {
   "cell_type": "code",
   "execution_count": 7,
   "metadata": {},
   "outputs": [
    {
     "name": "stdout",
     "output_type": "stream",
     "text": [
      "\n",
      "\n",
      "\u001b[1m> Entering new AgentExecutor chain...\u001b[0m\n",
      "\u001b[32;1m\u001b[1;3mI need to find out the city where penicillin was first isolated before I can fetch the current weather information.\n",
      "Action: Wikipedia\n",
      "Action Input: \"penicillin\"\u001b[0m\n",
      "Observation: \u001b[36;1m\u001b[1;3mPage: Penicillin\n",
      "Summary: Penicillins (P, PCN or PEN) are a group of β-lactam antibiotics originally obtained from Penicillium moulds, principally P. chrysogenum and P. rubens. Most penicillins in clinical use are synthesised by P. chrysogenum using deep tank fermentation and then purified. A number of natural penicillins have been discovered, but only two purified compounds are in clinical use: penicillin G (intramuscular or intravenous use) and penicillin V (given by mouth). Penicillins were among the first medications to be effective against many bacterial infections caused by staphylococci and streptococci. They are still widely used today for different bacterial infections, though many types of bacteria have developed resistance following extensive use.\n",
      "Ten percent of the population claims penicillin allergies but because the frequency of positive skin test results decreases by 10% with each year of avoidance, 90% of these patients can eventually tolerate penicillin. Additionally, those with penicillin allergies can usually tolerate cephalosporins (another group of β-lactam) because the immunoglobulin E (IgE) cross-reactivity is only 3%.Penicillin was discovered in 1928 by Scottish scientist Alexander Fleming as a crude extract of P. rubens. Fleming's student Cecil George Paine was the first to successfully use penicillin to treat eye infection (neonatal conjunctivitis) in 1930. The purified compound (penicillin F) was isolated in 1940 by a research team led by Howard Florey and Ernst Boris Chain at the University of Oxford. Fleming first used the purified penicillin to treat streptococcal meningitis in 1942. The 1945 Nobel Prize in Physiology or Medicine was shared by Chain, Fleming, and Florey.\n",
      "Several semisynthetic penicillins are effective against a broader spectrum of bacteria: these include the antistaphylococcal penicillins, aminopenicillins, and antipseudomonal penicillins.\n",
      "\n",
      "\n",
      "\n",
      "Page: History of penicillin\n",
      "Summary: The history of penicillin follows observations and discoveries of evidence of antibiotic activity of the mould Penicillium that led to the development of penicillins that became the first widely used antibiotics. Following the production of a relatively pure compound in 1942, penicillin was the first naturally-derived antibiotic.\n",
      "Ancient societies used moulds to treat infections, and in the following centuries many people observed the inhibition of bacterial growth by moulds. While working at St Mary's Hospital in London in 1928, Scottish physician Alexander Fleming was the first to experimentally determine that a Penicillium mould secretes an antibacterial substance, which he named \"penicillin\". The mould was found to be a variant of Penicillium notatum (now called Penicillium rubens), a contaminant of a bacterial culture in his laboratory. The work on penicillin at St Mary's ended in 1929.\n",
      "In 1939, a team of scientists at the Sir William Dunn School of Pathology at the University of Oxford, led by Howard Florey that included Edward Abraham, Ernst Chain,  Mary Ethel Florey, Norman Heatley and Margaret Jennings, began researching penicillin. They developed a method for cultivating the mould and extracting, purifying and storing penicillin from it, together with an assay for measuring its purity. They carried out experiments with animals to determine penicillin's safety and effectiveness before conducting clinical trials and field tests. They derived its chemical structure and determined how it works. The private sector and the United States Department of Agriculture located and produced new strains and developed mass production techniques. During the Second World War penicillin became an important part of the Allied war effort, saving thousands of lives. Alexander Fleming, Howard Florey and Ernst Chain shared the 1945 Nobel Prize in Physiology or Medicine for the discovery and development of penicillin.\n",
      "After the end of the war in 1945, penicillin became widely available. Dorothy Hodgkin determined its ch\u001b[0m\n",
      "Thought:\u001b[32;1m\u001b[1;3mI have found the information about the discovery of penicillin, but I still need to find out the city where it was first isolated.\n",
      "Action: Wikipedia\n",
      "Action Input: \"penicillin discovery\"\u001b[0m\n",
      "Observation: \u001b[36;1m\u001b[1;3mPage: Discovery of penicillin\n",
      "Summary: Ancient societies used moulds to treat infections, and in the following centuries many people observed the inhibition of bacterial growth by moulds. While working at St Mary's Hospital in London in 1928, Scottish physician Alexander Fleming was the first to experimentally determine that a Penicillium mould secretes an antibacterial substance, which he named \"penicillin\". The mould was found to be a variant of Penicillium notatum (now called Penicillium rubens), a contaminant of a bacterial culture in his laboratory. The work on penicillin at St Mary's ended in 1929.\n",
      "In 1939, a team of scientists at the Sir William Dunn School of Pathology at the University of Oxford, led by Howard Florey that included Edward Abraham, Ernst Chain, Norman Heatley and Margaret Jennings, began researching penicillin. They developed a method for cultivating the mould, and extracting, purifying and storing penicillin from it.  They created an assay for measuring its purity. They carried out experiments with animals to determine penicillin's safety and effectiveness before conducting clinical trials and field tests. They derived its chemical formula and determined how it works. The private sector and the United States Department of Agriculture located and produced new strains and developed mass production techniques. Penicillin became an important part of the Allied war effort in the Second World War, saving the lives of thousands of soldiers. Fleming, Florey and Chain shared the 1945 Nobel Prize in Physiology or Medicine for its discovery and development.\n",
      "\n",
      "\n",
      "\n",
      "Page: Penicillin\n",
      "Summary: Penicillins (P, PCN or PEN) are a group of β-lactam antibiotics originally obtained from Penicillium moulds, principally P. chrysogenum and P. rubens. Most penicillins in clinical use are synthesised by P. chrysogenum using deep tank fermentation and then purified. A number of natural penicillins have been discovered, but only two purified compounds are in clinical use: penicillin G (intramuscular or intravenous use) and penicillin V (given by mouth). Penicillins were among the first medications to be effective against many bacterial infections caused by staphylococci and streptococci. They are still widely used today for different bacterial infections, though many types of bacteria have developed resistance following extensive use.\n",
      "Ten percent of the population claims penicillin allergies but because the frequency of positive skin test results decreases by 10% with each year of avoidance, 90% of these patients can eventually tolerate penicillin. Additionally, those with penicillin allergies can usually tolerate cephalosporins (another group of β-lactam) because the immunoglobulin E (IgE) cross-reactivity is only 3%.Penicillin was discovered in 1928 by Scottish scientist Alexander Fleming as a crude extract of P. rubens. Fleming's student Cecil George Paine was the first to successfully use penicillin to treat eye infection (neonatal conjunctivitis) in 1930. The purified compound (penicillin F) was isolated in 1940 by a research team led by Howard Florey and Ernst Boris Chain at the University of Oxford. Fleming first used the purified penicillin to treat streptococcal meningitis in 1942. The 1945 Nobel Prize in Physiology or Medicine was shared by Chain, Fleming, and Florey.\n",
      "Several semisynthetic penicillins are effective against a broader spectrum of bacteria: these include the antistaphylococcal penicillins, aminopenicillins, and antipseudomonal penicillins.\n",
      "\n",
      "\n",
      "\n",
      "Page: History of penicillin\n",
      "Summary: The history of penicillin follows observations and discoveries of evidence of antibiotic activity of the mould Penicillium that led to the development of penicillins that became the first widely used antibiotics. Following the production of a relatively pure compound in 1942, penicillin was the first naturally-derived antibiotic.\n",
      "Ancient societies used moulds to treat infections, and in the following centuries many people observed the \u001b[0m\n",
      "Thought:\u001b[32;1m\u001b[1;3mThe city where penicillin was first isolated is London.\n",
      "Action: OpenWeatherMap\n",
      "Action Input: \"London\"\u001b[0m\n",
      "Observation: \u001b[33;1m\u001b[1;3mIn London, the current weather is as follows:\n",
      "Detailed status: clear sky\n",
      "Wind speed: 2.57 m/s, direction: 220°\n",
      "Humidity: 84%\n",
      "Temperature: \n",
      "  - Current: 3.88°C\n",
      "  - High: 5.86°C\n",
      "  - Low: 1.14°C\n",
      "  - Feels like: 1.51°C\n",
      "Rain: {}\n",
      "Heat index: None\n",
      "Cloud cover: 3%\u001b[0m\n",
      "Thought:\u001b[32;1m\u001b[1;3mThe current weather in the city where penicillin was first isolated is a clear sky with a temperature of 3.88°C.\n",
      "Final Answer: The current weather in the city where penicillin was first isolated is a clear sky with a temperature of 3.88°C.\u001b[0m\n",
      "\n",
      "\u001b[1m> Finished chain.\u001b[0m\n",
      "The current weather in the city where penicillin was first isolated is a clear sky with a temperature of 3.88°C.\n"
     ]
    }
   ],
   "source": [
    "# Initialize the model.\n",
    "\n",
    "\n",
    "# Set up the built-in wikipedia and open weather tools.\n",
    "\n",
    "\n",
    "# Initialize the agent.\n",
    "\n",
    "\n",
    "# Define a query as a string inside a dictionary.\n",
    "\n",
    "\n",
    "# Run the agent using the query.\n"
   ]
  },
  {
   "cell_type": "markdown",
   "metadata": {},
   "source": [
    "# Creating Custom Tools"
   ]
  },
  {
   "cell_type": "code",
   "execution_count": 8,
   "metadata": {},
   "outputs": [],
   "source": [
    "# Additional imports for creating tools.\n"
   ]
  },
  {
   "cell_type": "code",
   "execution_count": 9,
   "metadata": {},
   "outputs": [
    {
     "name": "stdout",
     "output_type": "stream",
     "text": [
      "\n",
      "\n",
      "\u001b[1m> Entering new AgentExecutor chain...\u001b[0m\n",
      "\u001b[32;1m\u001b[1;3mI can use the math_tool to calculate the sum of 22 and 35, and then use the numbers_API to find a fun fact about that number.\n",
      "Action: math_tool\n",
      "Action Input: \"22 + 35\"\u001b[0m\n",
      "\n",
      "\u001b[1m> Entering new LLMMathChain chain...\u001b[0m\n",
      "22 + 35\u001b[32;1m\u001b[1;3m```text\n",
      "22 + 35\n",
      "```\n",
      "...numexpr.evaluate(\"22 + 35\")...\n",
      "\u001b[0m\n",
      "Answer: \u001b[33;1m\u001b[1;3m57\u001b[0m\n",
      "\u001b[1m> Finished chain.\u001b[0m\n",
      "\n",
      "Observation: \u001b[36;1m\u001b[1;3mAnswer: 57\u001b[0m\n",
      "Thought:\u001b[32;1m\u001b[1;3mNow I can use the numbers_API to find a fun fact about the number 57.\n",
      "Action: numbers_API\n",
      "Action Input: \"57\"\u001b[0m\n",
      "\n",
      "\u001b[1m> Entering new APIChain chain...\u001b[0m\n",
      "\u001b[32;1m\u001b[1;3mhttp://numbersapi.com/57\u001b[0m\n",
      "\u001b[33;1m\u001b[1;3m57 is the number of cm that the smallest man measured, Gul Mohammed (1957-1997) of India.\u001b[0m\n",
      "\n",
      "\u001b[1m> Finished chain.\u001b[0m\n",
      "\n",
      "Observation: \u001b[33;1m\u001b[1;3mThe number 57 is the measurement in centimeters of the smallest man, Gul Mohammed, from India.\u001b[0m\n",
      "Thought:\u001b[32;1m\u001b[1;3mI now know the final answer\n",
      "Final Answer: The sum of 22 and 35 is 57, and a fun fact about that number is that it is the measurement in centimeters of the smallest man, Gul Mohammed, from India.\u001b[0m\n",
      "\n",
      "\u001b[1m> Finished chain.\u001b[0m\n",
      "The sum of 22 and 35 is 57, and a fun fact about that number is that it is the measurement in centimeters of the smallest man, Gul Mohammed, from India.\n"
     ]
    }
   ],
   "source": [
    "# Initialize the model.\n",
    "\n",
    "\n",
    "# Text description of API spec.\n",
    "\n",
    "\n",
    "# Create the API chain from the spec, using the LLM.\n",
    "\n",
    "\n",
    "# Define a tool for querying the Numbers API.\n",
    "\n",
    "\n",
    "# Initialize the math chain using the LLM.\n",
    "\n",
    "\n",
    "# Define a tool for doing math.\n",
    "\n",
    "\n",
    "# Store the tools in a list.\n",
    "\n",
    "\n",
    "# Initialize the agent.\n",
    "\n",
    "\n",
    "# Define a query as a string inside a dictionary.\n",
    "\n",
    "\n",
    "# Run the agent using the query.\n"
   ]
  }
 ],
 "metadata": {
  "kernelspec": {
   "display_name": "Python 3",
   "language": "python",
   "name": "python3"
  },
  "language_info": {
   "codemirror_mode": {
    "name": "ipython",
    "version": 3
   },
   "file_extension": ".py",
   "mimetype": "text/x-python",
   "name": "python",
   "nbconvert_exporter": "python",
   "pygments_lexer": "ipython3",
   "version": "3.10.12"
  }
 },
 "nbformat": 4,
 "nbformat_minor": 2
}
