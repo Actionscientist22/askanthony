{
 "cells": [
  {
   "cell_type": "code",
   "execution_count": 1,
   "metadata": {},
   "outputs": [],
   "source": [
    "# Imports for loading environment variables.\n",
    "from dotenv import load_dotenv\n",
    "import os"
   ]
  },
  {
   "cell_type": "code",
   "execution_count": 2,
   "metadata": {},
   "outputs": [],
   "source": [
    "# Load environment variables.\n",
    "load_dotenv()\n",
    "\n",
    "# Set the model name for our LLMs.\n",
    "OPENAI_MODEL = \"gpt-3.5-turbo\"\n",
    "# Store the API key in a variable.\n",
    "OPENAI_API_KEY = os.getenv(\"OPENAI_API_KEY\")"
   ]
  },
  {
   "cell_type": "code",
   "execution_count": 3,
   "metadata": {},
   "outputs": [],
   "source": [
    "# Additional imports for list parser.\n",
    "from langchain_openai import ChatOpenAI\n",
    "from langchain.output_parsers import CommaSeparatedListOutputParser"
   ]
  },
  {
   "cell_type": "code",
   "execution_count": 4,
   "metadata": {},
   "outputs": [],
   "source": [
    "# Initialize the model.\n",
    "llm=ChatOpenAI(openai_api_key=OPENAI_API_KEY, model_name=OPENAI_MODEL, temperature=0.3)"
   ]
  },
  {
   "cell_type": "code",
   "execution_count": 5,
   "metadata": {},
   "outputs": [],
   "source": [
    "# Initialize the output parser.\n",
    "parser = CommaSeparatedListOutputParser()"
   ]
  },
  {
   "cell_type": "code",
   "execution_count": 6,
   "metadata": {},
   "outputs": [],
   "source": [
    "# Get the output format instructions.\n",
    "instructions = parser.get_format_instructions()"
   ]
  },
  {
   "cell_type": "code",
   "execution_count": 7,
   "metadata": {},
   "outputs": [],
   "source": [
    "# Define a query as a string, combining with the instructions.\n",
    "query = \"Please give me the names of three different dinner options using a variety of main ingredients.\" + \"\\n\\n\" + instructions"
   ]
  },
  {
   "cell_type": "code",
   "execution_count": 8,
   "metadata": {},
   "outputs": [],
   "source": [
    "# Pass the query to the invoke method.\n",
    "result = llm.invoke(query)"
   ]
  },
  {
   "cell_type": "code",
   "execution_count": 9,
   "metadata": {},
   "outputs": [],
   "source": [
    "# Parse the result.\n",
    "data = parser.parse(result.content)"
   ]
  },
  {
   "cell_type": "code",
   "execution_count": 10,
   "metadata": {},
   "outputs": [
    {
     "name": "stdout",
     "output_type": "stream",
     "text": [
      "1: Grilled salmon with roasted vegetables\n",
      "2: Spaghetti carbonara with garlic bread\n",
      "3: Chicken stir-fry with rice\n"
     ]
    }
   ],
   "source": [
    "# Display the recipe names for the user.\n",
    "for i in range(len(data)):\n",
    "    print(str(i+1) + \": \" + data[i])"
   ]
  },
  {
   "cell_type": "code",
   "execution_count": 11,
   "metadata": {},
   "outputs": [
    {
     "name": "stdout",
     "output_type": "stream",
     "text": [
      "\n"
     ]
    }
   ],
   "source": [
    "# Prompt the user for a recipe number.\n",
    "num = int(input(\"Please enter the number next to the dish you'd like a recipe for. \"))\n",
    "\n",
    "print()"
   ]
  },
  {
   "cell_type": "code",
   "execution_count": 12,
   "metadata": {},
   "outputs": [],
   "source": [
    "# Get the matching recipe name.\n",
    "name = data[num-1]"
   ]
  },
  {
   "cell_type": "code",
   "execution_count": 13,
   "metadata": {},
   "outputs": [],
   "source": [
    "# Define a query as a string, combining with the recipe name.\n",
    "query = f\"Please give me a full recipe for {name} including ingredients and steps.\""
   ]
  },
  {
   "cell_type": "code",
   "execution_count": 14,
   "metadata": {},
   "outputs": [
    {
     "name": "stdout",
     "output_type": "stream",
     "text": [
      "Sure! Here's a recipe for Spaghetti Carbonara with Garlic Bread:\n",
      "\n",
      "Ingredients for Spaghetti Carbonara:\n",
      "- 8 ounces (225g) spaghetti\n",
      "- 4 slices of bacon, chopped\n",
      "- 2 cloves of garlic, minced\n",
      "- 2 large eggs\n",
      "- 1/2 cup grated Parmesan cheese\n",
      "- Salt and black pepper to taste\n",
      "- Fresh parsley, chopped (optional)\n",
      "\n",
      "Ingredients for Garlic Bread:\n",
      "- 1 loaf of French bread or baguette\n",
      "- 1/2 cup unsalted butter, softened\n",
      "- 4 cloves of garlic, minced\n",
      "- 2 tablespoons fresh parsley, chopped\n",
      "- Salt to taste\n",
      "\n",
      "Instructions for Spaghetti Carbonara:\n",
      "1. Cook the spaghetti according to the package instructions until al dente. Drain and set aside.\n",
      "2. In a large skillet, cook the chopped bacon over medium heat until crispy. Remove the bacon from the skillet and set aside, leaving the bacon fat in the pan.\n",
      "3. In the same skillet, add minced garlic to the bacon fat and cook for about 1 minute until fragrant.\n",
      "4. In a small bowl, whisk together the eggs, grated Parmesan cheese, salt, and black pepper.\n",
      "5. Add the cooked spaghetti to the skillet with the garlic and bacon fat. Toss to coat the spaghetti evenly.\n",
      "6. Remove the skillet from heat and quickly pour in the egg mixture, stirring continuously to coat the spaghetti. The residual heat will cook the eggs, creating a creamy sauce.\n",
      "7. Add the crispy bacon back to the skillet and toss everything together until well combined.\n",
      "8. Serve the spaghetti carbonara immediately, garnished with fresh parsley if desired.\n",
      "\n",
      "Instructions for Garlic Bread:\n",
      "1. Preheat your oven to 375°F (190°C).\n",
      "2. Slice the French bread or baguette in half lengthwise.\n",
      "3. In a small bowl, mix together the softened butter, minced garlic, chopped parsley, and salt.\n",
      "4. Spread the garlic butter mixture evenly over the cut sides of the bread.\n",
      "5. Place the bread on a baking sheet and bake in the preheated oven for about 10-12 minutes, or until the bread is crispy and golden brown.\n",
      "6. Remove from the oven and let it cool slightly before slicing.\n",
      "7. Serve the garlic bread alongside the spaghetti carbonara.\n",
      "\n",
      "Enjoy your homemade Spaghetti Carbonara with Garlic Bread!\n"
     ]
    }
   ],
   "source": [
    "# Pass the query to the invoke method, and print the result.\n",
    "result = llm.invoke(query)\n",
    "print(result.content)"
   ]
  }
 ],
 "metadata": {
  "kernelspec": {
   "display_name": "Python 3",
   "language": "python",
   "name": "python3"
  },
  "language_info": {
   "codemirror_mode": {
    "name": "ipython",
    "version": 3
   },
   "file_extension": ".py",
   "mimetype": "text/x-python",
   "name": "python",
   "nbconvert_exporter": "python",
   "pygments_lexer": "ipython3",
   "version": "3.10.12"
  }
 },
 "nbformat": 4,
 "nbformat_minor": 2
}
