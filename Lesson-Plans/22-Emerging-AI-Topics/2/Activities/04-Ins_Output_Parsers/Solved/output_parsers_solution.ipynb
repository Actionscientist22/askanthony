{
 "cells": [
  {
   "cell_type": "code",
   "execution_count": 1,
   "metadata": {},
   "outputs": [],
   "source": [
    "from langchain_openai import ChatOpenAI\n",
    "from dotenv import load_dotenv\n",
    "import os"
   ]
  },
  {
   "cell_type": "markdown",
   "metadata": {},
   "source": [
    "# Model and API Key"
   ]
  },
  {
   "cell_type": "code",
   "execution_count": 2,
   "metadata": {},
   "outputs": [],
   "source": [
    "# Load environment variables.\n",
    "load_dotenv()\n",
    "\n",
    "# Set the model name for our LLMs.\n",
    "OPENAI_MODEL = \"gpt-3.5-turbo\"\n",
    "# Store the API key in a variable.\n",
    "OPENAI_API_KEY = os.getenv(\"OPENAI_API_KEY\")"
   ]
  },
  {
   "cell_type": "markdown",
   "metadata": {},
   "source": [
    "# List Parser"
   ]
  },
  {
   "cell_type": "code",
   "execution_count": 3,
   "metadata": {},
   "outputs": [],
   "source": [
    "# Additional imports for list parser.\n",
    "from langchain.output_parsers import CommaSeparatedListOutputParser"
   ]
  },
  {
   "cell_type": "code",
   "execution_count": 4,
   "metadata": {},
   "outputs": [
    {
     "name": "stdout",
     "output_type": "stream",
     "text": [
      "Your response should be a list of comma separated values, eg: `foo, bar, baz`\n",
      "\n",
      "Persian, Siamese, Maine Coon\n",
      "\n",
      "['Persian', 'Siamese', 'Maine Coon']\n"
     ]
    }
   ],
   "source": [
    "# Initialize the model.\n",
    "llm=ChatOpenAI(openai_api_key=OPENAI_API_KEY, model_name=OPENAI_MODEL, temperature=0.9)\n",
    "\n",
    "# Initialize the output parser.\n",
    "parser = CommaSeparatedListOutputParser()\n",
    "\n",
    "# Get the output format instructions.\n",
    "instructions = parser.get_format_instructions()\n",
    "print(instructions)\n",
    "\n",
    "print()\n",
    "\n",
    "# Define a query as a string, combining with the instructions.\n",
    "query = \"List 3 cat breeds.\" + \"\\n\\n\" + instructions\n",
    "\n",
    "# Pass the query to the invoke method, and print the result.\n",
    "result = llm.invoke(query)\n",
    "print(result.content)\n",
    "\n",
    "print()\n",
    "\n",
    "# Parse the result, store it, and print it.\n",
    "data = parser.parse(result.content)\n",
    "print(data)"
   ]
  },
  {
   "cell_type": "markdown",
   "metadata": {},
   "source": [
    "# Structured Parser"
   ]
  },
  {
   "cell_type": "code",
   "execution_count": 5,
   "metadata": {},
   "outputs": [],
   "source": [
    "# Additional imports for structured parser.\n",
    "from langchain.output_parsers import StructuredOutputParser, ResponseSchema"
   ]
  },
  {
   "cell_type": "code",
   "execution_count": 6,
   "metadata": {},
   "outputs": [
    {
     "name": "stdout",
     "output_type": "stream",
     "text": [
      "The output should be a markdown code snippet formatted in the following schema, including the leading and trailing \"```json\" and \"```\":\n",
      "\n",
      "```json\n",
      "{\n",
      "\t\"country\": string  // the country\n",
      "\t\"capital\": string  // the capital\n",
      "}\n",
      "```\n",
      "\n",
      "```json\n",
      "{\n",
      "\t\"country\": \"France\",\n",
      "\t\"capital\": \"Paris\"\n",
      "}\n",
      "```\n",
      "\n",
      "{'country': 'France', 'capital': 'Paris'}\n",
      "France\n",
      "Paris\n",
      "\n",
      "1. Eiffel Tower: One of the most iconic landmarks in the world, the Eiffel Tower is a must-visit attraction in Paris. Visitors can take in breathtaking views of the city from its observation decks, enjoy a meal at one of its restaurants, or simply marvel at its stunning architecture.\n",
      "\n",
      "2. Louvre Museum: As the world's largest art museum, the Louvre is a cultural landmark and a paradise for art lovers. Its vast collection includes famous masterpieces like the Mona Lisa and Venus de Milo, housed in a former royal palace. Visitors can spend hours exploring its various galleries and admiring the incredible artworks.\n",
      "\n",
      "3. Notre-Dame Cathedral: A masterpiece of Gothic architecture, Notre-Dame Cathedral is a symbol of Paris and one of the most famous cathedrals in the world. Visitors can admire its intricate façade, climb to the top for panoramic views of the city, or explore the interior with its stunning stained glass windows and historic relics.\n"
     ]
    }
   ],
   "source": [
    "# Initialize the model.\n",
    "llm=ChatOpenAI(openai_api_key=OPENAI_API_KEY, model_name=OPENAI_MODEL, temperature=0.9)\n",
    "\n",
    "# Define the schemas for our parser.\n",
    "schemas = [\n",
    "    ResponseSchema(name=\"country\", description=\"the country\"),\n",
    "    ResponseSchema(name=\"capital\", description=\"the capital\")\n",
    "]\n",
    "\n",
    "# Initialize the output parser using the schema.\n",
    "parser = StructuredOutputParser.from_response_schemas(schemas)\n",
    "\n",
    "# Get the output format instructions and print them.\n",
    "instructions = parser.get_format_instructions()\n",
    "print(instructions)\n",
    "\n",
    "print()\n",
    "\n",
    "# Define a query as a string, combining with the instructions.\n",
    "query = \"Name a country and its capital.\" + \"\\n\\n\" + instructions\n",
    "\n",
    "# Pass the query to the invoke method, and print the result.\n",
    "result = llm.invoke(query)\n",
    "print(result.content)\n",
    "\n",
    "print()\n",
    "\n",
    "# Parse the result, store it, and print it.\n",
    "data = parser.parse(result.content)\n",
    "print(data)\n",
    "print(data[\"country\"])\n",
    "print(data[\"capital\"])\n",
    "\n",
    "print()\n",
    "\n",
    "# Define a new query using the parsed output.\n",
    "query = f\"What are three tourist attractions in {data['capital']}?\"\n",
    "\n",
    "# Pass the query to the invoke method, and print the result.\n",
    "result = llm.invoke(query)\n",
    "print(result.content)"
   ]
  },
  {
   "cell_type": "markdown",
   "metadata": {},
   "source": [
    "# Class-based Parser"
   ]
  },
  {
   "cell_type": "code",
   "execution_count": 7,
   "metadata": {},
   "outputs": [],
   "source": [
    "# Additional imports for Pydantic parser.\n",
    "from langchain.output_parsers import PydanticOutputParser\n",
    "from langchain_core.pydantic_v1 import Field, BaseModel"
   ]
  },
  {
   "cell_type": "code",
   "execution_count": 8,
   "metadata": {},
   "outputs": [
    {
     "name": "stdout",
     "output_type": "stream",
     "text": [
      "The output should be formatted as a JSON instance that conforms to the JSON schema below.\n",
      "\n",
      "As an example, for the schema {\"properties\": {\"foo\": {\"title\": \"Foo\", \"description\": \"a list of strings\", \"type\": \"array\", \"items\": {\"type\": \"string\"}}}, \"required\": [\"foo\"]}\n",
      "the object {\"foo\": [\"bar\", \"baz\"]} is a well-formatted instance of the schema. The object {\"properties\": {\"foo\": [\"bar\", \"baz\"]}} is not well-formatted.\n",
      "\n",
      "Here is the output schema:\n",
      "```\n",
      "{\"properties\": {\"name\": {\"title\": \"Name\", \"description\": \"the country name\", \"type\": \"string\"}, \"capital\": {\"title\": \"Capital\", \"description\": \"the capital\", \"type\": \"string\"}, \"population\": {\"title\": \"Population\", \"description\": \"the country's population\", \"type\": \"integer\"}}, \"required\": [\"name\", \"capital\", \"population\"]}\n",
      "```\n",
      "\n",
      "{\n",
      "  \"name\": \"United States\",\n",
      "  \"capital\": \"Washington, D.C.\",\n",
      "  \"population\": 331002651\n",
      "}\n",
      "\n",
      "name='United States' capital='Washington, D.C.' population=331002651\n",
      "United States\n",
      "Washington, D.C.\n",
      "331002651\n",
      "\n",
      "Three tourist attractions in Washington, D.C. are:\n",
      "\n",
      "1. The National Mall: It is a large open area located in the heart of the city and is home to iconic landmarks such as the Lincoln Memorial, Washington Monument, and the United States Capitol. Visitors can explore various museums along the National Mall, including the Smithsonian museums like the National Air and Space Museum and the National Museum of Natural History.\n",
      "\n",
      "2. The White House: The official residence and workplace of the President of the United States. Although tours of the interior require advanced booking, visitors can still see the iconic exterior and take photos from outside the fence on Pennsylvania Avenue.\n",
      "\n",
      "3. The Smithsonian Institution: Comprising a collection of 19 museums and galleries, as well as the National Zoo, the Smithsonian is a world-renowned complex of museums that offers a diverse range of exhibits, covering topics from art and history to science and culture. Some popular Smithsonian museums include the National Museum of American History, the National Gallery of Art, and the National Museum of African American History and Culture.\n"
     ]
    }
   ],
   "source": [
    "# Initialize the model.\n",
    "llm=ChatOpenAI(openai_api_key=OPENAI_API_KEY, model_name=OPENAI_MODEL, temperature=0.9)\n",
    "\n",
    "# Define the class for our parsed responses.\n",
    "class Country(BaseModel):\n",
    "    name: str = Field(description=\"the country name\")\n",
    "    capital: str = Field(description=\"the capital\")\n",
    "    population: int = Field(description=\"the country's population\")\n",
    "\n",
    "# Initialize the output parser using the schema.\n",
    "parser = PydanticOutputParser(pydantic_object=Country)\n",
    "\n",
    "# Get the output format instructions and print them.\n",
    "instructions = parser.get_format_instructions()\n",
    "print(instructions)\n",
    "\n",
    "print()\n",
    "\n",
    "# Define a query as a string, combining with the instructions.\n",
    "query = \"Name any country, its capital, and the country's population.\" + \"\\n\\n\" + instructions\n",
    "\n",
    "# Pass the query to the invoke method, and print the result.\n",
    "result = llm.invoke(query)\n",
    "print(result.content)\n",
    "\n",
    "print()\n",
    "\n",
    "# Parse the result, store it, and print it.\n",
    "data = parser.parse(result.content)\n",
    "print(data)\n",
    "print(data.name)\n",
    "print(data.capital)\n",
    "print(data.population)\n",
    "\n",
    "print()\n",
    "\n",
    "# Define a new query using the parsed output.\n",
    "query = f\"What are three tourist attractions in {data.capital}?\"\n",
    "\n",
    "# Pass the query to the invoke method, and print the result.\n",
    "result = llm.invoke(query)\n",
    "print(result.content)"
   ]
  }
 ],
 "metadata": {
  "kernelspec": {
   "display_name": "Python 3",
   "language": "python",
   "name": "python3"
  },
  "language_info": {
   "codemirror_mode": {
    "name": "ipython",
    "version": 3
   },
   "file_extension": ".py",
   "mimetype": "text/x-python",
   "name": "python",
   "nbconvert_exporter": "python",
   "pygments_lexer": "ipython3",
   "version": "3.10.12"
  }
 },
 "nbformat": 4,
 "nbformat_minor": 2
}
