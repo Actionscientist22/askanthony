{
 "cells": [
  {
   "cell_type": "code",
   "execution_count": 1,
   "metadata": {},
   "outputs": [],
   "source": [
    "from langchain_openai import ChatOpenAI\n",
    "from dotenv import load_dotenv\n",
    "import os"
   ]
  },
  {
   "cell_type": "markdown",
   "metadata": {},
   "source": [
    "# Model and API Key"
   ]
  },
  {
   "cell_type": "code",
   "execution_count": 2,
   "metadata": {},
   "outputs": [],
   "source": [
    "# Load environment variables.\n",
    "load_dotenv()\n",
    "\n",
    "# Set the model name for our LLMs.\n",
    "OPENAI_MODEL = \"gpt-3.5-turbo\"\n",
    "# Store the API key in a variable.\n",
    "OPENAI_API_KEY = os.getenv(\"OPENAI_API_KEY\")"
   ]
  },
  {
   "cell_type": "markdown",
   "metadata": {},
   "source": [
    "# Roles"
   ]
  },
  {
   "cell_type": "code",
   "execution_count": 3,
   "metadata": {},
   "outputs": [],
   "source": [
    "# Additional imports for human and system messages.\n",
    "from langchain.schema import HumanMessage, SystemMessage"
   ]
  },
  {
   "cell_type": "code",
   "execution_count": 5,
   "metadata": {},
   "outputs": [
    {
     "name": "stdout",
     "output_type": "stream",
     "text": [
      "This week's workout plan focuses on overall strength and conditioning. Here's a summary of what you should do:\n",
      "\n",
      "1. Monday: Start with a dynamic warm-up to prepare your body for exercise. Then, perform compound exercises such as squats, deadlifts, bench press, and overhead press. Aim for 3-4 sets of 8-12 reps with challenging weights. Finish with some core exercises like planks and Russian twists.\n",
      "\n",
      "2. Tuesday: Incorporate cardiovascular exercise for endurance. Go for a 30-45 minute run, cycle, or swim at a moderate intensity. If you prefer a low-impact option, try an elliptical or rowing machine. Remember to stretch and cool down afterward.\n",
      "\n",
      "3. Wednesday: Focus on upper body strength. Include exercises like push-ups, pull-ups, rows, and shoulder presses. Aim for 3-4 sets of 8-12 reps. Add in some bicep and tricep exercises for additional arm strength. Don't forget to stretch and foam roll your upper body muscles.\n",
      "\n",
      "4. Thursday: Engage in a high-intensity interval training (HIIT) session. Choose exercises like burpees, mountain climbers, jump squats, and kettlebell swings. Perform each exercise for 30 seconds with maximum effort, followed by a 15-second rest. Repeat the circuit for 4-5 rounds. This will help improve your cardiovascular fitness and burn calories.\n",
      "\n",
      "5. Friday: Take a break from intense workouts and focus on active recovery. Go for a light jog, do some yoga or Pilates, or try a low-impact workout like swimming or cycling. The goal is to promote blood flow, flexibility, and relaxation.\n",
      "\n",
      "6. Saturday: Incorporate a full-body circuit workout. Include exercises like lunges, step-ups, push-ups, planks, and kettlebell swings. Perform each exercise for 45 seconds with minimal rest in between. Complete 3-4 rounds. This will challenge your entire body and improve overall strength and endurance.\n",
      "\n",
      "7. Sunday: Rest and recover. Allow your body to heal and recharge for the upcoming week. Take this time to stretch, foam roll, and engage in activities that promote relaxation and stress reduction.\n",
      "\n",
      "Remember to listen to your body throughout the week. If you experience any pain or discomfort, modify or skip exercises as needed. Stay hydrated, eat a balanced diet, and get enough sleep to support your workouts.\n"
     ]
    }
   ],
   "source": [
    "# Initialize the model.\n",
    "llm=ChatOpenAI(openai_api_key=OPENAI_API_KEY, model_name=OPENAI_MODEL, temperature=0.3)\n",
    "\n",
    "# Create a list containing a system message and a human message.\n",
    "messages = [\n",
    "    SystemMessage(content=\"You are an athletic trainer.\"),\n",
    "    HumanMessage(content=\"Provide me with a summary of what to do this week for my workouts.\")\n",
    "]\n",
    "\n",
    "# Provide the messages to the LLM and print the result.\n",
    "result = llm.invoke(messages)\n",
    "print(result.content)"
   ]
  },
  {
   "cell_type": "markdown",
   "metadata": {},
   "source": [
    "# Templates for Instructions"
   ]
  },
  {
   "cell_type": "code",
   "execution_count": 6,
   "metadata": {},
   "outputs": [],
   "source": [
    "# Additional imports for prompt template and LLM chain.\n",
    "from langchain import PromptTemplate\n",
    "from langchain.chains import LLMChain"
   ]
  },
  {
   "cell_type": "code",
   "execution_count": 10,
   "metadata": {},
   "outputs": [
    {
     "name": "stdout",
     "output_type": "stream",
     "text": [
      "The 1980 Summer Olympics were boycotted by a number of countries, primarily led by the United States. The boycott was in response to the Soviet Union's invasion of Afghanistan in 1979. The United States and other countries saw this invasion as a violation of international law and condemned the Soviet Union's actions. As a result, they decided to boycott the Olympics held in Moscow in 1980 as a political statement against the Soviet Union's actions.\n",
      "\n",
      "I'm sorry, but that question is not related to history. Could you please ask a question about history?\n"
     ]
    }
   ],
   "source": [
    "# Initialize the model.\n",
    "llm=ChatOpenAI(openai_api_key=OPENAI_API_KEY, model_name=OPENAI_MODEL, temperature=0.3)\n",
    "\n",
    "# Define the format for the template.\n",
    "format = \"\"\"\n",
    "You are a history tutor. Answer only questions that would be covered in a history course.\n",
    "If the human asks questions not related to history, remind them that your job is to help\n",
    "them learn history, and ask them for a question on that topic. If they ask a question which\n",
    "there is not enough information to answer, tell them you don't know and don't make up an \n",
    "answer.\n",
    "\n",
    "Question: {query}\n",
    "\n",
    "Answer: \n",
    "\"\"\"\n",
    "\n",
    "# Construct the prompt template.\n",
    "prompt_template = PromptTemplate(\n",
    "    input_variables=[\"query\"],\n",
    "    template=format\n",
    ")\n",
    "\n",
    "# Construct a chain using this template.\n",
    "chain = LLMChain(llm=llm, prompt=prompt_template)\n",
    "\n",
    "# Define the query as a string.\n",
    "query = {\"query\": \"Why were the 1980 summer Olympics boycotted?\"}\n",
    "\n",
    "# Run the chain using the query as input and print the result.\n",
    "result = chain.invoke(query)\n",
    "print(result[\"text\"])\n",
    "\n",
    "print()\n",
    "\n",
    "# Define the query as a string.\n",
    "query = {\"query\": \"Why is the sky blue?\"}\n",
    "\n",
    "# Run the chain using the query as input and print the result.\n",
    "result = chain.invoke(query)\n",
    "print(result[\"text\"])"
   ]
  },
  {
   "cell_type": "markdown",
   "metadata": {},
   "source": [
    "# Templates for Examples"
   ]
  },
  {
   "cell_type": "code",
   "execution_count": 11,
   "metadata": {},
   "outputs": [],
   "source": [
    "# Additional import for the template.\n",
    "from langchain import PromptTemplate, FewShotPromptTemplate\n",
    "from langchain.chains import LLMChain"
   ]
  },
  {
   "cell_type": "code",
   "execution_count": 12,
   "metadata": {},
   "outputs": [
    {
     "name": "stdout",
     "output_type": "stream",
     "text": [
      "In the crime, the mime left a slime.\n"
     ]
    }
   ],
   "source": [
    "# Initialize the model.\n",
    "llm=ChatOpenAI(openai_api_key=OPENAI_API_KEY, model_name=OPENAI_MODEL, temperature=0.3)\n",
    "\n",
    "# Define a prefix that explains the prompt.\n",
    "prefix = \"\"\"\n",
    "Here are examples between a human and AI. The human provides a word, and\n",
    "the AI provides a single sentence with easy to read words that mostly rhyme\n",
    "with the word the human provided. The sentence does not have to include the \n",
    "original word. For example:\n",
    "\"\"\"\n",
    "\n",
    "# Create examples.\n",
    "examples = [\n",
    "    {\n",
    "        \"query\": \"rat\",\n",
    "        \"answer\": \"The cat sat next to the bat.\"\n",
    "    }, {\n",
    "        \"query\": \"frog\",\n",
    "        \"answer\": \"A dog hops a log in the bog.\"\n",
    "    }, {\n",
    "        \"query\": \"ten\",\n",
    "        \"answer\": \"Ben sent ten hens to the glen.\"\n",
    "    }\n",
    "]\n",
    "\n",
    "# Define a format for the examples.\n",
    "example_format = \"\"\"\n",
    "Human: {query}\n",
    "AI: {answer}\n",
    "\"\"\"\n",
    "\n",
    "# Create a prompt template for the examples.\n",
    "example_template = PromptTemplate(\n",
    "    input_variables=[\"query\", \"answer\"],\n",
    "    template=example_format\n",
    ")\n",
    "\n",
    "# Provide a suffix that includes the query.\n",
    "suffix = \"\"\"\n",
    "Human: {query}\n",
    "AI: \n",
    "\"\"\"\n",
    "\n",
    "# Construct the few shot prompt template.\n",
    "prompt_template = FewShotPromptTemplate(\n",
    "    examples=examples,\n",
    "    example_prompt=example_template,\n",
    "    input_variables=[\"query\"],\n",
    "    prefix=prefix,\n",
    "    suffix=suffix,\n",
    "    example_separator=\"\\n\\n\"\n",
    ")\n",
    "\n",
    "# Construct a chain using this template.\n",
    "chain = LLMChain(llm=llm, prompt=prompt_template)\n",
    "\n",
    "# Define the query as a string.\n",
    "query = \"grime\"\n",
    "\n",
    "# Run the chain using the query as input and print the result.\n",
    "result = chain.run(query)\n",
    "print(result)"
   ]
  }
 ],
 "metadata": {
  "kernelspec": {
   "display_name": "Python 3",
   "language": "python",
   "name": "python3"
  },
  "language_info": {
   "codemirror_mode": {
    "name": "ipython",
    "version": 3
   },
   "file_extension": ".py",
   "mimetype": "text/x-python",
   "name": "python",
   "nbconvert_exporter": "python",
   "pygments_lexer": "ipython3",
   "version": "3.10.12"
  }
 },
 "nbformat": 4,
 "nbformat_minor": 2
}
