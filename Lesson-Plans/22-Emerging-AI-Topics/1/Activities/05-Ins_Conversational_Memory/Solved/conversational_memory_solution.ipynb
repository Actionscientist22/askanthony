{
 "cells": [
  {
   "cell_type": "code",
   "execution_count": 1,
   "metadata": {},
   "outputs": [],
   "source": [
    "from langchain_openai import ChatOpenAI\n",
    "from dotenv import load_dotenv\n",
    "import os"
   ]
  },
  {
   "cell_type": "markdown",
   "metadata": {},
   "source": [
    "# Model and API Key"
   ]
  },
  {
   "cell_type": "code",
   "execution_count": 2,
   "metadata": {},
   "outputs": [],
   "source": [
    "# Load environment variables.\n",
    "load_dotenv()\n",
    "\n",
    "# Set the model name for our LLMs.\n",
    "OPENAI_MODEL = \"gpt-3.5-turbo\"\n",
    "# Store the API key in a variable.\n",
    "OPENAI_API_KEY = os.getenv(\"OPENAI_API_KEY\")"
   ]
  },
  {
   "cell_type": "markdown",
   "metadata": {},
   "source": [
    "# Multiple Queries"
   ]
  },
  {
   "cell_type": "code",
   "execution_count": 3,
   "metadata": {},
   "outputs": [
    {
     "name": "stdout",
     "output_type": "stream",
     "text": [
      "Two common breeds of cats are the Persian cat and the Siamese cat.\n",
      "\n",
      "It is difficult to determine which specific shed the least without knowing the context or the options provided. However, in general, breeds of dogs that are considered hypoallergenic or have minimal shedding include poodles, bichon frises, schnauzers, and certain terrier breeds.\n"
     ]
    }
   ],
   "source": [
    "# Initialize the model.\n",
    "llm = ChatOpenAI(openai_api_key=OPENAI_API_KEY, model_name=OPENAI_MODEL, temperature=0.3)\n",
    "\n",
    "# Define a query as a string.\n",
    "query = \"What are two common breeds of cats?\"\n",
    "\n",
    "# Pass the query to the invoke method, and print the result.\n",
    "result = llm.invoke(query)\n",
    "print(result.content)\n",
    "\n",
    "print()\n",
    "\n",
    "# Define a query as a string.\n",
    "query = \"Which of those shed the least?\"\n",
    "\n",
    "# Pass the query to the invoke method, and print the result.\n",
    "result = llm.invoke(query)\n",
    "print(result.content)"
   ]
  },
  {
   "cell_type": "markdown",
   "metadata": {},
   "source": [
    "# Memory"
   ]
  },
  {
   "cell_type": "code",
   "execution_count": 4,
   "metadata": {},
   "outputs": [],
   "source": [
    "# Additional imports for conversational memory.\n",
    "from langchain.chains import ConversationChain\n",
    "from langchain.memory import ConversationBufferMemory"
   ]
  },
  {
   "cell_type": "code",
   "execution_count": 5,
   "metadata": {},
   "outputs": [
    {
     "name": "stdout",
     "output_type": "stream",
     "text": [
      "\n",
      "\n",
      "\u001b[1m> Entering new ConversationChain chain...\u001b[0m\n",
      "Prompt after formatting:\n",
      "\u001b[32;1m\u001b[1;3mThe following is a friendly conversation between a human and an AI. The AI is talkative and provides lots of specific details from its context. If the AI does not know the answer to a question, it truthfully says it does not know.\n",
      "\n",
      "Current conversation:\n",
      "\n",
      "Human: What are two common breeds of cats?\n",
      "AI:\u001b[0m\n",
      "\n",
      "\u001b[1m> Finished chain.\u001b[0m\n",
      "Two common breeds of cats are the Persian and the Siamese. The Persian cat is known for its long, luxurious coat and distinctive round face. It is a calm and gentle breed that is often kept as a companion. The Siamese cat, on the other hand, is known for its striking blue eyes and sleek coat. It is an active and vocal breed that enjoys interacting with its human companions. Both breeds are popular choices for cat lovers around the world.\n",
      "\n",
      "\n",
      "\n",
      "\u001b[1m> Entering new ConversationChain chain...\u001b[0m\n",
      "Prompt after formatting:\n",
      "\u001b[32;1m\u001b[1;3mThe following is a friendly conversation between a human and an AI. The AI is talkative and provides lots of specific details from its context. If the AI does not know the answer to a question, it truthfully says it does not know.\n",
      "\n",
      "Current conversation:\n",
      "Human: What are two common breeds of cats?\n",
      "AI: Two common breeds of cats are the Persian and the Siamese. The Persian cat is known for its long, luxurious coat and distinctive round face. It is a calm and gentle breed that is often kept as a companion. The Siamese cat, on the other hand, is known for its striking blue eyes and sleek coat. It is an active and vocal breed that enjoys interacting with its human companions. Both breeds are popular choices for cat lovers around the world.\n",
      "Human: Which of those shed the least?\n",
      "AI:\u001b[0m\n",
      "\n",
      "\u001b[1m> Finished chain.\u001b[0m\n",
      "The Persian cat sheds less compared to the Siamese cat. The Persian cat's long, dense coat requires regular grooming to prevent matting and tangling, but it tends to shed less hair compared to the Siamese cat's short, sleek coat. However, it's important to note that all cats shed to some extent, so regular grooming and maintenance are still necessary for both breeds.\n"
     ]
    }
   ],
   "source": [
    "# Initialize the model.\n",
    "llm = ChatOpenAI(openai_api_key=OPENAI_API_KEY, model_name=OPENAI_MODEL, temperature=0.3)\n",
    "\n",
    "# Initialize an object for conversational memory.\n",
    "buffer = ConversationBufferMemory()\n",
    "\n",
    "# Create the chain for conversation, using a ConversationBufferMemory object.\n",
    "conversation = ConversationChain(llm=llm, verbose=True, memory=buffer)\n",
    "\n",
    "# Define a query as a string.\n",
    "query = \"What are two common breeds of cats?\"\n",
    "\n",
    "# Pass the query to the predict method and print the result.\n",
    "result = conversation.predict(input=query)\n",
    "print(result)\n",
    "\n",
    "print()\n",
    "\n",
    "# Define a query as a string.\n",
    "query = \"Which of those shed the least?\"\n",
    "\n",
    "# Pass the query to the predict method, and print the result.\n",
    "result = conversation.predict(input=query)\n",
    "print(result)"
   ]
  },
  {
   "cell_type": "markdown",
   "metadata": {},
   "source": [
    "# Summaries as memory"
   ]
  },
  {
   "cell_type": "code",
   "execution_count": 6,
   "metadata": {},
   "outputs": [],
   "source": [
    "# Additional imports for summary-based memory.\n",
    "from langchain.chains import ConversationChain\n",
    "from langchain.memory import ConversationSummaryMemory"
   ]
  },
  {
   "cell_type": "code",
   "execution_count": 7,
   "metadata": {},
   "outputs": [
    {
     "name": "stdout",
     "output_type": "stream",
     "text": [
      "\n",
      "\n",
      "\u001b[1m> Entering new ConversationChain chain...\u001b[0m\n",
      "Prompt after formatting:\n",
      "\u001b[32;1m\u001b[1;3mThe following is a friendly conversation between a human and an AI. The AI is talkative and provides lots of specific details from its context. If the AI does not know the answer to a question, it truthfully says it does not know.\n",
      "\n",
      "Current conversation:\n",
      "\n",
      "Human: What are two common breeds of cats?\n",
      "AI:\u001b[0m\n",
      "\n",
      "\u001b[1m> Finished chain.\u001b[0m\n",
      "Two common breeds of cats are the Maine Coon and the Siamese. The Maine Coon is known for its large size and tufted ears, while the Siamese is known for its striking blue eyes and sleek, short coat.\n",
      "\n",
      "\n",
      "\n",
      "\u001b[1m> Entering new ConversationChain chain...\u001b[0m\n",
      "Prompt after formatting:\n",
      "\u001b[32;1m\u001b[1;3mThe following is a friendly conversation between a human and an AI. The AI is talkative and provides lots of specific details from its context. If the AI does not know the answer to a question, it truthfully says it does not know.\n",
      "\n",
      "Current conversation:\n",
      "The human asks what are two common breeds of cats. The AI responds that two common breeds of cats are the Maine Coon and the Siamese, with the Maine Coon known for its large size and tufted ears, and the Siamese known for its striking blue eyes and sleek, short coat.\n",
      "Human: Which of those shed the least?\n",
      "AI:\u001b[0m\n",
      "\n",
      "\u001b[1m> Finished chain.\u001b[0m\n",
      "The Siamese breed is known to shed less compared to the Maine Coon. Siamese cats have shorter coats that require less grooming and tend to shed less hair. However, it's important to note that all cats shed to some extent, so regular grooming is still necessary to keep their coats healthy and minimize shedding.\n",
      "\n",
      "\n",
      "\u001b[1m> Entering new ConversationChain chain...\u001b[0m\n",
      "Prompt after formatting:\n",
      "\u001b[32;1m\u001b[1;3mThe following is a friendly conversation between a human and an AI. The AI is talkative and provides lots of specific details from its context. If the AI does not know the answer to a question, it truthfully says it does not know.\n",
      "\n",
      "Current conversation:\n",
      "The human asks what are two common breeds of cats. The AI responds that two common breeds of cats are the Maine Coon and the Siamese, with the Maine Coon known for its large size and tufted ears, and the Siamese known for its striking blue eyes and sleek, short coat. The AI adds that the Siamese breed sheds less compared to the Maine Coon due to its shorter coat, but emphasizes that all cats shed to some extent and regular grooming is still necessary.\n",
      "Human: Which one tends to weigh more?\n",
      "AI:\u001b[0m\n",
      "\n",
      "\u001b[1m> Finished chain.\u001b[0m\n",
      "The Maine Coon breed tends to weigh more compared to the Siamese. Maine Coon cats are known for their large size and can weigh anywhere between 9 to 18 pounds or even more in some cases. On the other hand, Siamese cats are generally smaller and lighter, usually weighing between 6 to 12 pounds.\n"
     ]
    }
   ],
   "source": [
    "# Initialize the model for summaries.\n",
    "summary_llm = ChatOpenAI(openai_api_key=OPENAI_API_KEY,\n",
    "                         model_name=OPENAI_MODEL,\n",
    "                         temperature=0.0)\n",
    "\n",
    "# Initialize the model for output.\n",
    "chat_llm = ChatOpenAI(openai_api_key=OPENAI_API_KEY,\n",
    "                      model_name=OPENAI_MODEL,\n",
    "                      temperature=0.7)\n",
    "\n",
    "# Initialize an object for conversational memory.\n",
    "buffer = ConversationSummaryMemory(llm=summary_llm)\n",
    "\n",
    "# Create the chain for conversation, using a ConversationBufferMemory object.\n",
    "conversation = ConversationChain(llm=chat_llm, memory=buffer, verbose=True)\n",
    "\n",
    "# Define a query as a string.\n",
    "query = \"What are two common breeds of cats?\"\n",
    "\n",
    "# Pass the query to the predict method, and print the result.\n",
    "result = conversation.predict(input=query)\n",
    "print(result)\n",
    "\n",
    "print()\n",
    "\n",
    "# Define a query as a string.\n",
    "query = \"Which of those shed the least?\"\n",
    "\n",
    "# Pass the query to the predict method, and print the result.\n",
    "result = conversation.predict(input=query)\n",
    "print(result)\n",
    "\n",
    "print()\n",
    "\n",
    "# Define a query as a string.\n",
    "query = \"Which one tends to weigh more?\"\n",
    "\n",
    "# Pass the query to the predict method, and print the result.\n",
    "result = conversation.predict(input=query)\n",
    "print(result)"
   ]
  },
  {
   "cell_type": "markdown",
   "metadata": {},
   "source": [
    "# Entity-based Memory"
   ]
  },
  {
   "cell_type": "code",
   "execution_count": 8,
   "metadata": {},
   "outputs": [],
   "source": [
    "# Additional imports for entity-based memory.\n",
    "from langchain.chains import ConversationChain\n",
    "from langchain.memory import ConversationEntityMemory\n",
    "from langchain.memory.prompt import ENTITY_MEMORY_CONVERSATION_TEMPLATE"
   ]
  },
  {
   "cell_type": "code",
   "execution_count": 10,
   "metadata": {},
   "outputs": [
    {
     "name": "stdout",
     "output_type": "stream",
     "text": [
      "\n",
      "\n",
      "\u001b[1m> Entering new ConversationChain chain...\u001b[0m\n",
      "Prompt after formatting:\n",
      "\u001b[32;1m\u001b[1;3mYou are an assistant to a human, powered by a large language model trained by OpenAI.\n",
      "\n",
      "You are designed to be able to assist with a wide range of tasks, from answering simple questions to providing in-depth explanations and discussions on a wide range of topics. As a language model, you are able to generate human-like text based on the input you receive, allowing you to engage in natural-sounding conversations and provide responses that are coherent and relevant to the topic at hand.\n",
      "\n",
      "You are constantly learning and improving, and your capabilities are constantly evolving. You are able to process and understand large amounts of text, and can use this knowledge to provide accurate and informative responses to a wide range of questions. You have access to some personalized information provided by the human in the Context section below. Additionally, you are able to generate your own text based on the input you receive, allowing you to engage in discussions and provide explanations and descriptions on a wide range of topics.\n",
      "\n",
      "Overall, you are a powerful tool that can help with a wide range of tasks and provide valuable insights and information on a wide range of topics. Whether the human needs help with a specific question or just wants to have a conversation about a particular topic, you are here to assist.\n",
      "\n",
      "Context:\n",
      "{'Godric': '', 'Maine Coon': '', 'Luna': '', 'Bombay': ''}\n",
      "\n",
      "Current conversation:\n",
      "\n",
      "Last line:\n",
      "Human: There are two cats up for adoption: Godric is a Maine Coon, and Luna is a Bombay.\n",
      "You:\u001b[0m\n",
      "\n",
      "\u001b[1m> Finished chain.\u001b[0m\n",
      "\n",
      "\n",
      "\n",
      "\u001b[1m> Entering new ConversationChain chain...\u001b[0m\n",
      "Prompt after formatting:\n",
      "\u001b[32;1m\u001b[1;3mYou are an assistant to a human, powered by a large language model trained by OpenAI.\n",
      "\n",
      "You are designed to be able to assist with a wide range of tasks, from answering simple questions to providing in-depth explanations and discussions on a wide range of topics. As a language model, you are able to generate human-like text based on the input you receive, allowing you to engage in natural-sounding conversations and provide responses that are coherent and relevant to the topic at hand.\n",
      "\n",
      "You are constantly learning and improving, and your capabilities are constantly evolving. You are able to process and understand large amounts of text, and can use this knowledge to provide accurate and informative responses to a wide range of questions. You have access to some personalized information provided by the human in the Context section below. Additionally, you are able to generate your own text based on the input you receive, allowing you to engage in discussions and provide explanations and descriptions on a wide range of topics.\n",
      "\n",
      "Overall, you are a powerful tool that can help with a wide range of tasks and provide valuable insights and information on a wide range of topics. Whether the human needs help with a specific question or just wants to have a conversation about a particular topic, you are here to assist.\n",
      "\n",
      "Context:\n",
      "{'Godric': 'Godric is a Maine Coon.', 'Luna': 'Luna is a Bombay cat known for her sleek black coat and affectionate and playful nature.'}\n",
      "\n",
      "Current conversation:\n",
      "Human: There are two cats up for adoption: Godric is a Maine Coon, and Luna is a Bombay.\n",
      "AI: That's great to hear! Godric being a Maine Coon and Luna being a Bombay, they both sound like wonderful cats. Maine Coons are known for their large size, tufted ears, and bushy tails. They are often described as gentle giants and are known for their friendly and sociable nature. On the other hand, Bombays are known for their sleek black coats and copper or golden eyes. They are often described as affectionate and playful cats. Both breeds have their unique traits and can make great companions. Is there anything specific you would like to know about them or adoption in general?\n",
      "Last line:\n",
      "Human: Which of those cats probably has shorter fur?\n",
      "You:\u001b[0m\n",
      "\n",
      "\u001b[1m> Finished chain.\u001b[0m\n",
      "Based on the information provided, it is likely that Luna, the Bombay cat, has shorter fur. Bombays are known for their sleek black coats, which are typically shorter in length compared to the thick, long fur of Maine Coons. However, it's always best to confirm this information with the specific details provided by the adoption agency or the current caretakers of the cats.\n",
      "\n",
      "\n",
      "\u001b[1m> Entering new ConversationChain chain...\u001b[0m\n",
      "Prompt after formatting:\n",
      "\u001b[32;1m\u001b[1;3mYou are an assistant to a human, powered by a large language model trained by OpenAI.\n",
      "\n",
      "You are designed to be able to assist with a wide range of tasks, from answering simple questions to providing in-depth explanations and discussions on a wide range of topics. As a language model, you are able to generate human-like text based on the input you receive, allowing you to engage in natural-sounding conversations and provide responses that are coherent and relevant to the topic at hand.\n",
      "\n",
      "You are constantly learning and improving, and your capabilities are constantly evolving. You are able to process and understand large amounts of text, and can use this knowledge to provide accurate and informative responses to a wide range of questions. You have access to some personalized information provided by the human in the Context section below. Additionally, you are able to generate your own text based on the input you receive, allowing you to engage in discussions and provide explanations and descriptions on a wide range of topics.\n",
      "\n",
      "Overall, you are a powerful tool that can help with a wide range of tasks and provide valuable insights and information on a wide range of topics. Whether the human needs help with a specific question or just wants to have a conversation about a particular topic, you are here to assist.\n",
      "\n",
      "Context:\n",
      "{}\n",
      "\n",
      "Current conversation:\n",
      "Human: There are two cats up for adoption: Godric is a Maine Coon, and Luna is a Bombay.\n",
      "AI: That's great to hear! Godric being a Maine Coon and Luna being a Bombay, they both sound like wonderful cats. Maine Coons are known for their large size, tufted ears, and bushy tails. They are often described as gentle giants and are known for their friendly and sociable nature. On the other hand, Bombays are known for their sleek black coats and copper or golden eyes. They are often described as affectionate and playful cats. Both breeds have their unique traits and can make great companions. Is there anything specific you would like to know about them or adoption in general?\n",
      "Human: Which of those cats probably has shorter fur?\n",
      "AI: Based on the information provided, it is likely that Luna, the Bombay cat, has shorter fur. Bombays are known for their sleek black coats, which are typically shorter in length compared to the thick, long fur of Maine Coons. However, it's always best to confirm this information with the specific details provided by the adoption agency or the current caretakers of the cats.\n",
      "Last line:\n",
      "Human: Which cat probably has a calmer temperament?\n",
      "You:\u001b[0m\n",
      "\n",
      "\u001b[1m> Finished chain.\u001b[0m\n",
      "Based on general breed characteristics, Maine Coons are often described as having a calmer temperament compared to Bombays. Maine Coons are known for their friendly and sociable nature, and they are generally considered to be more relaxed and easygoing. On the other hand, Bombays are also known for being affectionate and playful, but they may have a slightly more energetic and active temperament. However, it's important to remember that individual cat personalities can vary, so it's always a good idea to spend some time with the cats and interact with them to get a better sense of their specific temperaments before making a decision.\n",
      "\n"
     ]
    }
   ],
   "source": [
    "# Initialize the model for entities.\n",
    "entity_llm = ChatOpenAI(openai_api_key=OPENAI_API_KEY,\n",
    "                        model_name=OPENAI_MODEL,\n",
    "                        temperature=0.0)\n",
    "\n",
    "# Initialize the model for output.\n",
    "chat_llm = ChatOpenAI(openai_api_key=OPENAI_API_KEY,\n",
    "                      model_name=OPENAI_MODEL,\n",
    "                      temperature=0.7)\n",
    "\n",
    "# Initialize an object for conversational memory.\n",
    "buffer = ConversationEntityMemory(llm=entity_llm)\n",
    "\n",
    "# Create the chain for conversation, using a ConversationBufferMemory object.\n",
    "conversation = ConversationChain(\n",
    "    llm=chat_llm, \n",
    "    memory=buffer, \n",
    "    verbose=True, \n",
    "    prompt=ENTITY_MEMORY_CONVERSATION_TEMPLATE\n",
    ")\n",
    "\n",
    "# Define a query as a string.\n",
    "query = \"There are two cats up for adoption: Godric is a Maine Coon, and Luna is a Bombay.\"\n",
    "\n",
    "# Pass the query to the predict method.\n",
    "result = conversation.predict(input=query)\n",
    "\n",
    "# Define a query as a string.\n",
    "query = \"Which of those cats probably has shorter fur?\"\n",
    "\n",
    "# Pass the query to the predict method, and print the result.\n",
    "result = conversation.predict(input=query)\n",
    "print(result)\n",
    "\n",
    "# Define a query as a string.\n",
    "query = \"Which cat probably has a calmer temperament?\"\n",
    "\n",
    "# Pass the query to the predict method, and print the result.\n",
    "result = conversation.predict(input=query)\n",
    "print(result)\n",
    "\n",
    "print()"
   ]
  }
 ],
 "metadata": {
  "kernelspec": {
   "display_name": "Python 3",
   "language": "python",
   "name": "python3"
  },
  "language_info": {
   "codemirror_mode": {
    "name": "ipython",
    "version": 3
   },
   "file_extension": ".py",
   "mimetype": "text/x-python",
   "name": "python",
   "nbconvert_exporter": "python",
   "pygments_lexer": "ipython3",
   "version": "3.10.13"
  }
 },
 "nbformat": 4,
 "nbformat_minor": 2
}
