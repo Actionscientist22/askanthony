{
 "cells": [
  {
   "cell_type": "code",
   "execution_count": 1,
   "metadata": {},
   "outputs": [],
   "source": [
    "from langchain_openai import ChatOpenAI\n",
    "from dotenv import load_dotenv\n",
    "import os"
   ]
  },
  {
   "cell_type": "markdown",
   "metadata": {},
   "source": [
    "# Model and API Key"
   ]
  },
  {
   "cell_type": "code",
   "execution_count": 2,
   "metadata": {},
   "outputs": [],
   "source": [
    "# Load environment variables.\n",
    "load_dotenv()\n",
    "\n",
    "# Set the model name for our LLMs.\n",
    "OPENAI_MODEL = \"gpt-3.5-turbo\"\n",
    "# Store the API key in a variable.\n",
    "OPENAI_API_KEY = os.getenv(\"OPENAI_API_KEY\")"
   ]
  },
  {
   "cell_type": "markdown",
   "metadata": {},
   "source": [
    "# Documents"
   ]
  },
  {
   "cell_type": "code",
   "execution_count": 3,
   "metadata": {},
   "outputs": [],
   "source": [
    "# Additional imports for loading PDF documents and QA chain.\n"
   ]
  },
  {
   "cell_type": "code",
   "execution_count": 4,
   "metadata": {},
   "outputs": [
    {
     "name": "stdout",
     "output_type": "stream",
     "text": [
      "Based on the information provided, Jane Doe's language skills include English as her native language and Spanish as conversational. Therefore, it is possible to write to her in Spanish, but it is unclear to what extent she would understand or be able to respond in Spanish. It would be best to clarify her level of proficiency in Spanish before assuming full comprehension.\n"
     ]
    }
   ],
   "source": [
    "# Create the PDF loader and load the document.\n",
    "\n",
    "\n",
    "# Initialize the model.\n",
    "\n",
    "\n",
    "# Create the QA chain using the LLM.\n",
    "\n",
    "\n",
    "# Define a query as a string.\n",
    "\n",
    "\n",
    "# Pass the documents and the query to the chain, and print the result.\n"
   ]
  },
  {
   "cell_type": "markdown",
   "metadata": {},
   "source": [
    "# Built-in Integrations"
   ]
  },
  {
   "cell_type": "code",
   "execution_count": 5,
   "metadata": {},
   "outputs": [],
   "source": [
    "# Additional imports for loading Wikipedia content and QA chain.\n"
   ]
  },
  {
   "cell_type": "code",
   "execution_count": 7,
   "metadata": {},
   "outputs": [
    {
     "name": "stdout",
     "output_type": "stream",
     "text": [
      "Leonard Cohen released a total of fifteen studio albums throughout his career.\n"
     ]
    }
   ],
   "source": [
    "# Initialize the model.\n",
    "\n",
    "\n",
    "# Define the wikipedia topic as a string.\n",
    "\n",
    "\n",
    "# Load the wikipedia results as documents, using a max of 2.\n",
    "\n",
    "\n",
    "# Create the QA chain using the LLM.\n",
    "\n",
    "\n",
    "# Define a query as a string.\n",
    "\n",
    "\n",
    "# Pass the documents and the query to the chain, and print the result.\n"
   ]
  },
  {
   "cell_type": "markdown",
   "metadata": {},
   "source": [
    "# External APIs"
   ]
  },
  {
   "cell_type": "code",
   "execution_count": 8,
   "metadata": {},
   "outputs": [],
   "source": [
    "# Additional imports for API chain.\n"
   ]
  },
  {
   "cell_type": "code",
   "execution_count": 9,
   "metadata": {},
   "outputs": [
    {
     "name": "stdout",
     "output_type": "stream",
     "text": [
      "\n",
      "\n",
      "\u001b[1m> Entering new APIChain chain...\u001b[0m\n",
      "\u001b[32;1m\u001b[1;3mhttp://numbersapi.com/22/trivia\u001b[0m\n",
      "\u001b[33;1m\u001b[1;3m22 is the number of stars in the Paramount Films logo.\u001b[0m\n",
      "\n",
      "\u001b[1m> Finished chain.\u001b[0m\n",
      "A fun fact about the number 22 is that it is the number of stars in the Paramount Films logo.\n"
     ]
    }
   ],
   "source": [
    "# Text description of API spec.\n",
    "\n",
    "\n",
    "# Initialize the model.\n",
    "\n",
    "\n",
    "# Create the API chain from the spec, using the LLM.\n",
    "\n",
    "\n",
    "# Define a query as a dictionary.\n",
    "\n",
    "\n",
    "# Run the chain using the query, and print the response.\n"
   ]
  },
  {
   "cell_type": "code",
   "execution_count": 10,
   "metadata": {},
   "outputs": [],
   "source": [
    "# Additional imports for API chain and processing json.\n"
   ]
  },
  {
   "cell_type": "code",
   "execution_count": 11,
   "metadata": {},
   "outputs": [
    {
     "name": "stdout",
     "output_type": "stream",
     "text": [
      "The headlines of three articles about Tracy Chapman since 2020 are:\n",
      "\n",
      "1. \"Our Keepers of 2023\"\n",
      "2. \"Country Music’s Outrage Head Fake\"\n",
      "3. \"The Rise of the A.I. Pop Star\"\n"
     ]
    }
   ],
   "source": [
    "# Store the API key in a variable.\n",
    "\n",
    "\n",
    "# Load the spec from json file and store the API key.\n",
    "\n",
    "\n",
    "# Initialize the model.\n",
    "\n",
    "\n",
    "# Create the API chain from the spec, using the LLM.\n",
    "\n",
    "\n",
    "# Define a query as a string.\n",
    "\n",
    "\n",
    "# Run the chain using the query, and print the response.\n"
   ]
  }
 ],
 "metadata": {
  "kernelspec": {
   "display_name": "Python 3",
   "language": "python",
   "name": "python3"
  },
  "language_info": {
   "codemirror_mode": {
    "name": "ipython",
    "version": 3
   },
   "file_extension": ".py",
   "mimetype": "text/x-python",
   "name": "python",
   "nbconvert_exporter": "python",
   "pygments_lexer": "ipython3",
   "version": "3.10.13"
  }
 },
 "nbformat": 4,
 "nbformat_minor": 2
}
