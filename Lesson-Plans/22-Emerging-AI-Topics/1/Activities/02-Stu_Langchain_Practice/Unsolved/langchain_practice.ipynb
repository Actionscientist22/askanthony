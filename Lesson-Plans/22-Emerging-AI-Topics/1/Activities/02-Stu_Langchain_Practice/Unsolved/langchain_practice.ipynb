{
 "cells": [
  {
   "cell_type": "code",
   "execution_count": 1,
   "metadata": {},
   "outputs": [],
   "source": [
    "# Imports for loading environment variables.\n",
    "from dotenv import load_dotenv\n",
    "import os"
   ]
  },
  {
   "cell_type": "code",
   "execution_count": 2,
   "metadata": {},
   "outputs": [],
   "source": [
    "# Load environment variables.\n",
    "load_dotenv()\n",
    "\n",
    "# Set the model name for our LLMs.\n",
    "OPENAI_MODEL = \"gpt-3.5-turbo\"\n",
    "# Store the API key in a variable.\n",
    "OPENAI_API_KEY = os.getenv(\"OPENAI_API_KEY\")"
   ]
  },
  {
   "cell_type": "code",
   "execution_count": 3,
   "metadata": {},
   "outputs": [],
   "source": [
    "# Additional imports for specific chains we'll use.\n",
    "from langchain_openai import ChatOpenAI\n",
    "from langchain.chains import LLMChain\n",
    "from langchain.chains.constitutional_ai.base import ConstitutionalChain\n",
    "from langchain.chains.constitutional_ai.models import ConstitutionalPrinciple\n",
    "from langchain.prompts import ChatPromptTemplate"
   ]
  },
  {
   "cell_type": "code",
   "execution_count": 4,
   "metadata": {},
   "outputs": [],
   "source": [
    "# Ask the user for a main ingredient for each day.\n"
   ]
  },
  {
   "cell_type": "code",
   "execution_count": 10,
   "metadata": {},
   "outputs": [],
   "source": [
    "# Ask the user for a dietary restriction.\n"
   ]
  },
  {
   "cell_type": "code",
   "execution_count": 11,
   "metadata": {},
   "outputs": [],
   "source": [
    "# Initialize the model.\n"
   ]
  },
  {
   "cell_type": "code",
   "execution_count": 12,
   "metadata": {},
   "outputs": [],
   "source": [
    "# Create a chat chain for creating the recipes.\n"
   ]
  },
  {
   "cell_type": "code",
   "execution_count": 13,
   "metadata": {},
   "outputs": [],
   "source": [
    "# Create the principle for our constitutional chain.\n"
   ]
  },
  {
   "cell_type": "code",
   "execution_count": 15,
   "metadata": {},
   "outputs": [],
   "source": [
    "# Create a constitutional chain for ensuring the requested type of recipes.\n"
   ]
  },
  {
   "cell_type": "code",
   "execution_count": 16,
   "metadata": {},
   "outputs": [],
   "source": [
    "# Set the input query for the first chain in the sequence.\n"
   ]
  },
  {
   "cell_type": "code",
   "execution_count": 17,
   "metadata": {},
   "outputs": [
    {
     "name": "stdout",
     "output_type": "stream",
     "text": [
      "Dinner 1: Broccoli and Tofu Stir-Fry\n",
      "Ingredients:\n",
      "- 1 package firm tofu, drained and cubed\n",
      "- 2 cups broccoli florets\n",
      "- 1 red bell pepper, sliced\n",
      "- 1 small onion, sliced\n",
      "- 3 cloves garlic, minced\n",
      "- 2 tablespoons soy sauce\n",
      "- 1 tablespoon oyster sauce (optional)\n",
      "- 1 tablespoon cornstarch\n",
      "- 2 tablespoons vegetable oil\n",
      "- Salt and pepper, to taste\n",
      "- Cooked rice, for serving\n",
      "\n",
      "Instructions:\n",
      "1. In a small bowl, whisk together soy sauce, oyster sauce (if using), cornstarch, and a pinch of salt and pepper. Set aside.\n",
      "2. Heat vegetable oil in a large skillet or wok over medium-high heat. Add tofu cubes and cook until browned on all sides. Remove from the skillet and set aside.\n",
      "3. In the same skillet, add garlic, onion, and bell pepper. Stir-fry for 2-3 minutes until slightly tender.\n",
      "4. Add broccoli florets to the skillet and cook for an additional 3-4 minutes until the broccoli is bright green and crisp-tender.\n",
      "5. Return the cooked tofu to the skillet and pour the sauce mixture over the ingredients. Stir well to coat everything evenly.\n",
      "6. Cook for another 2-3 minutes until the sauce thickens and coats the tofu and vegetables.\n",
      "7. Serve the stir-fry over cooked rice and enjoy!\n",
      "\n",
      "Dinner 2: Spaghetti Aglio e Olio with Broccoli\n",
      "Ingredients:\n",
      "- 8 oz spaghetti\n",
      "- 2 cups broccoli florets\n",
      "- 4 cloves garlic, thinly sliced\n",
      "- 1/2 teaspoon red pepper flakes (adjust to taste)\n",
      "- 1/4 cup extra virgin olive oil\n",
      "- Salt and pepper, to taste\n",
      "- Grated Parmesan cheese (optional)\n",
      "- Fresh parsley, chopped (optional)\n",
      "\n",
      "Instructions:\n",
      "1. Cook the spaghetti according to package instructions until al dente. Drain and set aside, reserving 1/4 cup of the pasta water.\n",
      "2. In the meantime, bring a pot of salted water to a boil. Add the broccoli florets and blanch for 2-3 minutes until crisp-tender. Drain and set aside.\n",
      "3. In a large skillet, heat the olive oil over medium heat. Add the sliced garlic and red pepper flakes. Cook for 1-2 minutes until the garlic turns golden and fragrant, being careful not to burn it.\n",
      "4. Add the cooked spaghetti and blanched broccoli to the skillet. Toss well to coat the pasta and broccoli with the garlic-infused oil. If needed, add a splash of the reserved pasta water to loosen the sauce.\n",
      "5. Season with salt and pepper to taste. Toss again to combine all the flavors.\n",
      "6. Serve the spaghetti aglio e olio with broccoli in bowls, sprinkled with grated Parmesan cheese and fresh parsley if desired. Enjoy!\n",
      "\n",
      "Revision Request: No revisions needed.\n"
     ]
    }
   ],
   "source": [
    "# Run the constitutional chain using the query as the first input.\n"
   ]
  }
 ],
 "metadata": {
  "kernelspec": {
   "display_name": "Python 3",
   "language": "python",
   "name": "python3"
  },
  "language_info": {
   "codemirror_mode": {
    "name": "ipython",
    "version": 3
   },
   "file_extension": ".py",
   "mimetype": "text/x-python",
   "name": "python",
   "nbconvert_exporter": "python",
   "pygments_lexer": "ipython3",
   "version": "3.10.12"
  }
 },
 "nbformat": 4,
 "nbformat_minor": 2
}
