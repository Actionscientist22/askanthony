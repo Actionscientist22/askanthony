{
 "cells": [
  {
   "cell_type": "code",
   "execution_count": 1,
   "metadata": {},
   "outputs": [],
   "source": [
    "# Imports for loading environment variables.\n",
    "from dotenv import load_dotenv\n",
    "import os"
   ]
  },
  {
   "cell_type": "code",
   "execution_count": 2,
   "metadata": {},
   "outputs": [],
   "source": [
    "# Load environment variables.\n",
    "load_dotenv()\n",
    "\n",
    "# Set the model name for our LLMs.\n",
    "OPENAI_MODEL = \"gpt-3.5-turbo\"\n",
    "# Store the API key in a variable.\n",
    "OPENAI_API_KEY = os.getenv(\"OPENAI_API_KEY\")"
   ]
  },
  {
   "cell_type": "code",
   "execution_count": 3,
   "metadata": {},
   "outputs": [],
   "source": [
    "# Additional imports for entity-based memory.\n",
    "from langchain_openai import ChatOpenAI\n",
    "from langchain.chains import ConversationChain\n",
    "from langchain.memory import ConversationEntityMemory\n",
    "from langchain.memory.prompt import ENTITY_MEMORY_CONVERSATION_TEMPLATE"
   ]
  },
  {
   "cell_type": "code",
   "execution_count": 4,
   "metadata": {},
   "outputs": [],
   "source": [
    "# Initialize the model.\n",
    "llm = ChatOpenAI(openai_api_key=OPENAI_API_KEY, model_name=OPENAI_MODEL, temperature=0.0)"
   ]
  },
  {
   "cell_type": "code",
   "execution_count": 12,
   "metadata": {},
   "outputs": [],
   "source": [
    "# Initialize an object for conversational memory.\n",
    "buffer = ConversationEntityMemory(llm=llm)"
   ]
  },
  {
   "cell_type": "code",
   "execution_count": 13,
   "metadata": {},
   "outputs": [],
   "source": [
    "# Create the chain for conversation, using a ConversationBufferMemory object.\n",
    "conversation = ConversationChain(\n",
    "    llm=llm, \n",
    "    memory=buffer, \n",
    "    #verbose=True, \n",
    "    prompt=ENTITY_MEMORY_CONVERSATION_TEMPLATE\n",
    ")"
   ]
  },
  {
   "cell_type": "code",
   "execution_count": 14,
   "metadata": {},
   "outputs": [],
   "source": [
    "# Prompt the user for their name.\n",
    "name = input(\"What is your name?\")\n",
    "# Prompt the user for a description of their likes and dislikes.\n",
    "description = input(\"Please describe your likes and dislikes.\")"
   ]
  },
  {
   "cell_type": "code",
   "execution_count": 15,
   "metadata": {},
   "outputs": [
    {
     "data": {
      "text/plain": [
       "{'input': 'My name is Allison and I will be organizing an activity and attending. Likes: Art and expressing my creatively, things that are out of the ordinary Dislikes: feeling left out, having to pretend or play a role.',\n",
       " 'history': '',\n",
       " 'entities': {'Allison': ''},\n",
       " 'response': \"Hello Allison! It's nice to meet you. I'm here to assist you with organizing your activity and any other questions or tasks you may have. It's great to hear that you enjoy art and expressing your creativity. If you need any help or suggestions related to art or any other topic, feel free to ask. I'm here to make sure you have a successful and enjoyable experience.\"}"
      ]
     },
     "execution_count": 15,
     "metadata": {},
     "output_type": "execute_result"
    }
   ],
   "source": [
    "# Create the query and run the chain with it.\n",
    "query = f\"My name is {name} and I will be organizing an activity and attending. {description}\"\n",
    "conversation.invoke(input=query)"
   ]
  },
  {
   "cell_type": "code",
   "execution_count": 16,
   "metadata": {},
   "outputs": [],
   "source": [
    "# Prompt the user for the number of other people.\n",
    "n_people = int(input(\"How many other people do you want to plan the activity for?\"))"
   ]
  },
  {
   "cell_type": "code",
   "execution_count": 17,
   "metadata": {},
   "outputs": [],
   "source": [
    "# Loop for each other person.\n",
    "for i in range(n_people):\n",
    "    # Prompt the user for the attendee's name.\n",
    "    name = input(\"What is this attendee's name?\")\n",
    "    # Prompt the user for the attendee's likes and dislikes.\n",
    "    description = input(f\"Please describe {name}'s likes and dislikes.\")\n",
    "\n",
    "    # Construct a query for this attendee and run the chain.\n",
    "    query = f\"{name} will be attending. {description}\"\n",
    "    conversation.run(input=query)"
   ]
  },
  {
   "cell_type": "code",
   "execution_count": 18,
   "metadata": {},
   "outputs": [],
   "source": [
    "# Define a final query as a string.\n",
    "query = \"What would be a good activity to plan for all the people mentioned?\""
   ]
  },
  {
   "cell_type": "code",
   "execution_count": 19,
   "metadata": {},
   "outputs": [
    {
     "name": "stdout",
     "output_type": "stream",
     "text": [
      "Hello Allison! Planning an activity that caters to the interests and preferences of all the people mentioned can be a fun and inclusive experience. Considering their individual likes and dislikes, here are a few activity ideas that might appeal to everyone:\n",
      "\n",
      "1. Sports-themed art workshop: Combine Andrew's love for sports with Allison's interest in art by organizing a workshop where participants can create sports-inspired artwork. This allows Andrew to engage with his passion for wrestling while providing an opportunity for Allison to express her creativity.\n",
      "\n",
      "2. Talent show: Organize a talent show where participants can showcase their unique talents and abilities. This activity allows Claire to enjoy being popular and part of the in-crowd, while also providing a platform for John to rebel against authority figures through his rock music performance.\n",
      "\n",
      "3. Outdoor adventure day: Plan a day filled with outdoor activities such as hiking, rock climbing, or team-building exercises. This allows Andrew to engage in physical activities he enjoys, while also providing an opportunity for Claire to hop around and be part of a group. John can find an outlet for his rebellious nature in the adventurous spirit of the day.\n",
      "\n",
      "Remember to create an inclusive and supportive environment where everyone feels comfortable and valued. It's important to encourage open-mindedness and respect for each other's interests and preferences. I hope these suggestions help, and if you need more specific ideas or assistance with planning, feel free to let me know!\n"
     ]
    }
   ],
   "source": [
    "\n",
    "# Pass the query to the predict method which will make a prediction based on the query, and print the result.\n",
    "result = conversation.predict(input=query)\n",
    "print(result, end='\\n')"
   ]
  }
 ],
 "metadata": {
  "kernelspec": {
   "display_name": "Python 3",
   "language": "python",
   "name": "python3"
  },
  "language_info": {
   "codemirror_mode": {
    "name": "ipython",
    "version": 3
   },
   "file_extension": ".py",
   "mimetype": "text/x-python",
   "name": "python",
   "nbconvert_exporter": "python",
   "pygments_lexer": "ipython3",
   "version": "3.10.12"
  }
 },
 "nbformat": 4,
 "nbformat_minor": 2
}
