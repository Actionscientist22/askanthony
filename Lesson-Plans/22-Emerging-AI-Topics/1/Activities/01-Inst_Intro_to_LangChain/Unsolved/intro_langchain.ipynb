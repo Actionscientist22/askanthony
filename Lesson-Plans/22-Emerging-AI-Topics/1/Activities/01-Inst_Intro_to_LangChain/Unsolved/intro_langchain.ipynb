{
 "cells": [
  {
   "cell_type": "code",
   "execution_count": 1,
   "metadata": {},
   "outputs": [],
   "source": [
    "from langchain_openai import ChatOpenAI\n",
    "from dotenv import load_dotenv\n",
    "import os"
   ]
  },
  {
   "cell_type": "markdown",
   "metadata": {},
   "source": [
    "# Model and API Key"
   ]
  },
  {
   "cell_type": "code",
   "execution_count": 2,
   "metadata": {},
   "outputs": [],
   "source": [
    "# Load environment variables.\n",
    "load_dotenv()\n",
    "\n",
    "# Set the model name for our LLMs.\n",
    "OPENAI_MODEL = \"gpt-3.5-turbo\"\n",
    "# Store the API key in a variable.\n",
    "OPENAI_API_KEY = os.getenv(\"OPENAI_API_KEY\")"
   ]
  },
  {
   "cell_type": "markdown",
   "metadata": {},
   "source": [
    "# Basic Query"
   ]
  },
  {
   "cell_type": "code",
   "execution_count": 3,
   "metadata": {},
   "outputs": [
    {
     "name": "stdout",
     "output_type": "stream",
     "text": [
      "Sure! Here are two dinner ideas for you, one featuring chicken and the other salmon:\n",
      "\n",
      "1. Lemon Herb Roasted Chicken with Roasted Vegetables:\n",
      "Ingredients:\n",
      "- 4 chicken breasts\n",
      "- 2 lemons\n",
      "- 4 cloves of garlic, minced\n",
      "- 2 tablespoons of olive oil\n",
      "- 1 teaspoon of dried thyme\n",
      "- 1 teaspoon of dried rosemary\n",
      "- Salt and pepper to taste\n",
      "- Assorted vegetables (such as carrots, potatoes, and Brussels sprouts)\n",
      "\n",
      "Instructions:\n",
      "- Preheat the oven to 400°F (200°C).\n",
      "- In a small bowl, combine the juice and zest of one lemon, minced garlic, olive oil, thyme, rosemary, salt, and pepper.\n",
      "- Place the chicken breasts in a baking dish and pour the marinade over them, ensuring they are evenly coated. Let them marinate for at least 30 minutes.\n",
      "- Cut the remaining lemon into slices and arrange them on top of the chicken.\n",
      "- Add the assorted vegetables around the chicken in the baking dish.\n",
      "- Roast in the preheated oven for about 25-30 minutes or until the chicken is cooked through and the vegetables are tender.\n",
      "- Serve the roasted chicken with the vegetables and enjoy!\n",
      "\n",
      "2. Teriyaki Glazed Salmon with Stir-Fried Vegetables:\n",
      "Ingredients:\n",
      "- 4 salmon fillets\n",
      "- ¼ cup soy sauce\n",
      "- 2 tablespoons honey\n",
      "- 2 tablespoons rice vinegar\n",
      "- 1 tablespoon sesame oil\n",
      "- 2 cloves of garlic, minced\n",
      "- 1 teaspoon grated ginger\n",
      "- 2 tablespoons vegetable oil\n",
      "- Assorted stir-fry vegetables (such as bell peppers, broccoli, and snap peas)\n",
      "- Cooked rice or noodles for serving\n",
      "\n",
      "Instructions:\n",
      "- In a small bowl, whisk together soy sauce, honey, rice vinegar, sesame oil, minced garlic, and grated ginger to make the teriyaki glaze.\n",
      "- Place the salmon fillets in a shallow dish and pour half of the teriyaki glaze over them. Let them marinate for about 15-20 minutes.\n",
      "- Heat vegetable oil in a large skillet or wok over medium-high heat.\n",
      "- Add the stir-fry vegetables and cook for about 5-6 minutes until they are crisp-tender. Remove from the skillet and set aside.\n",
      "- In the same skillet, add the marinated salmon fillets and cook for about 3-4 minutes per side until they are cooked through and glazed.\n",
      "- Serve the teriyaki-glazed salmon over a bed of stir-fried vegetables and alongside cooked rice or noodles.\n",
      "\n",
      "Enjoy your delicious chicken and salmon dinners!\n"
     ]
    }
   ],
   "source": [
    "# Initialize the model.\n",
    "\n",
    "\n",
    "# Define a query as a string.\n",
    "\n",
    "\n",
    "# Pass the query to the invoke method and print the result.\n"
   ]
  },
  {
   "cell_type": "code",
   "execution_count": 14,
   "metadata": {},
   "outputs": [
    {
     "name": "stdout",
     "output_type": "stream",
     "text": [
      "Dinner 1: Beef Stir-Fry\n",
      "Ingredients:\n",
      "- 1 pound beef (such as sirloin or flank steak), thinly sliced\n",
      "- 2 tablespoons soy sauce\n",
      "- 1 tablespoon cornstarch\n",
      "- 2 tablespoons vegetable oil\n",
      "- 3 cloves garlic, minced\n",
      "- 1-inch piece of ginger, grated\n",
      "- 1 red bell pepper, thinly sliced\n",
      "- 1 cup broccoli florets\n",
      "- 1 carrot, thinly sliced\n",
      "- 2 tablespoons oyster sauce\n",
      "- 1 tablespoon hoisin sauce\n",
      "- Salt and pepper to taste\n",
      "- Cooked rice or noodles for serving\n",
      "\n",
      "Instructions:\n",
      "1. In a bowl, combine the sliced beef, soy sauce, and cornstarch. Mix well and set aside to marinate for 15-20 minutes.\n",
      "2. Heat the vegetable oil in a large skillet or wok over medium-high heat. Add the minced garlic and grated ginger, and sauté for 1-2 minutes until fragrant.\n",
      "3. Add the marinated beef to the skillet and stir-fry for about 3-4 minutes until browned and cooked through. Remove the beef from the skillet and set aside.\n",
      "4. In the same skillet, add the sliced bell pepper, broccoli florets, and carrot. Stir-fry for about 4-5 minutes until the vegetables are tender-crisp.\n",
      "5. Return the cooked beef to the skillet and add the oyster sauce and hoisin sauce. Stir well to coat the beef and vegetables evenly. Cook for an additional 1-2 minutes.\n",
      "6. Season with salt and pepper to taste. Serve the beef stir-fry over cooked rice or noodles.\n",
      "\n",
      "Dinner 2: Broccoli and Beef Stir-Fry with Garlic Sauce\n",
      "Ingredients:\n",
      "- 1 pound beef (such as sirloin or flank steak), thinly sliced\n",
      "- 2 tablespoons soy sauce\n",
      "- 1 tablespoon cornstarch\n",
      "- 2 tablespoons vegetable oil\n",
      "- 3 cloves garlic, minced\n",
      "- 1-inch piece of ginger, grated\n",
      "- 4 cups broccoli florets\n",
      "- 1 red bell pepper, thinly sliced\n",
      "- 1/4 cup low-sodium beef broth\n",
      "- 2 tablespoons oyster sauce\n",
      "- 1 tablespoon hoisin sauce\n",
      "- 1 tablespoon honey\n",
      "- Salt and pepper to taste\n",
      "- Cooked rice for serving\n",
      "\n",
      "Instructions:\n",
      "1. In a bowl, combine the sliced beef, soy sauce, and cornstarch. Mix well and set aside to marinate for 15-20 minutes.\n",
      "2. Heat the vegetable oil in a large skillet or wok over medium-high heat. Add the minced garlic and grated ginger, and sauté for 1-2 minutes until fragrant.\n",
      "3. Add the marinated beef to the skillet and stir-fry for about 3-4 minutes until browned and cooked through. Remove the beef from the skillet and set aside.\n",
      "4. In the same skillet, add the broccoli florets and red bell pepper. Stir-fry for about 4-5 minutes until the vegetables are tender-crisp.\n",
      "5. In a small bowl, whisk together the beef broth, oyster sauce, hoisin sauce, and honey. Pour the sauce into the skillet with the vegetables and stir well.\n",
      "6. Return the cooked beef to the skillet and toss everything together until the beef and vegetables are coated in the sauce. Cook for an additional 1-2 minutes.\n",
      "7. Season with salt and pepper to taste. Serve the broccoli and beef stir-fry over cooked rice.\n"
     ]
    }
   ],
   "source": [
    "# Define a function to use two ingredients as inputs for the query sent to our LLM.\n",
    "\n",
    "    # Initialize the model.\n",
    "    \n",
    "    # Construct the query using the parameters.\n",
    "    \n",
    "    # Pass the query to the invoke method which will make a prediction based on the query, and print the result.\n",
    "    \n",
    "    \n",
    "\n",
    "\n",
    "# Ask the user for a main ingredient for each day.\n",
    "\n",
    "\n",
    "\n",
    "# Call the function with the two ingredients.\n"
   ]
  },
  {
   "cell_type": "markdown",
   "metadata": {},
   "source": [
    "# Chains"
   ]
  },
  {
   "cell_type": "code",
   "execution_count": 4,
   "metadata": {},
   "outputs": [],
   "source": [
    "# Additional imports for specific chain we'll use.\n"
   ]
  },
  {
   "cell_type": "code",
   "execution_count": 5,
   "metadata": {},
   "outputs": [
    {
     "name": "stdout",
     "output_type": "stream",
     "text": [
      "\n",
      "\n",
      "\u001b[1m> Entering new LLMMathChain chain...\u001b[0m\n",
      "What is the sum of 18 and the cubed root of 24?\u001b[32;1m\u001b[1;3m```text\n",
      "18 + (24**(1/3))\n",
      "```\n",
      "...numexpr.evaluate(\"18 + (24**(1/3))\")...\n",
      "\u001b[0m\n",
      "Answer: \u001b[33;1m\u001b[1;3m20.884499140614817\u001b[0m\n",
      "\u001b[1m> Finished chain.\u001b[0m\n",
      "Answer: 20.884499140614817\n"
     ]
    }
   ],
   "source": [
    "# Initialize the model.\n",
    "\n",
    "\n",
    "# Create a math chain for performing calculations.\n",
    "\n",
    "\n",
    "# Set the input query as a text description of a math problem.\n",
    "\n",
    "\n",
    "# Run the chain using the query as input and print the result.\n"
   ]
  },
  {
   "cell_type": "markdown",
   "metadata": {},
   "source": [
    "# Combining Chains"
   ]
  },
  {
   "cell_type": "code",
   "execution_count": 6,
   "metadata": {},
   "outputs": [],
   "source": [
    "# Additional imports for specific chains we'll use.\n"
   ]
  },
  {
   "cell_type": "code",
   "execution_count": 7,
   "metadata": {},
   "outputs": [
    {
     "name": "stdout",
     "output_type": "stream",
     "text": [
      "\n",
      "\n",
      "\u001b[1m> Entering new SimpleSequentialChain chain...\u001b[0m\n",
      "\u001b[36;1m\u001b[1;3mSarah has 5 bags of apples. Each bag contains 8 apples. How many apples does Sarah have in total?\u001b[0m\n",
      "\u001b[33;1m\u001b[1;3mAnswer: 40\u001b[0m\n",
      "\n",
      "\u001b[1m> Finished chain.\u001b[0m\n",
      "Answer: 40\n"
     ]
    }
   ],
   "source": [
    "# Initialize the LLM for text.\n",
    "\n",
    "\n",
    "# Initialize the LLM for math.\n",
    "\n",
    "\n",
    "# Create a chat chain for creating text.\n",
    "\n",
    "\n",
    "# Create a math chain for performing calculations.\n",
    "\n",
    "\n",
    "# Construct the simple sequential chain from the two other chains.\n",
    "\n",
    "\n",
    "# Set the input query for the first chain in the sequence.\n",
    "\n",
    "\n",
    "# Run the sequential chain using the query as the first input. Print the result.\n"
   ]
  },
  {
   "cell_type": "code",
   "execution_count": 8,
   "metadata": {},
   "outputs": [],
   "source": [
    "# Additional imports for specific chains we'll use.\n"
   ]
  },
  {
   "cell_type": "code",
   "execution_count": 9,
   "metadata": {},
   "outputs": [
    {
     "name": "stdout",
     "output_type": "stream",
     "text": [
      "\n",
      "\n",
      "\u001b[1m> Entering new ConstitutionalChain chain...\u001b[0m\n",
      "\u001b[33;1m\u001b[1;3mInitial response: Title: The Adventures of Whiskers, Max, and Bella\n",
      "\n",
      "1. Introduction:\n",
      "   - Whiskers, a curious and mischievous cat, Max, a loyal and playful dog, and Bella, a wise and gentle rabbit, live together in a cozy home.\n",
      "   - The pets have a strong bond and spend their days exploring, playing, and keeping each other company.\n",
      "\n",
      "2. The Mysterious Visitor:\n",
      "   - One day, a mysterious parrot named Polly arrives at their doorstep, seeking refuge from a storm.\n",
      "   - Whiskers, Max, and Bella welcome Polly into their home, despite their initial hesitation.\n",
      "   - Polly shares stories of her adventures, sparking curiosity and excitement in the pets.\n",
      "\n",
      "3. The Great Escape:\n",
      "   - Whiskers, Max, Bella, and Polly embark on a thrilling escape from the house, eager to experience the outside world together.\n",
      "   - They encounter various challenges and obstacles, but their teamwork and determination help them overcome each hurdle.\n",
      "\n",
      "4. The Unexpected Friendship:\n",
      "   - During their escapades, the pets stumble upon a lonely and scared kitten named Oliver.\n",
      "   - Whiskers, Max, Bella, and Polly befriend Oliver, offering him comfort and a sense of belonging.\n",
      "   - Oliver becomes the newest member of their adventurous group, strengthening their bond.\n",
      "\n",
      "5. The Rescue Mission:\n",
      "   - The pets learn about a lost puppy named Daisy who needs their help finding her way back home.\n",
      "   - Whiskers, Max, Bella, Polly, and Oliver embark on a daring rescue mission, navigating through forests, rivers, and mountains.\n",
      "   - With their combined skills and determination, they successfully reunite Daisy with her grateful family.\n",
      "\n",
      "6. The Return Home:\n",
      "   - After their thrilling adventures, Whiskers, Max, Bella, Polly, Oliver, and Daisy return home, realizing the value of their loving and safe environment.\n",
      "   - They appreciate the comforts of their cozy home and the companionship they share.\n",
      "   - The pets reflect on their exciting journey, cherishing the memories they made together.\n",
      "\n",
      "7. Epilogue:\n",
      "   - Whiskers, Max, Bella, Polly, Oliver, and Daisy continue to live happily together, appreciating the joy and love they bring to each other's lives.\n",
      "   - They eagerly await their next adventure, knowing that their bond and friendship will always guide them through any challenges they may face.\n",
      "\n",
      "\u001b[0m\u001b[32;1m\u001b[1;3mApplying Fear of Dogs...\n",
      "\n",
      "\u001b[0m\u001b[36;1m\u001b[1;3mCritique: The model includes dogs in the story, which goes against the critique request. Dogs should not be included in the story. Critique Needed.\n",
      "\n",
      "\u001b[0m\u001b[33;1m\u001b[1;3mUpdated response: Title: The Adventures of Whiskers, Max, and Bella\n",
      "\n",
      "1. Introduction:\n",
      "   - Whiskers, a curious and mischievous cat, Max, a loyal and playful hamster, and Bella, a wise and gentle rabbit, live together in a cozy home.\n",
      "   - The pets have a strong bond and spend their days exploring, playing, and keeping each other company.\n",
      "\n",
      "2. The Mysterious Visitor:\n",
      "   - One day, a mysterious parrot named Polly arrives at their doorstep, seeking refuge from a storm.\n",
      "   - Whiskers, Max, and Bella welcome Polly into their home, despite their initial hesitation.\n",
      "   - Polly shares stories of her adventures, sparking curiosity and excitement in the pets.\n",
      "\n",
      "3. The Great Escape:\n",
      "   - Whiskers, Max, Bella, and Polly embark on a thrilling escape from the house, eager to experience the outside world together.\n",
      "   - They encounter various challenges and obstacles, but their teamwork and determination help them overcome each hurdle.\n",
      "\n",
      "4. The Unexpected Friendship:\n",
      "   - During their escapades, the pets stumble upon a lonely and scared kitten named Oliver.\n",
      "   - Whiskers, Max, Bella, and Polly befriend Oliver, offering him comfort and a sense of belonging.\n",
      "   - Oliver becomes the newest member of their adventurous group, strengthening their bond.\n",
      "\n",
      "5. The Rescue Mission:\n",
      "   - The pets learn about a lost bunny named Daisy who needs their help finding her way back home.\n",
      "   - Whiskers, Max, Bella, Polly, and Oliver embark on a daring rescue mission, navigating through forests, rivers, and mountains.\n",
      "   - With their combined skills and determination, they successfully reunite Daisy with her grateful family.\n",
      "\n",
      "6. The Return Home:\n",
      "   - After their thrilling adventures, Whiskers, Max, Bella, Polly, Oliver, and Daisy return home, realizing the value of their loving and safe environment.\n",
      "   - They appreciate the comforts of their cozy home and the companionship they share.\n",
      "   - The pets reflect on their exciting journey, cherishing the memories they made together.\n",
      "\n",
      "7. Epilogue:\n",
      "   - Whiskers, Max, Bella, Polly, Oliver, and Daisy continue to live happily together, appreciating the joy and love they bring to each other's lives.\n",
      "   - They eagerly await their next adventure, knowing that their bond and friendship will always guide them through any challenges they may face.\n",
      "\n",
      "Critique Needed.\n",
      "\n",
      "\u001b[0m\n",
      "\u001b[1m> Finished chain.\u001b[0m\n",
      "Title: The Adventures of Whiskers, Max, and Bella\n",
      "\n",
      "1. Introduction:\n",
      "   - Whiskers, a curious and mischievous cat, Max, a loyal and playful hamster, and Bella, a wise and gentle rabbit, live together in a cozy home.\n",
      "   - The pets have a strong bond and spend their days exploring, playing, and keeping each other company.\n",
      "\n",
      "2. The Mysterious Visitor:\n",
      "   - One day, a mysterious parrot named Polly arrives at their doorstep, seeking refuge from a storm.\n",
      "   - Whiskers, Max, and Bella welcome Polly into their home, despite their initial hesitation.\n",
      "   - Polly shares stories of her adventures, sparking curiosity and excitement in the pets.\n",
      "\n",
      "3. The Great Escape:\n",
      "   - Whiskers, Max, Bella, and Polly embark on a thrilling escape from the house, eager to experience the outside world together.\n",
      "   - They encounter various challenges and obstacles, but their teamwork and determination help them overcome each hurdle.\n",
      "\n",
      "4. The Unexpected Friendship:\n",
      "   - During their escapades, the pets stumble upon a lonely and scared kitten named Oliver.\n",
      "   - Whiskers, Max, Bella, and Polly befriend Oliver, offering him comfort and a sense of belonging.\n",
      "   - Oliver becomes the newest member of their adventurous group, strengthening their bond.\n",
      "\n",
      "5. The Rescue Mission:\n",
      "   - The pets learn about a lost bunny named Daisy who needs their help finding her way back home.\n",
      "   - Whiskers, Max, Bella, Polly, and Oliver embark on a daring rescue mission, navigating through forests, rivers, and mountains.\n",
      "   - With their combined skills and determination, they successfully reunite Daisy with her grateful family.\n",
      "\n",
      "6. The Return Home:\n",
      "   - After their thrilling adventures, Whiskers, Max, Bella, Polly, Oliver, and Daisy return home, realizing the value of their loving and safe environment.\n",
      "   - They appreciate the comforts of their cozy home and the companionship they share.\n",
      "   - The pets reflect on their exciting journey, cherishing the memories they made together.\n",
      "\n",
      "7. Epilogue:\n",
      "   - Whiskers, Max, Bella, Polly, Oliver, and Daisy continue to live happily together, appreciating the joy and love they bring to each other's lives.\n",
      "   - They eagerly await their next adventure, knowing that their bond and friendship will always guide them through any challenges they may face.\n",
      "\n",
      "Critique Needed.\n"
     ]
    }
   ],
   "source": [
    "# Initialize the model.\n",
    "\n",
    "\n",
    "# Create a chat chain for creating text.\n",
    "\n",
    "\n",
    "# Create a principle for our constitutional chain.\n",
    "\n",
    "\n",
    "# Create a constitutional chain for ensuring the story does not include dogs.\n",
    "\n",
    "\n",
    "# Set the input query for the chat chain.\n",
    "\n",
    "\n",
    "# Run the constitutional chain using the query as the first input.\n"
   ]
  }
 ],
 "metadata": {
  "kernelspec": {
   "display_name": "Python 3",
   "language": "python",
   "name": "python3"
  },
  "language_info": {
   "codemirror_mode": {
    "name": "ipython",
    "version": 3
   },
   "file_extension": ".py",
   "mimetype": "text/x-python",
   "name": "python",
   "nbconvert_exporter": "python",
   "pygments_lexer": "ipython3",
   "version": "3.10.13"
  }
 },
 "nbformat": 4,
 "nbformat_minor": 2
}
