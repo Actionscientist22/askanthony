{
 "cells": [
  {
   "cell_type": "code",
   "execution_count": 1,
   "id": "949c4137",
   "metadata": {},
   "outputs": [
    {
     "name": "stderr",
     "output_type": "stream",
     "text": [
      "2023-11-30 14:58:10.002714: I tensorflow/core/platform/cpu_feature_guard.cc:182] This TensorFlow binary is optimized to use available CPU instructions in performance-critical operations.\n",
      "To enable the following instructions: AVX2 FMA, in other operations, rebuild TensorFlow with the appropriate compiler flags.\n"
     ]
    }
   ],
   "source": [
    "# Import the dependencies\n",
    "from keras.preprocessing.text import Tokenizer"
   ]
  },
  {
   "cell_type": "code",
   "execution_count": 2,
   "id": "8fdb99bc",
   "metadata": {},
   "outputs": [],
   "source": [
    "# Define a list of sentences to tokenize. \n",
    "sentences = [\"I love my dog.\", \"I love my family.\", \"My dog is a lab\"]"
   ]
  },
  {
   "cell_type": "code",
   "execution_count": 3,
   "id": "e771d5dd",
   "metadata": {},
   "outputs": [],
   "source": [
    "# Create an instance of the Tokenizer\n",
    "tokenizer = Tokenizer()\n",
    "# Fit the tokenizer on the documents\n",
    "tokenizer.fit_on_texts(sentences)"
   ]
  },
  {
   "cell_type": "code",
   "execution_count": 4,
   "id": "3f6b87a1",
   "metadata": {},
   "outputs": [
    {
     "name": "stdout",
     "output_type": "stream",
     "text": [
      "{'my': 1, 'i': 2, 'love': 3, 'dog': 4, 'family': 5, 'is': 6, 'a': 7, 'lab': 8}\n"
     ]
    }
   ],
   "source": [
    "# Create a dictionary mapping of words to their indices\n",
    "print(tokenizer.word_index)"
   ]
  },
  {
   "cell_type": "code",
   "execution_count": 5,
   "id": "320f0b9b",
   "metadata": {},
   "outputs": [
    {
     "data": {
      "text/plain": [
       "[[2, 3, 1, 4], [2, 3, 1, 5], [1, 4, 6, 7, 8]]"
      ]
     },
     "execution_count": 5,
     "metadata": {},
     "output_type": "execute_result"
    }
   ],
   "source": [
    "# Encode each word in the text_sequences to the indices. \n",
    "sequences = tokenizer.texts_to_sequences(sentences)\n",
    "sequences"
   ]
  },
  {
   "cell_type": "code",
   "execution_count": 6,
   "id": "31d24c43",
   "metadata": {},
   "outputs": [
    {
     "data": {
      "text/plain": [
       "['i love my dog', 'i love my family', 'my dog is a lab']"
      ]
     },
     "execution_count": 6,
     "metadata": {},
     "output_type": "execute_result"
    }
   ],
   "source": [
    "# Regenerate the sentences from the indcies.\n",
    "[sequence for sequence in tokenizer.sequences_to_texts_generator(sequences)]"
   ]
  },
  {
   "cell_type": "code",
   "execution_count": null,
   "id": "de20feb9",
   "metadata": {},
   "outputs": [],
   "source": []
  }
 ],
 "metadata": {
  "kernelspec": {
   "display_name": "Python 3 (ipykernel)",
   "language": "python",
   "name": "python3"
  },
  "language_info": {
   "codemirror_mode": {
    "name": "ipython",
    "version": 3
   },
   "file_extension": ".py",
   "mimetype": "text/x-python",
   "name": "python",
   "nbconvert_exporter": "python",
   "pygments_lexer": "ipython3",
   "version": "3.10.12"
  }
 },
 "nbformat": 4,
 "nbformat_minor": 5
}
