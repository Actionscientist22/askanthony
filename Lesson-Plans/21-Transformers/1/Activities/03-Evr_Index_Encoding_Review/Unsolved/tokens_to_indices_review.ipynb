{
 "cells": [
  {
   "cell_type": "code",
   "execution_count": null,
   "id": "949c4137",
   "metadata": {},
   "outputs": [],
   "source": [
    "# Import the dependencies\n",
    "from keras.preprocessing.text import Tokenizer"
   ]
  },
  {
   "cell_type": "code",
   "execution_count": null,
   "id": "8fdb99bc",
   "metadata": {},
   "outputs": [],
   "source": [
    "# Define a list of sentences to tokenize. \n",
    "sentences = [\"I love my dog.\", \"I love my family.\", \"My dog is a lab\"]"
   ]
  },
  {
   "cell_type": "code",
   "execution_count": null,
   "id": "e771d5dd",
   "metadata": {},
   "outputs": [],
   "source": [
    "# Create an instance of the Tokenizer\n",
    "tokenizer = Tokenizer()\n",
    "# Fit the tokenizer on the documents\n",
    "tokenizer.fit_on_texts(sentences)"
   ]
  },
  {
   "cell_type": "code",
   "execution_count": null,
   "id": "3f6b87a1",
   "metadata": {},
   "outputs": [],
   "source": [
    "# Create a dictionary mapping of words to their indices\n"
   ]
  },
  {
   "cell_type": "code",
   "execution_count": null,
   "id": "320f0b9b",
   "metadata": {},
   "outputs": [],
   "source": [
    "# Encode each word in the text_sequences to the indices. \n"
   ]
  },
  {
   "cell_type": "code",
   "execution_count": null,
   "id": "31d24c43",
   "metadata": {},
   "outputs": [],
   "source": [
    "# Regenerate the sentences from the indcies.\n"
   ]
  },
  {
   "cell_type": "code",
   "execution_count": null,
   "id": "de20feb9",
   "metadata": {},
   "outputs": [],
   "source": []
  }
 ],
 "metadata": {
  "kernelspec": {
   "display_name": "Python 3 (ipykernel)",
   "language": "python",
   "name": "python3"
  },
  "language_info": {
   "codemirror_mode": {
    "name": "ipython",
    "version": 3
   },
   "file_extension": ".py",
   "mimetype": "text/x-python",
   "name": "python",
   "nbconvert_exporter": "python",
   "pygments_lexer": "ipython3",
   "version": "3.10.12"
  }
 },
 "nbformat": 4,
 "nbformat_minor": 5
}
