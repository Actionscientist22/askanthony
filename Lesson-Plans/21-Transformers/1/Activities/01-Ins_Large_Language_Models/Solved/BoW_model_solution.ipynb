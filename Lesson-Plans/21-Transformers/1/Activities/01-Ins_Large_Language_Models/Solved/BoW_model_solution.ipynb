{
 "cells": [
  {
   "cell_type": "code",
   "execution_count": 1,
   "id": "e746fb5a",
   "metadata": {},
   "outputs": [
    {
     "name": "stderr",
     "output_type": "stream",
     "text": [
      "[nltk_data] Downloading package punkt to /Users/tberton/nltk_data...\n",
      "[nltk_data]   Package punkt is already up-to-date!\n"
     ]
    }
   ],
   "source": [
    "# Import the dependencies\n",
    "import nltk\n",
    "from nltk.corpus import stopwords\n",
    "nltk.download('punkt')\n",
    "# Initialize the stopwords\n",
    "stop_words = set(stopwords.words('english'))"
   ]
  },
  {
   "cell_type": "code",
   "execution_count": 2,
   "id": "4c213781",
   "metadata": {},
   "outputs": [],
   "source": [
    "# Define the sentences.\n",
    "sentence_1 = \"I want to invest for retirement.\"\n",
    "sentence_2 = \"Should I invest in mutual funds, or should I invest in stocks?\"\n",
    "sentence_3 = \"I should schedule an appointment with a financial planner.\""
   ]
  },
  {
   "cell_type": "code",
   "execution_count": 3,
   "id": "a898a91c",
   "metadata": {},
   "outputs": [
    {
     "data": {
      "text/plain": [
       "[['i', 'want', 'to', 'invest', 'for', 'retirement'],\n",
       " ['should',\n",
       "  'i',\n",
       "  'invest',\n",
       "  'in',\n",
       "  'mutual',\n",
       "  'funds',\n",
       "  'or',\n",
       "  'should',\n",
       "  'i',\n",
       "  'invest',\n",
       "  'in',\n",
       "  'stocks'],\n",
       " ['i',\n",
       "  'should',\n",
       "  'schedule',\n",
       "  'an',\n",
       "  'appointment',\n",
       "  'with',\n",
       "  'a',\n",
       "  'financial',\n",
       "  'planner']]"
      ]
     },
     "execution_count": 3,
     "metadata": {},
     "output_type": "execute_result"
    }
   ],
   "source": [
    "# Import regex\n",
    "import re\n",
    "# Create a regex pattern to remove punctuation. \n",
    "pattern = r'[^a-zA-Z\\s ]'\n",
    "\n",
    "# Create an empty list to hold the tokens.\n",
    "tokens = []\n",
    "\n",
    "# Remove punctuation, tokenize sentence 1, and add the tokens to the tokens list.\n",
    "sentence_1_cleaned = re.sub(pattern, '', sentence_1)\n",
    "sentence_1_tokens = nltk.word_tokenize(sentence_1_cleaned.lower())\n",
    "tokens.append(sentence_1_tokens)\n",
    "\n",
    "# Remove punctuation, tokenize sentence 2, and add the tokens to the tokens list.\n",
    "sentence_2_cleaned = re.sub(pattern, '', sentence_2)\n",
    "sentence_2_tokens = nltk.word_tokenize(sentence_2_cleaned.lower())\n",
    "tokens.append(sentence_2_tokens)\n",
    "\n",
    "# Remove punctuation, tokenize sentence 3, and add the tokens to the tokens list.\n",
    "sentence_3_cleaned = re.sub(pattern, '', sentence_3)\n",
    "sentence_3_tokens = nltk.word_tokenize(sentence_3_cleaned.lower())\n",
    "tokens.append(sentence_3_tokens)\n",
    "\n",
    "# Display the tokens.\n",
    "tokens"
   ]
  },
  {
   "cell_type": "code",
   "execution_count": 4,
   "id": "3dc44861",
   "metadata": {},
   "outputs": [
    {
     "data": {
      "text/plain": [
       "[['want', 'invest', 'retirement'],\n",
       " ['invest', 'mutual', 'funds', 'invest', 'stocks'],\n",
       " ['schedule', 'appointment', 'financial', 'planner']]"
      ]
     },
     "execution_count": 4,
     "metadata": {},
     "output_type": "execute_result"
    }
   ],
   "source": [
    "# Remove stopwords\n",
    "filtered_tokens = []\n",
    "for token in tokens:\n",
    "    filtered_token = [word for word in token if not word in stop_words]\n",
    "    filtered_tokens.append(filtered_token)\n",
    "    \n",
    "# Diplay the filtered_tokens\n",
    "filtered_tokens"
   ]
  },
  {
   "cell_type": "code",
   "execution_count": 5,
   "id": "bfff94eb",
   "metadata": {},
   "outputs": [
    {
     "data": {
      "text/plain": [
       "{'want': 1,\n",
       " 'invest': 3,\n",
       " 'retirement': 1,\n",
       " 'mutual': 1,\n",
       " 'funds': 1,\n",
       " 'stocks': 1,\n",
       " 'schedule': 1,\n",
       " 'appointment': 1,\n",
       " 'financial': 1,\n",
       " 'planner': 1}"
      ]
     },
     "execution_count": 5,
     "metadata": {},
     "output_type": "execute_result"
    }
   ],
   "source": [
    "# Create the bag-of-words\n",
    "bag_of_words = {}\n",
    "for i in range(len(filtered_tokens)):\n",
    "    for word in filtered_tokens[i]:\n",
    "        if word not in bag_of_words:\n",
    "            bag_of_words[word] = 0\n",
    "        bag_of_words[word] += 1\n",
    "\n",
    "# Print the bag_of_words\n",
    "print(bag_of_words)"
   ]
  },
  {
   "cell_type": "markdown",
   "id": "624e1da0",
   "metadata": {},
   "source": [
    "### Using scikit-learn's `CountVectorizer` demonstrate how a BoW is created."
   ]
  },
  {
   "cell_type": "code",
   "execution_count": 6,
   "id": "b71d0336",
   "metadata": {},
   "outputs": [],
   "source": [
    "# Import the dependencies\n",
    "from sklearn.feature_extraction.text import CountVectorizer\n",
    "import pandas as pd"
   ]
  },
  {
   "cell_type": "code",
   "execution_count": 7,
   "id": "4fd93692",
   "metadata": {},
   "outputs": [
    {
     "name": "stdout",
     "output_type": "stream",
     "text": [
      "[[0 0 0 1 0 0 1 0 0 1]\n",
      " [0 0 1 2 1 0 0 0 1 0]\n",
      " [1 1 0 0 0 1 0 1 0 0]]\n"
     ]
    }
   ],
   "source": [
    "# Create a CountVectorizer object\n",
    "vectorizer = CountVectorizer(stop_words='english')\n",
    "\n",
    "# Fit the vectorizer to the input sentences and transform them into a bag of words\n",
    "bag_of_words = vectorizer.fit_transform([sentence_1,sentence_2, sentence_3])\n",
    "\n",
    "# Print the resulting bag of words\n",
    "print(bag_of_words.toarray())"
   ]
  },
  {
   "cell_type": "code",
   "execution_count": 8,
   "id": "ad26a042",
   "metadata": {},
   "outputs": [
    {
     "data": {
      "text/html": [
       "<div>\n",
       "<style scoped>\n",
       "    .dataframe tbody tr th:only-of-type {\n",
       "        vertical-align: middle;\n",
       "    }\n",
       "\n",
       "    .dataframe tbody tr th {\n",
       "        vertical-align: top;\n",
       "    }\n",
       "\n",
       "    .dataframe thead th {\n",
       "        text-align: right;\n",
       "    }\n",
       "</style>\n",
       "<table border=\"1\" class=\"dataframe\">\n",
       "  <thead>\n",
       "    <tr style=\"text-align: right;\">\n",
       "      <th></th>\n",
       "      <th>appointment</th>\n",
       "      <th>financial</th>\n",
       "      <th>funds</th>\n",
       "      <th>invest</th>\n",
       "      <th>mutual</th>\n",
       "      <th>planner</th>\n",
       "      <th>retirement</th>\n",
       "      <th>schedule</th>\n",
       "      <th>stocks</th>\n",
       "      <th>want</th>\n",
       "    </tr>\n",
       "  </thead>\n",
       "  <tbody>\n",
       "    <tr>\n",
       "      <th>0</th>\n",
       "      <td>0</td>\n",
       "      <td>0</td>\n",
       "      <td>0</td>\n",
       "      <td>1</td>\n",
       "      <td>0</td>\n",
       "      <td>0</td>\n",
       "      <td>1</td>\n",
       "      <td>0</td>\n",
       "      <td>0</td>\n",
       "      <td>1</td>\n",
       "    </tr>\n",
       "    <tr>\n",
       "      <th>1</th>\n",
       "      <td>0</td>\n",
       "      <td>0</td>\n",
       "      <td>1</td>\n",
       "      <td>2</td>\n",
       "      <td>1</td>\n",
       "      <td>0</td>\n",
       "      <td>0</td>\n",
       "      <td>0</td>\n",
       "      <td>1</td>\n",
       "      <td>0</td>\n",
       "    </tr>\n",
       "    <tr>\n",
       "      <th>2</th>\n",
       "      <td>1</td>\n",
       "      <td>1</td>\n",
       "      <td>0</td>\n",
       "      <td>0</td>\n",
       "      <td>0</td>\n",
       "      <td>1</td>\n",
       "      <td>0</td>\n",
       "      <td>1</td>\n",
       "      <td>0</td>\n",
       "      <td>0</td>\n",
       "    </tr>\n",
       "  </tbody>\n",
       "</table>\n",
       "</div>"
      ],
      "text/plain": [
       "   appointment  financial  funds  invest  mutual  planner  retirement  \\\n",
       "0            0          0      0       1       0        0           1   \n",
       "1            0          0      1       2       1        0           0   \n",
       "2            1          1      0       0       0        1           0   \n",
       "\n",
       "   schedule  stocks  want  \n",
       "0         0       0     1  \n",
       "1         0       1     0  \n",
       "2         1       0     0  "
      ]
     },
     "execution_count": 8,
     "metadata": {},
     "output_type": "execute_result"
    }
   ],
   "source": [
    "# Create a DataFrame of the bag of words. \n",
    "bow_df = pd.DataFrame(bag_of_words.toarray(),columns=vectorizer.get_feature_names_out())\n",
    "bow_df"
   ]
  },
  {
   "cell_type": "code",
   "execution_count": 9,
   "id": "ed96505f",
   "metadata": {},
   "outputs": [
    {
     "name": "stdout",
     "output_type": "stream",
     "text": [
      "['appointment', 'financial', 'funds', 'invest', 'mutual', 'planner', 'retirement', 'schedule', 'stocks', 'want']\n"
     ]
    }
   ],
   "source": [
    "# Print the vocabulary. \n",
    "print(bow_df.columns.to_list())"
   ]
  },
  {
   "cell_type": "code",
   "execution_count": 10,
   "id": "0c724fcc",
   "metadata": {},
   "outputs": [
    {
     "name": "stdout",
     "output_type": "stream",
     "text": [
      "appointment    1\n",
      "financial      1\n",
      "funds          1\n",
      "invest         3\n",
      "mutual         1\n",
      "planner        1\n",
      "retirement     1\n",
      "schedule       1\n",
      "stocks         1\n",
      "want           1\n",
      "dtype: int64\n"
     ]
    }
   ],
   "source": [
    "# Get the number of times each word appears in the vocabulary.\n",
    "occurrence = bow_df.sum(axis=0)\n",
    "print(occurrence)"
   ]
  },
  {
   "cell_type": "code",
   "execution_count": null,
   "id": "0bacf9d1",
   "metadata": {},
   "outputs": [],
   "source": []
  }
 ],
 "metadata": {
  "kernelspec": {
   "display_name": "Python 3 (ipykernel)",
   "language": "python",
   "name": "python3"
  },
  "language_info": {
   "codemirror_mode": {
    "name": "ipython",
    "version": 3
   },
   "file_extension": ".py",
   "mimetype": "text/x-python",
   "name": "python",
   "nbconvert_exporter": "python",
   "pygments_lexer": "ipython3",
   "version": "3.10.12"
  }
 },
 "nbformat": 4,
 "nbformat_minor": 5
}
