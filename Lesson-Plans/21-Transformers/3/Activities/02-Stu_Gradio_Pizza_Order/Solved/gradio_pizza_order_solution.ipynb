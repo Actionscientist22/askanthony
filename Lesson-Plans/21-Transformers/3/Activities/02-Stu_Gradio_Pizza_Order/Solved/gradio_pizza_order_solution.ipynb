{
 "cells": [
  {
   "cell_type": "code",
   "execution_count": 1,
   "metadata": {
    "colab": {
     "base_uri": "https://localhost:8080/"
    },
    "executionInfo": {
     "elapsed": 28096,
     "status": "ok",
     "timestamp": 1682628228135,
     "user": {
      "displayName": "Tom Berton",
      "userId": "17391148152994554905"
     },
     "user_tz": 300
    },
    "id": "AiswgMWjkgIb",
    "outputId": "c8a060b3-a7de-4603-f6e1-8a31101a68cc"
   },
   "outputs": [],
   "source": [
    "# Uncomment the following code if you are using Colab.\n",
    "# !pip install gradio"
   ]
  },
  {
   "cell_type": "code",
   "execution_count": 2,
   "metadata": {
    "id": "6BGLBBrxkoRo"
   },
   "outputs": [],
   "source": [
    "# Import gradio \n",
    "import gradio as gr"
   ]
  },
  {
   "cell_type": "code",
   "execution_count": 3,
   "metadata": {},
   "outputs": [
    {
     "name": "stdout",
     "output_type": "stream",
     "text": [
      "Running on local URL:  http://127.0.0.1:7860\n",
      "\n",
      "To create a public link, set `share=True` in `launch()`.\n"
     ]
    },
    {
     "data": {
      "text/html": [
       "<div><iframe src=\"http://127.0.0.1:7860/\" width=\"100%\" height=\"500\" allow=\"autoplay; camera; microphone; clipboard-read; clipboard-write;\" frameborder=\"0\" allowfullscreen></iframe></div>"
      ],
      "text/plain": [
       "<IPython.core.display.HTML object>"
      ]
     },
     "metadata": {},
     "output_type": "display_data"
    },
    {
     "data": {
      "text/plain": []
     },
     "execution_count": 3,
     "metadata": {},
     "output_type": "execute_result"
    }
   ],
   "source": [
    "# Create a pizza order function that takes \n",
    "# the size of the pizza and up to three toppings, and returns the price of the pizza with tax. \n",
    "def pizza_order(size, topping_1, topping_2, topping_3): \n",
    "    \"\"\"\n",
    "    Calculate the total cost of a pizza order based on size and includes up to three toppings.\n",
    "\n",
    "    Parameters:\n",
    "    - size (str): Size of the pizza (options: \"large\", \"medium\", \"small\").\n",
    "    - topping_1 (bool): True if topping 1 field has been filled in, False otherwise.\n",
    "    - topping_2 (bool): True if topping 2 field has been filled in, False otherwise.\n",
    "    - topping_3 (bool): True if topping 3 field has been filled in, False otherwise.\n",
    "\n",
    "    Returns:\n",
    "    str: A formatted string indicating the total cost of the pizza order, including tax.\n",
    "    \"\"\"\n",
    "    # Get the price for the size of pizza. \n",
    "    if size.lower() == \"large\":\n",
    "        size_price = 19.99\n",
    "    elif size.lower() == \"medium\":\n",
    "        size_price = 14.99\n",
    "    elif size.lower() == \"small\":\n",
    "        size_price = 9.99\n",
    "        \n",
    "    # Set the price of the toppings to zero. \n",
    "    topping_price = 0\n",
    "    # Use a conditional to add up the price for each topping if a topping has been added.\n",
    "    if topping_1:\n",
    "        topping_price += 1.99\n",
    "    if topping_2:\n",
    "        topping_price += 1.99\n",
    "    if topping_3:\n",
    "        topping_price += 1.99\n",
    "    \n",
    "    # Add the size_price and topping_price and calculate the tax of the order.\n",
    "    pizza_price = size_price + topping_price + (size_price + topping_price)*0.07\n",
    "    \n",
    "    # Return the pizza price to two decimal places\n",
    "    return f\"Your pizza costs ${pizza_price:.2f}, including tax.\"\n",
    "        \n",
    "# Create an instance of the Gradio Interface application function with the following parameters. \n",
    "app = gr.Interface(fn=pizza_order, \n",
    "                   inputs=[\"text\", \"text\", \"text\", \"text\"], outputs=\"text\")\n",
    "# Launch the app\n",
    "app.launch()"
   ]
  },
  {
   "cell_type": "code",
   "execution_count": null,
   "metadata": {},
   "outputs": [],
   "source": []
  }
 ],
 "metadata": {
  "colab": {
   "authorship_tag": "ABX9TyMgmf1Udn3kIgZX4dfAQG/i",
   "provenance": []
  },
  "kernelspec": {
   "display_name": "Python 3 (ipykernel)",
   "language": "python",
   "name": "python3"
  },
  "language_info": {
   "codemirror_mode": {
    "name": "ipython",
    "version": 3
   },
   "file_extension": ".py",
   "mimetype": "text/x-python",
   "name": "python",
   "nbconvert_exporter": "python",
   "pygments_lexer": "ipython3",
   "version": "3.10.12"
  }
 },
 "nbformat": 4,
 "nbformat_minor": 1
}
