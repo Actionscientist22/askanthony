{
 "cells": [
  {
   "cell_type": "code",
   "execution_count": 1,
   "metadata": {
    "colab": {
     "base_uri": "https://localhost:8080/"
    },
    "executionInfo": {
     "elapsed": 28096,
     "status": "ok",
     "timestamp": 1682628228135,
     "user": {
      "displayName": "Tom Berton",
      "userId": "17391148152994554905"
     },
     "user_tz": 300
    },
    "id": "AiswgMWjkgIb",
    "outputId": "c8a060b3-a7de-4603-f6e1-8a31101a68cc"
   },
   "outputs": [],
   "source": [
    "# Uncomment the following code if you are using Colab.\n",
    "# !pip install gradio"
   ]
  },
  {
   "cell_type": "code",
   "execution_count": 2,
   "metadata": {
    "id": "6BGLBBrxkoRo"
   },
   "outputs": [],
   "source": [
    "# Import gradio \n",
    "import gradio as gr"
   ]
  },
  {
   "cell_type": "code",
   "execution_count": null,
   "metadata": {},
   "outputs": [],
   "source": [
    "# Create a pizza order function that takes \n",
    "# the size of the pizza and up to three toppings, and returns the price of the pizza with tax. \n",
    "def pizza_order(size, topping_1, topping_2, topping_3): \n",
    "     \"\"\"\n",
    "    Calculate the total cost of a pizza order based on size and includes up to three toppings.\n",
    "\n",
    "    Parameters:\n",
    "    - size (str): Size of the pizza (options: \"large\", \"medium\", \"small\").\n",
    "    - topping_1 (bool): True if topping 1 field has been filled in, False otherwise.\n",
    "    - topping_2 (bool): True if topping 2 field has been filled in, False otherwise.\n",
    "    - topping_3 (bool): True if topping 3 field has been filled in, False otherwise.\n",
    "\n",
    "    Returns:\n",
    "    str: A formatted string indicating the total cost of the pizza order, including tax.\n",
    "    \"\"\"\n",
    "    # Get the price for the size of pizza. \n",
    "    \n",
    "        \n",
    "    # Set the price of the toppings to zero. \n",
    "    \n",
    "    \n",
    "    # Use conditionals to add up the price for each topping if a topping has been added.\n",
    "    \n",
    "       \n",
    "    \n",
    "    # Add the size_price and topping_price and calculate the tax (7%) of the order.\n",
    "\n",
    "    \n",
    "    # Return the pizza price to two decimal places\n",
    "    \n",
    "        \n",
    "# Create an instance of the gradio Interface application function with parameters. \n",
    "app = gr.Interface()\n",
    "\n",
    "# Launch the app\n",
    "app.launch()"
   ]
  },
  {
   "cell_type": "code",
   "execution_count": null,
   "metadata": {},
   "outputs": [],
   "source": []
  }
 ],
 "metadata": {
  "colab": {
   "authorship_tag": "ABX9TyMgmf1Udn3kIgZX4dfAQG/i",
   "provenance": []
  },
  "kernelspec": {
   "display_name": "Python 3 (ipykernel)",
   "language": "python",
   "name": "python3"
  },
  "language_info": {
   "codemirror_mode": {
    "name": "ipython",
    "version": 3
   },
   "file_extension": ".py",
   "mimetype": "text/x-python",
   "name": "python",
   "nbconvert_exporter": "python",
   "pygments_lexer": "ipython3",
   "version": "3.10.12"
  }
 },
 "nbformat": 4,
 "nbformat_minor": 1
}
