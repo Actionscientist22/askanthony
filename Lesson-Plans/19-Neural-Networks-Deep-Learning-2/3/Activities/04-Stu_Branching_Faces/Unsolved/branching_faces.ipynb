{
  "cells": [
    {
      "cell_type": "markdown",
      "metadata": {
        "id": "Un6tNZhrN_3q"
      },
      "source": [
        "# 1. Import the Preprocessed Data\n",
        "Import the pickle file with the preprocessed images."
      ]
    },
    {
      "cell_type": "code",
      "execution_count": 6,
      "metadata": {
        "colab": {
          "base_uri": "https://localhost:8080/"
        },
        "id": "tSIn8ESYLpB5",
        "outputId": "8ea9e042-c558-494c-e9f8-bd85030f5756"
      },
      "outputs": [
        {
          "data": {
            "text/plain": [
              "dict_keys(['X_train', 'X_test', 'y_train_userid', 'y_train_pose', 'y_train_expression', 'y_train_eyes', 'y_test_userid', 'y_test_pose', 'y_test_expression', 'y_test_eyes'])"
            ]
          },
          "execution_count": 6,
          "metadata": {},
          "output_type": "execute_result"
        }
      ],
      "source": [
        "import pickle\n",
        "import requests\n",
        "import io\n",
        "\n",
        "pickle_file = 'https://static.bc-edx.com/ai/ail-v-1-0/m19/lesson_3/datasets/pickles/preprocessed_faces_data.pkl'\n",
        "data = pickle.load(io.BytesIO(requests.get(pickle_file).content))\n",
        "data.keys()\n"
      ]
    },
    {
      "cell_type": "code",
      "execution_count": 7,
      "metadata": {
        "id": "eDFj4qXRNomz"
      },
      "outputs": [],
      "source": [
        "# Collect the data into individual variables\n",
        "X_train = data['X_train']\n",
        "X_test = data['X_test']\n",
        "\n",
        "y_train_userid = data['y_train_userid']\n",
        "y_train_pose = data['y_train_pose']\n",
        "y_train_expression = data['y_train_expression']\n",
        "y_train_eyes = data['y_train_eyes']\n",
        "\n",
        "y_test_userid = data['y_test_userid']\n",
        "y_test_pose = data['y_test_pose']\n",
        "y_test_expression = data['y_test_expression']\n",
        "y_test_eyes = data['y_test_eyes']"
      ]
    },
    {
      "cell_type": "markdown",
      "metadata": {
        "id": "BYtrr4IDoUAw"
      },
      "source": [
        "# 2. Build the Model"
      ]
    },
    {
      "cell_type": "code",
      "execution_count": 9,
      "metadata": {
        "id": "zyyus3qUnpkx"
      },
      "outputs": [],
      "source": [
        "from tensorflow.keras import layers, models, Model\n",
        "# First we build the input layer\n",
        "\n",
        "\n",
        "# Shared layers (common across all tasks)\n",
        "# The second layer should be a Conv2D layer built off the input_layer\n",
        "\n",
        "\n",
        "# The third layer should be a MaxPooling2D layer built off the second layer\n",
        "\n",
        "\n",
        "# The fourth layer should be a Conv2D layer built off the third layer\n",
        "\n",
        "\n",
        "# The fifth layer should be a MaxPooling2D layer built off the fourth layer\n",
        "\n",
        "\n",
        "# The sixth layer should be a Conv2D layer built off the fifth layer\n",
        "\n",
        "\n",
        "# The seventh layer should be a Flatten layer built off the sixth layer\n",
        "\n",
        "\n",
        "# Lastly, build one dense layer before branching to the different y branches\n",
        "\n",
        "\n"
      ]
    },
    {
      "cell_type": "code",
      "execution_count": 10,
      "metadata": {
        "id": "eAEw8LXNpm-R"
      },
      "outputs": [],
      "source": [
        "# Build the branches for each of the y variables\n",
        "# Include a dense hidden layer in each along with the output layer.\n",
        "# Remember to include the correct number of nodes for the output!\n",
        "\n",
        "# userid\n",
        "\n",
        "\n",
        "# pose\n",
        "\n",
        "\n",
        "# expression\n",
        "\n",
        "\n",
        "# eyes\n"
      ]
    },
    {
      "cell_type": "code",
      "execution_count": 11,
      "metadata": {
        "id": "YMUUccPe2LRK"
      },
      "outputs": [],
      "source": [
        "# Assemble the model\n",
        "\n",
        "\n",
        "# Compile the model\n"
      ]
    },
    {
      "cell_type": "code",
      "execution_count": 13,
      "metadata": {
        "colab": {
          "base_uri": "https://localhost:8080/"
        },
        "id": "gnRnEcWB3gb2",
        "outputId": "9f00a00e-dfb0-4f86-9b40-c64144261ec3"
      },
      "outputs": [
        {
          "name": "stdout",
          "output_type": "stream",
          "text": [
            "Epoch 1/10\n",
            "59/59 [==============================] - 16s 221ms/step - loss: 6.4104 - userid_output_loss: 2.9731 - pose_output_loss: 1.3591 - expression_output_loss: 1.3887 - eyes_output_loss: 0.6895 - userid_output_accuracy: 0.0588 - pose_output_accuracy: 0.2965 - expression_output_accuracy: 0.2714 - eyes_output_accuracy: 0.5369 - val_loss: 6.2415 - val_userid_output_loss: 2.9054 - val_pose_output_loss: 1.2737 - val_expression_output_loss: 1.4308 - val_eyes_output_loss: 0.6315 - val_userid_output_accuracy: 0.0748 - val_pose_output_accuracy: 0.4060 - val_expression_output_accuracy: 0.2436 - val_eyes_output_accuracy: 0.6774\n",
            "Epoch 2/10\n",
            "59/59 [==============================] - 11s 188ms/step - loss: 5.5389 - userid_output_loss: 2.3131 - pose_output_loss: 1.2405 - expression_output_loss: 1.4111 - eyes_output_loss: 0.5741 - userid_output_accuracy: 0.2799 - pose_output_accuracy: 0.4268 - expression_output_accuracy: 0.2714 - eyes_output_accuracy: 0.6982 - val_loss: 5.1421 - val_userid_output_loss: 1.9845 - val_pose_output_loss: 1.2172 - val_expression_output_loss: 1.4670 - val_eyes_output_loss: 0.4735 - val_userid_output_accuracy: 0.3226 - val_pose_output_accuracy: 0.4038 - val_expression_output_accuracy: 0.2372 - val_eyes_output_accuracy: 0.7778\n",
            "Epoch 3/10\n",
            "59/59 [==============================] - 11s 188ms/step - loss: 4.5759 - userid_output_loss: 1.5244 - pose_output_loss: 1.1481 - expression_output_loss: 1.4097 - eyes_output_loss: 0.4938 - userid_output_accuracy: 0.4936 - pose_output_accuracy: 0.4706 - expression_output_accuracy: 0.2869 - eyes_output_accuracy: 0.7473 - val_loss: 4.6361 - val_userid_output_loss: 1.4637 - val_pose_output_loss: 1.2417 - val_expression_output_loss: 1.4702 - val_eyes_output_loss: 0.4606 - val_userid_output_accuracy: 0.5021 - val_pose_output_accuracy: 0.4637 - val_expression_output_accuracy: 0.1923 - val_eyes_output_accuracy: 0.7906\n",
            "Epoch 4/10\n",
            "59/59 [==============================] - 12s 203ms/step - loss: 4.0014 - userid_output_loss: 1.0832 - pose_output_loss: 1.0930 - expression_output_loss: 1.3890 - eyes_output_loss: 0.4362 - userid_output_accuracy: 0.6346 - pose_output_accuracy: 0.4973 - expression_output_accuracy: 0.3157 - eyes_output_accuracy: 0.7815 - val_loss: 4.3245 - val_userid_output_loss: 1.1946 - val_pose_output_loss: 1.2351 - val_expression_output_loss: 1.4733 - val_eyes_output_loss: 0.4216 - val_userid_output_accuracy: 0.5919 - val_pose_output_accuracy: 0.4487 - val_expression_output_accuracy: 0.2265 - val_eyes_output_accuracy: 0.7842\n",
            "Epoch 5/10\n",
            "59/59 [==============================] - 12s 205ms/step - loss: 3.5537 - userid_output_loss: 0.8083 - pose_output_loss: 0.9913 - expression_output_loss: 1.3624 - eyes_output_loss: 0.3916 - userid_output_accuracy: 0.7318 - pose_output_accuracy: 0.5614 - expression_output_accuracy: 0.3355 - eyes_output_accuracy: 0.8120 - val_loss: 4.0469 - val_userid_output_loss: 0.8849 - val_pose_output_loss: 1.1559 - val_expression_output_loss: 1.5446 - val_eyes_output_loss: 0.4614 - val_userid_output_accuracy: 0.6944 - val_pose_output_accuracy: 0.4744 - val_expression_output_accuracy: 0.2286 - val_eyes_output_accuracy: 0.7778\n",
            "Epoch 6/10\n",
            "59/59 [==============================] - 12s 199ms/step - loss: 3.1871 - userid_output_loss: 0.5937 - pose_output_loss: 0.9109 - expression_output_loss: 1.3443 - eyes_output_loss: 0.3382 - userid_output_accuracy: 0.8002 - pose_output_accuracy: 0.5983 - expression_output_accuracy: 0.3531 - eyes_output_accuracy: 0.8365 - val_loss: 3.8266 - val_userid_output_loss: 0.8145 - val_pose_output_loss: 1.0767 - val_expression_output_loss: 1.5490 - val_eyes_output_loss: 0.3863 - val_userid_output_accuracy: 0.7030 - val_pose_output_accuracy: 0.5299 - val_expression_output_accuracy: 0.2329 - val_eyes_output_accuracy: 0.8056\n",
            "Epoch 7/10\n",
            "59/59 [==============================] - 10s 169ms/step - loss: 2.8668 - userid_output_loss: 0.4658 - pose_output_loss: 0.7974 - expression_output_loss: 1.3103 - eyes_output_loss: 0.2933 - userid_output_accuracy: 0.8397 - pose_output_accuracy: 0.6608 - expression_output_accuracy: 0.3787 - eyes_output_accuracy: 0.8659 - val_loss: 3.8656 - val_userid_output_loss: 0.8041 - val_pose_output_loss: 1.0424 - val_expression_output_loss: 1.6099 - val_eyes_output_loss: 0.4092 - val_userid_output_accuracy: 0.7158 - val_pose_output_accuracy: 0.5919 - val_expression_output_accuracy: 0.2393 - val_eyes_output_accuracy: 0.7799\n",
            "Epoch 8/10\n",
            "59/59 [==============================] - 12s 204ms/step - loss: 2.5983 - userid_output_loss: 0.3439 - pose_output_loss: 0.7138 - expression_output_loss: 1.2949 - eyes_output_loss: 0.2457 - userid_output_accuracy: 0.8777 - pose_output_accuracy: 0.7067 - expression_output_accuracy: 0.4022 - eyes_output_accuracy: 0.8894 - val_loss: 3.6610 - val_userid_output_loss: 0.6540 - val_pose_output_loss: 0.9749 - val_expression_output_loss: 1.6546 - val_eyes_output_loss: 0.3775 - val_userid_output_accuracy: 0.7607 - val_pose_output_accuracy: 0.6175 - val_expression_output_accuracy: 0.2244 - val_eyes_output_accuracy: 0.8355\n",
            "Epoch 9/10\n",
            "59/59 [==============================] - 12s 203ms/step - loss: 2.3844 - userid_output_loss: 0.2888 - pose_output_loss: 0.6154 - expression_output_loss: 1.2542 - eyes_output_loss: 0.2260 - userid_output_accuracy: 0.8974 - pose_output_accuracy: 0.7553 - expression_output_accuracy: 0.4209 - eyes_output_accuracy: 0.9044 - val_loss: 3.5505 - val_userid_output_loss: 0.6228 - val_pose_output_loss: 0.9220 - val_expression_output_loss: 1.5941 - val_eyes_output_loss: 0.4116 - val_userid_output_accuracy: 0.8077 - val_pose_output_accuracy: 0.6667 - val_expression_output_accuracy: 0.2479 - val_eyes_output_accuracy: 0.8205\n",
            "Epoch 10/10\n",
            "59/59 [==============================] - 12s 207ms/step - loss: 2.0585 - userid_output_loss: 0.1873 - pose_output_loss: 0.4824 - expression_output_loss: 1.2363 - eyes_output_loss: 0.1525 - userid_output_accuracy: 0.9418 - pose_output_accuracy: 0.8109 - expression_output_accuracy: 0.4364 - eyes_output_accuracy: 0.9402 - val_loss: 3.6376 - val_userid_output_loss: 0.5999 - val_pose_output_loss: 1.0417 - val_expression_output_loss: 1.6280 - val_eyes_output_loss: 0.3679 - val_userid_output_accuracy: 0.8226 - val_pose_output_accuracy: 0.6197 - val_expression_output_accuracy: 0.2372 - val_eyes_output_accuracy: 0.8184\n"
          ]
        },
        {
          "data": {
            "text/plain": [
              "<keras.src.callbacks.History at 0x7bdd8c332c20>"
            ]
          },
          "execution_count": 13,
          "metadata": {},
          "output_type": "execute_result"
        }
      ],
      "source": [
        "# Train the model with the training data\n",
        "\n"
      ]
    },
    {
      "cell_type": "code",
      "execution_count": null,
      "metadata": {
        "colab": {
          "base_uri": "https://localhost:8080/"
        },
        "id": "-RbD5RK-34zb",
        "outputId": "8f1f67aa-8cba-409e-b10a-b34ab6d68d1f"
      },
      "outputs": [
        {
          "name": "stdout",
          "output_type": "stream",
          "text": [
            "5/5 [==============================] - 0s 81ms/step - loss: 3.4161 - userid_output_loss: 0.3754 - pose_output_loss: 0.9587 - expression_output_loss: 1.8500 - eyes_output_loss: 0.2320 - userid_output_accuracy: 0.9423 - pose_output_accuracy: 0.6410 - expression_output_accuracy: 0.1731 - eyes_output_accuracy: 0.8718\n",
            "userid accuracy: 0.942307710647583\n",
            "pose accuracy: 0.6410256624221802\n",
            "expression accuracy: 0.17307692766189575\n",
            "eyes accuracy: 0.8717948794364929\n"
          ]
        }
      ],
      "source": [
        "# Evaluate the model using the testing data\n",
        "results = model.evaluate(np.array(X_test), {\n",
        "        'userid_output': y_test_userid,\n",
        "        'pose_output': y_test_pose,\n",
        "        'expression_output': y_test_expression,\n",
        "        'eyes_output': y_test_eyes\n",
        "    })\n",
        "\n",
        "pred_categories = ['userid', 'pose', 'expression', 'eyes']\n",
        "for i, cat in enumerate(pred_categories):\n",
        "    print(f\"{cat} accuracy: {results[i+5]}\")"
      ]
    },
    {
      "cell_type": "code",
      "execution_count": null,
      "metadata": {
        "id": "MjYcdOabBWTQ"
      },
      "outputs": [],
      "source": []
    }
  ],
  "metadata": {
    "colab": {
      "provenance": []
    },
    "kernelspec": {
      "display_name": "Python 3",
      "name": "python3"
    },
    "language_info": {
      "name": "python"
    }
  },
  "nbformat": 4,
  "nbformat_minor": 0
}
