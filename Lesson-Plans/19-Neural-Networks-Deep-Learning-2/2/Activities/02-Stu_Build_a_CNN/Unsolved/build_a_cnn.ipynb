{
  "cells": [
    {
      "cell_type": "code",
      "execution_count": 1,
      "metadata": {
        "colab": {
          "base_uri": "https://localhost:8080/"
        },
        "id": "UBJflajTYUJv",
        "outputId": "f8bf24eb-96ae-4252-9679-66385d29b3c5"
      },
      "outputs": [
        {
          "name": "stdout",
          "output_type": "stream",
          "text": [
            "[[[0.5568628  0.5647059  0.56078434]\n",
            "  [0.5568628  0.5647059  0.56078434]\n",
            "  [0.5568628  0.5647059  0.56078434]\n",
            "  ...\n",
            "  [0.53333336 0.54901963 0.54509807]\n",
            "  [0.5372549  0.5529412  0.54901963]\n",
            "  [0.5372549  0.5529412  0.54901963]]\n",
            "\n",
            " [[0.54901963 0.5568628  0.5529412 ]\n",
            "  [0.54901963 0.5568628  0.5529412 ]\n",
            "  [0.5529412  0.56078434 0.5568628 ]\n",
            "  ...\n",
            "  [0.53333336 0.54901963 0.54509807]\n",
            "  [0.5372549  0.5529412  0.54901963]\n",
            "  [0.5372549  0.5529412  0.54901963]]\n",
            "\n",
            " [[0.53333336 0.5411765  0.5372549 ]\n",
            "  [0.5411765  0.54901963 0.54509807]\n",
            "  [0.54901963 0.5568628  0.5529412 ]\n",
            "  ...\n",
            "  [0.5254902  0.5411765  0.5372549 ]\n",
            "  [0.5294118  0.54509807 0.5411765 ]\n",
            "  [0.5294118  0.54509807 0.5411765 ]]\n",
            "\n",
            " ...\n",
            "\n",
            " [[0.5529412  0.53333336 0.4509804 ]\n",
            "  [0.5529412  0.53333336 0.4509804 ]\n",
            "  [0.54901963 0.5254902  0.44705883]\n",
            "  ...\n",
            "  [0.54509807 0.5529412  0.5568628 ]\n",
            "  [0.54509807 0.5529412  0.56078434]\n",
            "  [0.54509807 0.5529412  0.56078434]]\n",
            "\n",
            " [[0.54901963 0.5254902  0.44705883]\n",
            "  [0.54901963 0.5254902  0.44705883]\n",
            "  [0.5411765  0.5176471  0.44313726]\n",
            "  ...\n",
            "  [0.5411765  0.5568628  0.56078434]\n",
            "  [0.5411765  0.5568628  0.56078434]\n",
            "  [0.5411765  0.5568628  0.56078434]]\n",
            "\n",
            " [[0.54901963 0.52156866 0.44705883]\n",
            "  [0.54901963 0.52156866 0.44705883]\n",
            "  [0.5411765  0.5176471  0.44313726]\n",
            "  ...\n",
            "  [0.5411765  0.5568628  0.56078434]\n",
            "  [0.5411765  0.5568628  0.56078434]\n",
            "  [0.5411765  0.5568628  0.56078434]]]\n",
            "0    H1\n",
            "1    H1\n",
            "2    H2\n",
            "3    H1\n",
            "4    H2\n",
            "dtype: object\n"
          ]
        }
      ],
      "source": [
        "import tensorflow as tf\n",
        "from tensorflow import keras\n",
        "from tensorflow.keras import layers\n",
        "from sklearn.model_selection import train_test_split\n",
        "from sklearn.preprocessing import LabelEncoder\n",
        "import numpy as np\n",
        "import requests\n",
        "import pickle\n",
        "import io\n",
        "\n",
        "# Import the preprocessed data\n",
        "X_preprocessed_url = \"https://static.bc-edx.com/ai/ail-v-1-0/m19/lesson_2/datasets/pickles/preprocessed_fungi.pkl\"\n",
        "y_url = \"https://static.bc-edx.com/ai/ail-v-1-0/m19/lesson_2/datasets/pickles/fungi_y.pkl\"\n",
        "\n",
        "X = pickle.load(io.BytesIO(requests.get(X_preprocessed_url).content))\n",
        "y = pickle.load(io.BytesIO(requests.get(y_url).content))\n",
        "\n",
        "print(X[0])\n",
        "print(y.head())\n"
      ]
    },
    {
      "cell_type": "code",
      "execution_count": 3,
      "metadata": {
        "colab": {
          "base_uri": "https://localhost:8080/"
        },
        "id": "oEfSaYnPYVZc",
        "outputId": "04f3a5eb-f649-4288-a028-e90c18203c21"
      },
      "outputs": [
        {
          "name": "stdout",
          "output_type": "stream",
          "text": [
            "Epoch 1/10\n",
            "7/7 [==============================] - 15s 2s/step - loss: 17.9034 - accuracy: 0.5300 - val_loss: 2.5800 - val_accuracy: 0.7000\n",
            "Epoch 2/10\n",
            "7/7 [==============================] - 13s 2s/step - loss: 5.1542 - accuracy: 0.6350 - val_loss: 1.3014 - val_accuracy: 0.7000\n",
            "Epoch 3/10\n",
            "7/7 [==============================] - 13s 2s/step - loss: 1.5989 - accuracy: 0.4450 - val_loss: 1.0612 - val_accuracy: 0.3000\n",
            "Epoch 4/10\n",
            "7/7 [==============================] - 12s 2s/step - loss: 0.7294 - accuracy: 0.5350 - val_loss: 0.6102 - val_accuracy: 0.7000\n",
            "Epoch 5/10\n",
            "7/7 [==============================] - 12s 2s/step - loss: 0.7379 - accuracy: 0.4850 - val_loss: 0.6166 - val_accuracy: 0.7200\n",
            "Epoch 6/10\n",
            "7/7 [==============================] - 13s 2s/step - loss: 0.6759 - accuracy: 0.5800 - val_loss: 0.5772 - val_accuracy: 0.7200\n",
            "Epoch 7/10\n",
            "7/7 [==============================] - 13s 2s/step - loss: 0.6483 - accuracy: 0.6450 - val_loss: 0.5752 - val_accuracy: 0.7200\n",
            "Epoch 8/10\n",
            "7/7 [==============================] - 14s 2s/step - loss: 0.6271 - accuracy: 0.6650 - val_loss: 0.5764 - val_accuracy: 0.7800\n",
            "Epoch 9/10\n",
            "7/7 [==============================] - 13s 2s/step - loss: 0.6001 - accuracy: 0.6750 - val_loss: 0.5481 - val_accuracy: 0.8200\n",
            "Epoch 10/10\n",
            "7/7 [==============================] - 13s 2s/step - loss: 0.5625 - accuracy: 0.7600 - val_loss: 0.5069 - val_accuracy: 0.7600\n"
          ]
        }
      ],
      "source": [
        "# Label encode the y data\n",
        "y_encoder = LabelEncoder().fit(y)\n",
        "y = y_encoder.transform(y)\n",
        "\n",
        "# Convert values to numpy arrays\n",
        "X = np.array(X)\n",
        "\n",
        "# Split the training dataset into training and validation sets\n",
        "X_train, X_test, y_train, y_test = train_test_split(X, y, test_size=0.2, random_state=42)\n",
        "\n",
        "# Define a CNN model; make sure to use the correct values for input shape!\n",
        "# HINT: Check the preprocessing activity to see the dimensions we used.\n",
        "\n",
        "\n",
        "# Compile the model\n",
        "\n",
        "\n",
        "# Train the model\n",
        "\n"
      ]
    },
    {
      "cell_type": "code",
      "execution_count": null,
      "metadata": {
        "id": "gLaNbVe2Z_gN"
      },
      "outputs": [],
      "source": []
    }
  ],
  "metadata": {
    "colab": {
      "provenance": []
    },
    "kernelspec": {
      "display_name": "Python 3",
      "name": "python3"
    },
    "language_info": {
      "name": "python"
    }
  },
  "nbformat": 4,
  "nbformat_minor": 0
}
