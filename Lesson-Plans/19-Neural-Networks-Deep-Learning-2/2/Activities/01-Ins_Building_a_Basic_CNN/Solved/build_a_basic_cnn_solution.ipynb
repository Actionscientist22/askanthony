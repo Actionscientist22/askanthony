{
  "cells": [
    {
      "cell_type": "code",
      "execution_count": 3,
      "metadata": {
        "colab": {
          "base_uri": "https://localhost:8080/"
        },
        "id": "UBJflajTYUJv",
        "outputId": "1ca2e26e-0362-489c-fa14-48dbefbd73b8"
      },
      "outputs": [
        {
          "name": "stdout",
          "output_type": "stream",
          "text": [
            "[[0.08235294 0.07450981 0.07450981 ... 0.1764706  0.1764706  0.16862746]\n",
            " [0.18431373 0.16862746 0.12941177 ... 0.1764706  0.1764706  0.1764706 ]\n",
            " [0.2509804  0.25882354 0.29411766 ... 0.1764706  0.1764706  0.16862746]\n",
            " ...\n",
            " [0.19607843 0.16862746 0.15686275 ... 0.         0.         0.        ]\n",
            " [0.19215687 0.16862746 0.12941177 ... 0.         0.         0.        ]\n",
            " [0.19215687 0.18431373 0.12941177 ... 0.11372549 0.         0.        ]]\n",
            "0    sunglasses\n",
            "1    sunglasses\n",
            "2          open\n",
            "3          open\n",
            "4    sunglasses\n",
            "dtype: object\n"
          ]
        }
      ],
      "source": [
        "import tensorflow as tf\n",
        "from tensorflow import keras\n",
        "from tensorflow.keras import layers\n",
        "from tensorflow.keras.optimizers import Adam\n",
        "from sklearn.model_selection import train_test_split\n",
        "from sklearn.preprocessing import LabelEncoder\n",
        "import numpy as np\n",
        "import requests\n",
        "import pickle\n",
        "import io\n",
        "\n",
        "# Import the preprocessed data\n",
        "X_preprocessed_url = \"https://static.bc-edx.com/ai/ail-v-1-0/m19/lesson_2/datasets/pickles/face_images_preprocessed.pkl\"\n",
        "y_url = \"https://static.bc-edx.com/ai/ail-v-1-0/m19/lesson_2/datasets/pickles/sunglasses_y.pkl\"\n",
        "\n",
        "X = pickle.load(io.BytesIO(requests.get(X_preprocessed_url).content))\n",
        "y = pickle.load(io.BytesIO(requests.get(y_url).content))\n",
        "\n",
        "print(X[0])\n",
        "print(y.head())\n"
      ]
    },
    {
      "cell_type": "markdown",
      "metadata": {},
      "source": [
        "This is merely an example of a CNN model; note that we only have one Conv2D layer and one MaxPooling layer. To create the first layer (Conv2D) we must pass the shape of our images. The first value is the height of the image, the second is the width, and the third is the number of channels the image has for color. For RGB images, there are three channels; red, green, and blue. For grayscale images (like our faces data) there is only 1 channel.\n",
        "\n",
        "Convolutional Layer (Conv2D):\n",
        "\n",
        "layers.Conv2D(32, (3, 3), activation='relu', input_shape=(250, 250, 3))\n",
        "This layer applies convolution to the input images. The settings are as follows:\n",
        "32: This represents the number of filters (or kernels) that will be used in the convolution. It means there are 32 different filters to learn different patterns.\n",
        "(3, 3): This specifies the size of the convolutional kernel. A kernel of size (3, 3) means the convolution operation will use a 3x3 filter.\n",
        "activation='relu': Rectified Linear Unit (ReLU) is used as the activation function, introducing non-linearity to the model.\n",
        "input_shape=(250, 250, 3): This defines the shape of the input data. In this case, it's set to (250, 250, 3), indicating a 250x250 image with three color channels (RGB).\n",
        "MaxPooling Layer (MaxPooling2D):\n",
        "\n",
        "layers.MaxPooling2D((2, 2))\n",
        "This layer performs max pooling, which reduces the spatial dimensions of the input volume. The settings are:\n",
        "(2, 2): This specifies the size of the pooling window. A window of (2, 2) means the operation will take the maximum value over a 2x2 window.\n",
        "Flatten Layer (Flatten):\n",
        "\n",
        "layers.Flatten()\n",
        "This layer flattens the output from the previous layer into a one-dimensional array. It prepares the data for the subsequent fully connected layers.\n",
        "Dense Layer (Dense):\n",
        "\n",
        "layers.Dense(64, activation='relu')\n",
        "This fully connected layer has 64 neurons. The settings are:\n",
        "64: Number of neurons or units in the layer.\n",
        "activation='relu': ReLU is again used as the activation function.\n",
        "Output Layer (Dense):\n",
        "\n",
        "layers.Dense(2, activation='sigmoid')\n",
        "This is the output layer with two neurons, suitable for binary classification tasks. The settings are:\n",
        "2: Two output neurons, one for each class in binary classification.\n",
        "activation='sigmoid': Sigmoid activation is used for binary classification to produce probabilities.\n",
        "These settings are typical choices for a simple CNN architecture. Adjustments might be made based on the specific characteristics of the dataset and the objectives of the model.\n",
        "\n",
        "In the end, our validation score is 92% accuracy, which is pretty good! What might we do to improve this model though?"
      ]
    },
    {
      "cell_type": "code",
      "execution_count": 5,
      "metadata": {
        "colab": {
          "base_uri": "https://localhost:8080/"
        },
        "id": "oEfSaYnPYVZc",
        "outputId": "f5c3def1-5131-40a2-acfe-28c2cad4c5f3"
      },
      "outputs": [
        {
          "name": "stdout",
          "output_type": "stream",
          "text": [
            "Epoch 1/10\n",
            "16/16 [==============================] - 2s 92ms/step - loss: 0.7591 - accuracy: 0.5190 - val_loss: 0.6467 - val_accuracy: 0.7280\n",
            "Epoch 2/10\n",
            "16/16 [==============================] - 1s 78ms/step - loss: 0.6016 - accuracy: 0.7074 - val_loss: 0.5659 - val_accuracy: 0.7360\n",
            "Epoch 3/10\n",
            "16/16 [==============================] - 1s 77ms/step - loss: 0.4754 - accuracy: 0.8317 - val_loss: 0.4790 - val_accuracy: 0.7840\n",
            "Epoch 4/10\n",
            "16/16 [==============================] - 1s 80ms/step - loss: 0.3733 - accuracy: 0.8878 - val_loss: 0.3964 - val_accuracy: 0.8640\n",
            "Epoch 5/10\n",
            "16/16 [==============================] - 1s 80ms/step - loss: 0.2847 - accuracy: 0.9078 - val_loss: 0.3148 - val_accuracy: 0.8400\n",
            "Epoch 6/10\n",
            "16/16 [==============================] - 1s 79ms/step - loss: 0.2213 - accuracy: 0.9339 - val_loss: 0.2910 - val_accuracy: 0.8640\n",
            "Epoch 7/10\n",
            "16/16 [==============================] - 2s 130ms/step - loss: 0.1729 - accuracy: 0.9559 - val_loss: 0.2276 - val_accuracy: 0.9200\n",
            "Epoch 8/10\n",
            "16/16 [==============================] - 2s 128ms/step - loss: 0.1451 - accuracy: 0.9639 - val_loss: 0.2100 - val_accuracy: 0.9200\n",
            "Epoch 9/10\n",
            "16/16 [==============================] - 1s 81ms/step - loss: 0.1180 - accuracy: 0.9719 - val_loss: 0.1734 - val_accuracy: 0.9200\n",
            "Epoch 10/10\n",
            "16/16 [==============================] - 1s 76ms/step - loss: 0.0908 - accuracy: 0.9840 - val_loss: 0.1822 - val_accuracy: 0.9200\n"
          ]
        }
      ],
      "source": [
        "# Label encode the y data\n",
        "y_encoder = LabelEncoder().fit(y)\n",
        "y = y_encoder.transform(y)\n",
        "\n",
        "# Convert values to numpy arrays\n",
        "X = np.array(X)\n",
        "\n",
        "# Split the training dataset into training and validation sets\n",
        "X_train, X_test, y_train, y_test = train_test_split(X, y, test_size=0.2, random_state=42)\n",
        "\n",
        "# Define a CNN model\n",
        "model = keras.Sequential([\n",
        "    layers.Conv2D(32, (3, 3), activation='relu', input_shape=(60, 64, 1)),\n",
        "    layers.MaxPooling2D((2, 2)),\n",
        "    layers.Flatten(),\n",
        "    layers.Dense(64, activation='relu'),\n",
        "    layers.Dense(2, activation='sigmoid')\n",
        "])\n",
        "\n",
        "# Compile the model\n",
        "model.compile(optimizer='adam', loss='sparse_categorical_crossentropy', metrics=['accuracy'])\n",
        "\n",
        "# Train the model\n",
        "batch_size = 32\n",
        "epochs = 10\n",
        "history = model.fit(\n",
        "    X_train, y_train,\n",
        "    validation_data=(X_test, y_test),\n",
        "    epochs=epochs\n",
        ")"
      ]
    },
    {
      "cell_type": "code",
      "execution_count": null,
      "metadata": {
        "id": "gLaNbVe2Z_gN"
      },
      "outputs": [],
      "source": []
    }
  ],
  "metadata": {
    "colab": {
      "provenance": []
    },
    "kernelspec": {
      "display_name": "Python 3",
      "name": "python3"
    },
    "language_info": {
      "name": "python"
    }
  },
  "nbformat": 4,
  "nbformat_minor": 0
}
