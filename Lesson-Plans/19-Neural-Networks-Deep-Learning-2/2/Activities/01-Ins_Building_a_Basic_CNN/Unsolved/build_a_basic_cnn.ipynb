{
  "cells": [
    {
      "cell_type": "code",
      "execution_count": 3,
      "metadata": {
        "colab": {
          "base_uri": "https://localhost:8080/"
        },
        "id": "UBJflajTYUJv",
        "outputId": "1ca2e26e-0362-489c-fa14-48dbefbd73b8"
      },
      "outputs": [
        {
          "name": "stdout",
          "output_type": "stream",
          "text": [
            "[[0.08235294 0.07450981 0.07450981 ... 0.1764706  0.1764706  0.16862746]\n",
            " [0.18431373 0.16862746 0.12941177 ... 0.1764706  0.1764706  0.1764706 ]\n",
            " [0.2509804  0.25882354 0.29411766 ... 0.1764706  0.1764706  0.16862746]\n",
            " ...\n",
            " [0.19607843 0.16862746 0.15686275 ... 0.         0.         0.        ]\n",
            " [0.19215687 0.16862746 0.12941177 ... 0.         0.         0.        ]\n",
            " [0.19215687 0.18431373 0.12941177 ... 0.11372549 0.         0.        ]]\n",
            "0    sunglasses\n",
            "1    sunglasses\n",
            "2          open\n",
            "3          open\n",
            "4    sunglasses\n",
            "dtype: object\n"
          ]
        }
      ],
      "source": [
        "import tensorflow as tf\n",
        "from tensorflow import keras\n",
        "from tensorflow.keras import layers\n",
        "from tensorflow.keras.optimizers import Adam\n",
        "from sklearn.model_selection import train_test_split\n",
        "from sklearn.preprocessing import LabelEncoder\n",
        "import numpy as np\n",
        "import requests\n",
        "import pickle\n",
        "import io\n",
        "\n",
        "# Import the preprocessed data\n",
        "X_preprocessed_url = \"https://static.bc-edx.com/ai/ail-v-1-0/m19/lesson_2/datasets/pickles/face_images_preprocessed.pkl\"\n",
        "y_url = \"https://static.bc-edx.com/ai/ail-v-1-0/m19/lesson_2/datasets/pickles/sunglasses_y.pkl\"\n",
        "\n",
        "X = pickle.load(io.BytesIO(requests.get(X_preprocessed_url).content))\n",
        "y = pickle.load(io.BytesIO(requests.get(y_url).content))\n",
        "\n",
        "print(X[0])\n",
        "print(y.head())\n"
      ]
    },
    {
      "cell_type": "markdown",
      "metadata": {},
      "source": [
        "This is merely an example of a CNN model; note that we only have one Conv2D layer and one MaxPooling layer. In the end, our validation score is 92% accuracy, which is pretty good! What might we do to improve this model though?"
      ]
    },
    {
      "cell_type": "code",
      "execution_count": 5,
      "metadata": {
        "colab": {
          "base_uri": "https://localhost:8080/"
        },
        "id": "oEfSaYnPYVZc",
        "outputId": "f5c3def1-5131-40a2-acfe-28c2cad4c5f3"
      },
      "outputs": [
        {
          "name": "stdout",
          "output_type": "stream",
          "text": [
            "Epoch 1/10\n",
            "16/16 [==============================] - 2s 92ms/step - loss: 0.7591 - accuracy: 0.5190 - val_loss: 0.6467 - val_accuracy: 0.7280\n",
            "Epoch 2/10\n",
            "16/16 [==============================] - 1s 78ms/step - loss: 0.6016 - accuracy: 0.7074 - val_loss: 0.5659 - val_accuracy: 0.7360\n",
            "Epoch 3/10\n",
            "16/16 [==============================] - 1s 77ms/step - loss: 0.4754 - accuracy: 0.8317 - val_loss: 0.4790 - val_accuracy: 0.7840\n",
            "Epoch 4/10\n",
            "16/16 [==============================] - 1s 80ms/step - loss: 0.3733 - accuracy: 0.8878 - val_loss: 0.3964 - val_accuracy: 0.8640\n",
            "Epoch 5/10\n",
            "16/16 [==============================] - 1s 80ms/step - loss: 0.2847 - accuracy: 0.9078 - val_loss: 0.3148 - val_accuracy: 0.8400\n",
            "Epoch 6/10\n",
            "16/16 [==============================] - 1s 79ms/step - loss: 0.2213 - accuracy: 0.9339 - val_loss: 0.2910 - val_accuracy: 0.8640\n",
            "Epoch 7/10\n",
            "16/16 [==============================] - 2s 130ms/step - loss: 0.1729 - accuracy: 0.9559 - val_loss: 0.2276 - val_accuracy: 0.9200\n",
            "Epoch 8/10\n",
            "16/16 [==============================] - 2s 128ms/step - loss: 0.1451 - accuracy: 0.9639 - val_loss: 0.2100 - val_accuracy: 0.9200\n",
            "Epoch 9/10\n",
            "16/16 [==============================] - 1s 81ms/step - loss: 0.1180 - accuracy: 0.9719 - val_loss: 0.1734 - val_accuracy: 0.9200\n",
            "Epoch 10/10\n",
            "16/16 [==============================] - 1s 76ms/step - loss: 0.0908 - accuracy: 0.9840 - val_loss: 0.1822 - val_accuracy: 0.9200\n"
          ]
        }
      ],
      "source": [
        "# Label encode the y data\n",
        "y_encoder = LabelEncoder().fit(y)\n",
        "y = y_encoder.transform(y)\n",
        "\n",
        "# Convert values to numpy arrays\n",
        "X = np.array(X)\n",
        "\n",
        "# Split the training dataset into training and validation sets\n",
        "X_train, X_test, y_train, y_test = train_test_split(X, y, test_size=0.2, random_state=42)\n",
        "\n",
        "# Define a CNN model\n",
        "\n",
        "\n",
        "\n",
        "# Compile the model\n",
        "\n",
        "\n",
        "# Train the model\n",
        "\n",
        "\n",
        "\n"
      ]
    },
    {
      "cell_type": "code",
      "execution_count": null,
      "metadata": {
        "id": "gLaNbVe2Z_gN"
      },
      "outputs": [],
      "source": []
    }
  ],
  "metadata": {
    "colab": {
      "provenance": []
    },
    "kernelspec": {
      "display_name": "Python 3",
      "name": "python3"
    },
    "language_info": {
      "name": "python"
    }
  },
  "nbformat": 4,
  "nbformat_minor": 0
}
