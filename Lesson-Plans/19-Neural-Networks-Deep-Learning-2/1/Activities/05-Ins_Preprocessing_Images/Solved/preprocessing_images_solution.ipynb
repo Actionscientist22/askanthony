{
  "cells": [
    {
      "cell_type": "code",
      "execution_count": 1,
      "metadata": {
        "id": "wLDQ6Kf8T_Aj"
      },
      "outputs": [],
      "source": [
        "import pandas as pd\n",
        "import numpy as np\n",
        "from PIL import Image"
      ]
    },
    {
      "cell_type": "code",
      "execution_count": 2,
      "metadata": {
        "colab": {
          "base_uri": "https://localhost:8080/",
          "height": 47
        },
        "id": "cOpVeqlpUM0S",
        "outputId": "42dffd9d-014b-4a6b-8998-8de954e69bd6"
      },
      "outputs": [
        {
          "data": {
            "image/png": "[encoded data removed]",
            "text/plain": [
              "<PIL.PngImagePlugin.PngImageFile image mode=L size=32x30>"
            ]
          },
          "execution_count": 2,
          "metadata": {},
          "output_type": "execute_result"
        }
      ],
      "source": [
        "# Import images from a pickle file\n",
        "# This pickle file is hosted at a url, so some\n",
        "# additional code is needed\n",
        "import pickle\n",
        "import requests\n",
        "import io\n",
        "\n",
        "path = 'https://static.bc-edx.com/ai/ail-v-1-0/m19/lesson_1/datasets/pickles/face_images.pkl'\n",
        "\n",
        "imgs = pickle.load(io.BytesIO(requests.get(path).content))\n",
        "\n",
        "imgs[1]"
      ]
    },
    {
      "cell_type": "code",
      "execution_count": 3,
      "metadata": {
        "colab": {
          "base_uri": "https://localhost:8080/"
        },
        "id": "2fD3p7h5UXo8",
        "outputId": "084613fe-0bad-4274-eaff-5c12d3dd752d"
      },
      "outputs": [
        {
          "data": {
            "text/plain": [
              "(32, 30)"
            ]
          },
          "execution_count": 3,
          "metadata": {},
          "output_type": "execute_result"
        }
      ],
      "source": [
        "# Check the size of the second image\n",
        "imgs[1].size"
      ]
    },
    {
      "cell_type": "code",
      "execution_count": 4,
      "metadata": {
        "colab": {
          "base_uri": "https://localhost:8080/"
        },
        "id": "G8gLcmtDUuXW",
        "outputId": "1d9b8389-df48-4a24-f27f-bbefc8ff48f8"
      },
      "outputs": [
        {
          "data": {
            "text/plain": [
              "{(32, 30), (64, 60), (128, 120)}"
            ]
          },
          "execution_count": 4,
          "metadata": {},
          "output_type": "execute_result"
        }
      ],
      "source": [
        "# Get all the sizes into a list, then convert to a set\n",
        "sizes = set([img.size for img in imgs])\n",
        "sizes"
      ]
    },
    {
      "cell_type": "code",
      "execution_count": 5,
      "metadata": {
        "colab": {
          "base_uri": "https://localhost:8080/",
          "height": 77
        },
        "id": "HdcWptcfUzSF",
        "outputId": "78630543-f3ac-437d-c351-ac24ac1aeedf"
      },
      "outputs": [
        {
          "data": {
            "image/png": "[encoded data removed]",
            "text/plain": [
              "<PIL.Image.Image image mode=L size=64x60>"
            ]
          },
          "execution_count": 5,
          "metadata": {},
          "output_type": "execute_result"
        }
      ],
      "source": [
        "# Convert the images to the middle 64, 60 size\n",
        "# Lets try with the first image\n",
        "\n",
        "target_size = (64, 60)\n",
        "imgs[1].resize(target_size, resample = Image.LANCZOS)"
      ]
    },
    {
      "cell_type": "code",
      "execution_count": 6,
      "metadata": {
        "colab": {
          "base_uri": "https://localhost:8080/",
          "height": 77
        },
        "id": "ouwjLZRpYNZH",
        "outputId": "81fa5935-50ef-40a7-f486-c8a877767bfe"
      },
      "outputs": [
        {
          "data": {
            "image/png": "[encoded data removed]",
            "text/plain": [
              "<PIL.Image.Image image mode=L size=64x60>"
            ]
          },
          "execution_count": 6,
          "metadata": {},
          "output_type": "execute_result"
        }
      ],
      "source": [
        "# Using the same syntax, use a for loop to apply resizing to all images\n",
        "\n",
        "resized_imgs = [img.resize(target_size, resample = Image.LANCZOS) for img in imgs]\n",
        "resized_imgs[1]"
      ]
    },
    {
      "cell_type": "code",
      "execution_count": 7,
      "metadata": {
        "colab": {
          "base_uri": "https://localhost:8080/"
        },
        "id": "JoA74zHcZQ4n",
        "outputId": "9a9ef7b8-1c50-4672-99b0-3cb4cf243487"
      },
      "outputs": [
        {
          "name": "stdout",
          "output_type": "stream",
          "text": [
            "Pixel Values:\n",
            "[[21 19 19 ... 45 45 43]\n",
            " [47 43 33 ... 45 45 45]\n",
            " [64 66 75 ... 45 45 43]\n",
            " ...\n",
            " [50 43 40 ...  0  0  0]\n",
            " [49 43 33 ...  0  0  0]\n",
            " [49 47 33 ... 29  0  0]]\n"
          ]
        }
      ],
      "source": [
        "# Lets examine our data numerically.\n",
        "# This is most easily done by converting the image to a numpy array\n",
        "\n",
        "# Convert one image to a NumPy array\n",
        "pixel_values = np.array(resized_imgs[0])\n",
        "\n",
        "# Display the pixel values\n",
        "print(\"Pixel Values:\")\n",
        "print(pixel_values)"
      ]
    },
    {
      "cell_type": "markdown",
      "metadata": {
        "id": "ZjS2VSHpZaW6"
      },
      "source": [
        "Note the shape of the data: an array of arrays, where each internal array represents one row of pixels. The numbers indicate how bright each pixel is on a scale of 0 to 255 where 255 is full brightness and zero is black. These numbers are what our model will use to make predictions! Many image models expect floating point values, so its common practice to convert from integers to floating point before other preprocessing steps. Note that from this point forward, we will not be able to visualize the images without using some sort of plotting library; we've converted the images to numbers!"
      ]
    },
    {
      "cell_type": "code",
      "execution_count": 8,
      "metadata": {
        "colab": {
          "base_uri": "https://localhost:8080/"
        },
        "id": "_ArW54UvYUBv",
        "outputId": "7778dddb-7daf-4b42-d436-4c168e909618"
      },
      "outputs": [
        {
          "name": "stdout",
          "output_type": "stream",
          "text": [
            "Pixel Values:\n",
            "[[21. 19. 19. ... 45. 45. 43.]\n",
            " [47. 43. 33. ... 45. 45. 45.]\n",
            " [64. 66. 75. ... 45. 45. 43.]\n",
            " ...\n",
            " [50. 43. 40. ...  0.  0.  0.]\n",
            " [49. 43. 33. ...  0.  0.  0.]\n",
            " [49. 47. 33. ... 29.  0.  0.]]\n"
          ]
        }
      ],
      "source": [
        "# Convert all images to floating point numpy arrays\n",
        "float_images = [np.array(img).astype(np.float32) for img in resized_imgs]\n",
        "\n",
        "# Display the pixel values of the first image\n",
        "print(\"Pixel Values:\")\n",
        "print(float_images[0])"
      ]
    },
    {
      "cell_type": "code",
      "execution_count": 9,
      "metadata": {
        "colab": {
          "base_uri": "https://localhost:8080/"
        },
        "id": "PNDed0bUZgUl",
        "outputId": "4ee8f9e9-1b9e-40b3-f689-b2062d53adf4"
      },
      "outputs": [
        {
          "name": "stdout",
          "output_type": "stream",
          "text": [
            "Pixel Values:\n",
            "[[0.08235294 0.07450981 0.07450981 ... 0.1764706  0.1764706  0.16862746]\n",
            " [0.18431373 0.16862746 0.12941177 ... 0.1764706  0.1764706  0.1764706 ]\n",
            " [0.2509804  0.25882354 0.29411766 ... 0.1764706  0.1764706  0.16862746]\n",
            " ...\n",
            " [0.19607843 0.16862746 0.15686275 ... 0.         0.         0.        ]\n",
            " [0.19215687 0.16862746 0.12941177 ... 0.         0.         0.        ]\n",
            " [0.19215687 0.18431373 0.12941177 ... 0.11372549 0.         0.        ]]\n"
          ]
        }
      ],
      "source": [
        "# To normalize pixel values to a range between 0 and 1,\n",
        "# we need to divide all pixel values by the max of 255\n",
        "\n",
        "normalized_images = [img/255 for img in float_images]\n",
        "\n",
        "# Display the pixel values of the first image\n",
        "print(\"Pixel Values:\")\n",
        "print(normalized_images[0])"
      ]
    },
    {
      "cell_type": "code",
      "execution_count": 10,
      "metadata": {
        "colab": {
          "base_uri": "https://localhost:8080/"
        },
        "id": "R3DFlICs1dKi",
        "outputId": "92126d80-4c37-4604-d55b-3fde531f99a3"
      },
      "outputs": [
        {
          "name": "stdout",
          "output_type": "stream",
          "text": [
            "Drive already mounted at /content/drive/; to attempt to forcibly remount, call drive.mount(\"/content/drive/\", force_remount=True).\n"
          ]
        }
      ],
      "source": [
        "# Import the modules\n",
        "from google.colab import drive\n",
        "import pickle\n",
        "\n",
        "drive.mount('/content/drive/')\n",
        "\n",
        "# Open a new file named 'img_preprocessed.pkl' with write permission\n",
        "with open('/content/drive/MyDrive/img_preprocessed.pkl', 'wb') as file:\n",
        "    # Use pickle.dump to store the list of images\n",
        "    pickle.dump(imgs, file)"
      ]
    },
    {
      "cell_type": "code",
      "execution_count": 11,
      "metadata": {
        "id": "ZJXH09OGZnfd"
      },
      "outputs": [],
      "source": [
        "# Save our preprocessed images to a new pickle file\n",
        "\n",
        "with open('/content/drive/My Drive/img_preprocessed.pkl', 'wb') as file:\n",
        "    pickle.dump(normalized_images, file)"
      ]
    },
    {
      "cell_type": "code",
      "execution_count": 11,
      "metadata": {
        "id": "Lb0gz28aaHY_"
      },
      "outputs": [],
      "source": []
    }
  ],
  "metadata": {
    "colab": {
      "provenance": []
    },
    "kernelspec": {
      "display_name": "Python 3",
      "name": "python3"
    },
    "language_info": {
      "codemirror_mode": {
        "name": "ipython",
        "version": 3
      },
      "file_extension": ".py",
      "mimetype": "text/x-python",
      "name": "python",
      "nbconvert_exporter": "python",
      "pygments_lexer": "ipython3",
      "version": "3.9.18"
    }
  },
  "nbformat": 4,
  "nbformat_minor": 0
}
