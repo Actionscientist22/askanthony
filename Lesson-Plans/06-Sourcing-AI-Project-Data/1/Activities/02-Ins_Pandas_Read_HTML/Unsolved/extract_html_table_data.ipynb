{
 "cells": [
  {
   "cell_type": "markdown",
   "metadata": {
    "slideshow": {
     "slide_type": "slide"
    }
   },
   "source": [
    "# Sourcing Data from HTML Tables with Pandas"
   ]
  },
  {
   "cell_type": "code",
   "execution_count": 1,
   "metadata": {
    "slideshow": {
     "slide_type": "slide"
    }
   },
   "outputs": [],
   "source": [
    "import pandas as pd"
   ]
  },
  {
   "cell_type": "markdown",
   "metadata": {
    "slideshow": {
     "slide_type": "subslide"
    }
   },
   "source": [
    "We can use the `read_html` function in Pandas to automatically extract any tabular data from a page."
   ]
  },
  {
   "cell_type": "code",
   "execution_count": 2,
   "metadata": {
    "slideshow": {
     "slide_type": "fragment"
    }
   },
   "outputs": [],
   "source": [
    "url = 'https://en.wikipedia.org/wiki/List_of_Australian_capital_cities'"
   ]
  },
  {
   "cell_type": "code",
   "execution_count": 3,
   "metadata": {
    "slideshow": {
     "slide_type": "fragment"
    }
   },
   "outputs": [
    {
     "data": {
      "text/plain": [
       "[                                                   0\n",
       " 0  WESTERN AUSTRALIA NORTHERN TERRITORY SOUTH AUS...,\n",
       "                 State/territory    Capital  City population[2]  \\\n",
       " 0  Australian Capital Territory   Canberra              403468   \n",
       " 1               New South Wales     Sydney             5029768   \n",
       " 2            Northern Territory     Darwin              145916   \n",
       " 3                    Queensland   Brisbane             2360241   \n",
       " 4               South Australia   Adelaide             1324279   \n",
       " 5                      Tasmania     Hobart              224462   \n",
       " 6                      Victoria  Melbourne             4725316   \n",
       " 7             Western Australia      Perth             2022044   \n",
       " \n",
       "    State/territory population[3]  \\\n",
       " 0                         403468   \n",
       " 1                        7759274   \n",
       " 2                         245740   \n",
       " 3                        4848877   \n",
       " 4                        1713054   \n",
       " 5                         517588   \n",
       " 6                        6179249   \n",
       " 7                        2558951   \n",
       " \n",
       "   Percentage of state/territory population in capital city  Established  \\\n",
       " 0                                            100.00%               1913   \n",
       " 1                                             64.82%               1788   \n",
       " 2                                             59.38%               1869   \n",
       " 3                                             48.68%               1825   \n",
       " 4                                             77.31%               1836   \n",
       " 5                                             43.37%               1804   \n",
       " 6                                             76.47%               1835   \n",
       " 7                                             79.02%               1829   \n",
       " \n",
       "    Capital since  Image  \n",
       " 0           1913    NaN  \n",
       " 1           1788    NaN  \n",
       " 2           1911    NaN  \n",
       " 3           1860    NaN  \n",
       " 4           1836    NaN  \n",
       " 5           1826    NaN  \n",
       " 6           1851    NaN  \n",
       " 7           1829    NaN  ,\n",
       "    .mw-parser-output .navbar{display:inline;font-size:88%;font-weight:normal}.mw-parser-output .navbar-collapse{float:left;text-align:left}.mw-parser-output .navbar-boxtext{word-spacing:0}.mw-parser-output .navbar ul{display:inline-block;white-space:nowrap;line-height:inherit}.mw-parser-output .navbar-brackets::before{margin-right:-0.125em;content:\"[ \"}.mw-parser-output .navbar-brackets::after{margin-left:-0.125em;content:\" ]\"}.mw-parser-output .navbar li{word-spacing:-0.125em}.mw-parser-output .navbar a>span,.mw-parser-output .navbar a>abbr{text-decoration:inherit}.mw-parser-output .navbar-mini abbr{font-variant:small-caps;border-bottom:none;text-decoration:none;cursor:inherit}.mw-parser-output .navbar-ct-full{font-size:114%;margin:0 7em}.mw-parser-output .navbar-ct-mini{font-size:114%;margin:0 4em}vteAustralia articles  \\\n",
       " 0                                             History                                                                                                                                                                                                                                                                                                                                                                                                                                                                                                                                                                                                                                                                                                                                                                                                              \n",
       " 1   Timeline Bibliography Prehistory Archaeology E...                                                                                                                                                                                                                                                                                                                                                                                                                                                                                                                                                                                                                                                                                                                                                                                                              \n",
       " 2                                            By topic                                                                                                                                                                                                                                                                                                                                                                                                                                                                                                                                                                                                                                                                                                                                                                                                              \n",
       " 3                                           Geography                                                                                                                                                                                                                                                                                                                                                                                                                                                                                                                                                                                                                                                                                                                                                                                                              \n",
       " 4   Climate Climate change Continent Deserts Envir...                                                                                                                                                                                                                                                                                                                                                                                                                                                                                                                                                                                                                                                                                                                                                                                                              \n",
       " 5                                        Subdivisions                                                                                                                                                                                                                                                                                                                                                                                                                                                                                                                                                                                                                                                                                                                                                                                                              \n",
       " 6                                            Politics                                                                                                                                                                                                                                                                                                                                                                                                                                                                                                                                                                                                                                                                                                                                                                                                              \n",
       " 7   Asylum Constitution Courts Elections Donations...                                                                                                                                                                                                                                                                                                                                                                                                                                                                                                                                                                                                                                                                                                                                                                                                              \n",
       " 8                                             Economy                                                                                                                                                                                                                                                                                                                                                                                                                                                                                                                                                                                                                                                                                                                                                                                                              \n",
       " 9   Agriculture Dollar (currency) Energy Gross sta...                                                                                                                                                                                                                                                                                                                                                                                                                                                                                                                                                                                                                                                                                                                                                                                                              \n",
       " 10                                            Society                                                                                                                                                                                                                                                                                                                                                                                                                                                                                                                                                                                                                                                                                                                                                                                                              \n",
       " 11  Aged care Citizenship Crime Education Health c...                                                                                                                                                                                                                                                                                                                                                                                                                                                                                                                                                                                                                                                                                                                                                                                                              \n",
       " 12                                            Culture                                                                                                                                                                                                                                                                                                                                                                                                                                                                                                                                                                                                                                                                                                                                                                                                              \n",
       " 13           OutlineIndexBibliography Category Portal                                                                                                                                                                                                                                                                                                                                                                                                                                                                                                                                                                                                                                                                                                                                                                                                              \n",
       " \n",
       "    .mw-parser-output .navbar{display:inline;font-size:88%;font-weight:normal}.mw-parser-output .navbar-collapse{float:left;text-align:left}.mw-parser-output .navbar-boxtext{word-spacing:0}.mw-parser-output .navbar ul{display:inline-block;white-space:nowrap;line-height:inherit}.mw-parser-output .navbar-brackets::before{margin-right:-0.125em;content:\"[ \"}.mw-parser-output .navbar-brackets::after{margin-left:-0.125em;content:\" ]\"}.mw-parser-output .navbar li{word-spacing:-0.125em}.mw-parser-output .navbar a>span,.mw-parser-output .navbar a>abbr{text-decoration:inherit}.mw-parser-output .navbar-mini abbr{font-variant:small-caps;border-bottom:none;text-decoration:none;cursor:inherit}.mw-parser-output .navbar-ct-full{font-size:114%;margin:0 7em}.mw-parser-output .navbar-ct-mini{font-size:114%;margin:0 4em}vteAustralia articles.1  \n",
       " 0   Timeline Bibliography Prehistory Archaeology E...                                                                                                                                                                                                                                                                                                                                                                                                                                                                                                                                                                                                                                                                                                                                                                                                               \n",
       " 1   Timeline Bibliography Prehistory Archaeology E...                                                                                                                                                                                                                                                                                                                                                                                                                                                                                                                                                                                                                                                                                                                                                                                                               \n",
       " 2   Asian Australians Constitutional Diplomatic Ec...                                                                                                                                                                                                                                                                                                                                                                                                                                                                                                                                                                                                                                                                                                                                                                                                               \n",
       " 3   Climate Climate change Continent Deserts Envir...                                                                                                                                                                                                                                                                                                                                                                                                                                                                                                                                                                                                                                                                                                                                                                                                               \n",
       " 4   Climate Climate change Continent Deserts Envir...                                                                                                                                                                                                                                                                                                                                                                                                                                                                                                                                                                                                                                                                                                                                                                                                               \n",
       " 5              States and territories Capitals Cities                                                                                                                                                                                                                                                                                                                                                                                                                                                                                                                                                                                                                                                                                                                                                                                                               \n",
       " 6   Asylum Constitution Courts Elections Donations...                                                                                                                                                                                                                                                                                                                                                                                                                                                                                                                                                                                                                                                                                                                                                                                                               \n",
       " 7   Asylum Constitution Courts Elections Donations...                                                                                                                                                                                                                                                                                                                                                                                                                                                                                                                                                                                                                                                                                                                                                                                                               \n",
       " 8   Agriculture Dollar (currency) Energy Gross sta...                                                                                                                                                                                                                                                                                                                                                                                                                                                                                                                                                                                                                                                                                                                                                                                                               \n",
       " 9   Agriculture Dollar (currency) Energy Gross sta...                                                                                                                                                                                                                                                                                                                                                                                                                                                                                                                                                                                                                                                                                                                                                                                                               \n",
       " 10  Aged care Citizenship Crime Education Health c...                                                                                                                                                                                                                                                                                                                                                                                                                                                                                                                                                                                                                                                                                                                                                                                                               \n",
       " 11  Aged care Citizenship Crime Education Health c...                                                                                                                                                                                                                                                                                                                                                                                                                                                                                                                                                                                                                                                                                                                                                                                                               \n",
       " 12  Architecture Art Arts Australian English Cinem...                                                                                                                                                                                                                                                                                                                                                                                                                                                                                                                                                                                                                                                                                                                                                                                                               \n",
       " 13           OutlineIndexBibliography Category Portal                                                                                                                                                                                                                                                                                                                                                                                                                                                                                                                                                                                                                                                                                                                                                                                                               ,\n",
       "                                                    0  \\\n",
       " 0  Timeline Bibliography Prehistory Archaeology E...   \n",
       " 1                                           By topic   \n",
       " \n",
       "                                                    1  \n",
       " 0  Timeline Bibliography Prehistory Archaeology E...  \n",
       " 1  Asian Australians Constitutional Diplomatic Ec...  ,\n",
       "                                                    0  \\\n",
       " 0  Climate Climate change Continent Deserts Envir...   \n",
       " 1                                       Subdivisions   \n",
       " \n",
       "                                                    1  \n",
       " 0  Climate Climate change Continent Deserts Envir...  \n",
       " 1             States and territories Capitals Cities  ,\n",
       "                                                    0  \\\n",
       " 0  Asylum Constitution Courts Elections Donations...   \n",
       " \n",
       "                                                    1  \n",
       " 0  Asylum Constitution Courts Elections Donations...  ,\n",
       "                                                    0  \\\n",
       " 0  Agriculture Dollar (currency) Energy Gross sta...   \n",
       " \n",
       "                                                    1  \n",
       " 0  Agriculture Dollar (currency) Energy Gross sta...  ,\n",
       "                                                    0  \\\n",
       " 0  Aged care Citizenship Crime Education Health c...   \n",
       " 1                                            Culture   \n",
       " \n",
       "                                                    1  \n",
       " 0  Aged care Citizenship Crime Education Health c...  \n",
       " 1  Architecture Art Arts Australian English Cinem...  ,\n",
       "                       vteCapital cities of Australia  \\\n",
       " 0  National and ACT Canberra NSW Sydney NT Darwin...   \n",
       " 1                          National and ACT Canberra   \n",
       " 2                        List of cities in Australia   \n",
       " \n",
       "                     vteCapital cities of Australia.1 Unnamed: 2    Unnamed: 3  \\\n",
       " 0  National and ACT Canberra NSW Sydney NT Darwin...        NaN           NaN   \n",
       " 1                                         NSW Sydney  NT Darwin  QLD Brisbane   \n",
       " 2                        List of cities in Australia        NaN           NaN   \n",
       " \n",
       "     Unnamed: 4  Unnamed: 5     Unnamed: 6 Unnamed: 7  \n",
       " 0          NaN         NaN            NaN        NaN  \n",
       " 1  SA Adelaide  TAS Hobart  VIC Melbourne   WA Perth  \n",
       " 2          NaN         NaN            NaN        NaN  ,\n",
       "                            0           1          2             3  \\\n",
       " 0  National and ACT Canberra  NSW Sydney  NT Darwin  QLD Brisbane   \n",
       " \n",
       "              4           5              6         7  \n",
       " 0  SA Adelaide  TAS Hobart  VIC Melbourne  WA Perth  ]"
      ]
     },
     "execution_count": 3,
     "metadata": {},
     "output_type": "execute_result"
    }
   ],
   "source": []
  },
  {
   "cell_type": "markdown",
   "metadata": {
    "slideshow": {
     "slide_type": "subslide"
    }
   },
   "source": [
    "#### What we get in return is a list of DataFrames for any tabular data that Pandas found."
   ]
  },
  {
   "cell_type": "code",
   "execution_count": 4,
   "metadata": {
    "slideshow": {
     "slide_type": "fragment"
    }
   },
   "outputs": [
    {
     "data": {
      "text/plain": [
       "list"
      ]
     },
     "execution_count": 4,
     "metadata": {},
     "output_type": "execute_result"
    }
   ],
   "source": []
  },
  {
   "cell_type": "markdown",
   "metadata": {
    "slideshow": {
     "slide_type": "subslide"
    }
   },
   "source": [
    "#### We can slice off any of those dataframes that we want using normal indexing."
   ]
  },
  {
   "cell_type": "code",
   "execution_count": 5,
   "metadata": {
    "slideshow": {
     "slide_type": "fragment"
    }
   },
   "outputs": [
    {
     "data": {
      "text/html": [
       "<div>\n",
       "<style scoped>\n",
       "    .dataframe tbody tr th:only-of-type {\n",
       "        vertical-align: middle;\n",
       "    }\n",
       "\n",
       "    .dataframe tbody tr th {\n",
       "        vertical-align: top;\n",
       "    }\n",
       "\n",
       "    .dataframe thead th {\n",
       "        text-align: right;\n",
       "    }\n",
       "</style>\n",
       "<table border=\"1\" class=\"dataframe\">\n",
       "  <thead>\n",
       "    <tr style=\"text-align: right;\">\n",
       "      <th></th>\n",
       "      <th>State/territory</th>\n",
       "      <th>Capital</th>\n",
       "      <th>City population[2]</th>\n",
       "      <th>State/territory population[3]</th>\n",
       "      <th>Percentage of state/territory population in capital city</th>\n",
       "      <th>Established</th>\n",
       "      <th>Capital since</th>\n",
       "      <th>Image</th>\n",
       "    </tr>\n",
       "  </thead>\n",
       "  <tbody>\n",
       "    <tr>\n",
       "      <th>0</th>\n",
       "      <td>Australian Capital Territory</td>\n",
       "      <td>Canberra</td>\n",
       "      <td>403468</td>\n",
       "      <td>403468</td>\n",
       "      <td>100.00%</td>\n",
       "      <td>1913</td>\n",
       "      <td>1913</td>\n",
       "      <td>NaN</td>\n",
       "    </tr>\n",
       "    <tr>\n",
       "      <th>1</th>\n",
       "      <td>New South Wales</td>\n",
       "      <td>Sydney</td>\n",
       "      <td>5029768</td>\n",
       "      <td>7759274</td>\n",
       "      <td>64.82%</td>\n",
       "      <td>1788</td>\n",
       "      <td>1788</td>\n",
       "      <td>NaN</td>\n",
       "    </tr>\n",
       "    <tr>\n",
       "      <th>2</th>\n",
       "      <td>Northern Territory</td>\n",
       "      <td>Darwin</td>\n",
       "      <td>145916</td>\n",
       "      <td>245740</td>\n",
       "      <td>59.38%</td>\n",
       "      <td>1869</td>\n",
       "      <td>1911</td>\n",
       "      <td>NaN</td>\n",
       "    </tr>\n",
       "    <tr>\n",
       "      <th>3</th>\n",
       "      <td>Queensland</td>\n",
       "      <td>Brisbane</td>\n",
       "      <td>2360241</td>\n",
       "      <td>4848877</td>\n",
       "      <td>48.68%</td>\n",
       "      <td>1825</td>\n",
       "      <td>1860</td>\n",
       "      <td>NaN</td>\n",
       "    </tr>\n",
       "    <tr>\n",
       "      <th>4</th>\n",
       "      <td>South Australia</td>\n",
       "      <td>Adelaide</td>\n",
       "      <td>1324279</td>\n",
       "      <td>1713054</td>\n",
       "      <td>77.31%</td>\n",
       "      <td>1836</td>\n",
       "      <td>1836</td>\n",
       "      <td>NaN</td>\n",
       "    </tr>\n",
       "  </tbody>\n",
       "</table>\n",
       "</div>"
      ],
      "text/plain": [
       "                State/territory   Capital  City population[2]  \\\n",
       "0  Australian Capital Territory  Canberra              403468   \n",
       "1               New South Wales    Sydney             5029768   \n",
       "2            Northern Territory    Darwin              145916   \n",
       "3                    Queensland  Brisbane             2360241   \n",
       "4               South Australia  Adelaide             1324279   \n",
       "\n",
       "   State/territory population[3]  \\\n",
       "0                         403468   \n",
       "1                        7759274   \n",
       "2                         245740   \n",
       "3                        4848877   \n",
       "4                        1713054   \n",
       "\n",
       "  Percentage of state/territory population in capital city  Established  \\\n",
       "0                                            100.00%               1913   \n",
       "1                                             64.82%               1788   \n",
       "2                                             59.38%               1869   \n",
       "3                                             48.68%               1825   \n",
       "4                                             77.31%               1836   \n",
       "\n",
       "   Capital since  Image  \n",
       "0           1913    NaN  \n",
       "1           1788    NaN  \n",
       "2           1911    NaN  \n",
       "3           1860    NaN  \n",
       "4           1836    NaN  "
      ]
     },
     "execution_count": 5,
     "metadata": {},
     "output_type": "execute_result"
    }
   ],
   "source": []
  },
  {
   "cell_type": "markdown",
   "metadata": {
    "slideshow": {
     "slide_type": "subslide"
    }
   },
   "source": [
    "#### Fix column names"
   ]
  },
  {
   "cell_type": "code",
   "execution_count": 6,
   "metadata": {
    "slideshow": {
     "slide_type": "fragment"
    }
   },
   "outputs": [
    {
     "data": {
      "text/html": [
       "<div>\n",
       "<style scoped>\n",
       "    .dataframe tbody tr th:only-of-type {\n",
       "        vertical-align: middle;\n",
       "    }\n",
       "\n",
       "    .dataframe tbody tr th {\n",
       "        vertical-align: top;\n",
       "    }\n",
       "\n",
       "    .dataframe thead th {\n",
       "        text-align: right;\n",
       "    }\n",
       "</style>\n",
       "<table border=\"1\" class=\"dataframe\">\n",
       "  <thead>\n",
       "    <tr style=\"text-align: right;\">\n",
       "      <th></th>\n",
       "      <th>State/territory</th>\n",
       "      <th>Capital</th>\n",
       "      <th>City population</th>\n",
       "      <th>State/territory population</th>\n",
       "      <th>Percentage of state/territory population in capital city</th>\n",
       "      <th>Established</th>\n",
       "      <th>Capital since</th>\n",
       "      <th>Image</th>\n",
       "    </tr>\n",
       "  </thead>\n",
       "  <tbody>\n",
       "    <tr>\n",
       "      <th>0</th>\n",
       "      <td>Australian Capital Territory</td>\n",
       "      <td>Canberra</td>\n",
       "      <td>403468</td>\n",
       "      <td>403468</td>\n",
       "      <td>100.00%</td>\n",
       "      <td>1913</td>\n",
       "      <td>1913</td>\n",
       "      <td>NaN</td>\n",
       "    </tr>\n",
       "    <tr>\n",
       "      <th>1</th>\n",
       "      <td>New South Wales</td>\n",
       "      <td>Sydney</td>\n",
       "      <td>5029768</td>\n",
       "      <td>7759274</td>\n",
       "      <td>64.82%</td>\n",
       "      <td>1788</td>\n",
       "      <td>1788</td>\n",
       "      <td>NaN</td>\n",
       "    </tr>\n",
       "    <tr>\n",
       "      <th>2</th>\n",
       "      <td>Northern Territory</td>\n",
       "      <td>Darwin</td>\n",
       "      <td>145916</td>\n",
       "      <td>245740</td>\n",
       "      <td>59.38%</td>\n",
       "      <td>1869</td>\n",
       "      <td>1911</td>\n",
       "      <td>NaN</td>\n",
       "    </tr>\n",
       "    <tr>\n",
       "      <th>3</th>\n",
       "      <td>Queensland</td>\n",
       "      <td>Brisbane</td>\n",
       "      <td>2360241</td>\n",
       "      <td>4848877</td>\n",
       "      <td>48.68%</td>\n",
       "      <td>1825</td>\n",
       "      <td>1860</td>\n",
       "      <td>NaN</td>\n",
       "    </tr>\n",
       "    <tr>\n",
       "      <th>4</th>\n",
       "      <td>South Australia</td>\n",
       "      <td>Adelaide</td>\n",
       "      <td>1324279</td>\n",
       "      <td>1713054</td>\n",
       "      <td>77.31%</td>\n",
       "      <td>1836</td>\n",
       "      <td>1836</td>\n",
       "      <td>NaN</td>\n",
       "    </tr>\n",
       "  </tbody>\n",
       "</table>\n",
       "</div>"
      ],
      "text/plain": [
       "                State/territory   Capital  City population  \\\n",
       "0  Australian Capital Territory  Canberra           403468   \n",
       "1               New South Wales    Sydney          5029768   \n",
       "2            Northern Territory    Darwin           145916   \n",
       "3                    Queensland  Brisbane          2360241   \n",
       "4               South Australia  Adelaide          1324279   \n",
       "\n",
       "   State/territory population  \\\n",
       "0                      403468   \n",
       "1                     7759274   \n",
       "2                      245740   \n",
       "3                     4848877   \n",
       "4                     1713054   \n",
       "\n",
       "  Percentage of state/territory population in capital city  Established  \\\n",
       "0                                            100.00%               1913   \n",
       "1                                             64.82%               1788   \n",
       "2                                             59.38%               1869   \n",
       "3                                             48.68%               1825   \n",
       "4                                             77.31%               1836   \n",
       "\n",
       "   Capital since  Image  \n",
       "0           1913    NaN  \n",
       "1           1788    NaN  \n",
       "2           1911    NaN  \n",
       "3           1860    NaN  \n",
       "4           1836    NaN  "
      ]
     },
     "execution_count": 6,
     "metadata": {},
     "output_type": "execute_result"
    }
   ],
   "source": []
  },
  {
   "cell_type": "markdown",
   "metadata": {
    "slideshow": {
     "slide_type": "subslide"
    }
   },
   "source": [
    "#### Drop a column"
   ]
  },
  {
   "cell_type": "code",
   "execution_count": 7,
   "metadata": {
    "scrolled": false,
    "slideshow": {
     "slide_type": "fragment"
    }
   },
   "outputs": [
    {
     "data": {
      "text/html": [
       "<div>\n",
       "<style scoped>\n",
       "    .dataframe tbody tr th:only-of-type {\n",
       "        vertical-align: middle;\n",
       "    }\n",
       "\n",
       "    .dataframe tbody tr th {\n",
       "        vertical-align: top;\n",
       "    }\n",
       "\n",
       "    .dataframe thead th {\n",
       "        text-align: right;\n",
       "    }\n",
       "</style>\n",
       "<table border=\"1\" class=\"dataframe\">\n",
       "  <thead>\n",
       "    <tr style=\"text-align: right;\">\n",
       "      <th></th>\n",
       "      <th>State/territory</th>\n",
       "      <th>Capital</th>\n",
       "      <th>City population</th>\n",
       "      <th>State/territory population</th>\n",
       "      <th>Percentage of state/territory population in capital city</th>\n",
       "      <th>Established</th>\n",
       "      <th>Capital since</th>\n",
       "    </tr>\n",
       "  </thead>\n",
       "  <tbody>\n",
       "    <tr>\n",
       "      <th>0</th>\n",
       "      <td>Australian Capital Territory</td>\n",
       "      <td>Canberra</td>\n",
       "      <td>403468</td>\n",
       "      <td>403468</td>\n",
       "      <td>100.00%</td>\n",
       "      <td>1913</td>\n",
       "      <td>1913</td>\n",
       "    </tr>\n",
       "    <tr>\n",
       "      <th>1</th>\n",
       "      <td>New South Wales</td>\n",
       "      <td>Sydney</td>\n",
       "      <td>5029768</td>\n",
       "      <td>7759274</td>\n",
       "      <td>64.82%</td>\n",
       "      <td>1788</td>\n",
       "      <td>1788</td>\n",
       "    </tr>\n",
       "    <tr>\n",
       "      <th>2</th>\n",
       "      <td>Northern Territory</td>\n",
       "      <td>Darwin</td>\n",
       "      <td>145916</td>\n",
       "      <td>245740</td>\n",
       "      <td>59.38%</td>\n",
       "      <td>1869</td>\n",
       "      <td>1911</td>\n",
       "    </tr>\n",
       "    <tr>\n",
       "      <th>3</th>\n",
       "      <td>Queensland</td>\n",
       "      <td>Brisbane</td>\n",
       "      <td>2360241</td>\n",
       "      <td>4848877</td>\n",
       "      <td>48.68%</td>\n",
       "      <td>1825</td>\n",
       "      <td>1860</td>\n",
       "    </tr>\n",
       "    <tr>\n",
       "      <th>4</th>\n",
       "      <td>South Australia</td>\n",
       "      <td>Adelaide</td>\n",
       "      <td>1324279</td>\n",
       "      <td>1713054</td>\n",
       "      <td>77.31%</td>\n",
       "      <td>1836</td>\n",
       "      <td>1836</td>\n",
       "    </tr>\n",
       "  </tbody>\n",
       "</table>\n",
       "</div>"
      ],
      "text/plain": [
       "                State/territory   Capital  City population  \\\n",
       "0  Australian Capital Territory  Canberra           403468   \n",
       "1               New South Wales    Sydney          5029768   \n",
       "2            Northern Territory    Darwin           145916   \n",
       "3                    Queensland  Brisbane          2360241   \n",
       "4               South Australia  Adelaide          1324279   \n",
       "\n",
       "   State/territory population  \\\n",
       "0                      403468   \n",
       "1                     7759274   \n",
       "2                      245740   \n",
       "3                     4848877   \n",
       "4                     1713054   \n",
       "\n",
       "  Percentage of state/territory population in capital city  Established  \\\n",
       "0                                            100.00%               1913   \n",
       "1                                             64.82%               1788   \n",
       "2                                             59.38%               1869   \n",
       "3                                             48.68%               1825   \n",
       "4                                             77.31%               1836   \n",
       "\n",
       "   Capital since  \n",
       "0           1913  \n",
       "1           1788  \n",
       "2           1911  \n",
       "3           1860  \n",
       "4           1836  "
      ]
     },
     "execution_count": 7,
     "metadata": {},
     "output_type": "execute_result"
    }
   ],
   "source": []
  },
  {
   "cell_type": "markdown",
   "metadata": {},
   "source": [
    "#### Reset an index"
   ]
  },
  {
   "cell_type": "code",
   "execution_count": 8,
   "metadata": {},
   "outputs": [
    {
     "data": {
      "text/html": [
       "<div>\n",
       "<style scoped>\n",
       "    .dataframe tbody tr th:only-of-type {\n",
       "        vertical-align: middle;\n",
       "    }\n",
       "\n",
       "    .dataframe tbody tr th {\n",
       "        vertical-align: top;\n",
       "    }\n",
       "\n",
       "    .dataframe thead th {\n",
       "        text-align: right;\n",
       "    }\n",
       "</style>\n",
       "<table border=\"1\" class=\"dataframe\">\n",
       "  <thead>\n",
       "    <tr style=\"text-align: right;\">\n",
       "      <th></th>\n",
       "      <th>State/territory</th>\n",
       "      <th>Capital</th>\n",
       "      <th>City population</th>\n",
       "      <th>State/territory population</th>\n",
       "      <th>Percentage of state/territory population in capital city</th>\n",
       "      <th>Established</th>\n",
       "      <th>Capital since</th>\n",
       "    </tr>\n",
       "  </thead>\n",
       "  <tbody>\n",
       "    <tr>\n",
       "      <th>0</th>\n",
       "      <td>Australian Capital Territory</td>\n",
       "      <td>Canberra</td>\n",
       "      <td>403468</td>\n",
       "      <td>403468</td>\n",
       "      <td>100.00%</td>\n",
       "      <td>1913</td>\n",
       "      <td>1913</td>\n",
       "    </tr>\n",
       "    <tr>\n",
       "      <th>1</th>\n",
       "      <td>New South Wales</td>\n",
       "      <td>Sydney</td>\n",
       "      <td>5029768</td>\n",
       "      <td>7759274</td>\n",
       "      <td>64.82%</td>\n",
       "      <td>1788</td>\n",
       "      <td>1788</td>\n",
       "    </tr>\n",
       "    <tr>\n",
       "      <th>2</th>\n",
       "      <td>Northern Territory</td>\n",
       "      <td>Darwin</td>\n",
       "      <td>145916</td>\n",
       "      <td>245740</td>\n",
       "      <td>59.38%</td>\n",
       "      <td>1869</td>\n",
       "      <td>1911</td>\n",
       "    </tr>\n",
       "    <tr>\n",
       "      <th>3</th>\n",
       "      <td>Queensland</td>\n",
       "      <td>Brisbane</td>\n",
       "      <td>2360241</td>\n",
       "      <td>4848877</td>\n",
       "      <td>48.68%</td>\n",
       "      <td>1825</td>\n",
       "      <td>1860</td>\n",
       "    </tr>\n",
       "    <tr>\n",
       "      <th>4</th>\n",
       "      <td>South Australia</td>\n",
       "      <td>Adelaide</td>\n",
       "      <td>1324279</td>\n",
       "      <td>1713054</td>\n",
       "      <td>77.31%</td>\n",
       "      <td>1836</td>\n",
       "      <td>1836</td>\n",
       "    </tr>\n",
       "  </tbody>\n",
       "</table>\n",
       "</div>"
      ],
      "text/plain": [
       "                State/territory   Capital  City population  \\\n",
       "0  Australian Capital Territory  Canberra           403468   \n",
       "1               New South Wales    Sydney          5029768   \n",
       "2            Northern Territory    Darwin           145916   \n",
       "3                    Queensland  Brisbane          2360241   \n",
       "4               South Australia  Adelaide          1324279   \n",
       "\n",
       "   State/territory population  \\\n",
       "0                      403468   \n",
       "1                     7759274   \n",
       "2                      245740   \n",
       "3                     4848877   \n",
       "4                     1713054   \n",
       "\n",
       "  Percentage of state/territory population in capital city  Established  \\\n",
       "0                                            100.00%               1913   \n",
       "1                                             64.82%               1788   \n",
       "2                                             59.38%               1869   \n",
       "3                                             48.68%               1825   \n",
       "4                                             77.31%               1836   \n",
       "\n",
       "   Capital since  \n",
       "0           1913  \n",
       "1           1788  \n",
       "2           1911  \n",
       "3           1860  \n",
       "4           1836  "
      ]
     },
     "execution_count": 8,
     "metadata": {},
     "output_type": "execute_result"
    }
   ],
   "source": []
  },
  {
   "cell_type": "code",
   "execution_count": 9,
   "metadata": {},
   "outputs": [
    {
     "data": {
      "text/html": [
       "<div>\n",
       "<style scoped>\n",
       "    .dataframe tbody tr th:only-of-type {\n",
       "        vertical-align: middle;\n",
       "    }\n",
       "\n",
       "    .dataframe tbody tr th {\n",
       "        vertical-align: top;\n",
       "    }\n",
       "\n",
       "    .dataframe thead th {\n",
       "        text-align: right;\n",
       "    }\n",
       "</style>\n",
       "<table border=\"1\" class=\"dataframe\">\n",
       "  <thead>\n",
       "    <tr style=\"text-align: right;\">\n",
       "      <th></th>\n",
       "      <th>State/territory</th>\n",
       "      <th>Capital</th>\n",
       "      <th>City population</th>\n",
       "      <th>State/territory population</th>\n",
       "      <th>Percentage of state/territory population in capital city</th>\n",
       "      <th>Established</th>\n",
       "      <th>Capital since</th>\n",
       "    </tr>\n",
       "  </thead>\n",
       "  <tbody>\n",
       "    <tr>\n",
       "      <th>1</th>\n",
       "      <td>New South Wales</td>\n",
       "      <td>Sydney</td>\n",
       "      <td>5029768</td>\n",
       "      <td>7759274</td>\n",
       "      <td>64.82%</td>\n",
       "      <td>1788</td>\n",
       "      <td>1788</td>\n",
       "    </tr>\n",
       "  </tbody>\n",
       "</table>\n",
       "</div>"
      ],
      "text/plain": [
       "   State/territory Capital  City population  State/territory population  \\\n",
       "1  New South Wales  Sydney          5029768                     7759274   \n",
       "\n",
       "  Percentage of state/territory population in capital city  Established  \\\n",
       "1                                             64.82%               1788   \n",
       "\n",
       "   Capital since  \n",
       "1           1788  "
      ]
     },
     "execution_count": 9,
     "metadata": {},
     "output_type": "execute_result"
    }
   ],
   "source": []
  },
  {
   "cell_type": "markdown",
   "metadata": {
    "slideshow": {
     "slide_type": "slide"
    }
   },
   "source": [
    "## Export DataFrame as CSV"
   ]
  },
  {
   "cell_type": "code",
   "execution_count": 10,
   "metadata": {
    "scrolled": true,
    "slideshow": {
     "slide_type": "fragment"
    }
   },
   "outputs": [],
   "source": []
  },
  {
   "cell_type": "code",
   "execution_count": null,
   "metadata": {},
   "outputs": [],
   "source": []
  }
 ],
 "metadata": {
  "kernelspec": {
   "display_name": "Python 3 (ipykernel)",
   "language": "python",
   "name": "python3"
  },
  "language_info": {
   "codemirror_mode": {
    "name": "ipython",
    "version": 3
   },
   "file_extension": ".py",
   "mimetype": "text/x-python",
   "name": "python",
   "nbconvert_exporter": "python",
   "pygments_lexer": "ipython3",
   "version": "3.10.11"
  },
  "varInspector": {
   "cols": {
    "lenName": 16,
    "lenType": 16,
    "lenVar": 40
   },
   "kernels_config": {
    "python": {
     "delete_cmd_postfix": "",
     "delete_cmd_prefix": "del ",
     "library": "var_list.py",
     "varRefreshCmd": "print(var_dic_list())"
    },
    "r": {
     "delete_cmd_postfix": ") ",
     "delete_cmd_prefix": "rm(",
     "library": "var_list.r",
     "varRefreshCmd": "cat(var_dic_list()) "
    }
   },
   "types_to_exclude": [
    "module",
    "function",
    "builtin_function_or_method",
    "instance",
    "_Feature"
   ],
   "window_display": false
  }
 },
 "nbformat": 4,
 "nbformat_minor": 2
}
