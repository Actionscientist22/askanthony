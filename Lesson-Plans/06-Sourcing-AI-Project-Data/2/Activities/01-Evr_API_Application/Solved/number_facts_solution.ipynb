{
 "cells": [
  {
   "cell_type": "code",
   "execution_count": 1,
   "metadata": {},
   "outputs": [],
   "source": [
    "# Dependencies\n",
    "import requests\n",
    "import json"
   ]
  },
  {
   "cell_type": "code",
   "execution_count": 2,
   "metadata": {},
   "outputs": [],
   "source": [
    "# Base URL for GET requests to retrieve number/date facts\n",
    "url = \"http://numbersapi.com/\""
   ]
  },
  {
   "cell_type": "code",
   "execution_count": 3,
   "metadata": {},
   "outputs": [],
   "source": [
    "# Create a list of the search choice options\n",
    "search_options = [\"trivia\", \"math\", \"date\", \"year\"]"
   ]
  },
  {
   "cell_type": "code",
   "execution_count": 4,
   "metadata": {},
   "outputs": [
    {
     "name": "stdout",
     "output_type": "stream",
     "text": [
      "{\n",
      "    \"text\": \"45 is the sixth positive integer with a prime factorization of the form p2q, with p and q being prime.\",\n",
      "    \"number\": 45,\n",
      "    \"found\": true,\n",
      "    \"type\": \"math\"\n",
      "}\n"
     ]
    }
   ],
   "source": [
    "# Make a test request to check the JSON format\n",
    "response = requests.get(url + \"45/\" +  search_options[1].lower()+ \"?json\").json()\n",
    "\n",
    "# Use json.dumps with argument indent=4 to format data\n",
    "print(json.dumps(response, indent=4))"
   ]
  },
  {
   "cell_type": "code",
   "execution_count": 5,
   "metadata": {},
   "outputs": [
    {
     "name": "stdout",
     "output_type": "stream",
     "text": [
      "What type of data would you like to search for? ['trivia', 'math', 'date', 'year']\n",
      "trivia\n"
     ]
    }
   ],
   "source": [
    "# Ask the user what kind of data they would like to search for\n",
    "question = (\"What type of data would you like to search for? \"\n",
    "            + str(search_options) + \"\\n\")\n",
    "kind_of_search = input(question)"
   ]
  },
  {
   "cell_type": "code",
   "execution_count": 6,
   "metadata": {},
   "outputs": [
    {
     "name": "stdout",
     "output_type": "stream",
     "text": [
      "What number would you like to search for? 365\n",
      "365 is the number of solar days in the mean tropical year.\n"
     ]
    }
   ],
   "source": [
    "# Check that the user selection is in the search options\n",
    "if kind_of_search in search_options:\n",
    "    # If the kind of search is \"date\" take in two numbers\n",
    "    if(kind_of_search.lower() == \"date\"):\n",
    "        \n",
    "        # Create a continuous loop that exits when month is valid\n",
    "        while True:\n",
    "            # Collect the month to search for\n",
    "            month = input(\"What month would you like to search for? \")\n",
    "            \n",
    "            # Month needs to be digit and in range(1, 13)\n",
    "            if not month.isdigit():\n",
    "                # Print error and return month to empty string\n",
    "                print(\"Month input not valid. Must be between 1-12.\")\n",
    "            elif int(month) not in range(1, 13):\n",
    "                # Print error and return month to empty string\n",
    "                print(\"Month input not valid. Must be between 1-12.\")\n",
    "            else:\n",
    "                # Break from loop\n",
    "                break\n",
    "\n",
    "        # Create a continuous loop that exits when day is valid\n",
    "        while True:\n",
    "            # Collect the day to search for\n",
    "            day = input(\"What day would you like to search for? \")\n",
    "\n",
    "            # Day needs to be digit and in range(1, 32)\n",
    "            if not day.isdigit():\n",
    "                # Print error and return month to empty string\n",
    "                print(\"Month input not valid. Must be between 1-31.\")\n",
    "            elif int(day) not in range(1, 32):\n",
    "                # Print error and return day to empty string\n",
    "                print(\"Day input not valid. Must be between 1-31.\")\n",
    "            else:\n",
    "                # Break from loop\n",
    "                break\n",
    "\n",
    "        # Make an API call to the \"date\" API and convert response object to JSON\n",
    "        response = requests.get(f\"{url}{month}/{day}/{kind_of_search.lower()}?json\").json()\n",
    "        # Print the fact stored within the response\n",
    "        print(response[\"text\"])\n",
    "\n",
    "    # If the kind of search is anything but \"date\" then take one number\n",
    "    else:\n",
    "\n",
    "        # Create a continuous loop that exits when input is number\n",
    "        while True:\n",
    "            # Collect the number to search for\n",
    "            number = input(\"What number would you like to search for? \")\n",
    "            \n",
    "            # Check if the input is a number with isdigit()\n",
    "            if number.isdigit():\n",
    "                # Break from the loop\n",
    "                break\n",
    "            else:\n",
    "                # Print an error\n",
    "                print(\"You must enter a number.\")\n",
    "\n",
    "        # Make an API call to the API and convert response object to JSON\n",
    "        response = requests.get(url + number + \"/\" +  kind_of_search.lower()+ \"?json\").json()\n",
    "        # Print the fact stored within the response\n",
    "        print(response[\"text\"])\n",
    "else:\n",
    "    print(\"Error: You didn't select a valid option.\")"
   ]
  },
  {
   "cell_type": "code",
   "execution_count": null,
   "metadata": {
    "collapsed": true
   },
   "outputs": [],
   "source": []
  }
 ],
 "metadata": {
  "kernelspec": {
   "display_name": "Python 3 (ipykernel)",
   "language": "python",
   "name": "python3"
  },
  "language_info": {
   "codemirror_mode": {
    "name": "ipython",
    "version": 3
   },
   "file_extension": ".py",
   "mimetype": "text/x-python",
   "name": "python",
   "nbconvert_exporter": "python",
   "pygments_lexer": "ipython3",
   "version": "3.10.11"
  },
  "varInspector": {
   "cols": {
    "lenName": 16,
    "lenType": 16,
    "lenVar": 40
   },
   "kernels_config": {
    "python": {
     "delete_cmd_postfix": "",
     "delete_cmd_prefix": "del ",
     "library": "var_list.py",
     "varRefreshCmd": "print(var_dic_list())"
    },
    "r": {
     "delete_cmd_postfix": ") ",
     "delete_cmd_prefix": "rm(",
     "library": "var_list.r",
     "varRefreshCmd": "cat(var_dic_list()) "
    }
   },
   "types_to_exclude": [
    "module",
    "function",
    "builtin_function_or_method",
    "instance",
    "_Feature"
   ],
   "window_display": false
  }
 },
 "nbformat": 4,
 "nbformat_minor": 2
}
