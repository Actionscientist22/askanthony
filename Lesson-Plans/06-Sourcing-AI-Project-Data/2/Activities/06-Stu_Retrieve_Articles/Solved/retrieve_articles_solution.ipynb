{
 "cells": [
  {
   "cell_type": "code",
   "execution_count": 1,
   "metadata": {},
   "outputs": [],
   "source": [
    "# Import dependencies\n",
    "import requests\n",
    "from dotenv import load_dotenv\n",
    "import os\n",
    "import time\n",
    "\n",
    "# Load environment variables and New York Times API key\n",
    "load_dotenv()\n",
    "api_key = os.getenv(\"NYT_API_KEY\")\n",
    "\n",
    "# New York Times Article API URL\n",
    "url = \"https://api.nytimes.com/svc/search/v2/articlesearch.json?\"\n",
    "\n",
    "# Store a search term\n",
    "query = \"blockbuster\"\n",
    "\n",
    "# Search for articles published between a begin and end date\n",
    "begin_date = \"20230101\"\n",
    "end_date = \"20230731\"\n",
    "\n",
    "# Build URL\n",
    "query_url = f\"{url}api-key={api_key}&q={query}&begin_date={begin_date}&end_date={end_date}\""
   ]
  },
  {
   "cell_type": "code",
   "execution_count": 2,
   "metadata": {},
   "outputs": [
    {
     "name": "stdout",
     "output_type": "stream",
     "text": [
      "A snippet from the article: “Sound of Freedom,” a film championed by the right, was behind only “Insidious: The Red Door” and “Indiana Jones and the Dial of Destiny” at the box office last weekend.\n",
      "---------------------------\n",
      "A snippet from the article: The settlement with Dominion Voting Systems was a final twist in a case that exposed the inner workings of the most powerful voice in conservative news.\n",
      "---------------------------\n",
      "A snippet from the article: Exclusively from New York Times Audio, our new app.\n",
      "---------------------------\n",
      "A snippet from the article: ‘Avatar: The Way of Water,” “Black Panther: Wakanda Forever” and “Top Gun: Maverick” made the cut. “The Woman King” and “Women Talking” were snubbed.\n",
      "---------------------------\n",
      "A snippet from the article: A major art show was supposed to unite masterpieces from London and Moscow, until Russia invaded Ukraine. Now, Russia is cut off from the West, and each side’s treasures are staying put.\n",
      "---------------------------\n",
      "A snippet from the article: The latest film from Zhang Yimou weaves slapstick fun into an investigation of a 12th-century political murder.\n",
      "---------------------------\n",
      "A snippet from the article: Alternatives to animal testing are gaining momentum.\n",
      "---------------------------\n",
      "A snippet from the article: “I think it was a particular ripple in the universe that allowed it to happen,” the director said on Tuesday of her highly anticipated movie making a staggering $162 million in its first weekend.\n",
      "---------------------------\n",
      "A snippet from the article: At two extended viewings this past weekend, some of the last visitors saw the show at the Rijksmuseum in Amsterdam that many wanted to experience, but only a lucky 650,000 people could.\n",
      "---------------------------\n",
      "A snippet from the article: Gov. Kathy Hochul wants to increase incentives to film and television to $700 million a year, arguing that a lesser commitment would cause producers to go elsewhere.\n",
      "---------------------------\n"
     ]
    }
   ],
   "source": [
    "# Retrieve articles\n",
    "articles = requests.get(query_url).json()\n",
    "articles_list = articles[\"response\"][\"docs\"]\n",
    "\n",
    "for article in articles_list:\n",
    "    print(f'A snippet from the article: {article[\"snippet\"]}')\n",
    "    print('---------------------------')"
   ]
  },
  {
   "cell_type": "code",
   "execution_count": 3,
   "metadata": {},
   "outputs": [],
   "source": [
    "# BONUS: How would we get 30 results? \n",
    "# HINT: Look up the page query param\n",
    "\n",
    "# Empty list for articles\n",
    "articles_list = []\n",
    "\n",
    "# loop through pages 0-2\n",
    "for page in range(0, 3):\n",
    "    query_url = f\"{url}api-key={api_key}&q={query}&begin_date={begin_date}&end_date={end_date}\"\n",
    "    # create query with page number\n",
    "    query_url = f\"{query_url}&page={str(page)}\"\n",
    "    articles = requests.get(query_url).json()\n",
    "    \n",
    "    # Add a one second interval between queries to stay within API query limits\n",
    "    time.sleep(1)\n",
    "    # loop through the response and append each article to the list\n",
    "    for article in articles[\"response\"][\"docs\"]:\n",
    "        articles_list.append(article)"
   ]
  },
  {
   "cell_type": "code",
   "execution_count": 4,
   "metadata": {},
   "outputs": [
    {
     "name": "stdout",
     "output_type": "stream",
     "text": [
      "“Sound of Freedom,” a film championed by the right, was behind only “Insidious: The Red Door” and “Indiana Jones and the Dial of Destiny” at the box office last weekend.\n",
      "---------------------------\n",
      "The settlement with Dominion Voting Systems was a final twist in a case that exposed the inner workings of the most powerful voice in conservative news.\n",
      "---------------------------\n",
      "Exclusively from New York Times Audio, our new app.\n",
      "---------------------------\n",
      "‘Avatar: The Way of Water,” “Black Panther: Wakanda Forever” and “Top Gun: Maverick” made the cut. “The Woman King” and “Women Talking” were snubbed.\n",
      "---------------------------\n",
      "A major art show was supposed to unite masterpieces from London and Moscow, until Russia invaded Ukraine. Now, Russia is cut off from the West, and each side’s treasures are staying put.\n",
      "---------------------------\n",
      "The latest film from Zhang Yimou weaves slapstick fun into an investigation of a 12th-century political murder.\n",
      "---------------------------\n",
      "Alternatives to animal testing are gaining momentum.\n",
      "---------------------------\n",
      "“I think it was a particular ripple in the universe that allowed it to happen,” the director said on Tuesday of her highly anticipated movie making a staggering $162 million in its first weekend.\n",
      "---------------------------\n",
      "At two extended viewings this past weekend, some of the last visitors saw the show at the Rijksmuseum in Amsterdam that many wanted to experience, but only a lucky 650,000 people could.\n",
      "---------------------------\n",
      "Gov. Kathy Hochul wants to increase incentives to film and television to $700 million a year, arguing that a lesser commitment would cause producers to go elsewhere.\n",
      "---------------------------\n",
      "After filming her part in “Black Panther: Wakanda Forever,” María Mercedes Coroy returned to her “normal” life of farming and trading in a Guatemalan town at the base of a volcano.\n",
      "---------------------------\n",
      "The bumper box office broke the usual pattern for blockbuster opening weekends, with several films contributing to the big numbers.\n",
      "---------------------------\n",
      "The audacious sequel to Frant Gwo’s 2019 sci-fi blockbuster follows survivors working to avert planetary disaster, but it loses much of the glee of its predecessor.\n",
      "---------------------------\n",
      "Kimmel reminisced about his show’s highs and lows on its milestone anniversary.\n",
      "---------------------------\n",
      "Many summer blockbusters and streaming hot television shows started as comic books. Try this quiz to test your knowledge on the topic.\n",
      "---------------------------\n",
      "The pop-country singer, who was briefly reprimanded by the industry after using a racial slur, has another blockbuster regardless: the 36-song “One Thing at a Time.”\n",
      "---------------------------\n",
      "Richard Dickson helped improve Barbie’s image, culminating in the blockbuster film. Now he faces a similar turnaround challenge at the retailer.\n",
      "---------------------------\n",
      "With a blockbuster LP and a smash tour, the genre-melding superstar set a new bar for himself, and expanded the possibilities for Spanish-language pop worldwide.\n",
      "---------------------------\n",
      "The country star has two releases in the Top 5 of Billboard’s album chart, continuing a dominating run anchored by streaming.\n",
      "---------------------------\n",
      "The story is a warning. Will we heed it?\n",
      "---------------------------\n",
      "A blockbuster exhibition brings together more paintings by the Dutch master than ever before. Yet he remains a mystery, despite efforts by authors, filmmakers and researchers to fill the empty space.\n",
      "---------------------------\n",
      "This contribution to slow cinema observes the quiet routines of a captain and her crew as they sail a small boat across the Mediterranean.\n",
      "---------------------------\n",
      "The award was given to Murphy, 61, for “outstanding contributions to the world of entertainment.”\n",
      "---------------------------\n",
      "Players and officials are split on the a blockbuster agreement.\n",
      "---------------------------\n",
      "As background extras, some nonplayer characters are programmed to do one thing forever: drudgery.\n",
      "---------------------------\n",
      "“One Thing at a Time” had the second-biggest streaming total for a country album, after its debut last week. The nine-woman K-pop group Twice opens at No. 2.\n",
      "---------------------------\n",
      "Pink Floyd’s enduring blockbuster merged grandeur and malaise. Very much a product of its era, it became one of the best-selling albums of all time.\n",
      "---------------------------\n",
      "After two months without new late-night TV shows, viewers are likely to notice the effects of the dual walkouts more broadly within the next couple of months unless agreements are reached quickly.\n",
      "---------------------------\n",
      "What does it take to make movie magic?\n",
      "---------------------------\n",
      "A young tenor enters a world enlivened by computer graphics at a school devoted to the composer’s works in this Roland Emmerich-inspired film.\n",
      "---------------------------\n"
     ]
    }
   ],
   "source": [
    "for article in articles_list:\n",
    "    print(article['snippet'])\n",
    "    print('---------------------------')"
   ]
  },
  {
   "cell_type": "code",
   "execution_count": null,
   "metadata": {},
   "outputs": [],
   "source": []
  }
 ],
 "metadata": {
  "kernelspec": {
   "display_name": "Python 3 (ipykernel)",
   "language": "python",
   "name": "python3"
  },
  "language_info": {
   "codemirror_mode": {
    "name": "ipython",
    "version": 3
   },
   "file_extension": ".py",
   "mimetype": "text/x-python",
   "name": "python",
   "nbconvert_exporter": "python",
   "pygments_lexer": "ipython3",
   "version": "3.10.11"
  },
  "varInspector": {
   "cols": {
    "lenName": 16,
    "lenType": 16,
    "lenVar": 40
   },
   "kernels_config": {
    "python": {
     "delete_cmd_postfix": "",
     "delete_cmd_prefix": "del ",
     "library": "var_list.py",
     "varRefreshCmd": "print(var_dic_list())"
    },
    "r": {
     "delete_cmd_postfix": ") ",
     "delete_cmd_prefix": "rm(",
     "library": "var_list.r",
     "varRefreshCmd": "cat(var_dic_list()) "
    }
   },
   "types_to_exclude": [
    "module",
    "function",
    "builtin_function_or_method",
    "instance",
    "_Feature"
   ],
   "window_display": false
  }
 },
 "nbformat": 4,
 "nbformat_minor": 2
}
