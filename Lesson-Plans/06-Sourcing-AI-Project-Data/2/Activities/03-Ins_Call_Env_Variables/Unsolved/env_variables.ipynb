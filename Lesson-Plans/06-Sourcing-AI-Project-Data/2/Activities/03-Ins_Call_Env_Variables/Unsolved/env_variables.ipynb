{
 "cells": [
  {
   "cell_type": "markdown",
   "metadata": {},
   "source": [
    "### Instructor Demo: Environment Variables"
   ]
  },
  {
   "cell_type": "code",
   "execution_count": 1,
   "metadata": {},
   "outputs": [],
   "source": [
    "# Import dotenv package for setting environment variables \n",
    "from dotenv import load_dotenv\n",
    "\n",
    "# Import os package\n",
    "import os"
   ]
  },
  {
   "cell_type": "code",
   "execution_count": 2,
   "metadata": {
    "scrolled": true
   },
   "outputs": [
    {
     "data": {
      "text/plain": [
       "True"
      ]
     },
     "execution_count": 2,
     "metadata": {},
     "output_type": "execute_result"
    }
   ],
   "source": [
    "# Set environment variables from the .env in the local environment\n"
   ]
  },
  {
   "cell_type": "code",
   "execution_count": 3,
   "metadata": {},
   "outputs": [
    {
     "data": {
      "text/plain": [
       "str"
      ]
     },
     "execution_count": 3,
     "metadata": {},
     "output_type": "execute_result"
    }
   ],
   "source": [
    "# Retrieve API key and store as Python variable\n",
    "\n",
    "type(api_key)"
   ]
  },
  {
   "cell_type": "code",
   "execution_count": 4,
   "metadata": {},
   "outputs": [],
   "source": [
    "# Test the API key with a request\n",
    "import requests\n",
    "import json"
   ]
  },
  {
   "cell_type": "code",
   "execution_count": 5,
   "metadata": {},
   "outputs": [],
   "source": [
    "# Search The Movie Database for a movie title\n",
    "# Documentation: https://developer.themoviedb.org/docs/search-and-query-for-details\n",
    "query_url = \"https://api.themoviedb.org/3/search/movie?query=\"\n",
    "\n",
    "title = \"Everything Everywhere All at Once\"\n",
    "\n",
    "# Execute \"GET\" request with url\n",
    "response_data = requests.get(query_url + title + \"&api_key=\" + api_key)"
   ]
  },
  {
   "cell_type": "code",
   "execution_count": 6,
   "metadata": {},
   "outputs": [
    {
     "name": "stdout",
     "output_type": "stream",
     "text": [
      "{\n",
      "    \"page\": 1,\n",
      "    \"results\": [\n",
      "        {\n",
      "            \"adult\": false,\n",
      "            \"backdrop_path\": \"/ss0Os3uWJfQAENILHZUdX8Tt1OC.jpg\",\n",
      "            \"genre_ids\": [\n",
      "                28,\n",
      "                12,\n",
      "                878\n",
      "            ],\n",
      "            \"id\": 545611,\n",
      "            \"original_language\": \"en\",\n",
      "            \"original_title\": \"Everything Everywhere All at Once\",\n",
      "            \"overview\": \"An aging Chinese immigrant is swept up in an insane adventure, where she alone can save what's important to her by connecting with the lives she could have led in other universes.\",\n",
      "            \"popularity\": 68.153,\n",
      "            \"poster_path\": \"/rKvCys0fMIIi1X9rmJBxTPLAtoU.jpg\",\n",
      "            \"release_date\": \"2022-03-24\",\n",
      "            \"title\": \"Everything Everywhere All at Once\",\n",
      "            \"video\": false,\n",
      "            \"vote_average\": 7.833,\n",
      "            \"vote_count\": 5003\n",
      "        }\n",
      "    ],\n",
      "    \"total_pages\": 1,\n",
      "    \"total_results\": 1\n",
      "}\n"
     ]
    }
   ],
   "source": [
    "# Format data as JSON\n",
    "data = response_data.json()\n",
    "\n",
    "# Use json.dumps with argument indent=4 to format data\n",
    "print(json.dumps(data, indent=4))"
   ]
  },
  {
   "cell_type": "code",
   "execution_count": 7,
   "metadata": {},
   "outputs": [
    {
     "data": {
      "text/plain": [
       "545611"
      ]
     },
     "execution_count": 7,
     "metadata": {},
     "output_type": "execute_result"
    }
   ],
   "source": [
    "# Collect the first movie id\n"
   ]
  },
  {
   "cell_type": "code",
   "execution_count": 8,
   "metadata": {},
   "outputs": [],
   "source": [
    "# Make a request for a the full movie details\n",
    "query_url = f\"https://api.themoviedb.org/3/movie/{movie_id}?api_key={api_key}\"\n",
    "\n",
    "# Execute \"GET\" request with url\n"
   ]
  },
  {
   "cell_type": "code",
   "execution_count": 9,
   "metadata": {},
   "outputs": [
    {
     "name": "stdout",
     "output_type": "stream",
     "text": [
      "{\n",
      "    \"adult\": false,\n",
      "    \"backdrop_path\": \"/ss0Os3uWJfQAENILHZUdX8Tt1OC.jpg\",\n",
      "    \"belongs_to_collection\": null,\n",
      "    \"budget\": 25000000,\n",
      "    \"genres\": [\n",
      "        {\n",
      "            \"id\": 28,\n",
      "            \"name\": \"Action\"\n",
      "        },\n",
      "        {\n",
      "            \"id\": 12,\n",
      "            \"name\": \"Adventure\"\n",
      "        },\n",
      "        {\n",
      "            \"id\": 878,\n",
      "            \"name\": \"Science Fiction\"\n",
      "        }\n",
      "    ],\n",
      "    \"homepage\": \"https://a24films.com/films/everything-everywhere-all-at-once\",\n",
      "    \"id\": 545611,\n",
      "    \"imdb_id\": \"tt6710474\",\n",
      "    \"original_language\": \"en\",\n",
      "    \"original_title\": \"Everything Everywhere All at Once\",\n",
      "    \"overview\": \"An aging Chinese immigrant is swept up in an insane adventure, where she alone can save what's important to her by connecting with the lives she could have led in other universes.\",\n",
      "    \"popularity\": 68.153,\n",
      "    \"poster_path\": \"/rKvCys0fMIIi1X9rmJBxTPLAtoU.jpg\",\n",
      "    \"production_companies\": [\n",
      "        {\n",
      "            \"id\": 106544,\n",
      "            \"logo_path\": \"/psd84iF7PTGrKf4yFOStKj8JbAh.png\",\n",
      "            \"name\": \"AGBO\",\n",
      "            \"origin_country\": \"US\"\n",
      "        },\n",
      "        {\n",
      "            \"id\": 114130,\n",
      "            \"logo_path\": \"/sutv3efLKuB4pa9xxb27paUUcJg.png\",\n",
      "            \"name\": \"Ley Line Entertainment\",\n",
      "            \"origin_country\": \"US\"\n",
      "        },\n",
      "        {\n",
      "            \"id\": 161506,\n",
      "            \"logo_path\": null,\n",
      "            \"name\": \"Year of the Rat Productions\",\n",
      "            \"origin_country\": \"\"\n",
      "        },\n",
      "        {\n",
      "            \"id\": 41077,\n",
      "            \"logo_path\": \"/1ZXsGaFPgrgS6ZZGS37AqD5uU12.png\",\n",
      "            \"name\": \"A24\",\n",
      "            \"origin_country\": \"US\"\n",
      "        },\n",
      "        {\n",
      "            \"id\": 93105,\n",
      "            \"logo_path\": \"/asuzX794BM1gCettTxUoLxGNovd.png\",\n",
      "            \"name\": \"IAC Films\",\n",
      "            \"origin_country\": \"US\"\n",
      "        }\n",
      "    ],\n",
      "    \"production_countries\": [\n",
      "        {\n",
      "            \"iso_3166_1\": \"US\",\n",
      "            \"name\": \"United States of America\"\n",
      "        }\n",
      "    ],\n",
      "    \"release_date\": \"2022-03-24\",\n",
      "    \"revenue\": 139200000,\n",
      "    \"runtime\": 140,\n",
      "    \"spoken_languages\": [\n",
      "        {\n",
      "            \"english_name\": \"Cantonese\",\n",
      "            \"iso_639_1\": \"cn\",\n",
      "            \"name\": \"\\u5e7f\\u5dde\\u8bdd / \\u5ee3\\u5dde\\u8a71\"\n",
      "        },\n",
      "        {\n",
      "            \"english_name\": \"Mandarin\",\n",
      "            \"iso_639_1\": \"zh\",\n",
      "            \"name\": \"\\u666e\\u901a\\u8bdd\"\n",
      "        },\n",
      "        {\n",
      "            \"english_name\": \"English\",\n",
      "            \"iso_639_1\": \"en\",\n",
      "            \"name\": \"English\"\n",
      "        }\n",
      "    ],\n",
      "    \"status\": \"Released\",\n",
      "    \"tagline\": \"The universe is so much bigger than you realize.\",\n",
      "    \"title\": \"Everything Everywhere All at Once\",\n",
      "    \"video\": false,\n",
      "    \"vote_average\": 7.833,\n",
      "    \"vote_count\": 5003\n",
      "}\n"
     ]
    }
   ],
   "source": [
    "# Format data as JSON\n",
    "\n",
    "\n",
    "# Use json.dumps with argument indent=4 to format data\n"
   ]
  },
  {
   "cell_type": "code",
   "execution_count": null,
   "metadata": {},
   "outputs": [],
   "source": []
  }
 ],
 "metadata": {
  "kernelspec": {
   "display_name": "Python 3 (ipykernel)",
   "language": "python",
   "name": "python3"
  },
  "language_info": {
   "codemirror_mode": {
    "name": "ipython",
    "version": 3
   },
   "file_extension": ".py",
   "mimetype": "text/x-python",
   "name": "python",
   "nbconvert_exporter": "python",
   "pygments_lexer": "ipython3",
   "version": "3.10.11"
  },
  "nteract": {
   "version": "0.28.0"
  }
 },
 "nbformat": 4,
 "nbformat_minor": 4
}
