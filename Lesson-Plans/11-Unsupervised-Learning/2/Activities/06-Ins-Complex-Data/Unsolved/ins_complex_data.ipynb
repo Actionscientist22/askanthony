{
 "cells": [
  {
   "cell_type": "code",
   "execution_count": 1,
   "id": "b6b1a18e",
   "metadata": {},
   "outputs": [],
   "source": [
    "# Import the dependencies\n",
    "import numpy as np\n",
    "np.random.seed(0)\n",
    "import pandas as pd\n",
    "from sklearn import datasets"
   ]
  },
  {
   "cell_type": "markdown",
   "id": "c97fcf6e",
   "metadata": {},
   "source": [
    "### Build the Dataset"
   ]
  },
  {
   "cell_type": "code",
   "execution_count": 2,
   "id": "0e5518ac",
   "metadata": {},
   "outputs": [
    {
     "data": {
      "text/plain": [
       "array([[ 0.26990344, -0.08961617],\n",
       "       [ 0.65960878, -0.44401893],\n",
       "       [ 0.85049952,  0.56270289],\n",
       "       [ 0.60950684,  0.69134729],\n",
       "       [ 2.00353027,  0.19446353],\n",
       "       [ 1.98790193,  0.40053406],\n",
       "       [ 0.24847592, -0.18050231],\n",
       "       [ 0.94871933,  0.37843451],\n",
       "       [-0.96065183, -0.10227327],\n",
       "       [ 0.44418573,  0.90246804]])"
      ]
     },
     "execution_count": 2,
     "metadata": {},
     "output_type": "execute_result"
    }
   ],
   "source": [
    "# Create a simulated dataset for illustration.\n",
    "X, y = datasets.make_moons(n_samples=(500), noise=0.05, random_state=1)\n",
    "X[0:10]"
   ]
  },
  {
   "cell_type": "markdown",
   "id": "033d4605",
   "metadata": {},
   "source": [
    "### Fit and predict a K-Means Model"
   ]
  },
  {
   "cell_type": "code",
   "execution_count": 3,
   "id": "65d9e62e",
   "metadata": {},
   "outputs": [],
   "source": [
    "# Import the alternative algorithms for clustering.\n",
    "from sklearn.cluster import KMeans, AgglomerativeClustering, Birch\n",
    "# Use the Kmeans algorithm.\n"
   ]
  },
  {
   "cell_type": "markdown",
   "id": "57640023",
   "metadata": {},
   "source": [
    "### Fit and Predict Birch and Agglomerative models"
   ]
  },
  {
   "cell_type": "code",
   "execution_count": 4,
   "id": "6bd253c9",
   "metadata": {},
   "outputs": [],
   "source": [
    "# Use the Birch algorithm.\n"
   ]
  },
  {
   "cell_type": "code",
   "execution_count": 5,
   "id": "fbfc9629",
   "metadata": {},
   "outputs": [],
   "source": [
    "# Use the AgglomerativeClustering algorithm.\n"
   ]
  },
  {
   "cell_type": "markdown",
   "id": "8fd7c3d2",
   "metadata": {},
   "source": [
    "### Plot Model Predictions for Birch"
   ]
  },
  {
   "cell_type": "code",
   "execution_count": 6,
   "id": "cb7b3f22",
   "metadata": {},
   "outputs": [
    {
     "data": {
      "text/html": [
       "<div>\n",
       "<style scoped>\n",
       "    .dataframe tbody tr th:only-of-type {\n",
       "        vertical-align: middle;\n",
       "    }\n",
       "\n",
       "    .dataframe tbody tr th {\n",
       "        vertical-align: top;\n",
       "    }\n",
       "\n",
       "    .dataframe thead th {\n",
       "        text-align: right;\n",
       "    }\n",
       "</style>\n",
       "<table border=\"1\" class=\"dataframe\">\n",
       "  <thead>\n",
       "    <tr style=\"text-align: right;\">\n",
       "      <th></th>\n",
       "      <th>0</th>\n",
       "      <th>1</th>\n",
       "      <th>birch-labels</th>\n",
       "    </tr>\n",
       "  </thead>\n",
       "  <tbody>\n",
       "    <tr>\n",
       "      <th>0</th>\n",
       "      <td>0.269903</td>\n",
       "      <td>-0.089616</td>\n",
       "      <td>0</td>\n",
       "    </tr>\n",
       "    <tr>\n",
       "      <th>1</th>\n",
       "      <td>0.659609</td>\n",
       "      <td>-0.444019</td>\n",
       "      <td>0</td>\n",
       "    </tr>\n",
       "    <tr>\n",
       "      <th>2</th>\n",
       "      <td>0.850500</td>\n",
       "      <td>0.562703</td>\n",
       "      <td>0</td>\n",
       "    </tr>\n",
       "    <tr>\n",
       "      <th>3</th>\n",
       "      <td>0.609507</td>\n",
       "      <td>0.691347</td>\n",
       "      <td>0</td>\n",
       "    </tr>\n",
       "    <tr>\n",
       "      <th>4</th>\n",
       "      <td>2.003530</td>\n",
       "      <td>0.194464</td>\n",
       "      <td>0</td>\n",
       "    </tr>\n",
       "    <tr>\n",
       "      <th>...</th>\n",
       "      <td>...</td>\n",
       "      <td>...</td>\n",
       "      <td>...</td>\n",
       "    </tr>\n",
       "    <tr>\n",
       "      <th>495</th>\n",
       "      <td>0.024589</td>\n",
       "      <td>0.392571</td>\n",
       "      <td>1</td>\n",
       "    </tr>\n",
       "    <tr>\n",
       "      <th>496</th>\n",
       "      <td>0.673013</td>\n",
       "      <td>0.715418</td>\n",
       "      <td>0</td>\n",
       "    </tr>\n",
       "    <tr>\n",
       "      <th>497</th>\n",
       "      <td>1.277861</td>\n",
       "      <td>-0.457502</td>\n",
       "      <td>0</td>\n",
       "    </tr>\n",
       "    <tr>\n",
       "      <th>498</th>\n",
       "      <td>-0.980544</td>\n",
       "      <td>0.194562</td>\n",
       "      <td>1</td>\n",
       "    </tr>\n",
       "    <tr>\n",
       "      <th>499</th>\n",
       "      <td>0.930210</td>\n",
       "      <td>0.468958</td>\n",
       "      <td>0</td>\n",
       "    </tr>\n",
       "  </tbody>\n",
       "</table>\n",
       "<p>500 rows × 3 columns</p>\n",
       "</div>"
      ],
      "text/plain": [
       "            0         1  birch-labels\n",
       "0    0.269903 -0.089616             0\n",
       "1    0.659609 -0.444019             0\n",
       "2    0.850500  0.562703             0\n",
       "3    0.609507  0.691347             0\n",
       "4    2.003530  0.194464             0\n",
       "..        ...       ...           ...\n",
       "495  0.024589  0.392571             1\n",
       "496  0.673013  0.715418             0\n",
       "497  1.277861 -0.457502             0\n",
       "498 -0.980544  0.194562             1\n",
       "499  0.930210  0.468958             0\n",
       "\n",
       "[500 rows x 3 columns]"
      ]
     },
     "execution_count": 6,
     "metadata": {},
     "output_type": "execute_result"
    }
   ],
   "source": [
    "# Make predictions for the Birch algorithm. \n"
   ]
  },
  {
   "cell_type": "code",
   "execution_count": 7,
   "id": "7c0ed66c",
   "metadata": {},
   "outputs": [
    {
     "data": {
      "text/html": [
       "<div>\n",
       "<style scoped>\n",
       "    .dataframe tbody tr th:only-of-type {\n",
       "        vertical-align: middle;\n",
       "    }\n",
       "\n",
       "    .dataframe tbody tr th {\n",
       "        vertical-align: top;\n",
       "    }\n",
       "\n",
       "    .dataframe thead th {\n",
       "        text-align: right;\n",
       "    }\n",
       "</style>\n",
       "<table border=\"1\" class=\"dataframe\">\n",
       "  <thead>\n",
       "    <tr style=\"text-align: right;\">\n",
       "      <th></th>\n",
       "      <th>feature_0</th>\n",
       "      <th>feature_1</th>\n",
       "      <th>birch-labels</th>\n",
       "    </tr>\n",
       "  </thead>\n",
       "  <tbody>\n",
       "    <tr>\n",
       "      <th>0</th>\n",
       "      <td>0.269903</td>\n",
       "      <td>-0.089616</td>\n",
       "      <td>0</td>\n",
       "    </tr>\n",
       "    <tr>\n",
       "      <th>1</th>\n",
       "      <td>0.659609</td>\n",
       "      <td>-0.444019</td>\n",
       "      <td>0</td>\n",
       "    </tr>\n",
       "    <tr>\n",
       "      <th>2</th>\n",
       "      <td>0.850500</td>\n",
       "      <td>0.562703</td>\n",
       "      <td>0</td>\n",
       "    </tr>\n",
       "    <tr>\n",
       "      <th>3</th>\n",
       "      <td>0.609507</td>\n",
       "      <td>0.691347</td>\n",
       "      <td>0</td>\n",
       "    </tr>\n",
       "    <tr>\n",
       "      <th>4</th>\n",
       "      <td>2.003530</td>\n",
       "      <td>0.194464</td>\n",
       "      <td>0</td>\n",
       "    </tr>\n",
       "    <tr>\n",
       "      <th>...</th>\n",
       "      <td>...</td>\n",
       "      <td>...</td>\n",
       "      <td>...</td>\n",
       "    </tr>\n",
       "    <tr>\n",
       "      <th>495</th>\n",
       "      <td>0.024589</td>\n",
       "      <td>0.392571</td>\n",
       "      <td>1</td>\n",
       "    </tr>\n",
       "    <tr>\n",
       "      <th>496</th>\n",
       "      <td>0.673013</td>\n",
       "      <td>0.715418</td>\n",
       "      <td>0</td>\n",
       "    </tr>\n",
       "    <tr>\n",
       "      <th>497</th>\n",
       "      <td>1.277861</td>\n",
       "      <td>-0.457502</td>\n",
       "      <td>0</td>\n",
       "    </tr>\n",
       "    <tr>\n",
       "      <th>498</th>\n",
       "      <td>-0.980544</td>\n",
       "      <td>0.194562</td>\n",
       "      <td>1</td>\n",
       "    </tr>\n",
       "    <tr>\n",
       "      <th>499</th>\n",
       "      <td>0.930210</td>\n",
       "      <td>0.468958</td>\n",
       "      <td>0</td>\n",
       "    </tr>\n",
       "  </tbody>\n",
       "</table>\n",
       "<p>500 rows × 3 columns</p>\n",
       "</div>"
      ],
      "text/plain": [
       "     feature_0  feature_1  birch-labels\n",
       "0     0.269903  -0.089616             0\n",
       "1     0.659609  -0.444019             0\n",
       "2     0.850500   0.562703             0\n",
       "3     0.609507   0.691347             0\n",
       "4     2.003530   0.194464             0\n",
       "..         ...        ...           ...\n",
       "495   0.024589   0.392571             1\n",
       "496   0.673013   0.715418             0\n",
       "497   1.277861  -0.457502             0\n",
       "498  -0.980544   0.194562             1\n",
       "499   0.930210   0.468958             0\n",
       "\n",
       "[500 rows x 3 columns]"
      ]
     },
     "execution_count": 7,
     "metadata": {},
     "output_type": "execute_result"
    }
   ],
   "source": [
    "#  Rename the non-string columns 0 and 1, \"No\" and \"Yes\" to avoid the Holoviews warning for future versions. \n"
   ]
  },
  {
   "cell_type": "code",
   "execution_count": 8,
   "id": "6d53ec6a",
   "metadata": {},
   "outputs": [
    {
     "data": {
      "text/plain": [
       "<Axes: xlabel='feature_0', ylabel='feature_1'>"
      ]
     },
     "execution_count": 8,
     "metadata": {},
     "output_type": "execute_result"
    },
    {
     "data": {
      "image/png": "[encoded data removed]",
      "text/plain": [
       "<Figure size 640x480 with 2 Axes>"
      ]
     },
     "metadata": {},
     "output_type": "display_data"
    }
   ],
   "source": [
    "# Plot the clusters\n"
   ]
  },
  {
   "cell_type": "markdown",
   "id": "ad321266",
   "metadata": {},
   "source": [
    "### Estimate Scores for two Versions of the Birch Model"
   ]
  },
  {
   "cell_type": "code",
   "execution_count": 9,
   "id": "989377c8",
   "metadata": {},
   "outputs": [],
   "source": [
    "# Estimate scores for two clusters for the Birch model. \n"
   ]
  },
  {
   "cell_type": "code",
   "execution_count": 10,
   "id": "e94d3e48",
   "metadata": {},
   "outputs": [],
   "source": [
    "# Estimate scores for 3 clusters for the Birch model. \n"
   ]
  },
  {
   "cell_type": "code",
   "execution_count": 11,
   "id": "470af8cb",
   "metadata": {},
   "outputs": [
    {
     "data": {
      "text/plain": [
       "588.1123857523019"
      ]
     },
     "execution_count": 11,
     "metadata": {},
     "output_type": "execute_result"
    }
   ],
   "source": [
    "# Use the Calinski-Harabasz index or variance ratio criterion to define two clusters. \n",
    "from sklearn import metrics\n"
   ]
  },
  {
   "cell_type": "code",
   "execution_count": 12,
   "id": "62cc08d2",
   "metadata": {},
   "outputs": [
    {
     "data": {
      "text/plain": [
       "654.2904571777168"
      ]
     },
     "execution_count": 12,
     "metadata": {},
     "output_type": "execute_result"
    }
   ],
   "source": [
    "# Use the Calinski-Harabasz index or variance ratio criterion to define three clusters. \n"
   ]
  },
  {
   "cell_type": "code",
   "execution_count": null,
   "id": "2800dd7a",
   "metadata": {},
   "outputs": [],
   "source": []
  }
 ],
 "metadata": {
  "kernelspec": {
   "display_name": "Python 3 (ipykernel)",
   "language": "python",
   "name": "python3"
  },
  "language_info": {
   "codemirror_mode": {
    "name": "ipython",
    "version": 3
   },
   "file_extension": ".py",
   "mimetype": "text/x-python",
   "name": "python",
   "nbconvert_exporter": "python",
   "pygments_lexer": "ipython3",
   "version": "3.10.12"
  }
 },
 "nbformat": 4,
 "nbformat_minor": 5
}
