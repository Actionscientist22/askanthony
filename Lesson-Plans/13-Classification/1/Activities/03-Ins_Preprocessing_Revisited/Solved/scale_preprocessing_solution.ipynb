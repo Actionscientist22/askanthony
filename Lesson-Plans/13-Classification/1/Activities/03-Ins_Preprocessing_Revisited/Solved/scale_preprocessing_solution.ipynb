{
 "cells": [
  {
   "cell_type": "code",
   "execution_count": 1,
   "metadata": {},
   "outputs": [],
   "source": [
    "import pandas as pd\n",
    "from sklearn.model_selection import train_test_split\n",
    "from sklearn.preprocessing import StandardScaler, MinMaxScaler"
   ]
  },
  {
   "cell_type": "code",
   "execution_count": 2,
   "metadata": {},
   "outputs": [
    {
     "data": {
      "text/html": [
       "<div>\n",
       "<style scoped>\n",
       "    .dataframe tbody tr th:only-of-type {\n",
       "        vertical-align: middle;\n",
       "    }\n",
       "\n",
       "    .dataframe tbody tr th {\n",
       "        vertical-align: top;\n",
       "    }\n",
       "\n",
       "    .dataframe thead th {\n",
       "        text-align: right;\n",
       "    }\n",
       "</style>\n",
       "<table border=\"1\" class=\"dataframe\">\n",
       "  <thead>\n",
       "    <tr style=\"text-align: right;\">\n",
       "      <th></th>\n",
       "      <th>goal</th>\n",
       "      <th>pledged</th>\n",
       "      <th>backers_count</th>\n",
       "      <th>country</th>\n",
       "      <th>staff_pick</th>\n",
       "      <th>spotlight</th>\n",
       "      <th>category</th>\n",
       "      <th>days_active</th>\n",
       "      <th>outcome</th>\n",
       "    </tr>\n",
       "  </thead>\n",
       "  <tbody>\n",
       "    <tr>\n",
       "      <th>0</th>\n",
       "      <td>100</td>\n",
       "      <td>0</td>\n",
       "      <td>0</td>\n",
       "      <td>3</td>\n",
       "      <td>0</td>\n",
       "      <td>0</td>\n",
       "      <td>0</td>\n",
       "      <td>17</td>\n",
       "      <td>0</td>\n",
       "    </tr>\n",
       "    <tr>\n",
       "      <th>1</th>\n",
       "      <td>1400</td>\n",
       "      <td>14560</td>\n",
       "      <td>158</td>\n",
       "      <td>0</td>\n",
       "      <td>0</td>\n",
       "      <td>1</td>\n",
       "      <td>1</td>\n",
       "      <td>27</td>\n",
       "      <td>1</td>\n",
       "    </tr>\n",
       "    <tr>\n",
       "      <th>2</th>\n",
       "      <td>108400</td>\n",
       "      <td>142523</td>\n",
       "      <td>1425</td>\n",
       "      <td>4</td>\n",
       "      <td>0</td>\n",
       "      <td>0</td>\n",
       "      <td>2</td>\n",
       "      <td>20</td>\n",
       "      <td>1</td>\n",
       "    </tr>\n",
       "    <tr>\n",
       "      <th>3</th>\n",
       "      <td>4200</td>\n",
       "      <td>2477</td>\n",
       "      <td>24</td>\n",
       "      <td>0</td>\n",
       "      <td>0</td>\n",
       "      <td>0</td>\n",
       "      <td>1</td>\n",
       "      <td>40</td>\n",
       "      <td>0</td>\n",
       "    </tr>\n",
       "    <tr>\n",
       "      <th>4</th>\n",
       "      <td>7600</td>\n",
       "      <td>5265</td>\n",
       "      <td>53</td>\n",
       "      <td>0</td>\n",
       "      <td>0</td>\n",
       "      <td>0</td>\n",
       "      <td>3</td>\n",
       "      <td>4</td>\n",
       "      <td>0</td>\n",
       "    </tr>\n",
       "    <tr>\n",
       "      <th>...</th>\n",
       "      <td>...</td>\n",
       "      <td>...</td>\n",
       "      <td>...</td>\n",
       "      <td>...</td>\n",
       "      <td>...</td>\n",
       "      <td>...</td>\n",
       "      <td>...</td>\n",
       "      <td>...</td>\n",
       "      <td>...</td>\n",
       "    </tr>\n",
       "    <tr>\n",
       "      <th>1124</th>\n",
       "      <td>17130</td>\n",
       "      <td>15894</td>\n",
       "      <td>847</td>\n",
       "      <td>2</td>\n",
       "      <td>0</td>\n",
       "      <td>0</td>\n",
       "      <td>5</td>\n",
       "      <td>6</td>\n",
       "      <td>0</td>\n",
       "    </tr>\n",
       "    <tr>\n",
       "      <th>1125</th>\n",
       "      <td>97329</td>\n",
       "      <td>80937</td>\n",
       "      <td>862</td>\n",
       "      <td>6</td>\n",
       "      <td>0</td>\n",
       "      <td>0</td>\n",
       "      <td>3</td>\n",
       "      <td>29</td>\n",
       "      <td>0</td>\n",
       "    </tr>\n",
       "    <tr>\n",
       "      <th>1126</th>\n",
       "      <td>53597</td>\n",
       "      <td>40388</td>\n",
       "      <td>58</td>\n",
       "      <td>0</td>\n",
       "      <td>0</td>\n",
       "      <td>0</td>\n",
       "      <td>9</td>\n",
       "      <td>46</td>\n",
       "      <td>0</td>\n",
       "    </tr>\n",
       "    <tr>\n",
       "      <th>1127</th>\n",
       "      <td>71588</td>\n",
       "      <td>18102</td>\n",
       "      <td>274</td>\n",
       "      <td>0</td>\n",
       "      <td>0</td>\n",
       "      <td>0</td>\n",
       "      <td>2</td>\n",
       "      <td>43</td>\n",
       "      <td>0</td>\n",
       "    </tr>\n",
       "    <tr>\n",
       "      <th>1128</th>\n",
       "      <td>88382</td>\n",
       "      <td>28181</td>\n",
       "      <td>113</td>\n",
       "      <td>2</td>\n",
       "      <td>0</td>\n",
       "      <td>0</td>\n",
       "      <td>2</td>\n",
       "      <td>41</td>\n",
       "      <td>0</td>\n",
       "    </tr>\n",
       "  </tbody>\n",
       "</table>\n",
       "<p>1129 rows × 9 columns</p>\n",
       "</div>"
      ],
      "text/plain": [
       "        goal  pledged  backers_count  country  staff_pick  spotlight  \\\n",
       "0        100        0              0        3           0          0   \n",
       "1       1400    14560            158        0           0          1   \n",
       "2     108400   142523           1425        4           0          0   \n",
       "3       4200     2477             24        0           0          0   \n",
       "4       7600     5265             53        0           0          0   \n",
       "...      ...      ...            ...      ...         ...        ...   \n",
       "1124   17130    15894            847        2           0          0   \n",
       "1125   97329    80937            862        6           0          0   \n",
       "1126   53597    40388             58        0           0          0   \n",
       "1127   71588    18102            274        0           0          0   \n",
       "1128   88382    28181            113        2           0          0   \n",
       "\n",
       "      category  days_active  outcome  \n",
       "0            0           17        0  \n",
       "1            1           27        1  \n",
       "2            2           20        1  \n",
       "3            1           40        0  \n",
       "4            3            4        0  \n",
       "...        ...          ...      ...  \n",
       "1124         5            6        0  \n",
       "1125         3           29        0  \n",
       "1126         9           46        0  \n",
       "1127         2           43        0  \n",
       "1128         2           41        0  \n",
       "\n",
       "[1129 rows x 9 columns]"
      ]
     },
     "execution_count": 2,
     "metadata": {},
     "output_type": "execute_result"
    }
   ],
   "source": [
    "# Load in data\n",
    "df_crowdfunding = pd.read_csv('https://static.bc-edx.com/ai/ail-v-1-0/m13/lesson_1/datasets/crowdfunding-data.csv')\n",
    "df_crowdfunding"
   ]
  },
  {
   "cell_type": "code",
   "execution_count": 3,
   "metadata": {},
   "outputs": [
    {
     "data": {
      "text/html": [
       "<div>\n",
       "<style scoped>\n",
       "    .dataframe tbody tr th:only-of-type {\n",
       "        vertical-align: middle;\n",
       "    }\n",
       "\n",
       "    .dataframe tbody tr th {\n",
       "        vertical-align: top;\n",
       "    }\n",
       "\n",
       "    .dataframe thead th {\n",
       "        text-align: right;\n",
       "    }\n",
       "</style>\n",
       "<table border=\"1\" class=\"dataframe\">\n",
       "  <thead>\n",
       "    <tr style=\"text-align: right;\">\n",
       "      <th></th>\n",
       "      <th>goal</th>\n",
       "      <th>pledged</th>\n",
       "      <th>backers_count</th>\n",
       "      <th>country</th>\n",
       "      <th>staff_pick</th>\n",
       "      <th>spotlight</th>\n",
       "      <th>category</th>\n",
       "      <th>days_active</th>\n",
       "    </tr>\n",
       "  </thead>\n",
       "  <tbody>\n",
       "    <tr>\n",
       "      <th>0</th>\n",
       "      <td>100</td>\n",
       "      <td>0</td>\n",
       "      <td>0</td>\n",
       "      <td>3</td>\n",
       "      <td>0</td>\n",
       "      <td>0</td>\n",
       "      <td>0</td>\n",
       "      <td>17</td>\n",
       "    </tr>\n",
       "    <tr>\n",
       "      <th>1</th>\n",
       "      <td>1400</td>\n",
       "      <td>14560</td>\n",
       "      <td>158</td>\n",
       "      <td>0</td>\n",
       "      <td>0</td>\n",
       "      <td>1</td>\n",
       "      <td>1</td>\n",
       "      <td>27</td>\n",
       "    </tr>\n",
       "    <tr>\n",
       "      <th>2</th>\n",
       "      <td>108400</td>\n",
       "      <td>142523</td>\n",
       "      <td>1425</td>\n",
       "      <td>4</td>\n",
       "      <td>0</td>\n",
       "      <td>0</td>\n",
       "      <td>2</td>\n",
       "      <td>20</td>\n",
       "    </tr>\n",
       "    <tr>\n",
       "      <th>3</th>\n",
       "      <td>4200</td>\n",
       "      <td>2477</td>\n",
       "      <td>24</td>\n",
       "      <td>0</td>\n",
       "      <td>0</td>\n",
       "      <td>0</td>\n",
       "      <td>1</td>\n",
       "      <td>40</td>\n",
       "    </tr>\n",
       "    <tr>\n",
       "      <th>4</th>\n",
       "      <td>7600</td>\n",
       "      <td>5265</td>\n",
       "      <td>53</td>\n",
       "      <td>0</td>\n",
       "      <td>0</td>\n",
       "      <td>0</td>\n",
       "      <td>3</td>\n",
       "      <td>4</td>\n",
       "    </tr>\n",
       "  </tbody>\n",
       "</table>\n",
       "</div>"
      ],
      "text/plain": [
       "     goal  pledged  backers_count  country  staff_pick  spotlight  category  \\\n",
       "0     100        0              0        3           0          0         0   \n",
       "1    1400    14560            158        0           0          1         1   \n",
       "2  108400   142523           1425        4           0          0         2   \n",
       "3    4200     2477             24        0           0          0         1   \n",
       "4    7600     5265             53        0           0          0         3   \n",
       "\n",
       "   days_active  \n",
       "0           17  \n",
       "1           27  \n",
       "2           20  \n",
       "3           40  \n",
       "4            4  "
      ]
     },
     "execution_count": 3,
     "metadata": {},
     "output_type": "execute_result"
    }
   ],
   "source": [
    "# Define features set\n",
    "# Drop the target to create the X data\n",
    "X = df_crowdfunding.copy()\n",
    "X.drop(\"outcome\", axis=1, inplace=True)\n",
    "X.head()"
   ]
  },
  {
   "cell_type": "code",
   "execution_count": 4,
   "metadata": {},
   "outputs": [
    {
     "data": {
      "text/plain": [
       "array([[0],\n",
       "       [1],\n",
       "       [1],\n",
       "       [0],\n",
       "       [0]])"
      ]
     },
     "execution_count": 4,
     "metadata": {},
     "output_type": "execute_result"
    }
   ],
   "source": [
    "# Define target vector\n",
    "y = df_crowdfunding[\"outcome\"].values.reshape(-1, 1)\n",
    "y[:5]"
   ]
  },
  {
   "cell_type": "code",
   "execution_count": 5,
   "metadata": {},
   "outputs": [],
   "source": [
    "# Split the data into training and testing sets\n",
    "X_train, X_test, y_train, y_test = train_test_split(X, y, random_state=78)"
   ]
  },
  {
   "cell_type": "code",
   "execution_count": 6,
   "metadata": {},
   "outputs": [
    {
     "data": {
      "text/plain": [
       "array([[-0.84657927, -0.67072939, -0.65649726, ...,  1.81505268,\n",
       "         0.25646397, -0.46832735],\n",
       "       [ 1.00836593,  0.93549949,  0.15641618, ...,  1.81505268,\n",
       "        -0.44343448,  1.30235274],\n",
       "       [-0.07571731,  1.8773598 ,  0.70230761, ..., -0.5509482 ,\n",
       "         0.6064132 ,  0.26436786],\n",
       "       ...,\n",
       "       [ 0.83393731,  2.43663063,  4.96098984, ..., -0.5509482 ,\n",
       "         1.48128628, -0.71255908],\n",
       "       [-0.83345023, -0.64161745, -0.53073263, ...,  1.81505268,\n",
       "         0.78138782,  0.08119406],\n",
       "       [-0.83720139, -0.62016151, -0.56536347, ..., -0.5509482 ,\n",
       "        -0.96835833,  1.36341068]])"
      ]
     },
     "execution_count": 6,
     "metadata": {},
     "output_type": "execute_result"
    }
   ],
   "source": [
    "# Scaling the X data by using StandardScaler()\n",
    "scaler = StandardScaler().fit(X_train)\n",
    "X_train_scaled = scaler.transform(X_train)\n",
    "X_train_scaled"
   ]
  },
  {
   "cell_type": "code",
   "execution_count": 7,
   "metadata": {},
   "outputs": [
    {
     "data": {
      "text/plain": [
       "array([[-0.68152853, -0.55763112, -0.52344192, ..., -0.5509482 ,\n",
       "        -0.6184091 ,  0.02013613],\n",
       "       [-0.7959387 , -0.49320588, -0.52708727, ..., -0.5509482 ,\n",
       "        -1.14333294,  0.93600514],\n",
       "       [-0.7640539 , -0.60299292, -0.60363966, ..., -0.5509482 ,\n",
       "        -0.26845987,  0.26436786],\n",
       "       ...,\n",
       "       [ 2.82955074,  2.28760658,  0.70139628, ...,  1.81505268,\n",
       "        -0.6184091 ,  0.8749472 ],\n",
       "       [ 2.76953229,  0.11303451, -0.17257681, ..., -0.5509482 ,\n",
       "        -0.79338371, -1.56737016],\n",
       "       [-0.7884364 , -0.52151394, -0.5589841 , ..., -0.5509482 ,\n",
       "        -0.6184091 ,  1.36341068]])"
      ]
     },
     "execution_count": 7,
     "metadata": {},
     "output_type": "execute_result"
    }
   ],
   "source": [
    "# Transforming the test dataset based on the fit from the training dataset\n",
    "X_test_scaled = scaler.transform(X_test)\n",
    "X_test_scaled"
   ]
  },
  {
   "cell_type": "code",
   "execution_count": 8,
   "metadata": {},
   "outputs": [
    {
     "name": "stdout",
     "output_type": "stream",
     "text": [
      "Scaled data min/max (StandardScaler):\n",
      "Training data min: -1.6894860276041326\n",
      "Training data max: 5.191558336924065\n",
      "Testing data min: -1.6284280935038677\n",
      "Testing data max: 5.9479688321568975\n"
     ]
    }
   ],
   "source": [
    "# Check the max and min of the scaled training and testing sets\n",
    "print(\"Scaled data min/max (StandardScaler):\")\n",
    "print(\"Training data min:\",X_train_scaled.min())\n",
    "print(\"Training data max:\",X_train_scaled.max())\n",
    "print(\"Testing data min:\",X_test_scaled.min())\n",
    "print(\"Testing data max:\",X_test_scaled.max())"
   ]
  },
  {
   "cell_type": "code",
   "execution_count": 9,
   "metadata": {},
   "outputs": [
    {
     "data": {
      "text/plain": [
       "array([[0.00252016, 0.02695997, 0.00742459, ..., 1.        , 0.34782609,\n",
       "        0.33333333],\n",
       "       [0.50100806, 0.44843554, 0.1453983 , ..., 1.        , 0.17391304,\n",
       "        0.81666667],\n",
       "       [0.20967742, 0.69558033, 0.23805104, ..., 0.        , 0.43478261,\n",
       "        0.53333333],\n",
       "       ...,\n",
       "       [0.45413306, 0.84233338, 0.9608662 , ..., 0.        , 0.65217391,\n",
       "        0.26666667],\n",
       "       [0.00604839, 0.03459897, 0.0287703 , ..., 1.        , 0.47826087,\n",
       "        0.48333333],\n",
       "       [0.00504032, 0.04022902, 0.0228925 , ..., 0.        , 0.04347826,\n",
       "        0.83333333]])"
      ]
     },
     "execution_count": 9,
     "metadata": {},
     "output_type": "execute_result"
    }
   ],
   "source": [
    "# Alternatively, scaling the data by using MinMaxScaler()\n",
    "scaler = MinMaxScaler().fit(X_train)\n",
    "X_train_scaled = scaler.transform(X_train)\n",
    "X_train_scaled"
   ]
  },
  {
   "cell_type": "code",
   "execution_count": 10,
   "metadata": {},
   "outputs": [
    {
     "data": {
      "text/plain": [
       "array([[0.046875  , 0.05663703, 0.03000773, ..., 0.        , 0.13043478,\n",
       "        0.46666667],\n",
       "       [0.01612903, 0.07354226, 0.02938902, ..., 0.        , 0.        ,\n",
       "        0.71666667],\n",
       "       [0.02469758, 0.04473407, 0.01639598, ..., 0.        , 0.2173913 ,\n",
       "        0.53333333],\n",
       "       ...,\n",
       "       [0.99042339, 0.80322937, 0.23789637, ..., 1.        , 0.13043478,\n",
       "        0.7       ],\n",
       "       [0.97429435, 0.23262016, 0.08955916, ..., 0.        , 0.08695652,\n",
       "        0.03333333],\n",
       "       [0.01814516, 0.06611421, 0.02397525, ..., 0.        , 0.13043478,\n",
       "        0.83333333]])"
      ]
     },
     "execution_count": 10,
     "metadata": {},
     "output_type": "execute_result"
    }
   ],
   "source": [
    "# Transforming the test dataset based on the fit from the training dataset\n",
    "X_test_scaled = scaler.transform(X_test)\n",
    "X_test_scaled"
   ]
  },
  {
   "cell_type": "code",
   "execution_count": 11,
   "metadata": {},
   "outputs": [
    {
     "name": "stdout",
     "output_type": "stream",
     "text": [
      "Scaled data min/max (MinMaxScaler):\n",
      "Training data min: 0.0\n",
      "Training data max: 1.0\n",
      "Testing data min: 0.0\n",
      "Testing data max: 1.128383604021655\n"
     ]
    }
   ],
   "source": [
    "# Check the max and min of the scaled training and testing sets\n",
    "print(\"Scaled data min/max (MinMaxScaler):\")\n",
    "print(\"Training data min:\",X_train_scaled.min())\n",
    "print(\"Training data max:\",X_train_scaled.max())\n",
    "print(\"Testing data min:\",X_test_scaled.min())\n",
    "print(\"Testing data max:\",X_test_scaled.max())"
   ]
  },
  {
   "cell_type": "code",
   "execution_count": null,
   "metadata": {},
   "outputs": [],
   "source": []
  }
 ],
 "metadata": {
  "kernelspec": {
   "display_name": "Python 3 (ipykernel)",
   "language": "python",
   "name": "python3"
  },
  "language_info": {
   "codemirror_mode": {
    "name": "ipython",
    "version": 3
   },
   "file_extension": ".py",
   "mimetype": "text/x-python",
   "name": "python",
   "nbconvert_exporter": "python",
   "pygments_lexer": "ipython3",
   "version": "3.10.11"
  }
 },
 "nbformat": 4,
 "nbformat_minor": 4
}
