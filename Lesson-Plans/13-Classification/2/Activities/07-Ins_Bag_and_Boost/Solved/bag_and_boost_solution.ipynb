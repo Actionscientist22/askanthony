{
 "cells": [
  {
   "cell_type": "code",
   "execution_count": 1,
   "metadata": {},
   "outputs": [],
   "source": [
    "import pandas as pd\n",
    "from sklearn.model_selection import train_test_split\n",
    "from sklearn.preprocessing import StandardScaler"
   ]
  },
  {
   "cell_type": "markdown",
   "metadata": {},
   "source": [
    "# Dataset:  covtype.csv\n",
    "\n",
    "Source: Remote Sensing and GIS Program, Department of Forest Sciences, College of Natural Resources, Colorado State University\n",
    "\n",
    "Description: Predicting forest cover type from cartographic variables only (no remotely sensed data). The actual forest cover type for a given observation (30 x 30 meter cell) was determined from US Forest Service (USFS) Region 2 Resource Information System (RIS) data. Independent variables were derived from data originally obtained from US Geological Survey (USGS) and USFS data. Data is in raw form (not scaled) and contains binary (0 or 1) columns of data for qualitative independent variables (wilderness areas and soil types).\n",
    "\n",
    "This study area includes four wilderness areas located in the Roosevelt National Forest of northern Colorado. These areas represent forests with minimal human-caused disturbances, so that existing forest cover types are more a result of ecological processes rather than forest management practices.\n",
    "\n",
    "Variables/Columns\n",
    "\n",
    "- Elevation: Elevation in meters\n",
    "- Aspect: Aspect in degrees azimuth\n",
    "- Slope: Slope in degrees\n",
    "- Horizontal_Distance_To_Hydrology: Horz Dist to nearest surface water features\n",
    "- Vertical_Distance_To_Hydrology: Vert Dist to nearest surface water features\n",
    "- Horizontal_Distance_To_Roadways: Horz Dist to nearest roadway\n",
    "- Hillshade_9am: Hillshade index at 9am, summer solstice\n",
    "- Hillshade_Noon: Hillshade index at noon, summer soltice\n",
    "- Hillshade_3pm: Hillshade index at 3pm, summer solstice\n",
    "- Horizontal_Distance_To_Fire_Points: Horz Dist to nearest wildfire ignition points\n",
    "- Wilderness_Area: 0 (absence) or 1 (presence)\n",
    "- Cover_Type: (2 types) Forest Cover Type designation\n",
    "    - 1: Spruce/Fir\n",
    "    - 2: Lodgepole Pine"
   ]
  },
  {
   "cell_type": "code",
   "execution_count": 2,
   "metadata": {},
   "outputs": [],
   "source": [
    "# Read the forest cover dataset\n",
    "df = pd.read_csv('https://static.bc-edx.com/ai/ail-v-1-0/m13/lesson_2/datasets/covtype.csv')\n",
    "\n",
    "# Split the features and target\n",
    "X = df.drop('cover', axis=1)\n",
    "y = df['cover']\n",
    "target_names = [\"Spruce/Fir\", \"Lodgepole Pine\"]"
   ]
  },
  {
   "cell_type": "code",
   "execution_count": 3,
   "metadata": {},
   "outputs": [],
   "source": [
    "# Prepare the data\n",
    "X_train, X_test, y_train, y_test = train_test_split(X, y, random_state=1)\n",
    "scaler = StandardScaler().fit(X_train)\n",
    "X_train_scaled = scaler.transform(X_train)\n",
    "X_test_scaled = scaler.transform(X_test)"
   ]
  },
  {
   "cell_type": "code",
   "execution_count": 4,
   "metadata": {},
   "outputs": [],
   "source": [
    "# Import an Extremely Random Trees classifier\n",
    "from sklearn.ensemble import ExtraTreesClassifier"
   ]
  },
  {
   "cell_type": "code",
   "execution_count": 5,
   "metadata": {},
   "outputs": [
    {
     "name": "stdout",
     "output_type": "stream",
     "text": [
      "Training Score: 1.0\n",
      "Testing Score: 0.9012036513450198\n"
     ]
    }
   ],
   "source": [
    "# Train the ExtraTreesClassifier model\n",
    "clf = ExtraTreesClassifier(random_state=1).fit(X_train_scaled, y_train)\n",
    "\n",
    "# Evaluate the model\n",
    "print(f'Training Score: {clf.score(X_train_scaled, y_train)}')\n",
    "print(f'Testing Score: {clf.score(X_test_scaled, y_test)}')"
   ]
  },
  {
   "cell_type": "code",
   "execution_count": 6,
   "metadata": {},
   "outputs": [],
   "source": [
    "# Import Gradient Boosting classifier\n",
    "from sklearn.ensemble import GradientBoostingClassifier"
   ]
  },
  {
   "cell_type": "code",
   "execution_count": 7,
   "metadata": {},
   "outputs": [
    {
     "name": "stdout",
     "output_type": "stream",
     "text": [
      "Training Score: 0.7929771650150798\n",
      "Testing Score: 0.7919056466596656\n"
     ]
    }
   ],
   "source": [
    "# Train the Gradient Boosting classifier\n",
    "clf = GradientBoostingClassifier(random_state=1).fit(X_train_scaled, y_train)\n",
    "\n",
    "# Evaluate the model\n",
    "print(f'Training Score: {clf.score(X_train_scaled, y_train)}')\n",
    "print(f'Testing Score: {clf.score(X_test_scaled, y_test)}')"
   ]
  },
  {
   "cell_type": "code",
   "execution_count": 8,
   "metadata": {},
   "outputs": [],
   "source": [
    "# Import an Adaptive Boosting classifier\n",
    "from sklearn.ensemble import AdaBoostClassifier"
   ]
  },
  {
   "cell_type": "code",
   "execution_count": 9,
   "metadata": {},
   "outputs": [
    {
     "name": "stdout",
     "output_type": "stream",
     "text": [
      "Training Score: 0.7708423093494183\n",
      "Testing Score: 0.7711446805073108\n"
     ]
    }
   ],
   "source": [
    "# Train the AdaBoostClassifier\n",
    "clf = AdaBoostClassifier(random_state=1).fit(X_train_scaled, y_train)\n",
    "\n",
    "# Evaluate the model\n",
    "print(f'Training Score: {clf.score(X_train_scaled, y_train)}')\n",
    "print(f'Testing Score: {clf.score(X_test_scaled, y_test)}')"
   ]
  }
 ],
 "metadata": {
  "kernelspec": {
   "display_name": "Python 3 (ipykernel)",
   "language": "python",
   "name": "python3"
  },
  "language_info": {
   "codemirror_mode": {
    "name": "ipython",
    "version": 3
   },
   "file_extension": ".py",
   "mimetype": "text/x-python",
   "name": "python",
   "nbconvert_exporter": "python",
   "pygments_lexer": "ipython3",
   "version": "3.10.11"
  }
 },
 "nbformat": 4,
 "nbformat_minor": 4
}
