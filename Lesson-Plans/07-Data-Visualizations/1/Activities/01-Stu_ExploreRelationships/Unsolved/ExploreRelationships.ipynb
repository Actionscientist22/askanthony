{
 "cells": [
  {
   "cell_type": "markdown",
   "metadata": {},
   "source": [
    "# Explore Relationships in Data"
   ]
  },
  {
   "cell_type": "code",
   "execution_count": null,
   "metadata": {
    "tags": []
   },
   "outputs": [],
   "source": [
    "import matplotlib.pyplot as plt\n",
    "import pandas as pd\n",
    "import numpy as np"
   ]
  },
  {
   "cell_type": "markdown",
   "metadata": {},
   "source": [
    "## Load and Review Data"
   ]
  },
  {
   "cell_type": "code",
   "execution_count": null,
   "metadata": {
    "tags": []
   },
   "outputs": [],
   "source": [
    "# Load the dataset into Pandas dataframe\n",
    "happiness = pd.read_csv(\"../Resources/2019_global_happiness.csv\")\n",
    "\n",
    "# Load the dataset reference into a Pandas dataframe\n",
    "happiness_ref = pd.read_csv(\"../Resources/2019_global_happiness_reference.csv\")\n",
    "\n",
    "# Review the first 5 rows\n",
    "happiness.head(5)"
   ]
  },
  {
   "cell_type": "code",
   "execution_count": null,
   "metadata": {
    "tags": []
   },
   "outputs": [],
   "source": [
    "# Review the dataset reference\n",
    "happiness_ref.style.set_properties(subset=['Description'], **{'width': '350px'}, **{'text-align': 'left'})"
   ]
  },
  {
   "cell_type": "markdown",
   "metadata": {},
   "source": [
    "**After reviewing the dataset, what patterns and relationships are you interested in exploring? How might you use visualizations to gain insights on global happiness?**\n",
    "\n",
    "YOUR ANSWER HERE\n",
    "\n",
    "Answers will vary, but could include the following:\n",
    "\n",
    "* How happiness varies by country\n",
    "* How happiness varies by time\n",
    "* If happiness tends to be higher in wealthier countries\n",
    "* If countries with higher happiness levels are more likely to be generous"
   ]
  },
  {
   "cell_type": "markdown",
   "metadata": {},
   "source": [
    "## Explore Happiness by Country with Bar Charts"
   ]
  },
  {
   "cell_type": "code",
   "execution_count": null,
   "metadata": {
    "tags": []
   },
   "outputs": [],
   "source": [
    "# Group dataset by country, drop year column, and calculate average values\n",
    "by_country = happiness.drop(columns=['year']).groupby('country').mean()"
   ]
  },
  {
   "cell_type": "code",
   "execution_count": null,
   "metadata": {
    "tags": []
   },
   "outputs": [],
   "source": [
    "# Plot the distribution of happiness in the dataset\n",
    "happiness_dist = by_country.plot.hist(column=['happiness'],bins=200,xlim=(0,10), width=0.35, figsize=(6,4),\n",
    "                                         title='Global Happiness Distribution', xticks=range(0,11), \n",
    "                                         yticks=[0,10,20], color='cadetblue')"
   ]
  },
  {
   "cell_type": "code",
   "execution_count": null,
   "metadata": {},
   "outputs": [],
   "source": [
    "# Bar chart that shows happiness for the 10 happiest countries\n",
    "top = by_country.sort_values(by=['happiness'], ascending=False).head(15)\n",
    "top_chart = top.plot.bar(y='happiness', rot=40, width=0.8, figsize=(10,3.5),ylim=(0,10),\n",
    "                         title='Countries with Highest Average Happiness, 2005-2018',\n",
    "                         yticks=[0,5,10], xlabel='',color='sandybrown')"
   ]
  },
  {
   "cell_type": "code",
   "execution_count": null,
   "metadata": {
    "tags": []
   },
   "outputs": [],
   "source": [
    "# Bar chart that shows happiness for the 10 least happy countries\n",
    "bottom = by_country.sort_values(by=['happiness']).head(15)\n",
    "bottom_chart = bottom.plot.bar(y='happiness', rot=60, width=0.8, figsize=(10,3.5),ylim=(0,10),\n",
    "                         title='Countries with Lowest Average Happiness, 2005-2018',\n",
    "                         yticks=[0,5,10], xlabel='',color='lightsteelblue')"
   ]
  },
  {
   "cell_type": "markdown",
   "metadata": {},
   "source": [
    "**What do these charts tell you about global happiness?**\n",
    "\n",
    "YOUR ANSWER HERE\n",
    "\n",
    "Answers will vary, but could include the following observations:\n",
    "\n",
    "* The maximum average happiness rating for any country is around 8 on a scale from 0 to 10\n",
    "* Most of the countries in the dataset have a happiness rating in the middle of the scale\n",
    "* The 15 happiest countries are mostly highly-developed countries in Europe and North America\n",
    "* The 15 least happy countries are mostly less-developed, and several of the countries have had major conflicts or natural disasters"
   ]
  },
  {
   "cell_type": "markdown",
   "metadata": {},
   "source": [
    "## Explore Changes Over Time with Line Charts"
   ]
  },
  {
   "cell_type": "code",
   "execution_count": null,
   "metadata": {
    "tags": []
   },
   "outputs": [],
   "source": [
    "# Group dataset by year, drop country column, and calculate average values\n",
    "by_year = happiness.drop(columns=['country']).groupby('year').mean()"
   ]
  },
  {
   "cell_type": "code",
   "execution_count": null,
   "metadata": {
    "tags": []
   },
   "outputs": [],
   "source": [
    "# Average global happiness over time\n",
    "happiness_time_chart = by_year.happiness.plot(figsize=(10,5),ylim=(5,6.5),yticks=(5,6.5),\n",
    "                                              title='Average Global Happiness Over Time, 2005-2018',\n",
    "                                              xlabel='',color='orange')"
   ]
  },
  {
   "cell_type": "code",
   "execution_count": null,
   "metadata": {
    "tags": []
   },
   "outputs": [],
   "source": [
    "# Average global wealth over time\n",
    "wealth_time_chart = by_year.wealth.plot(figsize=(10,5),ylim=(8.9,10.1),yticks=(9,10),\n",
    "                                        title='Average Global Wealth Over Time, 2005-2018',\n",
    "                                        xlabel='',color='green')"
   ]
  },
  {
   "cell_type": "markdown",
   "metadata": {},
   "source": [
    "**What do you notice about the line graphs of happiness over time and wealth over time?**\n",
    "\n",
    "YOUR ANSWER HERE\n",
    "\n",
    "Answers will vary, but may include the following observations:\n",
    "\n",
    "* The trends in the two plots look similar, which suggests there could be a correlation\n",
    "* Both average global wealth and average global happiness have a noticeable decline in 2006\n",
    "* Average global happiness has been about the same since 2008\n",
    "* After 2006, both happiness and wealth seem to be increasing over time"
   ]
  },
  {
   "cell_type": "markdown",
   "metadata": {},
   "source": [
    "## Explore Relationships with Scatter Plots"
   ]
  },
  {
   "cell_type": "code",
   "execution_count": null,
   "metadata": {
    "tags": []
   },
   "outputs": [],
   "source": [
    "# Scatterplot of wealth and happiness\n",
    "wealth_happiness = by_country.plot.scatter(x=\"wealth\",y=\"happiness\",title=\"Relationship between Happiness and Wealth\", figsize=(8,4),\n",
    "                                           xlabel=\"Wealth\",ylabel=\"Happiness\",color=\"lightcoral\",\n",
    "                                          xlim=(6.5,12),ylim=(3,8),xticks=(),yticks=())"
   ]
  },
  {
   "cell_type": "markdown",
   "metadata": {},
   "source": [
    "**What do you notice about the relationship between happiness and wealth? How does this relate to what you learned about how happiness and wealth vary over time?**\n",
    "\n",
    "YOUR ANSWER HERE\n",
    "\n",
    "Answers may vary, but should include the observation that happiness seems to increase as wealth increases. This suggests that there may be a relationship between happiness and wealth. This was also suggested by the previous charts, which showed that happiness and wealth had similar trends over time."
   ]
  },
  {
   "cell_type": "code",
   "execution_count": null,
   "metadata": {
    "tags": []
   },
   "outputs": [],
   "source": [
    "# Scatterplot of happiness and generosity\n",
    "generosity_happiness = by_country.plot.scatter(x=\"generosity\",y=\"happiness\",title=\"Relationship between Happiness and Generosity\", figsize=(8,4),\n",
    "                                           xlabel=\"Generosity\",ylabel=\"Happiness\",color=\"rosybrown\",\n",
    "                                           xticks=(),yticks=())"
   ]
  },
  {
   "cell_type": "markdown",
   "metadata": {},
   "source": [
    "**What do you notice about the relationship between happiness and generosity?**\n",
    "\n",
    "YOUR ANSWER HERE\n",
    "\n",
    "Answers will vary, but may include the observation that there is no clear pattern or relationship. Interestingly, the most generous country does not have a high happiness rating. The countries with the highest happiness rating are only moderately happy."
   ]
  },
  {
   "cell_type": "code",
   "execution_count": null,
   "metadata": {
    "tags": []
   },
   "outputs": [],
   "source": [
    "# Scatterplot of happiness and generosity\n",
    "wealth_generosity = by_country.plot.scatter(x=\"wealth\",y=\"generosity\",title=\"Relationship between Wealth and Generosity\", figsize=(8,4),\n",
    "                                           xlabel=\"Wealth\",ylabel=\"Generosity\",color=\"darkseagreen\",\n",
    "                                           xticks=(),yticks=())"
   ]
  },
  {
   "cell_type": "markdown",
   "metadata": {},
   "source": [
    "**What do you notice about the relationship between wealth and generosity?**\n",
    "\n",
    "YOUR ANSWER HERE\n",
    "\n",
    "Answers may vary, but should note that there is no clear relationship between wealth and generosity. "
   ]
  },
  {
   "cell_type": "code",
   "execution_count": null,
   "metadata": {},
   "outputs": [],
   "source": []
  }
 ],
 "metadata": {
  "kernelspec": {
   "display_name": "Python 3 (ipykernel)",
   "language": "python",
   "name": "python3"
  },
  "language_info": {
   "codemirror_mode": {
    "name": "ipython",
    "version": 3
   },
   "file_extension": ".py",
   "mimetype": "text/x-python",
   "name": "python",
   "nbconvert_exporter": "python",
   "pygments_lexer": "ipython3",
   "version": "3.10.12"
  }
 },
 "nbformat": 4,
 "nbformat_minor": 4
}
