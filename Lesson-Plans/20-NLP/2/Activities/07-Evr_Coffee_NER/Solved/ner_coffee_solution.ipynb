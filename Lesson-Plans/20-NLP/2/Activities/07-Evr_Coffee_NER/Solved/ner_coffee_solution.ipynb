{
 "cells": [
  {
   "cell_type": "code",
   "execution_count": 1,
   "metadata": {},
   "outputs": [],
   "source": [
    "# Import the dependencies\n",
    "import spacy\n",
    "from nltk.corpus import reuters\n",
    "from spacy import displacy\n",
    "from collections import Counter\n",
    "import pandas as pd\n",
    "\n",
    "# Load the small English language model for spacy\n",
    "nlp = spacy.load(\"en_core_web_sm\")"
   ]
  },
  {
   "cell_type": "code",
   "execution_count": 2,
   "metadata": {},
   "outputs": [
    {
     "data": {
      "text/plain": [
       "['Patrick Mahomes ---> PERSON',\n",
       " 'the Kansas City Chiefs ---> ORG',\n",
       " 'the American Conference ---> ORG',\n",
       " 'one ---> CARDINAL',\n",
       " 'two ---> CARDINAL',\n",
       " 'the National Football League ---> ORG']"
      ]
     },
     "execution_count": 2,
     "metadata": {},
     "output_type": "execute_result"
    }
   ],
   "source": [
    "# Analyze a sentence using spacy\n",
    "doc = nlp(u\"\"\"Patrick Mahomes is a quarterback for the Kansas City Chiefs in the American Conference, \n",
    "which is one of two conferences in the National Football League.\"\"\")\n",
    "\n",
    "# Access the tagged entities with .text and .label_\n",
    "[ent.text +\" ---> \"+ ent.label_ for ent in doc.ents]"
   ]
  },
  {
   "cell_type": "code",
   "execution_count": 3,
   "metadata": {},
   "outputs": [
    {
     "name": "stdout",
     "output_type": "stream",
     "text": [
      "['acq', 'alum', 'barley', 'bop', 'carcass', 'castor-oil', 'cocoa', 'coconut', 'coconut-oil', 'coffee', 'copper', 'copra-cake', 'corn', 'cotton', 'cotton-oil', 'cpi', 'cpu', 'crude', 'dfl', 'dlr', 'dmk', 'earn', 'fuel', 'gas', 'gnp', 'gold', 'grain', 'groundnut', 'groundnut-oil', 'heat', 'hog', 'housing', 'income', 'instal-debt', 'interest', 'ipi', 'iron-steel', 'jet', 'jobs', 'l-cattle', 'lead', 'lei', 'lin-oil', 'livestock', 'lumber', 'meal-feed', 'money-fx', 'money-supply', 'naphtha', 'nat-gas', 'nickel', 'nkr', 'nzdlr', 'oat', 'oilseed', 'orange', 'palladium', 'palm-oil', 'palmkernel', 'pet-chem', 'platinum', 'potato', 'propane', 'rand', 'rape-oil', 'rapeseed', 'reserves', 'retail', 'rice', 'rubber', 'rye', 'ship', 'silver', 'sorghum', 'soy-meal', 'soy-oil', 'soybean', 'strategic-metal', 'sugar', 'sun-meal', 'sun-oil', 'sunseed', 'tea', 'tin', 'trade', 'veg-oil', 'wheat', 'wpi', 'yen', 'zinc']\n"
     ]
    }
   ],
   "source": [
    "# Get all the categories in the Reuters corpus. \n",
    "categories = reuters.categories()\n",
    "print(categories)"
   ]
  },
  {
   "cell_type": "code",
   "execution_count": 4,
   "metadata": {},
   "outputs": [
    {
     "name": "stdout",
     "output_type": "stream",
     "text": [
      "COLOMBIA COFFEE REGISTRATIONS REMAIN OPEN\n",
      "  Colombia's coffee export registrations\n",
      "  remain open and there are no plans to close them since a new\n",
      "  marketing policy means an unlimited amount can be registered,\n",
      "  Gilberto Arango, president of the private exporters'\n",
      "  association said.\n",
      "      \"The philosophy of the new policy is not to close\n",
      "  registrations. Nobody so far said may would be closed,\" he told\n",
      "  Reuters.\n",
      "      On March 13, Colombia opened registrations for April and\n",
      "  May for an unlimited amount.\n",
      "      Without giving breakdowns, Arango said private exporters\n",
      "  had registered 1,322,804 bags this calendar year up to April 6,\n",
      "  or roughly 440,000 bags per month, slightly lower than the\n",
      "  average in recent years.\n",
      "      He estimated the amount of bags registered by the national\n",
      "  coffee growers' federation at about the same, meaning a total\n",
      "  of about 900,000 bags registered and sold per month by\n",
      "  Colombia.\n",
      "      \"The only change that could happen is, because of the\n",
      "  volume, we would be told that from such a date, registrations\n",
      "  would be for June shipment, etc\" Arango said.\n",
      "  \n",
      "\n",
      "\n"
     ]
    }
   ],
   "source": [
    "# Locate and store a single article from the Reuters stories with the category \"coffee\".\n",
    "article = reuters.raw(fileids = reuters.fileids(categories='coffee')[3])\n",
    "print(article)"
   ]
  },
  {
   "cell_type": "code",
   "execution_count": 5,
   "metadata": {},
   "outputs": [
    {
     "data": {
      "text/html": [
       "<span class=\"tex2jax_ignore\"><div class=\"entities\" style=\"line-height: 2.5; direction: ltr\">COLOMBIA COFFEE REGISTRATIONS REMAIN OPEN<br>  \n",
       "<mark class=\"entity\" style=\"background: #feca74; padding: 0.45em 0.6em; margin: 0 0.25em; line-height: 1; border-radius: 0.35em;\">\n",
       "    Colombia\n",
       "    <span style=\"font-size: 0.8em; font-weight: bold; line-height: 1; border-radius: 0.35em; vertical-align: middle; margin-left: 0.5rem\">GPE</span>\n",
       "</mark>\n",
       "'s coffee export registrations<br>  remain open and there are no plans to close them since a new<br>  marketing policy means an unlimited amount can be registered,<br>  \n",
       "<mark class=\"entity\" style=\"background: #aa9cfc; padding: 0.45em 0.6em; margin: 0 0.25em; line-height: 1; border-radius: 0.35em;\">\n",
       "    Gilberto Arango\n",
       "    <span style=\"font-size: 0.8em; font-weight: bold; line-height: 1; border-radius: 0.35em; vertical-align: middle; margin-left: 0.5rem\">PERSON</span>\n",
       "</mark>\n",
       ", president of the private exporters'<br>  association said.<br>      &quot;The philosophy of the new policy is not to close<br>  registrations. Nobody so far said may would be closed,&quot; he told<br>  \n",
       "<mark class=\"entity\" style=\"background: #7aecec; padding: 0.45em 0.6em; margin: 0 0.25em; line-height: 1; border-radius: 0.35em;\">\n",
       "    Reuters\n",
       "    <span style=\"font-size: 0.8em; font-weight: bold; line-height: 1; border-radius: 0.35em; vertical-align: middle; margin-left: 0.5rem\">ORG</span>\n",
       "</mark>\n",
       ".<br>      On \n",
       "<mark class=\"entity\" style=\"background: #bfe1d9; padding: 0.45em 0.6em; margin: 0 0.25em; line-height: 1; border-radius: 0.35em;\">\n",
       "    March 13\n",
       "    <span style=\"font-size: 0.8em; font-weight: bold; line-height: 1; border-radius: 0.35em; vertical-align: middle; margin-left: 0.5rem\">DATE</span>\n",
       "</mark>\n",
       ", \n",
       "<mark class=\"entity\" style=\"background: #feca74; padding: 0.45em 0.6em; margin: 0 0.25em; line-height: 1; border-radius: 0.35em;\">\n",
       "    Colombia\n",
       "    <span style=\"font-size: 0.8em; font-weight: bold; line-height: 1; border-radius: 0.35em; vertical-align: middle; margin-left: 0.5rem\">GPE</span>\n",
       "</mark>\n",
       " opened registrations for \n",
       "<mark class=\"entity\" style=\"background: #bfe1d9; padding: 0.45em 0.6em; margin: 0 0.25em; line-height: 1; border-radius: 0.35em;\">\n",
       "    April\n",
       "    <span style=\"font-size: 0.8em; font-weight: bold; line-height: 1; border-radius: 0.35em; vertical-align: middle; margin-left: 0.5rem\">DATE</span>\n",
       "</mark>\n",
       " and<br>  \n",
       "<mark class=\"entity\" style=\"background: #bfe1d9; padding: 0.45em 0.6em; margin: 0 0.25em; line-height: 1; border-radius: 0.35em;\">\n",
       "    May\n",
       "    <span style=\"font-size: 0.8em; font-weight: bold; line-height: 1; border-radius: 0.35em; vertical-align: middle; margin-left: 0.5rem\">DATE</span>\n",
       "</mark>\n",
       " for an unlimited amount.<br>      Without giving breakdowns, \n",
       "<mark class=\"entity\" style=\"background: #feca74; padding: 0.45em 0.6em; margin: 0 0.25em; line-height: 1; border-radius: 0.35em;\">\n",
       "    Arango\n",
       "    <span style=\"font-size: 0.8em; font-weight: bold; line-height: 1; border-radius: 0.35em; vertical-align: middle; margin-left: 0.5rem\">GPE</span>\n",
       "</mark>\n",
       " said private exporters<br>  had registered \n",
       "<mark class=\"entity\" style=\"background: #e4e7d2; padding: 0.45em 0.6em; margin: 0 0.25em; line-height: 1; border-radius: 0.35em;\">\n",
       "    1,322,804\n",
       "    <span style=\"font-size: 0.8em; font-weight: bold; line-height: 1; border-radius: 0.35em; vertical-align: middle; margin-left: 0.5rem\">CARDINAL</span>\n",
       "</mark>\n",
       " bags \n",
       "<mark class=\"entity\" style=\"background: #bfe1d9; padding: 0.45em 0.6em; margin: 0 0.25em; line-height: 1; border-radius: 0.35em;\">\n",
       "    this calendar year\n",
       "    <span style=\"font-size: 0.8em; font-weight: bold; line-height: 1; border-radius: 0.35em; vertical-align: middle; margin-left: 0.5rem\">DATE</span>\n",
       "</mark>\n",
       " up to \n",
       "<mark class=\"entity\" style=\"background: #bfe1d9; padding: 0.45em 0.6em; margin: 0 0.25em; line-height: 1; border-radius: 0.35em;\">\n",
       "    April 6\n",
       "    <span style=\"font-size: 0.8em; font-weight: bold; line-height: 1; border-radius: 0.35em; vertical-align: middle; margin-left: 0.5rem\">DATE</span>\n",
       "</mark>\n",
       ",<br>  or \n",
       "<mark class=\"entity\" style=\"background: #e4e7d2; padding: 0.45em 0.6em; margin: 0 0.25em; line-height: 1; border-radius: 0.35em;\">\n",
       "    roughly 440,000\n",
       "    <span style=\"font-size: 0.8em; font-weight: bold; line-height: 1; border-radius: 0.35em; vertical-align: middle; margin-left: 0.5rem\">CARDINAL</span>\n",
       "</mark>\n",
       " bags per month, slightly lower than the<br>  average in \n",
       "<mark class=\"entity\" style=\"background: #bfe1d9; padding: 0.45em 0.6em; margin: 0 0.25em; line-height: 1; border-radius: 0.35em;\">\n",
       "    recent years\n",
       "    <span style=\"font-size: 0.8em; font-weight: bold; line-height: 1; border-radius: 0.35em; vertical-align: middle; margin-left: 0.5rem\">DATE</span>\n",
       "</mark>\n",
       ".<br>      He estimated the amount of bags registered by the national<br>  coffee growers' federation at about the same, meaning a total<br>  of \n",
       "<mark class=\"entity\" style=\"background: #e4e7d2; padding: 0.45em 0.6em; margin: 0 0.25em; line-height: 1; border-radius: 0.35em;\">\n",
       "    about 900,000\n",
       "    <span style=\"font-size: 0.8em; font-weight: bold; line-height: 1; border-radius: 0.35em; vertical-align: middle; margin-left: 0.5rem\">CARDINAL</span>\n",
       "</mark>\n",
       " bags registered and sold per month by<br>  \n",
       "<mark class=\"entity\" style=\"background: #feca74; padding: 0.45em 0.6em; margin: 0 0.25em; line-height: 1; border-radius: 0.35em;\">\n",
       "    Colombia\n",
       "    <span style=\"font-size: 0.8em; font-weight: bold; line-height: 1; border-radius: 0.35em; vertical-align: middle; margin-left: 0.5rem\">GPE</span>\n",
       "</mark>\n",
       ".<br>      &quot;The only change that could happen is, because of the<br>  volume, we would be told that from such a date, registrations<br>  would be for \n",
       "<mark class=\"entity\" style=\"background: #bfe1d9; padding: 0.45em 0.6em; margin: 0 0.25em; line-height: 1; border-radius: 0.35em;\">\n",
       "    June\n",
       "    <span style=\"font-size: 0.8em; font-weight: bold; line-height: 1; border-radius: 0.35em; vertical-align: middle; margin-left: 0.5rem\">DATE</span>\n",
       "</mark>\n",
       " shipment, etc&quot; \n",
       "<mark class=\"entity\" style=\"background: #f0d0ff; padding: 0.45em 0.6em; margin: 0 0.25em; line-height: 1; border-radius: 0.35em;\">\n",
       "    Arango\n",
       "    <span style=\"font-size: 0.8em; font-weight: bold; line-height: 1; border-radius: 0.35em; vertical-align: middle; margin-left: 0.5rem\">WORK_OF_ART</span>\n",
       "</mark>\n",
       " said.<br>  <br><br></div></span>"
      ],
      "text/plain": [
       "<IPython.core.display.HTML object>"
      ]
     },
     "metadata": {},
     "output_type": "display_data"
    }
   ],
   "source": [
    "# Analyze the article with spacy\n",
    "doc = nlp(article)\n",
    "\n",
    "# Render NER visualization with displacy to determine entities for extraction\n",
    "displacy.render(doc, style='ent')"
   ]
  },
  {
   "cell_type": "code",
   "execution_count": 6,
   "metadata": {},
   "outputs": [],
   "source": [
    "# Store all Reuters articles with category \"coffee\".\n",
    "articles = reuters.raw(categories='coffee')\n",
    "\n",
    "# Analyze the articles with spaCy\n",
    "doc = nlp(articles)"
   ]
  },
  {
   "cell_type": "code",
   "execution_count": 7,
   "metadata": {},
   "outputs": [],
   "source": [
    "# Extract geopolitical \"GPE\" and organizational entities \"ORG\" using a list comprehension.\n",
    "geo_org_entities = [ent.text for ent in doc.ents if ent.label_ in ['GPE', 'ORG']]"
   ]
  },
  {
   "cell_type": "code",
   "execution_count": 8,
   "metadata": {},
   "outputs": [
    {
     "data": {
      "text/plain": [
       "['INDONESIAN COMMODITY',\n",
       " 'The Indonesian Commodity Exchange',\n",
       " 'Reuters',\n",
       " 'CPO',\n",
       " 'Trade',\n",
       " 'Indonesia',\n",
       " 'Trade',\n",
       " 'Indonesia',\n",
       " 'Nainggolan',\n",
       " 'South Korea',\n",
       " 'Taiwan',\n",
       " 'Mexico',\n",
       " 'Colombia',\n",
       " 'the Foreign Trade\\n  Institute',\n",
       " 'Colombia',\n",
       " 'The National Planning Department',\n",
       " 'Colombia',\n",
       " \"National Coffee Growers' Federation\",\n",
       " 'New York',\n",
       " 'Colombia']"
      ]
     },
     "execution_count": 8,
     "metadata": {},
     "output_type": "execute_result"
    }
   ],
   "source": [
    "# Print the first 20 entities.\n",
    "geo_org_entities[:20]"
   ]
  },
  {
   "cell_type": "code",
   "execution_count": 9,
   "metadata": {},
   "outputs": [
    {
     "name": "stdout",
     "output_type": "stream",
     "text": [
      "['indonesian commodity', 'the indonesian commodity exchange', 'reuters', 'cpo', 'trade', 'indonesia', 'trade', 'indonesia', 'nainggolan', 'south korea', 'taiwan', 'mexico', 'colombia', 'the foreign trade  institute', 'colombia', 'the national planning department', 'colombia', \"national coffee growers' federation\", 'new york', 'colombia', 'reuters', 'colombia', 'arango', 'colombia', 'umuarama nil', 'paranavai nil', 'nil', 'nil', 'sao paulo', 'nil', 'votuporanga nil', 'nil', 'sao', 'nil', 'sao simao nil', 'nil', 'tres', 'generally', 'nairobi', 'ab  ', 'the coffee board', 'kenya', 'kenya', 'the national planning department', 'colombia', 'the national planning department', 'colombia', 'uganda', 'uganda', 'coffee marketing board', 'cmb', 'ugandan', 'cmb', 'mombasa', 'uganda', 'new vision', 'cmb', 'kampala', 'uganda', 'cmb', 'uganda', 'u.s.', 'co inc  ', 'colombia', \"national coffee growers'\", 'colombia', 'guatemala', 'the  international coffee organisation', 'ico', 'mexico', 'the dominican  republic', 'peru', 'ecuador', 'india', 'papua new guinea', 'ico', 'costa rica', 'france', 'mexico', 'the international coffee organization', 'ico', 'brazil', 'the mexican coffee institute  ', 'imc', 'imc', 'ico', 'mexico', 'brazil', 'rio de  janeiro', 'international coffee  organization', 'reuters', 'brazil', 'ico', 'brazil', 'ico', 'germany', 'italy', 'germany', 'european community  ', 'ec', 'the  international coffee agreement', 'u.s.', 'brazil', 'the u.s. position', 'brazilian coffee institute', 'brazil', 'ico', 'the brazilian coffee institute', 'ibc', 'london', 'ibc', 'reuters', 'banco do brasil', 'european coffee trade', 'international coffee organization', 'ico', 'dutch coffee  trade association', 'the european coffee  federation', 'ecf', 'brazil', 'coffee', 'brazil', 'brazil', 'colombia', 'kenya', 'indonesia', 'costa rica', 'the ivory coast', 'el  salvador', 'nicaragua', 'ico', 'brazil', 'brazil', 'uncertain', 'u.s.', 'u.s.', 'u.s.', 'colombia', 'rosenbaum', 'brazil', 'rosenbaum', 'brazil', 'bogota', 'rosenbaum', 'u.s.', 'colombia', 'rosenbaum', 'ico', 'amsterdam', 'brazil', 'u.s.', 'mln bags', 'brazil', 'brazil', 'ibc', 'ibc', 'the  institute', 'ivory coast', 'agriculture', 'fraternite matin', 'london', 'duffus', 'the u.s. agriculture department', 'usda', 'the ivory coast', 'rbi', 'india', 'the new blanket exchange permit  scheme', 'rbi', 'rbi', 'rbi', 'dauster', 'brazilian coffee institute', 'the united states', 'brazil', 'the international coffee organisation', 'ico', 'dauster', 'brazil', 'ico', 'london', 'u.s.', 'u.s.', 'national coffee association', 'the office of u.s. trade representative', 'u.s.', 'congress', 'u.s.', 'u.s. customs', 'customs', 'u.s.', 'u.s.', 'u.s.', 'the brazilian coffee institute  ', 'ibc', 'ibc', 'reuters', 'national coffee policy council', 'ibc', 'ibc', 'ibc', 'brasilia', 'brazil', 'ico', 'ico executive board', 'the international coffee organization', 'ico) executive board', 'ico', 'bruno caron', 'france', 'the ico board of  management of the promotion fund', 'papua new guinea', 'uganda', 'a.r. sendi', 'uganda', 'ministry of  industry', 'the marketing ministry', 'the coffee  marketing board', \"the banque industrielle d'afrique oriental\", 'paris', 'uganda', 'uganda', 'international coffee agreement', 'u.s.', 'ugandan', 'coffee', 'the new york coffee', 'cocoa  exchange', 'katz', 'exchange', 'csce', 'shearson lehman bros', 'woodhouse', 'demico futures', 'colombia', 'the international coffee organization', 'ico', 'ico', 'london', 'london', 'national coffee committee', 'brazil', 'the united states', 'brazil', 'brazil', 'cardenas', 'ico', 'kenya', 'london', 'crude', 'moi', 'kenya', 'india', 'wheat', 'reuters', 'the state trading  corp', 'stc', 'the minerals and metals trading corp', 'india', 'india', 'countertrade', 'india', 'the soviet union', 'indonesia', 'venezuela', 'brazil', 'india', 'gatt', 'the  general agreement on tariffs and trade', 'gatt', 'india', 'mmtc', 'yugoslavia', 'mmtc', 'india', 'india', 'india', 'oil and natural gas commission', 'new delhi', 'countertrade', 'india', 'zimbabwe', 'india', 'india', 'zimbabwe', 'the commercial coffee growers association', 'administrative', 'ziana', 'zimbabwe', 'india', 'wheat', 'reuters', 'the state trading  corp', 'stc', 'the minerals and metals trading corp', 'india', 'india', 'countertrade', 'india', 'the soviet union', 'nicaraguan foreign trade', 'london', 'international coffee organisation', 'managua', 'london', 'ico', 'international coffee agreement', 'brazil', 'ico', 'u.s.', 'co inc', 'brazils', 'kenya', 'u.s.', 'international coffee  organization', 'ico', 'u.s.', 'congress', 'ico', 'london', 'u.s.', 'congress', 'congress', 'u.s.', 'the united states', 'the international coffee  organization', 'ico', 'u.s.', 'u.s.', 'u.s.', 'u.s.', 'brazil', 'u.s.', 'ico', 'london', 'ico board', 'the international coffee  organization', 'ico', 'ico  delegates and trade sources', 'ico', 'brazil', 'ico', 'u.s.', 'brazil', 'ico  board', 'brazilian coffee institute', 'u.s.', 'u.s.', 'brazil', 'brazil', 'brazil', 'managua', 'costa rica', 'honduras', 'ico', 'nicaraguan external trade', 'london', 'managua', 'london', 'the brazilian coffee institute', 'ibc', 'ibc', 'brazil', 'institute', 'the monetary council', 'brazil', 'brazil', 'ibc', 'the  international coffee organisation', 'ico', 'london', 'ibc', 'ibc', 'india', 'coffee board', 'india', 'india', 'london', 'the international coffee organisation', 'india', 'brazil', 'international tin council', 'itc', 'reuter', 'itc', 'the international cocoa organization', 'the buffer stock', 'bsm', 'bsm', 'malaysia', 'the buffer  stock', 'international natural rubber agreement', 'geneva', 'itc', 'recent international coffee organization', 'ico', 'london', 'consumers', 'brazil', 'brazil', 'ico', 'london', 'u.n.', 'u.s.', 'the soviet  union', 'u.s.', 'washington', 'u.s.', 'washington', 'kuala lumpur', 'u.s.', 'u.s.', 'the international coffee agreement', 'ica', 'u.s.', 'the international cocoa agreement  ', 'the state department', 'u.s.', 'u.s. negotiators', 'u.s.', 'ottawa', 'malaysian primary industries', 'reuters', 'kuala lumpur', 'malaysia', 'the association of tin producing  countries', 'ministry of agriculture and  ', 'reuters', 'london', 'traditionally britain', 'u.k.', 'foreign ministry', 'tokyo', 'japan', 'paris', 'france', 'france', 'indonesia', 'reuters', 'jakarta', 'nicaraguan external trade', 'london', 'the economics department', 'the brazilian  foreign ministry', 'reuters', 'unctad', 'ico board', 'the  international coffee organization', 'ico', 'producer', 'ico', 'brazil', 'u.s.', 'brazil', 'brazil', 'brazil', 'brazil', 'reuters', 'shortfalls', 'oamcaf', 'malagasy coffee organization', 'angola', 'managua', 'ico', 'csce', 'csce', 'csce', 'csce', 'guatemala to host other milds coffee meeting', 'guatemala', 'the international coffee  organization', 'ico', 'ico', 'producer', 'brazil', 'colombia', 'malagasy coffee organization', 'ico', 'costa rica', 'dominican  republic', 'ecuador', 'el salvador', 'guatemala', 'honduras', 'india', 'mexico', 'nicaragua', 'papua new guinea', 'peru', 'singapore', 'singapore', 'united industrial corp ltd', 'uic', 'uic', 'singapore', 'oversea-chinese banking corp ltd', 'united  overseas bank ltd', 'banque paribas', 'bangkok bank ltd', 'citibank  n.a.', 'standard chartered bank ltd', 'algemene bank nederland nv', 'banque nationale de paris', 'chase manhattan bank', 'na', 'international coffee organization', 'ico', 'brazil', 'ico', 'producer', 'ico', 'the inter-african coffee organization', 'london', 'new york', 'london', 'gmt', 'ico', 'kenya', 'kenya', 'kenya', 'ouko', 'kenya', 'coffee', 'coffee board', 'ouko', 'ouko', 'u.s.', 'kenya', 'kenya', 'kenya', 'kenya', 'kenya', 'agriculture', 'ouko', 'kenya', 'coffee', 'coffee board', 'unlikely', 'unlikely', 'international  coffee organization', 'ico', 'consumers', 'brazil', 'brazil', 'ico', 'london', 'new york', 'new york', 'producer', 'ico', 'ico', 'brazil', 'brazil', 'brazil', 'the international coffee  agreement', 'guatemala', 'brazil', 'colombia', 'brazil', 'u.s.', 'ico', 'brazil', 'ico', 'brazil', 'brazil', 'ico', 'producers', 'ico', 'ico', 'ico pact unlikely', 'the  international coffee organization', 'alberto  hesse', 'the european coffee federation', 'hesse', 'the italian foreign affairs ministry', 'reuters', 'ico', 'the  international coffee organization', 'ico', 'colombia', 'arango', 'reuters', 'brazil', 'ico', 'london', 'brazil', 'arango', 'brazil', 'colombia', 'new york', 'cardenas', 'the international coffee organization', 'producers', 'ico', 'gmt', 'ico', 'new york', 'the  international coffee organization', 'talks', 'ico', \"o'neill\", 'prudential bache', 'brazil', 'brazil', 'brazil', 'u.s.', 'shearson  lehman', 'brazil', 'accurate', 'shearson', 'u.s.', 'the coffee, sugar and cocoa exchange', 'the international  coffee organization', 'london', 'burdensome', 'new york', 'shearson  lehman brothers', 'u.s.', 'the commodity exchange', 'new york', 'u.s.', 'u.s.', 'the commodity exchange', 'new york', 'u.s.', 'u.s.', 'the new york coffee', 'the international coffee  organization', 'london', 'burdensome', 'new york', 'shearson  lehman brothers', 'u.s.', 'the commodity exchange', 'new york', 'u.s.', 'u.s.', 'cattle futures', 'the chicago mercantile  exchange', \"the agriculture  department's\", 'the chicago board of  trade', 'usda', 'the international coffee organisation', 'ico', 'susin suratanakaweekul', 'the thai coffee  exporters association', 'reuters', 'thailand', 'ico', 'thailand', 'ico', 'the customs department', 'thailand', 'commerce ministry', 'the commercial  economics department', 'ico', 'indonesia', 'kenyan coffee needs', 'rain', 'kenya', 'kirinyaga', 'kenya', 'the international coffee organization', 'the coffee board', 'na', 'na', 'na', 'na', 'na', 'na', 'na', 'na', 'na', 'na', 'bbb', 'na', 'peru', 'peru', 'cafe peru', 'peru', 'reuters', 'peru', 'villa rica', 'villa  rica', 'marin', 'the international coffee organisation', 'ico', 'peru', 'ico', 'brazil', 'brazil', 'the international coffee organization  ', 'ico', 'guatemala', 'the international coffee  organization', 'ico', 'costa rica', 'dominican  republic', 'ecuador', 'el salvador', 'guatemala', 'honduras', 'india', 'mexico', 'nicaragua', 'papua new guinea', 'peru', 'brazil', 'colombia', 'ico', 'indonesia', 'the central bureau of  statistics', 'cameroun', 'ivory coast', 'maringa', 'mm', 'votuporanga  ', 'mm', 'franca nil', 'mm', 'sao', 'nil', 'sao  simao nil', 'coffee', 'ico', 'international coffee  organization', 'ico', 'london', 'new york', 'ico', 'brazilian coffee institute', 'ibc', 'ico', 'brazil', 'brazil', 'london', 'ico', 'ico', 'dauster', 'ico', 'brazil', 'brazil', 'the ico  ', 'ico', 'ico', 'indonesia', 'ico', 'brazil', 'ico', 'the brazilian coffee institute  ', 'ibc', 'the brazilian coffee institute  ', 'ibc', 'the international coffee  organisation', 'ibc closes export registrations - exporters  ', 'the brazilian coffee institute  ', 'ibc', 'ibc', 'ibc', 'ibc closes export registrations - ibc', 'the brazilian coffee institute  ', 'ibc', 'ibc', \"the international  coffee organisation's\", 'ico', 'ico certifying agency', 'reuters', 'umuarama nil', 'paranavai nil', 'nil', 'nil', 'sao paulo', 'nil', 'votuporanga nil', 'nil', 'sao', 'nil', 'sao simao nil', 'tres', 'mm', 'reuter', 'u.s.', 'new york', 'new orleans', 'the new york coffee \"', 'the new york coffee,', 'cocoa  exchange', 'new york', 'new orleans', 'new york', 'new orleans', 'international coffee organization', 'ico', 'the united states', 'the state department', 'u.s.', 'u.s.', 'u.s.', 'washington', 'reuters', 'london', 'the united states', 'rosenbaum', 'the united states', 'ico', 'u.s.', 'brazil', 'brazil', 'rosenbaum', 'congress', 'u.s.', 'london', 'u.s.', 'brazil', 'colombia', 'brazil', 'u.s.', 'u.s.', 'brazil', 'colombia', 'london', 'u.s. state', 'the national security council', 'the white house', 'u.s.', 'u.s.', 'the state', 'u.s.', 'u.s.', 'u.s.', 'el salvador', 'guatemala', 'brazil', 'colombia', 'london', 'the dominican republic', 'costa rica', 'the state  department', 'the united states', 'brazil', 'u.s.', 'london', 'u.s.', 'u.k.', 'netherlands', 'west germany', 'japan', 'australia', 'new zealand', 'u.s.', 'u.s.', \"west germany's\", 'the european  community', 'france', 'the ivory coast', 'ec', 'u.s.', 'u.s.', 'brazil', 'u.s.', 'brazil', 'brasilia', 'u.s.', 'u.s.', 'international coffee organisation', 'ico', 'the u.s. position', 'brazil', 'reuters', 'u.s.', 'brazil', 'london', 'colombia', 'london', 'u.s.', 'colombia', 'reuters', 'colombia', 'colombia', 'colombia', 'the international coffee  agreement', 'ica', 'brazil', 'the rio de janeiro coffee trade association', 'reuters', 'brazil', 'brazil', 'calmon', 'ica', 'brazil', 'brazil', 'brazil', 'calmon', 'brazilian coffee institute', 'colombia', 'reuters', 'colombia', 'colombia', 'ivory coast', 'international coffee organisation', 'ico', 'london', 'commenting', 'london', 'london', 'ivory coast', 'ivory coast', 'abidjan', 'inter-african coffee organisation', 'iaco', 'london', 'iaco', 'london', \"ivory coast's\", 'ivory coast', \"ivory coast's\", 'finance ministry', 'the customs  department', 'singapore', 'singapore', 'hock and co (pte) ltd', 'singapore international  merchant bankers ltd', 'standard chartered bank &lt;stch.l>', 'singapore', 'oversea-chinese banking corp ltd', 'united  overseas bank ltd &lt;uobm.si>', 'paribas', '&lt;bangkok bank  ltd', 'na', 'standard chartered bank ltd', 'algemene bank  nederland nv &lt;abnn.as>', 'banque nationale de paris &lt;bnpp.pa', 'manhattan bank', 'na', 'brazil', 'brazil', 'international coffee organization', 'the brazilian coffee institute', 'ibc', 'brazil', 'ico', 'dauster', 'brazil', 'ico', 'brazil', 'ico', 'brazil', 'brazil', 'brazil', 'colombia', 'mexico', 'brazil', 'ibc', 'ibc', 'the international coffee  organization', 'the international coffee agreement', 'brazil', 'costa rica', 'brazil', 'colombia', 'indonesia', 'brazil', 'colombia', 'indonesia', 'brazil', 'ico', 'the u.s. embassy', 'constraints', 'colombia', 'colombia', 'colombia', 'the world bank', 'new york', 'the international coffee organization  ', 'ico', 'brazil', 'brazil', 'brazil', 'brazil', 'brazil', 'international services', 'chase  econometrics', 'reuters', 'brazil', 'chase', 'brazil', 'analysts', 'negotiations between international coffee organization  ', 'ico', 'brazil', 'ico', 'brazil', 'brazil', 'brazil', 'new york', 'the brazilian coffee institute', 'rio de janeiro', 'brazil', 'ico', 'prudential-bache  securities inc.', 'loewy', 'brazil', 'chicago', 'u.s.', 'loewy', 'the american soybean  association', 'marketings', 'u.s.', 'u.s.', 'brazil', 'u.s.', 'drexel  burnham lambert', 'brazil', 'brazil', 'brazil', 'brazil', 'brazil', 'mexico', 'the international coffee organisation', 'ico', 'notimex news', 'mexico', \"costa rica's\", 'the international coffee  organisation', 'coffee institute', 'costa rica', 'the united states', 'britain', 'netherlands', 'ico', 'london', 'costa rica', 'ico', 'international coffee  organization', 'hamburg', 'brazil', 'colombia', 'the brazilian coffee institute', 'indonesia', 'the u.s. embassy', 'the international coffee organisation', 'indonesia', 'netherlands', 'indonesia', 'indonesia', 'the  international coffee organization', 'ico  ', 'colombia', 'colombia', 'the national coffee growers federation', 'uganda', 'london', 'coffee marketing  board', 'cmb', 'j. makumbi', 'london', 'international  coffee organisation', 'ico', 'makumbi', 'feburary', 'uganda', 'ico', 'cmb', 'cmb', 'uganda', 'ico  export quota', 'ugandan', 'dar es salaam', 'tanzania', 'agriculture and livestock  development', 'london', 'ico', 'umuarama nil', 'nil', 'nil', 'presidente', 'mm', 'votuporanga', 'mm', 'franca', 'mm', 'sao', 'nil', 'sao  simao nil', 'reuter11:43/vb', 'the treasury department', 'the brazilian coffee institute', 'ibc', 'ibc', 'ibc', 'ibc', 'the  national monetary council', 'the institute of up to five mln bags', 'gomes', 'treasury', 'ibc', 'treasury', 'institute', 'treasury', 'lce and ipe elect', 'lce', 'the international petroleum exchange (ipe', 'lce', 'aps news', 'enapal', 'enapal', 'brazil', 'brazil', 'brazil', 'the international  coffee organization', 'indonesia', 'the  association of indonesian coffee exporters', 'reuters', 'indonesia', 'kertosastro', 'u.s. dlrs', 'dharyono', 'indonesia', 'the association of indonesian  coffee exporters', 'reuters', 'dharyono', 'indonesia', 'brazil', 'dharyono', 'indonesia', 'costa rica', 'the dominican republic', 'ecuador', 'honduras', 'india', 'papua new guinea', 'peru', 'international coffee  organistion', 'london', 'brazil', 'the  group of eight', 'colombia', 'brazil', 'ico', 'the group of eight', 'colombia', 'colombia', 'indonesia', 'u.s.', 'japan', 'netherlands', 'west germany', 'canada', 'ico', 'dharyono', 'u.s.', 'japan', 'indonesia', 'ico', 'the group of eight', 'brazil', 'brazil', 'ico', 'brazil', 'u.s.', 'dharyono', 'indonesia', 'dharyono', 'indonesia', 'jacobs suchard', 'jacobs suchard ag', 'london', 'sroka', 'sroka', 'london', 'sroka', 'international coffee organization', 'ico', 'ico', 'distribution', 'ico', 'the brazilian coffee institute', 'ibc', 'ibc', 'brazil', 'london', 'international coffee  organization', 'ico', 'brazil', 'santos', 'the national coffee policy council', 'dauster', 'london', 'exporters', 'ico', 'brazil', 'brazil', 'brazil', 'ibc', 'brazil', 'brazil', 'ico', 'brazil', 'ico', 'dauster', 'brazil', 'brazil', 'brazil', 'brazil', 'brazil', 'ico', 'ico board meeting', 'the international coffee organization', 'ico', 'ico', 'ico', 'ernst &', 'ico', 'ico', 'colombia', 'new york', 'colombia', 'international coffee  organisation', 'ico', 'london', 'colombia', 'colombia', 'colombia', 'colombia', 'brazil', 'colombia', 'rio', 'brazil', 'cardenas', 'ico', 'london', 'jakarta', 'indonesia', 'colombia', 'brazil', 'brazil', 'cardenas', 'london', 'uganda', 'kisumu  ', 'lake victoria', 'ugandan', 'kenya', 'uganda', 'mombasa', 'customs at kisumu', 'malaba', 'ugandan railways  ', 'kisumu', 'ugandan', 'the coffee marketing board', 'kampala', 'coffee', 'uganda', 'colombia', \"the national coffee  growers' federation\", 'reuters', 'international  coffee organisation', 'london', 'colombia', 'reuters', 'colombia', \"the national coffee growers' federation\", 'colombia', 'colombia', 'colombia', 'arango', 'colombia', 'new york', 'u.s.', 'co inc  ', 'colombia', 'gilberto arango', 'colombia', 'international coffee organization', 'colombia', 'london', 'arango', 'colombia', 'arango', 'colombia', 'colombia', 'colombia', 'colombia', 'colombia', 'arango', \"the  national coffee growers' federation\", 'the u.s.  department of agriculture', 'antioquia', 'ico', 'arango', 'colombia', 'london', 'arango', 'the united states', 'washington', 'central  america', 'arango', 'ethiopia', 'brazil', 'addis ababa', 'brazil', 'tesfay', 'havana', 'tesfay', 'the international coffee organisation', 'coffee', 'adebayo adedeji', 'the u.n.  economic commission', 'the u.n. program', 'the u.n. program', 'the international coffee organization', 'brazil', 'n.y.', 'managua', 'nicaragua', 'international coffee organization', 'brazil', 'costa rica', 'honduras', 'brazil', 'colombia', 'brazil', 'colombia', 'mexico', 'nicaragua', 'chamorro', 'nicaragua', 'ibc', 'attend', 'brazilian coffee institute', 'managua', 'reuters', 'brasilia', 'brazil', 'colombia', 'zimbabwe', 'zimbabwe', \"the coffee growers'  association\", 'zimbabwe', 'west germany', 'britain', 'japan', 'netherlands', 'switzerland', 'the united states', 'attend', 'colombia', 'nicaragua', \"the national coffee  growers' federation\", 'reuters', 'colombia', 'brazil', 'managua', 'the international  coffee organization', 'gilberto arango', 'colombia', 'reuters', 'the international coffee organization', 'london', 'agriculture ministry', 'madagascar', 'madagascar', 'madagascar', 'the coffee, sugar  and cocoa exchange', 'csce', 'latin coffee producers', 'the international  coffee organisation', 'brazil', 'mexico', 'guatemala', 'el salvador', 'costa rica', 'panama', 'colombia', 'ico', 'international coffee organization', 'ico', 'ico', 'the brazilian coffee institute', 'reuters', 'ibc', 'the  brazilian coffee institute', 'ibc', 'brazil', 'managua', 'ibc', 'ibc', 'rio de janeiro', 'managua', 'london', 'nicaragua', 'brazil', 'mexico', 'guatemala', 'el salvador', 'honduras', 'costa rica', 'nicaragua', 'the international coffee organization', 'the brazilian coffee institute', 'indonesia', 'non-oil exports decline in', 'indonesia', 'bank', 'indonesia', 'coffee', 'indonesia', 'brazil', 'colombia', 'fnc', 'brazil', 'salvador shg', 'nicaragua', 'hb', 'costa rica', 'kenya ab faq  ', 'tanzania ab', 'crisis hits ugandan coffee board', 'uganda', 'coffee marketing  board', 'cmb', 'cmb', 'uganda', 'cmb', 'mombasa', 'dar es salaam', 'tanga', 'uganda', 'ugandan', 'cmb', 'sebaana-kizito', 'ugandan', 'jinja and kisumu', 'kenya', 'coffee', 'uganda', 'cmb', 'uganda', 'the world bank', 'international monetary  fund', 'uganda', 'ico council ends in failure', 'the international  coffee organization', 'ico', 'the international  coffee agreement', 'brazil', 'the international coffee  organization', 'london', 'quotas', 'the  international coffee agreement', 'brazil', 'u.s.', 'brazil', 'u.s.', 'brazil', 'ico', 'brazilian coffee institute', 'brazil', 'brazil', 'colombia', 'brazil', 'colombia', 'ico', 'ico', 'colombia', 'colombia', \"the national coffee growers'  federation\", 'colombia', 'colombia', 'back', 'brazil', 'rio de janeiro', 'syndarma', 'santos', 'brazil', 'resettle', 'farms', 'vietnam', 'vietnam', 'vietnam', 'the federal statistics office', 'ibc', 'attend ico executive board', 'brazilian coffee institute', 'ico  ', 'new york', 'brazil', 'ibc', 'ico  ', 'dauster', 'brazil', 'london', 'ico', 'brazil', 'brazil', 'brazilian coffee institute', 'ibc', 'reuters', 'brazil', 'international coffee  organisation', 'london', 'ico', 'managua', 'managua', 'brazil', 'mexico', 'guatemala', 'el salvador', 'honduras', 'costa rica', 'nicaragua', 'panama', 'london', 'international coffee organization', 'ico', \"dutch coffee roasters' association\", 'ico', 'the international coffee agreement']\n"
     ]
    }
   ],
   "source": [
    "# Using a list comprehension convert each entity to lowercase and remove the newline character. \n",
    "entities = [i.lower().replace('\\n','') for i in geo_org_entities]\n",
    "\n",
    "# Print the entities\n",
    "print(entities)"
   ]
  },
  {
   "cell_type": "code",
   "execution_count": 10,
   "metadata": {},
   "outputs": [
    {
     "name": "stdout",
     "output_type": "stream",
     "text": [
      "[('brazil', 172), ('ico', 125), ('u.s.', 84), ('colombia', 81), ('london', 59), ('ibc', 41), ('reuters', 32), ('indonesia', 28), ('india', 25), ('uganda', 21)]\n"
     ]
    }
   ],
   "source": [
    "# Create a variable, most_freq_entities, that stores the most frequent entities \n",
    "# using the most_common() function from the Counter module.\n",
    "most_freq_entities = Counter(entities).most_common()\n",
    "\n",
    "# Print the first 10 most frequent entities\n",
    "print(most_freq_entities[:10])"
   ]
  },
  {
   "cell_type": "code",
   "execution_count": 11,
   "metadata": {},
   "outputs": [],
   "source": [
    "# Use list comprehensions to retrieve each entity and the number of occurrences for each entity in separate lists.\n",
    "entity = [most_freq_entities[i][0] for i, _ in enumerate(most_freq_entities)]\n",
    "frequency = [most_freq_entities[i][1] for i, _ in enumerate(most_freq_entities)]"
   ]
  },
  {
   "cell_type": "code",
   "execution_count": 12,
   "metadata": {},
   "outputs": [
    {
     "data": {
      "text/html": [
       "<div>\n",
       "<style scoped>\n",
       "    .dataframe tbody tr th:only-of-type {\n",
       "        vertical-align: middle;\n",
       "    }\n",
       "\n",
       "    .dataframe tbody tr th {\n",
       "        vertical-align: top;\n",
       "    }\n",
       "\n",
       "    .dataframe thead th {\n",
       "        text-align: right;\n",
       "    }\n",
       "</style>\n",
       "<table border=\"1\" class=\"dataframe\">\n",
       "  <thead>\n",
       "    <tr style=\"text-align: right;\">\n",
       "      <th></th>\n",
       "      <th>entity</th>\n",
       "      <th>frequency</th>\n",
       "    </tr>\n",
       "  </thead>\n",
       "  <tbody>\n",
       "    <tr>\n",
       "      <th>0</th>\n",
       "      <td>brazil</td>\n",
       "      <td>172</td>\n",
       "    </tr>\n",
       "    <tr>\n",
       "      <th>1</th>\n",
       "      <td>ico</td>\n",
       "      <td>125</td>\n",
       "    </tr>\n",
       "    <tr>\n",
       "      <th>2</th>\n",
       "      <td>u.s.</td>\n",
       "      <td>84</td>\n",
       "    </tr>\n",
       "    <tr>\n",
       "      <th>3</th>\n",
       "      <td>colombia</td>\n",
       "      <td>81</td>\n",
       "    </tr>\n",
       "    <tr>\n",
       "      <th>4</th>\n",
       "      <td>london</td>\n",
       "      <td>59</td>\n",
       "    </tr>\n",
       "    <tr>\n",
       "      <th>5</th>\n",
       "      <td>ibc</td>\n",
       "      <td>41</td>\n",
       "    </tr>\n",
       "    <tr>\n",
       "      <th>6</th>\n",
       "      <td>reuters</td>\n",
       "      <td>32</td>\n",
       "    </tr>\n",
       "    <tr>\n",
       "      <th>7</th>\n",
       "      <td>indonesia</td>\n",
       "      <td>28</td>\n",
       "    </tr>\n",
       "    <tr>\n",
       "      <th>8</th>\n",
       "      <td>india</td>\n",
       "      <td>25</td>\n",
       "    </tr>\n",
       "    <tr>\n",
       "      <th>9</th>\n",
       "      <td>uganda</td>\n",
       "      <td>21</td>\n",
       "    </tr>\n",
       "  </tbody>\n",
       "</table>\n",
       "</div>"
      ],
      "text/plain": [
       "      entity  frequency\n",
       "0     brazil        172\n",
       "1        ico        125\n",
       "2       u.s.         84\n",
       "3   colombia         81\n",
       "4     london         59\n",
       "5        ibc         41\n",
       "6    reuters         32\n",
       "7  indonesia         28\n",
       "8      india         25\n",
       "9     uganda         21"
      ]
     },
     "execution_count": 12,
     "metadata": {},
     "output_type": "execute_result"
    }
   ],
   "source": [
    "# Create a DataFrame that has columns to hold each entity and the number of times each entity appears.\n",
    "common_entities_df = pd.DataFrame(\n",
    "    {\n",
    "        'entity':entity,\n",
    "        'frequency':frequency\n",
    "    }\n",
    ")\n",
    "\n",
    "# Sort the DataFrame\n",
    "common_entities_df.sort_values(by=['frequency'], ascending=False).reset_index(drop=True)\n",
    "\n",
    "# Display the first ten rows. \n",
    "common_entities_df.head(10)"
   ]
  },
  {
   "cell_type": "code",
   "execution_count": 13,
   "metadata": {},
   "outputs": [
    {
     "data": {
      "text/html": [
       "<div>\n",
       "<style scoped>\n",
       "    .dataframe tbody tr th:only-of-type {\n",
       "        vertical-align: middle;\n",
       "    }\n",
       "\n",
       "    .dataframe tbody tr th {\n",
       "        vertical-align: top;\n",
       "    }\n",
       "\n",
       "    .dataframe thead th {\n",
       "        text-align: right;\n",
       "    }\n",
       "</style>\n",
       "<table border=\"1\" class=\"dataframe\">\n",
       "  <thead>\n",
       "    <tr style=\"text-align: right;\">\n",
       "      <th></th>\n",
       "      <th>entity</th>\n",
       "      <th>frequency</th>\n",
       "    </tr>\n",
       "  </thead>\n",
       "  <tbody>\n",
       "    <tr>\n",
       "      <th>410</th>\n",
       "      <td>the international  coffee agreement</td>\n",
       "      <td>1</td>\n",
       "    </tr>\n",
       "    <tr>\n",
       "      <th>411</th>\n",
       "      <td>quotas</td>\n",
       "      <td>1</td>\n",
       "    </tr>\n",
       "    <tr>\n",
       "      <th>412</th>\n",
       "      <td>the national coffee growers'  federation</td>\n",
       "      <td>1</td>\n",
       "    </tr>\n",
       "    <tr>\n",
       "      <th>413</th>\n",
       "      <td>back</td>\n",
       "      <td>1</td>\n",
       "    </tr>\n",
       "    <tr>\n",
       "      <th>414</th>\n",
       "      <td>syndarma</td>\n",
       "      <td>1</td>\n",
       "    </tr>\n",
       "    <tr>\n",
       "      <th>415</th>\n",
       "      <td>resettle</td>\n",
       "      <td>1</td>\n",
       "    </tr>\n",
       "    <tr>\n",
       "      <th>416</th>\n",
       "      <td>farms</td>\n",
       "      <td>1</td>\n",
       "    </tr>\n",
       "    <tr>\n",
       "      <th>417</th>\n",
       "      <td>the federal statistics office</td>\n",
       "      <td>1</td>\n",
       "    </tr>\n",
       "    <tr>\n",
       "      <th>418</th>\n",
       "      <td>attend ico executive board</td>\n",
       "      <td>1</td>\n",
       "    </tr>\n",
       "    <tr>\n",
       "      <th>419</th>\n",
       "      <td>dutch coffee roasters' association</td>\n",
       "      <td>1</td>\n",
       "    </tr>\n",
       "  </tbody>\n",
       "</table>\n",
       "</div>"
      ],
      "text/plain": [
       "                                       entity  frequency\n",
       "410       the international  coffee agreement          1\n",
       "411                                    quotas          1\n",
       "412  the national coffee growers'  federation          1\n",
       "413                                      back          1\n",
       "414                                  syndarma          1\n",
       "415                                  resettle          1\n",
       "416                                     farms          1\n",
       "417             the federal statistics office          1\n",
       "418                attend ico executive board          1\n",
       "419        dutch coffee roasters' association          1"
      ]
     },
     "execution_count": 13,
     "metadata": {},
     "output_type": "execute_result"
    }
   ],
   "source": [
    "# Display the last ten rows. \n",
    "common_entities_df.tail(10)"
   ]
  },
  {
   "cell_type": "code",
   "execution_count": null,
   "metadata": {},
   "outputs": [],
   "source": []
  }
 ],
 "metadata": {
  "kernelspec": {
   "display_name": "Python 3 (ipykernel)",
   "language": "python",
   "name": "python3"
  },
  "language_info": {
   "codemirror_mode": {
    "name": "ipython",
    "version": 3
   },
   "file_extension": ".py",
   "mimetype": "text/x-python",
   "name": "python",
   "nbconvert_exporter": "python",
   "pygments_lexer": "ipython3",
   "version": "3.10.12"
  }
 },
 "nbformat": 4,
 "nbformat_minor": 4
}
