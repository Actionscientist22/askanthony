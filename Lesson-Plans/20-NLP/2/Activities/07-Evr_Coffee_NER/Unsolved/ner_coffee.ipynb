{
 "cells": [
  {
   "cell_type": "code",
   "execution_count": null,
   "metadata": {},
   "outputs": [],
   "source": [
    "# Import the dependencies\n",
    "import spacy\n",
    "from nltk.corpus import reuters\n",
    "from spacy import displacy\n",
    "from collections import Counter\n",
    "import pandas as pd\n",
    "\n",
    "# Load the small English language model for spacy\n",
    "nlp = spacy.load(\"en_core_web_sm\")"
   ]
  },
  {
   "cell_type": "code",
   "execution_count": null,
   "metadata": {},
   "outputs": [],
   "source": [
    "# Analyze a sentence using spacy\n",
    "doc = nlp(u\"\"\"Patrick Mahomes is a quarterback for the Kansas City Chiefs in the American Conference, \n",
    "which is one of two conferences in the National Football League.\"\"\")\n",
    "\n",
    "# Access the tagged entities with .text and .label_\n"
   ]
  },
  {
   "cell_type": "code",
   "execution_count": null,
   "metadata": {},
   "outputs": [],
   "source": [
    "# Get all the categories in the Reuters corpus. \n"
   ]
  },
  {
   "cell_type": "code",
   "execution_count": null,
   "metadata": {},
   "outputs": [],
   "source": [
    "# Locate and store a single article from the Reuters stories with the category \"coffee\".\n"
   ]
  },
  {
   "cell_type": "code",
   "execution_count": null,
   "metadata": {},
   "outputs": [],
   "source": [
    "# Analyze the article with spacy\n",
    "\n",
    "\n",
    "# Render NER visualization with displacy to determine entities for extraction\n"
   ]
  },
  {
   "cell_type": "code",
   "execution_count": null,
   "metadata": {},
   "outputs": [],
   "source": [
    "# Store all reuters articles with category \"coffee\".\n",
    "\n",
    "\n",
    "# Set articles to be analyzed with spacy\n"
   ]
  },
  {
   "cell_type": "code",
   "execution_count": null,
   "metadata": {},
   "outputs": [],
   "source": [
    "# Extract geopolitical \"GPE\" and organizational entities \"ORG\" using a list comprehension.\n",
    "\n",
    "# Print the first 20 entities.\n"
   ]
  },
  {
   "cell_type": "code",
   "execution_count": null,
   "metadata": {},
   "outputs": [],
   "source": [
    "# Using a list comprehension convert each entity to lowercase and remove the newline character. \n",
    "\n",
    "\n",
    "# Print the entities\n"
   ]
  },
  {
   "cell_type": "code",
   "execution_count": null,
   "metadata": {},
   "outputs": [],
   "source": [
    "# Create a variable, most_freq_entities, that stores the most frequent entities \n",
    "# using the most_common() function from the Counter module.\n",
    "\n",
    "\n",
    "# Print the first 10 most frequent entities\n"
   ]
  },
  {
   "cell_type": "code",
   "execution_count": null,
   "metadata": {},
   "outputs": [],
   "source": [
    "# Use list comprehensions to retrieve each entity and the number of occurrences for each entity in separate lists.\n"
   ]
  },
  {
   "cell_type": "code",
   "execution_count": null,
   "metadata": {},
   "outputs": [],
   "source": [
    "# Create a DataFrame called, adjs_df, that has columns to hold the\n",
    "# inaugural addresses, the common adjective, and the number of times each adjective appears.\n",
    "\n",
    "\n",
    "# Sort the DataFrame\n",
    "\n",
    "\n",
    "# Display the first ten rows. \n"
   ]
  },
  {
   "cell_type": "code",
   "execution_count": null,
   "metadata": {},
   "outputs": [],
   "source": [
    "# Display the last ten rows. \n"
   ]
  },
  {
   "cell_type": "code",
   "execution_count": null,
   "metadata": {},
   "outputs": [],
   "source": []
  }
 ],
 "metadata": {
  "kernelspec": {
   "display_name": "Python 3 (ipykernel)",
   "language": "python",
   "name": "python3"
  },
  "language_info": {
   "codemirror_mode": {
    "name": "ipython",
    "version": 3
   },
   "file_extension": ".py",
   "mimetype": "text/x-python",
   "name": "python",
   "nbconvert_exporter": "python",
   "pygments_lexer": "ipython3",
   "version": "3.10.12"
  }
 },
 "nbformat": 4,
 "nbformat_minor": 4
}
