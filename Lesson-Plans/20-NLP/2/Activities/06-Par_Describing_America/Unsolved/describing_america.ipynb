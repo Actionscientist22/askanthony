{
 "cells": [
  {
   "cell_type": "code",
   "execution_count": null,
   "metadata": {},
   "outputs": [],
   "source": [
    "# Import dependencies\n",
    "import nltk\n",
    "import spacy\n",
    "import pandas as pd\n",
    "from collections import Counter\n",
    "from nltk.corpus import inaugural\n",
    "\n",
    "# Download NLTK's inaugural corpus\n",
    "nltk.download(\"inaugural\")\n",
    "\n",
    "# Load the English language model for spaCy\n",
    "nlp = spacy.load(\"en_core_web_sm\")"
   ]
  },
  {
   "cell_type": "markdown",
   "metadata": {},
   "source": [
    "##  Retrieve the documents IDs and text of the U.S. presidential inaugural addresses"
   ]
  },
  {
   "cell_type": "code",
   "execution_count": 2,
   "metadata": {},
   "outputs": [
    {
     "name": "stdout",
     "output_type": "stream",
     "text": [
      "59 59\n"
     ]
    }
   ],
   "source": [
    "# Retrieve the IDs of inaugural addresses\n",
    "\n",
    "\n",
    "# Retrieve the text of all the inaugural addresses\n",
    "\n",
    "\n",
    "# Get the length of the ids and text\n",
    "print(len(ids), len(texts))"
   ]
  },
  {
   "cell_type": "code",
   "execution_count": null,
   "metadata": {},
   "outputs": [],
   "source": [
    "# Display sample inaugural address\n",
    "print(ids[10])\n",
    "print(texts[10])"
   ]
  },
  {
   "cell_type": "markdown",
   "metadata": {},
   "source": [
    "## The Most Frequent Adjectives from each Inaugural Address"
   ]
  },
  {
   "cell_type": "code",
   "execution_count": 4,
   "metadata": {},
   "outputs": [],
   "source": [
    "# Use the most_common_adjs function to tokenize the text, creates a list of with all the adjectives, \n",
    "# and retrieve the most common adjectives and their frequency. \n",
    "def most_common_adjs(text):\n",
    "    \"\"\"\n",
    "    Finds and returns the most common adjective in the given text.\n",
    "\n",
    "    Args:\n",
    "        text (str): The input text from which adjectives will be extracted.\n",
    "\n",
    "    Returns:\n",
    "        tuple: A tuple containing the most common adjectives and their frequency.\n",
    "               The tuple has the format (adjective, frequency).\n",
    "\n",
    "    Example:\n",
    "    >>> text = \"The quick brown fox jumps over the lazy dog. The fast fox is brown.\"\n",
    "    >>> most_common_adj(text)\n",
    "    ('brown', 2)\n",
    "    \"\"\"\n",
    "    # Tokenizes text and parse each token\n",
    "    doc = nlp(text)\n",
    "    \n",
    "    # Creates a list with all the adjectives in the text\n",
    "    adjs = [token.text.lower() for token in doc if token.pos_ == 'ADJ']\n",
    "    \n",
    "    # Retrieves the most frequent adjective in the adjectives list using the Counter module\n",
    "    most_common_adj = Counter(adjs).most_common(1)[0]\n",
    "    \n",
    "    return most_common_adj\n"
   ]
  },
  {
   "cell_type": "code",
   "execution_count": 5,
   "metadata": {},
   "outputs": [
    {
     "name": "stdout",
     "output_type": "stream",
     "text": [
      "[('public', 6), ('fellow', 1), ('foreign', 8), ('own', 6), ('public', 14), ('public', 6), ('other', 4), ('great', 20), ('great', 26), ('other', 10), ('public', 8), ('fellow', 3), ('other', 8), ('other', 26), ('free', 12), ('own', 5), ('great', 8), ('great', 11), ('such', 15), ('other', 3), ('best', 5), ('best', 5), ('political', 10), ('great', 11), ('public', 11), ('public', 17), ('public', 8), ('great', 15), ('american', 7), ('great', 5), ('proper', 15), ('great', 14), ('own', 15), ('new', 13), ('great', 15), ('other', 9), ('national', 9), ('good', 7), ('human', 5), ('simple', 2), ('free', 11), ('free', 21), ('own', 9), ('new', 7), ('old', 7), ('new', 8), ('new', 15), ('new', 9), ('other', 4), ('new', 9), ('new', 14), ('new', 9), ('new', 29), ('common', 5), ('own', 9), ('new', 11), ('new', 6), ('american', 9), ('american', 7)]\n"
     ]
    }
   ],
   "source": [
    "# Create a list of the most common adjective for each inaugural address\n",
    "\n",
    "\n",
    "# Print the common adjectives.\n",
    "print(common_adjs)"
   ]
  },
  {
   "cell_type": "code",
   "execution_count": 6,
   "metadata": {},
   "outputs": [],
   "source": [
    "# Use list comprehensions to retrieve each adjective and the number of occurrences for each text in separate lists.\n"
   ]
  },
  {
   "cell_type": "code",
   "execution_count": 7,
   "metadata": {},
   "outputs": [],
   "source": [
    "# Save the year and president as 'inaugural_address' in the following format \"1789-Washington\"\n"
   ]
  },
  {
   "cell_type": "code",
   "execution_count": 8,
   "metadata": {},
   "outputs": [
    {
     "data": {
      "text/html": [
       "<div>\n",
       "<style scoped>\n",
       "    .dataframe tbody tr th:only-of-type {\n",
       "        vertical-align: middle;\n",
       "    }\n",
       "\n",
       "    .dataframe tbody tr th {\n",
       "        vertical-align: top;\n",
       "    }\n",
       "\n",
       "    .dataframe thead th {\n",
       "        text-align: right;\n",
       "    }\n",
       "</style>\n",
       "<table border=\"1\" class=\"dataframe\">\n",
       "  <thead>\n",
       "    <tr style=\"text-align: right;\">\n",
       "      <th></th>\n",
       "      <th>inaugural address</th>\n",
       "      <th>adjective</th>\n",
       "      <th>frequency</th>\n",
       "    </tr>\n",
       "  </thead>\n",
       "  <tbody>\n",
       "    <tr>\n",
       "      <th>0</th>\n",
       "      <td>1997-Clinton</td>\n",
       "      <td>new</td>\n",
       "      <td>29</td>\n",
       "    </tr>\n",
       "    <tr>\n",
       "      <th>1</th>\n",
       "      <td>1841-Harrison</td>\n",
       "      <td>other</td>\n",
       "      <td>26</td>\n",
       "    </tr>\n",
       "    <tr>\n",
       "      <th>2</th>\n",
       "      <td>1821-Monroe</td>\n",
       "      <td>great</td>\n",
       "      <td>26</td>\n",
       "    </tr>\n",
       "    <tr>\n",
       "      <th>3</th>\n",
       "      <td>1953-Eisenhower</td>\n",
       "      <td>free</td>\n",
       "      <td>21</td>\n",
       "    </tr>\n",
       "    <tr>\n",
       "      <th>4</th>\n",
       "      <td>1817-Monroe</td>\n",
       "      <td>great</td>\n",
       "      <td>20</td>\n",
       "    </tr>\n",
       "    <tr>\n",
       "      <th>5</th>\n",
       "      <td>1889-Harrison</td>\n",
       "      <td>public</td>\n",
       "      <td>17</td>\n",
       "    </tr>\n",
       "    <tr>\n",
       "      <th>6</th>\n",
       "      <td>1925-Coolidge</td>\n",
       "      <td>great</td>\n",
       "      <td>15</td>\n",
       "    </tr>\n",
       "    <tr>\n",
       "      <th>7</th>\n",
       "      <td>1973-Nixon</td>\n",
       "      <td>new</td>\n",
       "      <td>15</td>\n",
       "    </tr>\n",
       "    <tr>\n",
       "      <th>8</th>\n",
       "      <td>1917-Wilson</td>\n",
       "      <td>own</td>\n",
       "      <td>15</td>\n",
       "    </tr>\n",
       "    <tr>\n",
       "      <th>9</th>\n",
       "      <td>1897-McKinley</td>\n",
       "      <td>great</td>\n",
       "      <td>15</td>\n",
       "    </tr>\n",
       "  </tbody>\n",
       "</table>\n",
       "</div>"
      ],
      "text/plain": [
       "  inaugural address adjective  frequency\n",
       "0      1997-Clinton       new         29\n",
       "1     1841-Harrison     other         26\n",
       "2       1821-Monroe     great         26\n",
       "3   1953-Eisenhower      free         21\n",
       "4       1817-Monroe     great         20\n",
       "5     1889-Harrison    public         17\n",
       "6     1925-Coolidge     great         15\n",
       "7        1973-Nixon       new         15\n",
       "8       1917-Wilson       own         15\n",
       "9     1897-McKinley     great         15"
      ]
     },
     "execution_count": 8,
     "metadata": {},
     "output_type": "execute_result"
    }
   ],
   "source": [
    "# Create a DataFrame called, adjs_df, that has columns to hold the\n",
    "# inaugural addresses, the common adjective, and the number of times each adjective appears.\n",
    "\n",
    "\n",
    "# Sort the DataFrame.\n",
    "\n",
    "\n",
    "# Display the first ten rows. \n"
   ]
  },
  {
   "cell_type": "markdown",
   "metadata": {},
   "source": [
    "## Most Common Adjectives Used in Inaugural Addresses"
   ]
  },
  {
   "cell_type": "code",
   "execution_count": 9,
   "metadata": {},
   "outputs": [],
   "source": [
    "# Use the all_adjs function to retrieve all the adjectives in a given text.\n",
    "def all_adjs(text):\n",
    "    \"\"\"\n",
    "    This function retrieves all the adjectives in the given text.\n",
    "    \n",
    "    Args:\n",
    "        text (string): The text to analyze.\n",
    "        \n",
    "    Returns:\n",
    "        list: A list containing all the adjectives found in the text. Adjectives\n",
    "              are represented as lowercase strings.\n",
    "    Example:\n",
    "    >>> text = \"The quick brown fox jumps over the lazy dog. The fast fox is brown.\"\n",
    "    >>> all_adjs(text)\n",
    "    ['quick', 'brown', 'lazy', 'fast', 'brown']\n",
    "    \"\"\"\n",
    "    \n",
    "    # Tokenize the text and parse each token\n",
    "    doc = nlp(text)\n",
    "    \n",
    "    # Create a list with all the adjectives in the text\n",
    "    adjs = [token.text.lower() for token in doc if token.pos_ == 'ADJ']\n",
    "    \n",
    "    return adjs"
   ]
  },
  {
   "cell_type": "code",
   "execution_count": 10,
   "metadata": {},
   "outputs": [
    {
     "data": {
      "text/plain": [
       "['greater',\n",
       " '14th',\n",
       " 'present',\n",
       " 'fondest',\n",
       " 'flattering',\n",
       " 'immutable',\n",
       " 'necessary',\n",
       " 'dear',\n",
       " 'frequent',\n",
       " 'gradual']"
      ]
     },
     "execution_count": 10,
     "metadata": {},
     "output_type": "execute_result"
    }
   ],
   "source": [
    "# Create an empty list to store all the adjectives\n",
    "all_adjectives = []\n",
    "\n",
    "# Use a for loop that sends the \"text\" of the inaugural addresses to the all_adj() function \n",
    "# and concatenates the returned adjectives to the all_adjectives list.\n",
    "\n",
    "    \n",
    "# Print sample data\n",
    "all_adjectives[:10]"
   ]
  },
  {
   "cell_type": "code",
   "execution_count": 11,
   "metadata": {},
   "outputs": [
    {
     "name": "stdout",
     "output_type": "stream",
     "text": [
      "[('great', 332), ('other', 269), ('own', 247)]\n"
     ]
    }
   ],
   "source": [
    "# Create a variable, most_freq_adjectives, that stores the three most frequent adjectives \n",
    "# used in the inaugural addresses by using the most_common() function from the Counter module.\n",
    "\n",
    "\n",
    "# Print the three most frequent adjectives\n",
    "print(most_freq_adjectives)"
   ]
  },
  {
   "cell_type": "code",
   "execution_count": 12,
   "metadata": {},
   "outputs": [],
   "source": [
    "# Import the word_tokenize module from NLTK\n",
    "from nltk.tokenize import word_tokenize\n",
    "# Use the get_word_counts function to count the occurrences of a word in text.\n",
    "def get_word_counts(text, word):\n",
    "    \"\"\"\n",
    "    This function counts the occurrences of a word in a text.\n",
    "    \n",
    "    Args:\n",
    "        text (string): The text where word counts will be analyzed.\n",
    "        word (string): The word to look into the text.\n",
    "        \n",
    "    Returns:\n",
    "        word_count (int): The counts of the word in the given text.\n",
    "        \n",
    "    Example:\n",
    "    >>> text = \"The quick brown fox jumps over the lazy dog. The quick brown dog is happy.\"\n",
    "    >>> word = \"quick\"\n",
    "    >>> get_word_counts(text, word)\n",
    "    2\n",
    "    \"\"\"\n",
    "    \n",
    "    # Use the word_tokenize module from NLTK to tokenize the text\n",
    "    tok = word_tokenize(text)\n",
    "    \n",
    "    # Create a list with all the tokens retrieved from the text\n",
    "    tok = [word.lower() for word in tok]\n",
    "    \n",
    "    # Count the occurrences of the word in the text\n",
    "    word_count = tok.count(word)\n",
    "    \n",
    "    return word_count"
   ]
  },
  {
   "cell_type": "code",
   "execution_count": 13,
   "metadata": {
    "scrolled": true
   },
   "outputs": [
    {
     "name": "stdout",
     "output_type": "stream",
     "text": [
      "Great counts sample data: [3, 0, 5, 1, 1]\n",
      "Other counts sample data: [1, 0, 2, 1, 6]\n",
      "Own counts sample data: [2, 0, 4, 6, 5]\n"
     ]
    }
   ],
   "source": [
    "# Use list comprehensions to create a list with the counts of each top adjective in the inaugural addresses\n",
    "\n",
    "\n",
    "# Display sample data\n",
    "print(f\"Great counts sample data: {great_counts[:5]}\")\n",
    "print(f\"Other counts sample data: {other_counts[:5]}\")\n",
    "print(f\"Own counts sample data: {own_counts[:5]}\")"
   ]
  },
  {
   "cell_type": "markdown",
   "metadata": {},
   "source": [
    "## Analyze Adjectives Over Time"
   ]
  },
  {
   "cell_type": "code",
   "execution_count": 14,
   "metadata": {},
   "outputs": [
    {
     "name": "stdout",
     "output_type": "stream",
     "text": [
      "['1789', '1793', '1797', '1801', '1805']\n"
     ]
    }
   ],
   "source": [
    "# Create a Python list dates to store the year when every inaugural address was delivered. \n",
    "\n",
    "\n",
    "# Print sample data\n",
    "print(dates[:5])"
   ]
  },
  {
   "cell_type": "code",
   "execution_count": 15,
   "metadata": {},
   "outputs": [
    {
     "name": "stdout",
     "output_type": "stream",
     "text": [
      "['Washington', 'Washington', 'Adams', 'Jefferson', 'Jefferson']\n"
     ]
    }
   ],
   "source": [
    "# Create a Python list called, presidents,  to store the last name of each U.S. President from each inaugural address.\n",
    "\n",
    "\n",
    "# Print sample data\n",
    "print(presidents[:5])"
   ]
  },
  {
   "cell_type": "code",
   "execution_count": 16,
   "metadata": {},
   "outputs": [
    {
     "data": {
      "text/html": [
       "<div>\n",
       "<style scoped>\n",
       "    .dataframe tbody tr th:only-of-type {\n",
       "        vertical-align: middle;\n",
       "    }\n",
       "\n",
       "    .dataframe tbody tr th {\n",
       "        vertical-align: top;\n",
       "    }\n",
       "\n",
       "    .dataframe thead th {\n",
       "        text-align: right;\n",
       "    }\n",
       "</style>\n",
       "<table border=\"1\" class=\"dataframe\">\n",
       "  <thead>\n",
       "    <tr style=\"text-align: right;\">\n",
       "      <th></th>\n",
       "      <th>President</th>\n",
       "      <th>great</th>\n",
       "      <th>other</th>\n",
       "      <th>own</th>\n",
       "    </tr>\n",
       "  </thead>\n",
       "  <tbody>\n",
       "    <tr>\n",
       "      <th>1789</th>\n",
       "      <td>Washington</td>\n",
       "      <td>3</td>\n",
       "      <td>1</td>\n",
       "      <td>2</td>\n",
       "    </tr>\n",
       "    <tr>\n",
       "      <th>1793</th>\n",
       "      <td>Washington</td>\n",
       "      <td>0</td>\n",
       "      <td>0</td>\n",
       "      <td>0</td>\n",
       "    </tr>\n",
       "    <tr>\n",
       "      <th>1797</th>\n",
       "      <td>Adams</td>\n",
       "      <td>5</td>\n",
       "      <td>2</td>\n",
       "      <td>4</td>\n",
       "    </tr>\n",
       "    <tr>\n",
       "      <th>1801</th>\n",
       "      <td>Jefferson</td>\n",
       "      <td>1</td>\n",
       "      <td>1</td>\n",
       "      <td>6</td>\n",
       "    </tr>\n",
       "    <tr>\n",
       "      <th>1805</th>\n",
       "      <td>Jefferson</td>\n",
       "      <td>1</td>\n",
       "      <td>6</td>\n",
       "      <td>5</td>\n",
       "    </tr>\n",
       "  </tbody>\n",
       "</table>\n",
       "</div>"
      ],
      "text/plain": [
       "       President  great  other  own\n",
       "1789  Washington      3      1    2\n",
       "1793  Washington      0      0    0\n",
       "1797       Adams      5      2    4\n",
       "1801   Jefferson      1      1    6\n",
       "1805   Jefferson      1      6    5"
      ]
     },
     "execution_count": 16,
     "metadata": {},
     "output_type": "execute_result"
    }
   ],
   "source": [
    "# Create a DataFrame presidential_adjs_df, that contains columns that hold the President's last name \n",
    "# and the number of times each adjective appears in the Presidents' inaugural address.\n",
    "\n",
    "\n",
    "# Set the index of the presidential_adjs_df DataFrame equal to the year in the dates list.\n",
    "\n",
    "\n",
    "# Display same data\n"
   ]
  },
  {
   "cell_type": "code",
   "execution_count": null,
   "metadata": {},
   "outputs": [],
   "source": [
    "# Create a bar plot that displays the most common adjectives used throughout the U.S. presidential inaugural addresses.\n",
    "# df.plot.bar(title=\"Most Common Adjectives Used in the U.S. Presidential Inaugural Addresses\",figsize=(15, 5))"
   ]
  },
  {
   "cell_type": "markdown",
   "metadata": {},
   "source": [
    "## The Most Common Adjectives Describing America"
   ]
  },
  {
   "cell_type": "code",
   "execution_count": 18,
   "metadata": {},
   "outputs": [],
   "source": [
    "def describe_america(text):\n",
    "    \"\"\"\n",
    "    This function retrieves the adjectives in the text that describe the word 'America'.\n",
    "    \n",
    "    Args:\n",
    "        text (string): The text to analyze.\n",
    "        \n",
    "    Returns:\n",
    "        adjs (list): A list of the adjectives that describe the word \"America\" in the text.\n",
    "    \"\"\"\n",
    "    \n",
    "    # Use the spaCy English language model to tokenize the text and parse each token.\n",
    "    doc = nlp(text)\n",
    "    \n",
    "    # Create a list with all the adjectives in the text of each inaugural address that describe the word \"America\".\n",
    "    adjs = [token.text.lower() for token in doc if (token.pos_ == 'ADJ' and token.head.text == 'America')]\n",
    "    \n",
    "    return adjs"
   ]
  },
  {
   "cell_type": "code",
   "execution_count": 19,
   "metadata": {},
   "outputs": [
    {
     "data": {
      "text/plain": [
       "['productive', 'alert', 'illumined', 'strong', 'stronger', 'rich']"
      ]
     },
     "execution_count": 19,
     "metadata": {},
     "output_type": "execute_result"
    }
   ],
   "source": [
    "# Create an empty list to store the adjectives\n",
    "america_adjectives = []\n",
    "\n",
    "# Write a for loop that sends the \"text\" of the inaugural addresses to the describe_america() function \n",
    "# and concatenates the returned adjectives to the america_adjectives list.  \n",
    "\n",
    "    \n",
    "# Print the list of the adjectives describing the word 'America'\n",
    "america_adjectives"
   ]
  },
  {
   "cell_type": "code",
   "execution_count": null,
   "metadata": {},
   "outputs": [],
   "source": []
  }
 ],
 "metadata": {
  "kernelspec": {
   "display_name": "Python 3 (ipykernel)",
   "language": "python",
   "name": "python3"
  },
  "language_info": {
   "codemirror_mode": {
    "name": "ipython",
    "version": 3
   },
   "file_extension": ".py",
   "mimetype": "text/x-python",
   "name": "python",
   "nbconvert_exporter": "python",
   "pygments_lexer": "ipython3",
   "version": "3.10.12"
  }
 },
 "nbformat": 4,
 "nbformat_minor": 4
}
