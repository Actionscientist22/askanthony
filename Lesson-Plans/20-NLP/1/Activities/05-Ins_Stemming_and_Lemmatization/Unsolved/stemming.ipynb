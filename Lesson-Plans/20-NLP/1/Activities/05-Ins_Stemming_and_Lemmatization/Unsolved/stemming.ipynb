{
  "cells": [
    {
      "cell_type": "markdown",
      "source": [
        "# Stemming"
      ],
      "metadata": {}
    },
    {
      "cell_type": "markdown",
      "source": [
        "## Porter Stemmer"
      ],
      "metadata": {}
    },
    {
      "cell_type": "code",
      "source": [
        "# Import NLTK and the full PorterStemmer library\n",
        "import nltk\n",
        "from nltk.stem.porter import PorterStemmer\n",
        "# Import the word tokenizer\n",
        "from nltk.tokenize import word_tokenize"
      ],
      "outputs": [],
      "execution_count": 1,
      "metadata": {}
    },
    {
      "cell_type": "code",
      "source": [
        "# Instantiate the PorterStemmer() class\n",
        "p_stemmer = PorterStemmer()"
      ],
      "outputs": [],
      "execution_count": 2,
      "metadata": {}
    },
    {
      "cell_type": "code",
      "source": [
        "# Create a list of words with different tenses.\n"
      ],
      "outputs": [],
      "execution_count": 3,
      "metadata": {}
    },
    {
      "cell_type": "code",
      "source": [
        "# Print the word and the stem of the word.\n"
      ],
      "outputs": [
        {
          "output_type": "execute_result",
          "execution_count": 4,
          "data": {
            "text/plain": "['drive --> drive',\n 'driven --> driven',\n 'driver --> driver',\n 'driving --> drive',\n 'drove --> drove',\n 'easily --> easili',\n 'fairly --> fairli']"
          },
          "metadata": {}
        }
      ],
      "execution_count": 4,
      "metadata": {}
    },
    {
      "cell_type": "markdown",
      "source": [
        "## Snowball Stemmer"
      ],
      "metadata": {}
    },
    {
      "cell_type": "code",
      "source": [
        "# Import the SnowballStemmer class\n",
        "from nltk.stem.snowball import SnowballStemmer\n",
        "# Instantiate the Snowball Stemmer and pass in the \"english\" language parameter.\n",
        "s_stemmer = SnowballStemmer(language='english')"
      ],
      "outputs": [],
      "execution_count": 5,
      "metadata": {}
    },
    {
      "cell_type": "code",
      "source": [
        "# Print the word and the stem of the word.\n"
      ],
      "outputs": [
        {
          "output_type": "execute_result",
          "execution_count": 6,
          "data": {
            "text/plain": "['drive --> drive',\n 'driven --> driven',\n 'driver --> driver',\n 'driving --> drive',\n 'drove --> drove',\n 'easily --> easili',\n 'fairly --> fair']"
          },
          "metadata": {}
        }
      ],
      "execution_count": 6,
      "metadata": {}
    },
    {
      "cell_type": "code",
      "source": [
        "# Tokenize the sentence \n",
        "\n",
        "# Apply the Porter Stemmer to the list of words.\n"
      ],
      "outputs": [
        {
          "output_type": "stream",
          "name": "stdout",
          "text": [
            "['the', 'fox', 'walk', 'into', 'the', 'box', '.']\n"
          ]
        }
      ],
      "execution_count": 9,
      "metadata": {}
    },
    {
      "cell_type": "code",
      "source": [],
      "outputs": [],
      "execution_count": null,
      "metadata": {}
    }
  ],
  "metadata": {
    "kernelspec": {
      "display_name": "Python 3 (ipykernel)",
      "language": "python",
      "name": "python3"
    },
    "language_info": {
      "codemirror_mode": {
        "name": "ipython",
        "version": 3
      },
      "file_extension": ".py",
      "mimetype": "text/x-python",
      "name": "python",
      "nbconvert_exporter": "python",
      "pygments_lexer": "ipython3",
      "version": "3.10.12"
    },
    "nteract": {
      "version": "0.28.0"
    }
  },
  "nbformat": 4,
  "nbformat_minor": 2
}