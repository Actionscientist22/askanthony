{
 "cells": [
  {
   "cell_type": "markdown",
   "metadata": {},
   "source": [
    "# Lemmatization"
   ]
  },
  {
   "cell_type": "code",
   "execution_count": null,
   "metadata": {},
   "outputs": [],
   "source": [
    "# Import WordNetLemmatizer class and word tokenizer\n",
    "from nltk.stem import WordNetLemmatizer \n",
    "from nltk.tokenize import word_tokenize\n",
    "# Download \"punkt\" sentence tokenizer and \"wordnet\" that the lemmatizer uses.\n",
    "import nltk\n",
    "nltk.download('punkt')\n",
    "nltk.download('wordnet')"
   ]
  },
  {
   "cell_type": "code",
   "execution_count": 2,
   "metadata": {},
   "outputs": [],
   "source": [
    "# Instantiate the lemmatizer\n",
    "lemmatizer = WordNetLemmatizer()"
   ]
  },
  {
   "cell_type": "code",
   "execution_count": 3,
   "metadata": {},
   "outputs": [
    {
     "name": "stdout",
     "output_type": "stream",
     "text": [
      "box\n",
      "goose\n"
     ]
    }
   ],
   "source": [
    "# Lemmatize the plural of a word\n",
    "print(lemmatizer.lemmatize('boxes'))\n",
    "print(lemmatizer.lemmatize('geese'))"
   ]
  },
  {
   "cell_type": "code",
   "execution_count": 4,
   "metadata": {},
   "outputs": [
    {
     "name": "stdout",
     "output_type": "stream",
     "text": [
      "boxed\n",
      "greater\n"
     ]
    }
   ],
   "source": [
    "# Lemmatize the past tense of a word\n",
    "print(lemmatizer.lemmatize('boxed'))\n",
    "# Lemmatize an adjective of a word\n",
    "print(lemmatizer.lemmatize('greater'))"
   ]
  },
  {
   "cell_type": "code",
   "execution_count": 5,
   "metadata": {},
   "outputs": [
    {
     "name": "stdout",
     "output_type": "stream",
     "text": [
      "box\n",
      "great\n"
     ]
    }
   ],
   "source": [
    "# Lemmatize the past tense of a word and indicate the part of speech as a verb \"v\".\n",
    "print(lemmatizer.lemmatize('boxed',pos='v'))\n",
    "# Lemmatize an adjective of a word and indicate the part of speech as an \"a\".\n",
    "print(lemmatizer.lemmatize('greater', pos='a'))"
   ]
  },
  {
   "cell_type": "code",
   "execution_count": 6,
   "metadata": {},
   "outputs": [],
   "source": [
    "# Lemmatize each word from a list of words\n",
    "sentence = \"The foxes walked into the boxes.\"\n",
    "words = word_tokenize(sentence)"
   ]
  },
  {
   "cell_type": "code",
   "execution_count": 7,
   "metadata": {},
   "outputs": [
    {
     "name": "stdout",
     "output_type": "stream",
     "text": [
      "['The', 'fox', 'walked', 'into', 'the', 'box', '.']\n"
     ]
    }
   ],
   "source": [
    "# Apply the lemmatizer to the list of words.\n",
    "result = [lemmatizer.lemmatize(word) for word in words]\n",
    "print(result)"
   ]
  },
  {
   "cell_type": "code",
   "execution_count": null,
   "metadata": {},
   "outputs": [],
   "source": []
  }
 ],
 "metadata": {
  "kernelspec": {
   "display_name": "Python 3 (ipykernel)",
   "language": "python",
   "name": "python3"
  },
  "language_info": {
   "codemirror_mode": {
    "name": "ipython",
    "version": 3
   },
   "file_extension": ".py",
   "mimetype": "text/x-python",
   "name": "python",
   "nbconvert_exporter": "python",
   "pygments_lexer": "ipython3",
   "version": "3.10.12"
  }
 },
 "nbformat": 4,
 "nbformat_minor": 2
}
