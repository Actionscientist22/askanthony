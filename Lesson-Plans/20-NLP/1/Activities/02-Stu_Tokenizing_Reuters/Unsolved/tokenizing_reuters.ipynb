{
 "cells": [
  {
   "cell_type": "code",
   "execution_count": null,
   "metadata": {},
   "outputs": [],
   "source": [
    "# Import the Reuters database from the nltk corpus \n",
    "from nltk.corpus import reuters\n",
    "# Import tokenizers and pandas\n",
    "from nltk.tokenize import sent_tokenize, word_tokenize\n",
    "import pandas as pd\n",
    "\n",
    "# Import nltk and download the Reuters corpora and the \"punkt\" sentence tokenizer.\n",
    "import nltk\n",
    "nltk.download('reuters')\n",
    "nltk.download('punkt')"
   ]
  },
  {
   "cell_type": "code",
   "execution_count": 2,
   "metadata": {},
   "outputs": [
    {
     "name": "stdout",
     "output_type": "stream",
     "text": [
      "['acq', 'alum', 'barley', 'bop', 'carcass', 'castor-oil', 'cocoa', 'coconut', 'coconut-oil', 'coffee', 'copper', 'copra-cake', 'corn', 'cotton', 'cotton-oil', 'cpi', 'cpu', 'crude', 'dfl', 'dlr', 'dmk', 'earn', 'fuel', 'gas', 'gnp', 'gold', 'grain', 'groundnut', 'groundnut-oil', 'heat', 'hog', 'housing', 'income', 'instal-debt', 'interest', 'ipi', 'iron-steel', 'jet', 'jobs', 'l-cattle', 'lead', 'lei', 'lin-oil', 'livestock', 'lumber', 'meal-feed', 'money-fx', 'money-supply', 'naphtha', 'nat-gas', 'nickel', 'nkr', 'nzdlr', 'oat', 'oilseed', 'orange', 'palladium', 'palm-oil', 'palmkernel', 'pet-chem', 'platinum', 'potato', 'propane', 'rand', 'rape-oil', 'rapeseed', 'reserves', 'retail', 'rice', 'rubber', 'rye', 'ship', 'silver', 'sorghum', 'soy-meal', 'soy-oil', 'soybean', 'strategic-metal', 'sugar', 'sun-meal', 'sun-oil', 'sunseed', 'tea', 'tin', 'trade', 'veg-oil', 'wheat', 'wpi', 'yen', 'zinc']\n"
     ]
    }
   ],
   "source": [
    "# Search through all categories\n"
   ]
  },
  {
   "cell_type": "code",
   "execution_count": 3,
   "metadata": {},
   "outputs": [
    {
     "name": "stdout",
     "output_type": "stream",
     "text": [
      "['test/16118', 'test/18534', 'test/18540', 'test/18664', 'test/18665', 'test/18672', 'test/18911', 'training/10602', 'training/10604', 'training/2618', 'training/7005', 'training/7006', 'training/7015', 'training/7036', 'training/7098', 'training/7099']\n"
     ]
    }
   ],
   "source": [
    "# Get all fileids associated with income.\n"
   ]
  },
  {
   "cell_type": "code",
   "execution_count": 4,
   "metadata": {},
   "outputs": [],
   "source": [
    "# Get all raw stories and the ids in separate lists.\n",
    "# Remove the \"test/\" from the ids so only the id number is retained.\n"
   ]
  },
  {
   "cell_type": "code",
   "execution_count": 5,
   "metadata": {},
   "outputs": [],
   "source": [
    "# Sentence tokenize the stories.\n"
   ]
  },
  {
   "cell_type": "code",
   "execution_count": 6,
   "metadata": {},
   "outputs": [],
   "source": [
    "# Word tokenize all sentences using for loops. \n",
    "# Create an empty list for the tokenized words\n",
    "\n",
    "# Write a for loop to get each story from the tokenized sentences.\n",
    "\n",
    "    # Write a for loop to get all words for each story and add the words to a list.\n",
    "\n",
    "    \n",
    "    # Append all words for each article to the word_tokenized list\n"
   ]
  },
  {
   "cell_type": "code",
   "execution_count": 7,
   "metadata": {},
   "outputs": [
    {
     "data": {
      "text/html": [
       "<div>\n",
       "<style scoped>\n",
       "    .dataframe tbody tr th:only-of-type {\n",
       "        vertical-align: middle;\n",
       "    }\n",
       "\n",
       "    .dataframe tbody tr th {\n",
       "        vertical-align: top;\n",
       "    }\n",
       "\n",
       "    .dataframe thead th {\n",
       "        text-align: right;\n",
       "    }\n",
       "</style>\n",
       "<table border=\"1\" class=\"dataframe\">\n",
       "  <thead>\n",
       "    <tr style=\"text-align: right;\">\n",
       "      <th></th>\n",
       "      <th>raw_stories</th>\n",
       "      <th>sentence_tokenized</th>\n",
       "      <th>word_tokenized</th>\n",
       "    </tr>\n",
       "  </thead>\n",
       "  <tbody>\n",
       "    <tr>\n",
       "      <th>16118</th>\n",
       "      <td>YUGOSLAV ECONOMY WORSENED IN 1986, BANK DATA S...</td>\n",
       "      <td>[YUGOSLAV ECONOMY WORSENED IN 1986, BANK DATA ...</td>\n",
       "      <td>[YUGOSLAV, ECONOMY, WORSENED, IN, 1986, ,, BAN...</td>\n",
       "    </tr>\n",
       "    <tr>\n",
       "      <th>18534</th>\n",
       "      <td>UK AVERAGE EARNINGS ROSE 6.5 PCT IN YEAR TO AP...</td>\n",
       "      <td>[UK AVERAGE EARNINGS ROSE 6.5 PCT IN YEAR TO A...</td>\n",
       "      <td>[UK, AVERAGE, EARNINGS, ROSE, 6.5, PCT, IN, YE...</td>\n",
       "    </tr>\n",
       "    <tr>\n",
       "      <th>18540</th>\n",
       "      <td>U.K. EARNINGS UP UNDERLYING 7.75 PCT IN APRIL\\...</td>\n",
       "      <td>[U.K. EARNINGS UP UNDERLYING 7.75 PCT IN APRIL...</td>\n",
       "      <td>[U.K., EARNINGS, UP, UNDERLYING, 7.75, PCT, IN...</td>\n",
       "    </tr>\n",
       "    <tr>\n",
       "      <th>18664</th>\n",
       "      <td>U.S. PERSONAL INCOME ROSE 0.2 PCT IN MAY, SPEN...</td>\n",
       "      <td>[U.S., PERSONAL INCOME ROSE 0.2 PCT IN MAY, SP...</td>\n",
       "      <td>[U.S, ., PERSONAL, INCOME, ROSE, 0.2, PCT, IN,...</td>\n",
       "    </tr>\n",
       "    <tr>\n",
       "      <th>18665</th>\n",
       "      <td>U.S. PERSONAL INCOME ROSE 0.2 PCT IN MAY\\n  U....</td>\n",
       "      <td>[U.S., PERSONAL INCOME ROSE 0.2 PCT IN MAY\\n  ...</td>\n",
       "      <td>[U.S, ., PERSONAL, INCOME, ROSE, 0.2, PCT, IN,...</td>\n",
       "    </tr>\n",
       "  </tbody>\n",
       "</table>\n",
       "</div>"
      ],
      "text/plain": [
       "                                             raw_stories  \\\n",
       "16118  YUGOSLAV ECONOMY WORSENED IN 1986, BANK DATA S...   \n",
       "18534  UK AVERAGE EARNINGS ROSE 6.5 PCT IN YEAR TO AP...   \n",
       "18540  U.K. EARNINGS UP UNDERLYING 7.75 PCT IN APRIL\\...   \n",
       "18664  U.S. PERSONAL INCOME ROSE 0.2 PCT IN MAY, SPEN...   \n",
       "18665  U.S. PERSONAL INCOME ROSE 0.2 PCT IN MAY\\n  U....   \n",
       "\n",
       "                                      sentence_tokenized  \\\n",
       "16118  [YUGOSLAV ECONOMY WORSENED IN 1986, BANK DATA ...   \n",
       "18534  [UK AVERAGE EARNINGS ROSE 6.5 PCT IN YEAR TO A...   \n",
       "18540  [U.K. EARNINGS UP UNDERLYING 7.75 PCT IN APRIL...   \n",
       "18664  [U.S., PERSONAL INCOME ROSE 0.2 PCT IN MAY, SP...   \n",
       "18665  [U.S., PERSONAL INCOME ROSE 0.2 PCT IN MAY\\n  ...   \n",
       "\n",
       "                                          word_tokenized  \n",
       "16118  [YUGOSLAV, ECONOMY, WORSENED, IN, 1986, ,, BAN...  \n",
       "18534  [UK, AVERAGE, EARNINGS, ROSE, 6.5, PCT, IN, YE...  \n",
       "18540  [U.K., EARNINGS, UP, UNDERLYING, 7.75, PCT, IN...  \n",
       "18664  [U.S, ., PERSONAL, INCOME, ROSE, 0.2, PCT, IN,...  \n",
       "18665  [U.S, ., PERSONAL, INCOME, ROSE, 0.2, PCT, IN,...  "
      ]
     },
     "execution_count": 7,
     "metadata": {},
     "output_type": "execute_result"
    }
   ],
   "source": [
    "# Put the raw stories, tokenized sentences, and words into a DataFrame.\n",
    "\n",
    "\n",
    "# Make the index the story ids.\n",
    "\n",
    "# Display the DataFrame\n"
   ]
  },
  {
   "cell_type": "code",
   "execution_count": null,
   "metadata": {},
   "outputs": [],
   "source": []
  }
 ],
 "metadata": {
  "kernelspec": {
   "display_name": "Python 3 (ipykernel)",
   "language": "python",
   "name": "python3"
  },
  "language_info": {
   "codemirror_mode": {
    "name": "ipython",
    "version": 3
   },
   "file_extension": ".py",
   "mimetype": "text/x-python",
   "name": "python",
   "nbconvert_exporter": "python",
   "pygments_lexer": "ipython3",
   "version": "3.10.12"
  }
 },
 "nbformat": 4,
 "nbformat_minor": 2
}
