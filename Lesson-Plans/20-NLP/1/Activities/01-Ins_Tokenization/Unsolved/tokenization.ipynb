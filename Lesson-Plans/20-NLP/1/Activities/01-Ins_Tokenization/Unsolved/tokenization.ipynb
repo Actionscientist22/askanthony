{
 "cells": [
  {
   "cell_type": "code",
   "execution_count": null,
   "metadata": {},
   "outputs": [],
   "source": [
    "# Import reuters database from the nltk corpus \n",
    "from nltk.corpus import reuters\n",
    "# Import tokenizers\n",
    "from nltk.tokenize import sent_tokenize, word_tokenize\n",
    "\n",
    "# Download the reuters corpora and the \"punkt\" sentence tokenizer.\n",
    "import nltk\n",
    "nltk.download(\"reuters\")\n",
    "nltk.download('punkt')"
   ]
  },
  {
   "cell_type": "markdown",
   "metadata": {},
   "source": [
    "## The NLTK Reuters corpus"
   ]
  },
  {
   "cell_type": "code",
   "execution_count": 2,
   "metadata": {},
   "outputs": [
    {
     "name": "stdout",
     "output_type": "stream",
     "text": [
      "['acq', 'alum', 'barley', 'bop', 'carcass', 'castor-oil', 'cocoa', 'coconut', 'coconut-oil', 'coffee', 'copper', 'copra-cake', 'corn', 'cotton', 'cotton-oil', 'cpi', 'cpu', 'crude', 'dfl', 'dlr', 'dmk', 'earn', 'fuel', 'gas', 'gnp', 'gold', 'grain', 'groundnut', 'groundnut-oil', 'heat', 'hog', 'housing', 'income', 'instal-debt', 'interest', 'ipi', 'iron-steel', 'jet', 'jobs', 'l-cattle', 'lead', 'lei', 'lin-oil', 'livestock', 'lumber', 'meal-feed', 'money-fx', 'money-supply', 'naphtha', 'nat-gas', 'nickel', 'nkr', 'nzdlr', 'oat', 'oilseed', 'orange', 'palladium', 'palm-oil', 'palmkernel', 'pet-chem', 'platinum', 'potato', 'propane', 'rand', 'rape-oil', 'rapeseed', 'reserves', 'retail', 'rice', 'rubber', 'rye', 'ship', 'silver', 'sorghum', 'soy-meal', 'soy-oil', 'soybean', 'strategic-metal', 'sugar', 'sun-meal', 'sun-oil', 'sunseed', 'tea', 'tin', 'trade', 'veg-oil', 'wheat', 'wpi', 'yen', 'zinc']\n"
     ]
    }
   ],
   "source": [
    "# The reuters corpus includes over 10,000 news articles, many of which are about financial markets\n",
    "# These articles are tagged by topic, or category\n",
    "# Get the categories\n",
    "print(reuters.categories())"
   ]
  },
  {
   "cell_type": "code",
   "execution_count": 3,
   "metadata": {},
   "outputs": [
    {
     "data": {
      "text/plain": [
       "'test/15095'"
      ]
     },
     "execution_count": 3,
     "metadata": {},
     "output_type": "execute_result"
    }
   ],
   "source": [
    "# We'll find the first article about cocoa.\n",
    "reuters.fileids(categories = 'cocoa')[0]"
   ]
  },
  {
   "cell_type": "code",
   "execution_count": 4,
   "metadata": {},
   "outputs": [
    {
     "name": "stdout",
     "output_type": "stream",
     "text": [
      "COCOA EXPORTERS EXPECTED TO LIMIT SALES\n",
      "  Major cocoa exporters are likely to\n",
      "  limit sales in the weeks ahead in an effort to boost world\n",
      "  prices, sources close to a meeting of the Cocoa Producers\n",
      "  Alliance (CPA) said.\n",
      "      The sources said the depressed world market had been one of\n",
      "  the main topics discussed in a closed door meeting of the\n",
      "  11-member CPA which began on Monday.\n",
      "      They said producers agreed that cutting sales would aid the\n",
      "  buffer stock manager of a new international cocoa pact in his\n",
      "  effort to support prices.\n",
      "      Major cocoa producing and consuming nations agreed\n",
      "  operation rules for the buffer stock at a meeting in London\n",
      "  last month and the stock manager is expected to enter the\n",
      "  market soon.\n",
      "      Prices, under the weight of three successive cocoa\n",
      "  surpluses, recently fell to the level at which the manager has\n",
      "  to buy cocoa under stock rules.\n",
      "      The buffer stock aims to keep prices within a pre-set range\n",
      "  by buying when prices fall and selling when they rise.\n",
      "      \"The world's cocoa price at present is just not interesting,\"\n",
      "  commented one delegate representing a major CPA producer.\n",
      "      Another source said that with much of the 1986/87\n",
      "  (October-September) world cocoa crop sold, limiting sales in\n",
      "  the near term concerns essentially next year's harvest.\n",
      "      The sources noted, however, that the cocoa industry in\n",
      "  Brazil, the world's number two producer, is in private hands.\n",
      "  This means limiting sales is more difficult than in major West\n",
      "  African producers, where sales are made or authorized by\n",
      "  commodity marketing boards.\n",
      "      The CPA includes the world's top three producers, Ivory\n",
      "  Coast, Brazil and Ghana, and accounts for 80 pct of all output.\n",
      "      The meeting here is due to end tomorrow evening.\n",
      "  \n",
      "\n",
      "\n"
     ]
    }
   ],
   "source": [
    "# Get the raw text from the first article. \n",
    "article = reuters.raw('test/15095')\n",
    "print(article)"
   ]
  },
  {
   "cell_type": "markdown",
   "metadata": {},
   "source": [
    "## Tokenizing with Python `split()`"
   ]
  },
  {
   "cell_type": "code",
   "execution_count": 5,
   "metadata": {},
   "outputs": [
    {
     "data": {
      "text/plain": [
       "['COCOA EXPORTERS EXPECTED TO LIMIT SALES\\n  Major cocoa exporters are likely to\\n  limit sales in the weeks ahead in an effort to boost world\\n  prices, sources close to a meeting of the Cocoa Producers\\n  Alliance (CPA) said',\n",
       " '\\n      The sources said the depressed world market had been one of\\n  the main topics discussed in a closed door meeting of the\\n  11-member CPA which began on Monday',\n",
       " '\\n      They said producers agreed that cutting sales would aid the\\n  buffer stock manager of a new international cocoa pact in his\\n  effort to support prices',\n",
       " '\\n      Major cocoa producing and consuming nations agreed\\n  operation rules for the buffer stock at a meeting in London\\n  last month and the stock manager is expected to enter the\\n  market soon',\n",
       " '\\n      Prices, under the weight of three successive cocoa\\n  surpluses, recently fell to the level at which the manager has\\n  to buy cocoa under stock rules',\n",
       " '\\n      The buffer stock aims to keep prices within a pre-set range\\n  by buying when prices fall and selling when they rise',\n",
       " '\\n      \"The world\\'s cocoa price at present is just not interesting,\"\\n  commented one delegate representing a major CPA producer',\n",
       " \"\\n      Another source said that with much of the 1986/87\\n  (October-September) world cocoa crop sold, limiting sales in\\n  the near term concerns essentially next year's harvest\",\n",
       " \"\\n      The sources noted, however, that the cocoa industry in\\n  Brazil, the world's number two producer, is in private hands\",\n",
       " '\\n  This means limiting sales is more difficult than in major West\\n  African producers, where sales are made or authorized by\\n  commodity marketing boards',\n",
       " \"\\n      The CPA includes the world's top three producers, Ivory\\n  Coast, Brazil and Ghana, and accounts for 80 pct of all output\",\n",
       " '\\n      The meeting here is due to end tomorrow evening',\n",
       " '\\n  \\n\\n']"
      ]
     },
     "execution_count": 5,
     "metadata": {},
     "output_type": "execute_result"
    }
   ],
   "source": [
    "# We can mimic tokenization first by using `split()` on the article.\n"
   ]
  },
  {
   "cell_type": "code",
   "execution_count": 11,
   "metadata": {},
   "outputs": [
    {
     "name": "stdout",
     "output_type": "stream",
     "text": [
      "['COCOA', 'EXPORTERS', 'EXPECTED', 'TO', 'LIMIT', 'SALES\\n', '', 'Major', 'cocoa', 'exporters', 'are', 'likely', 'to\\n', '', 'limit', 'sales', 'in', 'the', 'weeks', 'ahead', 'in', 'an', 'effort', 'to', 'boost', 'world\\n', '', 'prices,', 'sources', 'close', 'to', 'a', 'meeting', 'of', 'the', 'Cocoa', 'Producers\\n', '', 'Alliance', '(CPA)', 'said']\n"
     ]
    }
   ],
   "source": [
    "# Then we split the first sentence on the whitespace.\n"
   ]
  },
  {
   "cell_type": "markdown",
   "metadata": {},
   "source": [
    "## NLTK tokenization"
   ]
  },
  {
   "cell_type": "code",
   "execution_count": 7,
   "metadata": {},
   "outputs": [
    {
     "data": {
      "text/plain": [
       "['COCOA EXPORTERS EXPECTED TO LIMIT SALES\\n  Major cocoa exporters are likely to\\n  limit sales in the weeks ahead in an effort to boost world\\n  prices, sources close to a meeting of the Cocoa Producers\\n  Alliance (CPA) said.',\n",
       " 'The sources said the depressed world market had been one of\\n  the main topics discussed in a closed door meeting of the\\n  11-member CPA which began on Monday.',\n",
       " 'They said producers agreed that cutting sales would aid the\\n  buffer stock manager of a new international cocoa pact in his\\n  effort to support prices.',\n",
       " 'Major cocoa producing and consuming nations agreed\\n  operation rules for the buffer stock at a meeting in London\\n  last month and the stock manager is expected to enter the\\n  market soon.',\n",
       " 'Prices, under the weight of three successive cocoa\\n  surpluses, recently fell to the level at which the manager has\\n  to buy cocoa under stock rules.',\n",
       " 'The buffer stock aims to keep prices within a pre-set range\\n  by buying when prices fall and selling when they rise.',\n",
       " '\"The world\\'s cocoa price at present is just not interesting,\"\\n  commented one delegate representing a major CPA producer.',\n",
       " \"Another source said that with much of the 1986/87\\n  (October-September) world cocoa crop sold, limiting sales in\\n  the near term concerns essentially next year's harvest.\",\n",
       " \"The sources noted, however, that the cocoa industry in\\n  Brazil, the world's number two producer, is in private hands.\",\n",
       " 'This means limiting sales is more difficult than in major West\\n  African producers, where sales are made or authorized by\\n  commodity marketing boards.',\n",
       " \"The CPA includes the world's top three producers, Ivory\\n  Coast, Brazil and Ghana, and accounts for 80 pct of all output.\",\n",
       " 'The meeting here is due to end tomorrow evening.']"
      ]
     },
     "execution_count": 7,
     "metadata": {},
     "output_type": "execute_result"
    }
   ],
   "source": [
    "# NLTK tokenizes in similar way by using the `sent_tokenize` function\n"
   ]
  },
  {
   "cell_type": "code",
   "execution_count": 8,
   "metadata": {},
   "outputs": [
    {
     "name": "stdout",
     "output_type": "stream",
     "text": [
      "['COCOA', 'EXPORTERS', 'EXPECTED', 'TO', 'LIMIT', 'SALES', 'Major', 'cocoa', 'exporters', 'are', 'likely', 'to', 'limit', 'sales', 'in', 'the', 'weeks', 'ahead', 'in', 'an', 'effort', 'to', 'boost', 'world', 'prices', ',', 'sources', 'close', 'to', 'a', 'meeting', 'of', 'the', 'Cocoa', 'Producers', 'Alliance', '(', 'CPA', ')', 'said', '.']\n"
     ]
    }
   ],
   "source": [
    "# We can tokenize the first sentence with the `word_tokenize` function.\n"
   ]
  },
  {
   "cell_type": "markdown",
   "metadata": {},
   "source": [
    "**Question: What differences are there between using Python to split the sentence and tokenizer functions?**\n",
    "- Python: \n",
    "- NLTK tokenizer:  "
   ]
  },
  {
   "cell_type": "code",
   "execution_count": null,
   "metadata": {},
   "outputs": [],
   "source": []
  }
 ],
 "metadata": {
  "kernelspec": {
   "display_name": "Python 3 (ipykernel)",
   "language": "python",
   "name": "python3"
  },
  "language_info": {
   "codemirror_mode": {
    "name": "ipython",
    "version": 3
   },
   "file_extension": ".py",
   "mimetype": "text/x-python",
   "name": "python",
   "nbconvert_exporter": "python",
   "pygments_lexer": "ipython3",
   "version": "3.10.12"
  }
 },
 "nbformat": 4,
 "nbformat_minor": 2
}
