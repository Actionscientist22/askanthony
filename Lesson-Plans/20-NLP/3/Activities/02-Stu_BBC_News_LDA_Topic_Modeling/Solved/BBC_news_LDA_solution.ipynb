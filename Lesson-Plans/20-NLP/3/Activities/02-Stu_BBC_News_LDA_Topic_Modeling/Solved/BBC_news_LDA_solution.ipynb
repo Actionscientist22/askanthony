{
 "cells": [
  {
   "cell_type": "code",
   "execution_count": 1,
   "metadata": {},
   "outputs": [],
   "source": [
    "# Import the dependencies\n",
    "import re \n",
    "import pandas as pd\n",
    "import numpy as np\n",
    "from sklearn.feature_extraction.text import CountVectorizer\n",
    "from sklearn.decomposition import LatentDirichletAllocation\n",
    "# Set the maximum column width to 200. \n",
    "pd.set_option('max_colwidth', 200)"
   ]
  },
  {
   "cell_type": "code",
   "execution_count": 2,
   "metadata": {},
   "outputs": [
    {
     "data": {
      "text/html": [
       "<div>\n",
       "<style scoped>\n",
       "    .dataframe tbody tr th:only-of-type {\n",
       "        vertical-align: middle;\n",
       "    }\n",
       "\n",
       "    .dataframe tbody tr th {\n",
       "        vertical-align: top;\n",
       "    }\n",
       "\n",
       "    .dataframe thead th {\n",
       "        text-align: right;\n",
       "    }\n",
       "</style>\n",
       "<table border=\"1\" class=\"dataframe\">\n",
       "  <thead>\n",
       "    <tr style=\"text-align: right;\">\n",
       "      <th></th>\n",
       "      <th>news_summary</th>\n",
       "    </tr>\n",
       "  </thead>\n",
       "  <tbody>\n",
       "    <tr>\n",
       "      <th>0</th>\n",
       "      <td>According to the Financial Times, chief operating officer Peter Chernin said that News Corp is \"kicking the tires of pretty much all video games companies\".Video games are \"big business\", the pape...</td>\n",
       "    </tr>\n",
       "    <tr>\n",
       "      <th>1</th>\n",
       "      <td>Asahi is predicting profits to rise 50% in 2005 as it launches a drink based on soybean peptides rather than malt.Japanese brewers are increasingly making money from beer-flavoured drinks rather t...</td>\n",
       "    </tr>\n",
       "    <tr>\n",
       "      <th>2</th>\n",
       "      <td>It could cost £80m to run a UK referendum on the European constitution, ministers have revealed.Mr Leslie said the cost could not be compared with the only previous British referendum, held 30 yea...</td>\n",
       "    </tr>\n",
       "    <tr>\n",
       "      <th>3</th>\n",
       "      <td>Yukos has said a US bankruptcy court will decide whether to block Russia's impending auction of its main production arm on Thursday.Filing for bankruptcy protection in the US was \"a last resort to...</td>\n",
       "    </tr>\n",
       "    <tr>\n",
       "      <th>4</th>\n",
       "      <td>Wasps scrum-half Matt Dawson has been recalled to England's training squad ahead of the RBS Six Nations and been reinstated in the Elite Player Squad.Balshaw, Cohen, Cueto, Lewsey, Robinson, Simps...</td>\n",
       "    </tr>\n",
       "    <tr>\n",
       "      <th>5</th>\n",
       "      <td>Murder sentences should not be reduced automatically simply because of a guilty plea, says a new MPs' report.MPs criticised Home Secretary David Blunkett last year for introducing last-minute rule...</td>\n",
       "    </tr>\n",
       "    <tr>\n",
       "      <th>6</th>\n",
       "      <td>Labour MP Diane Abbot, who backs Mr Phillips' proposal of shortlists, said she had been elected along with three other ethnic minority MPs - Keith Vaz, Paul Boateng and Bernie Grant - in 1987 but ...</td>\n",
       "    </tr>\n",
       "    <tr>\n",
       "      <th>7</th>\n",
       "      <td>Flanker Colin Charvis is unlikely to play any part in Wales' final two games of the Six Nations.\"He will not figure in the Scotland game and is now thought unlikely to be ready for the final game,...</td>\n",
       "    </tr>\n",
       "    <tr>\n",
       "      <th>8</th>\n",
       "      <td>Therefore, it may be preferable for parents to contribute to the Child Trust Fund which is tax free, with any gifts from relatives that take the total above the annual £1,200 limit being directed ...</td>\n",
       "    </tr>\n",
       "    <tr>\n",
       "      <th>9</th>\n",
       "      <td>S Best (Ulster), S Byrne (Leinster), R Corrigan (Leinster), L Cullen (Leinster), S Easterby (Llanelli), A Foley (Munster), J Hayes (Munster), M Horan (Munster), B Jackman (Connacht), D Leamy (Muns...</td>\n",
       "    </tr>\n",
       "    <tr>\n",
       "      <th>10</th>\n",
       "      <td>But Kelly said she was \"very nervous\" about meeting Dame Julie because she was \"my absolute hero\".Mary Poppins star Dame Julie Andrews watched the hit stage version of her classic film at a charit...</td>\n",
       "    </tr>\n",
       "    <tr>\n",
       "      <th>11</th>\n",
       "      <td>The other is China Construction Bank.The latest scandal at Bank of China will do nothing to reassure foreign investors that China's big four banks are ready for international listings.Bank of Chin...</td>\n",
       "    </tr>\n",
       "    <tr>\n",
       "      <th>12</th>\n",
       "      <td>The event may have been designed to highlight Labour's economic success under Mr Brown, but there was little doubt who was in charge.But it was Mr Milburn who took centre stage, speaking of the \"p...</td>\n",
       "    </tr>\n",
       "    <tr>\n",
       "      <th>13</th>\n",
       "      <td>Organisers were widely considered to be playing it safe this year by booking 62-year-old Sir Paul for his second Super Bowl show.After the controversy last year - which saw CBS fined a record $550...</td>\n",
       "    </tr>\n",
       "    <tr>\n",
       "      <th>14</th>\n",
       "      <td>In October 2004, Manchester United said they had received a \"preliminary approach\", which turned out to have come from Mr Glazer.A previous approach to the United board by Mr Glazer in October las...</td>\n",
       "    </tr>\n",
       "    <tr>\n",
       "      <th>15</th>\n",
       "      <td>The ministry said that it wanted to increase Iraq's \"very low telephone service penetration rate from about 4.5% today to about 25% within 10 years.\"Bids have been invited from local, Arab and for...</td>\n",
       "    </tr>\n",
       "    <tr>\n",
       "      <th>16</th>\n",
       "      <td>It has filed 100 lawsuits against operators of BitTorrent server sites since December.In BitTorrent systems, server sites do not host the files being shared.It is the latest network which uses the...</td>\n",
       "    </tr>\n",
       "    <tr>\n",
       "      <th>17</th>\n",
       "      <td>Venezuela has also offered to supply 120,000 barrels of fuel oil a month to China.China has been a net importer of oil since the mid 1990's with more than a third of the oil and gas it consumes co...</td>\n",
       "    </tr>\n",
       "    <tr>\n",
       "      <th>18</th>\n",
       "      <td>US actor Jamie Foxx has been given two nominations for Golden Globe awards, with Meryl Streep, Morgan Freeman and Cate Blanchett also up for prizes.The Golden Globes, Hollywood's second most promi...</td>\n",
       "    </tr>\n",
       "    <tr>\n",
       "      <th>19</th>\n",
       "      <td>A breakdown of the latest production figures shows mining output drove the increase, surging 2.1%, while factory output rose 0.3%.The US Federal Reserve said output from factories, mines and utili...</td>\n",
       "    </tr>\n",
       "  </tbody>\n",
       "</table>\n",
       "</div>"
      ],
      "text/plain": [
       "                                                                                                                                                                                               news_summary\n",
       "0   According to the Financial Times, chief operating officer Peter Chernin said that News Corp is \"kicking the tires of pretty much all video games companies\".Video games are \"big business\", the pape...\n",
       "1   Asahi is predicting profits to rise 50% in 2005 as it launches a drink based on soybean peptides rather than malt.Japanese brewers are increasingly making money from beer-flavoured drinks rather t...\n",
       "2   It could cost £80m to run a UK referendum on the European constitution, ministers have revealed.Mr Leslie said the cost could not be compared with the only previous British referendum, held 30 yea...\n",
       "3   Yukos has said a US bankruptcy court will decide whether to block Russia's impending auction of its main production arm on Thursday.Filing for bankruptcy protection in the US was \"a last resort to...\n",
       "4   Wasps scrum-half Matt Dawson has been recalled to England's training squad ahead of the RBS Six Nations and been reinstated in the Elite Player Squad.Balshaw, Cohen, Cueto, Lewsey, Robinson, Simps...\n",
       "5   Murder sentences should not be reduced automatically simply because of a guilty plea, says a new MPs' report.MPs criticised Home Secretary David Blunkett last year for introducing last-minute rule...\n",
       "6   Labour MP Diane Abbot, who backs Mr Phillips' proposal of shortlists, said she had been elected along with three other ethnic minority MPs - Keith Vaz, Paul Boateng and Bernie Grant - in 1987 but ...\n",
       "7   Flanker Colin Charvis is unlikely to play any part in Wales' final two games of the Six Nations.\"He will not figure in the Scotland game and is now thought unlikely to be ready for the final game,...\n",
       "8   Therefore, it may be preferable for parents to contribute to the Child Trust Fund which is tax free, with any gifts from relatives that take the total above the annual £1,200 limit being directed ...\n",
       "9   S Best (Ulster), S Byrne (Leinster), R Corrigan (Leinster), L Cullen (Leinster), S Easterby (Llanelli), A Foley (Munster), J Hayes (Munster), M Horan (Munster), B Jackman (Connacht), D Leamy (Muns...\n",
       "10  But Kelly said she was \"very nervous\" about meeting Dame Julie because she was \"my absolute hero\".Mary Poppins star Dame Julie Andrews watched the hit stage version of her classic film at a charit...\n",
       "11  The other is China Construction Bank.The latest scandal at Bank of China will do nothing to reassure foreign investors that China's big four banks are ready for international listings.Bank of Chin...\n",
       "12  The event may have been designed to highlight Labour's economic success under Mr Brown, but there was little doubt who was in charge.But it was Mr Milburn who took centre stage, speaking of the \"p...\n",
       "13  Organisers were widely considered to be playing it safe this year by booking 62-year-old Sir Paul for his second Super Bowl show.After the controversy last year - which saw CBS fined a record $550...\n",
       "14  In October 2004, Manchester United said they had received a \"preliminary approach\", which turned out to have come from Mr Glazer.A previous approach to the United board by Mr Glazer in October las...\n",
       "15  The ministry said that it wanted to increase Iraq's \"very low telephone service penetration rate from about 4.5% today to about 25% within 10 years.\"Bids have been invited from local, Arab and for...\n",
       "16  It has filed 100 lawsuits against operators of BitTorrent server sites since December.In BitTorrent systems, server sites do not host the files being shared.It is the latest network which uses the...\n",
       "17  Venezuela has also offered to supply 120,000 barrels of fuel oil a month to China.China has been a net importer of oil since the mid 1990's with more than a third of the oil and gas it consumes co...\n",
       "18  US actor Jamie Foxx has been given two nominations for Golden Globe awards, with Meryl Streep, Morgan Freeman and Cate Blanchett also up for prizes.The Golden Globes, Hollywood's second most promi...\n",
       "19  A breakdown of the latest production figures shows mining output drove the increase, surging 2.1%, while factory output rose 0.3%.The US Federal Reserve said output from factories, mines and utili..."
      ]
     },
     "execution_count": 2,
     "metadata": {},
     "output_type": "execute_result"
    }
   ],
   "source": [
    "# Read the bbc_news_articles.csv file into a DataFrame.\n",
    "news_articles_df = pd.read_csv('Resources/bbc_news_articles.csv')\n",
    "# Display the first 20 rows. \n",
    "news_articles_df.head(20)"
   ]
  },
  {
   "cell_type": "markdown",
   "metadata": {},
   "source": [
    "## Preprocessing"
   ]
  },
  {
   "cell_type": "code",
   "execution_count": 3,
   "metadata": {},
   "outputs": [
    {
     "name": "stdout",
     "output_type": "stream",
     "text": [
      "<class 'pandas.core.frame.DataFrame'>\n",
      "RangeIndex: 2225 entries, 0 to 2224\n",
      "Data columns (total 1 columns):\n",
      " #   Column        Non-Null Count  Dtype \n",
      "---  ------        --------------  ----- \n",
      " 0   news_summary  2225 non-null   object\n",
      "dtypes: object(1)\n",
      "memory usage: 17.5+ KB\n"
     ]
    }
   ],
   "source": [
    "# Check for null values.\n",
    "news_articles_df.info()"
   ]
  },
  {
   "cell_type": "code",
   "execution_count": 4,
   "metadata": {},
   "outputs": [
    {
     "data": {
      "text/html": [
       "<div>\n",
       "<style scoped>\n",
       "    .dataframe tbody tr th:only-of-type {\n",
       "        vertical-align: middle;\n",
       "    }\n",
       "\n",
       "    .dataframe tbody tr th {\n",
       "        vertical-align: top;\n",
       "    }\n",
       "\n",
       "    .dataframe thead th {\n",
       "        text-align: right;\n",
       "    }\n",
       "</style>\n",
       "<table border=\"1\" class=\"dataframe\">\n",
       "  <thead>\n",
       "    <tr style=\"text-align: right;\">\n",
       "      <th></th>\n",
       "      <th>news_summary</th>\n",
       "    </tr>\n",
       "  </thead>\n",
       "  <tbody>\n",
       "    <tr>\n",
       "      <th>0</th>\n",
       "      <td>According to the Financial Times chief operating officer Peter Chernin said that News Corp is kicking the tires of pretty much all video games companiesVideo games are big business the paper quote...</td>\n",
       "    </tr>\n",
       "    <tr>\n",
       "      <th>1</th>\n",
       "      <td>Asahi is predicting profits to rise  in  as it launches a drink based on soybean peptides rather than maltJapanese brewers are increasingly making money from beerflavoured drinks rather than beer ...</td>\n",
       "    </tr>\n",
       "    <tr>\n",
       "      <th>2</th>\n",
       "      <td>It could cost m to run a UK referendum on the European constitution ministers have revealedMr Leslie said the cost could not be compared with the only previous British referendum held  years agoIn...</td>\n",
       "    </tr>\n",
       "    <tr>\n",
       "      <th>3</th>\n",
       "      <td>Yukos has said a US bankruptcy court will decide whether to block Russias impending auction of its main production arm on ThursdayFiling for bankruptcy protection in the US was a last resort to pr...</td>\n",
       "    </tr>\n",
       "    <tr>\n",
       "      <th>4</th>\n",
       "      <td>Wasps scrumhalf Matt Dawson has been recalled to Englands training squad ahead of the RBS Six Nations and been reinstated in the Elite Player SquadBalshaw Cohen Cueto Lewsey Robinson SimpsonDaniel...</td>\n",
       "    </tr>\n",
       "    <tr>\n",
       "      <th>5</th>\n",
       "      <td>Murder sentences should not be reduced automatically simply because of a guilty plea says a new MPs reportMPs criticised Home Secretary David Blunkett last year for introducing lastminute rules al...</td>\n",
       "    </tr>\n",
       "    <tr>\n",
       "      <th>6</th>\n",
       "      <td>Labour MP Diane Abbot who backs Mr Phillips proposal of shortlists said she had been elected along with three other ethnic minority MPs  Keith Vaz Paul Boateng and Bernie Grant  in  but it took an...</td>\n",
       "    </tr>\n",
       "    <tr>\n",
       "      <th>7</th>\n",
       "      <td>Flanker Colin Charvis is unlikely to play any part in Wales final two games of the Six NationsHe will not figure in the Scotland game and is now thought unlikely to be ready for the final game sai...</td>\n",
       "    </tr>\n",
       "    <tr>\n",
       "      <th>8</th>\n",
       "      <td>Therefore it may be preferable for parents to contribute to the Child Trust Fund which is tax free with any gifts from relatives that take the total above the annual  limit being directed to a dep...</td>\n",
       "    </tr>\n",
       "    <tr>\n",
       "      <th>9</th>\n",
       "      <td>S Best Ulster S Byrne Leinster R Corrigan Leinster L Cullen Leinster S Easterby Llanelli A Foley Munster J Hayes Munster M Horan Munster B Jackman Connacht D Leamy Munster E Miller Leinster R McCo...</td>\n",
       "    </tr>\n",
       "  </tbody>\n",
       "</table>\n",
       "</div>"
      ],
      "text/plain": [
       "                                                                                                                                                                                              news_summary\n",
       "0  According to the Financial Times chief operating officer Peter Chernin said that News Corp is kicking the tires of pretty much all video games companiesVideo games are big business the paper quote...\n",
       "1  Asahi is predicting profits to rise  in  as it launches a drink based on soybean peptides rather than maltJapanese brewers are increasingly making money from beerflavoured drinks rather than beer ...\n",
       "2  It could cost m to run a UK referendum on the European constitution ministers have revealedMr Leslie said the cost could not be compared with the only previous British referendum held  years agoIn...\n",
       "3  Yukos has said a US bankruptcy court will decide whether to block Russias impending auction of its main production arm on ThursdayFiling for bankruptcy protection in the US was a last resort to pr...\n",
       "4  Wasps scrumhalf Matt Dawson has been recalled to Englands training squad ahead of the RBS Six Nations and been reinstated in the Elite Player SquadBalshaw Cohen Cueto Lewsey Robinson SimpsonDaniel...\n",
       "5  Murder sentences should not be reduced automatically simply because of a guilty plea says a new MPs reportMPs criticised Home Secretary David Blunkett last year for introducing lastminute rules al...\n",
       "6  Labour MP Diane Abbot who backs Mr Phillips proposal of shortlists said she had been elected along with three other ethnic minority MPs  Keith Vaz Paul Boateng and Bernie Grant  in  but it took an...\n",
       "7  Flanker Colin Charvis is unlikely to play any part in Wales final two games of the Six NationsHe will not figure in the Scotland game and is now thought unlikely to be ready for the final game sai...\n",
       "8  Therefore it may be preferable for parents to contribute to the Child Trust Fund which is tax free with any gifts from relatives that take the total above the annual  limit being directed to a dep...\n",
       "9  S Best Ulster S Byrne Leinster R Corrigan Leinster L Cullen Leinster S Easterby Llanelli A Foley Munster J Hayes Munster M Horan Munster B Jackman Connacht D Leamy Munster E Miller Leinster R McCo..."
      ]
     },
     "execution_count": 4,
     "metadata": {},
     "output_type": "execute_result"
    }
   ],
   "source": [
    "# Remove numbers and non-alphabetic characters from the news_summary column.\n",
    "news_articles_df['news_summary'] = news_articles_df['news_summary'].apply(lambda x: re.sub(r'[^a-zA-Z\\s ]', '', str(x)))\n",
    "news_articles_df.head(10)"
   ]
  },
  {
   "cell_type": "markdown",
   "metadata": {},
   "source": [
    "## Process the Text to Tokens and Counts."
   ]
  },
  {
   "cell_type": "code",
   "execution_count": 5,
   "metadata": {},
   "outputs": [
    {
     "data": {
      "text/html": [
       "<style>#sk-container-id-1 {color: black;background-color: white;}#sk-container-id-1 pre{padding: 0;}#sk-container-id-1 div.sk-toggleable {background-color: white;}#sk-container-id-1 label.sk-toggleable__label {cursor: pointer;display: block;width: 100%;margin-bottom: 0;padding: 0.3em;box-sizing: border-box;text-align: center;}#sk-container-id-1 label.sk-toggleable__label-arrow:before {content: \"▸\";float: left;margin-right: 0.25em;color: #696969;}#sk-container-id-1 label.sk-toggleable__label-arrow:hover:before {color: black;}#sk-container-id-1 div.sk-estimator:hover label.sk-toggleable__label-arrow:before {color: black;}#sk-container-id-1 div.sk-toggleable__content {max-height: 0;max-width: 0;overflow: hidden;text-align: left;background-color: #f0f8ff;}#sk-container-id-1 div.sk-toggleable__content pre {margin: 0.2em;color: black;border-radius: 0.25em;background-color: #f0f8ff;}#sk-container-id-1 input.sk-toggleable__control:checked~div.sk-toggleable__content {max-height: 200px;max-width: 100%;overflow: auto;}#sk-container-id-1 input.sk-toggleable__control:checked~label.sk-toggleable__label-arrow:before {content: \"▾\";}#sk-container-id-1 div.sk-estimator input.sk-toggleable__control:checked~label.sk-toggleable__label {background-color: #d4ebff;}#sk-container-id-1 div.sk-label input.sk-toggleable__control:checked~label.sk-toggleable__label {background-color: #d4ebff;}#sk-container-id-1 input.sk-hidden--visually {border: 0;clip: rect(1px 1px 1px 1px);clip: rect(1px, 1px, 1px, 1px);height: 1px;margin: -1px;overflow: hidden;padding: 0;position: absolute;width: 1px;}#sk-container-id-1 div.sk-estimator {font-family: monospace;background-color: #f0f8ff;border: 1px dotted black;border-radius: 0.25em;box-sizing: border-box;margin-bottom: 0.5em;}#sk-container-id-1 div.sk-estimator:hover {background-color: #d4ebff;}#sk-container-id-1 div.sk-parallel-item::after {content: \"\";width: 100%;border-bottom: 1px solid gray;flex-grow: 1;}#sk-container-id-1 div.sk-label:hover label.sk-toggleable__label {background-color: #d4ebff;}#sk-container-id-1 div.sk-serial::before {content: \"\";position: absolute;border-left: 1px solid gray;box-sizing: border-box;top: 0;bottom: 0;left: 50%;z-index: 0;}#sk-container-id-1 div.sk-serial {display: flex;flex-direction: column;align-items: center;background-color: white;padding-right: 0.2em;padding-left: 0.2em;position: relative;}#sk-container-id-1 div.sk-item {position: relative;z-index: 1;}#sk-container-id-1 div.sk-parallel {display: flex;align-items: stretch;justify-content: center;background-color: white;position: relative;}#sk-container-id-1 div.sk-item::before, #sk-container-id-1 div.sk-parallel-item::before {content: \"\";position: absolute;border-left: 1px solid gray;box-sizing: border-box;top: 0;bottom: 0;left: 50%;z-index: -1;}#sk-container-id-1 div.sk-parallel-item {display: flex;flex-direction: column;z-index: 1;position: relative;background-color: white;}#sk-container-id-1 div.sk-parallel-item:first-child::after {align-self: flex-end;width: 50%;}#sk-container-id-1 div.sk-parallel-item:last-child::after {align-self: flex-start;width: 50%;}#sk-container-id-1 div.sk-parallel-item:only-child::after {width: 0;}#sk-container-id-1 div.sk-dashed-wrapped {border: 1px dashed gray;margin: 0 0.4em 0.5em 0.4em;box-sizing: border-box;padding-bottom: 0.4em;background-color: white;}#sk-container-id-1 div.sk-label label {font-family: monospace;font-weight: bold;display: inline-block;line-height: 1.2em;}#sk-container-id-1 div.sk-label-container {text-align: center;}#sk-container-id-1 div.sk-container {/* jupyter's `normalize.less` sets `[hidden] { display: none; }` but bootstrap.min.css set `[hidden] { display: none !important; }` so we also need the `!important` here to be able to override the default hidden behavior on the sphinx rendered scikit-learn.org. See: https://github.com/scikit-learn/scikit-learn/issues/21755 */display: inline-block !important;position: relative;}#sk-container-id-1 div.sk-text-repr-fallback {display: none;}</style><div id=\"sk-container-id-1\" class=\"sk-top-container\"><div class=\"sk-text-repr-fallback\"><pre>CountVectorizer(max_df=0.95, min_df=5, stop_words=&#x27;english&#x27;)</pre><b>In a Jupyter environment, please rerun this cell to show the HTML representation or trust the notebook. <br />On GitHub, the HTML representation is unable to render, please try loading this page with nbviewer.org.</b></div><div class=\"sk-container\" hidden><div class=\"sk-item\"><div class=\"sk-estimator sk-toggleable\"><input class=\"sk-toggleable__control sk-hidden--visually\" id=\"sk-estimator-id-1\" type=\"checkbox\" checked><label for=\"sk-estimator-id-1\" class=\"sk-toggleable__label sk-toggleable__label-arrow\">CountVectorizer</label><div class=\"sk-toggleable__content\"><pre>CountVectorizer(max_df=0.95, min_df=5, stop_words=&#x27;english&#x27;)</pre></div></div></div></div></div>"
      ],
      "text/plain": [
       "CountVectorizer(max_df=0.95, min_df=5, stop_words='english')"
      ]
     },
     "execution_count": 5,
     "metadata": {},
     "output_type": "execute_result"
    }
   ],
   "source": [
    "# Create an instance of the CountVectorizer and set the max_df to 0.95 and min_df to 5, and use the \"english\" stopwords.\n",
    "cv = CountVectorizer(max_df=0.95, min_df=5, stop_words='english')\n",
    "cv"
   ]
  },
  {
   "cell_type": "code",
   "execution_count": 6,
   "metadata": {},
   "outputs": [
    {
     "name": "stdout",
     "output_type": "stream",
     "text": [
      "(2225, 5172)\n"
     ]
    }
   ],
   "source": [
    "# Transform each row from the news_summary to a DTM.\n",
    "dtm = cv.fit_transform(news_articles_df['news_summary'])\n",
    "# Get the shape of the DTM.\n",
    "print(dtm.shape)"
   ]
  },
  {
   "cell_type": "markdown",
   "metadata": {},
   "source": [
    "## LDA"
   ]
  },
  {
   "cell_type": "code",
   "execution_count": 7,
   "metadata": {},
   "outputs": [],
   "source": [
    "# Create and instance of the LatentDirichletAllocation() class with 5 topics.\n",
    "LDA = LatentDirichletAllocation(n_components=5,random_state=42)\n",
    "# Fit the model with our DTM data.\n",
    "LDA_data = LDA.fit(dtm)"
   ]
  },
  {
   "cell_type": "code",
   "execution_count": 8,
   "metadata": {},
   "outputs": [
    {
     "data": {
      "text/plain": [
       "5172"
      ]
     },
     "execution_count": 8,
     "metadata": {},
     "output_type": "execute_result"
    }
   ],
   "source": [
    "# Check the length of the vocabulary \n",
    "len(cv.get_feature_names_out())"
   ]
  },
  {
   "cell_type": "markdown",
   "metadata": {
    "collapsed": true
   },
   "source": [
    "## Get the Top 15 Words Per Topic"
   ]
  },
  {
   "cell_type": "code",
   "execution_count": 9,
   "metadata": {},
   "outputs": [
    {
     "name": "stdout",
     "output_type": "stream",
     "text": [
      "The Top 15 Words For Topic #1\n",
      "['actress', 'years', 'told', 'time', 'star', 'actor', 'new', 'game', 'director', 'games', 'lord', 'mr', 'best', 'film', 'said']\n",
      "\n",
      "\n",
      "The Top 15 Words For Topic #2\n",
      "['wales', 'cup', 'play', 'years', 'number', 'second', 'won', 'england', 'new', 'win', 'music', 'world', 'game', 'best', 'said']\n",
      "\n",
      "\n",
      "The Top 15 Words For Topic #3\n",
      "['foreign', 'mr', 'new', 'uk', 'oil', 'economic', 'company', 'sales', 'economy', 'market', 'bank', 'growth', 'year', 'bn', 'said']\n",
      "\n",
      "\n",
      "The Top 15 Words For Topic #4\n",
      "['says', 'tax', 'howard', 'told', 'minister', 'new', 'brown', 'party', 'election', 'labour', 'blair', 'government', 'people', 'mr', 'said']\n",
      "\n",
      "\n",
      "The Top 15 Words For Topic #5\n",
      "['users', 'million', 'net', 'make', 'video', 'use', 'phone', 'digital', 'tv', 'music', 'technology', 'new', 'mobile', 'people', 'said']\n",
      "\n",
      "\n"
     ]
    }
   ],
   "source": [
    "# Print the top 15 words for each topic.\n",
    "for index,topic in enumerate(LDA.components_):\n",
    "    print(f'The Top 15 Words For Topic #{index+1}')\n",
    "    print([cv.get_feature_names_out()[i] for i in topic.argsort()[-15:]])\n",
    "    print('\\n')"
   ]
  },
  {
   "cell_type": "markdown",
   "metadata": {},
   "source": [
    "### **Question:** What is the label for each topic? \n",
    "---\n",
    "- TOPIC 1: Entertainment\n",
    "- TOPIC 2: Sports\n",
    "- TOPIC 3: Business\n",
    "- TOPIC 4: Politics\n",
    "- TOPIC 5: Technology"
   ]
  },
  {
   "cell_type": "markdown",
   "metadata": {},
   "source": [
    "## Assign the Topics and Labels to the News Summaries"
   ]
  },
  {
   "cell_type": "code",
   "execution_count": 10,
   "metadata": {},
   "outputs": [
    {
     "data": {
      "text/plain": [
       "(2225, 5)"
      ]
     },
     "execution_count": 10,
     "metadata": {},
     "output_type": "execute_result"
    }
   ],
   "source": [
    "# Transform our DTM so we get an array with the (number_of_documents, number_of_topics).\n",
    "topic_results = LDA.transform(dtm)\n",
    "\n",
    "# Get the shape of the topic results\n",
    "topic_results.shape"
   ]
  },
  {
   "cell_type": "code",
   "execution_count": 11,
   "metadata": {},
   "outputs": [
    {
     "data": {
      "text/html": [
       "<div>\n",
       "<style scoped>\n",
       "    .dataframe tbody tr th:only-of-type {\n",
       "        vertical-align: middle;\n",
       "    }\n",
       "\n",
       "    .dataframe tbody tr th {\n",
       "        vertical-align: top;\n",
       "    }\n",
       "\n",
       "    .dataframe thead th {\n",
       "        text-align: right;\n",
       "    }\n",
       "</style>\n",
       "<table border=\"1\" class=\"dataframe\">\n",
       "  <thead>\n",
       "    <tr style=\"text-align: right;\">\n",
       "      <th></th>\n",
       "      <th>news_summary</th>\n",
       "    </tr>\n",
       "  </thead>\n",
       "  <tbody>\n",
       "    <tr>\n",
       "      <th>0</th>\n",
       "      <td>According to the Financial Times, chief operating officer Peter Chernin said that News Corp is \"kicking the tires of pretty much all video games companies\".Video games are \"big business\", the pape...</td>\n",
       "    </tr>\n",
       "    <tr>\n",
       "      <th>1</th>\n",
       "      <td>Asahi is predicting profits to rise 50% in 2005 as it launches a drink based on soybean peptides rather than malt.Japanese brewers are increasingly making money from beer-flavoured drinks rather t...</td>\n",
       "    </tr>\n",
       "    <tr>\n",
       "      <th>2</th>\n",
       "      <td>It could cost £80m to run a UK referendum on the European constitution, ministers have revealed.Mr Leslie said the cost could not be compared with the only previous British referendum, held 30 yea...</td>\n",
       "    </tr>\n",
       "    <tr>\n",
       "      <th>3</th>\n",
       "      <td>Yukos has said a US bankruptcy court will decide whether to block Russia's impending auction of its main production arm on Thursday.Filing for bankruptcy protection in the US was \"a last resort to...</td>\n",
       "    </tr>\n",
       "    <tr>\n",
       "      <th>4</th>\n",
       "      <td>Wasps scrum-half Matt Dawson has been recalled to England's training squad ahead of the RBS Six Nations and been reinstated in the Elite Player Squad.Balshaw, Cohen, Cueto, Lewsey, Robinson, Simps...</td>\n",
       "    </tr>\n",
       "  </tbody>\n",
       "</table>\n",
       "</div>"
      ],
      "text/plain": [
       "                                                                                                                                                                                              news_summary\n",
       "0  According to the Financial Times, chief operating officer Peter Chernin said that News Corp is \"kicking the tires of pretty much all video games companies\".Video games are \"big business\", the pape...\n",
       "1  Asahi is predicting profits to rise 50% in 2005 as it launches a drink based on soybean peptides rather than malt.Japanese brewers are increasingly making money from beer-flavoured drinks rather t...\n",
       "2  It could cost £80m to run a UK referendum on the European constitution, ministers have revealed.Mr Leslie said the cost could not be compared with the only previous British referendum, held 30 yea...\n",
       "3  Yukos has said a US bankruptcy court will decide whether to block Russia's impending auction of its main production arm on Thursday.Filing for bankruptcy protection in the US was \"a last resort to...\n",
       "4  Wasps scrum-half Matt Dawson has been recalled to England's training squad ahead of the RBS Six Nations and been reinstated in the Elite Player Squad.Balshaw, Cohen, Cueto, Lewsey, Robinson, Simps..."
      ]
     },
     "execution_count": 11,
     "metadata": {},
     "output_type": "execute_result"
    }
   ],
   "source": [
    "# Read the bbc_news_articles.csv file into a DataFrame.\n",
    "news_articles_df = pd.read_csv('Resources/bbc_news_articles.csv')\n",
    "# Display the DataFrame. \n",
    "news_articles_df.head()"
   ]
  },
  {
   "cell_type": "code",
   "execution_count": 12,
   "metadata": {},
   "outputs": [],
   "source": [
    "# Use the add_topic_labels function to add the topic and topic label to each news summary. \n",
    "# Dictionary of  topics and topic label.\n",
    "topic_labels = {\n",
    "    1: 'Entertainment',\n",
    "    2: 'Sports',\n",
    "    3: 'Business',\n",
    "    4: 'Politics',\n",
    "    5: 'Technology'\n",
    "}\n",
    "\n",
    "# Define the function and pass in the DataFrame, the topic_results, and topic_labels dictionary.\n",
    "def add_topic_labels(df, topic_results, topic_labels):\n",
    "    # Find the dominant topic for each document and add the label to a new column\n",
    "    df['topic'] = topic_results.argmax(axis=1) + 1\n",
    "    # Use the map function to add the topic label to the news summary based on the topic number.\n",
    "    df['topic_label'] = df['topic'].map(topic_labels)\n"
   ]
  },
  {
   "cell_type": "code",
   "execution_count": 13,
   "metadata": {},
   "outputs": [],
   "source": [
    "# Call the function to add topic labels to your DataFrame.\n",
    "add_topic_labels(news_articles_df, topic_results, topic_labels)"
   ]
  },
  {
   "cell_type": "code",
   "execution_count": 14,
   "metadata": {},
   "outputs": [
    {
     "data": {
      "text/html": [
       "<div>\n",
       "<style scoped>\n",
       "    .dataframe tbody tr th:only-of-type {\n",
       "        vertical-align: middle;\n",
       "    }\n",
       "\n",
       "    .dataframe tbody tr th {\n",
       "        vertical-align: top;\n",
       "    }\n",
       "\n",
       "    .dataframe thead th {\n",
       "        text-align: right;\n",
       "    }\n",
       "</style>\n",
       "<table border=\"1\" class=\"dataframe\">\n",
       "  <thead>\n",
       "    <tr style=\"text-align: right;\">\n",
       "      <th></th>\n",
       "      <th>news_summary</th>\n",
       "      <th>topic</th>\n",
       "      <th>topic_label</th>\n",
       "    </tr>\n",
       "  </thead>\n",
       "  <tbody>\n",
       "    <tr>\n",
       "      <th>0</th>\n",
       "      <td>According to the Financial Times, chief operating officer Peter Chernin said that News Corp is \"kicking the tires of pretty much all video games companies\".Video games are \"big business\", the pape...</td>\n",
       "      <td>5</td>\n",
       "      <td>Technology</td>\n",
       "    </tr>\n",
       "    <tr>\n",
       "      <th>1</th>\n",
       "      <td>Asahi is predicting profits to rise 50% in 2005 as it launches a drink based on soybean peptides rather than malt.Japanese brewers are increasingly making money from beer-flavoured drinks rather t...</td>\n",
       "      <td>3</td>\n",
       "      <td>Business</td>\n",
       "    </tr>\n",
       "    <tr>\n",
       "      <th>2</th>\n",
       "      <td>It could cost £80m to run a UK referendum on the European constitution, ministers have revealed.Mr Leslie said the cost could not be compared with the only previous British referendum, held 30 yea...</td>\n",
       "      <td>3</td>\n",
       "      <td>Business</td>\n",
       "    </tr>\n",
       "    <tr>\n",
       "      <th>3</th>\n",
       "      <td>Yukos has said a US bankruptcy court will decide whether to block Russia's impending auction of its main production arm on Thursday.Filing for bankruptcy protection in the US was \"a last resort to...</td>\n",
       "      <td>4</td>\n",
       "      <td>Politics</td>\n",
       "    </tr>\n",
       "    <tr>\n",
       "      <th>4</th>\n",
       "      <td>Wasps scrum-half Matt Dawson has been recalled to England's training squad ahead of the RBS Six Nations and been reinstated in the Elite Player Squad.Balshaw, Cohen, Cueto, Lewsey, Robinson, Simps...</td>\n",
       "      <td>2</td>\n",
       "      <td>Sports</td>\n",
       "    </tr>\n",
       "    <tr>\n",
       "      <th>5</th>\n",
       "      <td>Murder sentences should not be reduced automatically simply because of a guilty plea, says a new MPs' report.MPs criticised Home Secretary David Blunkett last year for introducing last-minute rule...</td>\n",
       "      <td>4</td>\n",
       "      <td>Politics</td>\n",
       "    </tr>\n",
       "    <tr>\n",
       "      <th>6</th>\n",
       "      <td>Labour MP Diane Abbot, who backs Mr Phillips' proposal of shortlists, said she had been elected along with three other ethnic minority MPs - Keith Vaz, Paul Boateng and Bernie Grant - in 1987 but ...</td>\n",
       "      <td>4</td>\n",
       "      <td>Politics</td>\n",
       "    </tr>\n",
       "    <tr>\n",
       "      <th>7</th>\n",
       "      <td>Flanker Colin Charvis is unlikely to play any part in Wales' final two games of the Six Nations.\"He will not figure in the Scotland game and is now thought unlikely to be ready for the final game,...</td>\n",
       "      <td>2</td>\n",
       "      <td>Sports</td>\n",
       "    </tr>\n",
       "    <tr>\n",
       "      <th>8</th>\n",
       "      <td>Therefore, it may be preferable for parents to contribute to the Child Trust Fund which is tax free, with any gifts from relatives that take the total above the annual £1,200 limit being directed ...</td>\n",
       "      <td>3</td>\n",
       "      <td>Business</td>\n",
       "    </tr>\n",
       "    <tr>\n",
       "      <th>9</th>\n",
       "      <td>S Best (Ulster), S Byrne (Leinster), R Corrigan (Leinster), L Cullen (Leinster), S Easterby (Llanelli), A Foley (Munster), J Hayes (Munster), M Horan (Munster), B Jackman (Connacht), D Leamy (Muns...</td>\n",
       "      <td>2</td>\n",
       "      <td>Sports</td>\n",
       "    </tr>\n",
       "    <tr>\n",
       "      <th>10</th>\n",
       "      <td>But Kelly said she was \"very nervous\" about meeting Dame Julie because she was \"my absolute hero\".Mary Poppins star Dame Julie Andrews watched the hit stage version of her classic film at a charit...</td>\n",
       "      <td>1</td>\n",
       "      <td>Entertainment</td>\n",
       "    </tr>\n",
       "    <tr>\n",
       "      <th>11</th>\n",
       "      <td>The other is China Construction Bank.The latest scandal at Bank of China will do nothing to reassure foreign investors that China's big four banks are ready for international listings.Bank of Chin...</td>\n",
       "      <td>3</td>\n",
       "      <td>Business</td>\n",
       "    </tr>\n",
       "    <tr>\n",
       "      <th>12</th>\n",
       "      <td>The event may have been designed to highlight Labour's economic success under Mr Brown, but there was little doubt who was in charge.But it was Mr Milburn who took centre stage, speaking of the \"p...</td>\n",
       "      <td>4</td>\n",
       "      <td>Politics</td>\n",
       "    </tr>\n",
       "    <tr>\n",
       "      <th>13</th>\n",
       "      <td>Organisers were widely considered to be playing it safe this year by booking 62-year-old Sir Paul for his second Super Bowl show.After the controversy last year - which saw CBS fined a record $550...</td>\n",
       "      <td>1</td>\n",
       "      <td>Entertainment</td>\n",
       "    </tr>\n",
       "    <tr>\n",
       "      <th>14</th>\n",
       "      <td>In October 2004, Manchester United said they had received a \"preliminary approach\", which turned out to have come from Mr Glazer.A previous approach to the United board by Mr Glazer in October las...</td>\n",
       "      <td>3</td>\n",
       "      <td>Business</td>\n",
       "    </tr>\n",
       "    <tr>\n",
       "      <th>15</th>\n",
       "      <td>The ministry said that it wanted to increase Iraq's \"very low telephone service penetration rate from about 4.5% today to about 25% within 10 years.\"Bids have been invited from local, Arab and for...</td>\n",
       "      <td>3</td>\n",
       "      <td>Business</td>\n",
       "    </tr>\n",
       "    <tr>\n",
       "      <th>16</th>\n",
       "      <td>It has filed 100 lawsuits against operators of BitTorrent server sites since December.In BitTorrent systems, server sites do not host the files being shared.It is the latest network which uses the...</td>\n",
       "      <td>5</td>\n",
       "      <td>Technology</td>\n",
       "    </tr>\n",
       "    <tr>\n",
       "      <th>17</th>\n",
       "      <td>Venezuela has also offered to supply 120,000 barrels of fuel oil a month to China.China has been a net importer of oil since the mid 1990's with more than a third of the oil and gas it consumes co...</td>\n",
       "      <td>3</td>\n",
       "      <td>Business</td>\n",
       "    </tr>\n",
       "    <tr>\n",
       "      <th>18</th>\n",
       "      <td>US actor Jamie Foxx has been given two nominations for Golden Globe awards, with Meryl Streep, Morgan Freeman and Cate Blanchett also up for prizes.The Golden Globes, Hollywood's second most promi...</td>\n",
       "      <td>1</td>\n",
       "      <td>Entertainment</td>\n",
       "    </tr>\n",
       "    <tr>\n",
       "      <th>19</th>\n",
       "      <td>A breakdown of the latest production figures shows mining output drove the increase, surging 2.1%, while factory output rose 0.3%.The US Federal Reserve said output from factories, mines and utili...</td>\n",
       "      <td>3</td>\n",
       "      <td>Business</td>\n",
       "    </tr>\n",
       "  </tbody>\n",
       "</table>\n",
       "</div>"
      ],
      "text/plain": [
       "                                                                                                                                                                                               news_summary  \\\n",
       "0   According to the Financial Times, chief operating officer Peter Chernin said that News Corp is \"kicking the tires of pretty much all video games companies\".Video games are \"big business\", the pape...   \n",
       "1   Asahi is predicting profits to rise 50% in 2005 as it launches a drink based on soybean peptides rather than malt.Japanese brewers are increasingly making money from beer-flavoured drinks rather t...   \n",
       "2   It could cost £80m to run a UK referendum on the European constitution, ministers have revealed.Mr Leslie said the cost could not be compared with the only previous British referendum, held 30 yea...   \n",
       "3   Yukos has said a US bankruptcy court will decide whether to block Russia's impending auction of its main production arm on Thursday.Filing for bankruptcy protection in the US was \"a last resort to...   \n",
       "4   Wasps scrum-half Matt Dawson has been recalled to England's training squad ahead of the RBS Six Nations and been reinstated in the Elite Player Squad.Balshaw, Cohen, Cueto, Lewsey, Robinson, Simps...   \n",
       "5   Murder sentences should not be reduced automatically simply because of a guilty plea, says a new MPs' report.MPs criticised Home Secretary David Blunkett last year for introducing last-minute rule...   \n",
       "6   Labour MP Diane Abbot, who backs Mr Phillips' proposal of shortlists, said she had been elected along with three other ethnic minority MPs - Keith Vaz, Paul Boateng and Bernie Grant - in 1987 but ...   \n",
       "7   Flanker Colin Charvis is unlikely to play any part in Wales' final two games of the Six Nations.\"He will not figure in the Scotland game and is now thought unlikely to be ready for the final game,...   \n",
       "8   Therefore, it may be preferable for parents to contribute to the Child Trust Fund which is tax free, with any gifts from relatives that take the total above the annual £1,200 limit being directed ...   \n",
       "9   S Best (Ulster), S Byrne (Leinster), R Corrigan (Leinster), L Cullen (Leinster), S Easterby (Llanelli), A Foley (Munster), J Hayes (Munster), M Horan (Munster), B Jackman (Connacht), D Leamy (Muns...   \n",
       "10  But Kelly said she was \"very nervous\" about meeting Dame Julie because she was \"my absolute hero\".Mary Poppins star Dame Julie Andrews watched the hit stage version of her classic film at a charit...   \n",
       "11  The other is China Construction Bank.The latest scandal at Bank of China will do nothing to reassure foreign investors that China's big four banks are ready for international listings.Bank of Chin...   \n",
       "12  The event may have been designed to highlight Labour's economic success under Mr Brown, but there was little doubt who was in charge.But it was Mr Milburn who took centre stage, speaking of the \"p...   \n",
       "13  Organisers were widely considered to be playing it safe this year by booking 62-year-old Sir Paul for his second Super Bowl show.After the controversy last year - which saw CBS fined a record $550...   \n",
       "14  In October 2004, Manchester United said they had received a \"preliminary approach\", which turned out to have come from Mr Glazer.A previous approach to the United board by Mr Glazer in October las...   \n",
       "15  The ministry said that it wanted to increase Iraq's \"very low telephone service penetration rate from about 4.5% today to about 25% within 10 years.\"Bids have been invited from local, Arab and for...   \n",
       "16  It has filed 100 lawsuits against operators of BitTorrent server sites since December.In BitTorrent systems, server sites do not host the files being shared.It is the latest network which uses the...   \n",
       "17  Venezuela has also offered to supply 120,000 barrels of fuel oil a month to China.China has been a net importer of oil since the mid 1990's with more than a third of the oil and gas it consumes co...   \n",
       "18  US actor Jamie Foxx has been given two nominations for Golden Globe awards, with Meryl Streep, Morgan Freeman and Cate Blanchett also up for prizes.The Golden Globes, Hollywood's second most promi...   \n",
       "19  A breakdown of the latest production figures shows mining output drove the increase, surging 2.1%, while factory output rose 0.3%.The US Federal Reserve said output from factories, mines and utili...   \n",
       "\n",
       "    topic    topic_label  \n",
       "0       5     Technology  \n",
       "1       3       Business  \n",
       "2       3       Business  \n",
       "3       4       Politics  \n",
       "4       2         Sports  \n",
       "5       4       Politics  \n",
       "6       4       Politics  \n",
       "7       2         Sports  \n",
       "8       3       Business  \n",
       "9       2         Sports  \n",
       "10      1  Entertainment  \n",
       "11      3       Business  \n",
       "12      4       Politics  \n",
       "13      1  Entertainment  \n",
       "14      3       Business  \n",
       "15      3       Business  \n",
       "16      5     Technology  \n",
       "17      3       Business  \n",
       "18      1  Entertainment  \n",
       "19      3       Business  "
      ]
     },
     "execution_count": 14,
     "metadata": {},
     "output_type": "execute_result"
    }
   ],
   "source": [
    "# Display the first 20 rows of the updated DataFrame. \n",
    "news_articles_df.head(20)"
   ]
  },
  {
   "cell_type": "code",
   "execution_count": 15,
   "metadata": {},
   "outputs": [
    {
     "data": {
      "text/html": [
       "<div>\n",
       "<style scoped>\n",
       "    .dataframe tbody tr th:only-of-type {\n",
       "        vertical-align: middle;\n",
       "    }\n",
       "\n",
       "    .dataframe tbody tr th {\n",
       "        vertical-align: top;\n",
       "    }\n",
       "\n",
       "    .dataframe thead th {\n",
       "        text-align: right;\n",
       "    }\n",
       "</style>\n",
       "<table border=\"1\" class=\"dataframe\">\n",
       "  <thead>\n",
       "    <tr style=\"text-align: right;\">\n",
       "      <th></th>\n",
       "      <th>news_summary</th>\n",
       "      <th>topic</th>\n",
       "      <th>topic_label</th>\n",
       "    </tr>\n",
       "  </thead>\n",
       "  <tbody>\n",
       "    <tr>\n",
       "      <th>2215</th>\n",
       "      <td>The new book claims Mr Prescott hosted a dinner in November 2003 where the prime minister told Mr Brown he would stand down before the next election because he had lost trust over the Iraq war.Mr ...</td>\n",
       "      <td>4</td>\n",
       "      <td>Politics</td>\n",
       "    </tr>\n",
       "    <tr>\n",
       "      <th>2216</th>\n",
       "      <td>Actor Daniel Day-Lewis is to be presented with an award for his career in film at the Berlin Film Festival.Day-Lewis has competed four times at the Berlin Film Festival, with films In The Name Of ...</td>\n",
       "      <td>1</td>\n",
       "      <td>Entertainment</td>\n",
       "    </tr>\n",
       "    <tr>\n",
       "      <th>2217</th>\n",
       "      <td>With so much time spent in the spotlight, Holmes has increasingly dropped hints that her ambition on the track has begun to wilt.Four months later, Holmes stormed to double Olympic gold and has si...</td>\n",
       "      <td>2</td>\n",
       "      <td>Sports</td>\n",
       "    </tr>\n",
       "    <tr>\n",
       "      <th>2218</th>\n",
       "      <td>US oil prices have fallen by 6%, driven down by forecasts of a mild winter in the densely populated northeast.Statistics released last week showed that stockpiles of oil products in the US had ris...</td>\n",
       "      <td>3</td>\n",
       "      <td>Business</td>\n",
       "    </tr>\n",
       "    <tr>\n",
       "      <th>2219</th>\n",
       "      <td>Instead, said Mr Doctorow, DRM systems were intended to control the group that electronics firms have most hold over - consumers.By setting up the alliance to work on a common control system, the ...</td>\n",
       "      <td>5</td>\n",
       "      <td>Technology</td>\n",
       "    </tr>\n",
       "    <tr>\n",
       "      <th>2220</th>\n",
       "      <td>The Votes at 16 alliance said it was a good thing to \"engage people\" by lowering the candidacy age but argued lowering the voting age would be much more effective.That is because the age of majori...</td>\n",
       "      <td>4</td>\n",
       "      <td>Politics</td>\n",
       "    </tr>\n",
       "    <tr>\n",
       "      <th>2221</th>\n",
       "      <td>West Ham boss Alan Pardew said: \"It's a shame because I thought there was good English banter in the crowd.The FA is to take action after trouble marred Wednesday's Carling Cup tie between Chelsea...</td>\n",
       "      <td>1</td>\n",
       "      <td>Entertainment</td>\n",
       "    </tr>\n",
       "    <tr>\n",
       "      <th>2222</th>\n",
       "      <td>Navratilova, who made a comeback after retiring in 1994, will play doubles and mixed doubles events in 2005.I'm still that good.\"Navratilova has won three Grand Slam mixed doubles titles since she...</td>\n",
       "      <td>2</td>\n",
       "      <td>Sports</td>\n",
       "    </tr>\n",
       "    <tr>\n",
       "      <th>2223</th>\n",
       "      <td>\"You would think they would have been available in December as it can take two months for the body to respond.\"The first chance we will get to do that is at the players meeting on the Saturday bef...</td>\n",
       "      <td>2</td>\n",
       "      <td>Sports</td>\n",
       "    </tr>\n",
       "    <tr>\n",
       "      <th>2224</th>\n",
       "      <td>Other than its warning on possible tax hikes, the NIESR report was optimistic about the state of the UK and global economy.The UK government will have to raise taxes or rein in spending if it want...</td>\n",
       "      <td>3</td>\n",
       "      <td>Business</td>\n",
       "    </tr>\n",
       "  </tbody>\n",
       "</table>\n",
       "</div>"
      ],
      "text/plain": [
       "                                                                                                                                                                                                 news_summary  \\\n",
       "2215  The new book claims Mr Prescott hosted a dinner in November 2003 where the prime minister told Mr Brown he would stand down before the next election because he had lost trust over the Iraq war.Mr ...   \n",
       "2216  Actor Daniel Day-Lewis is to be presented with an award for his career in film at the Berlin Film Festival.Day-Lewis has competed four times at the Berlin Film Festival, with films In The Name Of ...   \n",
       "2217  With so much time spent in the spotlight, Holmes has increasingly dropped hints that her ambition on the track has begun to wilt.Four months later, Holmes stormed to double Olympic gold and has si...   \n",
       "2218  US oil prices have fallen by 6%, driven down by forecasts of a mild winter in the densely populated northeast.Statistics released last week showed that stockpiles of oil products in the US had ris...   \n",
       "2219  Instead, said Mr Doctorow, DRM systems were intended to control the group that electronics firms have most hold over - consumers.By setting up the alliance to work on a common control system, the ...   \n",
       "2220  The Votes at 16 alliance said it was a good thing to \"engage people\" by lowering the candidacy age but argued lowering the voting age would be much more effective.That is because the age of majori...   \n",
       "2221  West Ham boss Alan Pardew said: \"It's a shame because I thought there was good English banter in the crowd.The FA is to take action after trouble marred Wednesday's Carling Cup tie between Chelsea...   \n",
       "2222  Navratilova, who made a comeback after retiring in 1994, will play doubles and mixed doubles events in 2005.I'm still that good.\"Navratilova has won three Grand Slam mixed doubles titles since she...   \n",
       "2223  \"You would think they would have been available in December as it can take two months for the body to respond.\"The first chance we will get to do that is at the players meeting on the Saturday bef...   \n",
       "2224  Other than its warning on possible tax hikes, the NIESR report was optimistic about the state of the UK and global economy.The UK government will have to raise taxes or rein in spending if it want...   \n",
       "\n",
       "      topic    topic_label  \n",
       "2215      4       Politics  \n",
       "2216      1  Entertainment  \n",
       "2217      2         Sports  \n",
       "2218      3       Business  \n",
       "2219      5     Technology  \n",
       "2220      4       Politics  \n",
       "2221      1  Entertainment  \n",
       "2222      2         Sports  \n",
       "2223      2         Sports  \n",
       "2224      3       Business  "
      ]
     },
     "execution_count": 15,
     "metadata": {},
     "output_type": "execute_result"
    }
   ],
   "source": [
    "# Display the last 20 rows of the updated DataFrame.\n",
    "news_articles_df.tail(10)"
   ]
  },
  {
   "cell_type": "markdown",
   "metadata": {},
   "source": [
    "**Question:** Did LDA do a good job at assigning the appropriate topic to the news summaries? \n",
    "\n",
    "**Answer:** Yes. Most of the news summaries look like they have been appropriately assigned the correct topic and topic label."
   ]
  },
  {
   "cell_type": "code",
   "execution_count": null,
   "metadata": {},
   "outputs": [],
   "source": []
  }
 ],
 "metadata": {
  "kernelspec": {
   "display_name": "Python 3 (ipykernel)",
   "language": "python",
   "name": "python3"
  },
  "language_info": {
   "codemirror_mode": {
    "name": "ipython",
    "version": 3
   },
   "file_extension": ".py",
   "mimetype": "text/x-python",
   "name": "python",
   "nbconvert_exporter": "python",
   "pygments_lexer": "ipython3",
   "version": "3.10.12"
  }
 },
 "nbformat": 4,
 "nbformat_minor": 2
}
