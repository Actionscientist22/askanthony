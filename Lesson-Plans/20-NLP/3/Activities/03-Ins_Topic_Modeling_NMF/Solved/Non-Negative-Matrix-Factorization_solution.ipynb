{
 "cells": [
  {
   "cell_type": "code",
   "execution_count": 1,
   "metadata": {},
   "outputs": [],
   "source": [
    "# Import the dependencies \n",
    "import pandas as pd\n",
    "import re\n",
    "import numpy as np\n",
    "from sklearn.feature_extraction.text import TfidfVectorizer\n",
    "from sklearn.decomposition import NMF\n",
    "\n",
    "# Set the column width to 200.\n",
    "pd.set_option('max_colwidth', 200)"
   ]
  },
  {
   "cell_type": "code",
   "execution_count": 2,
   "metadata": {},
   "outputs": [
    {
     "data": {
      "text/html": [
       "<div>\n",
       "<style scoped>\n",
       "    .dataframe tbody tr th:only-of-type {\n",
       "        vertical-align: middle;\n",
       "    }\n",
       "\n",
       "    .dataframe tbody tr th {\n",
       "        vertical-align: top;\n",
       "    }\n",
       "\n",
       "    .dataframe thead th {\n",
       "        text-align: right;\n",
       "    }\n",
       "</style>\n",
       "<table border=\"1\" class=\"dataframe\">\n",
       "  <thead>\n",
       "    <tr style=\"text-align: right;\">\n",
       "      <th></th>\n",
       "      <th>headline</th>\n",
       "    </tr>\n",
       "  </thead>\n",
       "  <tbody>\n",
       "    <tr>\n",
       "      <th>0</th>\n",
       "      <td>Is 22 Too Young To Marry A 36-Year-Old? 'The Bachelor' Investigates</td>\n",
       "    </tr>\n",
       "    <tr>\n",
       "      <th>1</th>\n",
       "      <td>The Only Shopping Guide For Cyber Monday You Need</td>\n",
       "    </tr>\n",
       "    <tr>\n",
       "      <th>2</th>\n",
       "      <td>Taylor Swift Dances When No One Can See Her In New 'Delicate' Video</td>\n",
       "    </tr>\n",
       "    <tr>\n",
       "      <th>3</th>\n",
       "      <td>How To Say 'Cheers' In 20 Languages (AUDIO)</td>\n",
       "    </tr>\n",
       "    <tr>\n",
       "      <th>4</th>\n",
       "      <td>'Welcome To Hell': Rio Police Warn They Can't Promise Olympic Protection</td>\n",
       "    </tr>\n",
       "    <tr>\n",
       "      <th>5</th>\n",
       "      <td>Conservative Pundit Points Out Where Real Blame For GOP’s ‘Descent Into Madness’ Lies</td>\n",
       "    </tr>\n",
       "    <tr>\n",
       "      <th>6</th>\n",
       "      <td>We Asked The American Public To Settle 5 Of The Internet's Dumbest Debates</td>\n",
       "    </tr>\n",
       "    <tr>\n",
       "      <th>7</th>\n",
       "      <td>'Teen Mom OG's' Catelynn Lowell Heads To Treatment Over Suicidal Thoughts</td>\n",
       "    </tr>\n",
       "    <tr>\n",
       "      <th>8</th>\n",
       "      <td>The Major Problem With Electric Cars | TIME.com</td>\n",
       "    </tr>\n",
       "    <tr>\n",
       "      <th>9</th>\n",
       "      <td>Why Is Nobel-Winning Economist Richard Thaler So Jovial?</td>\n",
       "    </tr>\n",
       "  </tbody>\n",
       "</table>\n",
       "</div>"
      ],
      "text/plain": [
       "                                                                                headline\n",
       "0                    Is 22 Too Young To Marry A 36-Year-Old? 'The Bachelor' Investigates\n",
       "1                                      The Only Shopping Guide For Cyber Monday You Need\n",
       "2                    Taylor Swift Dances When No One Can See Her In New 'Delicate' Video\n",
       "3                                            How To Say 'Cheers' In 20 Languages (AUDIO)\n",
       "4               'Welcome To Hell': Rio Police Warn They Can't Promise Olympic Protection\n",
       "5  Conservative Pundit Points Out Where Real Blame For GOP’s ‘Descent Into Madness’ Lies\n",
       "6             We Asked The American Public To Settle 5 Of The Internet's Dumbest Debates\n",
       "7              'Teen Mom OG's' Catelynn Lowell Heads To Treatment Over Suicidal Thoughts\n",
       "8                                        The Major Problem With Electric Cars | TIME.com\n",
       "9                               Why Is Nobel-Winning Economist Richard Thaler So Jovial?"
      ]
     },
     "execution_count": 2,
     "metadata": {},
     "output_type": "execute_result"
    }
   ],
   "source": [
    "# Load the news_articles.csv into a DataFrame.\n",
    "news_articles_df = pd.read_csv('Resources/news_articles.csv')\n",
    "# Display the first 20 headlines \n",
    "news_articles_df.head(10)"
   ]
  },
  {
   "cell_type": "markdown",
   "metadata": {},
   "source": [
    "## Preprocess the Text"
   ]
  },
  {
   "cell_type": "code",
   "execution_count": 3,
   "metadata": {},
   "outputs": [
    {
     "data": {
      "text/html": [
       "<div>\n",
       "<style scoped>\n",
       "    .dataframe tbody tr th:only-of-type {\n",
       "        vertical-align: middle;\n",
       "    }\n",
       "\n",
       "    .dataframe tbody tr th {\n",
       "        vertical-align: top;\n",
       "    }\n",
       "\n",
       "    .dataframe thead th {\n",
       "        text-align: right;\n",
       "    }\n",
       "</style>\n",
       "<table border=\"1\" class=\"dataframe\">\n",
       "  <thead>\n",
       "    <tr style=\"text-align: right;\">\n",
       "      <th></th>\n",
       "      <th>headline</th>\n",
       "    </tr>\n",
       "  </thead>\n",
       "  <tbody>\n",
       "    <tr>\n",
       "      <th>0</th>\n",
       "      <td>Is  Too Young To Marry A YearOld The Bachelor Investigates</td>\n",
       "    </tr>\n",
       "    <tr>\n",
       "      <th>1</th>\n",
       "      <td>The Only Shopping Guide For Cyber Monday You Need</td>\n",
       "    </tr>\n",
       "    <tr>\n",
       "      <th>2</th>\n",
       "      <td>Taylor Swift Dances When No One Can See Her In New Delicate Video</td>\n",
       "    </tr>\n",
       "    <tr>\n",
       "      <th>3</th>\n",
       "      <td>How To Say Cheers In  Languages AUDIO</td>\n",
       "    </tr>\n",
       "    <tr>\n",
       "      <th>4</th>\n",
       "      <td>Welcome To Hell Rio Police Warn They Cant Promise Olympic Protection</td>\n",
       "    </tr>\n",
       "    <tr>\n",
       "      <th>5</th>\n",
       "      <td>Conservative Pundit Points Out Where Real Blame For GOPs Descent Into Madness Lies</td>\n",
       "    </tr>\n",
       "    <tr>\n",
       "      <th>6</th>\n",
       "      <td>We Asked The American Public To Settle  Of The Internets Dumbest Debates</td>\n",
       "    </tr>\n",
       "    <tr>\n",
       "      <th>7</th>\n",
       "      <td>Teen Mom OGs Catelynn Lowell Heads To Treatment Over Suicidal Thoughts</td>\n",
       "    </tr>\n",
       "    <tr>\n",
       "      <th>8</th>\n",
       "      <td>The Major Problem With Electric Cars  TIMEcom</td>\n",
       "    </tr>\n",
       "    <tr>\n",
       "      <th>9</th>\n",
       "      <td>Why Is NobelWinning Economist Richard Thaler So Jovial</td>\n",
       "    </tr>\n",
       "  </tbody>\n",
       "</table>\n",
       "</div>"
      ],
      "text/plain": [
       "                                                                             headline\n",
       "0                          Is  Too Young To Marry A YearOld The Bachelor Investigates\n",
       "1                                   The Only Shopping Guide For Cyber Monday You Need\n",
       "2                   Taylor Swift Dances When No One Can See Her In New Delicate Video\n",
       "3                                               How To Say Cheers In  Languages AUDIO\n",
       "4                Welcome To Hell Rio Police Warn They Cant Promise Olympic Protection\n",
       "5  Conservative Pundit Points Out Where Real Blame For GOPs Descent Into Madness Lies\n",
       "6            We Asked The American Public To Settle  Of The Internets Dumbest Debates\n",
       "7              Teen Mom OGs Catelynn Lowell Heads To Treatment Over Suicidal Thoughts\n",
       "8                                       The Major Problem With Electric Cars  TIMEcom\n",
       "9                              Why Is NobelWinning Economist Richard Thaler So Jovial"
      ]
     },
     "execution_count": 3,
     "metadata": {},
     "output_type": "execute_result"
    }
   ],
   "source": [
    "# Remove digits and non-alphabetic characters\n",
    "news_articles_df['headline'] = news_articles_df['headline'].apply(lambda x: re.sub(r'[^a-zA-Z\\s ]', '', str(x)))\n",
    "news_articles_df.head(10)"
   ]
  },
  {
   "cell_type": "markdown",
   "metadata": {},
   "source": [
    "## Create a TF-IDF matrix from our documents."
   ]
  },
  {
   "cell_type": "code",
   "execution_count": 4,
   "metadata": {},
   "outputs": [
    {
     "data": {
      "text/html": [
       "<style>#sk-container-id-1 {color: black;background-color: white;}#sk-container-id-1 pre{padding: 0;}#sk-container-id-1 div.sk-toggleable {background-color: white;}#sk-container-id-1 label.sk-toggleable__label {cursor: pointer;display: block;width: 100%;margin-bottom: 0;padding: 0.3em;box-sizing: border-box;text-align: center;}#sk-container-id-1 label.sk-toggleable__label-arrow:before {content: \"▸\";float: left;margin-right: 0.25em;color: #696969;}#sk-container-id-1 label.sk-toggleable__label-arrow:hover:before {color: black;}#sk-container-id-1 div.sk-estimator:hover label.sk-toggleable__label-arrow:before {color: black;}#sk-container-id-1 div.sk-toggleable__content {max-height: 0;max-width: 0;overflow: hidden;text-align: left;background-color: #f0f8ff;}#sk-container-id-1 div.sk-toggleable__content pre {margin: 0.2em;color: black;border-radius: 0.25em;background-color: #f0f8ff;}#sk-container-id-1 input.sk-toggleable__control:checked~div.sk-toggleable__content {max-height: 200px;max-width: 100%;overflow: auto;}#sk-container-id-1 input.sk-toggleable__control:checked~label.sk-toggleable__label-arrow:before {content: \"▾\";}#sk-container-id-1 div.sk-estimator input.sk-toggleable__control:checked~label.sk-toggleable__label {background-color: #d4ebff;}#sk-container-id-1 div.sk-label input.sk-toggleable__control:checked~label.sk-toggleable__label {background-color: #d4ebff;}#sk-container-id-1 input.sk-hidden--visually {border: 0;clip: rect(1px 1px 1px 1px);clip: rect(1px, 1px, 1px, 1px);height: 1px;margin: -1px;overflow: hidden;padding: 0;position: absolute;width: 1px;}#sk-container-id-1 div.sk-estimator {font-family: monospace;background-color: #f0f8ff;border: 1px dotted black;border-radius: 0.25em;box-sizing: border-box;margin-bottom: 0.5em;}#sk-container-id-1 div.sk-estimator:hover {background-color: #d4ebff;}#sk-container-id-1 div.sk-parallel-item::after {content: \"\";width: 100%;border-bottom: 1px solid gray;flex-grow: 1;}#sk-container-id-1 div.sk-label:hover label.sk-toggleable__label {background-color: #d4ebff;}#sk-container-id-1 div.sk-serial::before {content: \"\";position: absolute;border-left: 1px solid gray;box-sizing: border-box;top: 0;bottom: 0;left: 50%;z-index: 0;}#sk-container-id-1 div.sk-serial {display: flex;flex-direction: column;align-items: center;background-color: white;padding-right: 0.2em;padding-left: 0.2em;position: relative;}#sk-container-id-1 div.sk-item {position: relative;z-index: 1;}#sk-container-id-1 div.sk-parallel {display: flex;align-items: stretch;justify-content: center;background-color: white;position: relative;}#sk-container-id-1 div.sk-item::before, #sk-container-id-1 div.sk-parallel-item::before {content: \"\";position: absolute;border-left: 1px solid gray;box-sizing: border-box;top: 0;bottom: 0;left: 50%;z-index: -1;}#sk-container-id-1 div.sk-parallel-item {display: flex;flex-direction: column;z-index: 1;position: relative;background-color: white;}#sk-container-id-1 div.sk-parallel-item:first-child::after {align-self: flex-end;width: 50%;}#sk-container-id-1 div.sk-parallel-item:last-child::after {align-self: flex-start;width: 50%;}#sk-container-id-1 div.sk-parallel-item:only-child::after {width: 0;}#sk-container-id-1 div.sk-dashed-wrapped {border: 1px dashed gray;margin: 0 0.4em 0.5em 0.4em;box-sizing: border-box;padding-bottom: 0.4em;background-color: white;}#sk-container-id-1 div.sk-label label {font-family: monospace;font-weight: bold;display: inline-block;line-height: 1.2em;}#sk-container-id-1 div.sk-label-container {text-align: center;}#sk-container-id-1 div.sk-container {/* jupyter's `normalize.less` sets `[hidden] { display: none; }` but bootstrap.min.css set `[hidden] { display: none !important; }` so we also need the `!important` here to be able to override the default hidden behavior on the sphinx rendered scikit-learn.org. See: https://github.com/scikit-learn/scikit-learn/issues/21755 */display: inline-block !important;position: relative;}#sk-container-id-1 div.sk-text-repr-fallback {display: none;}</style><div id=\"sk-container-id-1\" class=\"sk-top-container\"><div class=\"sk-text-repr-fallback\"><pre>TfidfVectorizer(max_df=0.95, min_df=10, stop_words=&#x27;english&#x27;)</pre><b>In a Jupyter environment, please rerun this cell to show the HTML representation or trust the notebook. <br />On GitHub, the HTML representation is unable to render, please try loading this page with nbviewer.org.</b></div><div class=\"sk-container\" hidden><div class=\"sk-item\"><div class=\"sk-estimator sk-toggleable\"><input class=\"sk-toggleable__control sk-hidden--visually\" id=\"sk-estimator-id-1\" type=\"checkbox\" checked><label for=\"sk-estimator-id-1\" class=\"sk-toggleable__label sk-toggleable__label-arrow\">TfidfVectorizer</label><div class=\"sk-toggleable__content\"><pre>TfidfVectorizer(max_df=0.95, min_df=10, stop_words=&#x27;english&#x27;)</pre></div></div></div></div></div>"
      ],
      "text/plain": [
       "TfidfVectorizer(max_df=0.95, min_df=10, stop_words='english')"
      ]
     },
     "execution_count": 4,
     "metadata": {},
     "output_type": "execute_result"
    }
   ],
   "source": [
    "# Create an instance of the TfidfVectorizer and set the max_df to 0.95 and min_df to 10, and use the English stopwords to be ignored.\n",
    "tfidf = TfidfVectorizer(max_df=0.95, min_df=10, stop_words='english')\n",
    "tfidf"
   ]
  },
  {
   "cell_type": "code",
   "execution_count": 5,
   "metadata": {},
   "outputs": [
    {
     "name": "stdout",
     "output_type": "stream",
     "text": [
      "(23377, 3149)\n"
     ]
    }
   ],
   "source": [
    "# Transform each row from the headlines Series to a DTM.\n",
    "dtm = tfidf.fit_transform(news_articles_df[\"headline\"])\n",
    "# Get the shape of the DTM.\n",
    "print(dtm.shape)"
   ]
  },
  {
   "cell_type": "code",
   "execution_count": 6,
   "metadata": {},
   "outputs": [
    {
     "name": "stdout",
     "output_type": "stream",
     "text": [
      "  (0, 183)\t0.6345657383532866\n",
      "  (0, 3131)\t0.5447013164784799\n",
      "  (0, 3138)\t0.5482944460185232\n",
      "  (1, 1881)\t0.35546248241584566\n",
      "  (1, 1831)\t0.4901265408973161\n",
      "  (1, 677)\t0.46003283951735585\n",
      "  (1, 1220)\t0.4113174150555592\n",
      "  (1, 2510)\t0.5026033904983209\n",
      "  (2, 2981)\t0.4263827647977379\n",
      "  (2, 1892)\t0.3375155487496725\n",
      "  (2, 2725)\t0.6290303789178769\n",
      "  (2, 2749)\t0.5555193737702372\n",
      "  (3, 168)\t0.8128170960317599\n",
      "  (3, 2414)\t0.5825189854403862\n",
      "  (4, 1949)\t0.3359899169063007\n",
      "  (4, 2158)\t0.4724418120156065\n",
      "  (4, 2081)\t0.38124866781045463\n",
      "  (4, 2327)\t0.3818919620518235\n",
      "  (4, 1281)\t0.4127191813776179\n",
      "  (4, 3060)\t0.4498670580656673\n",
      "  (5, 1618)\t0.35810060060128407\n",
      "  (5, 1681)\t0.3894063836492395\n",
      "  (5, 1182)\t0.4127062165437718\n",
      "  (5, 277)\t0.4026181555145373\n",
      "  (5, 2228)\t0.30472503847033977\n",
      "  :\t:\n",
      "  (23371, 1702)\t0.4830356653587415\n",
      "  (23371, 2781)\t0.4443808362877062\n",
      "  (23371, 2277)\t0.3677085237137301\n",
      "  (23371, 2963)\t0.4044727605382417\n",
      "  (23371, 255)\t0.3064420691643532\n",
      "  (23372, 2630)\t0.452129735249142\n",
      "  (23372, 53)\t0.4628007913624749\n",
      "  (23372, 769)\t0.37675152794760824\n",
      "  (23372, 1268)\t0.36839652806315726\n",
      "  (23372, 256)\t0.39862775908167214\n",
      "  (23372, 3132)\t0.3114061851456503\n",
      "  (23372, 2901)\t0.21876588367594865\n",
      "  (23373, 1544)\t1.0\n",
      "  (23374, 86)\t1.0\n",
      "  (23375, 647)\t0.5578600571569962\n",
      "  (23375, 2714)\t0.5033312540967919\n",
      "  (23375, 822)\t0.36006099269063996\n",
      "  (23375, 2291)\t0.48158456227378155\n",
      "  (23375, 2901)\t0.271812796240988\n",
      "  (23376, 1003)\t0.42358641576598555\n",
      "  (23376, 2674)\t0.5067298206032984\n",
      "  (23376, 500)\t0.38384249902422307\n",
      "  (23376, 1311)\t0.3910343387965926\n",
      "  (23376, 1079)\t0.30269215474415806\n",
      "  (23376, 615)\t0.41464922352630074\n"
     ]
    }
   ],
   "source": [
    "# Print the sparse matrix of the transformed data.\n",
    "# We have 23,377 documents, the first number in the tuple represents the document number.\n",
    "# The second number in the tuple represents the index of the word in the vocabulary created by fit_transform.\n",
    "# The last number represents the value of the TF-IDF score for the vocabulary word.\n",
    "print(dtm)"
   ]
  },
  {
   "cell_type": "code",
   "execution_count": 7,
   "metadata": {},
   "outputs": [
    {
     "name": "stdout",
     "output_type": "stream",
     "text": [
      "Word: bachelor | Word index 183 | Value = 0.6345657383532866\n",
      "Word: yearold | Word index 3131 | Value = 0.5447013164784799\n",
      "Word: young | Word index 3138 | Value = 0.5482944460185232\n"
     ]
    }
   ],
   "source": [
    "# Get the feature names (words) from the TfidfVectorizer\n",
    "feature_names = tfidf.get_feature_names_out()\n",
    "\n",
    "# Get all the non-zero elements from the first row.\n",
    "non_zero_elements = dtm.toarray()[0]\n",
    "\n",
    "# Get the indices for each non-zero element.\n",
    "non_zero_indices = non_zero_elements.nonzero()[0]\n",
    "\n",
    "# Print out the word and the number of times the word is in the row. \n",
    "for idx in non_zero_indices:\n",
    "    print(f\"Word: {feature_names[idx]} | Word index {idx} | Value = {non_zero_elements[idx]}\")"
   ]
  },
  {
   "cell_type": "markdown",
   "metadata": {},
   "source": [
    "## Applying NMF"
   ]
  },
  {
   "cell_type": "code",
   "execution_count": 8,
   "metadata": {},
   "outputs": [
    {
     "data": {
      "text/html": [
       "<style>#sk-container-id-2 {color: black;background-color: white;}#sk-container-id-2 pre{padding: 0;}#sk-container-id-2 div.sk-toggleable {background-color: white;}#sk-container-id-2 label.sk-toggleable__label {cursor: pointer;display: block;width: 100%;margin-bottom: 0;padding: 0.3em;box-sizing: border-box;text-align: center;}#sk-container-id-2 label.sk-toggleable__label-arrow:before {content: \"▸\";float: left;margin-right: 0.25em;color: #696969;}#sk-container-id-2 label.sk-toggleable__label-arrow:hover:before {color: black;}#sk-container-id-2 div.sk-estimator:hover label.sk-toggleable__label-arrow:before {color: black;}#sk-container-id-2 div.sk-toggleable__content {max-height: 0;max-width: 0;overflow: hidden;text-align: left;background-color: #f0f8ff;}#sk-container-id-2 div.sk-toggleable__content pre {margin: 0.2em;color: black;border-radius: 0.25em;background-color: #f0f8ff;}#sk-container-id-2 input.sk-toggleable__control:checked~div.sk-toggleable__content {max-height: 200px;max-width: 100%;overflow: auto;}#sk-container-id-2 input.sk-toggleable__control:checked~label.sk-toggleable__label-arrow:before {content: \"▾\";}#sk-container-id-2 div.sk-estimator input.sk-toggleable__control:checked~label.sk-toggleable__label {background-color: #d4ebff;}#sk-container-id-2 div.sk-label input.sk-toggleable__control:checked~label.sk-toggleable__label {background-color: #d4ebff;}#sk-container-id-2 input.sk-hidden--visually {border: 0;clip: rect(1px 1px 1px 1px);clip: rect(1px, 1px, 1px, 1px);height: 1px;margin: -1px;overflow: hidden;padding: 0;position: absolute;width: 1px;}#sk-container-id-2 div.sk-estimator {font-family: monospace;background-color: #f0f8ff;border: 1px dotted black;border-radius: 0.25em;box-sizing: border-box;margin-bottom: 0.5em;}#sk-container-id-2 div.sk-estimator:hover {background-color: #d4ebff;}#sk-container-id-2 div.sk-parallel-item::after {content: \"\";width: 100%;border-bottom: 1px solid gray;flex-grow: 1;}#sk-container-id-2 div.sk-label:hover label.sk-toggleable__label {background-color: #d4ebff;}#sk-container-id-2 div.sk-serial::before {content: \"\";position: absolute;border-left: 1px solid gray;box-sizing: border-box;top: 0;bottom: 0;left: 50%;z-index: 0;}#sk-container-id-2 div.sk-serial {display: flex;flex-direction: column;align-items: center;background-color: white;padding-right: 0.2em;padding-left: 0.2em;position: relative;}#sk-container-id-2 div.sk-item {position: relative;z-index: 1;}#sk-container-id-2 div.sk-parallel {display: flex;align-items: stretch;justify-content: center;background-color: white;position: relative;}#sk-container-id-2 div.sk-item::before, #sk-container-id-2 div.sk-parallel-item::before {content: \"\";position: absolute;border-left: 1px solid gray;box-sizing: border-box;top: 0;bottom: 0;left: 50%;z-index: -1;}#sk-container-id-2 div.sk-parallel-item {display: flex;flex-direction: column;z-index: 1;position: relative;background-color: white;}#sk-container-id-2 div.sk-parallel-item:first-child::after {align-self: flex-end;width: 50%;}#sk-container-id-2 div.sk-parallel-item:last-child::after {align-self: flex-start;width: 50%;}#sk-container-id-2 div.sk-parallel-item:only-child::after {width: 0;}#sk-container-id-2 div.sk-dashed-wrapped {border: 1px dashed gray;margin: 0 0.4em 0.5em 0.4em;box-sizing: border-box;padding-bottom: 0.4em;background-color: white;}#sk-container-id-2 div.sk-label label {font-family: monospace;font-weight: bold;display: inline-block;line-height: 1.2em;}#sk-container-id-2 div.sk-label-container {text-align: center;}#sk-container-id-2 div.sk-container {/* jupyter's `normalize.less` sets `[hidden] { display: none; }` but bootstrap.min.css set `[hidden] { display: none !important; }` so we also need the `!important` here to be able to override the default hidden behavior on the sphinx rendered scikit-learn.org. See: https://github.com/scikit-learn/scikit-learn/issues/21755 */display: inline-block !important;position: relative;}#sk-container-id-2 div.sk-text-repr-fallback {display: none;}</style><div id=\"sk-container-id-2\" class=\"sk-top-container\"><div class=\"sk-text-repr-fallback\"><pre>NMF(n_components=7, random_state=42)</pre><b>In a Jupyter environment, please rerun this cell to show the HTML representation or trust the notebook. <br />On GitHub, the HTML representation is unable to render, please try loading this page with nbviewer.org.</b></div><div class=\"sk-container\" hidden><div class=\"sk-item\"><div class=\"sk-estimator sk-toggleable\"><input class=\"sk-toggleable__control sk-hidden--visually\" id=\"sk-estimator-id-2\" type=\"checkbox\" checked><label for=\"sk-estimator-id-2\" class=\"sk-toggleable__label sk-toggleable__label-arrow\">NMF</label><div class=\"sk-toggleable__content\"><pre>NMF(n_components=7, random_state=42)</pre></div></div></div></div></div>"
      ],
      "text/plain": [
       "NMF(n_components=7, random_state=42)"
      ]
     },
     "execution_count": 8,
     "metadata": {},
     "output_type": "execute_result"
    }
   ],
   "source": [
    "# Initialize the NMF and set the number of topics to 7. \n",
    "nmf_model = NMF(n_components=7,random_state=42)\n",
    "# Fit the model with our DTM data. \n",
    "nmf_model.fit(dtm)"
   ]
  },
  {
   "cell_type": "code",
   "execution_count": 9,
   "metadata": {},
   "outputs": [
    {
     "name": "stdout",
     "output_type": "stream",
     "text": [
      "3149\n",
      "3149\n",
      "3149\n",
      "3149\n",
      "3149\n",
      "3149\n",
      "3149\n"
     ]
    }
   ],
   "source": [
    "# Get the length of the array of each topic. It should be the same as the vocabulary.\n",
    "for index,topic in enumerate(nmf_model.components_):\n",
    "    print(len(nmf_model.components_[index]))"
   ]
  },
  {
   "cell_type": "code",
   "execution_count": 10,
   "metadata": {},
   "outputs": [
    {
     "name": "stdout",
     "output_type": "stream",
     "text": [
      "[0.0001327  0.00022051 0.         ... 0.00101038 0.         0.        ]\n"
     ]
    }
   ],
   "source": [
    "# Get the array of the first topic \n",
    "first_topic = nmf_model.components_[0]\n",
    "# This is the ranking of each word in the array. Lower values have less impact than higher values.\n",
    "print(first_topic)"
   ]
  },
  {
   "cell_type": "code",
   "execution_count": 11,
   "metadata": {},
   "outputs": [
    {
     "name": "stdout",
     "output_type": "stream",
     "text": [
      "[ 247 3114   94 1079   97 1336 1960 3115 2295  210]\n"
     ]
    }
   ],
   "source": [
    "# Get the indices of the top ten words for the first topic (e.g., top 10 words for topic 0):\n",
    "top_word_indices = first_topic.argsort()[-10:][::-1]\n",
    "print(top_word_indices)"
   ]
  },
  {
   "cell_type": "code",
   "execution_count": 12,
   "metadata": {},
   "outputs": [
    {
     "name": "stdout",
     "output_type": "stream",
     "text": [
      "best\n",
      "world\n",
      "america\n",
      "food\n",
      "americas\n",
      "hotels\n",
      "order\n",
      "worlds\n",
      "restaurants\n",
      "bars\n"
     ]
    }
   ],
   "source": [
    "# Get the top ten words from the indices. \n",
    "for index in top_word_indices:\n",
    "    print(tfidf.get_feature_names_out()[index])"
   ]
  },
  {
   "cell_type": "code",
   "execution_count": 13,
   "metadata": {},
   "outputs": [
    {
     "name": "stdout",
     "output_type": "stream",
     "text": [
      "The top 30 words for topic #1\n",
      "['way', 'things', 'hotel', 'friday', 'cheese', 'huffpost', 'foods', 'ways', 'black', 'test', 'eat', 'deathmatch', 'according', 'beaches', 'deals', 'taste', 'time', 'worst', 'places', 'cities', 'bars', 'restaurants', 'worlds', 'order', 'hotels', 'americas', 'food', 'america', 'world', 'best']\n",
      "\n",
      "\n",
      "The top 30 words for topic #2\n",
      "['trailer', 'tech', 'rumors', 'time', 'ad', 'shows', 'love', 'heres', 'netflix', 'prime', 'year', 'game', 'hulu', 'orleans', 'like', 'amazon', 'world', 'just', 'youtube', 'videos', 'years', 'iphone', 'video', 'thats', 'city', 'apple', 'week', 'watch', 'york', 'new']\n",
      "\n",
      "\n",
      "The top 30 words for topic #3\n",
      "['breakfast', 'chocolate', 'fall', 'taste', 'coffee', 'italian', 'instagram', 'dinner', 'time', 'easy', 'ice', 'worst', 'summer', 'things', 'ways', 'cream', 'need', 'favorite', 'order', 'better', 'eat', 'cook', 'cheese', 'love', 'dessert', 'like', 'food', 'make', 'recipes', 'photos']\n",
      "\n",
      "\n",
      "The top 30 words for topic #4\n",
      "['giuliani', 'wont', 'fox', 'calls', 'users', 'million', 'administration', 'mueller', 'election', 'nfl', 'melania', 'hes', 'john', 'president', 'coronavirus', 'news', 'people', 'joe', 'just', 'report', 'covid', 'gop', 'white', 'biden', 'trumps', 'house', 'twitter', 'says', 'donald', 'trump']\n",
      "\n",
      "\n",
      "The top 30 words for topic #5\n",
      "['pay', 'things', 'need', 'know', 'big', 'model', 'better', 'uber', 'leaders', 'sexual', 'small', 'men', 'company', 'ways', 'partner', 'way', 'make', 'executive', 'vice', 'officer', 'chief', 'marketing', 'cofounder', 'director', 'president', 'founder', 'ceo', 'qa', 'women', 'business']\n",
      "\n",
      "\n",
      "The top 30 words for topic #6\n",
      "['grilled', 'just', 'weekend', 'zucchini', 'stuffed', 'bread', 'chips', 'st', 'cream', 'mothers', 'pie', 'potato', 'perfect', 'fathers', 'corn', 'soup', 'ride', 'labor', 'national', 'video', 'youll', 'salad', 'chicken', 'chocolate', 'valentines', 'cake', 'need', 'make', 'recipe', 'day']\n",
      "\n",
      "\n",
      "The top 30 words for topic #7\n",
      "['insurance', 'vacation', 'like', 'people', 'didnt', 'trip', 'hacks', 'apps', 'holiday', 'save', 'year', 'want', 'places', 'time', 'better', 'summer', 'way', 'destinations', 'dont', 'need', 'things', 'world', 'reasons', 'know', 'weekly', 'zen', 'tips', 'ways', 'make', 'travel']\n",
      "\n",
      "\n"
     ]
    }
   ],
   "source": [
    "# Print the top 20 words for each topic\n",
    "for index,topic in enumerate(nmf_model.components_):\n",
    "    print(f'The top 30 words for topic #{index+1}')\n",
    "    print([tfidf.get_feature_names_out()[i] for i in topic.argsort()[-30:]])\n",
    "    print('\\n')"
   ]
  },
  {
   "cell_type": "markdown",
   "metadata": {},
   "source": [
    "### Taking our best guess at the topics.\n",
    "---\n",
    "- TOPIC 1: **Entertainment**\n",
    "- TOPIC 2: **Technology**\n",
    "- TOPIC 3: **Food and Drink**\n",
    "- TOPIC 4: **Politics**\n",
    "- TOPIC 5: **Business**\n",
    "- TOPIC 6: **Sports**\n",
    "- TOPIC 7: **Travel**"
   ]
  },
  {
   "cell_type": "markdown",
   "metadata": {},
   "source": [
    "## Assigning the Topic to the Headline"
   ]
  },
  {
   "cell_type": "code",
   "execution_count": 14,
   "metadata": {},
   "outputs": [
    {
     "data": {
      "text/plain": [
       "(23377, 7)"
      ]
     },
     "execution_count": 14,
     "metadata": {},
     "output_type": "execute_result"
    }
   ],
   "source": [
    "# Transform our DTM so we get an array with the (number_of_documents, number_of_topics).\n",
    "topic_results = nmf_model.transform(dtm)\n",
    "\n",
    "# Get the shape of the topic results\n",
    "topic_results.shape"
   ]
  },
  {
   "cell_type": "code",
   "execution_count": 15,
   "metadata": {},
   "outputs": [
    {
     "name": "stdout",
     "output_type": "stream",
     "text": [
      "Ranking of topics for the first headline:\n",
      "   Rank 1: Topic 7, Probability: 0.002277\n",
      "   Rank 2: Topic 4, Probability: 0.001495\n",
      "   Rank 3: Topic 2, Probability: 0.001041\n",
      "   Rank 4: Topic 5, Probability: 0.000894\n",
      "   Rank 5: Topic 3, Probability: 0.000472\n",
      "   Rank 6: Topic 1, Probability: 0.000284\n",
      "   Rank 7: Topic 6, Probability: 0.000208\n"
     ]
    }
   ],
   "source": [
    "# Get the sorted indices for each topic in the first headline.\n",
    "sorted_indices = np.argsort(-topic_results[0])\n",
    "# Print the ranking of topics for the headline\n",
    "print(\"Ranking of topics for the first headline:\")\n",
    "for rank, topic_index in enumerate(sorted_indices):\n",
    "    print(f\"   Rank {rank+1}: Topic {topic_index+1}, Probability: {topic_results[0, topic_index]:.6f}\")"
   ]
  },
  {
   "cell_type": "code",
   "execution_count": 16,
   "metadata": {},
   "outputs": [],
   "source": [
    "# Read in our original news headlines. \n",
    "news_articles_df_2 = pd.read_csv('Resources/news_articles.csv')\n",
    "# Combine the original data with the topic label. \n",
    "news_articles_df_2['topic'] = (topic_results.argmax(axis=1)+1)"
   ]
  },
  {
   "cell_type": "code",
   "execution_count": 17,
   "metadata": {},
   "outputs": [
    {
     "data": {
      "text/html": [
       "<div>\n",
       "<style scoped>\n",
       "    .dataframe tbody tr th:only-of-type {\n",
       "        vertical-align: middle;\n",
       "    }\n",
       "\n",
       "    .dataframe tbody tr th {\n",
       "        vertical-align: top;\n",
       "    }\n",
       "\n",
       "    .dataframe thead th {\n",
       "        text-align: right;\n",
       "    }\n",
       "</style>\n",
       "<table border=\"1\" class=\"dataframe\">\n",
       "  <thead>\n",
       "    <tr style=\"text-align: right;\">\n",
       "      <th></th>\n",
       "      <th>headline</th>\n",
       "      <th>topic</th>\n",
       "    </tr>\n",
       "  </thead>\n",
       "  <tbody>\n",
       "    <tr>\n",
       "      <th>0</th>\n",
       "      <td>Is 22 Too Young To Marry A 36-Year-Old? 'The Bachelor' Investigates</td>\n",
       "      <td>7</td>\n",
       "    </tr>\n",
       "    <tr>\n",
       "      <th>1</th>\n",
       "      <td>The Only Shopping Guide For Cyber Monday You Need</td>\n",
       "      <td>7</td>\n",
       "    </tr>\n",
       "    <tr>\n",
       "      <th>2</th>\n",
       "      <td>Taylor Swift Dances When No One Can See Her In New 'Delicate' Video</td>\n",
       "      <td>2</td>\n",
       "    </tr>\n",
       "    <tr>\n",
       "      <th>3</th>\n",
       "      <td>How To Say 'Cheers' In 20 Languages (AUDIO)</td>\n",
       "      <td>4</td>\n",
       "    </tr>\n",
       "    <tr>\n",
       "      <th>4</th>\n",
       "      <td>'Welcome To Hell': Rio Police Warn They Can't Promise Olympic Protection</td>\n",
       "      <td>4</td>\n",
       "    </tr>\n",
       "    <tr>\n",
       "      <th>5</th>\n",
       "      <td>Conservative Pundit Points Out Where Real Blame For GOP’s ‘Descent Into Madness’ Lies</td>\n",
       "      <td>4</td>\n",
       "    </tr>\n",
       "    <tr>\n",
       "      <th>6</th>\n",
       "      <td>We Asked The American Public To Settle 5 Of The Internet's Dumbest Debates</td>\n",
       "      <td>4</td>\n",
       "    </tr>\n",
       "    <tr>\n",
       "      <th>7</th>\n",
       "      <td>'Teen Mom OG's' Catelynn Lowell Heads To Treatment Over Suicidal Thoughts</td>\n",
       "      <td>4</td>\n",
       "    </tr>\n",
       "    <tr>\n",
       "      <th>8</th>\n",
       "      <td>The Major Problem With Electric Cars | TIME.com</td>\n",
       "      <td>4</td>\n",
       "    </tr>\n",
       "    <tr>\n",
       "      <th>9</th>\n",
       "      <td>Why Is Nobel-Winning Economist Richard Thaler So Jovial?</td>\n",
       "      <td>4</td>\n",
       "    </tr>\n",
       "  </tbody>\n",
       "</table>\n",
       "</div>"
      ],
      "text/plain": [
       "                                                                                headline  \\\n",
       "0                    Is 22 Too Young To Marry A 36-Year-Old? 'The Bachelor' Investigates   \n",
       "1                                      The Only Shopping Guide For Cyber Monday You Need   \n",
       "2                    Taylor Swift Dances When No One Can See Her In New 'Delicate' Video   \n",
       "3                                            How To Say 'Cheers' In 20 Languages (AUDIO)   \n",
       "4               'Welcome To Hell': Rio Police Warn They Can't Promise Olympic Protection   \n",
       "5  Conservative Pundit Points Out Where Real Blame For GOP’s ‘Descent Into Madness’ Lies   \n",
       "6             We Asked The American Public To Settle 5 Of The Internet's Dumbest Debates   \n",
       "7              'Teen Mom OG's' Catelynn Lowell Heads To Treatment Over Suicidal Thoughts   \n",
       "8                                        The Major Problem With Electric Cars | TIME.com   \n",
       "9                               Why Is Nobel-Winning Economist Richard Thaler So Jovial?   \n",
       "\n",
       "   topic  \n",
       "0      7  \n",
       "1      7  \n",
       "2      2  \n",
       "3      4  \n",
       "4      4  \n",
       "5      4  \n",
       "6      4  \n",
       "7      4  \n",
       "8      4  \n",
       "9      4  "
      ]
     },
     "execution_count": 17,
     "metadata": {},
     "output_type": "execute_result"
    }
   ],
   "source": [
    "# Get the first 10 rows. \n",
    "news_articles_df_2.head(10)"
   ]
  },
  {
   "cell_type": "code",
   "execution_count": 18,
   "metadata": {},
   "outputs": [
    {
     "data": {
      "text/html": [
       "<div>\n",
       "<style scoped>\n",
       "    .dataframe tbody tr th:only-of-type {\n",
       "        vertical-align: middle;\n",
       "    }\n",
       "\n",
       "    .dataframe tbody tr th {\n",
       "        vertical-align: top;\n",
       "    }\n",
       "\n",
       "    .dataframe thead th {\n",
       "        text-align: right;\n",
       "    }\n",
       "</style>\n",
       "<table border=\"1\" class=\"dataframe\">\n",
       "  <thead>\n",
       "    <tr style=\"text-align: right;\">\n",
       "      <th></th>\n",
       "      <th>headline</th>\n",
       "      <th>topic</th>\n",
       "    </tr>\n",
       "  </thead>\n",
       "  <tbody>\n",
       "    <tr>\n",
       "      <th>23367</th>\n",
       "      <td>These Are 33 Of The Best, Most Iconic American Foods</td>\n",
       "      <td>1</td>\n",
       "    </tr>\n",
       "    <tr>\n",
       "      <th>23368</th>\n",
       "      <td>Does Your Marketing Plan Need an Exit Strategy?</td>\n",
       "      <td>7</td>\n",
       "    </tr>\n",
       "    <tr>\n",
       "      <th>23369</th>\n",
       "      <td>Summer Fancy Food Show, Part I</td>\n",
       "      <td>3</td>\n",
       "    </tr>\n",
       "    <tr>\n",
       "      <th>23370</th>\n",
       "      <td>7 Reasons to Include Galapagos Islands on Your Bucket List</td>\n",
       "      <td>7</td>\n",
       "    </tr>\n",
       "    <tr>\n",
       "      <th>23371</th>\n",
       "      <td>Biden To Republicans Threatening To Challenge Vaccine, Testing Mandates: ‘Have At It’</td>\n",
       "      <td>4</td>\n",
       "    </tr>\n",
       "    <tr>\n",
       "      <th>23372</th>\n",
       "      <td>Biden's Health Agenda Starts With Reversing Everything Trump Did In The Last 4 Years</td>\n",
       "      <td>4</td>\n",
       "    </tr>\n",
       "    <tr>\n",
       "      <th>23373</th>\n",
       "      <td>You Know Where You Are From the Very First Bite</td>\n",
       "      <td>7</td>\n",
       "    </tr>\n",
       "    <tr>\n",
       "      <th>23374</th>\n",
       "      <td>9 Cheeses We Would Happily Marry, If That Was Allowed</td>\n",
       "      <td>6</td>\n",
       "    </tr>\n",
       "    <tr>\n",
       "      <th>23375</th>\n",
       "      <td>Donald Trump Has A Surprising Response To Golfer Rory McIlroy's Criticism</td>\n",
       "      <td>4</td>\n",
       "    </tr>\n",
       "    <tr>\n",
       "      <th>23376</th>\n",
       "      <td>Fast Food Strikes Hit Cities Throughout The Country</td>\n",
       "      <td>3</td>\n",
       "    </tr>\n",
       "  </tbody>\n",
       "</table>\n",
       "</div>"
      ],
      "text/plain": [
       "                                                                                    headline  \\\n",
       "23367                                   These Are 33 Of The Best, Most Iconic American Foods   \n",
       "23368                                        Does Your Marketing Plan Need an Exit Strategy?   \n",
       "23369                                                         Summer Fancy Food Show, Part I   \n",
       "23370                             7 Reasons to Include Galapagos Islands on Your Bucket List   \n",
       "23371  Biden To Republicans Threatening To Challenge Vaccine, Testing Mandates: ‘Have At It’   \n",
       "23372   Biden's Health Agenda Starts With Reversing Everything Trump Did In The Last 4 Years   \n",
       "23373                                        You Know Where You Are From the Very First Bite   \n",
       "23374                                  9 Cheeses We Would Happily Marry, If That Was Allowed   \n",
       "23375              Donald Trump Has A Surprising Response To Golfer Rory McIlroy's Criticism   \n",
       "23376                                    Fast Food Strikes Hit Cities Throughout The Country   \n",
       "\n",
       "       topic  \n",
       "23367      1  \n",
       "23368      7  \n",
       "23369      3  \n",
       "23370      7  \n",
       "23371      4  \n",
       "23372      4  \n",
       "23373      7  \n",
       "23374      6  \n",
       "23375      4  \n",
       "23376      3  "
      ]
     },
     "execution_count": 18,
     "metadata": {},
     "output_type": "execute_result"
    }
   ],
   "source": [
    "# Get the last 10 rows. \n",
    "news_articles_df_2.tail(10)"
   ]
  },
  {
   "cell_type": "code",
   "execution_count": null,
   "metadata": {},
   "outputs": [],
   "source": []
  }
 ],
 "metadata": {
  "kernelspec": {
   "display_name": "Python 3 (ipykernel)",
   "language": "python",
   "name": "python3"
  },
  "language_info": {
   "codemirror_mode": {
    "name": "ipython",
    "version": 3
   },
   "file_extension": ".py",
   "mimetype": "text/x-python",
   "name": "python",
   "nbconvert_exporter": "python",
   "pygments_lexer": "ipython3",
   "version": "3.10.12"
  }
 },
 "nbformat": 4,
 "nbformat_minor": 2
}
