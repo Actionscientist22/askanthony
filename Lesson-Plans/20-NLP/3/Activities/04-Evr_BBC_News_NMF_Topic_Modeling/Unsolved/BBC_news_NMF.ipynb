{
 "cells": [
  {
   "cell_type": "code",
   "execution_count": null,
   "metadata": {},
   "outputs": [],
   "source": [
    "# Import the dependencies \n",
    "import pandas as pd\n",
    "import re\n",
    "import numpy as np\n",
    "from sklearn.feature_extraction.text import TfidfVectorizer\n",
    "from sklearn.decomposition import NMF\n",
    "\n",
    "# Set the column width to 200.\n",
    "pd.set_option('max_colwidth', 200)"
   ]
  },
  {
   "cell_type": "code",
   "execution_count": null,
   "metadata": {},
   "outputs": [],
   "source": [
    "# Read the bbc_news_articles.csv file into a DataFrame.\n",
    "\n",
    "# Display the first 20 rows. \n"
   ]
  },
  {
   "cell_type": "markdown",
   "metadata": {},
   "source": [
    "## Preprocessing"
   ]
  },
  {
   "cell_type": "code",
   "execution_count": null,
   "metadata": {},
   "outputs": [],
   "source": [
    "# Check for null values.\n"
   ]
  },
  {
   "cell_type": "code",
   "execution_count": null,
   "metadata": {},
   "outputs": [],
   "source": [
    "# Remove numbers and non-alphabetic characters from the news_summary column.\n"
   ]
  },
  {
   "cell_type": "markdown",
   "metadata": {},
   "source": [
    "## Create a TF-IDF matrix from our documents."
   ]
  },
  {
   "cell_type": "code",
   "execution_count": null,
   "metadata": {},
   "outputs": [],
   "source": [
    "# Create an instance of the TfidfVectorizer and set the max_df to 0.95 and min_df to 5, and use the English stopwords to be ignored.\n"
   ]
  },
  {
   "cell_type": "code",
   "execution_count": null,
   "metadata": {},
   "outputs": [],
   "source": [
    "# Transform each row from the news summary to a DTM.\n",
    "\n",
    "# Get the shape of the DTM.\n"
   ]
  },
  {
   "cell_type": "markdown",
   "metadata": {},
   "source": [
    "## Applying NMF"
   ]
  },
  {
   "cell_type": "code",
   "execution_count": null,
   "metadata": {},
   "outputs": [],
   "source": [
    "# Initialize the NMF and set the number of topics to 5. \n",
    "\n",
    "# Fit the model with our DTM data. \n"
   ]
  },
  {
   "cell_type": "code",
   "execution_count": null,
   "metadata": {},
   "outputs": [],
   "source": [
    "# Check the length of the vocabulary \n"
   ]
  },
  {
   "cell_type": "markdown",
   "metadata": {},
   "source": [
    "## Get the Top 15 Words Per Topic"
   ]
  },
  {
   "cell_type": "code",
   "execution_count": null,
   "metadata": {},
   "outputs": [],
   "source": [
    "# Print the top 15 words for each topic\n"
   ]
  },
  {
   "cell_type": "markdown",
   "metadata": {},
   "source": [
    "### **Question:** What is the label for each topic? \n",
    "---\n",
    "- TOPIC 1: \n",
    "- TOPIC 2: \n",
    "- TOPIC 3: \n",
    "- TOPIC 4: \n",
    "- TOPIC 5: "
   ]
  },
  {
   "cell_type": "markdown",
   "metadata": {},
   "source": [
    "## Assign the Topics and Labels to the News Summaries"
   ]
  },
  {
   "cell_type": "code",
   "execution_count": null,
   "metadata": {},
   "outputs": [],
   "source": [
    "# Transform our DTM so we get an array with the (number_of_documents, number_of_topics).\n",
    "\n",
    "\n",
    "# Get the shape of the topic results\n"
   ]
  },
  {
   "cell_type": "code",
   "execution_count": null,
   "metadata": {},
   "outputs": [],
   "source": [
    "# Read the bbc_news_articles.csv file into a DataFrame.\n",
    "news_articles_df_2 = pd.read_csv('Resources/bbc_news_articles.csv')\n",
    "# Display the DataFrame. \n",
    "news_articles_df_2.head()"
   ]
  },
  {
   "cell_type": "code",
   "execution_count": null,
   "metadata": {},
   "outputs": [],
   "source": [
    "# Use the add_topic_labels function to add the topic and topic label to each news summary. \n",
    "# Dictionary of  topics and topic label.\n",
    "topic_labels = {\n",
    "    1: '',\n",
    "    2: '',\n",
    "    3: '',\n",
    "    4: '',\n",
    "    5: ''\n",
    "}\n",
    "\n",
    "# Define the function and pass in the DataFrame, the topic_results, and topic_labels dictionary.\n",
    "def add_topic_labels(df, topic_results, topic_labels):\n",
    "    # Find the dominant topic for each document and add the label to a new column\n",
    "    df['topic'] = topic_results.argmax(axis=1) + 1\n",
    "    # Use the map function to add the topic label to the news summary based on the topic number.\n",
    "    df['topic_label'] = df['topic'].map(topic_labels)\n"
   ]
  },
  {
   "cell_type": "code",
   "execution_count": null,
   "metadata": {},
   "outputs": [],
   "source": [
    "# Call the function to add topic labels to your DataFrame.\n",
    "add_topic_labels(news_articles_df_2, topic_results, topic_labels)"
   ]
  },
  {
   "cell_type": "code",
   "execution_count": null,
   "metadata": {},
   "outputs": [],
   "source": [
    "# Display the first 10 rows of the updated DataFrame. \n"
   ]
  },
  {
   "cell_type": "code",
   "execution_count": null,
   "metadata": {},
   "outputs": [],
   "source": [
    "# Display the last 10 rows of the updated DataFrame.\n"
   ]
  },
  {
   "cell_type": "code",
   "execution_count": null,
   "metadata": {},
   "outputs": [],
   "source": []
  }
 ],
 "metadata": {
  "kernelspec": {
   "display_name": "Python 3 (ipykernel)",
   "language": "python",
   "name": "python3"
  },
  "language_info": {
   "codemirror_mode": {
    "name": "ipython",
    "version": 3
   },
   "file_extension": ".py",
   "mimetype": "text/x-python",
   "name": "python",
   "nbconvert_exporter": "python",
   "pygments_lexer": "ipython3",
   "version": "3.10.12"
  }
 },
 "nbformat": 4,
 "nbformat_minor": 2
}
