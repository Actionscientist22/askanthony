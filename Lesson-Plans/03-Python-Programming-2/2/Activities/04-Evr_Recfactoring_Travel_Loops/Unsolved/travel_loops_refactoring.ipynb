{
 "cells": [
  {
   "cell_type": "code",
   "execution_count": null,
   "id": "d22e57b7",
   "metadata": {},
   "outputs": [],
   "source": [
    "\"\"\"Refactoring the travel loops code using a function and enumerate where applicable.\"\"\""
   ]
  },
  {
   "cell_type": "code",
   "execution_count": null,
   "id": "fc933d71",
   "metadata": {},
   "outputs": [],
   "source": [
    "\n",
    "# Define the function travel_cities.\n",
    "def travel_cities(cities, cities_daily_cost):\n",
    "    \"\"\"\n",
    "    Update the city list and its corresponding daily cost list.\n",
    "\n",
    "    This function prompts the user to add cities to the city list and their\n",
    "    respective daily costs. It then modifies the daily cost by adding 10 to\n",
    "    each item. Finally, it displays the city and its updated daily cost.\n",
    "\n",
    "    Args:\n",
    "        cities (list): A list of cities.\n",
    "        cities_daily_cost (list): A list of daily costs corresponding to the cities.\n",
    "    Returns:\n",
    "        The list of cities with the daily cost for each city.\n",
    "    \"\"\"\n",
    "    # Add the code to be refactored here:\n"
   ]
  },
  {
   "cell_type": "code",
   "execution_count": null,
   "id": "522bb7a4",
   "metadata": {},
   "outputs": [],
   "source": [
    "\n",
    "if __name__ == \"__main__\":\n",
    "\n",
    "    # Declare lists\n",
    "    cities = [\"Rome\", \"Nairobi\", \"Phnom Penh\", \"Santiago\", \"Toronto\", \"Rotorua\"]\n",
    "    cities_daily_cost = [150, 70, 60, 80, 110, 125]\n",
    "\n",
    "    # Call the function"
   ]
  }
 ],
 "metadata": {
  "language_info": {
   "name": "python"
  }
 },
 "nbformat": 4,
 "nbformat_minor": 5
}
