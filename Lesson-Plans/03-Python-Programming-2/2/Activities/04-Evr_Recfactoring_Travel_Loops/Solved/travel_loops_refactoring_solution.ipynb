{
 "cells": [
  {
   "cell_type": "code",
   "execution_count": null,
   "id": "6de485ba",
   "metadata": {},
   "outputs": [],
   "source": [
    "\"\"\"Refactoring the travel loops code.\"\"\""
   ]
  },
  {
   "cell_type": "code",
   "execution_count": null,
   "id": "f7212ea3",
   "metadata": {},
   "outputs": [],
   "source": [
    "def travel_cities(cities, cities_daily_cost):\n",
    "    \"\"\"\n",
    "    Update the city list and its corresponding daily cost list.\n",
    "\n",
    "    This function prompts the user to add cities to the city list and their\n",
    "    respective daily costs. It then modifies the daily cost by adding 10 to\n",
    "    each item. Finally, it displays the city and its updated daily cost.\n",
    "\n",
    "    Args:\n",
    "        cities (list): A list of cities.\n",
    "        cities_daily_cost (list): A list of daily costs corresponding to the cities.\n",
    "    Returns:\n",
    "        The list of cities with the daily cost for each city.\n",
    "    \"\"\"\n",
    "\n",
    "    print(\"Here are the cities in the current list:\")\n",
    "    for city in cities:\n",
    "        print(city)\n",
    "    print(\"Please add 3 cities to the list of cities:\")\n",
    "    # Create a for loop to ask the user to enter a city that will be added to the list.\n",
    "    for _ in range(3):\n",
    "        city = input(\"What city should be added to the list? \").title()\n",
    "        cities.append(city)\n",
    "\n",
    "    # Use a while loop to append to the cities_daily_cost list as long as that list\n",
    "    # is shorter than the cities list\n",
    "    while len(cities_daily_cost) < len(cities):\n",
    "        # Use the length of cities_daily_cost for the index of cities to print its\n",
    "        # value when asking the cost to append to the cities_daily_cost list\n",
    "        index = len(cities_daily_cost)\n",
    "        cost = int(input(f\"What is the daily cost for {cities[index]}? \"))\n",
    "        cities_daily_cost.append(cost)\n",
    "\n",
    "    # Loop through the cities_daily_cost list and add 10 to each item\n",
    "    for i, cost in enumerate(cities_daily_cost):\n",
    "        cities_daily_cost[i] += 10\n",
    "\n",
    "    # Use a for loop to loop through both of the lists at the same time, since\n",
    "    # they're the same length, and print out the city and daily cost on the same\n",
    "    # line\n",
    "    for i, city in enumerate(cities):\n",
    "        print(f\"Daily cost of {city} is ${cities_daily_cost[i]}\")"
   ]
  },
  {
   "cell_type": "code",
   "execution_count": null,
   "id": "ade0fe4c",
   "metadata": {},
   "outputs": [],
   "source": [
    "if __name__ == \"__main__\":\n",
    "\n",
    "    # Declare lists\n",
    "    cities = [\"Rome\", \"Nairobi\", \"Phnom Penh\", \"Santiago\", \"Toronto\", \"Rotorua\"]\n",
    "    cities_daily_cost = [150, 70, 60, 80, 110, 125]\n",
    "\n",
    "    # Call the function\n",
    "    travel_cities(cities, cities_daily_cost)\n"
   ]
  }
 ],
 "metadata": {
  "language_info": {
   "name": "python"
  }
 },
 "nbformat": 4,
 "nbformat_minor": 5
}
