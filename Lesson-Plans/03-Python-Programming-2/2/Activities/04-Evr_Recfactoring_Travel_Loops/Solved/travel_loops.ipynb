{
 "cells": [
  {
   "cell_type": "code",
   "execution_count": null,
   "id": "3cbad3f0",
   "metadata": {},
   "outputs": [],
   "source": [
    "# Declare lists\n",
    "cities = [\"Rome\", \"Nairobi\", \"Phnom Penh\", \"Santiago\", \"Toronto\", \"Rotorua\"]\n",
    "cities_daily_cost = [150, 70, 60, 80, 110, 125]"
   ]
  },
  {
   "cell_type": "code",
   "execution_count": null,
   "id": "12fd3f5f",
   "metadata": {},
   "outputs": [],
   "source": [
    "print(\"Here are the cities in the current list:\")\n",
    "for city in cities:\n",
    "    print(city)\n",
    "print(\"Please add 3 cities to the list of cities:\")\n",
    "# Create a for loop to ask the user to enter a city that will be added to the list.\n",
    "for _ in range(3):\n",
    "    city = input(\"What city should be added to the list? \").title()\n",
    "    cities.append(city)"
   ]
  },
  {
   "cell_type": "code",
   "execution_count": null,
   "id": "4a23251d",
   "metadata": {},
   "outputs": [],
   "source": [
    "# Use a while loop to append to the cities_daily_cost list as long as that list\n",
    "# is shorter than the cities list\n",
    "while len(cities_daily_cost) < len(cities):\n",
    "    # Use the length of cities_daily_cost for the index of cities to print its\n",
    "    # value when asking the cost to append to the cities_daily_cost list\n",
    "    index = len(cities_daily_cost)\n",
    "    cost = int(input(f\"What is the daily cost for {cities[index]}? \"))\n",
    "    cities_daily_cost.append(cost)"
   ]
  },
  {
   "cell_type": "code",
   "execution_count": null,
   "id": "25c38199",
   "metadata": {},
   "outputs": [],
   "source": [
    "# Loop through the cities_daily_cost list and add 10 to each item\n",
    "for i in range(len(cities_daily_cost)):\n",
    "    cities_daily_cost[i] += 10"
   ]
  },
  {
   "cell_type": "code",
   "execution_count": null,
   "id": "7eafe686",
   "metadata": {},
   "outputs": [],
   "source": [
    "# Use a for loop to loop through both of the lists at the same time, since\n",
    "# they're the same length, and print out the city and daily cost on the same\n",
    "# line\n",
    "for i in range(len(cities)):\n",
    "    print(f\"Daily cost of {cities[i]} is ${cities_daily_cost[i]}\")\n"
   ]
  }
 ],
 "metadata": {},
 "nbformat": 4,
 "nbformat_minor": 5
}
