{
 "cells": [
  {
   "cell_type": "code",
   "execution_count": null,
   "id": "ca3e6954",
   "metadata": {},
   "outputs": [],
   "source": [
    "\"\"\"Refactoring Examples\"\"\""
   ]
  },
  {
   "cell_type": "code",
   "execution_count": null,
   "id": "6941b5ac",
   "metadata": {},
   "outputs": [],
   "source": [
    "# Code using for loop."
   ]
  },
  {
   "cell_type": "code",
   "execution_count": null,
   "id": "919316d6",
   "metadata": {},
   "outputs": [],
   "source": [
    "\n",
    "# Refactored the code to use a list comprehension"
   ]
  },
  {
   "cell_type": "code",
   "execution_count": null,
   "id": "fbea7290",
   "metadata": {},
   "outputs": [],
   "source": [
    "# Code that uses the range() function."
   ]
  },
  {
   "cell_type": "code",
   "execution_count": null,
   "id": "35ccf4be",
   "metadata": {},
   "outputs": [],
   "source": [
    "# Refactored the code to use enumerate()"
   ]
  },
  {
   "cell_type": "code",
   "execution_count": null,
   "id": "afeafb0d",
   "metadata": {},
   "outputs": [],
   "source": [
    "# Code without a function."
   ]
  },
  {
   "cell_type": "code",
   "execution_count": null,
   "id": "d56b3dec",
   "metadata": {},
   "outputs": [],
   "source": [
    "# Refactored code with a function\n"
   ]
  }
 ],
 "metadata": {},
 "nbformat": 4,
 "nbformat_minor": 5
}
