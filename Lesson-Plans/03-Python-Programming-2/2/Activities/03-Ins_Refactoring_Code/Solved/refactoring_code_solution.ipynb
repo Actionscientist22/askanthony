{
 "cells": [
  {
   "cell_type": "code",
   "execution_count": null,
   "id": "35caffbf",
   "metadata": {},
   "outputs": [],
   "source": [
    "\"\"\"Refactoring Examples\"\"\""
   ]
  },
  {
   "cell_type": "code",
   "execution_count": null,
   "id": "b2239673",
   "metadata": {},
   "outputs": [],
   "source": [
    "# Code using for loop.\n",
    "numbers = [1, 2, 3, 4, 5]\n",
    "squared_numbers = []\n",
    "for num in numbers:\n",
    "    squared_numbers.append(num ** 2)"
   ]
  },
  {
   "cell_type": "code",
   "execution_count": null,
   "id": "4f32a34e",
   "metadata": {},
   "outputs": [],
   "source": [
    "print(squared_numbers)"
   ]
  },
  {
   "cell_type": "code",
   "execution_count": null,
   "id": "9442fd1f",
   "metadata": {},
   "outputs": [],
   "source": [
    "# Refactored the code to use a list comprehension\n",
    "numbers = [1, 2, 3, 4, 5]\n",
    "squared_numbers = [num ** 2 for num in numbers]"
   ]
  },
  {
   "cell_type": "code",
   "execution_count": null,
   "id": "ae89abd9",
   "metadata": {},
   "outputs": [],
   "source": [
    "print(squared_numbers)"
   ]
  },
  {
   "cell_type": "code",
   "execution_count": null,
   "id": "d23317ab",
   "metadata": {},
   "outputs": [],
   "source": [
    "\n",
    "# Code that uses the range() function.\n",
    "numbers = [10, 20, 30, 40, 50]\n",
    "for i in range(len(numbers)):\n",
    "    print(f\"Index: {i}, Value: {numbers[i]}\")"
   ]
  },
  {
   "cell_type": "code",
   "execution_count": null,
   "id": "a84108f3",
   "metadata": {},
   "outputs": [],
   "source": [
    "# Refactored the code to use enumerate()\n",
    "numbers = [10, 20, 30, 40, 50]\n",
    "for i, num in enumerate(numbers):\n",
    "    print(f\"Index: {i}, Value: {num}\")"
   ]
  },
  {
   "cell_type": "code",
   "execution_count": null,
   "id": "f471d8d2",
   "metadata": {},
   "outputs": [],
   "source": [
    "\n",
    "# Code without a function.\n",
    "numbers = [5, 10, 15, 20, 25]\n",
    "total = 0\n",
    "count = 0\n",
    "for num in numbers:\n",
    "    total += num\n",
    "    count += 1\n",
    "average = total / count\n",
    "print(f\"The average is: {average}\")"
   ]
  },
  {
   "cell_type": "code",
   "execution_count": null,
   "id": "28b31d49",
   "metadata": {},
   "outputs": [],
   "source": [
    "# Refactored code with a function\n",
    "def calculate_average(numbers):\n",
    "    \"\"\"The function calculates the average of an array of numbers.\"\"\"\n",
    "    total = sum(numbers)\n",
    "    count = len(numbers)\n",
    "    average = total / count\n",
    "    return average"
   ]
  },
  {
   "cell_type": "code",
   "execution_count": null,
   "id": "154e22fe",
   "metadata": {},
   "outputs": [],
   "source": [
    "numbers = [5, 10, 15, 20, 25]\n",
    "average = calculate_average(numbers)\n",
    "print(f\"The average is: {average}\")\n"
   ]
  }
 ],
 "metadata": {},
 "nbformat": 4,
 "nbformat_minor": 5
}
