{
 "cells": [
  {
   "cell_type": "code",
   "execution_count": null,
   "id": "42744fc4",
   "metadata": {},
   "outputs": [],
   "source": [
    "\"\"\"This is a basic ATM Application.\n",
    "This is a program consists of the basic actions of an ATM.\n",
    "\"\"\""
   ]
  },
  {
   "cell_type": "code",
   "execution_count": null,
   "id": "3f420bb7",
   "metadata": {},
   "outputs": [],
   "source": [
    "accounts = [\n",
    "    {\n",
    "    \"pin\": 123456,\n",
    "    \"balance\" : 1436.19},\n",
    "    {\n",
    "    \"pin\" : 246802,\n",
    "    \"balance\": 3571.87},\n",
    "    {\n",
    "    \"pin\": 135791,\n",
    "    \"balance\" : 543.79},\n",
    "    {\n",
    "    \"pin\" : 123987,\n",
    "    \"balance\": 25.89},\n",
    "    {\n",
    "    \"pin\" : 269731,\n",
    "    \"balance\": 3278.42}\n",
    "]"
   ]
  },
  {
   "cell_type": "code",
   "execution_count": null,
   "id": "bb3c473e",
   "metadata": {},
   "outputs": [],
   "source": [
    "# Define the `login` function for the ATM application.\n",
    "def login(pin):\n",
    "    \"\"\"This function uses a for loop to check to validate the PIN against this list of `accounts`.\n",
    "        If the PIN is validated, the function should return the account's balance.\n",
    "    Args:\n",
    "        pin (integer): The users pin number\n",
    "\n",
    "    Returns:\n",
    "        If the pin matches one of the pin numbers in the \"accounts\"\n",
    "        the account balance is returned.\n",
    "    \"\"\"\n",
    "    for account in accounts:\n",
    "        if int(pin) == account[\"pin\"]:\n",
    "            account_balance = account['balance']\n",
    "\n",
    "    return account_balance"
   ]
  },
  {
   "cell_type": "code",
   "execution_count": null,
   "id": "835eefec",
   "metadata": {},
   "outputs": [],
   "source": [
    "# Define the `check_balance` function for the ATM application.\n",
    "def check_balance(account_balance):\n",
    "    \"\"\"The function uses the account balance as a parameter.\n",
    "    and returns the balance of the account.\n",
    "\n",
    "    Args:\n",
    "        account_balance (float): The balance of the account.\n",
    "\n",
    "    Returns:\n",
    "        Prints the account balance formatted to two decimal places and thousandths.\n",
    "    \"\"\"\n",
    "    print(f\"The balance in your account is ${account_balance}.\")"
   ]
  },
  {
   "cell_type": "code",
   "execution_count": null,
   "id": "6b87ea80",
   "metadata": {},
   "outputs": [],
   "source": [
    "# Define the `make_deposit` function for the ATM application.\n",
    "def make_deposit(account_balance, deposit):\n",
    "    \"\"\"# This function takes in the account balance and deposit amount as parameters.\n",
    "    Then validates that the deposit amount is greater than 0.\n",
    "\n",
    "    Args:\n",
    "        account_balance (float): The balance of the account\n",
    "        deposit (float): An amount deposited into the account greater than 0.\n",
    "\n",
    "    Returns:\n",
    "        The function returns the balance after being adjusted for the deposit.\n",
    "\n",
    "    Notes:\n",
    "        The deposit balance should equal the account balance plus the deposit amount.\n",
    "    \"\"\"\n",
    "    if deposit > 0:\n",
    "        deposit_balance = account_balance + deposit\n",
    "        print(f\"The new balance of your account is ${deposit_balance}.\")\n",
    "    else:\n",
    "        print(\"Your deposit amount must be positive.\")\n",
    "    return deposit_balance"
   ]
  },
  {
   "cell_type": "code",
   "execution_count": null,
   "id": "f5183cca",
   "metadata": {},
   "outputs": [],
   "source": [
    "# Define the `make_withdrawal` function for the ATM application.\n",
    "def make_withdrawal(account_balance, withdrawal):\n",
    "    \"\"\"This function should take in the account balance and withdrawal amount as parameters.\n",
    "    The function validates that the account balance is greater than the withdrawal.\n",
    "\n",
    "    Args:\n",
    "        account_balance (float): The balance of the account.\n",
    "        withdrawal (integer): Withdrawals are whole dollars.\n",
    "\n",
    "    Returns:\n",
    "         The function returns the account balance after being adjusted for the withdrawal.\n",
    "\n",
    "    Notes:\n",
    "        The withdrawal balance should equal the account balance minus the withdrawal amount.\n",
    "    \"\"\"\n",
    "    if account_balance > withdrawal:\n",
    "        withdrawal_balance = account_balance - withdrawal\n",
    "        print(f\"The new balance of your account is ${withdrawal_balance}.\")\n",
    "    else:\n",
    "        print(\"You do not have the funds to make this withdrawal.\")\n",
    "    return withdrawal_balance\n"
   ]
  }
 ],
 "metadata": {
  "language_info": {
   "name": "python"
  }
 },
 "nbformat": 4,
 "nbformat_minor": 5
}
