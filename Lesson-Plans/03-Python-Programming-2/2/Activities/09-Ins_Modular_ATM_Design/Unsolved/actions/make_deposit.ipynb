{
 "cells": [
  {
   "cell_type": "code",
   "execution_count": null,
   "id": "af988965",
   "metadata": {},
   "outputs": [],
   "source": [
    "\"\"\"Adjusts account balance after a deposit.\"\"\""
   ]
  },
  {
   "cell_type": "code",
   "execution_count": null,
   "id": "c77fcd1f",
   "metadata": {},
   "outputs": [],
   "source": [
    "import sys"
   ]
  },
  {
   "cell_type": "code",
   "execution_count": null,
   "id": "fa3a1793",
   "metadata": {},
   "outputs": [],
   "source": [
    "\n",
    "def make_deposit(account):\n",
    "    \"\"\"This function prompts the user to make a deposit.\n",
    "    If the amount is greater than 0.0 the balance was successful.\n",
    "    If the amount is less than 0.0 then the system ask the user to try again."
   ]
  },
  {
   "cell_type": "code",
   "execution_count": null,
   "id": "59e9d59d",
   "metadata": {},
   "outputs": [],
   "source": [
    "    Args:\n",
    "        account (dict): The keys and values of the validated account."
   ]
  },
  {
   "cell_type": "code",
   "execution_count": null,
   "id": "83f95d98",
   "metadata": {},
   "outputs": [],
   "source": [
    "    Returns:\n",
    "        account (dict): The account balance after the deposit.\n",
    "    \"\"\"\n",
    "    # Use input to determine the amount of the deposit\n",
    "    # Re-type amount from a string to a floating point number.\n"
   ]
  }
 ],
 "metadata": {},
 "nbformat": 4,
 "nbformat_minor": 5
}
