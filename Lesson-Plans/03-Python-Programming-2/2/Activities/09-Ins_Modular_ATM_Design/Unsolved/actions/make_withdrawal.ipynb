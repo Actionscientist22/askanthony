{
 "cells": [
  {
   "cell_type": "code",
   "execution_count": null,
   "id": "2225587c",
   "metadata": {},
   "outputs": [],
   "source": [
    "\"\"\"Adjusts account balance after a withdrawal\"\"\""
   ]
  },
  {
   "cell_type": "code",
   "execution_count": null,
   "id": "24c57e11",
   "metadata": {},
   "outputs": [],
   "source": [
    "import sys"
   ]
  },
  {
   "cell_type": "code",
   "execution_count": null,
   "id": "c8ee31e6",
   "metadata": {},
   "outputs": [],
   "source": [
    "\n",
    "def make_withdrawal(account):\n",
    "    \"\"\"This function prompts the user to make a withdrawal.\n",
    "    If the amount is less than or equal to 0.0 the withdrawal the system ask the user to try again.\n",
    "    If the amount is less than or equal to the account balance the withdrawal was successful.\n",
    "    Else the the withdrawal can't be made, and the system ask the user to try again."
   ]
  },
  {
   "cell_type": "code",
   "execution_count": null,
   "id": "7f48c256",
   "metadata": {},
   "outputs": [],
   "source": [
    "    Args:\n",
    "        account (dict): The keys and values of the validated account."
   ]
  },
  {
   "cell_type": "code",
   "execution_count": null,
   "id": "fe638b21",
   "metadata": {},
   "outputs": [],
   "source": [
    "    Returns:\n",
    "        account (dict): The account balance after the withdrawal.\n",
    "    \"\"\"\n",
    "    # Use input to determine the amount of the withdrawal\n",
    "    # Re-type amount from a string to a floating point number.\n"
   ]
  }
 ],
 "metadata": {},
 "nbformat": 4,
 "nbformat_minor": 5
}
