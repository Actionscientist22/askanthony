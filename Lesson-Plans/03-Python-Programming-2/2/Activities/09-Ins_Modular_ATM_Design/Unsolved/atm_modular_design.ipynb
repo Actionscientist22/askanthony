{
 "cells": [
  {
   "cell_type": "code",
   "execution_count": null,
   "id": "df6345a9",
   "metadata": {},
   "outputs": [],
   "source": [
    "\"\"\"This is a basic ATM Application.\n",
    "This is a program consists of the basic actions of an ATM.\n",
    "\"\"\""
   ]
  },
  {
   "cell_type": "code",
   "execution_count": null,
   "id": "758415f0",
   "metadata": {},
   "outputs": [],
   "source": [
    "import csv\n",
    "import sys\n",
    "from pathlib import Path"
   ]
  },
  {
   "cell_type": "code",
   "execution_count": null,
   "id": "b70d5bd4",
   "metadata": {},
   "outputs": [],
   "source": [
    "\n",
    "def load_accounts():\n",
    "    \"\"\"This function opens the CSV file. And appends each account: the pin and balance,\n",
    "    to the accounts lists."
   ]
  },
  {
   "cell_type": "code",
   "execution_count": null,
   "id": "d6a1d50d",
   "metadata": {},
   "outputs": [],
   "source": [
    "    Returns:\n",
    "        accounts (dict object): A dictionary of all the accounts.\n",
    "    \"\"\"\n",
    "    csvpath = Path('data/accounts.csv')\n",
    "    accounts = []\n",
    "    # Open and read the CSV file.\n",
    "    with open(csvpath, newline='', encoding='utf-8') as csvfile:\n",
    "        #  Get the rows of the CSV file.\n",
    "        rows = csv.reader(csvfile)\n",
    "        # Skip reading the header row.\n",
    "        header = next(rows)\n",
    "        for row in rows:\n",
    "            pin = int(row[0])\n",
    "            balance = float(row[1])\n",
    "            account = {\n",
    "                \"pin\": pin,\n",
    "                \"balance\": balance\n",
    "            }\n",
    "            accounts.append(account)\n",
    "        return accounts"
   ]
  },
  {
   "cell_type": "code",
   "execution_count": null,
   "id": "f704bbf7",
   "metadata": {},
   "outputs": [],
   "source": [
    "\n",
    "def validate_pin(pin):\n",
    "    \"\"\"This function takes in the pin given by the user\n",
    "    and checks to make sure its length is 6."
   ]
  },
  {
   "cell_type": "code",
   "execution_count": null,
   "id": "6ed50cf9",
   "metadata": {},
   "outputs": [],
   "source": [
    "    Args:\n",
    "        pin (integer): The pin for the account."
   ]
  },
  {
   "cell_type": "code",
   "execution_count": null,
   "id": "753c6866",
   "metadata": {},
   "outputs": [],
   "source": [
    "    Returns:\n",
    "        If the pin is correct, the login function loads the account.\n",
    "        If the pin is incorrect, the system lets the user know that the pin is incorrect.\n",
    "    \"\"\"\n",
    "    # Verifies length of pin is 6 digits prints validations message and return True. Else returns False.\n",
    "    if len(pin) == 6:\n",
    "        print(\"Your PIN is valid\")\n",
    "        return True\n",
    "    else:\n",
    "        return False"
   ]
  },
  {
   "cell_type": "code",
   "execution_count": null,
   "id": "5a7e2916",
   "metadata": {},
   "outputs": [],
   "source": [
    "\n",
    "def main_menu():\n",
    "    \"\"\"Dialog for the ATM Main Menu.\"\"\""
   ]
  },
  {
   "cell_type": "code",
   "execution_count": null,
   "id": "3730c4c6",
   "metadata": {},
   "outputs": [],
   "source": [
    "    # Determines action taken by application.\n",
    "    action = input(\"Would you like to check your balance (b), make a deposit (d) or make a withdrawal (w)? Enter b, d, or w. \\n\")\n",
    "    return action"
   ]
  },
  {
   "cell_type": "code",
   "execution_count": null,
   "id": "59e9687d",
   "metadata": {},
   "outputs": [],
   "source": [
    "\n",
    "def login():\n",
    "    \"\"\"This function uses a for loop to check to validate the PIN against this list of `accounts`.\n",
    "        If the PIN is validated, the function should return the account's balance.\n",
    "    Args:\n",
    "        pin (integer): The users pin number"
   ]
  },
  {
   "cell_type": "code",
   "execution_count": null,
   "id": "cab563b8",
   "metadata": {},
   "outputs": [],
   "source": [
    "    Returns:\n",
    "        If the pin matches one of the pin numbers in the \"accounts\"\n",
    "        the account is returned.\n",
    "    \"\"\"\n",
    "    pin = input(\"Please enter your pin:\\n\")\n",
    "    if not validate_pin(pin):\n",
    "        sys.exit(\"Sorry, your account PIN is not valid. It must be 6 digits in length.\")"
   ]
  },
  {
   "cell_type": "code",
   "execution_count": null,
   "id": "374cdf4a",
   "metadata": {},
   "outputs": [],
   "source": [
    "    # If pin validates, calls load_accounts() and then verifies pin against accounts list. Returns account that matches pin.\n",
    "    accounts = load_accounts()"
   ]
  },
  {
   "cell_type": "code",
   "execution_count": null,
   "id": "c9dc506d",
   "metadata": {},
   "outputs": [],
   "source": [
    "    for account in accounts:\n",
    "        if int(pin) == account[\"pin\"]:\n",
    "            return account\n",
    "        # If no account was returned above, exit with an error"
   ]
  },
  {
   "cell_type": "code",
   "execution_count": null,
   "id": "cf3143c9",
   "metadata": {},
   "outputs": [],
   "source": [
    "    sys.exit(\n",
    "        \"Sorry, your login was not successful. Your PIN does not link to an account. Please check your PIN and try again.\"\n",
    "    )"
   ]
  },
  {
   "cell_type": "code",
   "execution_count": null,
   "id": "7f2188be",
   "metadata": {},
   "outputs": [],
   "source": [
    "\n",
    "def make_deposit(account):\n",
    "    \"\"\"This function prompts the user to make a deposit.\n",
    "    If the amount is greater than 0.0 the balance was successful.\n",
    "    If the amount is less than 0.0 then the system ask the user to try again."
   ]
  },
  {
   "cell_type": "code",
   "execution_count": null,
   "id": "ef8c9300",
   "metadata": {},
   "outputs": [],
   "source": [
    "    Args:\n",
    "        account (dict): The keys and values of the validated account."
   ]
  },
  {
   "cell_type": "code",
   "execution_count": null,
   "id": "64359158",
   "metadata": {},
   "outputs": [],
   "source": [
    "    Returns:\n",
    "        account (dict): The account balance after the deposit.\n",
    "    \"\"\"\n",
    "    # Use input to determine the amount of the deposit\n",
    "    # Re-type amount from a string to a floating point number.\n",
    "    amount = input(\"How much would you like to deposit?\\n\")\n",
    "    amount = float(amount)"
   ]
  },
  {
   "cell_type": "code",
   "execution_count": null,
   "id": "c7f58b20",
   "metadata": {},
   "outputs": [],
   "source": [
    "  # Validates amount of deposit. If true processes deposit, else returns error.\n",
    "    if amount > 0.0:\n",
    "        account[\"balance\"] = account[\"balance\"] + amount\n",
    "        print(\"Your deposit was successful.\")\n",
    "        return account\n",
    "    else:\n",
    "        sys.exit(\"This is not a valid deposit amount. Please try again.\")"
   ]
  },
  {
   "cell_type": "code",
   "execution_count": null,
   "id": "68403e63",
   "metadata": {},
   "outputs": [],
   "source": [
    "\n",
    "def make_withdrawal(account):\n",
    "    \"\"\"This function prompts the user to make a withdrawal.\n",
    "    If the amount is less than or equal to 0.0 the withdrawal the system ask the user to try again.\n",
    "    If the amount is less than or equal to the account balance the withdrawal was successful.\n",
    "    Else the the withdrawal can't be made, and the system ask the user to try again."
   ]
  },
  {
   "cell_type": "code",
   "execution_count": null,
   "id": "0afd2fd7",
   "metadata": {},
   "outputs": [],
   "source": [
    "    Args:\n",
    "        account (dict): The keys and values of the validated account."
   ]
  },
  {
   "cell_type": "code",
   "execution_count": null,
   "id": "84961ec1",
   "metadata": {},
   "outputs": [],
   "source": [
    "    Returns:\n",
    "        account (dict): The account balance after the withdrawal.\n",
    "    \"\"\"\n",
    "    # Use input to determine the amount of the withdrawal\n",
    "    # Re-type amount from a string to a floating point number.\n",
    "    amount = input(\"How much would you like to withdraw?\\n\")\n",
    "    amount = float(amount)"
   ]
  },
  {
   "cell_type": "code",
   "execution_count": null,
   "id": "f7101b2d",
   "metadata": {},
   "outputs": [],
   "source": [
    "    # Validates amount of withdrawal. If less than or equal to 0 system exits with error message.\n",
    "    if amount <= 0.0:\n",
    "        sys.exit(\"This is not a valid withdrawal amount. Please try again.\")"
   ]
  },
  {
   "cell_type": "code",
   "execution_count": null,
   "id": "0d3cd40e",
   "metadata": {},
   "outputs": [],
   "source": [
    "    # Validates if withdrawal amount is less than or equal to account balance, processes withdrawal and returns account.\n",
    "    # Else system exits with error messages indicating that the account is short of funds.\n",
    "    if amount <= account[\"balance\"]:\n",
    "        account[\"balance\"] = account[\"balance\"] - amount\n",
    "        print(\"Your withdrawal was successful!\")\n",
    "        return account\n",
    "    else:\n",
    "        sys.exit(\n",
    "            \"You do not have enough money in your account to make this withdrawal. Please try again.\"\n",
    "        )"
   ]
  },
  {
   "cell_type": "code",
   "execution_count": null,
   "id": "3269eeee",
   "metadata": {},
   "outputs": [],
   "source": [
    "\n",
    "def run():\n",
    "    \"\"\"This function starts the login process.\n",
    "    It calls the login function and assigns the verified account to the account variable.\n",
    "    Then, it calls the main_menU() function and ask the user what they want to do.\n",
    "    A conditional statement is sued to process the action\n",
    "    and calls the appropriate function based on the action."
   ]
  },
  {
   "cell_type": "code",
   "execution_count": null,
   "id": "9def66eb",
   "metadata": {},
   "outputs": [],
   "source": [
    "    Returns:\n",
    "        The adjusted balance after the action."
   ]
  },
  {
   "cell_type": "code",
   "execution_count": null,
   "id": "d12a9df9",
   "metadata": {},
   "outputs": [],
   "source": [
    "    \"\"\"\n",
    "    # Initiates login process. If pin verified, returns validated account.\n",
    "    account = login()"
   ]
  },
  {
   "cell_type": "code",
   "execution_count": null,
   "id": "3145dc0e",
   "metadata": {},
   "outputs": [],
   "source": [
    "    # Initiates ATM action: check balance, deposit or withdrawal.\n",
    "    action = main_menu()"
   ]
  },
  {
   "cell_type": "code",
   "execution_count": null,
   "id": "452681f5",
   "metadata": {},
   "outputs": [],
   "source": [
    "    # Processes the chosen action\n",
    "    if action == \"b\":\n",
    "        sys.exit(f\"Your current account balance is {account['balance']}\")\n",
    "    elif action == \"d\":\n",
    "        account = make_deposit(account)\n",
    "    elif action == \"w\":\n",
    "        account = make_withdrawal(account)"
   ]
  },
  {
   "cell_type": "code",
   "execution_count": null,
   "id": "97e66c8c",
   "metadata": {},
   "outputs": [],
   "source": [
    "    # Prints the adjusted balance.\n",
    "    print(\n",
    "        f\"Thank you for using this atm. Your adjusted balance is ${account['balance']: .2f}.\"\n",
    "    )"
   ]
  },
  {
   "cell_type": "code",
   "execution_count": null,
   "id": "22a8922b",
   "metadata": {},
   "outputs": [],
   "source": [
    "\n",
    "if __name__ == \"__main__\":\n",
    "    run()\n"
   ]
  }
 ],
 "metadata": {},
 "nbformat": 4,
 "nbformat_minor": 5
}
