{
 "cells": [
  {
   "cell_type": "code",
   "execution_count": null,
   "id": "5d571183",
   "metadata": {},
   "outputs": [],
   "source": [
    "\"\"\"Adjusts account balance after a deposit.\"\"\""
   ]
  },
  {
   "cell_type": "code",
   "execution_count": null,
   "id": "8e870524",
   "metadata": {},
   "outputs": [],
   "source": [
    "import sys"
   ]
  },
  {
   "cell_type": "code",
   "execution_count": null,
   "id": "c526adbd",
   "metadata": {},
   "outputs": [],
   "source": [
    "def make_deposit(account):\n",
    "    \"\"\"This function prompts the user to make a deposit.\n",
    "    If the amount is greater than 0.0 the balance was successful.\n",
    "    If the amount is less than 0.0 then the system ask the user to try again.\n",
    "\n",
    "    Args:\n",
    "        account (dict): The keys and values of the validated account.\n",
    "\n",
    "    Returns:\n",
    "        account (dict): The account balance after the deposit.\n",
    "    \"\"\"\n",
    "    # Use input to determine the amount of the deposit\n",
    "    # Re-type amount from a string to a floating point number.\n",
    "    amount = input(\"How much would you like to deposit?\\n\")\n",
    "    amount = float(amount)\n",
    "\n",
    "  # Validates amount of deposit. If true processes deposit, else returns error.\n",
    "    if amount > 0.0:\n",
    "        account[\"balance\"] = account[\"balance\"] + amount\n",
    "        print(\"Your deposit was successful.\")\n",
    "        return account\n",
    "\n",
    "    sys.exit(\"This is not a valid deposit amount. Please try again.\")\n"
   ]
  }
 ],
 "metadata": {
  "language_info": {
   "name": "python"
  }
 },
 "nbformat": 4,
 "nbformat_minor": 5
}
