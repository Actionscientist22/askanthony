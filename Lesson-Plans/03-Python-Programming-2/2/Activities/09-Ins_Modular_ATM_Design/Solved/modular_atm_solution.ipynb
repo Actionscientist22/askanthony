{
 "cells": [
  {
   "cell_type": "code",
   "execution_count": null,
   "id": "510a0f65",
   "metadata": {},
   "outputs": [],
   "source": [
    "\"\"\"This is a basic ATM Application.\n",
    "\"\"\""
   ]
  },
  {
   "cell_type": "code",
   "execution_count": null,
   "id": "b8d659c2",
   "metadata": {},
   "outputs": [],
   "source": [
    "# Import the dependencies.\n",
    "import sys\n",
    "# Import the load_accounts and validate_pin functions from the utils file.\n",
    "from utils import load_accounts, validate_pin\n",
    "# Import the make_deposit function from the make_deposit file.\n",
    "from actions.make_deposit import make_deposit\n",
    "# Import the make_withdrawal function from the make_withdrawal file.\n",
    "from actions.make_withdrawal import make_withdrawal"
   ]
  },
  {
   "cell_type": "code",
   "execution_count": null,
   "id": "7245460e",
   "metadata": {},
   "outputs": [],
   "source": [
    "def main_menu():\n",
    "    \"\"\"Dialog for the ATM Main Menu.\"\"\"\n",
    "\n",
    "    # Determines action taken by application.\n",
    "    action = input(\"Would you like to check your balance (b), make a deposit (d) or make a withdrawal (w)? Enter b, d, or w. \\n\")\n",
    "    return action\n"
   ]
  },
  {
   "cell_type": "code",
   "execution_count": null,
   "id": "5f975f6e",
   "metadata": {},
   "outputs": [],
   "source": [
    "def login():\n",
    "    \"\"\"This function uses a for loop to check to validate the PIN against this list of `accounts`.\n",
    "        If the PIN is validated, the function should return the account's balance.\n",
    "    Args:\n",
    "        pin (integer): The users pin number\n",
    "\n",
    "    Returns:\n",
    "        If the pin matches one of the pin numbers in the \"accounts\"\n",
    "        the account is returned.\n",
    "    \"\"\"\n",
    "    # Calls validate_pin() function to confirm length.\n",
    "    pin = input(\"Please enter your pin:\\n\")\n",
    "    if not validate_pin(pin):\n",
    "        sys.exit(\"Sorry, your account PIN is not valid. It must be 6 digits in length.\")\n",
    "\n",
    "    # If pin validates, calls load_accounts() and then verifies pin against accounts list. Returns account that matches pin.\n",
    "    accounts = load_accounts()\n",
    "\n",
    "    for account in accounts:\n",
    "        if int(pin) == account[\"pin\"]:\n",
    "            return account\n",
    "        # If no account was returned above, exit with an error\n",
    "\n",
    "    sys.exit(\n",
    "        \"Sorry, your login was not successful. Your PIN does not link to an account. Please check your PIN and try again.\"\n",
    "    )\n"
   ]
  },
  {
   "cell_type": "code",
   "execution_count": null,
   "id": "31b4c580",
   "metadata": {},
   "outputs": [],
   "source": [
    "\n",
    "def run():\n",
    "    \"\"\"This function starts the login process.\n",
    "    It calls the login function and assigns the verified account to the account variable.\n",
    "    Then, it calls the main_menU() function and ask the user what they want to do.\n",
    "    A conditional statement is sued to process the action\n",
    "    and calls the appropriate function based on the action.\n",
    "\n",
    "    Returns:\n",
    "        The adjusted balance after the action.\n",
    "\n",
    "    \"\"\"\n",
    "    # Initiates login process. If pin verified, returns validated account.\n",
    "    account = login()\n",
    "\n",
    "    # Initiates ATM action: check balance, deposit or withdrawal.\n",
    "    action = main_menu()\n",
    "\n",
    "    # Processes the chosen action\n",
    "    if action == \"b\":\n",
    "        sys.exit(f\"Your current account balance is {account['balance']}\")\n",
    "    elif action == \"d\":\n",
    "        account = make_deposit(account)\n",
    "    elif action == \"w\":\n",
    "        account = make_withdrawal(account)\n",
    "\n",
    "    # Prints the adjusted balance.\n",
    "    print(\n",
    "        f\"Thank you for using this ATM. Your adjusted balance is ${account['balance']: ,.2f}.\"\n",
    "    )\n",
    "\n"
   ]
  },
  {
   "cell_type": "code",
   "execution_count": null,
   "id": "f0e2b9eb",
   "metadata": {},
   "outputs": [],
   "source": [
    "\n",
    "if __name__ == \"__main__\":\n",
    "    # Call the run function.\n",
    "    run()\n"
   ]
  }
 ],
 "metadata": {
  "language_info": {
   "name": "python"
  }
 },
 "nbformat": 4,
 "nbformat_minor": 5
}
