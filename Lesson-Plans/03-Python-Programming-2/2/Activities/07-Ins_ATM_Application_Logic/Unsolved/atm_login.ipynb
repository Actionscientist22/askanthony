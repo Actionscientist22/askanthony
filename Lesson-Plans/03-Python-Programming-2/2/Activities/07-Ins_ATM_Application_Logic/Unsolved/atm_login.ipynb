{
 "cells": [
  {
   "cell_type": "code",
   "execution_count": null,
   "id": "7889ec1f",
   "metadata": {},
   "outputs": [],
   "source": [
    "\"\"\"This is a basic ATM Application."
   ]
  },
  {
   "cell_type": "code",
   "execution_count": null,
   "id": "1ed1be5f",
   "metadata": {},
   "outputs": [],
   "source": [
    "This is a command line application that mimics the actions of an ATM.\n",
    "\"\"\""
   ]
  },
  {
   "cell_type": "code",
   "execution_count": null,
   "id": "8d71ae2b",
   "metadata": {},
   "outputs": [],
   "source": [
    "accounts = [\n",
    "    {\n",
    "    \"pin\": 123456,\n",
    "    \"balance\" : 1436.19},\n",
    "    {\n",
    "    \"pin\" : 246802,\n",
    "    \"balance\": 3571.87},\n",
    "    {\n",
    "    \"pin\": 135791,\n",
    "    \"balance\" : 543.79},\n",
    "    {\n",
    "    \"pin\" : 123987,\n",
    "    \"balance\": 25.89},\n",
    "    {\n",
    "    \"pin\" : 269731,\n",
    "    \"balance\": 3258.42}\n",
    "]"
   ]
  },
  {
   "cell_type": "code",
   "execution_count": null,
   "id": "381ab7ed",
   "metadata": {},
   "outputs": [],
   "source": [
    "# Define the `login` function for the ATM application.\n",
    "def login(pin):\n",
    "     \"\"\"Create a login function for the ATM application.\n",
    "    Args:\n",
    "        pin (integer): The user’s pin number"
   ]
  },
  {
   "cell_type": "code",
   "execution_count": null,
   "id": "81a3ffb7",
   "metadata": {},
   "outputs": [],
   "source": [
    "    Returns:\n",
    "        If the pin matches one of the pin numbers in the \"accounts\",\n",
    "        the account balance is returned."
   ]
  },
  {
   "cell_type": "code",
   "execution_count": null,
   "id": "cc4d1954",
   "metadata": {},
   "outputs": [],
   "source": [
    "    Notes:\n",
    "        Create a for loop to check to validate the PIN against this list of `accounts`.\n",
    "        If the PIN is validated, print the account's balance formatted to two decimal places and thousandths.\n",
    "    \"\"\""
   ]
  },
  {
   "cell_type": "code",
   "execution_count": null,
   "id": "63be2ca1",
   "metadata": {},
   "outputs": [],
   "source": []
  },
  {
   "cell_type": "code",
   "execution_count": null,
   "id": "7234135e",
   "metadata": {},
   "outputs": [],
   "source": [
    "if __name__ == \"__main__\":\n",
    "    # Set the function call equal to a variable called account_balance.\n"
   ]
  }
 ],
 "metadata": {},
 "nbformat": 4,
 "nbformat_minor": 5
}
