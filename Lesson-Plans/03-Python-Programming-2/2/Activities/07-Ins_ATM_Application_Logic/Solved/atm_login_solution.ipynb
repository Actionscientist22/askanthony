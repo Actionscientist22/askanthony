{
 "cells": [
  {
   "cell_type": "code",
   "execution_count": null,
   "id": "1105f5a2",
   "metadata": {},
   "outputs": [],
   "source": [
    "\"\"\"This is a basic ATM Application.\n",
    "This is a command line application that mimics the actions of an ATM.\n",
    "\"\"\""
   ]
  },
  {
   "cell_type": "code",
   "execution_count": null,
   "id": "3afaafde",
   "metadata": {},
   "outputs": [],
   "source": [
    "accounts = [\n",
    "    {\n",
    "    \"pin\": 123456,\n",
    "    \"balance\" : 1436.19},\n",
    "    {\n",
    "    \"pin\" : 246802,\n",
    "    \"balance\": 3571.87},\n",
    "    {\n",
    "    \"pin\": 135791,\n",
    "    \"balance\" : 543.79},\n",
    "    {\n",
    "    \"pin\" : 123987,\n",
    "    \"balance\": 25.89},\n",
    "    {\n",
    "    \"pin\" : 269731,\n",
    "    \"balance\": 3258.42}\n",
    "]"
   ]
  },
  {
   "cell_type": "code",
   "execution_count": null,
   "id": "0dbb0003",
   "metadata": {},
   "outputs": [],
   "source": [
    "# Define the `login` function for the ATM application.\n",
    "def login(pin):\n",
    "    \"\"\"Create a login function for the ATM application.\n",
    "    Args:\n",
    "        pin (integer): The users pin number\n",
    "\n",
    "    Returns:\n",
    "        If the pin matches one of the pin numbers in the \"accounts\"\n",
    "        the account balance is returned.\n",
    "\n",
    "    Notes:\n",
    "        Create a for loop to check to validate the PIN against this list of `accounts`.\n",
    "        If the PIN is validated, print the account's balance formatted to two decimal places and thousandths.\n",
    "    \"\"\"\n",
    "    for account in accounts:\n",
    "        if int(pin) == account[\"pin\"]:\n",
    "            print(f\"The account balance for PIN {account['pin']} is: ${account['balance']: ,.2f}.\")\n",
    "\n"
   ]
  },
  {
   "cell_type": "code",
   "execution_count": null,
   "id": "405e2162",
   "metadata": {},
   "outputs": [],
   "source": [
    "\n",
    "if __name__ == \"__main__\":\n",
    "    # Set the function call equal to a variable called account_balance.\n",
    "    account_balance = login(246802)\n"
   ]
  }
 ],
 "metadata": {
  "language_info": {
   "name": "python"
  }
 },
 "nbformat": 4,
 "nbformat_minor": 5
}
