{
 "cells": [
  {
   "cell_type": "code",
   "execution_count": null,
   "id": "70a459c5",
   "metadata": {},
   "outputs": [],
   "source": [
    "\"\"\" Calculating the cost of a new car\"\"\""
   ]
  },
  {
   "cell_type": "code",
   "execution_count": null,
   "id": "67573215",
   "metadata": {},
   "outputs": [],
   "source": [
    "def calculate_future_value(current_loan_value, annual_interest_rate, months_remaining):\n",
    "    \"\"\"\n",
    "    Create a function called calculate_future_value\n",
    "    Args:\n",
    "        current_loan_value (float): The current loan value\n",
    "        the annual_interest_rate (float): The APR\n",
    "        the months_remaining (int): The number of months remaining on the loan\n",
    "            Returns:\n",
    "        Prints the future value of the loan as a float.\n",
    "    \"\"\"\n",
    "    future_value = current_loan_value * (1 + (annual_interest_rate / 12)) ** months_remaining\n",
    "    return future_value\n"
   ]
  },
  {
   "cell_type": "code",
   "execution_count": null,
   "id": "041a94ba",
   "metadata": {},
   "outputs": [],
   "source": []
  }
 ],
 "metadata": {
  "language_info": {
   "name": "python"
  }
 },
 "nbformat": 4,
 "nbformat_minor": 5
}
