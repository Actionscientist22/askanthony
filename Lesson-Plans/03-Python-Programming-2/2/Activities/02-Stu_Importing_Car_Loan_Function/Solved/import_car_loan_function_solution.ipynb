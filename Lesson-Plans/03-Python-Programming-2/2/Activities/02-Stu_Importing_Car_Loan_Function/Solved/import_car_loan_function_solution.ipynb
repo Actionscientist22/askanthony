{
 "cells": [
  {
   "cell_type": "code",
   "execution_count": null,
   "id": "4a62fc96",
   "metadata": {},
   "outputs": [],
   "source": [
    "# Import the calculate_future_value function from the CarLoan file.\n",
    "from CarLoan import calculate_future_value"
   ]
  },
  {
   "cell_type": "code",
   "execution_count": null,
   "id": "0ed51a83",
   "metadata": {},
   "outputs": [],
   "source": [
    "# Create the new_car_loan dictionary.\n",
    "new_car_loan = {\n",
    "    \"current_loan_value\": 25000,\n",
    "    \"months_remaining\": 12,\n",
    "    \"annual_interest_rate\": 0.0315\n",
    "    }"
   ]
  },
  {
   "cell_type": "code",
   "execution_count": null,
   "id": "2017f51f",
   "metadata": {},
   "outputs": [],
   "source": [
    "# Set the function call equal to a variable called car_value.\n",
    "# Pass the relevant information from the dictionary as parameters to the function call.\n",
    "car_value = calculate_future_value(\n",
    "    new_car_loan[\"current_loan_value\"],\n",
    "    new_car_loan[\"annual_interest_rate\"],\n",
    "    new_car_loan[\"months_remaining\"]\n",
    "    )"
   ]
  },
  {
   "cell_type": "code",
   "execution_count": null,
   "id": "9bbb2e27",
   "metadata": {},
   "outputs": [],
   "source": [
    "# Print the future value of the car to 2 decimal places.\n",
    "print(f\"The future value of the car is ${car_value: ,.2f}.\")\n"
   ]
  }
 ],
 "metadata": {},
 "nbformat": 4,
 "nbformat_minor": 5
}
