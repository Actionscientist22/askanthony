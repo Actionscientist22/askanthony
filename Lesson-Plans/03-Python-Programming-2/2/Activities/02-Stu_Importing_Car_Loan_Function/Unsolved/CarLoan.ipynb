{
 "cells": [
  {
   "cell_type": "code",
   "execution_count": null,
   "id": "7526ea20",
   "metadata": {},
   "outputs": [],
   "source": [
    "\"\"\" Calculating the cost of a new car\"\"\""
   ]
  },
  {
   "cell_type": "code",
   "execution_count": null,
   "id": "2e1149df",
   "metadata": {},
   "outputs": [],
   "source": [
    "def calculate_future_value(current_loan_value, annual_interest_rate, months_remaining):\n",
    "    \"\"\"\n",
    "    Create a function called calculate_future_value\n",
    "    Args:\n",
    "        current_loan_value (float): The current loan value\n",
    "        the annual_interest_rate (float): The APR\n",
    "        the months_remaining (int): The number of months remaining on the loan\n",
    "            Returns:\n",
    "        Prints the future value of the loan as a float.\n",
    "    \"\"\"\n",
    "    future_value = current_loan_value * (1 + (annual_interest_rate / 12)) ** months_remaining\n",
    "    # Print the future value of the car to 2 decimal places.\n",
    "    return future_value\n",
    "s"
   ]
  },
  {
   "cell_type": "code",
   "execution_count": null,
   "id": "c09d9d8e",
   "metadata": {},
   "outputs": [],
   "source": []
  }
 ],
 "metadata": {
  "language_info": {
   "name": "python"
  }
 },
 "nbformat": 4,
 "nbformat_minor": 5
}
