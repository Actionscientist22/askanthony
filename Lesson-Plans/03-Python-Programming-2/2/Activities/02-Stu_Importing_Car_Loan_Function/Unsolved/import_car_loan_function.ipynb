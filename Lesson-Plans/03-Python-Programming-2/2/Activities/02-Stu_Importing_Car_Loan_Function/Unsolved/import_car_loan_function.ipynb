{
 "cells": [
  {
   "cell_type": "code",
   "execution_count": null,
   "id": "26394f01",
   "metadata": {},
   "outputs": [],
   "source": [
    "# Import the calculate_future_value function from the CarLoan file."
   ]
  },
  {
   "cell_type": "code",
   "execution_count": null,
   "id": "fff75052",
   "metadata": {},
   "outputs": [],
   "source": [
    "\n",
    "# Create the new_car_loan dictionary.\n",
    "new_car_loan = {\n",
    "    \"current_loan_value\": 25000,\n",
    "    \"months_remaining\": 12,\n",
    "    \"annual_interest_rate\": 0.0315\n",
    "    }"
   ]
  },
  {
   "cell_type": "code",
   "execution_count": null,
   "id": "34370c55",
   "metadata": {},
   "outputs": [],
   "source": [
    "# Set the function call equal to a variable called car_value.\n",
    "# Pass the relevant information from the dictionary as parameters to the function call."
   ]
  },
  {
   "cell_type": "code",
   "execution_count": null,
   "id": "3d06a7a4",
   "metadata": {},
   "outputs": [],
   "source": [
    "\n",
    "# Print the future value of the car to 2 decimal places.\n"
   ]
  }
 ],
 "metadata": {},
 "nbformat": 4,
 "nbformat_minor": 5
}
