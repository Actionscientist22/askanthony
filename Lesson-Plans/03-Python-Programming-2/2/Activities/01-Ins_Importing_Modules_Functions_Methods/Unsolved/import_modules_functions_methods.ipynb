{
 "cells": [
  {
   "cell_type": "code",
   "execution_count": null,
   "id": "1dbf4e03",
   "metadata": {},
   "outputs": [],
   "source": [
    "\"\"\"Importing  modules, functions and methods\"\"\""
   ]
  },
  {
   "cell_type": "code",
   "execution_count": null,
   "id": "b95cfc02",
   "metadata": {},
   "outputs": [],
   "source": [
    "# Import the sqrt function from the math module."
   ]
  },
  {
   "cell_type": "code",
   "execution_count": null,
   "id": "f8e42a81",
   "metadata": {},
   "outputs": [],
   "source": [
    "\n",
    "# Calculate the square root of a number."
   ]
  },
  {
   "cell_type": "code",
   "execution_count": null,
   "id": "d724f8ce",
   "metadata": {},
   "outputs": [],
   "source": [
    "\n",
    "# Import the randint and choice methods from the random module."
   ]
  },
  {
   "cell_type": "code",
   "execution_count": null,
   "id": "ffc5aed6",
   "metadata": {},
   "outputs": [],
   "source": [
    "# Generate a random number between 1 and 10 and selecting a random element from a list."
   ]
  },
  {
   "cell_type": "code",
   "execution_count": null,
   "id": "fef6d2b4",
   "metadata": {},
   "outputs": [],
   "source": [
    "\n",
    "# Use the choice method to randomly select an element from the list."
   ]
  },
  {
   "cell_type": "code",
   "execution_count": null,
   "id": "a8659521",
   "metadata": {},
   "outputs": [],
   "source": [
    "# Import the datetime and date classes from the datetime module."
   ]
  },
  {
   "cell_type": "code",
   "execution_count": null,
   "id": "283301b3",
   "metadata": {},
   "outputs": [],
   "source": [
    "# Get the current datetime using the now function."
   ]
  },
  {
   "cell_type": "code",
   "execution_count": null,
   "id": "f20785a3",
   "metadata": {},
   "outputs": [],
   "source": [
    "\n",
    "# Get the current time using the strftime function."
   ]
  },
  {
   "cell_type": "code",
   "execution_count": null,
   "id": "c4a8c02f",
   "metadata": {},
   "outputs": [],
   "source": [
    "# Get the current date using the today function."
   ]
  },
  {
   "cell_type": "code",
   "execution_count": null,
   "id": "936c9692",
   "metadata": {},
   "outputs": [],
   "source": [
    "\n"
   ]
  }
 ],
 "metadata": {},
 "nbformat": 4,
 "nbformat_minor": 5
}
