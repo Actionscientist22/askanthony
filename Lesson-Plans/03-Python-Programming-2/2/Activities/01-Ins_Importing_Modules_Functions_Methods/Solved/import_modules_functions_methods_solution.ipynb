{
 "cells": [
  {
   "cell_type": "code",
   "execution_count": null,
   "id": "047a65f1",
   "metadata": {},
   "outputs": [],
   "source": [
    "\"\"\"Importing  modules, functions and methods\"\"\""
   ]
  },
  {
   "cell_type": "code",
   "execution_count": null,
   "id": "18f181a0",
   "metadata": {},
   "outputs": [],
   "source": [
    "# Import the sqrt function from the math module.\n",
    "from math import sqrt"
   ]
  },
  {
   "cell_type": "code",
   "execution_count": null,
   "id": "3c6c91a1",
   "metadata": {},
   "outputs": [],
   "source": [
    "# Calculate the square root of a number.\n",
    "number = 16\n",
    "result = sqrt(number)\n",
    "print(f\"The square root of {number} is {result}\")"
   ]
  },
  {
   "cell_type": "code",
   "execution_count": null,
   "id": "e749bd0e",
   "metadata": {},
   "outputs": [],
   "source": [
    "\n",
    "# Import the randint and choice methods from the random module.\n",
    "from random import randint, choice"
   ]
  },
  {
   "cell_type": "code",
   "execution_count": null,
   "id": "b49d5895",
   "metadata": {},
   "outputs": [],
   "source": [
    "# Generate a random number between 1 and 10 and selecting a random element from a list.\n",
    "random_number = randint(1, 10)\n",
    "print(f\"The random number is: {random_number}\")"
   ]
  },
  {
   "cell_type": "code",
   "execution_count": null,
   "id": "5b657d46",
   "metadata": {},
   "outputs": [],
   "source": [
    "my_list = ['apple', 'banana', 'orange', 'grape', 'mango']"
   ]
  },
  {
   "cell_type": "code",
   "execution_count": null,
   "id": "9b2caa6c",
   "metadata": {},
   "outputs": [],
   "source": [
    "# Use the choice method to randomly select an element from the list.\n",
    "random_element = choice(my_list)\n",
    "print(f\"A random element from the list is: {random_element}\")"
   ]
  },
  {
   "cell_type": "code",
   "execution_count": null,
   "id": "de0b4ce1",
   "metadata": {},
   "outputs": [],
   "source": [
    "# Import the datetime and date classes from the datetime module.\n",
    "from datetime import datetime, date"
   ]
  },
  {
   "cell_type": "code",
   "execution_count": null,
   "id": "de2a5f19",
   "metadata": {},
   "outputs": [],
   "source": [
    "# Get the current datetime using the now function.\n",
    "current_datetime = datetime.now()\n",
    "# Get the current time using the strftime function.\n",
    "current_time = current_datetime.strftime(\"%H:%M:%S\")\n",
    "# Get the current date using the today function.\n",
    "current_date = date.today()"
   ]
  },
  {
   "cell_type": "code",
   "execution_count": null,
   "id": "2b696a24",
   "metadata": {},
   "outputs": [],
   "source": [
    "print(f\"The current datetime is: {current_datetime}\")\n",
    "print(f\"The current time is: {current_time}\")\n",
    "print(f\"The current date is: {current_date}\")\n"
   ]
  }
 ],
 "metadata": {
  "kernelspec": {
   "display_name": "base",
   "language": "python",
   "name": "python3"
  },
  "language_info": {
   "codemirror_mode": {
    "name": "ipython",
    "version": 3
   },
   "file_extension": ".py",
   "mimetype": "text/x-python",
   "name": "python",
   "nbconvert_exporter": "python",
   "pygments_lexer": "ipython3",
   "version": "3.11.5"
  }
 },
 "nbformat": 4,
 "nbformat_minor": 5
}
