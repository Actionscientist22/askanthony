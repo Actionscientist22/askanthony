{
 "cells": [
  {
   "cell_type": "code",
   "execution_count": null,
   "id": "7aad86c7",
   "metadata": {},
   "outputs": [],
   "source": [
    "\"\"\"This is a basic ATM Application."
   ]
  },
  {
   "cell_type": "code",
   "execution_count": null,
   "id": "d67c43e7",
   "metadata": {},
   "outputs": [],
   "source": [
    "This is a program consists of the basic actions of an ATM."
   ]
  },
  {
   "cell_type": "code",
   "execution_count": null,
   "id": "fca67dac",
   "metadata": {},
   "outputs": [],
   "source": [
    "Example:\n",
    "    $ python app.py\n",
    "\"\"\"\n",
    "# Import the dependencies.\n",
    "import csv\n",
    "import sys\n",
    "from pathlib import Path"
   ]
  },
  {
   "cell_type": "code",
   "execution_count": null,
   "id": "8459b60d",
   "metadata": {},
   "outputs": [],
   "source": [
    "\n",
    "def load_accounts():\n",
    "    \"\"\"This function opens the CSV file. And appends each account: the pin and balance,\n",
    "    to the accounts lists."
   ]
  },
  {
   "cell_type": "code",
   "execution_count": null,
   "id": "d8d76e26",
   "metadata": {},
   "outputs": [],
   "source": [
    "    Returns:\n",
    "        accounts (dict object): A dictionary of all the accounts.\n",
    "    \"\"\"\n",
    "    csvpath = Path('data/accounts.csv')\n",
    "    accounts = []\n",
    "    # Open and read the CSV file.\n",
    "    with open(csvpath, newline='', encoding='utf-8') as csvfile:\n",
    "        #  Get the rows of the CSV file.\n",
    "        rows = csv.reader(csvfile)\n",
    "        # Skip reading the header row.\n",
    "        header = next(rows)\n",
    "        for row in rows:\n",
    "            pin = int(row[0])\n",
    "            balance = float(row[1])\n",
    "            account = {\n",
    "                \"pin\": pin,\n",
    "                \"balance\": balance\n",
    "            }\n",
    "            accounts.append(account)\n",
    "        return accounts"
   ]
  },
  {
   "cell_type": "code",
   "execution_count": null,
   "id": "5ed753df",
   "metadata": {},
   "outputs": [],
   "source": [
    "\n",
    "def validate_pin(pin):\n",
    "    \"\"\"This function takes in the pin given by the user\n",
    "    and checks to make sure its length is 6."
   ]
  },
  {
   "cell_type": "code",
   "execution_count": null,
   "id": "7c707e9a",
   "metadata": {},
   "outputs": [],
   "source": [
    "    Args:\n",
    "        pin (integer): The pin for the account."
   ]
  },
  {
   "cell_type": "code",
   "execution_count": null,
   "id": "5f16e77c",
   "metadata": {},
   "outputs": [],
   "source": [
    "    Returns:\n",
    "        If the pin is correct, the login function loads the account.\n",
    "        If the pin is incorrect, the system lets the user know that the pin is incorrect.\n",
    "    \"\"\"\n",
    "    # Verifies length of pin is 6 digits prints validations message and return True.\n",
    "    # Else returns False.\n",
    "    if len(pin) == 6:\n",
    "        print(\"Your PIN is valid\")\n",
    "        return True\n",
    "    else:\n",
    "        return False"
   ]
  },
  {
   "cell_type": "code",
   "execution_count": null,
   "id": "f9506bbb",
   "metadata": {},
   "outputs": [],
   "source": [
    "\n",
    "def main_menu():\n",
    "    \"\"\"This function prompts the user to make a selection check their balance,\n",
    "    make a deposit, or make a withdrawal."
   ]
  },
  {
   "cell_type": "code",
   "execution_count": null,
   "id": "00534a26",
   "metadata": {},
   "outputs": [],
   "source": [
    "    Returns:\n",
    "        The action that user wants to do.\n",
    "    \"\"\"\n",
    "    # Determines action taken by application.\n",
    "    action = input(\"Would you like to: \\n\"\n",
    "                \"Check your balance (b),\\n\"\n",
    "                \"Make a deposit (d),\\n\"\n",
    "                \"Or make a withdrawal (w)?|n\"\n",
    "                \"Enter b, d, or w. \\n\")\n",
    "    return action"
   ]
  },
  {
   "cell_type": "code",
   "execution_count": null,
   "id": "83aef9f7",
   "metadata": {},
   "outputs": [],
   "source": [
    "\n",
    "def login():\n",
    "    \"\"\"This function uses ask the user to enter their pin number.\n",
    "    The pin number is passed to the validate_pin function.\n",
    "    If the pin is valid, then the load_accounts function is called and\n",
    "    the dictionary of accounts is assigned the accounts variable.\n",
    "    A for loop verifies the pin against the listed accounts."
   ]
  },
  {
   "cell_type": "code",
   "execution_count": null,
   "id": "314ad07f",
   "metadata": {},
   "outputs": [],
   "source": [
    "    Returns:\n",
    "        The pin and balance of the account after the pin is validated.\n",
    "    \"\"\"\n",
    "    # Calls validate_pin() function to confirm length.\n",
    "    pin = input(\"Please enter your pin:\\n\")\n",
    "    if not validate_pin(pin):\n",
    "        sys.exit(\"Sorry, your account PIN is not valid. It must be 6 digits in length.\")"
   ]
  },
  {
   "cell_type": "code",
   "execution_count": null,
   "id": "544d9f01",
   "metadata": {},
   "outputs": [],
   "source": [
    "    # If pin validates, calls load_accounts() and then verifies pin against accounts list.\n",
    "    # Returns account that matches pin.\n",
    "    accounts = load_accounts()"
   ]
  },
  {
   "cell_type": "code",
   "execution_count": null,
   "id": "d5bd26fe",
   "metadata": {},
   "outputs": [],
   "source": [
    "    for account in accounts:\n",
    "        if int(pin) == account[\"pin\"]:\n",
    "            return account\n",
    "        # If no account was returned above, exit with an error"
   ]
  },
  {
   "cell_type": "code",
   "execution_count": null,
   "id": "2c91f07d",
   "metadata": {},
   "outputs": [],
   "source": [
    "    sys.exit(\n",
    "        \"Sorry, your login was not successful. Please check your PIN and try again.\"\n",
    "    )"
   ]
  },
  {
   "cell_type": "code",
   "execution_count": null,
   "id": "bcda56ce",
   "metadata": {},
   "outputs": [],
   "source": [
    "\n",
    "def make_deposit(account):\n",
    "    \"\"\"This function prompts the user to make a deposit.\n",
    "    If the amount is greater than 0.0 the balance was successful.\n",
    "    If the amount is less than 0.0 then the system ask the user to try again."
   ]
  },
  {
   "cell_type": "code",
   "execution_count": null,
   "id": "7ec8a29c",
   "metadata": {},
   "outputs": [],
   "source": [
    "    Args:\n",
    "        account (dict): The keys and values of the validated account."
   ]
  },
  {
   "cell_type": "code",
   "execution_count": null,
   "id": "ba80d8e7",
   "metadata": {},
   "outputs": [],
   "source": [
    "    Returns:\n",
    "        account (dict): The account balance after the deposit.\n",
    "    \"\"\"\n",
    "    # Use input to determine the amount of the deposit\n",
    "    # Re-type amount from a string to a floating point number.\n",
    "    amount = input(\"How much would you like to deposit?\\n\")\n",
    "    amount = float(amount)"
   ]
  },
  {
   "cell_type": "code",
   "execution_count": null,
   "id": "797d463e",
   "metadata": {},
   "outputs": [],
   "source": [
    "  # Validates amount of deposit. If true processes deposit, else returns error.\n",
    "    if amount > 0.0:\n",
    "        account[\"balance\"] = account[\"balance\"] + amount\n",
    "        print(\"Your deposit was successful.\")\n",
    "        return account"
   ]
  },
  {
   "cell_type": "code",
   "execution_count": null,
   "id": "13b663fc",
   "metadata": {},
   "outputs": [],
   "source": [
    "    sys.exit(\"This is not a valid deposit amount. Please try again.\")"
   ]
  },
  {
   "cell_type": "code",
   "execution_count": null,
   "id": "a0f22108",
   "metadata": {},
   "outputs": [],
   "source": [
    "\n",
    "def make_withdrawal(account):\n",
    "    \"\"\"This function prompts the user to make a withdrawal.\n",
    "    If the amount is less than or equal to 0.0 the withdrawal the system ask the user to try again.\n",
    "    If the amount is less than or equal to the account balance the withdrawal was successful.\n",
    "    Else the the withdrawal can't be made, and the system ask the user to try again."
   ]
  },
  {
   "cell_type": "code",
   "execution_count": null,
   "id": "8af0c1bc",
   "metadata": {},
   "outputs": [],
   "source": [
    "    Args:\n",
    "        account (dict): The keys and values of the validated account."
   ]
  },
  {
   "cell_type": "code",
   "execution_count": null,
   "id": "268b3438",
   "metadata": {},
   "outputs": [],
   "source": [
    "    Returns:\n",
    "        account (dict): The account balance after the withdrawal.\n",
    "    \"\"\"\n",
    "    # Use input to determine the amount of the withdrawal\n",
    "    # Re-type amount from a string to a floating point number.\n",
    "    amount = input(\"How much would you like to withdraw?\\n\")\n",
    "    amount = float(amount)"
   ]
  },
  {
   "cell_type": "code",
   "execution_count": null,
   "id": "947f184d",
   "metadata": {},
   "outputs": [],
   "source": [
    "    # Validates amount of withdrawal. If less than or equal to 0 system exits with error message.\n",
    "    if amount <= 0.0:\n",
    "        sys.exit(\"This is not a valid withdrawal amount. Please try again.\")"
   ]
  },
  {
   "cell_type": "code",
   "execution_count": null,
   "id": "0476b960",
   "metadata": {},
   "outputs": [],
   "source": [
    "    # Validates if withdrawal amount is less than or equal to account balance, processes withdrawal and returns account.\n",
    "    # Else system exits with error messages indicating that the account is short of funds.\n",
    "    if amount <= account[\"balance\"]:\n",
    "        account[\"balance\"] = account[\"balance\"] - amount\n",
    "        print(\"Your withdrawal was successful!\")\n",
    "        return account\n",
    "    sys.exit(\n",
    "            \"You do not have enough money in your account to make this withdrawal. Please try again.\"\n",
    "        )"
   ]
  },
  {
   "cell_type": "code",
   "execution_count": null,
   "id": "77861b3c",
   "metadata": {},
   "outputs": [],
   "source": [
    "\n",
    "def run():\n",
    "    \"\"\"This function starts the login process.\n",
    "    It calls the login function and assigns the verified account to the account variable.\n",
    "    Then, it calls the main_menU() function and ask the user what they want to do.\n",
    "    A conditional statement is sued to process the action\n",
    "    and calls the appropriate function based on the action."
   ]
  },
  {
   "cell_type": "code",
   "execution_count": null,
   "id": "b92895e3",
   "metadata": {},
   "outputs": [],
   "source": [
    "    Returns:\n",
    "        The adjusted balance after the action."
   ]
  },
  {
   "cell_type": "code",
   "execution_count": null,
   "id": "39d8ea08",
   "metadata": {},
   "outputs": [],
   "source": [
    "    \"\"\"\n",
    "    # Initiates login process. If pin verified, returns validated account.\n",
    "    account = login()"
   ]
  },
  {
   "cell_type": "code",
   "execution_count": null,
   "id": "d59607eb",
   "metadata": {},
   "outputs": [],
   "source": [
    "    # Initiates ATM action: check balance, deposit or withdrawal.\n",
    "    action = main_menu()"
   ]
  },
  {
   "cell_type": "code",
   "execution_count": null,
   "id": "a3290005",
   "metadata": {},
   "outputs": [],
   "source": [
    "    # Processes the chosen action\n",
    "    if action == \"b\":\n",
    "        sys.exit(f\"Your current account balance is {account['balance']}\")\n",
    "    elif action == \"d\":\n",
    "        account = make_deposit(account)\n",
    "    elif action == \"w\":\n",
    "        account = make_withdrawal(account)"
   ]
  },
  {
   "cell_type": "code",
   "execution_count": null,
   "id": "1f57bc4e",
   "metadata": {},
   "outputs": [],
   "source": [
    "    # Prints the adjusted balance.\n",
    "    print(\n",
    "        f\"Thank you for using this ATM. Your adjusted balance is ${account['balance']: ,.2f}.\"\n",
    "    )"
   ]
  },
  {
   "cell_type": "code",
   "execution_count": null,
   "id": "befc1143",
   "metadata": {},
   "outputs": [],
   "source": [
    "\n",
    "if __name__ == \"__main__\":\n",
    "    # Call the run function.\n",
    "    run()\n"
   ]
  }
 ],
 "metadata": {},
 "nbformat": 4,
 "nbformat_minor": 5
}
