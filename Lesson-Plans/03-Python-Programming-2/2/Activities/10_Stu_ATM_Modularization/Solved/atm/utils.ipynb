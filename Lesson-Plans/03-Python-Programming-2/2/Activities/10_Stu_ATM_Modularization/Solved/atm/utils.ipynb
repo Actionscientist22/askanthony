{
 "cells": [
  {
   "cell_type": "code",
   "execution_count": null,
   "id": "2a0426b0",
   "metadata": {},
   "outputs": [],
   "source": [
    "\"\"\"Helper functions for loading accounts and validating PIN number.\"\"\""
   ]
  },
  {
   "cell_type": "code",
   "execution_count": null,
   "id": "f1e6ba09",
   "metadata": {},
   "outputs": [],
   "source": [
    "# Import the dependencies.\n",
    "import csv\n",
    "import sys\n",
    "from pathlib import Path"
   ]
  },
  {
   "cell_type": "code",
   "execution_count": null,
   "id": "735f9056",
   "metadata": {},
   "outputs": [],
   "source": [
    "\n",
    "def load_accounts():\n",
    "    \"\"\"This function opens the CSV file. And appends each account: the pin and balance,\n",
    "    to the accounts lists."
   ]
  },
  {
   "cell_type": "code",
   "execution_count": null,
   "id": "29ec6215",
   "metadata": {},
   "outputs": [],
   "source": [
    "    Returns:\n",
    "        accounts (dict object): A dictionary of all the accounts.\n",
    "    \"\"\"\n",
    "    csvpath = Path('data/accounts.csv')\n",
    "    accounts = []\n",
    "    # Open and read the CSV file.\n",
    "    with open(csvpath, newline='', encoding='utf-8') as csvfile:\n",
    "        #  Get the rows of the CSV file.\n",
    "        rows = csv.reader(csvfile)\n",
    "        # Skip reading the header row.\n",
    "        header = next(rows)\n",
    "        for row in rows:\n",
    "            pin = int(row[0])\n",
    "            balance = float(row[1])\n",
    "            account = {\n",
    "                \"pin\": pin,\n",
    "                \"balance\": balance\n",
    "            }\n",
    "            accounts.append(account)\n",
    "        return accounts"
   ]
  },
  {
   "cell_type": "code",
   "execution_count": null,
   "id": "0e38f7c3",
   "metadata": {},
   "outputs": [],
   "source": [
    "\n",
    "def validate_pin(pin):\n",
    "    \"\"\"This function takes in the pin given by the user\n",
    "    and checks to make sure its length is 6."
   ]
  },
  {
   "cell_type": "code",
   "execution_count": null,
   "id": "2cc23ff6",
   "metadata": {},
   "outputs": [],
   "source": [
    "    Args:\n",
    "        pin (integer): The pin for the account."
   ]
  },
  {
   "cell_type": "code",
   "execution_count": null,
   "id": "e9538eb8",
   "metadata": {},
   "outputs": [],
   "source": [
    "    Returns:\n",
    "        If the pin is correct, the login function loads the account.\n",
    "        If the pin is incorrect, the system lets the user know that the pin is incorrect.\n",
    "    \"\"\"\n",
    "    # Verifies length of pin is 6 digits prints validations message and return True.\n",
    "    # Else returns False.\n",
    "    if len(pin) == 6:\n",
    "        print(\"Your PIN is valid\")\n",
    "        return True\n",
    "    else:\n",
    "        return False\n"
   ]
  }
 ],
 "metadata": {},
 "nbformat": 4,
 "nbformat_minor": 5
}
