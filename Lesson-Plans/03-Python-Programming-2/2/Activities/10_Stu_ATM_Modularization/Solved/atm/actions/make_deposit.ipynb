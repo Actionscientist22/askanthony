{
 "cells": [
  {
   "cell_type": "code",
   "execution_count": null,
   "id": "55803553",
   "metadata": {},
   "outputs": [],
   "source": [
    "\"\"\"Adjusts account balance after a deposit.\"\"\""
   ]
  },
  {
   "cell_type": "code",
   "execution_count": null,
   "id": "9bb91d63",
   "metadata": {},
   "outputs": [],
   "source": [
    "import sys"
   ]
  },
  {
   "cell_type": "code",
   "execution_count": null,
   "id": "fabbdb4c",
   "metadata": {},
   "outputs": [],
   "source": [
    "\n",
    "def make_deposit(account):\n",
    "    \"\"\"This function prompts the user to make a deposit.\n",
    "    If the amount is greater than 0.0 the balance was successful.\n",
    "    If the amount is less than 0.0 then the system ask the user to try again."
   ]
  },
  {
   "cell_type": "code",
   "execution_count": null,
   "id": "123762aa",
   "metadata": {},
   "outputs": [],
   "source": [
    "    Args:\n",
    "        account (dict): The keys and values of the validated account."
   ]
  },
  {
   "cell_type": "code",
   "execution_count": null,
   "id": "67b37690",
   "metadata": {},
   "outputs": [],
   "source": [
    "    Returns:\n",
    "        account (dict): The account balance after the deposit.\n",
    "    \"\"\"\n",
    "    # Use input to determine the amount of the deposit\n",
    "    # Re-type amount from a string to a floating point number.\n",
    "    amount = input(\"How much would you like to deposit?\\n\")\n",
    "    amount = float(amount)"
   ]
  },
  {
   "cell_type": "code",
   "execution_count": null,
   "id": "055af8d1",
   "metadata": {},
   "outputs": [],
   "source": [
    "  # Validates amount of deposit. If true processes deposit, else returns error.\n",
    "    if amount > 0.0:\n",
    "        account[\"balance\"] = account[\"balance\"] + amount\n",
    "        print(\"Your deposit was successful.\")\n",
    "        return account"
   ]
  },
  {
   "cell_type": "code",
   "execution_count": null,
   "id": "92db22c2",
   "metadata": {},
   "outputs": [],
   "source": [
    "    sys.exit(\"This is not a valid deposit amount. Please try again.\")\n"
   ]
  }
 ],
 "metadata": {},
 "nbformat": 4,
 "nbformat_minor": 5
}
