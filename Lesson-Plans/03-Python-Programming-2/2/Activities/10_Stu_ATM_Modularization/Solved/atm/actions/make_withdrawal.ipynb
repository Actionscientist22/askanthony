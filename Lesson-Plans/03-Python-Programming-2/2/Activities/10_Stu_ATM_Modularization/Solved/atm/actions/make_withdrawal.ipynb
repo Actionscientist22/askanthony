{
 "cells": [
  {
   "cell_type": "code",
   "execution_count": null,
   "id": "639e6ca3",
   "metadata": {},
   "outputs": [],
   "source": [
    "\"\"\"Adjusts account balance after a withdrawal\"\"\""
   ]
  },
  {
   "cell_type": "code",
   "execution_count": null,
   "id": "ef500edc",
   "metadata": {},
   "outputs": [],
   "source": [
    "import sys"
   ]
  },
  {
   "cell_type": "code",
   "execution_count": null,
   "id": "f02495b5",
   "metadata": {},
   "outputs": [],
   "source": [
    "\n",
    "def make_withdrawal(account):\n",
    "    \"\"\"This function prompts the user to make a withdrawal.\n",
    "    If the amount is less than or equal to 0.0 the withdrawal the system ask the user to try again.\n",
    "    If the amount is less than or equal to the account balance the withdrawal was successful.\n",
    "    Else the the withdrawal can't be made, and the system ask the user to try again."
   ]
  },
  {
   "cell_type": "code",
   "execution_count": null,
   "id": "54ecb34d",
   "metadata": {},
   "outputs": [],
   "source": [
    "    Args:\n",
    "        account (dict): The keys and values of the validated account."
   ]
  },
  {
   "cell_type": "code",
   "execution_count": null,
   "id": "7e3cff13",
   "metadata": {},
   "outputs": [],
   "source": [
    "    Returns:\n",
    "        account (dict): The account balance after the withdrawal.\n",
    "    \"\"\"\n",
    "    # Use input to determine the amount of the withdrawal\n",
    "    # Re-type amount from a string to a floating point number.\n",
    "    amount = input(\"How much would you like to withdraw?\\n\")\n",
    "    amount = float(amount)"
   ]
  },
  {
   "cell_type": "code",
   "execution_count": null,
   "id": "3b36996b",
   "metadata": {},
   "outputs": [],
   "source": [
    "    # Validates amount of withdrawal. If less than or equal to 0 system exits with error message.\n",
    "    if amount <= 0.0:\n",
    "        sys.exit(\"This is not a valid withdrawal amount. Please try again.\")"
   ]
  },
  {
   "cell_type": "code",
   "execution_count": null,
   "id": "b4ce22e4",
   "metadata": {},
   "outputs": [],
   "source": [
    "    # Validates if withdrawal amount is less than or equal to account balance, processes withdrawal and returns account.\n",
    "    # Else system exits with error messages indicating that the account is short of funds.\n",
    "    if amount <= account[\"balance\"]:\n",
    "        account[\"balance\"] = account[\"balance\"] - amount\n",
    "        print(\"Your withdrawal was successful!\")\n",
    "        return account\n",
    "    sys.exit(\n",
    "            \"You do not have enough money in your account to make this withdrawal. Please try again.\"\n",
    "        )\n"
   ]
  }
 ],
 "metadata": {},
 "nbformat": 4,
 "nbformat_minor": 5
}
