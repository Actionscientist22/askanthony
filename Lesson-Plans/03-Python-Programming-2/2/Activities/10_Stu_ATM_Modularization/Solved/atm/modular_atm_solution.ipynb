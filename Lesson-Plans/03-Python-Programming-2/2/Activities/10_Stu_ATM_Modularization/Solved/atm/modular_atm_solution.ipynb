{
 "cells": [
  {
   "cell_type": "code",
   "execution_count": null,
   "id": "55bd3ed3",
   "metadata": {},
   "outputs": [],
   "source": [
    "\"\"\"This is a basic ATM Application.\n",
    "\"\"\""
   ]
  },
  {
   "cell_type": "code",
   "execution_count": null,
   "id": "2be3d125",
   "metadata": {},
   "outputs": [],
   "source": [
    "# Import the dependencies.\n",
    "import sys\n",
    "# Import the load_accounts and validate_pin functions from the utils file.\n",
    "from utils import load_accounts, validate_pin\n",
    "# Import the make_deposit function from the make_deposit file.\n",
    "from actions.make_deposit import make_deposit\n",
    "# Import the make_withdrawal function from the make_withdrawal file.\n",
    "from actions.make_withdrawal import make_withdrawal"
   ]
  },
  {
   "cell_type": "code",
   "execution_count": null,
   "id": "de7ae754",
   "metadata": {},
   "outputs": [],
   "source": [
    "\n",
    "def main_menu():\n",
    "    \"\"\"Dialog for the ATM Main Menu.\"\"\""
   ]
  },
  {
   "cell_type": "code",
   "execution_count": null,
   "id": "86a00f04",
   "metadata": {},
   "outputs": [],
   "source": [
    "    # Determines action taken by application.\n",
    "    action = input(\"Would you like to check your balance (b), make a deposit (d) or make a withdrawal (w)? Enter b, d, or w. \\n\")\n",
    "    return action"
   ]
  },
  {
   "cell_type": "code",
   "execution_count": null,
   "id": "44d03eba",
   "metadata": {},
   "outputs": [],
   "source": [
    "\n",
    "def login():\n",
    "    \"\"\"This function uses a for loop to check to validate the PIN against this list of `accounts`.\n",
    "        If the PIN is validated, the function should return the account's balance.\n",
    "    Args:\n",
    "        pin (integer): The users pin number"
   ]
  },
  {
   "cell_type": "code",
   "execution_count": null,
   "id": "5e0c6f27",
   "metadata": {},
   "outputs": [],
   "source": [
    "    Returns:\n",
    "        If the pin matches one of the pin numbers in the \"accounts\"\n",
    "        the account is returned.\n",
    "    \"\"\"\n",
    "    # Calls validate_pin() function to confirm length.\n",
    "    pin = input(\"Please enter your pin:\\n\")\n",
    "    if not validate_pin(pin):\n",
    "        sys.exit(\"Sorry, your account PIN is not valid. It must be 6 digits in length.\")"
   ]
  },
  {
   "cell_type": "code",
   "execution_count": null,
   "id": "591977a3",
   "metadata": {},
   "outputs": [],
   "source": [
    "    # If pin validates, calls load_accounts() and then verifies pin against accounts list. Returns account that matches pin.\n",
    "    accounts = load_accounts()"
   ]
  },
  {
   "cell_type": "code",
   "execution_count": null,
   "id": "0db1e476",
   "metadata": {},
   "outputs": [],
   "source": [
    "    for account in accounts:\n",
    "        if int(pin) == account[\"pin\"]:\n",
    "            return account\n",
    "        # If no account was returned above, exit with an error"
   ]
  },
  {
   "cell_type": "code",
   "execution_count": null,
   "id": "21400078",
   "metadata": {},
   "outputs": [],
   "source": [
    "    sys.exit(\n",
    "        \"Sorry, your login was not successful. Your PIN does not link to an account. Please check your PIN and try again.\"\n",
    "    )"
   ]
  },
  {
   "cell_type": "code",
   "execution_count": null,
   "id": "df4e2687",
   "metadata": {},
   "outputs": [],
   "source": [
    "\n",
    "def run():\n",
    "    \"\"\"This function starts the login process.\n",
    "    It calls the login function and assigns the verified account to the account variable.\n",
    "    Then, it calls the main_menU() function and ask the user what they want to do.\n",
    "    A conditional statement is sued to process the action\n",
    "    and calls the appropriate function based on the action."
   ]
  },
  {
   "cell_type": "code",
   "execution_count": null,
   "id": "cca84e16",
   "metadata": {},
   "outputs": [],
   "source": [
    "    Returns:\n",
    "        The adjusted balance after the action."
   ]
  },
  {
   "cell_type": "code",
   "execution_count": null,
   "id": "30e10891",
   "metadata": {},
   "outputs": [],
   "source": [
    "    \"\"\"\n",
    "    # Initiates login process. If pin verified, returns validated account.\n",
    "    account = login()"
   ]
  },
  {
   "cell_type": "code",
   "execution_count": null,
   "id": "082cc10c",
   "metadata": {},
   "outputs": [],
   "source": [
    "    # Initiates ATM action: check balance, deposit or withdrawal.\n",
    "    action = main_menu()"
   ]
  },
  {
   "cell_type": "code",
   "execution_count": null,
   "id": "95d06146",
   "metadata": {},
   "outputs": [],
   "source": [
    "    # Processes the chosen action\n",
    "    if action == \"b\":\n",
    "        sys.exit(f\"Your current account balance is {account['balance']}\")\n",
    "    elif action == \"d\":\n",
    "        account = make_deposit(account)\n",
    "    elif action == \"w\":\n",
    "        account = make_withdrawal(account)"
   ]
  },
  {
   "cell_type": "code",
   "execution_count": null,
   "id": "7d1119d9",
   "metadata": {},
   "outputs": [],
   "source": [
    "    # Prints the adjusted balance.\n",
    "    print(\n",
    "        f\"Thank you for using this ATM. Your adjusted balance is ${account['balance']: ,.2f}.\"\n",
    "    )"
   ]
  },
  {
   "cell_type": "code",
   "execution_count": null,
   "id": "898ac65c",
   "metadata": {},
   "outputs": [],
   "source": [
    "\n",
    "if __name__ == \"__main__\":\n",
    "    # Call the run function.\n",
    "    run()\n"
   ]
  }
 ],
 "metadata": {},
 "nbformat": 4,
 "nbformat_minor": 5
}
