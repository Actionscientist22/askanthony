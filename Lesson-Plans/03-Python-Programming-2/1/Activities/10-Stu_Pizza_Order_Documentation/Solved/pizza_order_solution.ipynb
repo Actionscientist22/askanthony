{
 "cells": [
  {
   "cell_type": "code",
   "execution_count": null,
   "id": "c1ed49e5",
   "metadata": {},
   "outputs": [],
   "source": [
    "\"\"\"Pizza Order\"\"\""
   ]
  },
  {
   "cell_type": "code",
   "execution_count": null,
   "id": "d3a91837",
   "metadata": {},
   "outputs": [],
   "source": [
    "def create_pizza_order():\n",
    "    \"\"\"\n",
    "    The function prompts the user to choose three toppings\n",
    "    from a list of five toppings and creates a pizza order.\n",
    "    Args:\n",
    "        None\n",
    "    Returns:\n",
    "        None. But it prints out the toppings on the pizza.\n",
    "    Raises:\n",
    "        ErrorType: If the user enters a number less than 1 or greater than 5\n",
    "        then asks the user to try again.\n",
    "    \"\"\"\n",
    "    # Create a list of toppings.\n",
    "    toppings = ['pepperoni', 'mushrooms', 'onions', 'sausage', 'bell peppers']\n",
    "\n",
    "    # Create a statement about the program.\n",
    "    print(\"Welcome to the Sal's Famous Pizza!\")\n",
    "    print(\"Please choose three toppings for your pizza from the following options:\")\n",
    "\n",
    "    # Create a for loop the iterates through the toppings and displays them to the user.\n",
    "    for i, topping in enumerate(toppings, start=1):\n",
    "        print(f\"{i}. {topping}\")\n",
    "\n",
    "    # Create an empty list for the toppings the user chooses.\n",
    "    selected_toppings = []\n",
    "\n",
    "    # Iterate through the a range of 3 for the number of toppings\n",
    "    # Prompt the user to input a number for a topping.\n",
    "    for _ in range(3):\n",
    "        topping_number = int(input(\"Enter the number of your chosen topping: \"))\n",
    "\n",
    "        # Create a while loop that selects a number between 1 and 5.\n",
    "        # If an number less than 1 or greater than 5 is select prompt the user to try again.\n",
    "        while topping_number < 1 or topping_number > 5:\n",
    "            print(\"Invalid topping number. Please try again.\")\n",
    "            topping_number = int(input(\"Enter the number of your chosen topping: \"))\n",
    "\n",
    "        # Retrieve the selected topping from the list using toppings[topping_number - 1]\n",
    "        # Then add the topping to the list.\n",
    "        selected_toppings.append(toppings[topping_number - 1])\n",
    "\n",
    "    # Print out the order.\n",
    "    print(\"Here is your order:\")\n",
    "    print(\"Your pizza comes with:\", \", \".join(selected_toppings))\n",
    "\n",
    "if __name__ == \"__main__\":\n",
    "    # Call the function.\n",
    "    create_pizza_order()\n"
   ]
  },
  {
   "cell_type": "code",
   "execution_count": null,
   "id": "015d2d54",
   "metadata": {},
   "outputs": [],
   "source": [
    "    # Create a statement about the program.\n",
    "    print(\"Welcome to the Sal's Famous Pizza!\")\n",
    "    print(\"Please choose three toppings for your pizza from the following options:\")"
   ]
  },
  {
   "cell_type": "code",
   "execution_count": null,
   "id": "f61e377b",
   "metadata": {},
   "outputs": [],
   "source": [
    "    # Create a for loop the iterates through the toppings and displays them to the user.\n",
    "    for i, topping in enumerate(toppings, start=1):\n",
    "        print(f\"{i}. {topping}\")"
   ]
  },
  {
   "cell_type": "code",
   "execution_count": null,
   "id": "2acabc12",
   "metadata": {},
   "outputs": [],
   "source": [
    "    # Create an empty list for the toppings the user chooses.\n",
    "    selected_toppings = []"
   ]
  },
  {
   "cell_type": "code",
   "execution_count": null,
   "id": "9edba89b",
   "metadata": {},
   "outputs": [],
   "source": [
    "    # Iterate through the a range of 3 for the number of toppings\n",
    "    # Prompt the user to input a number for a topping.\n",
    "    for _ in range(3):\n",
    "        topping_number = int(input(\"Enter the number of your chosen topping: \"))"
   ]
  },
  {
   "cell_type": "code",
   "execution_count": null,
   "id": "0201bec3",
   "metadata": {},
   "outputs": [],
   "source": [
    "        # Create a while loop that selects a number between 1 and 5.\n",
    "        # If an number less than 1 or greater than 5 is select prompt the user to try again.\n",
    "        while topping_number < 1 or topping_number > 5:\n",
    "            print(\"Invalid topping number. Please try again.\")\n",
    "            topping_number = int(input(\"Enter the number of your chosen topping: \"))"
   ]
  },
  {
   "cell_type": "code",
   "execution_count": null,
   "id": "32fc50e4",
   "metadata": {},
   "outputs": [],
   "source": [
    "        # Retrieve the selected topping from the list using toppings[topping_number - 1]\n",
    "        # Then add the topping to the list.\n",
    "        selected_toppings.append(toppings[topping_number - 1])"
   ]
  },
  {
   "cell_type": "code",
   "execution_count": null,
   "id": "6b49baa0",
   "metadata": {},
   "outputs": [],
   "source": [
    "    # Print out the order.\n",
    "    print(\"Here is your order:\")\n",
    "    print(\"Your pizza comes with:\", \", \".join(selected_toppings))"
   ]
  },
  {
   "cell_type": "code",
   "execution_count": null,
   "id": "b3dac70c",
   "metadata": {},
   "outputs": [],
   "source": [
    "if __name__ == \"__main__\":\n",
    "    # Call the function.\n",
    "    create_pizza_order()\n"
   ]
  }
 ],
 "metadata": {
  "language_info": {
   "name": "python"
  }
 },
 "nbformat": 4,
 "nbformat_minor": 5
}
