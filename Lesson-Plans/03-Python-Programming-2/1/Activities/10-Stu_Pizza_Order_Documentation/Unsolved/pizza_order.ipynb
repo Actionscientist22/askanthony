{
 "cells": [
  {
   "cell_type": "code",
   "execution_count": null,
   "id": "6c06e59a",
   "metadata": {},
   "outputs": [],
   "source": [
    "\"\"\"Pizza Order\"\"\""
   ]
  },
  {
   "cell_type": "code",
   "execution_count": null,
   "id": "bb6310b3",
   "metadata": {},
   "outputs": [],
   "source": [
    "def create_pizza_order():\n",
    "    toppings = ['pepperoni', 'mushrooms', 'onions', 'sausage', 'bell peppers']"
   ]
  },
  {
   "cell_type": "code",
   "execution_count": null,
   "id": "e65f8f8e",
   "metadata": {},
   "outputs": [],
   "source": [
    "    print(\"Welcome to the Sal's Famous Pizza!\")\n",
    "    print(\"Please choose three toppings for your pizza from the following options:\")"
   ]
  },
  {
   "cell_type": "code",
   "execution_count": null,
   "id": "b8307a16",
   "metadata": {},
   "outputs": [],
   "source": [
    "    for i, topping in enumerate(toppings, start=1):\n",
    "        print(f\"{i}. {topping}\")"
   ]
  },
  {
   "cell_type": "code",
   "execution_count": null,
   "id": "7c5f18d8",
   "metadata": {},
   "outputs": [],
   "source": [
    "    selected_toppings = []\n",
    "    for _ in range(3):\n",
    "        topping_number = int(input(\"Enter the number of your chosen topping: \"))\n",
    "        while topping_number < 1 or topping_number > 5:\n",
    "            print(\"Invalid topping number. Please try again.\")\n",
    "            topping_number = int(input(\"Enter the number of your chosen topping: \"))"
   ]
  },
  {
   "cell_type": "code",
   "execution_count": null,
   "id": "adcbd3a3",
   "metadata": {},
   "outputs": [],
   "source": [
    "        selected_toppings.append(toppings[topping_number - 1])"
   ]
  },
  {
   "cell_type": "code",
   "execution_count": null,
   "id": "21b2b39b",
   "metadata": {},
   "outputs": [],
   "source": [
    "    print(\"Here is your order:\")\n",
    "    print(\"Your pizza comes with:\", \", \".join(selected_toppings))"
   ]
  },
  {
   "cell_type": "code",
   "execution_count": null,
   "id": "57861314",
   "metadata": {},
   "outputs": [],
   "source": [
    "if __name__ == \"__main__\":\n",
    "    create_pizza_order()\n"
   ]
  }
 ],
 "metadata": {},
 "nbformat": 4,
 "nbformat_minor": 5
}
