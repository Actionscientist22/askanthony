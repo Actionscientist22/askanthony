{
 "cells": [
  {
   "cell_type": "code",
   "execution_count": null,
   "id": "84d22f87",
   "metadata": {},
   "outputs": [],
   "source": [
    "\"\"\"Returned Goods.\"\"\""
   ]
  },
  {
   "cell_type": "code",
   "execution_count": null,
   "id": "7c0c7a80",
   "metadata": {},
   "outputs": [],
   "source": [
    "# Define a new function called process_claims\n",
    "def process_claims(claims):\n",
    "    \"\"\"\n",
    "    Calculate the total insurance payout based on a list of claims.\n",
    "    Args:\n",
    "        claims (list): A list of claim amounts.\n",
    "    Returns:\n",
    "        float: The total insurance payout, which is 30% of the sum of all claims.\n",
    "    \"\"\"\n",
    "    # Create a variable called `total_claims`, that is the sum of all claims\n",
    "    total_claims = sum(claims)\n",
    "    # Calculate a total payout, which is 30% of total_claims:\n",
    "    total_payout = total_claims * 0.30\n",
    "    # Return only the total_payout amount\n",
    "    return total_payout"
   ]
  },
  {
   "cell_type": "code",
   "execution_count": null,
   "id": "68baca69",
   "metadata": {},
   "outputs": [],
   "source": [
    "if __name__ == \"__main__\":\n",
    "    # Add the weekly claims\n",
    "    weekly_claims = [5000, 1000, 8000, 10000, 3000, 3500]\n",
    "    # Create a variable that passes the weekly claims to the function.\n",
    "    total_insurance_payout = process_claims(weekly_claims)\n",
    "    # Print the total insurance payout to 2 decimal places.\n",
    "    print(f\"The total insurance payout is: ${total_insurance_payout: ,.2f}.\")\n"
   ]
  }
 ],
 "metadata": {},
 "nbformat": 4,
 "nbformat_minor": 5
}
