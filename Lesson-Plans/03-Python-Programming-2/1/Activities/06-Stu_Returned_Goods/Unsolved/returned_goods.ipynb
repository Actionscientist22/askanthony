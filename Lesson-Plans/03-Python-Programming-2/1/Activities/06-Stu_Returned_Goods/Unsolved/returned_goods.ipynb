{
 "cells": [
  {
   "cell_type": "code",
   "execution_count": null,
   "id": "27627b33",
   "metadata": {},
   "outputs": [],
   "source": [
    "\"\"\"Returned Goods.\"\"\""
   ]
  },
  {
   "cell_type": "code",
   "execution_count": null,
   "id": "47a89106",
   "metadata": {},
   "outputs": [],
   "source": [
    "# Define a new function called process_claims\n",
    "def process_claims():\n",
    "    \"\"\"\n",
    "    Calculate the total insurance payout based on a list of claims.\n",
    "    Args:\n",
    "        claims (list): A list of claim amounts.\n",
    "    Returns:\n",
    "        float: The total insurance payout, which is 30% of the sum of all claims.\n",
    "    \"\"\"\n",
    "    # Create a variable called `total_claims`, that is the sum of all claims"
   ]
  },
  {
   "cell_type": "code",
   "execution_count": null,
   "id": "3fdd66ef",
   "metadata": {},
   "outputs": [],
   "source": [
    "    # Calculate a total payout, which is 30% of total_claims:"
   ]
  },
  {
   "cell_type": "code",
   "execution_count": null,
   "id": "ee9602ef",
   "metadata": {},
   "outputs": [],
   "source": [
    "    # Return only the total_payout amount"
   ]
  },
  {
   "cell_type": "code",
   "execution_count": null,
   "id": "9ca6419a",
   "metadata": {},
   "outputs": [],
   "source": [
    "\n",
    "if __name__ == \"__main__\":\n",
    "    # Add the weekly claims\n",
    "    weekly_claims = [5000, 1000, 8000, 10000, 3000, 3500]\n",
    "    # Create a variable that passes the weekly claims to the function."
   ]
  },
  {
   "cell_type": "code",
   "execution_count": null,
   "id": "30dc4c01",
   "metadata": {},
   "outputs": [],
   "source": [
    "    # Print the total insurance payout to 2 decimal places.\n"
   ]
  }
 ],
 "metadata": {},
 "nbformat": 4,
 "nbformat_minor": 5
}
