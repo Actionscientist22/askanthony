{
 "cells": [
  {
   "cell_type": "code",
   "execution_count": null,
   "id": "a0bbe7cb",
   "metadata": {},
   "outputs": [],
   "source": [
    "\"\"\" Anonymous Functions\"\"\""
   ]
  },
  {
   "cell_type": "code",
   "execution_count": null,
   "id": "13a346fc",
   "metadata": {},
   "outputs": [],
   "source": [
    "# 1. Get the even numbers from a list using the filter and lambda functions.\n",
    "numbers = [1, 2, 3, 4, 5, 6, 7, 8, 9, 10]\n",
    "even_numbers = list(filter(lambda x: x % 2 == 0, numbers))\n",
    "print(even_numbers)"
   ]
  },
  {
   "cell_type": "code",
   "execution_count": null,
   "id": "d79de35c",
   "metadata": {},
   "outputs": [],
   "source": [
    "# 2. Use the map and lambda functions to add the numbers from both lists.\n",
    "numbers1 = [1, 2, 3, 4, 5]\n",
    "numbers2 = [10, 20, 30, 40, 50]\n",
    "result = list(map(lambda x, y: x + y, numbers1, numbers2))\n",
    "print(result)"
   ]
  },
  {
   "cell_type": "code",
   "execution_count": null,
   "id": "d7665724",
   "metadata": {},
   "outputs": [],
   "source": [
    "# 3. Use the map and lambda functions to split the following sentence into words.\n",
    "sentence = \"My favorite hobby is coding in Python\"\n",
    "words = list(map(lambda x: x.strip(), sentence.split()))\n",
    "print(words)\n"
   ]
  }
 ],
 "metadata": {},
 "nbformat": 4,
 "nbformat_minor": 5
}
