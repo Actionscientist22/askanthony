{
 "cells": [
  {
   "cell_type": "code",
   "execution_count": null,
   "id": "fd5e9428",
   "metadata": {},
   "outputs": [],
   "source": [
    "\"\"\" Anonymous Functions\"\"\""
   ]
  },
  {
   "cell_type": "code",
   "execution_count": null,
   "id": "bc6e931e",
   "metadata": {},
   "outputs": [],
   "source": [
    "# 1. Get the even numbers from a list using the filter and lambda functions.\n",
    "numbers = [1, 2, 3, 4, 5, 6, 7, 8, 9, 10]"
   ]
  },
  {
   "cell_type": "code",
   "execution_count": null,
   "id": "644e70a7",
   "metadata": {},
   "outputs": [],
   "source": [
    "\n",
    "# 2. Use the map and lambda functions to add the numbers from both lists.\n",
    "numbers1 = [1, 2, 3, 4, 5]\n",
    "numbers2 = [10, 20, 30, 40, 50]"
   ]
  },
  {
   "cell_type": "code",
   "execution_count": null,
   "id": "8d38fd39",
   "metadata": {},
   "outputs": [],
   "source": [
    "\n",
    "# 3. Use the map and lambda functions to split the following sentence into words.\n",
    "sentence = \"My favorite hobby is coding in Python\"\n"
   ]
  }
 ],
 "metadata": {},
 "nbformat": 4,
 "nbformat_minor": 5
}
