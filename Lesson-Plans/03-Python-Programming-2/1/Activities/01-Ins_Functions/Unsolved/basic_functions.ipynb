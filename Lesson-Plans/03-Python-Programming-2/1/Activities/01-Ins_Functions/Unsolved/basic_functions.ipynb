{
 "cells": [
  {
   "cell_type": "code",
   "execution_count": null,
   "id": "c319cd0d",
   "metadata": {},
   "outputs": [],
   "source": [
    "# Define the hello function.\n",
    "def hello():\n",
    "    print(\"Hi! This is the hello function.\")"
   ]
  },
  {
   "cell_type": "code",
   "execution_count": null,
   "id": "3e78ba73",
   "metadata": {},
   "outputs": [],
   "source": [
    "# Call the hello function\n",
    "hello()"
   ]
  },
  {
   "cell_type": "code",
   "execution_count": null,
   "id": "9cf0c8c4",
   "metadata": {},
   "outputs": [],
   "source": [
    "# Define the scream function.\n"
   ]
  }
 ],
 "metadata": {},
 "nbformat": 4,
 "nbformat_minor": 5
}
