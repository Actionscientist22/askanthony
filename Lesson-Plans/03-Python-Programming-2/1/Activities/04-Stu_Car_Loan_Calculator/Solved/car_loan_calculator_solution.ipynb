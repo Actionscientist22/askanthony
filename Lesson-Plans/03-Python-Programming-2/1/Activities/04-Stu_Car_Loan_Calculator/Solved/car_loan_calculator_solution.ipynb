{
 "cells": [
  {
   "cell_type": "code",
   "execution_count": null,
   "id": "d0298d17",
   "metadata": {},
   "outputs": [],
   "source": [
    "\"\"\" Calculating the cost of a new car\"\"\""
   ]
  },
  {
   "cell_type": "code",
   "execution_count": null,
   "id": "44e36634",
   "metadata": {},
   "outputs": [],
   "source": [
    "def calculate_future_value(current_loan_value, annual_interest_rate, months_remaining):\n",
    "    \"\"\"\n",
    "    Create a function called calculate_future_value\n",
    "    Args:\n",
    "        current_loan_value (float): The current loan value\n",
    "        the annual_interest_rate (float): The APR\n",
    "        the months_remaining (int): The number of months remaining on the loan"
   ]
  },
  {
   "cell_type": "code",
   "execution_count": null,
   "id": "2a385c63",
   "metadata": {},
   "outputs": [],
   "source": [
    "    Returns:\n",
    "        Prints the future value of the loan as a float.\n",
    "    \"\"\"\n",
    "    future_value = current_loan_value * (1 + (annual_interest_rate / 12)) ** months_remaining\n",
    "    # Print the future value of the car to 2 decimal places and thousandths.\n",
    "    print(f\"The future value of the new car is ${future_value: ,.2f}.\")"
   ]
  },
  {
   "cell_type": "code",
   "execution_count": null,
   "id": "ed4b888c",
   "metadata": {},
   "outputs": [],
   "source": [
    "\n",
    "if __name__ == \"__main__\":\n",
    "    # The new_car_loan dictionary.\n",
    "    new_car_loan = {\n",
    "        \"current_loan_value\": 25000,\n",
    "        \"months_remaining\": 6,\n",
    "        \"annual_interest_rate\": 0.085\n",
    "        }"
   ]
  },
  {
   "cell_type": "code",
   "execution_count": null,
   "id": "57f4926e",
   "metadata": {},
   "outputs": [],
   "source": [
    "    # Set the function call equal to a variable called cost_of_new_car.\n",
    "    # Pass the relevant information from the dictionary as arguments to the function.\n",
    "    calculate_future_value(\n",
    "        new_car_loan[\"current_loan_value\"],\n",
    "        new_car_loan[\"annual_interest_rate\"],\n",
    "        new_car_loan[\"months_remaining\"]\n",
    "        )\n"
   ]
  }
 ],
 "metadata": {},
 "nbformat": 4,
 "nbformat_minor": 5
}
