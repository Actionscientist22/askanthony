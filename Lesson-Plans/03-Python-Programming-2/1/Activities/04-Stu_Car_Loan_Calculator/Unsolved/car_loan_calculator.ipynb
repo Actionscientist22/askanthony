{
 "cells": [
  {
   "cell_type": "code",
   "execution_count": null,
   "id": "62962f17",
   "metadata": {},
   "outputs": [],
   "source": [
    "\"\"\" Calculating the cost of a new car\"\"\""
   ]
  },
  {
   "cell_type": "code",
   "execution_count": null,
   "id": "bb5305c6",
   "metadata": {},
   "outputs": [],
   "source": [
    "def calculate_future_value():\n",
    "    \"\"\"\n",
    "    Create a function called calculate_future_value\n",
    "    Args:\n",
    "        current_loan_value (float): The current loan value\n",
    "        the annual_interest_rate (float): The APR\n",
    "        the months_remaining (int): The number of months remaining on the loan"
   ]
  },
  {
   "cell_type": "code",
   "execution_count": null,
   "id": "3fe93bfc",
   "metadata": {},
   "outputs": [],
   "source": [
    "    Returns:\n",
    "        Prints the future value of the loan as a float.\n",
    "    \"\"\""
   ]
  },
  {
   "cell_type": "code",
   "execution_count": null,
   "id": "478f97e7",
   "metadata": {},
   "outputs": [],
   "source": [
    "    # Print the future value of the car to 2 decimal places and thousandths."
   ]
  },
  {
   "cell_type": "code",
   "execution_count": null,
   "id": "750582e3",
   "metadata": {},
   "outputs": [],
   "source": []
  },
  {
   "cell_type": "code",
   "execution_count": null,
   "id": "e2d71220",
   "metadata": {},
   "outputs": [],
   "source": [
    "if __name__ == \"__main__\":\n",
    "    # The new_car_loan dictionary.\n",
    "    new_car_loan = {\n",
    "        \"current_loan_value\": 25000,\n",
    "        \"months_remaining\": 6,\n",
    "        \"annual_interest_rate\": 0.085\n",
    "        }"
   ]
  },
  {
   "cell_type": "code",
   "execution_count": null,
   "id": "6f3b45b1",
   "metadata": {},
   "outputs": [],
   "source": [
    "    # Set the function call equal to a variable called cost_of_new_car.\n",
    "    # Pass the relevant information from the dictionary as arguments to the function.\n",
    "    calculate_future_value()\n"
   ]
  }
 ],
 "metadata": {},
 "nbformat": 4,
 "nbformat_minor": 5
}
