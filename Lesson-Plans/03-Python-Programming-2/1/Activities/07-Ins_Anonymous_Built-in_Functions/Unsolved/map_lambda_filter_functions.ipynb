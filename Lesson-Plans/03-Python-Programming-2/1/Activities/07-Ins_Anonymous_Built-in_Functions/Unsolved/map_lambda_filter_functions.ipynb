{
 "cells": [
  {
   "cell_type": "code",
   "execution_count": null,
   "id": "cc6cf314",
   "metadata": {},
   "outputs": [],
   "source": [
    "# Anonymous Functions"
   ]
  },
  {
   "cell_type": "code",
   "execution_count": null,
   "id": "57ee2d50",
   "metadata": {},
   "outputs": [],
   "source": [
    "# 1. A function that divides by 7 and rounds to the nearest hundredth"
   ]
  },
  {
   "cell_type": "code",
   "execution_count": null,
   "id": "096940bd",
   "metadata": {},
   "outputs": [],
   "source": [
    "# 2. Create a list comprehension that divides by 7 and rounds to the nearest hundredth"
   ]
  },
  {
   "cell_type": "code",
   "execution_count": null,
   "id": "145870f9",
   "metadata": {},
   "outputs": [],
   "source": [
    "# 3. Instead of using a list comprehension we can use the map function to do the same thing."
   ]
  },
  {
   "cell_type": "code",
   "execution_count": null,
   "id": "dc21974a",
   "metadata": {},
   "outputs": [],
   "source": [
    "# 4. Demonstrate how to implement the previous example as a lambda function within the map function"
   ]
  },
  {
   "cell_type": "code",
   "execution_count": null,
   "id": "46f4cac2",
   "metadata": {},
   "outputs": [],
   "source": [
    "# 5. Use the filter and lambda functions to get only the numbers divided by 3.\n"
   ]
  }
 ],
 "metadata": {},
 "nbformat": 4,
 "nbformat_minor": 5
}
