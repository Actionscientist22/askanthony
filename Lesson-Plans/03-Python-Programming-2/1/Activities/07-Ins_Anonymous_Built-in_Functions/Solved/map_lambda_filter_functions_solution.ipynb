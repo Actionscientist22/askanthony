{
 "cells": [
  {
   "cell_type": "code",
   "execution_count": null,
   "id": "3fc1bc3f",
   "metadata": {},
   "outputs": [],
   "source": [
    "# Anonymous Functions"
   ]
  },
  {
   "cell_type": "code",
   "execution_count": null,
   "id": "7a4bc2aa",
   "metadata": {},
   "outputs": [],
   "source": [
    "# A function that divides by 7 and rounds to the nearest hundredth\n",
    "def divide_by_seven(num):\n",
    "    \"\"\"A function that divides by 7 and rounds to the nearest hundredth\"\"\"\n",
    "    return round(num / 7,3)\n",
    "print(f\"The result of using a Python function: {[divide_by_seven(number) for number in [24,654,3,961,21]]}\")"
   ]
  },
  {
   "cell_type": "code",
   "execution_count": null,
   "id": "7a7f20cd",
   "metadata": {},
   "outputs": [],
   "source": [
    "\n",
    "# Create a list comprehension that divides by 7 and rounds to the nearest hundredth\n",
    "list_comprehension = [divide_by_seven(number) for number in [24,654,3,961,21]]"
   ]
  },
  {
   "cell_type": "code",
   "execution_count": null,
   "id": "345480ff",
   "metadata": {},
   "outputs": [],
   "source": [
    "# Print the results\n",
    "print(f\"An example of a list comprehension that uses a function: {list_comprehension}\")"
   ]
  },
  {
   "cell_type": "code",
   "execution_count": null,
   "id": "87b1ed59",
   "metadata": {},
   "outputs": [],
   "source": [
    "# Instead of using a list comprehension we can use the map function to do the same thing.\n",
    "map_function = map(divide_by_seven,(24,654,3,961,21))"
   ]
  },
  {
   "cell_type": "code",
   "execution_count": null,
   "id": "2ceb1442",
   "metadata": {},
   "outputs": [],
   "source": [
    "# Print the results\n",
    "print(f\"An example of a map function: {list(map_function)}\")"
   ]
  },
  {
   "cell_type": "code",
   "execution_count": null,
   "id": "e458584d",
   "metadata": {},
   "outputs": [],
   "source": [
    "# 4. Demonstrate how to implement the previous example as a lambda function within the map function\n",
    "map_function = map(lambda x: round(x/7,3),(24,654,3,961,21))\n",
    "print(f\"An example of a using the lambda function: {list(map_function)}\")"
   ]
  },
  {
   "cell_type": "code",
   "execution_count": null,
   "id": "d15648b2",
   "metadata": {},
   "outputs": [],
   "source": [
    "# 5. Use the filter and lambda functions to get only the numbers divided by 3.\n",
    "numbers = [12, 7, 9, 18, 25, 36, 42, 55, 63]\n",
    "divisible_by_3 = list(filter(lambda x: x % 3 == 0, numbers))\n",
    "print(divisible_by_3)\n"
   ]
  }
 ],
 "metadata": {},
 "nbformat": 4,
 "nbformat_minor": 5
}
