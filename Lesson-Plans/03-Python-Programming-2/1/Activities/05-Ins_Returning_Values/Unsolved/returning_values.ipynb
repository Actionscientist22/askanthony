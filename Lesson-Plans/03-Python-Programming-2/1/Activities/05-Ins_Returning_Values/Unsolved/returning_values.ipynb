{
 "cells": [
  {
   "cell_type": "code",
   "execution_count": null,
   "id": "fc94f530",
   "metadata": {},
   "outputs": [],
   "source": [
    "\"\"\" Returning Values Demonstration\"\"\""
   ]
  },
  {
   "cell_type": "code",
   "execution_count": null,
   "id": "9f003694",
   "metadata": {},
   "outputs": [],
   "source": [
    "def average_numbers(numbers):\n",
    "    \"\"\" Calculates the average of an array of numbers\"\"\"\n",
    "    average = sum(numbers) / len(numbers)\n",
    "    print(\"The average is: \", average)"
   ]
  },
  {
   "cell_type": "code",
   "execution_count": null,
   "id": "d2fae1db",
   "metadata": {},
   "outputs": [],
   "source": [
    "if __name__ == \"__main__\":\n",
    "    average_numbers([1, 2, 3])"
   ]
  },
  {
   "cell_type": "code",
   "execution_count": null,
   "id": "eaad491b",
   "metadata": {},
   "outputs": [],
   "source": [
    "\n",
    "# We can return values from inside a function and use those in other parts of the code.\n",
    "# def average_numbers(numbers):\n",
    "#     \"\"\" Calculates the average of an array of numbers\"\"\"\n",
    "#     average = sum(numbers) / len(numbers)\n",
    "#     return average"
   ]
  },
  {
   "cell_type": "code",
   "execution_count": null,
   "id": "8e4b9ba4",
   "metadata": {},
   "outputs": [],
   "source": [
    "# if __name__ == \"__main__\":\n",
    "#     first_average = average_numbers([1, 2, 3])\n",
    "#     second_average = average_numbers([4, 5, 6])\n",
    "#     print(f'The average of the first list is {first_average}')\n",
    "#     print(f'The average of the second list is {second_average}')\n"
   ]
  }
 ],
 "metadata": {},
 "nbformat": 4,
 "nbformat_minor": 5
}
