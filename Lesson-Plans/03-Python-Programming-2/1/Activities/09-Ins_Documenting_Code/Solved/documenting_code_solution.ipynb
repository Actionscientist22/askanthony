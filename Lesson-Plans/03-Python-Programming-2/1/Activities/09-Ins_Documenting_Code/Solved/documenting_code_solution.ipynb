{
 "cells": [
  {
   "cell_type": "code",
   "execution_count": null,
   "id": "b6d72eaa",
   "metadata": {},
   "outputs": [],
   "source": [
    "def my_function(parameter1, parameter2):\n",
    "    \"\"\"\n",
    "    Brief description of the function."
   ]
  },
  {
   "cell_type": "code",
   "execution_count": null,
   "id": "723f9e24",
   "metadata": {},
   "outputs": [],
   "source": [
    "   Optional:\n",
    "     More detailed description of what the function does."
   ]
  },
  {
   "cell_type": "code",
   "execution_count": null,
   "id": "52ae17f2",
   "metadata": {},
   "outputs": [],
   "source": [
    "    Args:\n",
    "        arg1 (type): Description of arg1.\n",
    "        arg2 (type): Description of arg2."
   ]
  },
  {
   "cell_type": "code",
   "execution_count": null,
   "id": "2e9d373a",
   "metadata": {},
   "outputs": [],
   "source": [
    "    Returns:\n",
    "        type: Description of the return value or print statement."
   ]
  },
  {
   "cell_type": "code",
   "execution_count": null,
   "id": "138f633b",
   "metadata": {},
   "outputs": [],
   "source": [
    "    Raises:\n",
    "        ErrorType: Description of the exception raised, if any."
   ]
  },
  {
   "cell_type": "code",
   "execution_count": null,
   "id": "037d6496",
   "metadata": {},
   "outputs": [],
   "source": [
    "    Examples:\n",
    "        Provide some usage examples of the function."
   ]
  },
  {
   "cell_type": "code",
   "execution_count": null,
   "id": "2265ae72",
   "metadata": {},
   "outputs": [],
   "source": [
    "    Note:\n",
    "        Any additional notes about the function.\n",
    "    \"\"\"\n",
    "    # Function code here"
   ]
  },
  {
   "cell_type": "code",
   "execution_count": null,
   "id": "d5708a64",
   "metadata": {},
   "outputs": [],
   "source": [
    "if __name__ == \"__main__\":\n",
    "    my_function(arg1=parameter1, arg2=parameter2)\n"
   ]
  }
 ],
 "metadata": {},
 "nbformat": 4,
 "nbformat_minor": 5
}
