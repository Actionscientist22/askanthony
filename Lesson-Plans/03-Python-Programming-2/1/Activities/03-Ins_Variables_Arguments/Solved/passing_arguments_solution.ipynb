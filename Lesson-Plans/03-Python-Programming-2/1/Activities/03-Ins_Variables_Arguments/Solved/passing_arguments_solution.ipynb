{
 "cells": [
  {
   "cell_type": "code",
   "execution_count": null,
   "id": "4e00b893",
   "metadata": {},
   "outputs": [],
   "source": [
    "\"\"\" Passing Arguments\"\"\""
   ]
  },
  {
   "cell_type": "code",
   "execution_count": null,
   "id": "8c3bd40c",
   "metadata": {},
   "outputs": [],
   "source": [
    "# 1a. Positional arguments.\n",
    "def positional(x, y):\n",
    "    \"\"\"This function adds two positional arguments,\n",
    "    adds them and prints the total\"\"\"\n",
    "    total = x + y\n",
    "    print(f\"The total is: {total}\")"
   ]
  },
  {
   "cell_type": "code",
   "execution_count": null,
   "id": "46415aa5",
   "metadata": {},
   "outputs": [],
   "source": [
    "if __name__ == \"__main__\":\n",
    "    positional(5,12)"
   ]
  },
  {
   "cell_type": "code",
   "execution_count": null,
   "id": "c6b39c2e",
   "metadata": {},
   "outputs": [],
   "source": [
    "# 1b. Positional arguments.\n",
    "def savings(balance, apr, days):\n",
    "    \"\"\"This function adds two positional arguments,\n",
    "    adds them and prints the total\"\"\"\n",
    "    interest_rate = (apr/100) * (days/365)\n",
    "    interest_earned = balance * interest_rate\n",
    "    balance += interest_earned\n",
    "    print(f\"The new balance is: {balance}\")"
   ]
  },
  {
   "cell_type": "code",
   "execution_count": null,
   "id": "ea218685",
   "metadata": {},
   "outputs": [],
   "source": [
    "if __name__ == \"__main__\":\n",
    "    # Incorrect order.\n",
    "    savings(5, 31, 50000)\n",
    "    # Correct order\n",
    "    # savings(50000, 3, 31)"
   ]
  },
  {
   "cell_type": "code",
   "execution_count": null,
   "id": "08825282",
   "metadata": {},
   "outputs": [],
   "source": [
    "# 2. Keyword arguments.\n",
    "def keyword(a, b, c):\n",
    "    \"\"\"This function takes three keyword arguments,\n",
    "    adds them, and prints the total\"\"\"\n",
    "    total = a + b + c\n",
    "    print(f\"The total is: {total}\")"
   ]
  },
  {
   "cell_type": "code",
   "execution_count": null,
   "id": "0bb3061b",
   "metadata": {},
   "outputs": [],
   "source": [
    "if __name__ == \"__main__\":\n",
    "    keyword(a=-3, c=10, b=5)"
   ]
  },
  {
   "cell_type": "code",
   "execution_count": null,
   "id": "c5cfc46a",
   "metadata": {},
   "outputs": [],
   "source": [
    "# 3. Keyword and positional arguments\n",
    "def pos_key_args(a, b, c):\n",
    "    \"\"\"This function takes one positional argument\n",
    "    and two keyword arguments, adds them, and prints the total\"\"\"\n",
    "    total = a + b + c\n",
    "    print(f\"The total is: {total}\")"
   ]
  },
  {
   "cell_type": "code",
   "execution_count": null,
   "id": "d2b3cfb4",
   "metadata": {},
   "outputs": [],
   "source": [
    "if __name__ == \"__main__\":\n",
    "    pos_key_args(42, b=-10, c=5)\n",
    "    # pos_key_args(b=-10, c=5, 42) uncomment this line and run again."
   ]
  },
  {
   "cell_type": "code",
   "execution_count": null,
   "id": "b46849aa",
   "metadata": {},
   "outputs": [],
   "source": [
    "# 4. Iterable unpacking arguments\n",
    "def iterable(a, b, c):\n",
    "    \"\"\"This function takes an iterable (list of tuple)\n",
    "    and adds the values in the iterable, and prints the total\"\"\"\n",
    "    total = a + b + c\n",
    "    print(f\"The total is: {total}\")"
   ]
  },
  {
   "cell_type": "code",
   "execution_count": null,
   "id": "5c6756f8",
   "metadata": {},
   "outputs": [],
   "source": [
    "if __name__ == \"__main__\":\n",
    "    tuple_values = (5, -10, 7)\n",
    "    list_values = [7, 23, -11]\n",
    "    iterable(*tuple_values)\n",
    "    iterable(*list_values)"
   ]
  },
  {
   "cell_type": "code",
   "execution_count": null,
   "id": "ad04f1d6",
   "metadata": {},
   "outputs": [],
   "source": [
    "# 5. Dictionary unpacking arguments.\n",
    "def dictionary(a, b, c):\n",
    "    \"\"\"This function takes an iterable (list of tuple)\n",
    "    and adds the values in the iterable, and prints the total\"\"\"\n",
    "    total = a + b + c\n",
    "    print(f\"The total is: {total}\")"
   ]
  },
  {
   "cell_type": "code",
   "execution_count": null,
   "id": "9d98be5a",
   "metadata": {},
   "outputs": [],
   "source": [
    "if __name__ == \"__main__\":\n",
    "    dict_values = {'b': -4, 'c': 100, 'a':-42 }\n",
    "    dictionary(*dict_values) # returns the keys\n",
    "    dictionary(**dict_values) # returns the values\n"
   ]
  }
 ],
 "metadata": {},
 "nbformat": 4,
 "nbformat_minor": 5
}
