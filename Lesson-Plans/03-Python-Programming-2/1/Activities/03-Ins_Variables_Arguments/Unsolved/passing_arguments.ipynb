{
 "cells": [
  {
   "cell_type": "code",
   "execution_count": null,
   "id": "b38de0d5",
   "metadata": {},
   "outputs": [],
   "source": [
    "\"\"\" Passing Arguments\"\"\""
   ]
  },
  {
   "cell_type": "code",
   "execution_count": null,
   "id": "8819982c",
   "metadata": {},
   "outputs": [],
   "source": [
    "# 1a. Positional arguments.\n",
    "def positional(x, y):\n",
    "    \"\"\"This function adds two positional arguments,\n",
    "    adds them and prints the total\"\"\"\n",
    "    total = x + y\n",
    "    print(f\"The total is: {total}\")"
   ]
  },
  {
   "cell_type": "code",
   "execution_count": null,
   "id": "6bf9b7b3",
   "metadata": {},
   "outputs": [],
   "source": [
    "if __name__ == \"__main__\":\n",
    "    positional(5,12)"
   ]
  },
  {
   "cell_type": "code",
   "execution_count": null,
   "id": "0bc23175",
   "metadata": {},
   "outputs": [],
   "source": [
    "# 1b. Positional arguments.\n",
    "def savings(balance, apr, days):\n",
    "    \"\"\"This function adds two positional arguments,\n",
    "    adds them and prints the total\"\"\"\n",
    "    interest_rate = (apr/100) * (days/365)\n",
    "    interest_earned = balance * interest_rate\n",
    "    balance += interest_earned\n",
    "    print(f\"The new balance is: {balance}\")"
   ]
  },
  {
   "cell_type": "code",
   "execution_count": null,
   "id": "3b0888cd",
   "metadata": {},
   "outputs": [],
   "source": [
    "if __name__ == \"__main__\":\n",
    "    # Incorrect order.\n",
    "    savings(5, 31, 50000)\n",
    "    # Correct order\n",
    "    # savings(50000, 3, 31)"
   ]
  },
  {
   "cell_type": "code",
   "execution_count": null,
   "id": "dac3d621",
   "metadata": {},
   "outputs": [],
   "source": [
    "# 2. Keyword arguments.\n",
    "def keyword(a, b, c):\n",
    "    \"\"\"This function takes three keyword arguments,\n",
    "    adds them, and prints the total\"\"\"\n",
    "    total = a + b + c\n",
    "    print(f\"The total is: {total}\")"
   ]
  },
  {
   "cell_type": "code",
   "execution_count": null,
   "id": "bb0dc834",
   "metadata": {},
   "outputs": [],
   "source": [
    "if __name__ == \"__main__\":\n",
    "    keyword(a=-3, c=10, b=5)"
   ]
  },
  {
   "cell_type": "code",
   "execution_count": null,
   "id": "f53fefd8",
   "metadata": {},
   "outputs": [],
   "source": [
    "# 3. Keyword and positional arguments\n",
    "def pos_key_args(a, b, c):\n",
    "    \"\"\"This function takes one positional argument\n",
    "    and two keyword arguments, adds them, and prints the total\"\"\"\n",
    "    total = a + b + c\n",
    "    print(f\"The total is: {total}\")"
   ]
  },
  {
   "cell_type": "code",
   "execution_count": null,
   "id": "a9b99b37",
   "metadata": {},
   "outputs": [],
   "source": [
    "if __name__ == \"__main__\":\n",
    "    pos_key_args(42, b=-10, c=5)\n",
    "    # pos_key_args(b=-10, c=5, 42) uncomment this line and run again."
   ]
  },
  {
   "cell_type": "code",
   "execution_count": null,
   "id": "f9cbd6a6",
   "metadata": {},
   "outputs": [],
   "source": [
    "# 4. Iterable unpacking arguments\n",
    "def iterable(a, b, c):\n",
    "    \"\"\"This function takes an iterable (list of tuple)\n",
    "    and adds the values in the iterable, and prints the total\"\"\"\n",
    "    total = a + b + c\n",
    "    print(f\"The total is: {total}\")"
   ]
  },
  {
   "cell_type": "code",
   "execution_count": null,
   "id": "fba26830",
   "metadata": {},
   "outputs": [],
   "source": [
    "if __name__ == \"__main__\":\n",
    "    tuple_values = (5, -10, 7)\n",
    "    list_values = [7, 23, -11]\n",
    "    iterable(*tuple_values)\n",
    "    iterable(*list_values)"
   ]
  },
  {
   "cell_type": "code",
   "execution_count": null,
   "id": "4b922672",
   "metadata": {},
   "outputs": [],
   "source": [
    "# 5. Dictionary unpacking arguments.\n",
    "def dictionary(a, b, c):\n",
    "    \"\"\"This function takes an iterable (list of tuple)\n",
    "    and adds the values in the iterable, and prints the total\"\"\"\n",
    "    total = a + b + c\n",
    "    print(f\"The total is: {total}\")"
   ]
  },
  {
   "cell_type": "code",
   "execution_count": null,
   "id": "ea16b630",
   "metadata": {},
   "outputs": [],
   "source": [
    "if __name__ == \"__main__\":\n",
    "    dict_values = {'b': -4, 'c': 100, 'a':-42 }\n",
    "    dictionary(*dict_values) # returns the keys\n",
    "    dictionary(**dict_values) # returns the values\n"
   ]
  }
 ],
 "metadata": {},
 "nbformat": 4,
 "nbformat_minor": 5
}
