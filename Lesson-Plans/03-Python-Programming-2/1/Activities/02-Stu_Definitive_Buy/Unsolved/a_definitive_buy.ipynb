{
 "cells": [
  {
   "cell_type": "code",
   "execution_count": null,
   "id": "2ce9d054",
   "metadata": {},
   "outputs": [],
   "source": [
    "\"\"\"A Definitive Buy.\"\"\""
   ]
  },
  {
   "cell_type": "code",
   "execution_count": null,
   "id": "6ae66640",
   "metadata": {},
   "outputs": [],
   "source": [
    "\n",
    "# Create a function that prints two messages.\n",
    "# The first message should state the cost of the transaction.\n",
    "# The second message should state that the payment has been processed."
   ]
  },
  {
   "cell_type": "code",
   "execution_count": null,
   "id": "5870cccc",
   "metadata": {},
   "outputs": [],
   "source": []
  },
  {
   "cell_type": "code",
   "execution_count": null,
   "id": "9c554ed8",
   "metadata": {},
   "outputs": [],
   "source": [
    "\n",
    "if __name__ == \"__main__\":\n",
    "    # Call the function to run the code in the function.\n",
    "    process_payment()\n"
   ]
  }
 ],
 "metadata": {},
 "nbformat": 4,
 "nbformat_minor": 5
}
