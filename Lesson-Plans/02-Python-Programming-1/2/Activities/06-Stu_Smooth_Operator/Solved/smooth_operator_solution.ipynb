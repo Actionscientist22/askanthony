{
 "cells": [
  {
   "cell_type": "code",
   "execution_count": null,
   "id": "e9e1cdbf",
   "metadata": {},
   "outputs": [],
   "source": [
    "# Declare variables\n",
    "budget = 2000\n",
    "cities = [\"Rome\", \"Nairobi\", \"Phnom Penh\", \"Santiago\", \"Toronto\", \"Rotorua\"]\n",
    "cities_daily_cost = [150, 70, 60, 80, 110, 125]\n",
    "days = input(\"How many days can you travel? \")\n",
    "city_to_visit = input(\"What city would you like to visit? \")"
   ]
  },
  {
   "cell_type": "code",
   "execution_count": null,
   "id": "5b91a4df",
   "metadata": {},
   "outputs": [],
   "source": [
    "# Check if days is a number, and convert it to an integer if it is\n",
    "if days.isdigit():\n",
    "    days = int(days)\n",
    "# Else print an error\n",
    "else:\n",
    "    print(\"Input was not a number.\")"
   ]
  },
  {
   "cell_type": "code",
   "execution_count": null,
   "id": "cc5d8219",
   "metadata": {},
   "outputs": [],
   "source": [
    "# Check if budget and days are integers, and if so, calculate the daily budget\n",
    "if type(days) is int and type(budget) is int:\n",
    "    daily_budget = budget / days\n",
    "    print(f\"The daily budget is ${daily_budget}\")\n",
    "# Else print an error\n",
    "else:\n",
    "    print(\"There was an error. Unable to calculate daily budget.\")"
   ]
  },
  {
   "cell_type": "code",
   "execution_count": null,
   "id": "f4c5ec0e",
   "metadata": {},
   "outputs": [],
   "source": [
    "# Check if the city_to_visit is in the cities list\n",
    "if city_to_visit in cities:\n",
    "    # Get the daily cost for the city\n",
    "    city_index = cities.index(city_to_visit)\n",
    "    city_daily_cost = cities_daily_cost[city_index]\n",
    "# Else set the city_daily_cost to 0 to be used for error checking\n",
    "else:\n",
    "    city_daily_cost = 0"
   ]
  },
  {
   "cell_type": "code",
   "execution_count": null,
   "id": "57f27dab",
   "metadata": {},
   "outputs": [],
   "source": [
    "# Check if the city_daily_cost is greater than 0 and equal to or less than\n",
    "# the daily budget\n",
    "if city_daily_cost > 0 and city_daily_cost <= daily_budget:\n",
    "    # Tell the traveler they can afford the vacation\n",
    "    print(\n",
    "        f\"You can afford the trip to {city_to_visit} for {days} days with \"\n",
    "        + f\"your daily budget of ${daily_budget} because the daily cost is $\"\n",
    "        + str(city_daily_cost)\n",
    "    )\n",
    "# Else if the city_daily_cost is greater than 0 and greater than the daily\n",
    "# budget\n",
    "elif city_daily_cost > 0 and city_daily_cost > daily_budget:\n",
    "    # Calculate and print out how much more per day the traveler needs\n",
    "    need_daily = city_daily_cost - daily_budget\n",
    "    print(\n",
    "        f\"You'll have to wait to travel when you can afford ${need_daily} \"\n",
    "        + \"more per day.\"\n",
    "    )\n",
    "# Else print an error\n",
    "else:\n",
    "    print(\"City was not in list. We cannot make any recommendations.\")\n"
   ]
  }
 ],
 "metadata": {},
 "nbformat": 4,
 "nbformat_minor": 5
}
