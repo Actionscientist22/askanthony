{
 "cells": [
  {
   "cell_type": "code",
   "execution_count": null,
   "id": "890e7fac",
   "metadata": {},
   "outputs": [],
   "source": [
    "# Declare variables\n",
    "budget = 2000\n",
    "cities = [\"Rome\", \"Nairobi\", \"Phnom Penh\", \"Santiago\", \"Toronto\", \"Rotorua\"]\n",
    "cities_daily_cost = [150, 70, 60, 80, 110, 125]\n",
    "days = input(\"How many days can you travel? \")\n",
    "city_to_visit = input(\"What city would you like to visit? \")"
   ]
  },
  {
   "cell_type": "code",
   "execution_count": null,
   "id": "70c87fab",
   "metadata": {},
   "outputs": [],
   "source": [
    "# Check if days is a number, and convert it to an integer if it is"
   ]
  },
  {
   "cell_type": "code",
   "execution_count": null,
   "id": "8a8a727a",
   "metadata": {},
   "outputs": [],
   "source": [
    "# Else print an error"
   ]
  },
  {
   "cell_type": "code",
   "execution_count": null,
   "id": "52cdc336",
   "metadata": {},
   "outputs": [],
   "source": [
    "\n",
    "# Check if budget and days are integers, and if so, calculate the daily budget"
   ]
  },
  {
   "cell_type": "code",
   "execution_count": null,
   "id": "b3cbe2c7",
   "metadata": {},
   "outputs": [],
   "source": [
    "# Else print an error"
   ]
  },
  {
   "cell_type": "code",
   "execution_count": null,
   "id": "ee0bc67a",
   "metadata": {},
   "outputs": [],
   "source": [
    "\n",
    "# Check if the city_to_visit is in the cities list, and if so,\n",
    "# get the daily cost for the city"
   ]
  },
  {
   "cell_type": "code",
   "execution_count": null,
   "id": "6c600a3a",
   "metadata": {},
   "outputs": [],
   "source": [
    "# Else set the city_daily_cost to 0 to be used for error checking"
   ]
  },
  {
   "cell_type": "code",
   "execution_count": null,
   "id": "d43a7445",
   "metadata": {},
   "outputs": [],
   "source": [
    "\n",
    "# Check if the city_daily_cost is greater than 0 and equal to or less than the\n",
    "# daily budget, and if so, tell the traveler they can afford the vacation"
   ]
  },
  {
   "cell_type": "code",
   "execution_count": null,
   "id": "42fca1c4",
   "metadata": {},
   "outputs": [],
   "source": [
    "# Else if the city_daily_cost is greater than 0 and greater than the daily budget,\n",
    "# calculate and print out how much more per day the traveler needs"
   ]
  },
  {
   "cell_type": "code",
   "execution_count": null,
   "id": "873bef90",
   "metadata": {},
   "outputs": [],
   "source": [
    "# Else print an error\n"
   ]
  }
 ],
 "metadata": {},
 "nbformat": 4,
 "nbformat_minor": 5
}
