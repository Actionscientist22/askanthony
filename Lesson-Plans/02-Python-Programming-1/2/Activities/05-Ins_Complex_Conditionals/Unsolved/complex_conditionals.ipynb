{
 "cells": [
  {
   "cell_type": "code",
   "execution_count": null,
   "id": "50932c97",
   "metadata": {},
   "outputs": [],
   "source": [
    "# Declare variables\n",
    "x = 1\n",
    "y = 10"
   ]
  },
  {
   "cell_type": "code",
   "execution_count": null,
   "id": "e7d98860",
   "metadata": {},
   "outputs": [],
   "source": [
    "# Logical operators: \"and\" and \"or\""
   ]
  },
  {
   "cell_type": "code",
   "execution_count": null,
   "id": "c9e3b86b",
   "metadata": {},
   "outputs": [],
   "source": [
    "# Check for two conditions to be met using \"and\""
   ]
  },
  {
   "cell_type": "code",
   "execution_count": null,
   "id": "7dc4fc53",
   "metadata": {},
   "outputs": [],
   "source": [
    "\n",
    "# Check if either of two conditions is met using \"or\""
   ]
  },
  {
   "cell_type": "code",
   "execution_count": null,
   "id": "74536178",
   "metadata": {},
   "outputs": [],
   "source": [
    "\n",
    "# Check if a condition is not true"
   ]
  },
  {
   "cell_type": "code",
   "execution_count": null,
   "id": "87a541ec",
   "metadata": {},
   "outputs": [],
   "source": [
    "\n",
    "# Check multiple conditions"
   ]
  },
  {
   "cell_type": "code",
   "execution_count": null,
   "id": "b1e43b26",
   "metadata": {},
   "outputs": [],
   "source": [
    "\n",
    "# Conditionals with membership operators: \"in\" and \"not in\""
   ]
  },
  {
   "cell_type": "code",
   "execution_count": null,
   "id": "bd73e4dd",
   "metadata": {},
   "outputs": [],
   "source": [
    "# Check if a variable is in a list\n",
    "name = \"Amidah\"\n",
    "group_one = [\"Jorge\", \"Joon\", \"Susan\"]\n",
    "group_two = [\"Gerald\", \"Paola\", \"Ryder\"]\n",
    "group_three = [\"Farah\", \"Amidah\", \"Koen\"]"
   ]
  },
  {
   "cell_type": "code",
   "execution_count": null,
   "id": "42e89261",
   "metadata": {},
   "outputs": [],
   "source": []
  },
  {
   "cell_type": "code",
   "execution_count": null,
   "id": "cb3dcce3",
   "metadata": {},
   "outputs": [],
   "source": [
    "# Check if a variable is not in a list\n",
    "countries = [\"Fiji\", \"Australia\", \"New Zealand\", \"Papua New Guinea\", \"Palau\"\n",
    "             \"Solomon Islands\", \"Micronesia\", \"Vanuatu\", \"Samoa\", \"Kiribati\",\n",
    "             \"Tonga\", \"Marshall Islands\", \"Tuvalu\", \"Nauru\"]\n",
    "country = \"Kenya\""
   ]
  },
  {
   "cell_type": "code",
   "execution_count": null,
   "id": "0d37e6ee",
   "metadata": {},
   "outputs": [],
   "source": []
  },
  {
   "cell_type": "code",
   "execution_count": null,
   "id": "988489de",
   "metadata": {},
   "outputs": [],
   "source": [
    "# Conditionals with identity operators: \"is\" and \"is not\""
   ]
  },
  {
   "cell_type": "code",
   "execution_count": null,
   "id": "156e1020",
   "metadata": {},
   "outputs": [],
   "source": [
    "# Check if a variable is a list"
   ]
  },
  {
   "cell_type": "code",
   "execution_count": null,
   "id": "eb7862c7",
   "metadata": {},
   "outputs": [],
   "source": [
    "\n",
    "# Check if a variable is not a list"
   ]
  },
  {
   "cell_type": "code",
   "execution_count": null,
   "id": "d68ab2d9",
   "metadata": {},
   "outputs": [],
   "source": [
    "\n",
    "# Check if a variable is a float or integer"
   ]
  },
  {
   "cell_type": "code",
   "execution_count": null,
   "id": "d3d44cae",
   "metadata": {},
   "outputs": [],
   "source": [
    "\n",
    "# Check multiple conditions with comparison and logical operators\n",
    "height = 66\n",
    "age = 16\n",
    "adult_permission = True"
   ]
  },
  {
   "cell_type": "code",
   "execution_count": null,
   "id": "5f07bd28",
   "metadata": {},
   "outputs": [],
   "source": []
  }
 ],
 "metadata": {},
 "nbformat": 4,
 "nbformat_minor": 5
}
