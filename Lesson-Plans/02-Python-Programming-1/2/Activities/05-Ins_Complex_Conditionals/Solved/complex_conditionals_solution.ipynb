{
 "cells": [
  {
   "cell_type": "code",
   "execution_count": null,
   "id": "22101c13",
   "metadata": {},
   "outputs": [],
   "source": [
    "# Declare variables\n",
    "x = 1\n",
    "y = 10"
   ]
  },
  {
   "cell_type": "code",
   "execution_count": null,
   "id": "1a630823",
   "metadata": {},
   "outputs": [],
   "source": [
    "# Logical operators: \"and\" and \"or\""
   ]
  },
  {
   "cell_type": "code",
   "execution_count": null,
   "id": "f38c5b9f",
   "metadata": {},
   "outputs": [],
   "source": [
    "# Check for two conditions to be met using \"and\"\n",
    "if x == 1 and y == 10:\n",
    "    print(\"Both values returned true\")"
   ]
  },
  {
   "cell_type": "code",
   "execution_count": null,
   "id": "76e4d4d6",
   "metadata": {},
   "outputs": [],
   "source": [
    "# Check if either of two conditions is met using \"or\"\n",
    "if x < 45 or y < 5:\n",
    "    print(\"One or more of the statements were true\")"
   ]
  },
  {
   "cell_type": "code",
   "execution_count": null,
   "id": "ada125fb",
   "metadata": {},
   "outputs": [],
   "source": [
    "# Check if a condition is not true\n",
    "    if not (x > y):\n",
    "        print(\"x is not greater than y\")"
   ]
  },
  {
   "cell_type": "code",
   "execution_count": null,
   "id": "8d1d5f6d",
   "metadata": {},
   "outputs": [],
   "source": [
    "# Check multiple conditions\n",
    "plate = \"fancy\"\n",
    "if plate == \"cracked\":\n",
    "    print(\"Throw the dish away\")\n",
    "elif plate == \"fancy\":\n",
    "    print(\"Put the plate on the top shelf\")\n",
    "else:\n",
    "    print(\"Put the plate on the bottom shelf\")"
   ]
  },
  {
   "cell_type": "code",
   "execution_count": null,
   "id": "5b8e2385",
   "metadata": {},
   "outputs": [],
   "source": [
    "# Conditionals with membership operators: \"in\" and \"not in\""
   ]
  },
  {
   "cell_type": "code",
   "execution_count": null,
   "id": "f3829d5a",
   "metadata": {},
   "outputs": [],
   "source": [
    "# Check if a variable is in a list\n",
    "name = \"Amidah\"\n",
    "group_one = [\"Jorge\", \"Joon\", \"Susan\"]\n",
    "group_two = [\"Gerald\", \"Paola\", \"Ryder\"]\n",
    "group_three = [\"Farah\", \"Amidah\", \"Koen\"]"
   ]
  },
  {
   "cell_type": "code",
   "execution_count": null,
   "id": "6987ee9d",
   "metadata": {},
   "outputs": [],
   "source": [
    "if name in group_one:\n",
    "    print(name + \" is in the first group\")\n",
    "elif name in group_two:\n",
    "    print(name + \" is in group two\")\n",
    "elif name in group_three:\n",
    "    print(name + \" is in group three\")\n",
    "else:\n",
    "    print(name + \" does not have a group\")"
   ]
  },
  {
   "cell_type": "code",
   "execution_count": null,
   "id": "361db4de",
   "metadata": {},
   "outputs": [],
   "source": [
    "# Check if a variable is not in a list\n",
    "countries = [\"Fiji\", \"Australia\", \"New Zealand\", \"Papua New Guinea\", \"Palau\"\n",
    "             \"Solomon Islands\", \"Micronesia\", \"Vanuatu\", \"Samoa\", \"Kiribati\",\n",
    "             \"Tonga\", \"Marshall Islands\", \"Tuvalu\", \"Nauru\"]\n",
    "country = \"Kenya\""
   ]
  },
  {
   "cell_type": "code",
   "execution_count": null,
   "id": "7c045f64",
   "metadata": {},
   "outputs": [],
   "source": [
    "if country not in countries:\n",
    "    print (country + \" is not in Oceania\")"
   ]
  },
  {
   "cell_type": "code",
   "execution_count": null,
   "id": "7a27dd9b",
   "metadata": {},
   "outputs": [],
   "source": [
    "# Conditionals with identity operators: \"is\" and \"is not\""
   ]
  },
  {
   "cell_type": "code",
   "execution_count": null,
   "id": "3e9577f4",
   "metadata": {},
   "outputs": [],
   "source": [
    "# Check if a variable is a list\n",
    "if type(countries) is list:\n",
    "    print(\"countries is a list\")"
   ]
  },
  {
   "cell_type": "code",
   "execution_count": null,
   "id": "d56b2832",
   "metadata": {},
   "outputs": [],
   "source": [
    "# Check if a variable is not a list\n",
    "if country is not list:\n",
    "    print(\"country is not a list\")"
   ]
  },
  {
   "cell_type": "code",
   "execution_count": null,
   "id": "aa2114bd",
   "metadata": {},
   "outputs": [],
   "source": [
    "# Check if a variable is a float or integer\n",
    "if type(x) is float:\n",
    "    print(\"x is a float\")\n",
    "elif type(x) is int:\n",
    "    print(\"x is an integer\")\n",
    "else:\n",
    "    print(\"x is not a number\")"
   ]
  },
  {
   "cell_type": "code",
   "execution_count": null,
   "id": "4ad1b187",
   "metadata": {},
   "outputs": [],
   "source": [
    "# Check multiple conditions with comparison and logical operators\n",
    "height = 66\n",
    "age = 16\n",
    "adult_permission = True"
   ]
  },
  {
   "cell_type": "code",
   "execution_count": null,
   "id": "8ccd726b",
   "metadata": {},
   "outputs": [],
   "source": [
    "if (height > 70) and (age >= 18):\n",
    "    print(\"Can ride all the roller coasters\")\n",
    "elif (height > 65) and (age >= 18):\n",
    "    print(\"Can ride moderate roller coasters\")\n",
    "elif (height > 60) and (age >= 18):\n",
    "    print(\"Can ride light roller coasters\")\n",
    "elif ((height > 50) and (age >= 18)) or ((adult_permission) and (height > 50)):\n",
    "    print(\"Can ride bumper cars\")\n",
    "else:\n",
    "    print(\"Stick to lazy river\")"
   ]
  }
 ],
 "metadata": {},
 "nbformat": 4,
 "nbformat_minor": 5
}
