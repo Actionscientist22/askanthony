{
 "cells": [
  {
   "cell_type": "code",
   "execution_count": null,
   "id": "8e8dc510",
   "metadata": {},
   "outputs": [],
   "source": [
    "# Loop through a range of numbers (0 through 4)"
   ]
  },
  {
   "cell_type": "code",
   "execution_count": null,
   "id": "9f45910f",
   "metadata": {},
   "outputs": [],
   "source": [
    "\n",
    "print(\"-\" * 40)"
   ]
  },
  {
   "cell_type": "code",
   "execution_count": null,
   "id": "c7671a6c",
   "metadata": {},
   "outputs": [],
   "source": [
    "# Loop through a range of numbers (2 through 6 - yes 6! Up to, but not\n",
    "# including, 7)"
   ]
  },
  {
   "cell_type": "code",
   "execution_count": null,
   "id": "14033fe4",
   "metadata": {},
   "outputs": [],
   "source": [
    "\n",
    "print(\"-\" * 40)"
   ]
  },
  {
   "cell_type": "code",
   "execution_count": null,
   "id": "3387c08f",
   "metadata": {},
   "outputs": [],
   "source": [
    "# Loop through a range of numbers (0 through 4) without using the value in the\n",
    "# range"
   ]
  },
  {
   "cell_type": "code",
   "execution_count": null,
   "id": "2f9f07ba",
   "metadata": {},
   "outputs": [],
   "source": [
    "    # Add 2 to the value of y"
   ]
  },
  {
   "cell_type": "code",
   "execution_count": null,
   "id": "99f67f6d",
   "metadata": {},
   "outputs": [],
   "source": [
    "\n",
    "print(\"-\" * 40)"
   ]
  },
  {
   "cell_type": "code",
   "execution_count": null,
   "id": "28370b49",
   "metadata": {},
   "outputs": [],
   "source": [
    "# Iterate through letters in a string"
   ]
  },
  {
   "cell_type": "code",
   "execution_count": null,
   "id": "d28b2a51",
   "metadata": {},
   "outputs": [],
   "source": [
    "\n",
    "print(\"-\" * 40)"
   ]
  },
  {
   "cell_type": "code",
   "execution_count": null,
   "id": "48d92cf2",
   "metadata": {},
   "outputs": [],
   "source": [
    "# Iterate through a list"
   ]
  },
  {
   "cell_type": "code",
   "execution_count": null,
   "id": "1a99dcd0",
   "metadata": {},
   "outputs": [],
   "source": [
    "\n",
    "print(\"-\" * 40)"
   ]
  },
  {
   "cell_type": "code",
   "execution_count": null,
   "id": "3783d5e3",
   "metadata": {},
   "outputs": [],
   "source": [
    "# Make changes to each item in a list"
   ]
  },
  {
   "cell_type": "code",
   "execution_count": null,
   "id": "c48156de",
   "metadata": {},
   "outputs": [],
   "source": [
    "\n",
    "print(\"-\" * 40)"
   ]
  },
  {
   "cell_type": "code",
   "execution_count": null,
   "id": "c092f676",
   "metadata": {},
   "outputs": [],
   "source": [
    "# Loop while a condition is being met\n",
    "run = \"y\""
   ]
  },
  {
   "cell_type": "code",
   "execution_count": null,
   "id": "d6921a6b",
   "metadata": {},
   "outputs": [],
   "source": [
    "# run.lower() means the condition will be met if run = \"y\" or run = \"Y\""
   ]
  },
  {
   "cell_type": "code",
   "execution_count": null,
   "id": "a840bdae",
   "metadata": {},
   "outputs": [],
   "source": [
    "\n",
    "# While loop with a Boolean variable\n"
   ]
  }
 ],
 "metadata": {},
 "nbformat": 4,
 "nbformat_minor": 5
}
