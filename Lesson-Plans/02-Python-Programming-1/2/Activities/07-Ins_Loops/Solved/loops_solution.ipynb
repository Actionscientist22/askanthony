{
 "cells": [
  {
   "cell_type": "code",
   "execution_count": null,
   "id": "7b0b9e5a",
   "metadata": {},
   "outputs": [],
   "source": [
    "# Loop through a range of numbers (0 through 4)\n",
    "for x in range(5):\n",
    "    print(x)"
   ]
  },
  {
   "cell_type": "code",
   "execution_count": null,
   "id": "4db0e7f2",
   "metadata": {},
   "outputs": [],
   "source": [
    "print(\"-\" * 40)"
   ]
  },
  {
   "cell_type": "code",
   "execution_count": null,
   "id": "c2bda22c",
   "metadata": {},
   "outputs": [],
   "source": [
    "# Loop through a range of numbers (2 through 6 - yes 6! Up to, but not\n",
    "# including, 7)\n",
    "for x in range(2, 7):\n",
    "    print(x)"
   ]
  },
  {
   "cell_type": "code",
   "execution_count": null,
   "id": "9e85fb09",
   "metadata": {},
   "outputs": [],
   "source": [
    "print(\"-\" * 40)"
   ]
  },
  {
   "cell_type": "code",
   "execution_count": null,
   "id": "fbfbead0",
   "metadata": {},
   "outputs": [],
   "source": [
    "# Loop through a range of numbers (0 through 4) without using the value in the\n",
    "# range\n",
    "y = 2\n",
    "for _ in range(5):\n",
    "    # Add 2 to the value of y\n",
    "    y += 2\n",
    "    print(y)"
   ]
  },
  {
   "cell_type": "code",
   "execution_count": null,
   "id": "58a4ebb0",
   "metadata": {},
   "outputs": [],
   "source": [
    "print(\"-\" * 40)"
   ]
  },
  {
   "cell_type": "code",
   "execution_count": null,
   "id": "fdae4928",
   "metadata": {},
   "outputs": [],
   "source": [
    "# Iterate through letters in a string\n",
    "word = \"Peace\"\n",
    "for letter in word:\n",
    "    print(letter)"
   ]
  },
  {
   "cell_type": "code",
   "execution_count": null,
   "id": "ca4d79c7",
   "metadata": {},
   "outputs": [],
   "source": [
    "print(\"-\" * 40)"
   ]
  },
  {
   "cell_type": "code",
   "execution_count": null,
   "id": "5f54e4f2",
   "metadata": {},
   "outputs": [],
   "source": [
    "# Iterate through a list\n",
    "zoo = [\"cow\", \"dog\", \"bee\", \"zebra\"]\n",
    "for animal in zoo:\n",
    "    print(animal.upper())"
   ]
  },
  {
   "cell_type": "code",
   "execution_count": null,
   "id": "d68add6e",
   "metadata": {},
   "outputs": [],
   "source": [
    "print(\"-\" * 40)"
   ]
  },
  {
   "cell_type": "code",
   "execution_count": null,
   "id": "3b7e4ccc",
   "metadata": {},
   "outputs": [],
   "source": [
    "# Make changes to each item in a list\n",
    "numbers = [9, 6, 4, 9]\n",
    "for i in range(len(numbers)):\n",
    "    # Add 1 to the list item\n",
    "    numbers[i] += 1\n",
    "    print(numbers[i])"
   ]
  },
  {
   "cell_type": "code",
   "execution_count": null,
   "id": "6e44d557",
   "metadata": {},
   "outputs": [],
   "source": [
    "print(\"-\" * 40)"
   ]
  },
  {
   "cell_type": "code",
   "execution_count": null,
   "id": "39434794",
   "metadata": {},
   "outputs": [],
   "source": [
    "# Loop while a condition is being met\n",
    "run = \"y\""
   ]
  },
  {
   "cell_type": "code",
   "execution_count": null,
   "id": "380a347e",
   "metadata": {},
   "outputs": [],
   "source": [
    "# run.lower() means the condition will be met if run = \"y\" or run = \"Y\"\n",
    "while run.lower() == \"y\":\n",
    "    print(\"Hi!\")\n",
    "    run = input(\"To run again. Enter 'y': \")"
   ]
  },
  {
   "cell_type": "code",
   "execution_count": null,
   "id": "66d6a999",
   "metadata": {},
   "outputs": [],
   "source": [
    "# While loop with a Boolean variable\n",
    "keep_looping = True"
   ]
  },
  {
   "cell_type": "code",
   "execution_count": null,
   "id": "d2f0580c",
   "metadata": {},
   "outputs": [],
   "source": [
    "while keep_looping:\n",
    "    print(\"Hi!\")\n",
    "    keep_looping = bool(input(\"Press enter to exit and anything else to continue. \"))\n"
   ]
  }
 ],
 "metadata": {},
 "nbformat": 4,
 "nbformat_minor": 5
}
