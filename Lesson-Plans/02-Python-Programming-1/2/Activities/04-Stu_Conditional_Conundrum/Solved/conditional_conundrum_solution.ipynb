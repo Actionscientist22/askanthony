{
 "cells": [
  {
   "cell_type": "code",
   "execution_count": null,
   "id": "52972267",
   "metadata": {},
   "outputs": [],
   "source": [
    "# 1. oooo needs some work\n",
    "x = 5\n",
    "if 2 * x > 10:\n",
    "    print(\"Question 1 works!\")\n",
    "else:\n",
    "    print(\"oooo needs some work\")"
   ]
  },
  {
   "cell_type": "code",
   "execution_count": null,
   "id": "ef970b12",
   "metadata": {},
   "outputs": [],
   "source": [
    "# 2. Question 2 works!\n",
    "x = 5\n",
    "if len(\"Dog\") < x:\n",
    "    print(\"Question 2 works!\")\n",
    "else:\n",
    "    print(\"Still missing out\")"
   ]
  },
  {
   "cell_type": "code",
   "execution_count": null,
   "id": "2972d10f",
   "metadata": {},
   "outputs": [],
   "source": [
    "# 3. GOT QUESTION 3!\n",
    "x = 2\n",
    "y = 5\n",
    "if (x ** 3 >= y):\n",
    "    print(\"GOT QUESTION 3!\")\n",
    "else:\n",
    "    print(\"This one didn't work\")"
   ]
  },
  {
   "cell_type": "code",
   "execution_count": null,
   "id": "198310f1",
   "metadata": {},
   "outputs": [],
   "source": [
    "# 4. Madagascar is in Africa\n",
    "country = \"Madagascar\"\n",
    "if country == \"Madagascar\":\n",
    "    print(f\"{country} is in Africa\")\n",
    "else:\n",
    "    print(f\"{country} is not in Africa\")"
   ]
  },
  {
   "cell_type": "code",
   "execution_count": null,
   "id": "daeac34e",
   "metadata": {},
   "outputs": [],
   "source": [
    "# 5. You're going places!\n",
    "going_places = True\n",
    "if going_places:\n",
    "    print(\"You're going places!\")\n",
    "else:\n",
    "    print(\"You prefer to stay at home.\")"
   ]
  },
  {
   "cell_type": "code",
   "execution_count": null,
   "id": "0b4fcbc8",
   "metadata": {},
   "outputs": [],
   "source": [
    "# 6. 66,000 cannot be converted to a number\n",
    "altitude = \"66,000\"\n",
    "if altitude.isdigit():\n",
    "    print(f\"The plane flew at {altitude} feet\")\n",
    "else:\n",
    "    print(f\"{altitude} cannot be converted to a number\")\n"
   ]
  }
 ],
 "metadata": {},
 "nbformat": 4,
 "nbformat_minor": 5
}
