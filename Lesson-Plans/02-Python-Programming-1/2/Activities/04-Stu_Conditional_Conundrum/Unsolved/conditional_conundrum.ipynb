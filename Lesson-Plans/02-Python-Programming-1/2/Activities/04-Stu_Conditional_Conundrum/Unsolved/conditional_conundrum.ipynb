{
 "cells": [
  {
   "cell_type": "code",
   "execution_count": null,
   "id": "a9195552",
   "metadata": {},
   "outputs": [],
   "source": [
    "# 1. \n",
    "x = 5\n",
    "if 2 * x > 10:\n",
    "    print(\"Question 1 works!\")\n",
    "else:\n",
    "    print(\"oooo needs some work\")"
   ]
  },
  {
   "cell_type": "code",
   "execution_count": null,
   "id": "3c3d96e8",
   "metadata": {},
   "outputs": [],
   "source": [
    "# 2. \n",
    "x = 5\n",
    "if len(\"Dog\") < x:\n",
    "    print(\"Question 2 works!\")\n",
    "else:\n",
    "    print(\"Still missing out\")"
   ]
  },
  {
   "cell_type": "code",
   "execution_count": null,
   "id": "4d6dc494",
   "metadata": {},
   "outputs": [],
   "source": [
    "# 3. \n",
    "x = 2\n",
    "y = 5\n",
    "if (x ** 3 >= y):\n",
    "    print(\"GOT QUESTION 3!\")\n",
    "else:\n",
    "    print(\"This one didn't work\")"
   ]
  },
  {
   "cell_type": "code",
   "execution_count": null,
   "id": "4027e278",
   "metadata": {},
   "outputs": [],
   "source": [
    "# 4. \n",
    "country = \"Madagascar\"\n",
    "if country == \"Madagascar\":\n",
    "    print(f\"{country} is in Africa\")\n",
    "else:\n",
    "    print(f\"{country} is not in Africa\")"
   ]
  },
  {
   "cell_type": "code",
   "execution_count": null,
   "id": "828a25bf",
   "metadata": {},
   "outputs": [],
   "source": [
    "# 5. \n",
    "going_places = True\n",
    "if going_places:\n",
    "    print(\"You're going places!\")\n",
    "else:\n",
    "    print(\"You prefer to stay at home.\")"
   ]
  },
  {
   "cell_type": "code",
   "execution_count": null,
   "id": "600a4b83",
   "metadata": {},
   "outputs": [],
   "source": [
    "# 6. \n",
    "altitude = \"66,000\"\n",
    "if altitude.isdigit():\n",
    "    print(f\"The plane flew at {altitude} feet\")\n",
    "else:\n",
    "    print(f\"{altitude} cannot be converted to a number\")\n"
   ]
  }
 ],
 "metadata": {},
 "nbformat": 4,
 "nbformat_minor": 5
}
