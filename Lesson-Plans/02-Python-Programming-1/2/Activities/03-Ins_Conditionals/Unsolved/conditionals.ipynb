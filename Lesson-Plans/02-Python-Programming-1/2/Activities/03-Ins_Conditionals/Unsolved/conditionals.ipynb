{
 "cells": [
  {
   "cell_type": "code",
   "execution_count": null,
   "id": "2a504e65",
   "metadata": {},
   "outputs": [],
   "source": [
    "# Declare variables"
   ]
  },
  {
   "cell_type": "code",
   "execution_count": null,
   "id": "3e0b79c3",
   "metadata": {},
   "outputs": [],
   "source": [
    "\n",
    "# Check if one value is equal to another"
   ]
  },
  {
   "cell_type": "code",
   "execution_count": null,
   "id": "b816edf5",
   "metadata": {},
   "outputs": [],
   "source": [
    "\n",
    "# Check if one value is NOT equal to another"
   ]
  },
  {
   "cell_type": "code",
   "execution_count": null,
   "id": "03f96529",
   "metadata": {},
   "outputs": [],
   "source": [
    "\n",
    "# Check if one value is less than another"
   ]
  },
  {
   "cell_type": "code",
   "execution_count": null,
   "id": "1b23d9e7",
   "metadata": {},
   "outputs": [],
   "source": [
    "\n",
    "# Check if one value is greater than another"
   ]
  },
  {
   "cell_type": "code",
   "execution_count": null,
   "id": "6ef55d3d",
   "metadata": {},
   "outputs": [],
   "source": [
    "\n",
    "# Check if a value is greater than or equal to another"
   ]
  },
  {
   "cell_type": "code",
   "execution_count": null,
   "id": "1e4fa73d",
   "metadata": {},
   "outputs": [],
   "source": [
    "\n",
    "# Use a Boolean to check a condition"
   ]
  },
  {
   "cell_type": "code",
   "execution_count": null,
   "id": "283aa390",
   "metadata": {},
   "outputs": [],
   "source": [
    "\n",
    "# Get an input from a user"
   ]
  },
  {
   "cell_type": "code",
   "execution_count": null,
   "id": "42fb76b3",
   "metadata": {},
   "outputs": [],
   "source": [
    "\n",
    "# Check if the user input is a number\n"
   ]
  }
 ],
 "metadata": {},
 "nbformat": 4,
 "nbformat_minor": 5
}
