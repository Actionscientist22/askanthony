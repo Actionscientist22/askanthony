{
 "cells": [
  {
   "cell_type": "code",
   "execution_count": null,
   "id": "06db4b1d",
   "metadata": {},
   "outputs": [],
   "source": [
    "# Declare variables\n",
    "x = 1\n",
    "y = 10"
   ]
  },
  {
   "cell_type": "code",
   "execution_count": null,
   "id": "6fac4410",
   "metadata": {},
   "outputs": [],
   "source": [
    "# Check if one value is equal to another\n",
    "if x == 1:\n",
    "    print(\"x is equal to 1\")"
   ]
  },
  {
   "cell_type": "code",
   "execution_count": null,
   "id": "1c4c068a",
   "metadata": {},
   "outputs": [],
   "source": [
    "# Check if one value is NOT equal to another\n",
    "if y != 1:\n",
    "    print(\"y is not equal to 1\")"
   ]
  },
  {
   "cell_type": "code",
   "execution_count": null,
   "id": "99888cc7",
   "metadata": {},
   "outputs": [],
   "source": [
    "# Check if one value is less than another\n",
    "if x < y:\n",
    "    print(\"x is less than y\")"
   ]
  },
  {
   "cell_type": "code",
   "execution_count": null,
   "id": "65336819",
   "metadata": {},
   "outputs": [],
   "source": [
    "# Check if one value is greater than another\n",
    "if y > x:\n",
    "    print(\"y is greater than x\")"
   ]
  },
  {
   "cell_type": "code",
   "execution_count": null,
   "id": "7d730f2e",
   "metadata": {},
   "outputs": [],
   "source": [
    "# Check if a value is greater than or equal to another\n",
    "if x >= 1:\n",
    "    print(\"x is greater than or equal to 1\")"
   ]
  },
  {
   "cell_type": "code",
   "execution_count": null,
   "id": "ea0b0f7b",
   "metadata": {},
   "outputs": [],
   "source": [
    "# Use a Boolean to check a condition\n",
    "congratulations = True\n",
    "#congratulations = False"
   ]
  },
  {
   "cell_type": "code",
   "execution_count": null,
   "id": "30c20768",
   "metadata": {},
   "outputs": [],
   "source": [
    "if congratulations:\n",
    "    print(\"Congratulations!\")\n",
    "else:\n",
    "    print(\"How are you feeling?\")"
   ]
  },
  {
   "cell_type": "code",
   "execution_count": null,
   "id": "f4a47b7d",
   "metadata": {},
   "outputs": [],
   "source": [
    "# Get an input from a user\n",
    "user_input = input(\"What number would you like to check? \")"
   ]
  },
  {
   "cell_type": "code",
   "execution_count": null,
   "id": "a3315733",
   "metadata": {},
   "outputs": [],
   "source": [
    "# Check if the user input is a number\n",
    "if user_input.isdigit():\n",
    "    number = int(user_input)\n",
    "    print(f\"Input '{number}' is a number!\")\n",
    "else:\n",
    "    print(f\"{user_input} is not a number.\")"
   ]
  }
 ],
 "metadata": {},
 "nbformat": 4,
 "nbformat_minor": 5
}
