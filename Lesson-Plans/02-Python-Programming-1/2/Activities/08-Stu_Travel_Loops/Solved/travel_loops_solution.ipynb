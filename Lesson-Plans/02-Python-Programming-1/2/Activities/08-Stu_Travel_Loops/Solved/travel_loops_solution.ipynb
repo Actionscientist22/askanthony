{
 "cells": [
  {
   "cell_type": "code",
   "execution_count": 1,
   "id": "91a2c7da",
   "metadata": {},
   "outputs": [],
   "source": [
    "# Declare lists\n",
    "cities = [\"Rome\", \"Nairobi\", \"Phnom Penh\", \"Santiago\", \"Toronto\", \"Rotorua\"]\n",
    "cities_daily_cost = [150, 70, 60, 80, 110, 125]"
   ]
  },
  {
   "cell_type": "code",
   "execution_count": 2,
   "id": "0e1c427b",
   "metadata": {},
   "outputs": [],
   "source": [
    "# Loop 3 times through the cities list\n",
    "for _ in range(3):\n",
    "    # Ask the user for a city and convert it to title case\n",
    "    city = input(\"What city should be added to the list? \").title()\n",
    "    # Append the city to the cities list\n",
    "    cities.append(city)"
   ]
  },
  {
   "cell_type": "code",
   "execution_count": 3,
   "id": "47224b59",
   "metadata": {},
   "outputs": [],
   "source": [
    "# Use a while loop to append to the cities_daily_cost list as long as that list\n",
    "# is shorter than the cities list\n",
    "while len(cities_daily_cost) < len(cities):\n",
    "    # Use the length of cities_daily_cost for the index of cities to print its\n",
    "    # value when asking the cost to append to the cities_daily_cost list\n",
    "    index = len(cities_daily_cost)\n",
    "    cost = int(input(f\"What is the daily cost for {cities[index]} \"))\n",
    "    cities_daily_cost.append(cost)"
   ]
  },
  {
   "cell_type": "code",
   "execution_count": 4,
   "id": "142c8212",
   "metadata": {},
   "outputs": [],
   "source": [
    "# Loop through the cities_daily_cost list and add 10 to each item\n",
    "for i in range(len(cities_daily_cost)):\n",
    "    cities_daily_cost[i] += 10"
   ]
  },
  {
   "cell_type": "code",
   "execution_count": 5,
   "id": "cc1a0f97",
   "metadata": {},
   "outputs": [
    {
     "name": "stdout",
     "output_type": "stream",
     "text": [
      "Daily cost of Rome is $160\n",
      "Daily cost of Nairobi is $80\n",
      "Daily cost of Phnom Penh is $70\n",
      "Daily cost of Santiago is $90\n",
      "Daily cost of Toronto is $120\n",
      "Daily cost of Rotorua is $135\n",
      "Daily cost of Bob is $17\n",
      "Daily cost of Bob is $664\n",
      "Daily cost of Bob is $15\n"
     ]
    }
   ],
   "source": [
    "# Use a for loop to loop through both of the lists at the same time, since\n",
    "# they're the same length, and print out the city and daily cost on the same\n",
    "# line\n",
    "for i in range(len(cities)):\n",
    "    print(f\"Daily cost of {cities[i]} is ${cities_daily_cost[i]}\")\n"
   ]
  }
 ],
 "metadata": {
  "kernelspec": {
   "display_name": "base",
   "language": "python",
   "name": "python3"
  },
  "language_info": {
   "codemirror_mode": {
    "name": "ipython",
    "version": 3
   },
   "file_extension": ".py",
   "mimetype": "text/x-python",
   "name": "python",
   "nbconvert_exporter": "python",
   "pygments_lexer": "ipython3",
   "version": "3.11.5"
  }
 },
 "nbformat": 4,
 "nbformat_minor": 5
}
