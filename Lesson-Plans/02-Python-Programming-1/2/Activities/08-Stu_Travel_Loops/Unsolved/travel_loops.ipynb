{
 "cells": [
  {
   "cell_type": "code",
   "execution_count": null,
   "id": "a1fbf777",
   "metadata": {},
   "outputs": [],
   "source": [
    "# Declare lists\n",
    "cities = [\"Rome\", \"Nairobi\", \"Phnom Penh\", \"Santiago\", \"Toronto\", \"Rotorua\"]\n",
    "cities_daily_cost = [150, 70, 60, 80, 110, 125]"
   ]
  },
  {
   "cell_type": "code",
   "execution_count": null,
   "id": "2a180780",
   "metadata": {},
   "outputs": [],
   "source": [
    "# Loop 3 times through the cities list"
   ]
  },
  {
   "cell_type": "code",
   "execution_count": null,
   "id": "42cf9822",
   "metadata": {},
   "outputs": [],
   "source": [
    "# Ask the user for a city and convert it to title case"
   ]
  },
  {
   "cell_type": "code",
   "execution_count": null,
   "id": "07ff6b2e",
   "metadata": {},
   "outputs": [],
   "source": [
    "# Append the city to the cities list"
   ]
  },
  {
   "cell_type": "code",
   "execution_count": null,
   "id": "b4aaa099",
   "metadata": {},
   "outputs": [],
   "source": [
    "\n",
    "# Use a while loop to append to the cities_daily_cost list as long as that list\n",
    "# is shorter than the cities list"
   ]
  },
  {
   "cell_type": "code",
   "execution_count": null,
   "id": "6f7cbb69",
   "metadata": {},
   "outputs": [],
   "source": [
    "# Use the length of cities_daily_cost for the index of cities to print its\n",
    "# value when asking the cost to append to the cities_daily_cost list"
   ]
  },
  {
   "cell_type": "code",
   "execution_count": null,
   "id": "73ecddce",
   "metadata": {},
   "outputs": [],
   "source": [
    "\n",
    "# Loop through the cities_daily_cost list and add 10 to each item"
   ]
  },
  {
   "cell_type": "code",
   "execution_count": null,
   "id": "f4c99969",
   "metadata": {},
   "outputs": [],
   "source": [
    "\n",
    "# Use a for loop to loop through both of the lists at the same time, since\n",
    "# they're the same length, and print out the city and daily cost on the same\n",
    "# line\n"
   ]
  }
 ],
 "metadata": {},
 "nbformat": 4,
 "nbformat_minor": 5
}
