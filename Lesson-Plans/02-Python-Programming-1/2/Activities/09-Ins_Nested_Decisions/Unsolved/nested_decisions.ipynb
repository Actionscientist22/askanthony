{
 "cells": [
  {
   "cell_type": "code",
   "execution_count": null,
   "id": "4d73b90c",
   "metadata": {},
   "outputs": [],
   "source": [
    "# Nested if-else statements"
   ]
  },
  {
   "cell_type": "code",
   "execution_count": null,
   "id": "f879ba45",
   "metadata": {},
   "outputs": [],
   "source": [
    "issue_currency = \"EUR\"\n",
    "price = 30.0"
   ]
  },
  {
   "cell_type": "code",
   "execution_count": null,
   "id": "f9a52b77",
   "metadata": {},
   "outputs": [],
   "source": [
    "# Check if price is not negative (greater than equal to 0)"
   ]
  },
  {
   "cell_type": "code",
   "execution_count": null,
   "id": "655da896",
   "metadata": {},
   "outputs": [],
   "source": [
    "    # If price is not negative and currency is 'USD' (Dollar)."
   ]
  },
  {
   "cell_type": "code",
   "execution_count": null,
   "id": "e7ef1450",
   "metadata": {},
   "outputs": [],
   "source": [
    "    # If price is not negative and currency is 'EUR' (Euro)."
   ]
  },
  {
   "cell_type": "code",
   "execution_count": null,
   "id": "44ab2c21",
   "metadata": {},
   "outputs": [],
   "source": [
    "    # If anything other than the above."
   ]
  },
  {
   "cell_type": "code",
   "execution_count": null,
   "id": "10c0eeb5",
   "metadata": {},
   "outputs": [],
   "source": [
    "\n",
    "# Else price is negative."
   ]
  },
  {
   "cell_type": "code",
   "execution_count": null,
   "id": "8d660199",
   "metadata": {},
   "outputs": [],
   "source": [
    "\n",
    "# Nested loops"
   ]
  },
  {
   "cell_type": "code",
   "execution_count": null,
   "id": "a7f3645d",
   "metadata": {},
   "outputs": [],
   "source": [
    "# Keep looping until we exit the loop\n",
    "\n",
    "\n",
    "    # Declare user_number\n",
    "\n",
    "\n",
    "    # Keep looping while user_number is not an integer\n",
    "\n",
    "        # Ask the user how many numbers to loop through\n",
    "\n",
    "\n",
    "        # Validate the input is a number\n",
    "\n",
    "\n",
    "    # Loop through the numbers. (Be sure to cast the string into an integer.)\n",
    "\n",
    "\n",
    "        # Print each number in the range\n",
    "\n",
    "\n",
    "        # Limit the range to 20\n",
    "\n",
    "\n",
    "    # Once complete, ask the user if they want to quit\n"
   ]
  }
 ],
 "metadata": {
  "language_info": {
   "name": "python"
  }
 },
 "nbformat": 4,
 "nbformat_minor": 5
}
