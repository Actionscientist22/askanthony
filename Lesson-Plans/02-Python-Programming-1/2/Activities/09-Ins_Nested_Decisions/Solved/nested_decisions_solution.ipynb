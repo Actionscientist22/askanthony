{
 "cells": [
  {
   "cell_type": "code",
   "execution_count": null,
   "id": "f28ba7fc",
   "metadata": {},
   "outputs": [],
   "source": [
    "# Nested if-else statements"
   ]
  },
  {
   "cell_type": "code",
   "execution_count": null,
   "id": "bbd3d7ab",
   "metadata": {},
   "outputs": [],
   "source": [
    "issue_currency = \"EUR\"\n",
    "price = 30.0"
   ]
  },
  {
   "cell_type": "code",
   "execution_count": null,
   "id": "9e202e8e",
   "metadata": {},
   "outputs": [],
   "source": [
    "# Check if price is not negative (greater than equal to 0)\n",
    "if price >= 0:\n",
    "    # If price is not negative and currency is 'USD' (Dollar).\n",
    "    if issue_currency == \"USD\":\n",
    "        print(\"The currency is $\", price)\n",
    "    # If price is not negative and currency is 'EUR' (Euro).\n",
    "    elif issue_currency == \"EUR\":\n",
    "        print(\"The currency is €\", price)\n",
    "    # If anything other than the above.\n",
    "    else:\n",
    "        print(\"The currency is not in USD or EUR.\")\n",
    "# Else price is negative\n",
    "else:\n",
    "    print(\"Error, the price listed is a negative number\")"
   ]
  },
  {
   "cell_type": "code",
   "execution_count": null,
   "id": "34edcb20",
   "metadata": {},
   "outputs": [],
   "source": [
    "\n",
    "# Nested loops"
   ]
  },
  {
   "cell_type": "code",
   "execution_count": null,
   "id": "e24a1e9b",
   "metadata": {},
   "outputs": [],
   "source": [
    "# Keep looping until we exit the loop\n",
    "while True:"
   ]
  },
  {
   "cell_type": "code",
   "execution_count": null,
   "id": "86565c76",
   "metadata": {},
   "outputs": [],
   "source": [
    "    # Declare user_number\n",
    "    user_number = \"\""
   ]
  },
  {
   "cell_type": "code",
   "execution_count": null,
   "id": "fb21d72b",
   "metadata": {},
   "outputs": [],
   "source": [
    "    # Keep looping while user_number is not an integer\n",
    "    while type(user_number) is not int:\n",
    "        # Ask the user how many numbers to loop through\n",
    "        user_number = input(\"How many numbers? \")"
   ]
  },
  {
   "cell_type": "code",
   "execution_count": null,
   "id": "bd3d2355",
   "metadata": {},
   "outputs": [],
   "source": [
    "        # Validate the input is a number\n",
    "        if user_number.isdigit():\n",
    "            user_number = int(user_number)\n",
    "        else:\n",
    "            print(\"You didn't input a valid number\")"
   ]
  },
  {
   "cell_type": "code",
   "execution_count": null,
   "id": "2fce0fb0",
   "metadata": {},
   "outputs": [],
   "source": [
    "    # Loop through the numbers. (Be sure to cast the string into an integer.)\n",
    "    for x in range(user_number):"
   ]
  },
  {
   "cell_type": "code",
   "execution_count": null,
   "id": "b1c1ee64",
   "metadata": {},
   "outputs": [],
   "source": [
    "        # Print each number in the range\n",
    "        print(x)"
   ]
  },
  {
   "cell_type": "code",
   "execution_count": null,
   "id": "3c6b412d",
   "metadata": {},
   "outputs": [],
   "source": [
    "        # Limit the range to 20\n",
    "        if x >= 20:\n",
    "            print(\"Your input number is too high, breaking loop.\")\n",
    "            break"
   ]
  },
  {
   "cell_type": "code",
   "execution_count": null,
   "id": "5f578f18",
   "metadata": {},
   "outputs": [],
   "source": [
    "\n",
    "    # Once complete, ask the user if they want to quit\n",
    "    user_play = input(\"Type 'q' to exit and anything else to continue. \")\n",
    "    if user_play == 'q':\n",
    "        break\n"
   ]
  }
 ],
 "metadata": {},
 "nbformat": 4,
 "nbformat_minor": 5
}
