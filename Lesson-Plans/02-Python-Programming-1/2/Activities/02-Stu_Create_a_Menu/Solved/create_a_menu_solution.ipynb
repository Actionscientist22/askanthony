{
 "cells": [
  {
   "cell_type": "code",
   "execution_count": null,
   "id": "141c9ffa",
   "metadata": {},
   "outputs": [],
   "source": [
    "# Create a tuple containing the names of menu sections:\n",
    "# snacks, meals, drinks, and dessert.\n",
    "menu_sections = (\"snacks\", \"meals\", \"drinks\", \"dessert\")"
   ]
  },
  {
   "cell_type": "code",
   "execution_count": null,
   "id": "a39ac929",
   "metadata": {},
   "outputs": [],
   "source": [
    "# Print the tuple.\n",
    "print(menu_sections)"
   ]
  },
  {
   "cell_type": "code",
   "execution_count": null,
   "id": "0e39de04",
   "metadata": {},
   "outputs": [],
   "source": [
    "# Create a list of items for one of the menu sections.\n",
    "desserts = [\"Black Forest Cake\", \"Pavlova\", \"Lemon Meringue Pie\", \"Cherry Tart\"]"
   ]
  },
  {
   "cell_type": "code",
   "execution_count": null,
   "id": "c320f2b1",
   "metadata": {},
   "outputs": [],
   "source": [
    "# Create a list of prices for each of the menu items in the previous list.\n",
    "dessert_prices = [4.99, 6.99, 4.25, 3.50]"
   ]
  },
  {
   "cell_type": "code",
   "execution_count": null,
   "id": "f582c141",
   "metadata": {},
   "outputs": [],
   "source": [
    "# Ask a user to input a new item and append it to the relevant list.\n",
    "desserts.append(input(\"What dessert would you like to add? \"))"
   ]
  },
  {
   "cell_type": "code",
   "execution_count": null,
   "id": "4e555aea",
   "metadata": {},
   "outputs": [],
   "source": [
    "# Ask a user to input the price of the new item, referenced using list indexing\n",
    "# and append it to the relevant list.\n",
    "dessert_prices.append(float(input(f\"How much does {desserts[-1]} cost? \")))"
   ]
  },
  {
   "cell_type": "code",
   "execution_count": null,
   "id": "fd4acd8d",
   "metadata": {},
   "outputs": [],
   "source": [
    "# Print the menu and prices.\n",
    "print(desserts)\n",
    "print(dessert_prices)"
   ]
  },
  {
   "cell_type": "code",
   "execution_count": null,
   "id": "86560780",
   "metadata": {},
   "outputs": [],
   "source": [
    "# Ask the user which item to remove from the menu.\n",
    "remove_item = input(\"Which item do you want to remove? \")"
   ]
  },
  {
   "cell_type": "code",
   "execution_count": null,
   "id": "2b7eb730",
   "metadata": {},
   "outputs": [],
   "source": [
    "# Find the index of the item and save it as a variable.\n",
    "index = desserts.index(remove_item)"
   ]
  },
  {
   "cell_type": "code",
   "execution_count": null,
   "id": "dba1111a",
   "metadata": {},
   "outputs": [],
   "source": [
    "# Remove the item from the menu list using remove().\n",
    "desserts.remove(remove_item)"
   ]
  },
  {
   "cell_type": "code",
   "execution_count": null,
   "id": "bd1fc5bb",
   "metadata": {},
   "outputs": [],
   "source": [
    "# Remove the item from the prices list using pop().\n",
    "dessert_prices.pop(index)"
   ]
  },
  {
   "cell_type": "code",
   "execution_count": null,
   "id": "7ce382c1",
   "metadata": {},
   "outputs": [],
   "source": [
    "# Print the menu and prices again to confirm removal.\n",
    "print(desserts)\n",
    "print(dessert_prices)"
   ]
  },
  {
   "cell_type": "code",
   "execution_count": null,
   "id": "561b060c",
   "metadata": {},
   "outputs": [],
   "source": [
    "# Find the most expensive price on the menu.\n",
    "print(f\"Most expensive: {max(dessert_prices)}\")"
   ]
  },
  {
   "cell_type": "code",
   "execution_count": null,
   "id": "4fb01850",
   "metadata": {},
   "outputs": [],
   "source": [
    "# Find the cheapest price on the menu.\n",
    "print(f\"Cheapest: {min(dessert_prices)}\")"
   ]
  },
  {
   "cell_type": "code",
   "execution_count": null,
   "id": "04dda854",
   "metadata": {},
   "outputs": [],
   "source": [
    "# Find the cost if someone bought every item on the menu.\n",
    "print(f\"Total cost: {sum(dessert_prices)}\")"
   ]
  },
  {
   "cell_type": "code",
   "execution_count": null,
   "id": "628e4536",
   "metadata": {},
   "outputs": [],
   "source": [
    "# Confirm that the menu and prices lists are the same length.\n",
    "print(\n",
    "    f\"The menu length is {len(desserts)} and the prices length is \"\n",
    "    + str(len(dessert_prices))\n",
    ")\n"
   ]
  }
 ],
 "metadata": {},
 "nbformat": 4,
 "nbformat_minor": 5
}
