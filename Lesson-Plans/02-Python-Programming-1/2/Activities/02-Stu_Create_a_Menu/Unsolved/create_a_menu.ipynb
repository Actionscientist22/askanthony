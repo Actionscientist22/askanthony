{
 "cells": [
  {
   "cell_type": "code",
   "execution_count": null,
   "id": "8a3db676",
   "metadata": {},
   "outputs": [],
   "source": [
    "# Create a tuple containing the names of menu sections:\n",
    "# snacks, meals, drinks, and dessert."
   ]
  },
  {
   "cell_type": "code",
   "execution_count": null,
   "id": "57213ee2",
   "metadata": {},
   "outputs": [],
   "source": [
    "\n",
    "# Print the tuple."
   ]
  },
  {
   "cell_type": "code",
   "execution_count": null,
   "id": "9829e76c",
   "metadata": {},
   "outputs": [],
   "source": [
    "\n",
    "# Create a list of items for one of the menu sections."
   ]
  },
  {
   "cell_type": "code",
   "execution_count": null,
   "id": "9743e63f",
   "metadata": {},
   "outputs": [],
   "source": [
    "\n",
    "# Create a list of prices for each of the menu items in the previous list."
   ]
  },
  {
   "cell_type": "code",
   "execution_count": null,
   "id": "2ffaeeca",
   "metadata": {},
   "outputs": [],
   "source": [
    "\n",
    "# Ask a user to input a new item and append it to the relevant list."
   ]
  },
  {
   "cell_type": "code",
   "execution_count": null,
   "id": "f6941799",
   "metadata": {},
   "outputs": [],
   "source": [
    "\n",
    "# Ask a user to input the price of the new item, referenced using list indexing\n",
    "# and append it to the relevant list."
   ]
  },
  {
   "cell_type": "code",
   "execution_count": null,
   "id": "901ed554",
   "metadata": {},
   "outputs": [],
   "source": [
    "\n",
    "# Print the menu and prices."
   ]
  },
  {
   "cell_type": "code",
   "execution_count": null,
   "id": "c76275ed",
   "metadata": {},
   "outputs": [],
   "source": [
    "\n",
    "# Ask the user which item to remove from the menu."
   ]
  },
  {
   "cell_type": "code",
   "execution_count": null,
   "id": "850a4cdc",
   "metadata": {},
   "outputs": [],
   "source": [
    "\n",
    "# Find the index of the item and save it as a variable."
   ]
  },
  {
   "cell_type": "code",
   "execution_count": null,
   "id": "39e140aa",
   "metadata": {},
   "outputs": [],
   "source": [
    "\n",
    "# Remove the item from the menu list using remove()."
   ]
  },
  {
   "cell_type": "code",
   "execution_count": null,
   "id": "2f50cf5d",
   "metadata": {},
   "outputs": [],
   "source": [
    "\n",
    "# Remove the item from the prices list using pop()."
   ]
  },
  {
   "cell_type": "code",
   "execution_count": null,
   "id": "f7324b52",
   "metadata": {},
   "outputs": [],
   "source": [
    "\n",
    "# Print the menu and prices again to confirm removal."
   ]
  },
  {
   "cell_type": "code",
   "execution_count": null,
   "id": "43513e32",
   "metadata": {},
   "outputs": [],
   "source": [
    "\n",
    "# Find the most expensive price on the menu."
   ]
  },
  {
   "cell_type": "code",
   "execution_count": null,
   "id": "fac10389",
   "metadata": {},
   "outputs": [],
   "source": [
    "\n",
    "# Find the cheapest price on the menu."
   ]
  },
  {
   "cell_type": "code",
   "execution_count": null,
   "id": "924296ed",
   "metadata": {},
   "outputs": [],
   "source": [
    "\n",
    "# Find the cost if someone bought every item on the menu."
   ]
  },
  {
   "cell_type": "code",
   "execution_count": null,
   "id": "84b54a43",
   "metadata": {},
   "outputs": [],
   "source": [
    "\n",
    "# Confirm that the menu and prices lists are the same length.\n"
   ]
  }
 ],
 "metadata": {},
 "nbformat": 4,
 "nbformat_minor": 5
}
