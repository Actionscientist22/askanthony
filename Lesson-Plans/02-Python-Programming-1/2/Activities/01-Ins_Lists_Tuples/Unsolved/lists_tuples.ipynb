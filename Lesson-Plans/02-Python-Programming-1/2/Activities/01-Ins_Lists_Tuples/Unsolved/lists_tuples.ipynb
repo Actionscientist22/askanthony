{
 "cells": [
  {
   "cell_type": "code",
   "execution_count": null,
   "id": "13bd11ba",
   "metadata": {},
   "outputs": [],
   "source": [
    "# Create a variable and set it as a list"
   ]
  },
  {
   "cell_type": "code",
   "execution_count": null,
   "id": "08c72e06",
   "metadata": {},
   "outputs": [],
   "source": [
    "\n",
    "# Methods for accessing parts of a list"
   ]
  },
  {
   "cell_type": "code",
   "execution_count": null,
   "id": "703888da",
   "metadata": {},
   "outputs": [],
   "source": [
    "# Return the value of a list at a given index"
   ]
  },
  {
   "cell_type": "code",
   "execution_count": null,
   "id": "670315fa",
   "metadata": {},
   "outputs": [],
   "source": [
    "\n",
    "# Return the index of the first object with a matching value"
   ]
  },
  {
   "cell_type": "code",
   "execution_count": null,
   "id": "79bfb45e",
   "metadata": {},
   "outputs": [],
   "source": [
    "\n",
    "# Return a list slice [index_start:index_end]"
   ]
  },
  {
   "cell_type": "code",
   "execution_count": null,
   "id": "43114910",
   "metadata": {},
   "outputs": [],
   "source": [
    "\n",
    "# Methods for modifying a list"
   ]
  },
  {
   "cell_type": "code",
   "execution_count": null,
   "id": "874d0bb0",
   "metadata": {},
   "outputs": [],
   "source": [
    "# Add an element onto the end of a list"
   ]
  },
  {
   "cell_type": "code",
   "execution_count": null,
   "id": "abddcda1",
   "metadata": {},
   "outputs": [],
   "source": [
    "\n",
    "# Change a specified element within a list at the given index"
   ]
  },
  {
   "cell_type": "code",
   "execution_count": null,
   "id": "87244516",
   "metadata": {},
   "outputs": [],
   "source": [
    "\n",
    "# Remove a specified object from a list"
   ]
  },
  {
   "cell_type": "code",
   "execution_count": null,
   "id": "502ba8bd",
   "metadata": {},
   "outputs": [],
   "source": [
    "\n",
    "# Remove the object at the index specified"
   ]
  },
  {
   "cell_type": "code",
   "execution_count": null,
   "id": "1eb4c9f1",
   "metadata": {},
   "outputs": [],
   "source": [
    "\n",
    "# Functions for accessing information about a list\n",
    "# Define a list named scores\n",
    "scores = [92, 87, 68, 75, 96]"
   ]
  },
  {
   "cell_type": "code",
   "execution_count": null,
   "id": "45d6ec1d",
   "metadata": {},
   "outputs": [],
   "source": [
    "# Return the max (or highest value) item in a list"
   ]
  },
  {
   "cell_type": "code",
   "execution_count": null,
   "id": "ae81350a",
   "metadata": {},
   "outputs": [],
   "source": [
    "\n",
    "# Return the min (or lowest) item in a list"
   ]
  },
  {
   "cell_type": "code",
   "execution_count": null,
   "id": "42f65c6c",
   "metadata": {},
   "outputs": [],
   "source": [
    "\n",
    "# Return the sum of the items in a list"
   ]
  },
  {
   "cell_type": "code",
   "execution_count": null,
   "id": "aeecd7bc",
   "metadata": {},
   "outputs": [],
   "source": [
    "\n",
    "# Return the length of the list"
   ]
  },
  {
   "cell_type": "code",
   "execution_count": null,
   "id": "79b30dc4",
   "metadata": {},
   "outputs": [],
   "source": [
    "\n",
    "# Use sum and len to calculate average"
   ]
  },
  {
   "cell_type": "code",
   "execution_count": null,
   "id": "5545ae88",
   "metadata": {},
   "outputs": [],
   "source": [
    "\n",
    "# Create a tuple, a sequence of immutable Python objects that cannot be changed"
   ]
  },
  {
   "cell_type": "code",
   "execution_count": null,
   "id": "37344d5f",
   "metadata": {},
   "outputs": [],
   "source": [
    "\n",
    "# Information functions also work on tuples, provided they contain valid data\n",
    "# types\n"
   ]
  }
 ],
 "metadata": {},
 "nbformat": 4,
 "nbformat_minor": 5
}
