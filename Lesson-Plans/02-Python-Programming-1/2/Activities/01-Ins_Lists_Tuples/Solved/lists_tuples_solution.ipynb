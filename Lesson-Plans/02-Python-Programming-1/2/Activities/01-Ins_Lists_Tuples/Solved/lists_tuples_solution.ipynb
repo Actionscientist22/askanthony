{
 "cells": [
  {
   "cell_type": "code",
   "execution_count": null,
   "id": "8e812ee9",
   "metadata": {},
   "outputs": [],
   "source": [
    "# Create a variable and set it as a list\n",
    "info_list = [\"Samar\", 25, \"Kyra\", 20]\n",
    "print(info_list)"
   ]
  },
  {
   "cell_type": "code",
   "execution_count": null,
   "id": "26b3420e",
   "metadata": {},
   "outputs": [],
   "source": [
    "# Methods for accessing parts of a list"
   ]
  },
  {
   "cell_type": "code",
   "execution_count": null,
   "id": "1e1c19f5",
   "metadata": {},
   "outputs": [],
   "source": [
    "# Return the value of a list at a given index\n",
    "print(info_list[0])\n",
    "print(info_list[-1])"
   ]
  },
  {
   "cell_type": "code",
   "execution_count": null,
   "id": "0f5ef93f",
   "metadata": {},
   "outputs": [],
   "source": [
    "# Return the index of the first object with a matching value\n",
    "print(info_list.index(\"Kyra\"))"
   ]
  },
  {
   "cell_type": "code",
   "execution_count": null,
   "id": "a7793d0b",
   "metadata": {},
   "outputs": [],
   "source": [
    "# Return a list slice [index_start:index_end]\n",
    "print(info_list[2:4])\n",
    "print(info_list[1:])\n",
    "print(info_list[:2])"
   ]
  },
  {
   "cell_type": "code",
   "execution_count": null,
   "id": "fdae2d49",
   "metadata": {},
   "outputs": [],
   "source": [
    "# Methods for modifying a list"
   ]
  },
  {
   "cell_type": "code",
   "execution_count": null,
   "id": "0cd9513c",
   "metadata": {},
   "outputs": [],
   "source": [
    "# Add an element onto the end of a list\n",
    "info_list.append(\"Kamau\")\n",
    "print(info_list)"
   ]
  },
  {
   "cell_type": "code",
   "execution_count": null,
   "id": "682aa64d",
   "metadata": {},
   "outputs": [],
   "source": [
    "# Change a specified element within a list at the given index\n",
    "info_list[3] = 85\n",
    "print(info_list)"
   ]
  },
  {
   "cell_type": "code",
   "execution_count": null,
   "id": "2e4fc8ff",
   "metadata": {},
   "outputs": [],
   "source": [
    "# Remove a specified object from a list\n",
    "info_list.remove(\"Kamau\")\n",
    "print(info_list)"
   ]
  },
  {
   "cell_type": "code",
   "execution_count": null,
   "id": "9ba4e248",
   "metadata": {},
   "outputs": [],
   "source": [
    "# Remove the object at the index specified\n",
    "info_list.pop(0)\n",
    "info_list.pop(0)\n",
    "print(info_list)"
   ]
  },
  {
   "cell_type": "code",
   "execution_count": null,
   "id": "4218d1ee",
   "metadata": {},
   "outputs": [],
   "source": [
    "# Functions for accessing information about a list\n",
    "# Define a list named scores\n",
    "scores = [92, 87, 68, 75, 96]"
   ]
  },
  {
   "cell_type": "code",
   "execution_count": null,
   "id": "22fae736",
   "metadata": {},
   "outputs": [],
   "source": [
    "# Return the max (or highest value) item in a list\n",
    "print(f\"Max score: {max(scores)}\")"
   ]
  },
  {
   "cell_type": "code",
   "execution_count": null,
   "id": "86873528",
   "metadata": {},
   "outputs": [],
   "source": [
    "# Return the min (or lowest) item in a list\n",
    "print(f\"Min score: {min(scores)}\")"
   ]
  },
  {
   "cell_type": "code",
   "execution_count": null,
   "id": "ca7c564f",
   "metadata": {},
   "outputs": [],
   "source": [
    "# Return the sum of the items in a list\n",
    "print(f\"Sum score: {sum(scores)}\")"
   ]
  },
  {
   "cell_type": "code",
   "execution_count": null,
   "id": "562f4994",
   "metadata": {},
   "outputs": [],
   "source": [
    "# Return the length of the list\n",
    "print(f\"Length of score list: {len(scores)}\")"
   ]
  },
  {
   "cell_type": "code",
   "execution_count": null,
   "id": "18c4dfc3",
   "metadata": {},
   "outputs": [],
   "source": [
    "# Use sum and len to calculate average\n",
    "average_score = sum(scores) / len(scores)\n",
    "print(f\"Average score: {average_score}\")"
   ]
  },
  {
   "cell_type": "code",
   "execution_count": null,
   "id": "29c2e18f",
   "metadata": {},
   "outputs": [],
   "source": [
    "# Create a tuple, a sequence of immutable Python objects that cannot be changed\n",
    "info_tuple = (\"Python\", 100, 4.65, False)\n",
    "print(info_tuple)"
   ]
  },
  {
   "cell_type": "code",
   "execution_count": null,
   "id": "88ea642f",
   "metadata": {},
   "outputs": [],
   "source": [
    "# Information functions also work on tuples, provided they contain valid data\n",
    "# types\n",
    "names_tuple = (\"Melanie\", \"Jacinta\", \"Yindi\", \"Li\")"
   ]
  },
  {
   "cell_type": "code",
   "execution_count": null,
   "id": "1f4ea3fa",
   "metadata": {},
   "outputs": [],
   "source": [
    "print(len(names_tuple))\n",
    "print(max(names_tuple))\n",
    "print(min(names_tuple))"
   ]
  },
  {
   "cell_type": "code",
   "execution_count": null,
   "id": "8fa48bc0",
   "metadata": {},
   "outputs": [],
   "source": [
    "guests_tuple = (3, 5, 2, 4, 3)\n",
    "print(sum(guests_tuple))\n"
   ]
  }
 ],
 "metadata": {},
 "nbformat": 4,
 "nbformat_minor": 5
}
