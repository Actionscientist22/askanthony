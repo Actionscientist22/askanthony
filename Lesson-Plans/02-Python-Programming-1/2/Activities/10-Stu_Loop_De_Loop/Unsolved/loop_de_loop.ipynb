{
 "cells": [
  {
   "cell_type": "code",
   "execution_count": null,
   "id": "3a84a05f",
   "metadata": {},
   "outputs": [],
   "source": [
    "# Declare lists\n",
    "rides = []\n",
    "prices = []"
   ]
  },
  {
   "cell_type": "code",
   "execution_count": null,
   "id": "f49dedd7",
   "metadata": {},
   "outputs": [],
   "source": [
    "# Continuous loop"
   ]
  },
  {
   "cell_type": "code",
   "execution_count": null,
   "id": "8430e81f",
   "metadata": {},
   "outputs": [],
   "source": [
    "    # Keep adding rides until exiting loop"
   ]
  },
  {
   "cell_type": "code",
   "execution_count": null,
   "id": "5e7b0153",
   "metadata": {},
   "outputs": [],
   "source": [
    "\n",
    "    # Continuous loop"
   ]
  },
  {
   "cell_type": "code",
   "execution_count": null,
   "id": "f5f5b7b4",
   "metadata": {},
   "outputs": [],
   "source": [
    "        # Prompt user for the cost of the ride"
   ]
  },
  {
   "cell_type": "code",
   "execution_count": null,
   "id": "2873e09d",
   "metadata": {},
   "outputs": [],
   "source": [
    "\n",
    "        # Check if the input is a number"
   ]
  },
  {
   "cell_type": "code",
   "execution_count": null,
   "id": "33fbd407",
   "metadata": {},
   "outputs": [],
   "source": [
    "            # Check if the input is less than or equal to 15"
   ]
  },
  {
   "cell_type": "code",
   "execution_count": null,
   "id": "2e7cbf32",
   "metadata": {},
   "outputs": [],
   "source": [
    "                # Convert the input to a float and append it to the prices list"
   ]
  },
  {
   "cell_type": "code",
   "execution_count": null,
   "id": "5f34fe78",
   "metadata": {},
   "outputs": [],
   "source": [
    "                # Exit the loop"
   ]
  },
  {
   "cell_type": "code",
   "execution_count": null,
   "id": "84c85392",
   "metadata": {},
   "outputs": [],
   "source": []
  },
  {
   "cell_type": "code",
   "execution_count": null,
   "id": "95d341f4",
   "metadata": {},
   "outputs": [],
   "source": [
    "    # Ask the user if they wish to quit, and break the loop if they type 'q'"
   ]
  },
  {
   "cell_type": "code",
   "execution_count": null,
   "id": "02e0a947",
   "metadata": {},
   "outputs": [],
   "source": [
    "# Loop through the rides and prices lists by finding the length of rides"
   ]
  },
  {
   "cell_type": "code",
   "execution_count": null,
   "id": "56e9779c",
   "metadata": {},
   "outputs": [],
   "source": [
    "    # Set the discount variable to False"
   ]
  },
  {
   "cell_type": "code",
   "execution_count": null,
   "id": "71757272",
   "metadata": {},
   "outputs": [],
   "source": [
    "    # Check if the price is greater than $5"
   ]
  },
  {
   "cell_type": "code",
   "execution_count": null,
   "id": "1084047f",
   "metadata": {},
   "outputs": [],
   "source": [
    "        # Update the price to include a 10% discount"
   ]
  },
  {
   "cell_type": "code",
   "execution_count": null,
   "id": "4af15a1b",
   "metadata": {},
   "outputs": [],
   "source": [
    "        # Set the discount variable to true"
   ]
  },
  {
   "cell_type": "code",
   "execution_count": null,
   "id": "91056200",
   "metadata": {},
   "outputs": [],
   "source": [
    "    # Print the ride name and price, with the price formatted to 2 decimal places"
   ]
  },
  {
   "cell_type": "code",
   "execution_count": null,
   "id": "067347e7",
   "metadata": {},
   "outputs": [],
   "source": [
    "    # If a discount was applied, print a message that says this"
   ]
  },
  {
   "cell_type": "code",
   "execution_count": null,
   "id": "ffbcd8fc",
   "metadata": {},
   "outputs": [],
   "source": [
    "\n",
    "    # Print a dash 40 times\n"
   ]
  }
 ],
 "metadata": {},
 "nbformat": 4,
 "nbformat_minor": 5
}
