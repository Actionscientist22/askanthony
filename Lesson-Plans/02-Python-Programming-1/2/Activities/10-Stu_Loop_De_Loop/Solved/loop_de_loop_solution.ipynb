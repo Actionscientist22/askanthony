{
 "cells": [
  {
   "cell_type": "code",
   "execution_count": 1,
   "id": "4d069075",
   "metadata": {},
   "outputs": [],
   "source": [
    "# Declare lists\n",
    "rides = []\n",
    "prices = []"
   ]
  },
  {
   "cell_type": "code",
   "execution_count": 2,
   "id": "2b77e423",
   "metadata": {},
   "outputs": [
    {
     "ename": "",
     "evalue": "",
     "output_type": "error",
     "traceback": [
      "\u001b[1;31mThe Kernel crashed while executing code in the the current cell or a previous cell. Please review the code in the cell(s) to identify a possible cause of the failure. Click <a href='https://aka.ms/vscodeJupyterKernelCrash'>here</a> for more info. View Jupyter <a href='command:jupyter.viewOutput'>log</a> for further details."
     ]
    }
   ],
   "source": [
    "while True:\n",
    "    # Keep adding rides until exiting loop\n",
    "    rides.append(input(\"What ride should be added to the amusement park? \"))\n",
    "\n",
    "    # Continuous loop\n",
    "    while True:\n",
    "        # Prompt user for the cost of the ride\n",
    "        cost = input(\"How much does it cost to ride this ride? \")\n",
    "\n",
    "        # Check if the input is a number\n",
    "        if cost.replace(\".\",\"\",1).isdigit():\n",
    "            # Check if the input is less than or equal to 15\n",
    "            if float(cost) <= 15:\n",
    "                # Convert the input to a float and append it to the prices list\n",
    "                prices.append(float(cost))\n",
    "                # Exit the loop\n",
    "                break\n",
    "            else:\n",
    "                print(\"Please choose a price that is $15 or less.\")\n",
    "        else:\n",
    "            print(\"You didn't input a valid price\")\n",
    "\n",
    "    # Ask the user if they wish to quit, and break the loop if they type 'q'\n",
    "    keep_going = input(\"Type 'q' to exit and anything else to add another ride. \")\n",
    "    if keep_going == 'q':\n",
    "        break"
   ]
  },
  {
   "cell_type": "code",
   "execution_count": null,
   "id": "6573936e",
   "metadata": {},
   "outputs": [],
   "source": [
    "# Loop through the rides and prices lists by finding the length of rides\n",
    "for i in range(len(rides)):\n",
    "    # Set the discount variable to False\n",
    "    discount = False\n",
    "    # Check if the price is greater than $5\n",
    "    if prices[i] > 5:\n",
    "        # Update the price to include a 10% discount\n",
    "        prices[i] *= 0.9\n",
    "        # Set the discount variable to true\n",
    "        discount = True\n",
    "    # Print the ride name and price, with the price formatted to 2 decimal places\n",
    "    print(f\"{rides[i]} costs ${prices[i]:.2f} to ride.\")\n",
    "    # If a discount was applied, print a message that says this\n",
    "    if discount:\n",
    "        print(\"A discount of 10% is applied.\")\n",
    "        # Print a dash 40 times\n",
    "    print(\"-\" * 40)"
   ]
  },
  {
   "cell_type": "code",
   "execution_count": null,
   "id": "d3d80973",
   "metadata": {},
   "outputs": [],
   "source": []
  }
 ],
 "metadata": {
  "kernelspec": {
   "display_name": "base",
   "language": "python",
   "name": "python3"
  },
  "language_info": {
   "codemirror_mode": {
    "name": "ipython",
    "version": 3
   },
   "file_extension": ".py",
   "mimetype": "text/x-python",
   "name": "python",
   "nbconvert_exporter": "python",
   "pygments_lexer": "ipython3",
   "version": "3.11.5"
  }
 },
 "nbformat": 4,
 "nbformat_minor": 5
}
