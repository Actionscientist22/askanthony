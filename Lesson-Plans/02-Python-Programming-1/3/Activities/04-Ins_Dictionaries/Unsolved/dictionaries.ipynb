{
 "cells": [
  {
   "cell_type": "code",
   "execution_count": null,
   "id": "f8915be1",
   "metadata": {},
   "outputs": [],
   "source": [
    "# Unlike lists, dictionaries store information in pairs\n",
    "# ---------------------------------------------------------------"
   ]
  },
  {
   "cell_type": "code",
   "execution_count": null,
   "id": "a76f0ae4",
   "metadata": {},
   "outputs": [],
   "source": [
    "# Create a dictionary to hold the actor's names."
   ]
  },
  {
   "cell_type": "code",
   "execution_count": null,
   "id": "05df34b0",
   "metadata": {},
   "outputs": [],
   "source": [
    "\n",
    "# Create a dictionary using the built-in function."
   ]
  },
  {
   "cell_type": "code",
   "execution_count": null,
   "id": "4665ff25",
   "metadata": {},
   "outputs": [],
   "source": [
    "\n",
    "# A dictionary of an actor."
   ]
  },
  {
   "cell_type": "code",
   "execution_count": null,
   "id": "e5046240",
   "metadata": {},
   "outputs": [],
   "source": [
    "\n",
    "# Add an actor to the dictionary with the key \"name\"\n",
    "# and the value \"Denzel Washington\"."
   ]
  },
  {
   "cell_type": "code",
   "execution_count": null,
   "id": "55e04969",
   "metadata": {},
   "outputs": [],
   "source": [
    "\n",
    "# Print the actors dictionary."
   ]
  },
  {
   "cell_type": "code",
   "execution_count": null,
   "id": "ddde9fff",
   "metadata": {},
   "outputs": [],
   "source": [
    "\n",
    "# Print only the actor."
   ]
  },
  {
   "cell_type": "code",
   "execution_count": null,
   "id": "fb717f75",
   "metadata": {},
   "outputs": [],
   "source": [
    "\n",
    "# A list of actors"
   ]
  },
  {
   "cell_type": "code",
   "execution_count": null,
   "id": "25e4f94a",
   "metadata": {},
   "outputs": [],
   "source": [
    "\n",
    "# Overwrite the value, \"Denzel Washington\", with the list of actors."
   ]
  },
  {
   "cell_type": "code",
   "execution_count": null,
   "id": "b4ecf154",
   "metadata": {},
   "outputs": [],
   "source": [
    "\n",
    "# Print the first actor"
   ]
  },
  {
   "cell_type": "code",
   "execution_count": null,
   "id": "5cff0ab5",
   "metadata": {},
   "outputs": [],
   "source": [
    "\n",
    "# ---------------------------------------------------------------"
   ]
  },
  {
   "cell_type": "code",
   "execution_count": null,
   "id": "a6392db6",
   "metadata": {},
   "outputs": [],
   "source": [
    "# A dictionary can contain multiple pairs of information"
   ]
  },
  {
   "cell_type": "code",
   "execution_count": null,
   "id": "fa6e66a1",
   "metadata": {},
   "outputs": [],
   "source": [
    "\n",
    "# ---------------------------------------------------------------"
   ]
  },
  {
   "cell_type": "code",
   "execution_count": null,
   "id": "5dea78dc",
   "metadata": {},
   "outputs": [],
   "source": [
    "# A dictionary can contain multiple types of information"
   ]
  },
  {
   "cell_type": "code",
   "execution_count": null,
   "id": "5352957f",
   "metadata": {},
   "outputs": [],
   "source": [
    "\n",
    "# ---------------------------------------------------------------"
   ]
  },
  {
   "cell_type": "code",
   "execution_count": null,
   "id": "74930b8d",
   "metadata": {},
   "outputs": [],
   "source": [
    "# A dictionary can even contain another dictionary"
   ]
  },
  {
   "cell_type": "code",
   "execution_count": null,
   "id": "afd1d3d0",
   "metadata": {},
   "outputs": [],
   "source": [
    "\n",
    "# ---------------------------------------------------------------\n"
   ]
  }
 ],
 "metadata": {},
 "nbformat": 4,
 "nbformat_minor": 5
}
