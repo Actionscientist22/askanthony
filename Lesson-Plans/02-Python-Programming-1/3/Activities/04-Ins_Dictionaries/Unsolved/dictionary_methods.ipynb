{
 "cells": [
  {
   "cell_type": "code",
   "execution_count": null,
   "id": "776d9b43",
   "metadata": {},
   "outputs": [],
   "source": [
    "# Create our film dictionary\n",
    "film = {\n",
    "    \"title\": \"Everything Everywhere All At Once\",\n",
    "    \"director\": [\"Daniel Kwan\", \"Daniel Scheinert\"],\n",
    "    \"cast\": [\n",
    "        \"Michelle Yeoh\", \n",
    "        \"Ke Huy Quan\", \n",
    "        \"Jamie Lee Curtis\", \n",
    "        \"Stephanie Hsu\", \n",
    "        \"James Hong\",\n",
    "        \"Jenny Slate\",\n",
    "        \"Harry Shum Jr.\",\n",
    "        \"Tallie Medel\"\n",
    "    ],\n",
    "    \"distributor\": \"A24\",\n",
    "    \"box_office_in_millions\": {\n",
    "        \"us\": 72.1,\n",
    "        \"uk\": 6.2,\n",
    "        \"canada\": 5.1,\n",
    "        \"australia\": 4.5\n",
    "    },\n",
    "    \"release_date\": {\n",
    "        \"us\": \"April 8, 2022\",\n",
    "        \"uk\": \"May 13, 2022\",\n",
    "        \"canada\": \"March 25, 2022\",\n",
    "        \"australia\": \"April 14, 2022\"\n",
    "    }\n",
    "}"
   ]
  },
  {
   "cell_type": "code",
   "execution_count": null,
   "id": "bd4e24fd",
   "metadata": {},
   "outputs": [],
   "source": [
    "# If we don't know all of the keys in the dictionary that we\n",
    "# may want to access, we can use keys() to list them for us"
   ]
  },
  {
   "cell_type": "code",
   "execution_count": null,
   "id": "62456377",
   "metadata": {},
   "outputs": [],
   "source": [
    "\n",
    "# We may also just want to access a dictionary's values"
   ]
  },
  {
   "cell_type": "code",
   "execution_count": null,
   "id": "f3bd2023",
   "metadata": {},
   "outputs": [],
   "source": [
    "\n",
    "# And we can access each item in the dictionary as a key-value pair \n",
    "# as a list of tuples in the format [(key, value)]"
   ]
  },
  {
   "cell_type": "code",
   "execution_count": null,
   "id": "8a0f6097",
   "metadata": {},
   "outputs": [],
   "source": [
    "\n",
    "# ---------------------------------------------------------------"
   ]
  },
  {
   "cell_type": "code",
   "execution_count": null,
   "id": "3b849ae7",
   "metadata": {},
   "outputs": [],
   "source": [
    "# Using these dictionary methods, we can iterate through different \n",
    "# parts of the dictionary."
   ]
  },
  {
   "cell_type": "code",
   "execution_count": null,
   "id": "158d8b28",
   "metadata": {},
   "outputs": [],
   "source": [
    "# There are two ways to loop through the keys"
   ]
  },
  {
   "cell_type": "code",
   "execution_count": null,
   "id": "5457145f",
   "metadata": {},
   "outputs": [],
   "source": [
    "\n",
    "# Looping through a dictionary's values must use the values() method"
   ]
  },
  {
   "cell_type": "code",
   "execution_count": null,
   "id": "75519920",
   "metadata": {},
   "outputs": [],
   "source": [
    "\n",
    "# When looping through each item in a dictionary, we unpack the (key, value)\n",
    "# tuple so we can use them separately\n"
   ]
  }
 ],
 "metadata": {},
 "nbformat": 4,
 "nbformat_minor": 5
}
