{
 "cells": [
  {
   "cell_type": "code",
   "execution_count": null,
   "id": "8a10a626",
   "metadata": {},
   "outputs": [],
   "source": [
    "# Unlike lists, dictionaries store information in pairs\n",
    "# ---------------------------------------------------------------"
   ]
  },
  {
   "cell_type": "code",
   "execution_count": null,
   "id": "23449ed0",
   "metadata": {},
   "outputs": [],
   "source": [
    "# Create a dictionary to hold the actor's names.\n",
    "actors = {}"
   ]
  },
  {
   "cell_type": "code",
   "execution_count": null,
   "id": "f7ca6b08",
   "metadata": {},
   "outputs": [],
   "source": [
    "# Create a dictionary using the built-in function.\n",
    "actors = dict()"
   ]
  },
  {
   "cell_type": "code",
   "execution_count": null,
   "id": "ad503491",
   "metadata": {},
   "outputs": [],
   "source": [
    "# A dictionary of an actor.\n",
    "actors = {\"name\": \"Tom Cruise\"}\n",
    "print(f'{actors[\"name\"]}')"
   ]
  },
  {
   "cell_type": "code",
   "execution_count": null,
   "id": "b59ef41d",
   "metadata": {},
   "outputs": [],
   "source": [
    "# Add an actor to the dictionary with the key \"name\"\n",
    "# and the value \"Denzel Washington\".\n",
    "actors[\"name\"] = \"Denzel Washington\""
   ]
  },
  {
   "cell_type": "code",
   "execution_count": null,
   "id": "8470d213",
   "metadata": {},
   "outputs": [],
   "source": [
    "# Print the actors dictionary.\n",
    "print(actors)"
   ]
  },
  {
   "cell_type": "code",
   "execution_count": null,
   "id": "3196f8f5",
   "metadata": {},
   "outputs": [],
   "source": [
    "# Print only the actor.\n",
    "print(f'{actors[\"name\"]}')"
   ]
  },
  {
   "cell_type": "code",
   "execution_count": null,
   "id": "17644da6",
   "metadata": {},
   "outputs": [],
   "source": [
    "# A list of actors\n",
    "actors_list = [\n",
    "    \"Tom Cruise\",\n",
    "    \"Angelina Jolie\",\n",
    "    \"Kristen Stewart\",\n",
    "    \"Denzel Washington\"]"
   ]
  },
  {
   "cell_type": "code",
   "execution_count": null,
   "id": "25c10c10",
   "metadata": {},
   "outputs": [],
   "source": [
    "# Overwrite the value, \"Denzel Washington\", with the list of actors.\n",
    "actors[\"name\"] = actors_list"
   ]
  },
  {
   "cell_type": "code",
   "execution_count": null,
   "id": "d920044a",
   "metadata": {},
   "outputs": [],
   "source": [
    "# Print the first actor\n",
    "print(f'{actors[\"name\"][0]}')"
   ]
  },
  {
   "cell_type": "code",
   "execution_count": null,
   "id": "a766dcea",
   "metadata": {},
   "outputs": [],
   "source": [
    "# ---------------------------------------------------------------"
   ]
  },
  {
   "cell_type": "code",
   "execution_count": null,
   "id": "6ca59cd0",
   "metadata": {},
   "outputs": [],
   "source": [
    "# A dictionary can contain multiple pairs of information\n",
    "actress = {\n",
    "    \"name\": \"Angelina Jolie\",\n",
    "    \"genre\": \"Action\",\n",
    "    \"nationality\": \"United States\"\n",
    "}"
   ]
  },
  {
   "cell_type": "code",
   "execution_count": null,
   "id": "543e2f86",
   "metadata": {},
   "outputs": [],
   "source": [
    "# ---------------------------------------------------------------"
   ]
  },
  {
   "cell_type": "code",
   "execution_count": null,
   "id": "6692fbe7",
   "metadata": {},
   "outputs": [],
   "source": [
    "# A dictionary can contain multiple types of information\n",
    "another_actor = {\n",
    "    \"name\": \"Sylvester Stallone\",\n",
    "    \"age\": 62,\n",
    "    \"married\": True,\n",
    "    \"best movies\": [\n",
    "        \"Rocky\",\n",
    "        \"Rocky 2\",\n",
    "        \"Rocky 3\"]}\n",
    "print(f'{another_actor[\"name\"]} was in {another_actor[\"best movies\"][0]}')\n",
    "# ---------------------------------------------------------------"
   ]
  },
  {
   "cell_type": "code",
   "execution_count": null,
   "id": "772f6476",
   "metadata": {},
   "outputs": [],
   "source": [
    "# A dictionary can even contain another dictionary\n",
    "film = {\n",
    "    \"title\": \"Interstellar\",\n",
    "    \"revenues\": {\n",
    "        \"United States\": 360,\n",
    "        \"China\": 250,\n",
    "        \"United Kingdom\": 73\n",
    "    }\n",
    "}\n",
    "print(f'{film[\"title\"]} made {film[\"revenues\"][\"United States\"]}'\" million dollars in the US.\")"
   ]
  },
  {
   "cell_type": "code",
   "execution_count": null,
   "id": "090fa306",
   "metadata": {},
   "outputs": [],
   "source": [
    "# ---------------------------------------------------------------\n"
   ]
  }
 ],
 "metadata": {},
 "nbformat": 4,
 "nbformat_minor": 5
}
