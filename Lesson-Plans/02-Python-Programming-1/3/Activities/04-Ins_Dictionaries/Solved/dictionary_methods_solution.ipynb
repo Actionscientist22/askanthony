{
 "cells": [
  {
   "cell_type": "code",
   "execution_count": null,
   "id": "dd698477",
   "metadata": {},
   "outputs": [],
   "source": [
    "# Create our film dictionary\n",
    "film = {\n",
    "    \"title\": \"Everything Everywhere All At Once\",\n",
    "    \"director\": [\"Daniel Kwan\", \"Daniel Scheinert\"],\n",
    "    \"cast\": [\n",
    "        \"Michelle Yeoh\",\n",
    "        \"Ke Huy Quan\",\n",
    "        \"Jamie Lee Curtis\",\n",
    "        \"Stephanie Hsu\",\n",
    "        \"James Hong\",\n",
    "        \"Jenny Slate\",\n",
    "        \"Harry Shum Jr.\",\n",
    "        \"Tallie Medel\"\n",
    "    ],\n",
    "    \"distributor\": \"A24\",\n",
    "    \"box_office_in_millions\": {\n",
    "        \"us\": 72.1,\n",
    "        \"uk\": 6.2,\n",
    "        \"canada\": 5.1,\n",
    "        \"australia\": 4.5\n",
    "    },\n",
    "    \"release_date\": {\n",
    "        \"us\": \"April 8, 2022\",\n",
    "        \"uk\": \"May 13, 2022\",\n",
    "        \"canada\": \"March 25, 2022\",\n",
    "        \"australia\": \"April 14, 2022\"\n",
    "    }\n",
    "}"
   ]
  },
  {
   "cell_type": "code",
   "execution_count": null,
   "id": "20677589",
   "metadata": {},
   "outputs": [],
   "source": [
    "# If we don't know all of the keys in the dictionary that we\n",
    "# may want to access, we can use keys() to list them for us\n",
    "print(film.keys())"
   ]
  },
  {
   "cell_type": "code",
   "execution_count": null,
   "id": "428c8c45",
   "metadata": {},
   "outputs": [],
   "source": [
    "# We may also just want to access a dictionary's values"
   ]
  },
  {
   "cell_type": "code",
   "execution_count": null,
   "id": "b5235e3b",
   "metadata": {},
   "outputs": [],
   "source": [
    "print(film.values())"
   ]
  },
  {
   "cell_type": "code",
   "execution_count": null,
   "id": "1a82826d",
   "metadata": {},
   "outputs": [],
   "source": [
    "# And we can access each item in the dictionary as a key-value pair\n",
    "# as a list of tuples in the format [(key, value)]"
   ]
  },
  {
   "cell_type": "code",
   "execution_count": null,
   "id": "f396a105",
   "metadata": {},
   "outputs": [],
   "source": [
    "print(film.items())"
   ]
  },
  {
   "cell_type": "code",
   "execution_count": null,
   "id": "0d305d9e",
   "metadata": {},
   "outputs": [],
   "source": [
    "# ---------------------------------------------------------------"
   ]
  },
  {
   "cell_type": "code",
   "execution_count": null,
   "id": "1d81fab9",
   "metadata": {},
   "outputs": [],
   "source": [
    "# Using these dictionary methods, we can iterate through different\n",
    "# parts of the dictionary."
   ]
  },
  {
   "cell_type": "code",
   "execution_count": null,
   "id": "d92c44b1",
   "metadata": {},
   "outputs": [],
   "source": [
    "# There are two ways to loop through the keys\n",
    "print(\"\\nUsing for key in film:\")\n",
    "for key in film:\n",
    "    print(key)"
   ]
  },
  {
   "cell_type": "code",
   "execution_count": null,
   "id": "233d0442",
   "metadata": {},
   "outputs": [],
   "source": [
    "print(\"\\nUsing for key in film.keys():\")\n",
    "for key in film.keys():\n",
    "    print(key)"
   ]
  },
  {
   "cell_type": "code",
   "execution_count": null,
   "id": "429fa4eb",
   "metadata": {},
   "outputs": [],
   "source": [
    "# Looping through a dictionary's values must use the values() method\n",
    "print(\"\\nfor value in film.values():\")\n",
    "for value in film.values():\n",
    "    print(value)"
   ]
  },
  {
   "cell_type": "code",
   "execution_count": null,
   "id": "c38a622e",
   "metadata": {},
   "outputs": [],
   "source": [
    "# When looping through each item in a dictionary, we unpack the (key, value)\n",
    "# tuple so we can use them separately\n",
    "print(\"\\nfor key, value in film.items():\")\n",
    "for key, value in film.items():\n",
    "    print(\"-\" * 50)\n",
    "    print(f\"Key: {key}\\nValue: {value}\" )\n"
   ]
  }
 ],
 "metadata": {},
 "nbformat": 4,
 "nbformat_minor": 5
}
