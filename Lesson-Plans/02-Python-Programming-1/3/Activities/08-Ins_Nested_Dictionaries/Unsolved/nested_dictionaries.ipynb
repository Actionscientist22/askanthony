{
 "cells": [
  {
   "cell_type": "code",
   "execution_count": null,
   "id": "dfa8d676",
   "metadata": {},
   "outputs": [],
   "source": [
    "# Declare films dictionary\n",
    "films = {\n",
    "    \"Everything Everywhere All At Once\": {\n",
    "        \"director\": [\"Daniel Kwan\", \"Daniel Scheinert\"],\n",
    "        \"cast\": [\n",
    "            \"Michelle Yeoh\", \n",
    "            \"Ke Huy Quan\", \n",
    "            \"Jamie Lee Curtis\", \n",
    "            \"Stephanie Hsu\", \n",
    "            \"James Hong\",\n",
    "            \"Jenny Slate\",\n",
    "            \"Harry Shum Jr.\",\n",
    "            \"Tallie Medel\"\n",
    "        ],\n",
    "        \"distributor\": \"A24\",\n",
    "        \"box_office_in_millions\": {\n",
    "            \"us\": 72.1,\n",
    "            \"uk\": 6.2,\n",
    "            \"canada\": 5.1,\n",
    "            \"australia\": 4.5\n",
    "        },\n",
    "        \"release_date\": {\n",
    "            \"us\": \"April 8, 2022\",\n",
    "            \"uk\": \"May 13, 2022\",\n",
    "            \"canada\": \"March 25, 2022\",\n",
    "            \"australia\": \"April 14, 2022\"\n",
    "        }\n",
    "    },\n",
    "    \"Hidden Figures\": {\n",
    "        \"director\": \"Theodore Melfi\",\n",
    "        \"writer\": [\"Allison Schroeder\", \"Theodore Melfi\"],\n",
    "        \"cast\": [\n",
    "            \"Taraji P. Henson\", \n",
    "            \"Octavia Spencer\", \n",
    "            \"Janelle Monáe\",\n",
    "            \"Kevin Costner\",\n",
    "            \"Kirsten Dunst\", \n",
    "            \"Jim Parsons\",\n",
    "            \"Mahershala Ali\",\n",
    "            \"Aldis Hodge\",\n",
    "            \"Glen Powell\"\n",
    "        ],\n",
    "        \"distributor\": \"Twentieth Century Fox\",\n",
    "        \"box_office_in_millions\": {\n",
    "            \"us\": 169.6,\n",
    "            \"japan\": 14.1,\n",
    "            \"uk\": 7.9,\n",
    "            \"australia\": 13.6,\n",
    "            \"france\": 5.6\n",
    "        },\n",
    "        \"release_date\": {\n",
    "            \"us\": \"December 25, 2016\",\n",
    "            \"japan\": \"September 29, 2017\",\n",
    "            \"uk\": \"February 17, 2017\",\n",
    "            \"australia\": \"February 16, 2017\",\n",
    "            \"france\": \"March 7, 2017\"\n",
    "        }\n",
    "    },\n",
    "    \"Elemental\": {\n",
    "        \"director\": \"Peter Sohn\",\n",
    "        \"writer\": [\"John Hoberg\", \"Kat Likkel\", \"Brenda Hsueh\"],\n",
    "        \"cast\": [\n",
    "            \"Leah Lewis\", \n",
    "            \"Mamoudou Athie\", \n",
    "            \"Ronnie Del Carmen\",\n",
    "            \"Shila Ommi\",\n",
    "            \"Catherine O'Hara\", \n",
    "            \"Wendi McLendon-Covey\",\n",
    "            \"Joe Pera\"\n",
    "        ],\n",
    "        \"distributor\": \"Walt Disney Studios Motion Pictures\",\n",
    "        \"box_office_in_millions\": {\n",
    "            \"us\": 109.6,\n",
    "            \"south_korea\": 25.9,\n",
    "            \"mexico\": 13.5,\n",
    "            \"australia\": 8.0,\n",
    "            \"france\": 9.2\n",
    "        },\n",
    "        \"release_date\": {\n",
    "            \"us\": \"June 16, 2023\",\n",
    "            \"south_korea\": \"June 14, 2023\",\n",
    "            \"mexico\": \"June 23, 2023\",\n",
    "            \"australia\": \"June 15, 2023\",\n",
    "            \"france\": \"June 21, 2023\"\n",
    "        }\n",
    "    }\n",
    "}"
   ]
  },
  {
   "cell_type": "code",
   "execution_count": null,
   "id": "ff5c3a16",
   "metadata": {},
   "outputs": [],
   "source": [
    "menu_dashes = \"-\" * 60"
   ]
  },
  {
   "cell_type": "code",
   "execution_count": null,
   "id": "342ac58e",
   "metadata": {},
   "outputs": [],
   "source": [
    "# Launch the program and present a greeting to the customer\n",
    "print(\"Welcome to the film repository.\")"
   ]
  },
  {
   "cell_type": "code",
   "execution_count": null,
   "id": "b3add6b6",
   "metadata": {},
   "outputs": [],
   "source": [
    "# Users may want to view information about different films, so let's create\n",
    "# a continuous loop\n",
    "while True:\n",
    "    # Ask the user which film they want to view\n",
    "    print(\"Which film would you like to view information about? \")"
   ]
  },
  {
   "cell_type": "code",
   "execution_count": null,
   "id": "682e2894",
   "metadata": {},
   "outputs": [],
   "source": [
    "    # Create a variable for the menu item number\n",
    "    i = 1\n",
    "    # Create a dictionary to store the menu for later retrieval \n",
    "    menu_items = {}"
   ]
  },
  {
   "cell_type": "code",
   "execution_count": null,
   "id": "9fe90a62",
   "metadata": {},
   "outputs": [],
   "source": [
    "    # Print the options to choose from film titles (all the first level \n",
    "    # dictionary items in films).\n",
    "    for key in films.keys():\n",
    "        print(f\"{i}: {key}\")\n",
    "        # Store the film title associated with its menu item number\n",
    "        menu_items[i] = key\n",
    "        # Add 1 to the menu item number\n",
    "        i += 1"
   ]
  },
  {
   "cell_type": "code",
   "execution_count": null,
   "id": "82751bee",
   "metadata": {},
   "outputs": [],
   "source": [
    "    # Get the user's input\n",
    "    film_selection = input(\"Type menu number to view or q to quit: \")"
   ]
  },
  {
   "cell_type": "code",
   "execution_count": null,
   "id": "d0047cf7",
   "metadata": {},
   "outputs": [],
   "source": [
    "    # Exit the loop if user typed 'q'\n",
    "    if film_selection == 'q':\n",
    "        break\n",
    "    # Check if the user's input is a number\n",
    "    elif film_selection.isdigit():\n",
    "        # Check if the user's input is a valid option"
   ]
  },
  {
   "cell_type": "code",
   "execution_count": null,
   "id": "c1d3a1cf",
   "metadata": {},
   "outputs": [],
   "source": [
    "            # Save the film name to a variable"
   ]
  },
  {
   "cell_type": "code",
   "execution_count": null,
   "id": "957b8de0",
   "metadata": {},
   "outputs": [],
   "source": [
    "            # Print out the film they selected"
   ]
  },
  {
   "cell_type": "code",
   "execution_count": null,
   "id": "7cb442da",
   "metadata": {},
   "outputs": [],
   "source": [
    "\n",
    "            # Display the heading for the data"
   ]
  },
  {
   "cell_type": "code",
   "execution_count": null,
   "id": "b9bcc325",
   "metadata": {},
   "outputs": [],
   "source": [
    "\n",
    "            # Print out the data from the selected film"
   ]
  },
  {
   "cell_type": "code",
   "execution_count": null,
   "id": "eecfd9a7",
   "metadata": {},
   "outputs": [],
   "source": [
    "                # Check if the value is a dictionary to handle differently"
   ]
  },
  {
   "cell_type": "code",
   "execution_count": null,
   "id": "520cea7d",
   "metadata": {},
   "outputs": [],
   "source": [
    "                    # Iterate through the dictionary items"
   ]
  },
  {
   "cell_type": "code",
   "execution_count": null,
   "id": "dc167117",
   "metadata": {},
   "outputs": [],
   "source": [
    "                        # Print the film data"
   ]
  },
  {
   "cell_type": "code",
   "execution_count": null,
   "id": "8a4e44f1",
   "metadata": {},
   "outputs": [],
   "source": [
    "                # Check if the value is a list to handle differently"
   ]
  },
  {
   "cell_type": "code",
   "execution_count": null,
   "id": "72aa6365",
   "metadata": {},
   "outputs": [],
   "source": [
    "                    # Iterate through the list items"
   ]
  },
  {
   "cell_type": "code",
   "execution_count": null,
   "id": "15a38550",
   "metadata": {},
   "outputs": [],
   "source": [
    "                        # Print the film data"
   ]
  },
  {
   "cell_type": "code",
   "execution_count": null,
   "id": "e6f13a9a",
   "metadata": {},
   "outputs": [],
   "source": [
    "\n",
    "                    # Print the film data"
   ]
  },
  {
   "cell_type": "code",
   "execution_count": null,
   "id": "3e981ea8",
   "metadata": {},
   "outputs": [],
   "source": [
    "            "
   ]
  },
  {
   "cell_type": "code",
   "execution_count": null,
   "id": "186475a6",
   "metadata": {},
   "outputs": [],
   "source": [
    "             # Tell the customer they didn't select a valid option\n",
    " \n",
    "    else:\n",
    "        # Tell the customer they didn't select a number\n",
    "        print(\"You didn't select a number.\")\n"
   ]
  }
 ],
 "metadata": {},
 "nbformat": 4,
 "nbformat_minor": 5
}
