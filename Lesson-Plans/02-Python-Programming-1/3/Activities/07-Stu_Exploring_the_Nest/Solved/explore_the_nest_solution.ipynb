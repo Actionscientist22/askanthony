{
 "cells": [
  {
   "cell_type": "code",
   "execution_count": 1,
   "id": "1b933d2a",
   "metadata": {},
   "outputs": [],
   "source": [
    "# List of lists of birds\n",
    "birds_list = [\n",
    "    [\"Magpie\", \"Cockatoo\", \"Hummingbird\", \"Ostrich\", \"Bald Eagle\", \n",
    "     \"Emperor Penguin\", \"Lyrebird\", \"Peacock\", \"Toucan\", \"Helmeted Hornbill\"],\n",
    "    [60, 70, 10, 270, 100, 129, 90, 105, 60, 120],\n",
    "    [210, 900, 5, 136000, 26000, 112000, 5200, 28600, 4180, 2900],\n",
    "    [3.5, 45, 5, 40, 30, 20, 30, 15, 20, 30]\n",
    "]"
   ]
  },
  {
   "cell_type": "code",
   "execution_count": 2,
   "id": "381f85bc",
   "metadata": {},
   "outputs": [],
   "source": [
    "# List of bird dictionaries\n",
    "birds_dictionaries = [\n",
    "    {\n",
    "        \"name\": \"Magpie\",\n",
    "        \"size (cm)\": 60,\n",
    "        \"weight (g)\": 210,\n",
    "        \"lifespan\": 3.5\n",
    "    },\n",
    "    {\n",
    "        \"name\": \"Cockatoo\",\n",
    "        \"size (cm)\": 70,\n",
    "        \"weight (g)\": 900,\n",
    "        \"lifespan\": 45\n",
    "    },\n",
    "    {\n",
    "        \"name\": \"Hummingbird\",\n",
    "        \"size (cm)\": 10,\n",
    "        \"weight (g)\": 5,\n",
    "        \"lifespan\": 5\n",
    "    },\n",
    "    {\n",
    "        \"name\": \"Ostrich\",\n",
    "        \"size (cm)\": 270,\n",
    "        \"weight (g)\": 136000,\n",
    "        \"lifespan\": 40\n",
    "    },\n",
    "    {\n",
    "        \"name\": \"Bald Eagle\",\n",
    "        \"size (cm)\": 100,\n",
    "        \"weight (g)\": 26000,\n",
    "        \"lifespan\": 30\n",
    "    },\n",
    "    {\n",
    "        \"name\": \"Emperor Penguin\",\n",
    "        \"size (cm)\": 129,\n",
    "        \"weight (g)\": 112000,\n",
    "        \"lifespan\": 20\n",
    "    },\n",
    "    {\n",
    "        \"name\": \"Lyrebird\",\n",
    "        \"size (cm)\": 90,\n",
    "        \"weight (g)\": 5200,\n",
    "        \"lifespan\": 30\n",
    "    },\n",
    "    {\n",
    "        \"name\": \"Peacock\",\n",
    "        \"size (cm)\": 105,\n",
    "        \"weight (g)\": 28600,\n",
    "        \"lifespan\": 15\n",
    "    },\n",
    "    {\n",
    "        \"name\": \"Toucan\",\n",
    "        \"size (cm)\": 60,\n",
    "        \"weight (g)\": 4180,\n",
    "        \"lifespan\": 20\n",
    "    },\n",
    "    {\n",
    "        \"name\": \"Helmeted Hornbill\",\n",
    "        \"size (cm)\": 120,\n",
    "        \"weight (g)\": 2900,\n",
    "        \"lifespan\": 30\n",
    "    }\n",
    "]"
   ]
  },
  {
   "cell_type": "code",
   "execution_count": 3,
   "id": "e681c86d",
   "metadata": {},
   "outputs": [
    {
     "name": "stdout",
     "output_type": "stream",
     "text": [
      "Ostrich\n",
      "270\n",
      "136000\n",
      "40\n"
     ]
    }
   ],
   "source": [
    "# Print out the data about the 4th bird in birds_list\n",
    "for row in birds_list:\n",
    "    print(row[3])"
   ]
  },
  {
   "cell_type": "code",
   "execution_count": 4,
   "id": "034c4f6c",
   "metadata": {},
   "outputs": [
    {
     "name": "stdout",
     "output_type": "stream",
     "text": [
      "Total bird weights: 315.995kg\n"
     ]
    }
   ],
   "source": [
    "# Calculate the total weight (kg) of all the birds in the birds list\n",
    "print(f\"Total bird weights: {sum(birds_list[2])/1000:.3f}kg\")"
   ]
  },
  {
   "cell_type": "code",
   "execution_count": 5,
   "id": "3901d5e0",
   "metadata": {},
   "outputs": [
    {
     "name": "stdout",
     "output_type": "stream",
     "text": [
      "Magpie can live for 3.5 years\n",
      "Cockatoo can live for 45 years\n",
      "Hummingbird can live for 5 years\n",
      "Ostrich can live for 40 years\n",
      "Bald Eagle can live for 30 years\n",
      "Emperor Penguin can live for 20 years\n",
      "Lyrebird can live for 30 years\n",
      "Peacock can live for 15 years\n",
      "Toucan can live for 20 years\n",
      "Helmeted Hornbill can live for 30 years\n"
     ]
    }
   ],
   "source": [
    "# Loop through the birds_dictionaries list\n",
    "for item in birds_dictionaries:\n",
    "    # Print the names of the birds and their lifespans from the birds_dictionary\n",
    "    print(f'{item[\"name\"]} can live for {item[\"lifespan\"]} years')\n",
    "    # Calculate and print out the size to weight ratio\n",
    "    size_to_weight_ratio = item[\"size (cm)\"] / item[\"weight (g)\"]\n",
    "    print(f\"Its size to weight ratio is {size_to_weight_ratio}\")\n",
    "    print(\"-\" * 50)"
   ]
  },
  {
   "cell_type": "code",
   "execution_count": 7,
   "id": "ee466a06",
   "metadata": {},
   "outputs": [],
   "source": [
    "# Highest size to weight ratio: hummingbird with 2.0\n",
    "# Lowest size to weight ratio: emperor penguin with 0.00115"
   ]
  }
 ],
 "metadata": {
  "kernelspec": {
   "display_name": "base",
   "language": "python",
   "name": "python3"
  },
  "language_info": {
   "codemirror_mode": {
    "name": "ipython",
    "version": 3
   },
   "file_extension": ".py",
   "mimetype": "text/x-python",
   "name": "python",
   "nbconvert_exporter": "python",
   "pygments_lexer": "ipython3",
   "version": "3.11.5"
  }
 },
 "nbformat": 4,
 "nbformat_minor": 5
}
