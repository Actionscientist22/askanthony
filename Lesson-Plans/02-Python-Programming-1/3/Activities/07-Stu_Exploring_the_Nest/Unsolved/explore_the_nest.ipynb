{
 "cells": [
  {
   "cell_type": "code",
   "execution_count": null,
   "id": "a52373d0",
   "metadata": {},
   "outputs": [],
   "source": [
    "# List of lists of birds\n",
    "birds_list = [\n",
    "    [\"Magpie\", \"Cockatoo\", \"Hummingbird\", \"Ostrich\", \"Bald Eagle\", \n",
    "     \"Emperor Penguin\", \"Lyrebird\", \"Peacock\", \"Toucan\", \"Helmeted Hornbill\"],\n",
    "    [60, 70, 10, 270, 100, 129, 90, 105, 60, 120],\n",
    "    [210, 900, 5, 136000, 26000, 112000, 5200, 28600, 4180, 2900],\n",
    "    [3.5, 45, 5, 40, 30, 20, 30, 15, 20, 30]\n",
    "]"
   ]
  },
  {
   "cell_type": "code",
   "execution_count": null,
   "id": "174c2cc7",
   "metadata": {},
   "outputs": [],
   "source": [
    "# List of bird dictionaries\n",
    "birds_dictionaries = [\n",
    "    {\n",
    "        \"name\": \"Magpie\",\n",
    "        \"size (cm)\": 60,\n",
    "        \"weight (g)\": 210,\n",
    "        \"lifespan\": 3.5\n",
    "    },\n",
    "    {\n",
    "        \"name\": \"Cockatoo\",\n",
    "        \"size (cm)\": 70,\n",
    "        \"weight (g)\": 900,\n",
    "        \"lifespan\": 45\n",
    "    },\n",
    "    {\n",
    "        \"name\": \"Hummingbird\",\n",
    "        \"size (cm)\": 10,\n",
    "        \"weight (g)\": 5,\n",
    "        \"lifespan\": 5\n",
    "    },\n",
    "    {\n",
    "        \"name\": \"Ostrich\",\n",
    "        \"size (cm)\": 270,\n",
    "        \"weight (g)\": 136000,\n",
    "        \"lifespan\": 40\n",
    "    },\n",
    "    {\n",
    "        \"name\": \"Bald Eagle\",\n",
    "        \"size (cm)\": 100,\n",
    "        \"weight (g)\": 26000,\n",
    "        \"lifespan\": 30\n",
    "    },\n",
    "    {\n",
    "        \"name\": \"Emperor Penguin\",\n",
    "        \"size (cm)\": 129,\n",
    "        \"weight (g)\": 112000,\n",
    "        \"lifespan\": 20\n",
    "    },\n",
    "    {\n",
    "        \"name\": \"Lyrebird\",\n",
    "        \"size (cm)\": 90,\n",
    "        \"weight (g)\": 5200,\n",
    "        \"lifespan\": 30\n",
    "    },\n",
    "    {\n",
    "        \"name\": \"Peacock\",\n",
    "        \"size (cm)\": 105,\n",
    "        \"weight (g)\": 28600,\n",
    "        \"lifespan\": 15\n",
    "    },\n",
    "    {\n",
    "        \"name\": \"Toucan\",\n",
    "        \"size (cm)\": 60,\n",
    "        \"weight (g)\": 4180,\n",
    "        \"lifespan\": 20\n",
    "    },\n",
    "    {\n",
    "        \"name\": \"Helmeted Hornbill\",\n",
    "        \"size (cm)\": 120,\n",
    "        \"weight (g)\": 2900,\n",
    "        \"lifespan\": 30\n",
    "    }\n",
    "]"
   ]
  },
  {
   "cell_type": "code",
   "execution_count": null,
   "id": "74ffdeb4",
   "metadata": {},
   "outputs": [],
   "source": [
    "# Print out the data about the 4th bird in birds_list"
   ]
  },
  {
   "cell_type": "code",
   "execution_count": null,
   "id": "dd1ffc82",
   "metadata": {},
   "outputs": [],
   "source": [
    "\n",
    "# Calculate the total weight (kg) of all the birds in the birds list"
   ]
  },
  {
   "cell_type": "code",
   "execution_count": null,
   "id": "c342cba9",
   "metadata": {},
   "outputs": [],
   "source": [
    "\n",
    "# Loop through the birds_dictionaries list"
   ]
  },
  {
   "cell_type": "code",
   "execution_count": null,
   "id": "9986ff64",
   "metadata": {},
   "outputs": [],
   "source": [
    "    # Print the names of the birds and their lifespans from the birds_dictionary"
   ]
  },
  {
   "cell_type": "code",
   "execution_count": null,
   "id": "a311a52f",
   "metadata": {},
   "outputs": [],
   "source": [
    "\n",
    "    # Calculate and print out the size to weight ratio"
   ]
  },
  {
   "cell_type": "code",
   "execution_count": null,
   "id": "3a8e965c",
   "metadata": {},
   "outputs": [],
   "source": [
    "\n",
    "# Highest size to weight ratio: \n",
    "# Lowest size to weight ratio: "
   ]
  }
 ],
 "metadata": {},
 "nbformat": 4,
 "nbformat_minor": 5
}
