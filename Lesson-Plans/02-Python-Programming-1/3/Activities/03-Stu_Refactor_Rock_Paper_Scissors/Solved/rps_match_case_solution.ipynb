{
 "cells": [
  {
   "cell_type": "code",
   "execution_count": null,
   "id": "671139ab",
   "metadata": {},
   "outputs": [],
   "source": [
    "# Incorporate the random library\n",
    "import random"
   ]
  },
  {
   "cell_type": "code",
   "execution_count": null,
   "id": "0e0a7596",
   "metadata": {},
   "outputs": [],
   "source": [
    "# Print Title\n",
    "print(\"Let's Play Rock Paper Scissors!\")"
   ]
  },
  {
   "cell_type": "code",
   "execution_count": null,
   "id": "f3746624",
   "metadata": {},
   "outputs": [],
   "source": [
    "# Specify the three options\n",
    "options = [\"r\", \"p\", \"s\"]"
   ]
  },
  {
   "cell_type": "code",
   "execution_count": null,
   "metadata": {},
   "outputs": [],
   "source": [
    "# Create a continuous loop so the user can play multiple rounds\n",
    "while True:\n",
    "    # User Selection\n",
    "    user_choice = input(\"Make your Choice: (r)ock, (p)aper, (s)cissors? \")\n",
    "\n",
    "    # Check if the user selected a valid choice\n",
    "    if user_choice in options:\n",
    "        # Generate the computer selection\n",
    "        computer_choice = random.choice(options)\n",
    "\n",
    "        # Create a variable called user_full_choice to hold the text of the \n",
    "        # full word for the user's choice by using a match case statement\n",
    "        match user_choice: \n",
    "            case 'r':\n",
    "                user_full_choice = 'rock'\n",
    "            case 'p':\n",
    "                user_full_choice = 'paper'\n",
    "            case _:\n",
    "                user_full_choice = 'scissors'\n",
    "\n",
    "        # Run Conditionals\n",
    "        # First check if there is a tie\n",
    "        if user_choice == computer_choice:\n",
    "            print(f\"You both chose {user_full_choice}!\")\n",
    "            print(\"A smashing tie!\")\n",
    "        else:\n",
    "            # Tell the user what they chose\n",
    "            print(f\"You chose {user_full_choice}\")\n",
    "\n",
    "            # Refactor the conditionals into a nested match statement.\n",
    "            # Check the user_choice first, then inside each case, check the \n",
    "            # computer_choice\n",
    "            match user_choice:\n",
    "                case \"r\":\n",
    "                    match computer_choice:\n",
    "                        case \"p\":\n",
    "                            print(\"The computer chose paper.\")\n",
    "                            print(\"Sorry. You lose.\")\n",
    "                        case \"s\":\n",
    "                            print(\"The computer chose scissors.\")\n",
    "                            print(\"Yay! You won.\")\n",
    "                case \"p\":\n",
    "                    match computer_choice:\n",
    "                        case \"r\":\n",
    "                            print(\"The computer chose rock.\")\n",
    "                            print(\"Yay! You won.\")\n",
    "                        case \"s\":\n",
    "                            print(\"The computer chose scissors.\")\n",
    "                            print(\"Sorry. You lose.\")\n",
    "                case \"s\":\n",
    "                    match computer_choice:\n",
    "                        case \"p\":\n",
    "                            print(\"The computer chose paper.\")\n",
    "                            print(\"Yay! You won.\")\n",
    "                        case \"r\":\n",
    "                            print(\"The computer chose rock.\")\n",
    "                            print(\"Sorry. You lose.\")\n",
    "\n",
    "        # Ask the user if they would like to play again and save the answer as \n",
    "        # a variable\n",
    "        print(\"Would you like to play again?\")\n",
    "        play_again = input(\"Type (y) to continue or anything else to exit. \")\n",
    "\n",
    "        # If the user's answer is not \"y\" or \"Y\", break from the loop\n",
    "        if play_again.lower() != \"y\":\n",
    "            break\n",
    "    else:\n",
    "        print(\"I don't understand that!\")\n",
    "        print(\"Next time, choose from 'r', 'p', or 's'.\")\n",
    "\n",
    "print(\"Thank you for playing Rock Paper Scissors. See you next time!\")"
   ]
  }
 ],
 "metadata": {
  "language_info": {
   "name": "python"
  }
 },
 "nbformat": 4,
 "nbformat_minor": 5
}
