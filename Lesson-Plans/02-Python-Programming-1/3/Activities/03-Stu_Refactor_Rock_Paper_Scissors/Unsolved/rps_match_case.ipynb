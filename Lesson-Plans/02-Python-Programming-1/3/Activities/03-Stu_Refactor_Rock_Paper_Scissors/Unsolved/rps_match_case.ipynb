{
 "cells": [
  {
   "cell_type": "code",
   "execution_count": null,
   "id": "a0a19252",
   "metadata": {},
   "outputs": [],
   "source": [
    "# Incorporate the random library\n",
    "import random"
   ]
  },
  {
   "cell_type": "code",
   "execution_count": null,
   "id": "e6b6e5c5",
   "metadata": {},
   "outputs": [],
   "source": [
    "# Print Title\n",
    "print(\"Let's Play Rock Paper Scissors!\")"
   ]
  },
  {
   "cell_type": "code",
   "execution_count": null,
   "id": "40aab3e3",
   "metadata": {},
   "outputs": [],
   "source": [
    "# Specify the three options\n",
    "options = [\"r\", \"p\", \"s\"]"
   ]
  },
  {
   "cell_type": "code",
   "execution_count": null,
   "id": "637a29f7",
   "metadata": {},
   "outputs": [],
   "source": [
    "# Create a continuous loop so the user can play multiple rounds\n",
    "while True:\n",
    "    # User Selection\n",
    "    user_choice = input(\"Make your Choice: (r)ock, (p)aper, (s)cissors? \")"
   ]
  },
  {
   "cell_type": "code",
   "execution_count": null,
   "id": "01d35735",
   "metadata": {},
   "outputs": [],
   "source": [
    "    # Check if the user selected a valid choice\n",
    "    if user_choice in options:\n",
    "        # Generate the computer selection\n",
    "        computer_choice = random.choice(options)"
   ]
  },
  {
   "cell_type": "code",
   "execution_count": null,
   "id": "b9ca3094",
   "metadata": {},
   "outputs": [],
   "source": [
    "        # Create a variable called user_full_choice to hold the text of the \n",
    "        # full word for the user's choice by using a match case statement"
   ]
  },
  {
   "cell_type": "code",
   "execution_count": null,
   "id": "e621f018",
   "metadata": {},
   "outputs": [],
   "source": [
    "\n",
    "        # Run Conditionals\n",
    "        # First check if there is a tie\n",
    "        if user_choice == computer_choice:\n",
    "            print(f\"You both chose {user_full_choice}!\")\n",
    "            print(\"A smashing tie!\")\n",
    "        else:\n",
    "            # Tell the user what they chose\n",
    "            print(f\"You chose {user_full_choice}\")"
   ]
  },
  {
   "cell_type": "code",
   "execution_count": null,
   "id": "11826684",
   "metadata": {},
   "outputs": [],
   "source": [
    "            # Refactor the conditionals into a nested match statement.\n",
    "            # Check the user_choice first, then inside each case, check the \n",
    "            # computer_choice"
   ]
  },
  {
   "cell_type": "code",
   "execution_count": null,
   "id": "f4b59e56",
   "metadata": {},
   "outputs": [],
   "source": [
    "\n",
    "        # Ask the user if they would like to play again and save the answer as \n",
    "        # a variable\n",
    "        print(\"Would you like to play again?\")\n",
    "        play_again = input(\"Type (y) to continue or anything else to exit. \")"
   ]
  },
  {
   "cell_type": "code",
   "execution_count": null,
   "id": "473b9df0",
   "metadata": {},
   "outputs": [],
   "source": [
    "        # If the user's answer is not \"y\" or \"Y\", break from the loop\n",
    "        if play_again.lower() != \"y\":\n",
    "            break\n",
    "    else:\n",
    "        print(\"I don't understand that!\")\n",
    "        print(\"Next time, choose from 'r', 'p', or 's'.\")"
   ]
  },
  {
   "cell_type": "code",
   "execution_count": null,
   "id": "e065a8bf",
   "metadata": {},
   "outputs": [],
   "source": [
    "print(\"Thank you for playing Rock Paper Scissors. See you next time!\")"
   ]
  }
 ],
 "metadata": {},
 "nbformat": 4,
 "nbformat_minor": 5
}
