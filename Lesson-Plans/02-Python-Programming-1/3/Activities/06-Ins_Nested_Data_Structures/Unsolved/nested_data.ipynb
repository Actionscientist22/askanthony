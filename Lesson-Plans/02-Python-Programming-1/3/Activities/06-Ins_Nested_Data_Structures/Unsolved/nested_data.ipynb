{
 "cells": [
  {
   "cell_type": "code",
   "execution_count": null,
   "id": "e78172af",
   "metadata": {},
   "outputs": [],
   "source": [
    "# List of lists example\n",
    "table_data = [\n",
    "    [\"Ticker\", \"Open\", \"Close\"],\n",
    "    [\"AAPL\", 363.25, 363.4],\n",
    "    [\"AMZN\", 2756.0, 2757.99],\n",
    "    [\"GOOG\", 1409.1, 1408.2]\n",
    "]"
   ]
  },
  {
   "cell_type": "code",
   "execution_count": null,
   "id": "4a1a4c07",
   "metadata": {},
   "outputs": [],
   "source": [
    "# Access the Amazon data"
   ]
  },
  {
   "cell_type": "code",
   "execution_count": null,
   "id": "1cbbb974",
   "metadata": {},
   "outputs": [],
   "source": [
    "\n",
    "# Get the Amazon opening price"
   ]
  },
  {
   "cell_type": "code",
   "execution_count": null,
   "id": "4b306439",
   "metadata": {},
   "outputs": [],
   "source": [
    "\n",
    "# Combine the previous 2 steps"
   ]
  },
  {
   "cell_type": "code",
   "execution_count": null,
   "id": "450631fc",
   "metadata": {},
   "outputs": [],
   "source": [
    "\n",
    "# Print out the ticker data by row"
   ]
  },
  {
   "cell_type": "code",
   "execution_count": null,
   "id": "61cc8813",
   "metadata": {},
   "outputs": [],
   "source": [
    "\n",
    "# List of dictionaries example\n",
    "table_data = [\n",
    "    {\n",
    "        \"Ticker\": \"AAPL\",\n",
    "        \"Open\": 363.25,\n",
    "        \"Close\": 363.4\n",
    "    },\n",
    "    {\n",
    "        \"Ticker\": \"AMZN\",\n",
    "        \"Open\": 2756.0,\n",
    "        \"Close\": 2757.99\n",
    "    },\n",
    "    {\n",
    "        \"Ticker\": \"GOOG\",\n",
    "        \"Open\": 1409.1,\n",
    "        \"Close\": 1408.2\n",
    "    }\n",
    "]"
   ]
  },
  {
   "cell_type": "code",
   "execution_count": null,
   "id": "504951ce",
   "metadata": {},
   "outputs": [],
   "source": [
    "# Print out each dictionary in the list"
   ]
  },
  {
   "cell_type": "code",
   "execution_count": null,
   "id": "8440ebb4",
   "metadata": {},
   "outputs": [],
   "source": [
    "\n",
    "# Print out just the ticker value in each dictionary in the list"
   ]
  },
  {
   "cell_type": "code",
   "execution_count": null,
   "id": "3aed7975",
   "metadata": {},
   "outputs": [],
   "source": []
  }
 ],
 "metadata": {},
 "nbformat": 4,
 "nbformat_minor": 5
}
