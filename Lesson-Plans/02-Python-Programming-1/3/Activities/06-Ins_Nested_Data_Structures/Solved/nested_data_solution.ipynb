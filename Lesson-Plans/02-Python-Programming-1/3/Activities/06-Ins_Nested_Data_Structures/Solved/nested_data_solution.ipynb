{
 "cells": [
  {
   "cell_type": "code",
   "execution_count": 1,
   "id": "73878b66",
   "metadata": {},
   "outputs": [],
   "source": [
    "# List of lists example\n",
    "table_data = [\n",
    "    [\"Ticker\", \"Open\", \"Close\"],\n",
    "    [\"AAPL\", 363.25, 363.4],\n",
    "    [\"AMZN\", 2756.0, 2757.99],\n",
    "    [\"GOOG\", 1409.1, 1408.2]\n",
    "]"
   ]
  },
  {
   "cell_type": "code",
   "execution_count": 2,
   "id": "5b9d1a2c",
   "metadata": {},
   "outputs": [
    {
     "name": "stdout",
     "output_type": "stream",
     "text": [
      "['AMZN', 2756.0, 2757.99]\n"
     ]
    }
   ],
   "source": [
    "# Access the Amazon data\n",
    "amazon_data = table_data[2]\n",
    "print(amazon_data)"
   ]
  },
  {
   "cell_type": "code",
   "execution_count": 3,
   "id": "9a390055",
   "metadata": {},
   "outputs": [
    {
     "name": "stdout",
     "output_type": "stream",
     "text": [
      "2756.0\n"
     ]
    }
   ],
   "source": [
    "# Get the Amazon opening price\n",
    "amazon_opening_price = amazon_data[1]\n",
    "print(amazon_opening_price)"
   ]
  },
  {
   "cell_type": "code",
   "execution_count": 4,
   "id": "593522c1",
   "metadata": {},
   "outputs": [
    {
     "name": "stdout",
     "output_type": "stream",
     "text": [
      "2756.0\n"
     ]
    }
   ],
   "source": [
    "# Combine the previous 2 steps\n",
    "amazon_opening_price = table_data[2][1]\n",
    "print(amazon_opening_price)"
   ]
  },
  {
   "cell_type": "code",
   "execution_count": 5,
   "id": "d24b5242",
   "metadata": {},
   "outputs": [
    {
     "name": "stdout",
     "output_type": "stream",
     "text": [
      "Ticker\n",
      "AAPL\n",
      "AMZN\n",
      "GOOG\n"
     ]
    }
   ],
   "source": [
    "# Print out the ticker data by row\n",
    "for row in table_data:\n",
    "    ticker = row[0]\n",
    "    print(ticker)"
   ]
  },
  {
   "cell_type": "code",
   "execution_count": 6,
   "id": "e3c9974e",
   "metadata": {},
   "outputs": [],
   "source": [
    "# List of dictionaries example\n",
    "table_data = [\n",
    "    {\n",
    "        \"Ticker\": \"AAPL\",\n",
    "        \"Open\": 363.25,\n",
    "        \"Close\": 363.4\n",
    "    },\n",
    "    {\n",
    "        \"Ticker\": \"AMZN\",\n",
    "        \"Open\": 2756.0,\n",
    "        \"Close\": 2757.99\n",
    "    },\n",
    "    {\n",
    "        \"Ticker\": \"GOOG\",\n",
    "        \"Open\": 1409.1,\n",
    "        \"Close\": 1408.2\n",
    "    }\n",
    "]"
   ]
  },
  {
   "cell_type": "code",
   "execution_count": 7,
   "id": "4149d2af",
   "metadata": {},
   "outputs": [
    {
     "name": "stdout",
     "output_type": "stream",
     "text": [
      "{'Ticker': 'AAPL', 'Open': 363.25, 'Close': 363.4}\n",
      "{'Ticker': 'AMZN', 'Open': 2756.0, 'Close': 2757.99}\n",
      "{'Ticker': 'GOOG', 'Open': 1409.1, 'Close': 1408.2}\n"
     ]
    }
   ],
   "source": [
    "# Print out each dictionary in the list\n",
    "for item in table_data:\n",
    "    print(item)"
   ]
  },
  {
   "cell_type": "code",
   "execution_count": 8,
   "id": "65e5c34f",
   "metadata": {},
   "outputs": [
    {
     "name": "stdout",
     "output_type": "stream",
     "text": [
      "AAPL\n",
      "AMZN\n",
      "GOOG\n"
     ]
    }
   ],
   "source": [
    "# Print out just the ticker value in each dictionary in the list\n",
    "for item in table_data:\n",
    "    ticker = item[\"Ticker\"]\n",
    "    print(ticker)"
   ]
  },
  {
   "cell_type": "code",
   "execution_count": null,
   "id": "0eabfbe6",
   "metadata": {},
   "outputs": [],
   "source": []
  }
 ],
 "metadata": {
  "kernelspec": {
   "display_name": "base",
   "language": "python",
   "name": "python3"
  },
  "language_info": {
   "codemirror_mode": {
    "name": "ipython",
    "version": 3
   },
   "file_extension": ".py",
   "mimetype": "text/x-python",
   "name": "python",
   "nbconvert_exporter": "python",
   "pygments_lexer": "ipython3",
   "version": "3.11.5"
  }
 },
 "nbformat": 4,
 "nbformat_minor": 5
}
