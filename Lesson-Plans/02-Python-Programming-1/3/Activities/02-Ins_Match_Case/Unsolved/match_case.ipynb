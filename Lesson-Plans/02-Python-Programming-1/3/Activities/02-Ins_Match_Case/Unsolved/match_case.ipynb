{
 "cells": [
  {
   "cell_type": "code",
   "execution_count": null,
   "id": "bbfd25c6",
   "metadata": {},
   "outputs": [],
   "source": [
    "# Boolean to place the order\n",
    "place_order = True"
   ]
  },
  {
   "cell_type": "code",
   "execution_count": null,
   "id": "cd220ae2",
   "metadata": {},
   "outputs": [],
   "source": [
    "# List to track pie purchases\n",
    "pie_purchases = [0, 0, 0, 0, 0, 0, 0, 0, 0, 0]"
   ]
  },
  {
   "cell_type": "code",
   "execution_count": null,
   "id": "447242c4",
   "metadata": {},
   "outputs": [],
   "source": [
    "# Pie List\n",
    "pie_list = [\"Pecan\", \n",
    "            \"Apple\", \n",
    "            \"Lemon Meringue\", \n",
    "            \"Banoffee\", \n",
    "            \"Black Bun\",\n",
    "            \"Bean\", \n",
    "            \"Buko\", \n",
    "            \"Burek\", \n",
    "            \"Tamale\", \n",
    "            \"Steak\"]"
   ]
  },
  {
   "cell_type": "code",
   "execution_count": null,
   "id": "bcb08337",
   "metadata": {},
   "outputs": [],
   "source": [
    "# Display initial message\n",
    "print(\"Welcome to the House of Pies! Here are our pies:\")"
   ]
  },
  {
   "cell_type": "code",
   "execution_count": null,
   "id": "9c5dc8b0",
   "metadata": {},
   "outputs": [],
   "source": [
    "# While we are still shopping...\n",
    "while place_order:"
   ]
  },
  {
   "cell_type": "code",
   "execution_count": null,
   "id": "3f38d981",
   "metadata": {},
   "outputs": [],
   "source": [
    "    # Show pie selection prompt\n",
    "    print(\"-\" * 50)\n",
    "    pie_number = 1\n",
    "    for pie in pie_list:\n",
    "        print(f\"({pie_number}) {pie}\")\n",
    "        pie_number += 1"
   ]
  },
  {
   "cell_type": "code",
   "execution_count": null,
   "id": "126e01fe",
   "metadata": {},
   "outputs": [],
   "source": [
    "    pie_choice = input(\"Which would you like? \")"
   ]
  },
  {
   "cell_type": "code",
   "execution_count": null,
   "id": "218813d5",
   "metadata": {},
   "outputs": [],
   "source": [
    "    # Get index of the pie from the selected number\n",
    "    choice_index = int(pie_choice) - 1"
   ]
  },
  {
   "cell_type": "code",
   "execution_count": null,
   "id": "2be497b1",
   "metadata": {},
   "outputs": [],
   "source": [
    "    # Add pie to the pie list by finding the matching index and adding one to its value\n",
    "    pie_purchases[choice_index] += 1"
   ]
  },
  {
   "cell_type": "code",
   "execution_count": null,
   "id": "8af61233",
   "metadata": {},
   "outputs": [],
   "source": [
    "    print(\"-\" * 50)"
   ]
  },
  {
   "cell_type": "code",
   "execution_count": null,
   "id": "4edbc044",
   "metadata": {},
   "outputs": [],
   "source": [
    "    # Inform the customer of the pie purchase\n",
    "    print(\"Great! We'll have that \" + pie_list[choice_index] \n",
    "          + \" Pie right out for you.\")"
   ]
  },
  {
   "cell_type": "code",
   "execution_count": null,
   "id": "a6fa5c0c",
   "metadata": {},
   "outputs": [],
   "source": [
    "    # Provide exit option\n",
    "    while True:\n",
    "\t\t# Ask the customer if they would like to order anything else\n",
    "        keep_ordering = input(\"Would you like to keep ordering? (Y)es or (N)o \")"
   ]
  },
  {
   "cell_type": "code",
   "execution_count": null,
   "id": "c31baa71",
   "metadata": {},
   "outputs": [],
   "source": [
    "        # Check the customer's input"
   ]
  },
  {
   "cell_type": "code",
   "execution_count": null,
   "id": "91f0458a",
   "metadata": {},
   "outputs": [],
   "source": [
    "            # Customer chose yes"
   ]
  },
  {
   "cell_type": "code",
   "execution_count": null,
   "id": "1b6d2833",
   "metadata": {},
   "outputs": [],
   "source": [
    "                # Keep ordering"
   ]
  },
  {
   "cell_type": "code",
   "execution_count": null,
   "id": "cd88f686",
   "metadata": {},
   "outputs": [],
   "source": [
    "                # Exit the keep ordering question loop"
   ]
  },
  {
   "cell_type": "code",
   "execution_count": null,
   "id": "19903931",
   "metadata": {},
   "outputs": [],
   "source": [
    "            # Customer chose no"
   ]
  },
  {
   "cell_type": "code",
   "execution_count": null,
   "id": "d5bbda39",
   "metadata": {},
   "outputs": [],
   "source": [
    "                # Complete the order"
   ]
  },
  {
   "cell_type": "code",
   "execution_count": null,
   "id": "88f6f1ea",
   "metadata": {},
   "outputs": [],
   "source": [
    "                # Since the customer decided to stop ordering, thank them for their order"
   ]
  },
  {
   "cell_type": "code",
   "execution_count": null,
   "id": "fcecf702",
   "metadata": {},
   "outputs": [],
   "source": [
    "                # Exit the keep ordering question loop"
   ]
  },
  {
   "cell_type": "code",
   "execution_count": null,
   "id": "67112a4d",
   "metadata": {},
   "outputs": [],
   "source": [
    "            # Customer typed an invalid input"
   ]
  },
  {
   "cell_type": "code",
   "execution_count": null,
   "id": "668eb737",
   "metadata": {},
   "outputs": [],
   "source": [
    "                # Tell the customer to try again"
   ]
  },
  {
   "cell_type": "code",
   "execution_count": null,
   "id": "bee7ffac",
   "metadata": {},
   "outputs": [],
   "source": [
    "\n",
    "# Once the pie list is complete\n",
    "print(\"-\" * 50)"
   ]
  },
  {
   "cell_type": "code",
   "execution_count": null,
   "id": "871d1be7",
   "metadata": {},
   "outputs": [],
   "source": [
    "# Count instances of each pie\n",
    "print(\"You purchased: \")"
   ]
  },
  {
   "cell_type": "code",
   "execution_count": null,
   "id": "9381f679",
   "metadata": {},
   "outputs": [],
   "source": [
    "# Loop through the full pie list\n",
    "for pie_index in range(len(pie_list)):\n",
    "    pie_count = pie_purchases[pie_index]\n",
    "    pie_name = pie_list[pie_index]"
   ]
  },
  {
   "cell_type": "code",
   "execution_count": null,
   "id": "5a3cb662",
   "metadata": {},
   "outputs": [],
   "source": [
    "    # If the pie count is greater than or equal to 1:\n",
    "    if pie_count >= 1:\n",
    "        # Gather the count of each pie in the pie list and print them alongside the pies\n",
    "        print(f\"{pie_count} {pie_name} Pie\")\n"
   ]
  }
 ],
 "metadata": {},
 "nbformat": 4,
 "nbformat_minor": 5
}
