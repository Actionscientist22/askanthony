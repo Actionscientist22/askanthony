{
 "cells": [
  {
   "cell_type": "code",
   "execution_count": 1,
   "id": "2d55c0a3",
   "metadata": {},
   "outputs": [],
   "source": [
    "# Boolean to place the order\n",
    "place_order = True"
   ]
  },
  {
   "cell_type": "code",
   "execution_count": 2,
   "id": "8f4966ac",
   "metadata": {},
   "outputs": [],
   "source": [
    "# List to track pie purchases\n",
    "pie_purchases = [0, 0, 0, 0, 0, 0, 0, 0, 0, 0]"
   ]
  },
  {
   "cell_type": "code",
   "execution_count": 3,
   "id": "97194934",
   "metadata": {},
   "outputs": [],
   "source": [
    "# Pie List\n",
    "pie_list = [\"Pecan\", \n",
    "            \"Apple\", \n",
    "            \"Lemon Meringue\", \n",
    "            \"Banoffee\", \n",
    "            \"Black Bun\",\n",
    "            \"Bean\", \n",
    "            \"Buko\", \n",
    "            \"Burek\", \n",
    "            \"Tamale\", \n",
    "            \"Steak\"]"
   ]
  },
  {
   "cell_type": "code",
   "execution_count": 4,
   "id": "c5c7d116",
   "metadata": {},
   "outputs": [
    {
     "name": "stdout",
     "output_type": "stream",
     "text": [
      "Welcome to the House of Pies! Here are our pies:\n"
     ]
    }
   ],
   "source": [
    "# Display initial message\n",
    "print(\"Welcome to the House of Pies! Here are our pies:\")"
   ]
  },
  {
   "cell_type": "code",
   "execution_count": 9,
   "metadata": {},
   "outputs": [],
   "source": [
    "# While we are still shopping...\n",
    "while place_order:\n",
    "\n",
    "    # Show pie selection prompt\n",
    "    print(\"-\" * 50)\n",
    "    pie_number = 1\n",
    "    for pie in pie_list:\n",
    "        print(f\"({pie_number}) {pie}\")\n",
    "        pie_number += 1\n",
    "\n",
    "    pie_choice = input(\"Which would you like? \")\n",
    "\n",
    "    # Get index of the pie from the selected number\n",
    "    choice_index = int(pie_choice) - 1\n",
    "\n",
    "    # Add pie to the pie list by finding the matching index and adding one to its value\n",
    "    pie_purchases[choice_index] += 1\n",
    "\n",
    "    print(\"-\" * 50)\n",
    "\n",
    "    # Inform the customer of the pie purchase\n",
    "    print(\"Great! We'll have that \" + pie_list[choice_index] \n",
    "          + \" Pie right out for you.\")\n",
    "\n",
    "    # Provide exit option\n",
    "    while True:\n",
    "\t\t# Ask the customer if they would like to order anything else\n",
    "        keep_ordering = input(\"Would you like to keep ordering? (Y)es or (N)o \")\n",
    "\n",
    "        # Check the customer's input\n",
    "        match keep_ordering.lower():\n",
    "            # Customer chose yes\n",
    "            case 'y':\n",
    "                # Keep ordering\n",
    "                place_order = True\n",
    "                # Exit the keep ordering question loop\n",
    "                break\n",
    "            # Customer chose no\n",
    "            case 'n':\n",
    "                # Complete the order\n",
    "                place_order = False\n",
    "                # Since the customer decided to stop ordering, thank them for their order\n",
    "                print(\"Thank you for your order.\")\n",
    "                # Exit the keep ordering question loop\n",
    "                break\n",
    "            # Customer typed an invalid input\n",
    "            case _:\n",
    "                # Tell the customer to try again\n",
    "                print(\"I didn't understand your response. Please try again.\")"
   ]
  },
  {
   "cell_type": "code",
   "execution_count": 6,
   "id": "3e748bca",
   "metadata": {},
   "outputs": [
    {
     "name": "stdout",
     "output_type": "stream",
     "text": [
      "--------------------------------------------------\n"
     ]
    }
   ],
   "source": [
    "# Once the pie list is complete\n",
    "print(\"-\" * 50)"
   ]
  },
  {
   "cell_type": "code",
   "execution_count": 7,
   "id": "1243165f",
   "metadata": {},
   "outputs": [
    {
     "name": "stdout",
     "output_type": "stream",
     "text": [
      "You purchased: \n"
     ]
    }
   ],
   "source": [
    "# Count instances of each pie\n",
    "print(\"You purchased: \")"
   ]
  },
  {
   "cell_type": "code",
   "execution_count": 8,
   "id": "874edb66",
   "metadata": {},
   "outputs": [
    {
     "name": "stdout",
     "output_type": "stream",
     "text": [
      "1 Pecan Pie\n",
      "1 Tamale Pie\n"
     ]
    }
   ],
   "source": [
    "# Loop through the full pie list\n",
    "for pie_index in range(len(pie_list)):\n",
    "    pie_count = pie_purchases[pie_index]\n",
    "    pie_name = pie_list[pie_index]\n",
    "\n",
    "    # If the pie count is greater than or equal to 1:\n",
    "    if pie_count >= 1:\n",
    "        # Gather the count of each pie in the pie list and print them alongside the pies\n",
    "        print(f\"{pie_count} {pie_name} Pie\")"
   ]
  }
 ],
 "metadata": {
  "kernelspec": {
   "display_name": "base",
   "language": "python",
   "name": "python3"
  },
  "language_info": {
   "codemirror_mode": {
    "name": "ipython",
    "version": 3
   },
   "file_extension": ".py",
   "mimetype": "text/x-python",
   "name": "python",
   "nbconvert_exporter": "python",
   "pygments_lexer": "ipython3",
   "version": "3.11.5"
  }
 },
 "nbformat": 4,
 "nbformat_minor": 5
}
