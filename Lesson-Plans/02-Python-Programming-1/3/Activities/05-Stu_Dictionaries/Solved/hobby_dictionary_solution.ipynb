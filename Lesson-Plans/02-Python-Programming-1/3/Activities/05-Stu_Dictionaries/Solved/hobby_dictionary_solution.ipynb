{
 "cells": [
  {
   "cell_type": "code",
   "execution_count": null,
   "id": "9c2e4b8b",
   "metadata": {},
   "outputs": [],
   "source": [
    "# Dictionary full of info\n",
    "my_info = {\"name\": \"Zendaya\",\n",
    "           \"age\": 26,\n",
    "           \"hobbies\": [\"philanthropy\", \n",
    "                       \"playing with animals\", \n",
    "                       \"fashion\", \n",
    "                       \"social media\"],\n",
    "           \"wake-up\": {\n",
    "               \"Monday\": 5, \n",
    "               \"Friday\": 5, \n",
    "               \"Saturday\": 10, \n",
    "               \"Sunday\": 9\n",
    "            }\n",
    "}"
   ]
  },
  {
   "cell_type": "code",
   "execution_count": null,
   "id": "24044ac0",
   "metadata": {},
   "outputs": [],
   "source": [
    "# Print out results stored in the dictionary\n",
    "print(f'Hello I am {my_info[\"name\"]} and I am {my_info[\"age\"]} years old.')\n",
    "print(f'My first hobby is {my_info[\"hobbies\"][0]}')\n",
    "print(f'On the weekend I get up at {my_info[\"wake-up\"][\"Saturday\"]}')"
   ]
  },
  {
   "cell_type": "code",
   "execution_count": null,
   "id": "5176b300",
   "metadata": {},
   "outputs": [],
   "source": [
    "# Use a loop to print out the key-value pairs in the dictionary\n",
    "for key, value in my_info.items():\n",
    "    print(f\"{key}: {value}\")"
   ]
  },
  {
   "cell_type": "code",
   "execution_count": null,
   "id": "8471c09d",
   "metadata": {},
   "outputs": [],
   "source": [
    "# Use a loop to print out the keys of the wake-up dictionary\n",
    "for day in my_info[\"wake-up\"].keys():\n",
    "    print(day)"
   ]
  },
  {
   "cell_type": "code",
   "execution_count": null,
   "id": "fb3c225d",
   "metadata": {},
   "outputs": [],
   "source": [
    "# Use a loop to print out the values of the wake-up dictionary\n",
    "for time in my_info[\"wake-up\"].values():\n",
    "    print(time)"
   ]
  }
 ],
 "metadata": {},
 "nbformat": 4,
 "nbformat_minor": 5
}
