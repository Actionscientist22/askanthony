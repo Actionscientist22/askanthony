{
 "cells": [
  {
   "cell_type": "code",
   "execution_count": null,
   "id": "84470f3f",
   "metadata": {},
   "outputs": [],
   "source": [
    "# Dictionary full of info"
   ]
  },
  {
   "cell_type": "code",
   "execution_count": null,
   "id": "285513a9",
   "metadata": {},
   "outputs": [],
   "source": [
    "\n",
    "# Print out results stored in the dictionary"
   ]
  },
  {
   "cell_type": "code",
   "execution_count": null,
   "id": "b5adce80",
   "metadata": {},
   "outputs": [],
   "source": [
    "\n",
    "# Use a loop to print out the key-value pairs in the dictionary"
   ]
  },
  {
   "cell_type": "code",
   "execution_count": null,
   "id": "c63681db",
   "metadata": {},
   "outputs": [],
   "source": [
    "\n",
    "# Use a loop to print out the keys of the wake-up dictionary"
   ]
  },
  {
   "cell_type": "code",
   "execution_count": null,
   "id": "fd6f160f",
   "metadata": {},
   "outputs": [],
   "source": [
    "\n",
    "# Use a loop to print out the values of the wake-up dictionary\n"
   ]
  }
 ],
 "metadata": {},
 "nbformat": 4,
 "nbformat_minor": 5
}
