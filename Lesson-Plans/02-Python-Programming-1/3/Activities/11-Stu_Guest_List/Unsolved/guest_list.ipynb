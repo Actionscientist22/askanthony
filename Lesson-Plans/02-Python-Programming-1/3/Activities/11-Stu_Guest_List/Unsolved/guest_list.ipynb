{
 "cells": [
  {
   "cell_type": "code",
   "execution_count": null,
   "id": "8d80835f",
   "metadata": {},
   "outputs": [],
   "source": [
    "# initialize list of guests for user input\n",
    "guests = []"
   ]
  },
  {
   "cell_type": "code",
   "execution_count": null,
   "id": "80ab2842",
   "metadata": {},
   "outputs": [],
   "source": [
    "# Begin a continuous loop that should only be exited when the user says they're \n",
    "# done with entering guests.\n",
    "while True:"
   ]
  },
  {
   "cell_type": "code",
   "execution_count": null,
   "id": "04f6a6e0",
   "metadata": {},
   "outputs": [],
   "source": [
    "    # Ask the user for the guest's name ans save it to a variable\n",
    "    guest_name = input(\"Please enter the name of the guest. \")"
   ]
  },
  {
   "cell_type": "code",
   "execution_count": null,
   "id": "129c7ea4",
   "metadata": {},
   "outputs": [],
   "source": [
    "    # Begin a continuous loop to ask for number of adult guests and check for \n",
    "    # input error. Exit the loop when the input is a number and that number \n",
    "    # is converted to an integer.\n",
    "    while True:\n",
    "        party_number_adults = input(f\"How many adult guests in {guest_name}'s party? \")\n",
    "        if party_number_adults.isdigit():\n",
    "            party_number_adults = int(party_number_adults)\n",
    "            break\n",
    "        else:\n",
    "            print(\"You didn't enter a valid response. Please enter a number.\")"
   ]
  },
  {
   "cell_type": "code",
   "execution_count": null,
   "id": "678e36f6",
   "metadata": {},
   "outputs": [],
   "source": [
    "    # Begin a continuous loop to ask for number of children guests and check for \n",
    "    # input error. Exit the loop when the input is a number and that number \n",
    "    # is converted to an integer.\n",
    "    while True:\n",
    "        party_number_children = input(f\"How many child guests in {guest_name}'s party? \")\n",
    "        if party_number_children.isdigit():\n",
    "            party_number_children = int(party_number_children)\n",
    "            break\n",
    "        else:\n",
    "            print(\"You didn't enter a valid response. Please enter a number.\")"
   ]
  },
  {
   "cell_type": "code",
   "execution_count": null,
   "id": "be75315f",
   "metadata": {},
   "outputs": [],
   "source": [
    "    # Append the guest list with a dictionary that includes the guest name,\n",
    "    # number of adults and number of children in the party\n",
    "    guests.append({\n",
    "        \"guest_name\": guest_name,\n",
    "        \"party_number_adults\": party_number_adults,\n",
    "        \"party_number_children\": party_number_children\n",
    "    })"
   ]
  },
  {
   "cell_type": "code",
   "execution_count": null,
   "id": "5a9d8aa5",
   "metadata": {},
   "outputs": [],
   "source": [
    "    more_guests = input(\"Do you have more guests to register? Type (n) to exit. \")\n",
    "    if more_guests == 'n':\n",
    "        break"
   ]
  },
  {
   "cell_type": "code",
   "execution_count": null,
   "id": "c81d1a62",
   "metadata": {},
   "outputs": [],
   "source": [
    "# Print the guests dictionary to observe the structure\n",
    "# Comment out the following line when it is no longer needed\n",
    "print(guests)"
   ]
  },
  {
   "cell_type": "code",
   "execution_count": null,
   "id": "cf881202",
   "metadata": {},
   "outputs": [],
   "source": [
    "# Use a list comprehension to create a list of tuples with the guests for each\n",
    "# party of guests in the format (adults, children)"
   ]
  },
  {
   "cell_type": "code",
   "execution_count": null,
   "id": "374b4886",
   "metadata": {},
   "outputs": [],
   "source": [
    "\n",
    "# Use a list comprehension to calculate the total number of adult guests"
   ]
  },
  {
   "cell_type": "code",
   "execution_count": null,
   "id": "cd5a96d0",
   "metadata": {},
   "outputs": [],
   "source": [
    "\n",
    "# Use a list comprehension to calculate the total number of child guests"
   ]
  },
  {
   "cell_type": "code",
   "execution_count": null,
   "id": "3d8a50c0",
   "metadata": {},
   "outputs": [],
   "source": [
    "\n",
    "# Use a list comprehension to calculate the total number of guests"
   ]
  },
  {
   "cell_type": "code",
   "execution_count": null,
   "id": "c1d690ba",
   "metadata": {},
   "outputs": [],
   "source": [
    "\n",
    "# Bonus: Use a list comprehension to create a string of the guest's name in \n",
    "# title case and the total number of guests in the party"
   ]
  },
  {
   "cell_type": "code",
   "execution_count": null,
   "id": "c7024aa6",
   "metadata": {},
   "outputs": [],
   "source": []
  }
 ],
 "metadata": {},
 "nbformat": 4,
 "nbformat_minor": 5
}
