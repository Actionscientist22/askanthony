{
 "cells": [
  {
   "cell_type": "code",
   "execution_count": 3,
   "id": "9bef3c4d",
   "metadata": {},
   "outputs": [],
   "source": [
    "# Incorporate the random library\n",
    "import random"
   ]
  },
  {
   "cell_type": "code",
   "execution_count": 4,
   "id": "fa4b3c4e",
   "metadata": {},
   "outputs": [
    {
     "name": "stdout",
     "output_type": "stream",
     "text": [
      "Let's Play Rock Paper Scissors!\n"
     ]
    }
   ],
   "source": [
    "# Print Title\n",
    "print(\"Let's Play Rock Paper Scissors!\")"
   ]
  },
  {
   "cell_type": "code",
   "execution_count": 5,
   "id": "c47909f3",
   "metadata": {},
   "outputs": [],
   "source": [
    "# Specify the three options\n",
    "options = [\"r\", \"p\", \"s\"]"
   ]
  },
  {
   "cell_type": "code",
   "execution_count": 6,
   "id": "ebc57551",
   "metadata": {},
   "outputs": [
    {
     "ename": "SyntaxError",
     "evalue": "unterminated string literal (detected at line 16) (1908107594.py, line 16)",
     "output_type": "error",
     "traceback": [
      "\u001b[1;36m  Cell \u001b[1;32mIn[6], line 16\u001b[1;36m\u001b[0m\n\u001b[1;33m    user_full_choice = 'scissors'cissors'\u001b[0m\n\u001b[1;37m                                        ^\u001b[0m\n\u001b[1;31mSyntaxError\u001b[0m\u001b[1;31m:\u001b[0m unterminated string literal (detected at line 16)\n"
     ]
    }
   ],
   "source": []
  },
  {
   "cell_type": "code",
   "execution_count": 7,
   "id": "408095a3",
   "metadata": {},
   "outputs": [
    {
     "name": "stdout",
     "output_type": "stream",
     "text": [
      "You chose rock. The computer chose scissors.\n",
      "Yay! You won.\n",
      "Would you like to play again?\n",
      "You chose paper. The computer chose rock.\n",
      "Yay! You won.\n",
      "Would you like to play again?\n",
      "Thank you for playing Rock Paper Scissors. See you next time!\n"
     ]
    }
   ],
   "source": [
    "# Create a continuous loop so the user can play multiple rounds\n",
    "while True:\n",
    "    # User Selection\n",
    "    user_choice = input(\"Make your Choice: (r)ock, (p)aper, (s)cissors? \")\n",
    "\n",
    "    # Check if the user selected a valid choice from the options list\n",
    "    if user_choice in options:\n",
    "        # Generate the computer selection\n",
    "        computer_choice = random.choice(options)\n",
    "\n",
    "        # Create a variable called user_full_choice to hold the text of the \n",
    "        # full word for the user's choice by using a conditional\n",
    "        if user_choice == 'r':\n",
    "            user_full_choice = 'rock'\n",
    "        elif user_choice == 'p':\n",
    "            user_full_choice = 'paper'\n",
    "        else:\n",
    "            user_full_choice = 'scissors'\n",
    "\n",
    "        # Run Conditionals\n",
    "\n",
    "        # First check if there is a tie\n",
    "        if user_choice == computer_choice:\n",
    "            print(f\"You both chose {user_full_choice}!\")\n",
    "            print(\"A smashing tie!\")\n",
    "        \n",
    "        # Check if the user picked rock and computer picked paper\n",
    "        elif (user_choice == \"r\" and computer_choice == \"p\"):\n",
    "            print(\"You chose rock. The computer chose paper.\")\n",
    "            print(\"Sorry. You lose.\")\n",
    "\n",
    "        # Check if the user picked rock and computer picked scissors\n",
    "        elif (user_choice == \"r\" and computer_choice == \"s\"):\n",
    "            print(\"You chose rock. The computer chose scissors.\")\n",
    "            print(\"Yay! You won.\")\n",
    "\n",
    "        # Check if the user picked paper and computer picked scissors\n",
    "        elif (user_choice == \"p\" and computer_choice == \"s\"):\n",
    "            print(\"You chose paper. The computer chose scissors.\")\n",
    "            print(\"Sorry. You lose.\")\n",
    "\n",
    "        # Check if the user picked paper and computer picked rock\n",
    "        elif (user_choice == \"p\" and computer_choice == \"r\"):\n",
    "            print(\"You chose paper. The computer chose rock.\")\n",
    "            print(\"Yay! You won.\")\n",
    "\n",
    "        # Check if the user picked scissors and computer picked paper\n",
    "        elif (user_choice == \"s\" and computer_choice == \"p\"):\n",
    "            print(\"You chose scissors. The computer chose paper.\")\n",
    "            print(\"Yay! You won.\")\n",
    "\n",
    "        # Check if the user picked scissors and computer picked rock\n",
    "        elif (user_choice == \"s\" and computer_choice == \"r\"):\n",
    "            print(\"You chose scissors. The computer chose rock.\")\n",
    "            print(\"Sorry. You lose.\")\n",
    "\n",
    "        # Ask the user if they would like to play again and save the answer as \n",
    "        # a variable\n",
    "        print(\"Would you like to play again?\")\n",
    "        play_again = input(\"Type (y) to continue or anything else to exit. \")\n",
    "\n",
    "        # If the user's answer is not \"y\" or \"Y\", break from the loop\n",
    "        if play_again.lower() != \"y\":\n",
    "            break\n",
    "    # Print an error if the user didn't select a valid choice\n",
    "    else:\n",
    "        print(\"I don't understand that!\")\n",
    "        print(\"Next time, choose from 'r', 'p', or 's'.\")\n",
    "\n",
    "# Say goodbye if the loop has been exited\n",
    "print(\"Thank you for playing Rock Paper Scissors. See you next time!\")"
   ]
  },
  {
   "cell_type": "code",
   "execution_count": null,
   "id": "c70adc0c",
   "metadata": {},
   "outputs": [],
   "source": []
  }
 ],
 "metadata": {
  "kernelspec": {
   "display_name": "base",
   "language": "python",
   "name": "python3"
  },
  "language_info": {
   "codemirror_mode": {
    "name": "ipython",
    "version": 3
   },
   "file_extension": ".py",
   "mimetype": "text/x-python",
   "name": "python",
   "nbconvert_exporter": "python",
   "pygments_lexer": "ipython3",
   "version": "3.11.5"
  }
 },
 "nbformat": 4,
 "nbformat_minor": 5
}
