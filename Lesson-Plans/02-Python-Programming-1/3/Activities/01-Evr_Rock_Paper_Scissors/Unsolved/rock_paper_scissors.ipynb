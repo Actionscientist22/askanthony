{
 "cells": [
  {
   "cell_type": "code",
   "execution_count": 1,
   "id": "13239340",
   "metadata": {},
   "outputs": [],
   "source": [
    "# Incorporate the random library\n",
    "import random"
   ]
  },
  {
   "cell_type": "code",
   "execution_count": 2,
   "id": "ddb794a2",
   "metadata": {},
   "outputs": [
    {
     "name": "stdout",
     "output_type": "stream",
     "text": [
      "Let's Play Rock Paper Scissors!\n"
     ]
    }
   ],
   "source": [
    "# Print Title\n",
    "print(\"Let's Play Rock Paper Scissors!\")"
   ]
  },
  {
   "cell_type": "code",
   "execution_count": 3,
   "id": "8851a400",
   "metadata": {},
   "outputs": [],
   "source": [
    "# Specify the three options\n",
    "options = [\"r\", \"p\", \"s\"]"
   ]
  },
  {
   "cell_type": "code",
   "execution_count": 4,
   "id": "8d70a8e5",
   "metadata": {},
   "outputs": [
    {
     "name": "stdout",
     "output_type": "stream",
     "text": [
      "You chose rock, the computer chose paper\n",
      "sorry. you lose\n",
      "would like to play again?\n",
      "You chose paper. The computer chose rock.\n",
      "Yay! You won.\n",
      "would like to play again?\n"
     ]
    }
   ],
   "source": [
    "# Create a continuous loop so the user can play multiple rounds\n",
    "while True:\n",
    "    \n",
    "    # User Selection\n",
    "    user_choice = input(\"Make your Choice: (r)ock, (p)aper, (s)cissors? \")\n",
    "    # Check if the user selected a valid choice from the options list\n",
    "    if user_choice in options:\n",
    "        \n",
    "        # Generate the computer selection\n",
    "        computer_choice = random.choice(options)\n",
    "        \n",
    "        if user_choice=='r':\n",
    "            user_full_choice='rock'\n",
    "        elif user_choice=='p':\n",
    "            user_full_choice='paper'\n",
    "        else:\n",
    "            user_full_choice='scissors'\n",
    "            \n",
    "        if user_choice==computer_choice:\n",
    "            print(f\"You both chose {user_full_choice}\")\n",
    "        elif (user_choice=='r' and computer_choice=='p'):\n",
    "            print(\"You chose rock, the computer chose paper\")\n",
    "            print(\"sorry. you lose\")\n",
    "        elif (user_choice=='r' and computer_choice=='s'):\n",
    "            print(\"You chose rock, the computer chose Scissors\")\n",
    "            print(\"woot, you win\")  \n",
    "        # Check if the user picked paper and computer picked rock\n",
    "        elif (user_choice == \"p\" and computer_choice == \"r\"):\n",
    "            print(\"You chose paper. The computer chose rock.\")\n",
    "            print(\"Yay! You won.\")\n",
    "\n",
    "        # Check if the user picked scissors and computer picked paper\n",
    "        elif (user_choice == \"s\" and computer_choice == \"p\"):\n",
    "            print(\"You chose scissors. The computer chose paper.\")\n",
    "            print(\"Yay! You won.\")\n",
    "\n",
    "        # Check if the user picked scissors and computer picked rock\n",
    "        elif (user_choice == \"s\" and computer_choice == \"r\"):\n",
    "            print(\"You chose scissors. The computer chose rock.\")\n",
    "            print(\"Sorry. You lose.\")     \n",
    "            \n",
    "        print(\"would like to play again?\") \n",
    "        play_again=input(\"Type (y) if yes\")\n",
    "        \n",
    "        if play_again.lower()!='y':\n",
    "            break\n",
    "    else:\n",
    "        print(\"I dont unserstand.  Next time choose r p or s\")"
   ]
  },
  {
   "cell_type": "code",
   "execution_count": null,
   "id": "4af04444",
   "metadata": {},
   "outputs": [],
   "source": [
    "        # Create a variable called user_full_choice to hold the text of the \n",
    "        # full word for the user's choice by using a conditional\n",
    "        "
   ]
  },
  {
   "cell_type": "code",
   "execution_count": null,
   "id": "94e91d87",
   "metadata": {},
   "outputs": [],
   "source": [
    "        # Run Conditionals to determine the result"
   ]
  },
  {
   "cell_type": "code",
   "execution_count": null,
   "id": "6243cb7d",
   "metadata": {},
   "outputs": [],
   "source": [
    "        # First check if there is a tie\n",
    "        \n",
    "            print(f\"You both chose {user_full_choice}!\")\n",
    "            print(\"A smashing tie!\")\n",
    "        \n",
    "        # Check if the user picked rock and computer picked paper\n",
    "        \n",
    "            print(\"You chose rock. The computer chose paper.\")\n",
    "            print(\"Sorry. You lose.\")"
   ]
  },
  {
   "cell_type": "code",
   "execution_count": null,
   "id": "efe341ba",
   "metadata": {},
   "outputs": [],
   "source": [
    "        # Check if the user picked rock and computer picked scissors\n",
    "        \n",
    "            print(\"You chose rock. The computer chose scissors.\")\n",
    "            print(\"Yay! You won.\")"
   ]
  },
  {
   "cell_type": "code",
   "execution_count": null,
   "id": "3890b792",
   "metadata": {},
   "outputs": [],
   "source": [
    "        # Check if the user picked paper and computer picked scissors\n",
    "        \n",
    "            print(\"You chose paper. The computer chose scissors.\")\n",
    "            print(\"Sorry. You lose.\")"
   ]
  },
  {
   "cell_type": "code",
   "execution_count": null,
   "id": "6b39613d",
   "metadata": {},
   "outputs": [],
   "source": [
    "        # Check if the user picked paper and computer picked rock\n",
    "        \n",
    "            print(\"You chose paper. The computer chose rock.\")\n",
    "            print(\"Yay! You won.\")"
   ]
  },
  {
   "cell_type": "code",
   "execution_count": null,
   "id": "6abeb0a0",
   "metadata": {},
   "outputs": [],
   "source": [
    "        # Check if the user picked scissors and computer picked paper\n",
    "        \n",
    "            print(\"You chose scissors. The computer chose paper.\")\n",
    "            print(\"Yay! You won.\")"
   ]
  },
  {
   "cell_type": "code",
   "execution_count": null,
   "id": "60b37b74",
   "metadata": {},
   "outputs": [],
   "source": [
    "        # Check if the user picked scissors and computer picked rock\n",
    "        \n",
    "            print(\"You chose scissors. The computer chose rock.\")\n",
    "            print(\"Sorry. You lose.\")"
   ]
  },
  {
   "cell_type": "code",
   "execution_count": null,
   "id": "b156c525",
   "metadata": {},
   "outputs": [],
   "source": [
    "        # Ask the user if they would like to play again and save the answer as \n",
    "        # a variable\n",
    "        "
   ]
  },
  {
   "cell_type": "code",
   "execution_count": null,
   "id": "b782e945",
   "metadata": {},
   "outputs": [],
   "source": [
    "        # If the user's answer is not \"y\" or \"Y\", break from the loop\n",
    "        \n",
    "    # Print an error if the user didn't select a valid choice\n",
    "    else:\n",
    "        print(\"I don't understand that!\")\n",
    "        print(\"Next time, choose from 'r', 'p', or 's'.\")"
   ]
  },
  {
   "cell_type": "code",
   "execution_count": null,
   "id": "dc4d0817",
   "metadata": {},
   "outputs": [],
   "source": [
    "# Say goodbye if the loop has been exited\n",
    "print(\"Thank you for playing Rock Paper Scissors. See you next time!\")"
   ]
  }
 ],
 "metadata": {
  "kernelspec": {
   "display_name": "base",
   "language": "python",
   "name": "python3"
  },
  "language_info": {
   "codemirror_mode": {
    "name": "ipython",
    "version": 3
   },
   "file_extension": ".py",
   "mimetype": "text/x-python",
   "name": "python",
   "nbconvert_exporter": "python",
   "pygments_lexer": "ipython3",
   "version": "3.11.5"
  }
 },
 "nbformat": 4,
 "nbformat_minor": 5
}
