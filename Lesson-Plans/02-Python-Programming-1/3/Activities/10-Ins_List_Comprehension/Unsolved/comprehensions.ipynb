{
 "cells": [
  {
   "cell_type": "code",
   "execution_count": null,
   "id": "35f91b45",
   "metadata": {},
   "outputs": [],
   "source": [
    "fish = \"halibut\""
   ]
  },
  {
   "cell_type": "code",
   "execution_count": null,
   "id": "a517224e",
   "metadata": {},
   "outputs": [],
   "source": [
    "# Loop through each letter in the string and push to an array\n",
    "letters = []\n",
    "for letter in fish:\n",
    "    letters.append(letter)"
   ]
  },
  {
   "cell_type": "code",
   "execution_count": null,
   "id": "bf8e8277",
   "metadata": {},
   "outputs": [],
   "source": [
    "print(letters)"
   ]
  },
  {
   "cell_type": "code",
   "execution_count": null,
   "id": "a3bd7485",
   "metadata": {},
   "outputs": [],
   "source": [
    "# List comprehensions provide concise syntax for creating lists"
   ]
  },
  {
   "cell_type": "code",
   "execution_count": null,
   "id": "afc93272",
   "metadata": {},
   "outputs": [],
   "source": [
    "\n",
    "# We can manipulate each element as we go\n",
    "capital_letters = []\n",
    "for letter in fish:\n",
    "    capital_letters.append(letter.upper())"
   ]
  },
  {
   "cell_type": "code",
   "execution_count": null,
   "id": "1964ab21",
   "metadata": {},
   "outputs": [],
   "source": [
    "print(capital_letters)"
   ]
  },
  {
   "cell_type": "code",
   "execution_count": null,
   "id": "79567f5b",
   "metadata": {},
   "outputs": [],
   "source": [
    "# List comprehension for the above"
   ]
  },
  {
   "cell_type": "code",
   "execution_count": null,
   "id": "c821a030",
   "metadata": {},
   "outputs": [],
   "source": [
    "\n",
    "# We can also add conditional logic (if statements) to a list comprehension\n",
    "july_temperatures = [87, 85, 92, 79, 106]\n",
    "hot_days = []\n",
    "for temperature in july_temperatures:\n",
    "    if temperature > 90:\n",
    "        hot_days.append(temperature)\n",
    "print(hot_days)"
   ]
  },
  {
   "cell_type": "code",
   "execution_count": null,
   "id": "eab0b3dc",
   "metadata": {},
   "outputs": [],
   "source": [
    "# List comprehension with conditional"
   ]
  },
  {
   "cell_type": "code",
   "execution_count": null,
   "id": "f9d808db",
   "metadata": {},
   "outputs": [],
   "source": [
    "\n",
    "# We can also perform calculations in a list comprehension\n",
    "circle_radii = [2.4, 4.5, 6.2, 7.6, 10.5]\n",
    "diameters = []\n",
    "pi = 3.14159265358979323846\n",
    "for radius in circle_radii:\n",
    "    diameters.append(2 * pi * radius)\n",
    "print(diameters)"
   ]
  },
  {
   "cell_type": "code",
   "execution_count": null,
   "id": "733521f4",
   "metadata": {},
   "outputs": [],
   "source": [
    "# List comprehension for the calculation"
   ]
  },
  {
   "cell_type": "code",
   "execution_count": null,
   "id": "38f520f8",
   "metadata": {},
   "outputs": [],
   "source": [
    "\n",
    "# It's even possible to perform list functions on a list comprehension\n",
    "# Let's find the maximum diameter from our list of radii"
   ]
  },
  {
   "cell_type": "code",
   "execution_count": null,
   "id": "6f6dc291",
   "metadata": {},
   "outputs": [],
   "source": []
  }
 ],
 "metadata": {},
 "nbformat": 4,
 "nbformat_minor": 5
}
