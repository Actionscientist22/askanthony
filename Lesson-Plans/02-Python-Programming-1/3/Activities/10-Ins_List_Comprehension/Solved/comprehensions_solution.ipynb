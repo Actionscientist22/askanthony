{
 "cells": [
  {
   "cell_type": "code",
   "execution_count": null,
   "id": "c3c3250c",
   "metadata": {},
   "outputs": [],
   "source": [
    "fish = \"halibut\""
   ]
  },
  {
   "cell_type": "code",
   "execution_count": null,
   "id": "690cbd3b",
   "metadata": {},
   "outputs": [],
   "source": [
    "# Loop through each letter in the string and push to an array\n",
    "letters = []\n",
    "for letter in fish:\n",
    "    letters.append(letter)"
   ]
  },
  {
   "cell_type": "code",
   "execution_count": null,
   "id": "36a0f124",
   "metadata": {},
   "outputs": [],
   "source": [
    "print(letters)"
   ]
  },
  {
   "cell_type": "code",
   "execution_count": null,
   "id": "cbdbb08f",
   "metadata": {},
   "outputs": [],
   "source": [
    "# List comprehensions provide concise syntax for creating lists\n",
    "letters = [letter for letter in fish]"
   ]
  },
  {
   "cell_type": "code",
   "execution_count": null,
   "id": "5c963a60",
   "metadata": {},
   "outputs": [],
   "source": [
    "print(letters)"
   ]
  },
  {
   "cell_type": "code",
   "execution_count": null,
   "id": "7d59e238",
   "metadata": {},
   "outputs": [],
   "source": [
    "# We can manipulate each element as we go\n",
    "capital_letters = []\n",
    "for letter in fish:\n",
    "    capital_letters.append(letter.upper())"
   ]
  },
  {
   "cell_type": "code",
   "execution_count": null,
   "id": "3c96b7c5",
   "metadata": {},
   "outputs": [],
   "source": [
    "print(capital_letters)"
   ]
  },
  {
   "cell_type": "code",
   "execution_count": null,
   "id": "6db8e177",
   "metadata": {},
   "outputs": [],
   "source": [
    "# List comprehension for the above\n",
    "capital_letters = [letter.upper() for letter in fish]"
   ]
  },
  {
   "cell_type": "code",
   "execution_count": null,
   "id": "1ea8486d",
   "metadata": {},
   "outputs": [],
   "source": [
    "print(capital_letters)"
   ]
  },
  {
   "cell_type": "code",
   "execution_count": null,
   "id": "2b17f78b",
   "metadata": {},
   "outputs": [],
   "source": [
    "# We can also add conditional logic (if statements) to a list comprehension\n",
    "july_temperatures = [87, 85, 92, 79, 106]\n",
    "hot_days = []\n",
    "for temperature in july_temperatures:\n",
    "    if temperature > 90:\n",
    "        hot_days.append(temperature)\n",
    "print(hot_days)"
   ]
  },
  {
   "cell_type": "code",
   "execution_count": null,
   "id": "661d3495",
   "metadata": {},
   "outputs": [],
   "source": [
    "# List comprehension with conditional\n",
    "hot_days = [temperature for temperature in july_temperatures if temperature > 90]"
   ]
  },
  {
   "cell_type": "code",
   "execution_count": null,
   "id": "68ef0230",
   "metadata": {},
   "outputs": [],
   "source": [
    "print(hot_days)"
   ]
  },
  {
   "cell_type": "code",
   "execution_count": null,
   "id": "22abc818",
   "metadata": {},
   "outputs": [],
   "source": [
    "# We can also perform calculations in a list comprehension\n",
    "circle_radii = [2.4, 4.5, 6.2, 7.6, 10.5]\n",
    "diameters = []\n",
    "pi = 3.14159265358979323846\n",
    "for radius in circle_radii:\n",
    "    diameters.append(2 * pi * radius)\n",
    "print(diameters)"
   ]
  },
  {
   "cell_type": "code",
   "execution_count": null,
   "id": "11543d5c",
   "metadata": {},
   "outputs": [],
   "source": [
    "# List comprehension for the calculation\n",
    "diameters = [2 * pi * radius for radius in circle_radii]\n",
    "print(diameters)"
   ]
  },
  {
   "cell_type": "code",
   "execution_count": null,
   "id": "32359a76",
   "metadata": {},
   "outputs": [],
   "source": [
    "# It's even possible to perform list functions on a list comprehension\n",
    "# Let's find the maximum diameter from our list of radii\n",
    "max_diameter = max([2 * pi * radius for radius in circle_radii])\n",
    "print(max_diameter)\n"
   ]
  }
 ],
 "metadata": {},
 "nbformat": 4,
 "nbformat_minor": 5
}
