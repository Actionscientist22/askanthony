{
 "cells": [
  {
   "cell_type": "code",
   "execution_count": null,
   "id": "20950da1",
   "metadata": {},
   "outputs": [],
   "source": [
    "# Menu dictionary\n",
    "menu = {\n",
    "    \"Snacks\": {\n",
    "        \"Cookie\": .99,\n",
    "        \"Banana\": .69,\n",
    "        \"Apple\": .49,\n",
    "        \"Granola bar\": 1.99\n",
    "    },\n",
    "    \"Meals\": {\n",
    "        \"Burrito\": 4.49,\n",
    "        \"Teriyaki Chicken\": 9.99,\n",
    "        \"Sushi\": 7.49,\n",
    "        \"Pad Thai\": 6.99,\n",
    "        \"Pizza\": {\n",
    "            \"Cheese\": 8.99,\n",
    "            \"Pepperoni\": 10.99,\n",
    "            \"Vegetarian\": 9.99\n",
    "        },\n",
    "        \"Burger\": {\n",
    "            \"Chicken\": 7.49,\n",
    "            \"Beef\": 8.49\n",
    "        }\n",
    "    },\n",
    "    \"Drinks\": {\n",
    "        \"Soda\": {\n",
    "            \"Small\": 1.99,\n",
    "            \"Medium\": 2.49,\n",
    "            \"Large\": 2.99\n",
    "        },\n",
    "        \"Tea\": {\n",
    "            \"Green\": 2.49,\n",
    "            \"Thai iced\": 3.99,\n",
    "            \"Irish breakfast\": 2.49\n",
    "        },\n",
    "        \"Coffee\": {\n",
    "            \"Espresso\": 2.99,\n",
    "            \"Flat white\": 2.99,\n",
    "            \"Iced\": 3.49\n",
    "        }\n",
    "    },\n",
    "    \"Dessert\": {\n",
    "        \"Chocolate lava cake\": 10.99,\n",
    "        \"Cheesecake\": {\n",
    "            \"New York\": 4.99,\n",
    "            \"Strawberry\": 6.49\n",
    "        },\n",
    "        \"Australian Pavlova\": 9.99,\n",
    "        \"Rice pudding\": 4.99,\n",
    "        \"Fried banana\": 4.49\n",
    "    }\n",
    "}"
   ]
  },
  {
   "cell_type": "code",
   "execution_count": null,
   "id": "3d1ba9ff",
   "metadata": {},
   "outputs": [],
   "source": [
    "menu_dashes = \"-\" * 42"
   ]
  },
  {
   "cell_type": "code",
   "execution_count": null,
   "id": "3c40f33b",
   "metadata": {},
   "outputs": [],
   "source": [
    "# Launch the store and present a greeting to the customer\n",
    "print(\"Welcome to the variety food truck.\")"
   ]
  },
  {
   "cell_type": "code",
   "execution_count": null,
   "id": "b13e827f",
   "metadata": {},
   "outputs": [],
   "source": [
    "# Customers may want to view different sections of the menu, so let's create a \n",
    "# continuous loop\n",
    "while True:\n",
    "    # Ask the customer which menu category they want to view\n",
    "    print(\"Which menu would you like to view? \")"
   ]
  },
  {
   "cell_type": "code",
   "execution_count": null,
   "id": "b1400d7f",
   "metadata": {},
   "outputs": [],
   "source": [
    "    # Create a variable for the menu item number\n",
    "    i = 1\n",
    "    # Create a dictionary to store the menu for later retrieval \n",
    "    menu_items = {}"
   ]
  },
  {
   "cell_type": "code",
   "execution_count": null,
   "id": "052adbf5",
   "metadata": {},
   "outputs": [],
   "source": [
    "    # Print the options to choose from menu headings (all the first level \n",
    "    # dictionary items in menu)."
   ]
  },
  {
   "cell_type": "code",
   "execution_count": null,
   "id": "5dcc7e4c",
   "metadata": {},
   "outputs": [],
   "source": [
    "\n",
    "        # Store the menu category associated with its menu item number"
   ]
  },
  {
   "cell_type": "code",
   "execution_count": null,
   "id": "95fe783e",
   "metadata": {},
   "outputs": [],
   "source": [
    "        # Add 1 to the menu item number"
   ]
  },
  {
   "cell_type": "code",
   "execution_count": null,
   "id": "6e32f894",
   "metadata": {},
   "outputs": [],
   "source": [
    "\n",
    "    # Get the customer's input\n",
    "    menu_category = input(\"Type menu number to view or q to quit: \")"
   ]
  },
  {
   "cell_type": "code",
   "execution_count": null,
   "id": "9ee4b7c1",
   "metadata": {},
   "outputs": [],
   "source": [
    "    # Exit the loop if user typed 'q'\n",
    "    if menu_category == 'q':\n",
    "        break\n",
    "    # Check if the customer's input is a number\n",
    "    elif menu_category.isdigit():\n",
    "        # Check if the customer's input is a valid option\n",
    "        if int(menu_category) in menu_items.keys():\n",
    "            # Save the menu category name to a variable"
   ]
  },
  {
   "cell_type": "code",
   "execution_count": null,
   "id": "fc17dea4",
   "metadata": {},
   "outputs": [],
   "source": [
    "            # Print out the menu category name they selected\n",
    "            print(f\"You selected {menu_category_name}\")"
   ]
  },
  {
   "cell_type": "code",
   "execution_count": null,
   "id": "2ec32a8d",
   "metadata": {},
   "outputs": [],
   "source": [
    "            # Display the heading for the sub-menu\n",
    "            print(menu_dashes)\n",
    "            print(f\"This is the {menu_category_name} menu.\")\n",
    "            print(menu_dashes)\n",
    "            print(\"Item # | Item name                | Price\")\n",
    "            print(\"-------|--------------------------|-------\")"
   ]
  },
  {
   "cell_type": "code",
   "execution_count": null,
   "id": "d927a362",
   "metadata": {},
   "outputs": [],
   "source": [
    "            # Initialize a menu item counter\n",
    "            item_counter = 1\n",
    "            # Print out the menu options from the menu_category_name"
   ]
  },
  {
   "cell_type": "code",
   "execution_count": null,
   "id": "068ad2eb",
   "metadata": {},
   "outputs": [],
   "source": [
    "                # Check if the menu item is a dictionary to handle differently"
   ]
  },
  {
   "cell_type": "code",
   "execution_count": null,
   "id": "80a3cd80",
   "metadata": {},
   "outputs": [],
   "source": [
    "                    # Iterate through the dictionary items"
   ]
  },
  {
   "cell_type": "code",
   "execution_count": null,
   "id": "44d21802",
   "metadata": {},
   "outputs": [],
   "source": [
    "                        # Print the menu item"
   ]
  },
  {
   "cell_type": "code",
   "execution_count": null,
   "id": "cb09f716",
   "metadata": {},
   "outputs": [],
   "source": [
    "                        # Add 1 to the item_counter"
   ]
  },
  {
   "cell_type": "code",
   "execution_count": null,
   "id": "9b52dace",
   "metadata": {},
   "outputs": [],
   "source": [
    "                # Else the menu item is not a dictionary"
   ]
  },
  {
   "cell_type": "code",
   "execution_count": null,
   "id": "5fd669c3",
   "metadata": {},
   "outputs": [],
   "source": [
    "                    # Print the menu item"
   ]
  },
  {
   "cell_type": "code",
   "execution_count": null,
   "id": "dd38ce44",
   "metadata": {},
   "outputs": [],
   "source": [
    "                    # Add 1 to the item_counter"
   ]
  },
  {
   "cell_type": "code",
   "execution_count": null,
   "id": "44e4215d",
   "metadata": {},
   "outputs": [],
   "source": [
    "            \n",
    "            print(menu_dashes)\n",
    "            input(\"Press enter to return to the main menu.\")"
   ]
  },
  {
   "cell_type": "code",
   "execution_count": null,
   "id": "22d4e347",
   "metadata": {},
   "outputs": [],
   "source": [
    "        else:\n",
    "            # Tell the customer they didn't select a menu option\n",
    "            print(f\"{menu_category} was not a menu option.\")\n",
    "    else:\n",
    "        # Tell the customer they didn't select a number\n",
    "        print(\"You didn't select a number.\")\n"
   ]
  }
 ],
 "metadata": {},
 "nbformat": 4,
 "nbformat_minor": 5
}
