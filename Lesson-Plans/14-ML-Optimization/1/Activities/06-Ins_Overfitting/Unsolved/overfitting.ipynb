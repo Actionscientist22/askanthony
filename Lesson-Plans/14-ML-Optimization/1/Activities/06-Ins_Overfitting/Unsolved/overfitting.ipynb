{
 "cells": [
  {
   "cell_type": "code",
   "execution_count": 1,
   "metadata": {},
   "outputs": [
    {
     "name": "stdout",
     "output_type": "stream",
     "text": [
      "<class 'pandas.core.frame.DataFrame'>\n",
      "RangeIndex: 29332 entries, 0 to 29331\n",
      "Data columns (total 87 columns):\n",
      " #   Column                                                                         Non-Null Count  Dtype\n",
      "---  ------                                                                         --------------  -----\n",
      " 0   android.permission.GET_ACCOUNTS                                                29332 non-null  int64\n",
      " 1   com.sonyericsson.home.permission.BROADCAST_BADGE                               29332 non-null  int64\n",
      " 2   android.permission.READ_PROFILE                                                29332 non-null  int64\n",
      " 3   android.permission.MANAGE_ACCOUNTS                                             29332 non-null  int64\n",
      " 4   android.permission.WRITE_SYNC_SETTINGS                                         29332 non-null  int64\n",
      " 5   android.permission.READ_EXTERNAL_STORAGE                                       29332 non-null  int64\n",
      " 6   android.permission.RECEIVE_SMS                                                 29332 non-null  int64\n",
      " 7   com.android.launcher.permission.READ_SETTINGS                                  29332 non-null  int64\n",
      " 8   android.permission.WRITE_SETTINGS                                              29332 non-null  int64\n",
      " 9   com.google.android.providers.gsf.permission.READ_GSERVICES                     29332 non-null  int64\n",
      " 10  android.permission.DOWNLOAD_WITHOUT_NOTIFICATION                               29332 non-null  int64\n",
      " 11  android.permission.GET_TASKS                                                   29332 non-null  int64\n",
      " 12  android.permission.WRITE_EXTERNAL_STORAGE                                      29332 non-null  int64\n",
      " 13  android.permission.RECORD_AUDIO                                                29332 non-null  int64\n",
      " 14  com.huawei.android.launcher.permission.CHANGE_BADGE                            29332 non-null  int64\n",
      " 15  com.oppo.launcher.permission.READ_SETTINGS                                     29332 non-null  int64\n",
      " 16  android.permission.CHANGE_NETWORK_STATE                                        29332 non-null  int64\n",
      " 17  com.android.launcher.permission.INSTALL_SHORTCUT                               29332 non-null  int64\n",
      " 18  android.permission.android.permission.READ_PHONE_STATE                         29332 non-null  int64\n",
      " 19  android.permission.CALL_PHONE                                                  29332 non-null  int64\n",
      " 20  android.permission.WRITE_CONTACTS                                              29332 non-null  int64\n",
      " 21  android.permission.READ_PHONE_STATE                                            29332 non-null  int64\n",
      " 22  com.samsung.android.providers.context.permission.WRITE_USE_APP_FEATURE_SURVEY  29332 non-null  int64\n",
      " 23  android.permission.MODIFY_AUDIO_SETTINGS                                       29332 non-null  int64\n",
      " 24  android.permission.ACCESS_LOCATION_EXTRA_COMMANDS                              29332 non-null  int64\n",
      " 25  android.permission.INTERNET                                                    29332 non-null  int64\n",
      " 26  android.permission.MOUNT_UNMOUNT_FILESYSTEMS                                   29332 non-null  int64\n",
      " 27  com.majeur.launcher.permission.UPDATE_BADGE                                    29332 non-null  int64\n",
      " 28  android.permission.AUTHENTICATE_ACCOUNTS                                       29332 non-null  int64\n",
      " 29  com.htc.launcher.permission.READ_SETTINGS                                      29332 non-null  int64\n",
      " 30  android.permission.ACCESS_WIFI_STATE                                           29332 non-null  int64\n",
      " 31  android.permission.FLASHLIGHT                                                  29332 non-null  int64\n",
      " 32  android.permission.READ_APP_BADGE                                              29332 non-null  int64\n",
      " 33  android.permission.USE_CREDENTIALS                                             29332 non-null  int64\n",
      " 34  android.permission.CHANGE_CONFIGURATION                                        29332 non-null  int64\n",
      " 35  android.permission.READ_SYNC_SETTINGS                                          29332 non-null  int64\n",
      " 36  android.permission.BROADCAST_STICKY                                            29332 non-null  int64\n",
      " 37  com.anddoes.launcher.permission.UPDATE_COUNT                                   29332 non-null  int64\n",
      " 38  com.android.alarm.permission.SET_ALARM                                         29332 non-null  int64\n",
      " 39  com.google.android.c2dm.permission.RECEIVE                                     29332 non-null  int64\n",
      " 40  android.permission.KILL_BACKGROUND_PROCESSES                                   29332 non-null  int64\n",
      " 41  com.sonymobile.home.permission.PROVIDER_INSERT_BADGE                           29332 non-null  int64\n",
      " 42  com.sec.android.provider.badge.permission.READ                                 29332 non-null  int64\n",
      " 43  android.permission.WRITE_CALENDAR                                              29332 non-null  int64\n",
      " 44  android.permission.SEND_SMS                                                    29332 non-null  int64\n",
      " 45  com.huawei.android.launcher.permission.WRITE_SETTINGS                          29332 non-null  int64\n",
      " 46  android.permission.REQUEST_INSTALL_PACKAGES                                    29332 non-null  int64\n",
      " 47  android.permission.SET_WALLPAPER_HINTS                                         29332 non-null  int64\n",
      " 48  android.permission.SET_WALLPAPER                                               29332 non-null  int64\n",
      " 49  com.oppo.launcher.permission.WRITE_SETTINGS                                    29332 non-null  int64\n",
      " 50  android.permission.RESTART_PACKAGES                                            29332 non-null  int64\n",
      " 51  me.everything.badger.permission.BADGE_COUNT_WRITE                              29332 non-null  int64\n",
      " 52  android.permission.ACCESS_MOCK_LOCATION                                        29332 non-null  int64\n",
      " 53  android.permission.ACCESS_COARSE_LOCATION                                      29332 non-null  int64\n",
      " 54  android.permission.READ_LOGS                                                   29332 non-null  int64\n",
      " 55  com.google.android.gms.permission.ACTIVITY_RECOGNITION                         29332 non-null  int64\n",
      " 56  com.amazon.device.messaging.permission.RECEIVE                                 29332 non-null  int64\n",
      " 57  android.permission.SYSTEM_ALERT_WINDOW                                         29332 non-null  int64\n",
      " 58  android.permission.DISABLE_KEYGUARD                                            29332 non-null  int64\n",
      " 59  android.permission.USE_FINGERPRINT                                             29332 non-null  int64\n",
      " 60  me.everything.badger.permission.BADGE_COUNT_READ                               29332 non-null  int64\n",
      " 61  android.permission.CHANGE_WIFI_STATE                                           29332 non-null  int64\n",
      " 62  android.permission.READ_CONTACTS                                               29332 non-null  int64\n",
      " 63  com.android.vending.BILLING                                                    29332 non-null  int64\n",
      " 64  android.permission.READ_CALENDAR                                               29332 non-null  int64\n",
      " 65  android.permission.RECEIVE_BOOT_COMPLETED                                      29332 non-null  int64\n",
      " 66  android.permission.WAKE_LOCK                                                   29332 non-null  int64\n",
      " 67  android.permission.ACCESS_FINE_LOCATION                                        29332 non-null  int64\n",
      " 68  android.permission.BLUETOOTH                                                   29332 non-null  int64\n",
      " 69  android.permission.CAMERA                                                      29332 non-null  int64\n",
      " 70  com.android.vending.CHECK_LICENSE                                              29332 non-null  int64\n",
      " 71  android.permission.FOREGROUND_SERVICE                                          29332 non-null  int64\n",
      " 72  android.permission.BLUETOOTH_ADMIN                                             29332 non-null  int64\n",
      " 73  android.permission.VIBRATE                                                     29332 non-null  int64\n",
      " 74  android.permission.NFC                                                         29332 non-null  int64\n",
      " 75  android.permission.RECEIVE_USER_PRESENT                                        29332 non-null  int64\n",
      " 76  android.permission.CLEAR_APP_CACHE                                             29332 non-null  int64\n",
      " 77  com.android.launcher.permission.UNINSTALL_SHORTCUT                             29332 non-null  int64\n",
      " 78  com.sec.android.iap.permission.BILLING                                         29332 non-null  int64\n",
      " 79  com.htc.launcher.permission.UPDATE_SHORTCUT                                    29332 non-null  int64\n",
      " 80  com.sec.android.provider.badge.permission.WRITE                                29332 non-null  int64\n",
      " 81  android.permission.ACCESS_NETWORK_STATE                                        29332 non-null  int64\n",
      " 82  com.google.android.finsky.permission.BIND_GET_INSTALL_REFERRER_SERVICE         29332 non-null  int64\n",
      " 83  com.huawei.android.launcher.permission.READ_SETTINGS                           29332 non-null  int64\n",
      " 84  android.permission.READ_SMS                                                    29332 non-null  int64\n",
      " 85  android.permission.PROCESS_INCOMING_CALLS                                      29332 non-null  int64\n",
      " 86  Result                                                                         29332 non-null  int64\n",
      "dtypes: int64(87)\n",
      "memory usage: 19.5 MB\n"
     ]
    }
   ],
   "source": [
    "import pandas as pd\n",
    "from sklearn.model_selection import train_test_split\n",
    "from sklearn.ensemble import RandomForestClassifier\n",
    "\n",
    "# Import the data\n",
    "df = pd.read_csv(\"https://static.bc-edx.com/ai/ail-v-1-0/m14/lesson_1/datasets/app-data.csv\")\n",
    "df.info()"
   ]
  },
  {
   "cell_type": "code",
   "execution_count": 2,
   "metadata": {},
   "outputs": [],
   "source": [
    "# Create an X and y variable\n",
    "X = df.drop(columns=['Result'])\n",
    "y = df['Result']\n",
    "\n",
    "# Split the data into training and testing sets\n"
   ]
  },
  {
   "cell_type": "code",
   "execution_count": 3,
   "metadata": {},
   "outputs": [
    {
     "data": {
      "text/plain": [
       "0.9697258966316651"
      ]
     },
     "execution_count": 3,
     "metadata": {},
     "output_type": "execute_result"
    }
   ],
   "source": [
    "# Create a Random Forest model\n",
    "\n",
    "\n",
    "# Fit (train) or model using the training data\n",
    "\n",
    "\n",
    "# Calculate the accuracy of the model on the testing data\n"
   ]
  },
  {
   "cell_type": "code",
   "execution_count": 4,
   "metadata": {
    "scrolled": true
   },
   "outputs": [
    {
     "data": {
      "text/plain": [
       "0.9826355743442884"
      ]
     },
     "execution_count": 4,
     "metadata": {},
     "output_type": "execute_result"
    }
   ],
   "source": [
    "# Calculate the accuracy of the model on the training data\n"
   ]
  },
  {
   "cell_type": "code",
   "execution_count": 5,
   "metadata": {},
   "outputs": [],
   "source": [
    "# Create a loop to vary the max_depth parameter\n",
    "# Make sure to record the train and test scores \n",
    "# for each pass.\n",
    "\n",
    "# Depths should span from 1 up to 40 in steps of 2\n",
    "\n",
    "\n",
    "# The scores dataframe will hold depths and scores\n",
    "# to make plotting easy\n",
    "\n",
    "\n",
    "# Loop through each depth (this will take time to run)\n",
    "\n",
    "\n",
    "# Create a dataframe from the scores dictionary and\n",
    "# set the index to depth\n",
    "\n",
    "\n",
    "\n"
   ]
  },
  {
   "cell_type": "code",
   "execution_count": 6,
   "metadata": {},
   "outputs": [
    {
     "data": {
      "text/plain": [
       "<Axes: xlabel='depth'>"
      ]
     },
     "execution_count": 6,
     "metadata": {},
     "output_type": "execute_result"
    },
    {
     "data": {
      "image/png": "[encoded data removed]",
      "text/plain": [
       "<Figure size 640x480 with 1 Axes>"
      ]
     },
     "metadata": {},
     "output_type": "display_data"
    }
   ],
   "source": [
    "# Plot the scores dataframe with the plot method\n"
   ]
  },
  {
   "cell_type": "code",
   "execution_count": null,
   "metadata": {},
   "outputs": [],
   "source": []
  }
 ],
 "metadata": {
  "file_extension": ".py",
  "kernelspec": {
   "display_name": "Python 3 (ipykernel)",
   "language": "python",
   "name": "python3"
  },
  "language_info": {
   "codemirror_mode": {
    "name": "ipython",
    "version": 3
   },
   "file_extension": ".py",
   "mimetype": "text/x-python",
   "name": "python",
   "nbconvert_exporter": "python",
   "pygments_lexer": "ipython3",
   "version": "3.9.17"
  },
  "mimetype": "text/x-python",
  "name": "python",
  "npconvert_exporter": "python",
  "pygments_lexer": "ipython3",
  "version": 3
 },
 "nbformat": 4,
 "nbformat_minor": 4
}
